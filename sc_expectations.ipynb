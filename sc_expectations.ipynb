{
 "cells": [
  {
   "cell_type": "code",
   "execution_count": 70,
   "id": "f062ddd6-33b3-4636-9177-d9e9994fd709",
   "metadata": {},
   "outputs": [],
   "source": [
    "import pandas as pd\n",
    "import os\n",
    "import optuna\n",
    "import numpy as np"
   ]
  },
  {
   "cell_type": "code",
   "execution_count": 71,
   "id": "df9fbb2f-dab0-4a2e-a187-6ebaf9ca8df0",
   "metadata": {},
   "outputs": [],
   "source": [
    "folder = \"/mnt/c/SierraChart/Data\"\n",
    "file = \"lsc-01-volumebars-350.txt\"\n",
    "\n",
    "fn = os.path.join(folder, file)"
   ]
  },

  {
   "cell_type": "code",
   "execution_count": 72,
   "id": "4ad1d363",
   "metadata": {},
   "outputs": [
    {
     "data": {
      "text/html": [
       "<div>\n",
       "<style scoped>\n",
       "    .dataframe tbody tr th:only-of-type {\n",
       "        vertical-align: middle;\n",
       "    }\n",
       "\n",
       "    .dataframe tbody tr th {\n",
       "        vertical-align: top;\n",
       "    }\n",
       "\n",
       "    .dataframe thead th {\n",
       "        text-align: right;\n",
       "    }\n",
       "</style>\n",
       "<table border=\"1\" class=\"dataframe\">\n",
       "  <thead>\n",
       "    <tr style=\"text-align: right;\">\n",
       "      <th></th>\n",
       "      <th>1111</th>\n",
       "      <th>1112</th>\n",
       "      <th>1113</th>\n",
       "      <th>1114</th>\n",
       "      <th>1115</th>\n",
       "    </tr>\n",
       "  </thead>\n",
       "  <tbody>\n",
       "    <tr>\n",
       "      <th>Date</th>\n",
       "      <td>2022/11/1</td>\n",
       "      <td>2022/11/1</td>\n",
       "      <td>2022/11/1</td>\n",
       "      <td>2022/11/1</td>\n",
       "      <td>2022/11/1</td>\n",
       "    </tr>\n",
       "    <tr>\n",
       "      <th>Time</th>\n",
       "      <td>14:12:40.433</td>\n",
       "      <td>14:28:36.909</td>\n",
       "      <td>14:56:25.721</td>\n",
       "      <td>15:31:18.338</td>\n",
       "      <td>17:26:38.862</td>\n",
       "    </tr>\n",
       "    <tr>\n",
       "      <th>Open</th>\n",
       "      <td>87.28</td>\n",
       "      <td>87.04</td>\n",
       "      <td>87.15</td>\n",
       "      <td>87.28</td>\n",
       "      <td>87.55</td>\n",
       "    </tr>\n",
       "    <tr>\n",
       "      <th>High</th>\n",
       "      <td>87.3</td>\n",
       "      <td>87.18</td>\n",
       "      <td>87.31</td>\n",
       "      <td>87.64</td>\n",
       "      <td>87.69</td>\n",
       "    </tr>\n",
       "    <tr>\n",
       "      <th>Low</th>\n",
       "      <td>87.04</td>\n",
       "      <td>87.0</td>\n",
       "      <td>87.03</td>\n",
       "      <td>87.18</td>\n",
       "      <td>87.54</td>\n",
       "    </tr>\n",
       "    <tr>\n",
       "      <th>Last</th>\n",
       "      <td>87.04</td>\n",
       "      <td>87.14</td>\n",
       "      <td>87.28</td>\n",
       "      <td>87.55</td>\n",
       "      <td>87.62</td>\n",
       "    </tr>\n",
       "    <tr>\n",
       "      <th>Volume</th>\n",
       "      <td>350</td>\n",
       "      <td>350</td>\n",
       "      <td>350</td>\n",
       "      <td>350</td>\n",
       "      <td>42</td>\n",
       "    </tr>\n",
       "    <tr>\n",
       "      <th># of Trades</th>\n",
       "      <td>283</td>\n",
       "      <td>302</td>\n",
       "      <td>243</td>\n",
       "      <td>220</td>\n",
       "      <td>22</td>\n",
       "    </tr>\n",
       "    <tr>\n",
       "      <th>OHLC Avg</th>\n",
       "      <td>87.17</td>\n",
       "      <td>87.09</td>\n",
       "      <td>87.19</td>\n",
       "      <td>87.41</td>\n",
       "      <td>87.6</td>\n",
       "    </tr>\n",
       "    <tr>\n",
       "      <th>HLC Avg</th>\n",
       "      <td>87.13</td>\n",
       "      <td>87.11</td>\n",
       "      <td>87.21</td>\n",
       "      <td>87.46</td>\n",
       "      <td>87.62</td>\n",
       "    </tr>\n",
       "    <tr>\n",
       "      <th>HL Avg</th>\n",
       "      <td>87.17</td>\n",
       "      <td>87.09</td>\n",
       "      <td>87.17</td>\n",
       "      <td>87.41</td>\n",
       "      <td>87.61</td>\n",
       "    </tr>\n",
       "    <tr>\n",
       "      <th>Bid Volume</th>\n",
       "      <td>228</td>\n",
       "      <td>178</td>\n",
       "      <td>194</td>\n",
       "      <td>114</td>\n",
       "      <td>13</td>\n",
       "    </tr>\n",
       "    <tr>\n",
       "      <th>Ask Volume</th>\n",
       "      <td>122</td>\n",
       "      <td>172</td>\n",
       "      <td>156</td>\n",
       "      <td>236</td>\n",
       "      <td>29</td>\n",
       "    </tr>\n",
       "    <tr>\n",
       "      <th>ADX</th>\n",
       "      <td>10.827</td>\n",
       "      <td>10.411</td>\n",
       "      <td>10.629</td>\n",
       "      <td>12.039</td>\n",
       "      <td>13.502</td>\n",
       "    </tr>\n",
       "    <tr>\n",
       "      <th>Buy</th>\n",
       "      <td>0.0</td>\n",
       "      <td>0.0</td>\n",
       "      <td>87.01</td>\n",
       "      <td>0.0</td>\n",
       "      <td>0.0</td>\n",
       "    </tr>\n",
       "    <tr>\n",
       "      <th>Sell</th>\n",
       "      <td>0.0</td>\n",
       "      <td>0.0</td>\n",
       "      <td>0.0</td>\n",
       "      <td>0.0</td>\n",
       "      <td>0.0</td>\n",
       "    </tr>\n",
       "    <tr>\n",
       "      <th>MACD</th>\n",
       "      <td>-0.071</td>\n",
       "      <td>-0.072</td>\n",
       "      <td>-0.052</td>\n",
       "      <td>-0.007</td>\n",
       "      <td>0.038</td>\n",
       "    </tr>\n",
       "    <tr>\n",
       "      <th>MA of MACD</th>\n",
       "      <td>-0.051</td>\n",
       "      <td>-0.059</td>\n",
       "      <td>-0.06</td>\n",
       "      <td>-0.049</td>\n",
       "      <td>-0.029</td>\n",
       "    </tr>\n",
       "    <tr>\n",
       "      <th>MACD Diff</th>\n",
       "      <td>-0.019</td>\n",
       "      <td>-0.013</td>\n",
       "      <td>0.008</td>\n",
       "      <td>0.042</td>\n",
       "      <td>0.067</td>\n",
       "    </tr>\n",
       "    <tr>\n",
       "      <th>Line</th>\n",
       "      <td>0.0</td>\n",
       "      <td>0.0</td>\n",
       "      <td>0.0</td>\n",
       "      <td>0.0</td>\n",
       "      <td>0.0</td>\n",
       "    </tr>\n",
       "    <tr>\n",
       "      <th>EOT</th>\n",
       "      <td>0.79</td>\n",
       "      <td>0.78</td>\n",
       "      <td>0.77</td>\n",
       "      <td>0.78</td>\n",
       "      <td>0.81</td>\n",
       "    </tr>\n",
       "    <tr>\n",
       "      <th>Null</th>\n",
       "      <td>0.0</td>\n",
       "      <td>0.0</td>\n",
       "      <td>0.0</td>\n",
       "      <td>0.0</td>\n",
       "      <td>0.0</td>\n",
       "    </tr>\n",
       "    <tr>\n",
       "      <th>0.89</th>\n",
       "      <td>0.89</td>\n",
       "      <td>0.89</td>\n",
       "      <td>0.89</td>\n",
       "      <td>0.89</td>\n",
       "      <td>0.89</td>\n",
       "    </tr>\n",
       "    <tr>\n",
       "      <th>-0.89</th>\n",
       "      <td>-0.89</td>\n",
       "      <td>-0.89</td>\n",
       "      <td>-0.89</td>\n",
       "      <td>-0.89</td>\n",
       "      <td>-0.89</td>\n",
       "    </tr>\n",
       "    <tr>\n",
       "      <th>TR</th>\n",
       "      <td>0.0</td>\n",
       "      <td>0.0</td>\n",
       "      <td>0.0</td>\n",
       "      <td>0.0</td>\n",
       "      <td>0.0</td>\n",
       "    </tr>\n",
       "    <tr>\n",
       "      <th>Open.1</th>\n",
       "      <td>0.0</td>\n",
       "      <td>0.0</td>\n",
       "      <td>0.0</td>\n",
       "      <td>0.0</td>\n",
       "      <td>0.0</td>\n",
       "    </tr>\n",
       "    <tr>\n",
       "      <th>High.1</th>\n",
       "      <td>0.0</td>\n",
       "      <td>0.0</td>\n",
       "      <td>0.0</td>\n",
       "      <td>0.0</td>\n",
       "      <td>0.0</td>\n",
       "    </tr>\n",
       "    <tr>\n",
       "      <th>Low.1</th>\n",
       "      <td>0.0</td>\n",
       "      <td>0.0</td>\n",
       "      <td>0.0</td>\n",
       "      <td>0.0</td>\n",
       "      <td>0.0</td>\n",
       "    </tr>\n",
       "    <tr>\n",
       "      <th>Last.1</th>\n",
       "      <td>0.0</td>\n",
       "      <td>0.0</td>\n",
       "      <td>0.0</td>\n",
       "      <td>0.0</td>\n",
       "      <td>0.0</td>\n",
       "    </tr>\n",
       "    <tr>\n",
       "      <th>Open.2</th>\n",
       "      <td>0.0</td>\n",
       "      <td>0.0</td>\n",
       "      <td>0.0</td>\n",
       "      <td>0.0</td>\n",
       "      <td>0.0</td>\n",
       "    </tr>\n",
       "    <tr>\n",
       "      <th>High.2</th>\n",
       "      <td>0.0</td>\n",
       "      <td>0.0</td>\n",
       "      <td>0.0</td>\n",
       "      <td>0.0</td>\n",
       "      <td>0.0</td>\n",
       "    </tr>\n",
       "    <tr>\n",
       "      <th>Low.2</th>\n",
       "      <td>0.0</td>\n",
       "      <td>0.0</td>\n",
       "      <td>0.0</td>\n",
       "      <td>0.0</td>\n",
       "      <td>0.0</td>\n",
       "    </tr>\n",
       "    <tr>\n",
       "      <th>Last.2</th>\n",
       "      <td>0.0</td>\n",
       "      <td>0.0</td>\n",
       "      <td>0.0</td>\n",
       "      <td>0.0</td>\n",
       "      <td>0.0</td>\n",
       "    </tr>\n",
       "  </tbody>\n",
       "</table>\n",
       "</div>"
      ],
      "text/plain": [
       "                       1111           1112           1113           1114  \\\n",
       "Date              2022/11/1      2022/11/1      2022/11/1      2022/11/1   \n",
       " Time          14:12:40.433   14:28:36.909   14:56:25.721   15:31:18.338   \n",
       " Open                 87.28          87.04          87.15          87.28   \n",
       " High                  87.3          87.18          87.31          87.64   \n",
       " Low                  87.04           87.0          87.03          87.18   \n",
       " Last                 87.04          87.14          87.28          87.55   \n",
       " Volume                 350            350            350            350   \n",
       " # of Trades            283            302            243            220   \n",
       " OHLC Avg             87.17          87.09          87.19          87.41   \n",
       " HLC Avg              87.13          87.11          87.21          87.46   \n",
       " HL Avg               87.17          87.09          87.17          87.41   \n",
       " Bid Volume             228            178            194            114   \n",
       " Ask Volume             122            172            156            236   \n",
       " ADX                 10.827         10.411         10.629         12.039   \n",
       " Buy                    0.0            0.0          87.01            0.0   \n",
       " Sell                   0.0            0.0            0.0            0.0   \n",
       " MACD                -0.071         -0.072         -0.052         -0.007   \n",
       " MA of MACD          -0.051         -0.059          -0.06         -0.049   \n",
       " MACD Diff           -0.019         -0.013          0.008          0.042   \n",
       " Line                   0.0            0.0            0.0            0.0   \n",
       " EOT                   0.79           0.78           0.77           0.78   \n",
       " Null                   0.0            0.0            0.0            0.0   \n",
       " 0.89                  0.89           0.89           0.89           0.89   \n",
       " -0.89                -0.89          -0.89          -0.89          -0.89   \n",
       " TR                     0.0            0.0            0.0            0.0   \n",
       " Open.1                 0.0            0.0            0.0            0.0   \n",
       " High.1                 0.0            0.0            0.0            0.0   \n",
       " Low.1                  0.0            0.0            0.0            0.0   \n",
       " Last.1                 0.0            0.0            0.0            0.0   \n",
       " Open.2                 0.0            0.0            0.0            0.0   \n",
       " High.2                 0.0            0.0            0.0            0.0   \n",
       " Low.2                  0.0            0.0            0.0            0.0   \n",
       " Last.2                 0.0            0.0            0.0            0.0   \n",
       "\n",
       "                       1115  \n",
       "Date              2022/11/1  \n",
       " Time          17:26:38.862  \n",
       " Open                 87.55  \n",
       " High                 87.69  \n",
       " Low                  87.54  \n",
       " Last                 87.62  \n",
       " Volume                  42  \n",
       " # of Trades             22  \n",
       " OHLC Avg              87.6  \n",
       " HLC Avg              87.62  \n",
       " HL Avg               87.61  \n",
       " Bid Volume              13  \n",
       " Ask Volume              29  \n",
       " ADX                 13.502  \n",
       " Buy                    0.0  \n",
       " Sell                   0.0  \n",
       " MACD                 0.038  \n",
       " MA of MACD          -0.029  \n",
       " MACD Diff            0.067  \n",
       " Line                   0.0  \n",
       " EOT                   0.81  \n",
       " Null                   0.0  \n",
       " 0.89                  0.89  \n",
       " -0.89                -0.89  \n",
       " TR                     0.0  \n",
       " Open.1                 0.0  \n",
       " High.1                 0.0  \n",
       " Low.1                  0.0  \n",
       " Last.1                 0.0  \n",
       " Open.2                 0.0  \n",
       " High.2                 0.0  \n",
       " Low.2                  0.0  \n",
       " Last.2                 0.0  "
      ]
     },
     "execution_count": 72,
     "metadata": {},
     "output_type": "execute_result"
    }
   ],
   "source": [
    "df = pd.read_csv(fn)\n",
    "df.tail().T"
   ]
  },
  {
   "cell_type": "code",
   "execution_count": 73,
   "id": "2a1d9ccd-b31b-4aba-bc8a-a2a877ed7a2e",
   "metadata": {},
   "outputs": [],
   "source": [
    "def clean_data(df):\n",
    "    # fix colum names\n",
    "    df.columns = [x.strip() for x in df.columns]\n",
    "    \n",
    "    # create dt column\n",
    "    df['dt'] = df['Date'].str.cat(df.Time, sep=\" \")\n",
    "    df['dt'] = pd.to_datetime(df.dt).dt.tz_localize(\"US/Mountain\")\n",
    "    df.set_index(\"dt\", inplace=True)\n",
    "    df.sort_index(inplace=True)\n",
    "    \n",
    "    # print(df.columns)\n",
    "    \n",
    "    keep_cols = [\n",
    "        # 'Date', 'Time', \n",
    "        'Open', 'High', 'Low', 'Last', \n",
    "        # 'Volume', \n",
    "        # '# of Trades',\n",
    "        # 'OHLC Avg', 'HLC Avg', 'HL Avg', 'Bid Volume', 'Ask Volume', \n",
    "        'ADX',\n",
    "        'Buy', \n",
    "        'Sell', \n",
    "        'MACD', \n",
    "        'MA of MACD', \n",
    "        'MACD Diff', \n",
    "        # 'Line', \n",
    "        'EOT', \n",
    "        # 'Null',\n",
    "        # '0.89', \n",
    "        # '-0.89', \n",
    "        # 'TR',\n",
    "        # 'Open.1', \n",
    "        # 'High.1', \n",
    "        # 'Low.1', \n",
    "        # 'Last.1', \n",
    "        # 'Open.2',\n",
    "        # 'High.2', \n",
    "        # 'Low.2', \n",
    "        # 'Last.2', \n",
    "        # 'dt'\n",
    "    ]\n",
    "    \n",
    "    float_columns = ['Open', 'High', 'Low', 'Last', ]\n",
    "    for col in float_columns:\n",
    "        df[col] = df[col].astype(float)\n",
    "    \n",
    "    return df[keep_cols]\n",
    "\n",
    "\n",
    "def format_column_names(df):\n",
    "    df.columns = [x.lower().replace(\" \", \"_\") for x in df.columns]\n",
    "    return df\n",
    "\n",
    "\n",
    "def gen_features(df):\n",
    "    from forecasters.features.macd import detect_crossovers_vline\n",
    "    df['buysell_macd'] = detect_crossovers_vline(df.macd, y_value=0.0)\n",
    "    return df\n",
    "\n",
    "# extract data\n",
    "df = pd.read_csv(fn)\n",
    "\n",
    "# transform data\n",
    "df = clean_data(df)\n",
    "df = format_column_names(df)\n",
    "df = gen_features(df)"
   ]
  },
  {
   "cell_type": "code",
   "execution_count": 75,
   "id": "a3ffe85f",
   "metadata": {},
   "outputs": [
    {
     "data": {
      "text/html": [
       "<div>\n",
       "<style scoped>\n",
       "    .dataframe tbody tr th:only-of-type {\n",
       "        vertical-align: middle;\n",
       "    }\n",
       "\n",
       "    .dataframe tbody tr th {\n",
       "        vertical-align: top;\n",
       "    }\n",
       "\n",
       "    .dataframe thead th {\n",
       "        text-align: right;\n",
       "    }\n",
       "</style>\n",
       "<table border=\"1\" class=\"dataframe\">\n",
       "  <thead>\n",
       "    <tr style=\"text-align: right;\">\n",
       "      <th></th>\n",
       "      <th>open</th>\n",
       "      <th>high</th>\n",
       "      <th>low</th>\n",
       "      <th>last</th>\n",
       "      <th>adx</th>\n",
       "      <th>buy</th>\n",
       "      <th>sell</th>\n",
       "      <th>macd</th>\n",
       "      <th>ma_of_macd</th>\n",
       "      <th>macd_diff</th>\n",
       "      <th>eot</th>\n",
       "      <th>buysell_macd</th>\n",
       "    </tr>\n",
       "    <tr>\n",
       "      <th>dt</th>\n",
       "      <th></th>\n",
       "      <th></th>\n",
       "      <th></th>\n",
       "      <th></th>\n",
       "      <th></th>\n",
       "      <th></th>\n",
       "      <th></th>\n",
       "      <th></th>\n",
       "      <th></th>\n",
       "      <th></th>\n",
       "      <th></th>\n",
       "      <th></th>\n",
       "    </tr>\n",
       "  </thead>\n",
       "  <tbody>\n",
       "    <tr>\n",
       "      <th>2022-11-01 14:12:40.433000-06:00</th>\n",
       "      <td>87.28</td>\n",
       "      <td>87.30</td>\n",
       "      <td>87.04</td>\n",
       "      <td>87.04</td>\n",
       "      <td>10.827</td>\n",
       "      <td>0.00</td>\n",
       "      <td>0.0</td>\n",
       "      <td>-0.071</td>\n",
       "      <td>-0.051</td>\n",
       "      <td>-0.019</td>\n",
       "      <td>0.79</td>\n",
       "      <td>0</td>\n",
       "    </tr>\n",
       "    <tr>\n",
       "      <th>2022-11-01 14:28:36.909000-06:00</th>\n",
       "      <td>87.04</td>\n",
       "      <td>87.18</td>\n",
       "      <td>87.00</td>\n",
       "      <td>87.14</td>\n",
       "      <td>10.411</td>\n",
       "      <td>0.00</td>\n",
       "      <td>0.0</td>\n",
       "      <td>-0.072</td>\n",
       "      <td>-0.059</td>\n",
       "      <td>-0.013</td>\n",
       "      <td>0.78</td>\n",
       "      <td>0</td>\n",
       "    </tr>\n",
       "    <tr>\n",
       "      <th>2022-11-01 14:56:25.721000-06:00</th>\n",
       "      <td>87.15</td>\n",
       "      <td>87.31</td>\n",
       "      <td>87.03</td>\n",
       "      <td>87.28</td>\n",
       "      <td>10.629</td>\n",
       "      <td>87.01</td>\n",
       "      <td>0.0</td>\n",
       "      <td>-0.052</td>\n",
       "      <td>-0.060</td>\n",
       "      <td>0.008</td>\n",
       "      <td>0.77</td>\n",
       "      <td>0</td>\n",
       "    </tr>\n",
       "    <tr>\n",
       "      <th>2022-11-01 15:31:18.338000-06:00</th>\n",
       "      <td>87.28</td>\n",
       "      <td>87.64</td>\n",
       "      <td>87.18</td>\n",
       "      <td>87.55</td>\n",
       "      <td>12.039</td>\n",
       "      <td>0.00</td>\n",
       "      <td>0.0</td>\n",
       "      <td>-0.007</td>\n",
       "      <td>-0.049</td>\n",
       "      <td>0.042</td>\n",
       "      <td>0.78</td>\n",
       "      <td>0</td>\n",
       "    </tr>\n",
       "    <tr>\n",
       "      <th>2022-11-01 17:26:38.862000-06:00</th>\n",
       "      <td>87.55</td>\n",
       "      <td>87.69</td>\n",
       "      <td>87.54</td>\n",
       "      <td>87.62</td>\n",
       "      <td>13.502</td>\n",
       "      <td>0.00</td>\n",
       "      <td>0.0</td>\n",
       "      <td>0.038</td>\n",
       "      <td>-0.029</td>\n",
       "      <td>0.067</td>\n",
       "      <td>0.81</td>\n",
       "      <td>1</td>\n",
       "    </tr>\n",
       "  </tbody>\n",
       "</table>\n",
       "</div>"
      ],
      "text/plain": [
       "                                   open   high    low   last     adx    buy  \\\n",
       "dt                                                                            \n",
       "2022-11-01 14:12:40.433000-06:00  87.28  87.30  87.04  87.04  10.827   0.00   \n",
       "2022-11-01 14:28:36.909000-06:00  87.04  87.18  87.00  87.14  10.411   0.00   \n",
       "2022-11-01 14:56:25.721000-06:00  87.15  87.31  87.03  87.28  10.629  87.01   \n",
       "2022-11-01 15:31:18.338000-06:00  87.28  87.64  87.18  87.55  12.039   0.00   \n",
       "2022-11-01 17:26:38.862000-06:00  87.55  87.69  87.54  87.62  13.502   0.00   \n",
       "\n",
       "                                  sell   macd  ma_of_macd  macd_diff   eot  \\\n",
       "dt                                                                           \n",
       "2022-11-01 14:12:40.433000-06:00   0.0 -0.071      -0.051     -0.019  0.79   \n",
       "2022-11-01 14:28:36.909000-06:00   0.0 -0.072      -0.059     -0.013  0.78   \n",
       "2022-11-01 14:56:25.721000-06:00   0.0 -0.052      -0.060      0.008  0.77   \n",
       "2022-11-01 15:31:18.338000-06:00   0.0 -0.007      -0.049      0.042  0.78   \n",
       "2022-11-01 17:26:38.862000-06:00   0.0  0.038      -0.029      0.067  0.81   \n",
       "\n",
       "                                  buysell_macd  \n",
       "dt                                              \n",
       "2022-11-01 14:12:40.433000-06:00             0  \n",
       "2022-11-01 14:28:36.909000-06:00             0  \n",
       "2022-11-01 14:56:25.721000-06:00             0  \n",
       "2022-11-01 15:31:18.338000-06:00             0  \n",
       "2022-11-01 17:26:38.862000-06:00             1  "
      ]
     },
     "execution_count": 75,
     "metadata": {},
     "output_type": "execute_result"
    }
   ],
   "source": [
    "df.tail()"
   ]
  },
  {
   "cell_type": "code",
   "execution_count": 76,
   "id": "819e9374-e297-4740-9e0e-11c10d87a7a7",
   "metadata": {},
   "outputs": [],
   "source": [
    "def frange(start, stop, step=1):\n",
    "    while start < stop:\n",
    "        yield start\n",
    "        start += step\n",
    "\n",
    "def geo_mean(iterable):\n",
    "    a = np.array(iterable)\n",
    "    return a.prod()**(1.0/len(a))\n",
    "\n",
    "def run_simulation(df: pd.DataFrame, take_profit: float, stop_loss=float):\n",
    "    SLIPPAGE = 0.02 # bid-ask spread + commission\n",
    "\n",
    "    results = {}\n",
    "    \n",
    "    positions = 0\n",
    "    positions_entry_price = 0.0\n",
    "    positions_entry_dateime = None\n",
    "    trade_pnl = []\n",
    "    trade_time = []\n",
    "    \n",
    "    for i, row in df.iterrows():\n",
    "        if positions != 0:\n",
    "            diff = (row['last'] - positions_entry_price) - SLIPPAGE\n",
    "            diff_seconds = (row.name - positions_entry_dateime).seconds\n",
    "            \n",
    "            if diff >= take_profit:\n",
    "                to_flat_qty = -positions\n",
    "                positions += to_flat_qty\n",
    "                trade_pnl.append(diff)\n",
    "                trade_time.append(diff_seconds)\n",
    "                \n",
    "            if diff <= -stop_loss:\n",
    "                to_flat_qty = -positions\n",
    "                positions += to_flat_qty\n",
    "                trade_pnl.append(diff)\n",
    "                trade_time.append(diff_seconds)\n",
    "                \n",
    "        if row.buysell_macd > 0 and positions < 1:\n",
    "            positions += 1\n",
    "            positions_entry_price = row['last']\n",
    "            positions_entry_dateime = row.name\n",
    "        elif row.buysell_macd < 0 and positions > -1:\n",
    "            positions -= 1\n",
    "            positions_entry_price = row['last']\n",
    "            positions_entry_dateime = row.name\n",
    "        else:\n",
    "            continue\n",
    "            \n",
    "    trade_pnl = np.array(trade_pnl)\n",
    "    results['trade_pnl'] = trade_pnl\n",
    "    results['trade_pnl_total'] = trade_pnl.sum()\n",
    "    total_trades = trade_pnl.size\n",
    "    winning_trades_percent = trade_pnl[np.where(trade_pnl > 0.0)].size / total_trades\n",
    "    loosing_trades_percent = 1.0 - winning_trades_percent\n",
    "    results['trades_winning_percent'] = winning_trades_percent\n",
    "    results['trades_loosing_percent'] = loosing_trades_percent\n",
    "    results['trades_pnl_median'] = np.median(trade_pnl)\n",
    "    results['trades_pnl_mean'] = np.mean(trade_pnl)\n",
    "    results['trades_pnl_std'] = np.std(trade_pnl)\n",
    "\n",
    "    trade_time_mins = np.array(trade_time)/60.0\n",
    "    results['trade_time_diff'] = trade_time_mins\n",
    "    results['trade_time_geomean'] = geo_mean(trade_time_mins)\n",
    "    return results\n",
    "\n",
    "# run_simulation(\n",
    "#     df=df, \n",
    "#     take_profit=0.33, #study.best_params['take_profit'], \n",
    "#     stop_loss=0.33, #study.best_params['stop_loss']\n",
    "# )"
   ]
  },
  {
   "cell_type": "code",
   "execution_count": 77,
   "id": "2db4bfcc-19a1-4e45-b407-bab0a0472730",
   "metadata": {},
   "outputs": [],
   "source": [
    "def objective(trial):\n",
    "    take_profit = trial.suggest_float('take_profit', 0.05, 0.6)\n",
    "    stop_loss   = trial.suggest_float('stop_loss', 0.05, 0.6)\n",
    "    results = run_simulation(df, take_profit=take_profit, stop_loss=stop_loss)\n",
    "    return_value = (\n",
    "        results['trade_pnl_total'],\n",
    "        results['trades_pnl_std']\n",
    "    )\n",
    "    return return_value\n",
    "\n",
    "optuna.logging.set_verbosity(optuna.logging.WARNING)\n",
    "study = optuna.create_study(directions=['maximize','minimize'])\n",
    "study.optimize(objective, n_trials=1000)\n",
    "\n",
    "# study.best_trials"
   ]
  },
  {
   "cell_type": "code",
   "execution_count": 157,
   "id": "0eda6824-9ec8-4d40-873b-73adb978116d",
   "metadata": {},
   "outputs": [
    {
     "name": "stdout",
     "output_type": "stream",
     "text": [
      "8.34000000000002\n"
     ]
    }
   ],
   "source": [
    "trial = study.best_trials[0]\n",
    "\n",
    "results = run_simulation(\n",
    "    df=df, \n",
    "    take_profit=trial.params['take_profit'], \n",
    "    stop_loss=trial.params['stop_loss']\n",
    ")\n",
    "\n",
    "print(sum(results['trade_pnl']))"
   ]
  },
  {
   "cell_type": "code",
   "execution_count": 158,
   "id": "c12b19a1-32c3-4c99-9c12-36bffc56865c",
   "metadata": {},
   "outputs": [
    {
     "data": {
      "application/vnd.plotly.v1+json": {
       "config": {
        "plotlyServerURL": "https://plot.ly"
       },
       "data": [
        {
         "hovertemplate": "%{text}<extra>Trial</extra>",
         "marker": {
          "color": [
           0,
           1,
           2,
           3,
           4,
           5,
           6,
           7,
           8,
           9,
           10,
           11,
           12,
           13,
           14,
           15,
           16,
           17,
           18,
           19,
           20,
           21,
           22,
           23,
           24,
           25,
           26,
           27,
           28,
           29,
           30,
           31,
           32,
           33,
           34,
           35,
           36,
           37,
           38,
           39,
           40,
           41,
           42,
           43,
           44,
           45,
           46,
           47,
           48,
           49,
           50,
           51,
           52,
           53,
           55,
           56,
           57,
           58,
           59,
           60,
           61,
           62,
           63,
           64,
           65,
           66,
           67,
           68,
           69,
           70,
           71,
           72,
           73,
           74,
           75,
           76,
           77,
           78,
           79,
           80,
           82,
           83,
           84,
           85,
           86,
           87,
           88,
           89,
           90,
           91,
           92,
           93,
           94,
           95,
           96,
           97,
           98,
           99,
           100,
           101,
           102,
           103,
           104,
           105,
           106,
           107,
           108,
           109,
           110,
           111,
           112,
           113,
           114,
           115,
           116,
           117,
           118,
           119,
           120,
           121,
           122,
           123,
           124,
           125,
           126,
           127,
           128,
           129,
           130,
           131,
           132,
           133,
           134,
           135,
           136,
           137,
           138,
           139,
           141,
           142,
           143,
           144,
           145,
           146,
           147,
           148,
           149,
           150,
           151,
           153,
           154,
           155,
           156,
           157,
           158,
           159,
           160,
           161,
           163,
           164,
           165,
           166,
           167,
           168,
           169,
           171,
           172,
           173,
           174,
           175,
           176,
           177,
           178,
           180,
           181,
           182,
           183,
           184,
           185,
           186,
           187,
           188,
           189,
           190,
           191,
           192,
           193,
           195,
           197,
           198,
           199,
           200,
           201,
           202,
           203,
           204,
           205,
           206,
           207,
           208,
           210,
           211,
           212,
           213,
           214,
           216,
           217,
           218,
           219,
           220,
           221,
           222,
           223,
           225,
           226,
           227,
           228,
           229,
           230,
           231,
           232,
           233,
           234,
           235,
           236,
           237,
           238,
           239,
           240,
           241,
           242,
           243,
           244,
           245,
           246,
           247,
           248,
           249,
           250,
           251,
           252,
           253,
           254,
           255,
           256,
           257,
           258,
           259,
           260,
           261,
           262,
           263,
           264,
           265,
           266,
           267,
           268,
           269,
           270,
           271,
           272,
           273,
           274,
           275,
           276,
           277,
           279,
           280,
           281,
           282,
           283,
           284,
           285,
           286,
           287,
           288,
           289,
           290,
           291,
           292,
           293,
           294,
           296,
           297,
           298,
           299,
           300,
           301,
           302,
           303,
           304,
           305,
           306,
           307,
           308,
           309,
           310,
           311,
           312,
           313,
           314,
           315,
           316,
           317,
           318,
           319,
           320,
           321,
           322,
           323,
           324,
           325,
           326,
           327,
           328,
           329,
           331,
           332,
           335,
           336,
           337,
           338,
           339,
           340,
           341,
           342,
           343,
           344,
           345,
           346,
           347,
           348,
           349,
           350,
           351,
           352,
           353,
           354,
           355,
           356,
           357,
           358,
           359,
           360,
           362,
           363,
           364,
           365,
           366,
           367,
           368,
           369,
           370,
           371,
           373,
           374,
           375,
           376,
           377,
           378,
           379,
           380,
           381,
           382,
           385,
           386,
           387,
           388,
           389,
           390,
           391,
           392,
           394,
           395,
           396,
           397,
           398,
           399,
           400,
           401,
           402,
           404,
           405,
           406,
           408,
           409,
           410,
           412,
           413,
           414,
           415,
           416,
           417,
           418,
           419,
           420,
           422,
           423,
           424,
           425,
           426,
           427,
           428,
           429,
           430,
           431,
           432,
           433,
           434,
           436,
           437,
           439,
           440,
           441,
           442,
           444,
           445,
           446,
           447,
           448,
           449,
           450,
           451,
           453,
           454,
           455,
           456,
           457,
           458,
           459,
           460,
           461,
           462,
           463,
           465,
           466,
           467,
           468,
           470,
           471,
           472,
           473,
           474,
           476,
           478,
           479,
           481,
           482,
           483,
           484,
           485,
           486,
           487,
           488,
           489,
           490,
           491,
           492,
           494,
           496,
           497,
           498,
           499,
           500,
           502,
           503,
           504,
           505,
           506,
           507,
           508,
           509,
           510,
           511,
           512,
           513,
           514,
           515,
           516,
           517,
           518,
           519,
           520,
           521,
           523,
           524,
           525,
           526,
           527,
           529,
           530,
           532,
           533,
           535,
           536,
           537,
           538,
           540,
           541,
           542,
           543,
           544,
           546,
           547,
           548,
           549,
           550,
           551,
           552,
           553,
           554,
           555,
           557,
           558,
           559,
           560,
           561,
           562,
           563,
           564,
           565,
           566,
           567,
           568,
           569,
           570,
           571,
           572,
           573,
           577,
           578,
           580,
           581,
           582,
           584,
           585,
           587,
           588,
           589,
           590,
           591,
           592,
           594,
           595,
           596,
           597,
           599,
           600,
           601,
           602,
           603,
           604,
           605,
           606,
           607,
           608,
           609,
           610,
           611,
           612,
           613,
           614,
           615,
           616,
           617,
           618,
           619,
           620,
           622,
           623,
           624,
           625,
           626,
           628,
           629,
           630,
           631,
           632,
           633,
           635,
           636,
           637,
           639,
           640,
           641,
           642,
           643,
           644,
           645,
           646,
           649,
           650,
           651,
           652,
           654,
           655,
           656,
           657,
           658,
           659,
           660,
           661,
           662,
           663,
           664,
           665,
           666,
           668,
           669,
           670,
           671,
           672,
           673,
           674,
           675,
           676,
           677,
           678,
           679,
           680,
           681,
           682,
           683,
           685,
           686,
           688,
           689,
           690,
           691,
           692,
           693,
           694,
           695,
           696,
           697,
           698,
           700,
           701,
           702,
           703,
           704,
           706,
           707,
           708,
           709,
           710,
           711,
           712,
           713,
           715,
           716,
           718,
           720,
           721,
           722,
           723,
           724,
           725,
           726,
           727,
           728,
           729,
           730,
           731,
           732,
           733,
           734,
           735,
           736,
           738,
           739,
           740,
           741,
           742,
           743,
           745,
           746,
           748,
           750,
           751,
           752,
           755,
           756,
           759,
           760,
           761,
           762,
           763,
           764,
           765,
           766,
           767,
           768,
           769,
           770,
           771,
           772,
           773,
           774,
           777,
           778,
           779,
           780,
           782,
           783,
           784,
           785,
           786,
           787,
           788,
           789,
           790,
           791,
           792,
           793,
           794,
           795,
           796,
           797,
           798,
           799,
           800,
           803,
           804,
           805,
           806,
           807,
           808,
           809,
           810,
           811,
           812,
           813,
           814,
           815,
           816,
           817,
           819,
           820,
           822,
           823,
           824,
           826,
           828,
           829,
           830,
           831,
           833,
           834,
           835,
           836,
           837,
           838,
           839,
           841,
           842,
           843,
           844,
           846,
           847,
           848,
           850,
           851,
           852,
           853,
           854,
           856,
           857,
           858,
           859,
           860,
           862,
           863,
           864,
           865,
           867,
           869,
           870,
           871,
           872,
           873,
           875,
           876,
           877,
           878,
           879,
           881,
           882,
           883,
           884,
           885,
           886,
           887,
           888,
           889,
           890,
           891,
           892,
           893,
           894,
           895,
           896,
           897,
           898,
           899,
           900,
           901,
           905,
           906,
           907,
           908,
           909,
           910,
           912,
           913,
           914,
           915,
           916,
           917,
           918,
           919,
           920,
           921,
           922,
           924,
           925,
           927,
           928,
           929,
           930,
           933,
           937,
           938,
           940,
           941,
           942,
           943,
           944,
           945,
           946,
           949,
           950,
           952,
           953,
           954,
           955,
           956,
           957,
           958,
           960,
           961,
           962,
           963,
           964,
           965,
           966,
           967,
           968,
           969,
           970,
           972,
           973,
           975,
           976,
           977,
           978,
           979,
           980,
           981,
           983,
           984,
           985,
           986,
           989,
           991,
           992,
           993,
           995,
           996,
           997,
           998,
           999
          ],
          "colorbar": {
           "title": {
            "text": "Trial"
           }
          },
          "colorscale": [
           [
            0,
            "rgb(247,251,255)"
           ],
           [
            0.125,
            "rgb(222,235,247)"
           ],
           [
            0.25,
            "rgb(198,219,239)"
           ],
           [
            0.375,
            "rgb(158,202,225)"
           ],
           [
            0.5,
            "rgb(107,174,214)"
           ],
           [
            0.625,
            "rgb(66,146,198)"
           ],
           [
            0.75,
            "rgb(33,113,181)"
           ],
           [
            0.875,
            "rgb(8,81,156)"
           ],
           [
            1,
            "rgb(8,48,107)"
           ]
          ],
          "line": {
           "color": "Grey",
           "width": 0.5
          }
         },
         "mode": "markers",
         "showlegend": false,
         "text": [
          "{<br>  \"number\": 0,<br>  \"values\": [<br>    6.529999999999955,<br>    0.6726339739620321<br>  ],<br>  \"params\": {<br>    \"take_profit\": 0.4775252329494681,<br>    \"stop_loss\": 0.4613853670997484<br>  }<br>}",
          "{<br>  \"number\": 1,<br>  \"values\": [<br>    5.489999999999988,<br>    0.5074851431498208<br>  ],<br>  \"params\": {<br>    \"take_profit\": 0.15532629544967783,<br>    \"stop_loss\": 0.5056360312048226<br>  }<br>}",
          "{<br>  \"number\": 2,<br>  \"values\": [<br>    2.589999999999956,<br>    0.5301247809245179<br>  ],<br>  \"params\": {<br>    \"take_profit\": 0.44099643008558714,<br>    \"stop_loss\": 0.1689059599866649<br>  }<br>}",
          "{<br>  \"number\": 3,<br>  \"values\": [<br>    2.049999999999978,<br>    0.48011378508125996<br>  ],<br>  \"params\": {<br>    \"take_profit\": 0.0605225990862062,<br>    \"stop_loss\": 0.4710360719507461<br>  }<br>}",
          "{<br>  \"number\": 4,<br>  \"values\": [<br>    1.2300000000000058,<br>    0.42689036667589536<br>  ],<br>  \"params\": {<br>    \"take_profit\": 0.37027401443441904,<br>    \"stop_loss\": 0.05152728984202651<br>  }<br>}",
          "{<br>  \"number\": 5,<br>  \"values\": [<br>    2.5199999999999854,<br>    0.4908878362402094<br>  ],<br>  \"params\": {<br>    \"take_profit\": 0.41408465601986955,<br>    \"stop_loss\": 0.10429431645390597<br>  }<br>}",
          "{<br>  \"number\": 6,<br>  \"values\": [<br>    8.049999999999986,<br>    0.5714620331971638<br>  ],<br>  \"params\": {<br>    \"take_profit\": 0.33644182803793315,<br>    \"stop_loss\": 0.47989751952175047<br>  }<br>}",
          "{<br>  \"number\": 7,<br>  \"values\": [<br>    -1.3000000000000078,<br>    0.4328157735129957<br>  ],<br>  \"params\": {<br>    \"take_profit\": 0.252243099239756,<br>    \"stop_loss\": 0.1570115290370207<br>  }<br>}",
          "{<br>  \"number\": 8,<br>  \"values\": [<br>    2.3699999999999934,<br>    0.4949342836481579<br>  ],<br>  \"params\": {<br>    \"take_profit\": 0.08875632949080547,<br>    \"stop_loss\": 0.560983260063591<br>  }<br>}",
          "{<br>  \"number\": 9,<br>  \"values\": [<br>    7.959999999999958,<br>    0.5753954313519679<br>  ],<br>  \"params\": {<br>    \"take_profit\": 0.357892843289387,<br>    \"stop_loss\": 0.44390070702532886<br>  }<br>}",
          "{<br>  \"number\": 10,<br>  \"values\": [<br>    4.0199999999999525,<br>    0.5234585029237416<br>  ],<br>  \"params\": {<br>    \"take_profit\": 0.4193862236915465,<br>    \"stop_loss\": 0.17092900603686773<br>  }<br>}",
          "{<br>  \"number\": 11,<br>  \"values\": [<br>    -1.74000000000007,<br>    0.3687033231526026<br>  ],<br>  \"params\": {<br>    \"take_profit\": 0.06109586616842523,<br>    \"stop_loss\": 0.14069022204218407<br>  }<br>}",
          "{<br>  \"number\": 12,<br>  \"values\": [<br>    5.89999999999997,<br>    0.6297352203416822<br>  ],<br>  \"params\": {<br>    \"take_profit\": 0.4689002421683636,<br>    \"stop_loss\": 0.3735163661761238<br>  }<br>}",
          "{<br>  \"number\": 13,<br>  \"values\": [<br>    2.069999999999974,<br>    0.48192228912612917<br>  ],<br>  \"params\": {<br>    \"take_profit\": 0.0724824534225797,<br>    \"stop_loss\": 0.5106436733802883<br>  }<br>}",
          "{<br>  \"number\": 14,<br>  \"values\": [<br>    6.1699999999999875,<br>    0.6710937136204876<br>  ],<br>  \"params\": {<br>    \"take_profit\": 0.5788517455340759,<br>    \"stop_loss\": 0.405152218787056<br>  }<br>}",
          "{<br>  \"number\": 15,<br>  \"values\": [<br>    1.9699999999999815,<br>    0.5439607986101678<br>  ],<br>  \"params\": {<br>    \"take_profit\": 0.5604598013777263,<br>    \"stop_loss\": 0.16415850390894657<br>  }<br>}",
          "{<br>  \"number\": 16,<br>  \"values\": [<br>    5.959999999999972,<br>    0.5866996470824387<br>  ],<br>  \"params\": {<br>    \"take_profit\": 0.5537663678603938,<br>    \"stop_loss\": 0.22593977655362418<br>  }<br>}",
          "{<br>  \"number\": 17,<br>  \"values\": [<br>    -0.7200000000000537,<br>    0.39541344924168886<br>  ],<br>  \"params\": {<br>    \"take_profit\": 0.14749574843279173,<br>    \"stop_loss\": 0.1668029960155013<br>  }<br>}",
          "{<br>  \"number\": 18,<br>  \"values\": [<br>    7.059999999999993,<br>    0.6508191632629956<br>  ],<br>  \"params\": {<br>    \"take_profit\": 0.4049942292595097,<br>    \"stop_loss\": 0.5811211071826761<br>  }<br>}",
          "{<br>  \"number\": 19,<br>  \"values\": [<br>    6.1699999999999875,<br>    0.6710937136204876<br>  ],<br>  \"params\": {<br>    \"take_profit\": 0.5640701744487276,<br>    \"stop_loss\": 0.4003972209845802<br>  }<br>}",
          "{<br>  \"number\": 20,<br>  \"values\": [<br>    1.9099999999999815,<br>    0.4904081298764319<br>  ],<br>  \"params\": {<br>    \"take_profit\": 0.099835210505473,<br>    \"stop_loss\": 0.4992348893507475<br>  }<br>}",
          "{<br>  \"number\": 21,<br>  \"values\": [<br>    7.00999999999998,<br>    0.7424809037870467<br>  ],<br>  \"params\": {<br>    \"take_profit\": 0.5879330748054001,<br>    \"stop_loss\": 0.5561192967867635<br>  }<br>}",
          "{<br>  \"number\": 22,<br>  \"values\": [<br>    6.7699999999999925,<br>    0.6063126695480123<br>  ],<br>  \"params\": {<br>    \"take_profit\": 0.594017701942241,<br>    \"stop_loss\": 0.2503021455237313<br>  }<br>}",
          "{<br>  \"number\": 23,<br>  \"values\": [<br>    -0.5599999999999923,<br>    0.4508007142303757<br>  ],<br>  \"params\": {<br>    \"take_profit\": 0.3515714987530641,<br>    \"stop_loss\": 0.12631660912834602<br>  }<br>}",
          "{<br>  \"number\": 24,<br>  \"values\": [<br>    4.679999999999978,<br>    0.5056009637666541<br>  ],<br>  \"params\": {<br>    \"take_profit\": 0.17805305841186686,<br>    \"stop_loss\": 0.43088772369640266<br>  }<br>}",
          "{<br>  \"number\": 25,<br>  \"values\": [<br>    5.489999999999984,<br>    0.5905540384381078<br>  ],<br>  \"params\": {<br>    \"take_profit\": 0.4817631375085813,<br>    \"stop_loss\": 0.26859060538941404<br>  }<br>}",
          "{<br>  \"number\": 26,<br>  \"values\": [<br>    -1.5299999999999976,<br>    0.4511714407018229<br>  ],<br>  \"params\": {<br>    \"take_profit\": 0.32275643065793486,<br>    \"stop_loss\": 0.14098317530027277<br>  }<br>}",
          "{<br>  \"number\": 27,<br>  \"values\": [<br>    7.8699999999999655,<br>    0.6038695561009505<br>  ],<br>  \"params\": {<br>    \"take_profit\": 0.40533662477878935,<br>    \"stop_loss\": 0.44584706863991097<br>  }<br>}",
          "{<br>  \"number\": 28,<br>  \"values\": [<br>    5.629999999999978,<br>    0.6891427828454191<br>  ],<br>  \"params\": {<br>    \"take_profit\": 0.5074348864957708,<br>    \"stop_loss\": 0.4978168269866857<br>  }<br>}",
          "{<br>  \"number\": 29,<br>  \"values\": [<br>    3.5399999999999547,<br>    0.5181975892423646<br>  ],<br>  \"params\": {<br>    \"take_profit\": 0.4283228461698405,<br>    \"stop_loss\": 0.16690076842251408<br>  }<br>}",
          "{<br>  \"number\": 30,<br>  \"values\": [<br>    7.789999999999981,<br>    0.5500370584979594<br>  ],<br>  \"params\": {<br>    \"take_profit\": 0.31535576919890557,<br>    \"stop_loss\": 0.4714992726763563<br>  }<br>}",
          "{<br>  \"number\": 31,<br>  \"values\": [<br>    -1.0699999999999832,<br>    0.44524124408246196<br>  ],<br>  \"params\": {<br>    \"take_profit\": 0.33541630904760644,<br>    \"stop_loss\": 0.12327235644981895<br>  }<br>}",
          "{<br>  \"number\": 32,<br>  \"values\": [<br>    5.330000000000006,<br>    0.5288050238386593<br>  ],<br>  \"params\": {<br>    \"take_profit\": 0.17058230310106232,<br>    \"stop_loss\": 0.5639242097575835<br>  }<br>}",
          "{<br>  \"number\": 33,<br>  \"values\": [<br>    4.010000000000001,<br>    0.47978614532523184<br>  ],<br>  \"params\": {<br>    \"take_profit\": 0.23231734960175443,<br>    \"stop_loss\": 0.3080033578014778<br>  }<br>}",
          "{<br>  \"number\": 34,<br>  \"values\": [<br>    8.919999999999973,<br>    0.5792145793131324<br>  ],<br>  \"params\": {<br>    \"take_profit\": 0.41539992463926473,<br>    \"stop_loss\": 0.35227252417034044<br>  }<br>}",
          "{<br>  \"number\": 35,<br>  \"values\": [<br>    6.579999999999984,<br>    0.6605241023942651<br>  ],<br>  \"params\": {<br>    \"take_profit\": 0.5832464005753383,<br>    \"stop_loss\": 0.3528403544045596<br>  }<br>}",
          "{<br>  \"number\": 36,<br>  \"values\": [<br>    8.549999999999983,<br>    0.6049595027768383<br>  ],<br>  \"params\": {<br>    \"take_profit\": 0.4388427132661888,<br>    \"stop_loss\": 0.38897421142007527<br>  }<br>}",
          "{<br>  \"number\": 37,<br>  \"values\": [<br>    4.2899999999999485,<br>    0.5329126107384932<br>  ],<br>  \"params\": {<br>    \"take_profit\": 0.426293494501658,<br>    \"stop_loss\": 0.20709791328523375<br>  }<br>}",
          "{<br>  \"number\": 38,<br>  \"values\": [<br>    4.959999999999965,<br>    0.5201873547075326<br>  ],<br>  \"params\": {<br>    \"take_profit\": 0.39266633853285565,<br>    \"stop_loss\": 0.22654781702060695<br>  }<br>}",
          "{<br>  \"number\": 39,<br>  \"values\": [<br>    3.4999999999999933,<br>    0.5098184869947305<br>  ],<br>  \"params\": {<br>    \"take_profit\": 0.5927730019308612,<br>    \"stop_loss\": 0.0764159639592498<br>  }<br>}",
          "{<br>  \"number\": 40,<br>  \"values\": [<br>    5.909999999999972,<br>    0.6225568317555608<br>  ],<br>  \"params\": {<br>    \"take_profit\": 0.46235892503362885,<br>    \"stop_loss\": 0.34609525212815995<br>  }<br>}",
          "{<br>  \"number\": 41,<br>  \"values\": [<br>    5.260000000000016,<br>    0.5775713807426511<br>  ],<br>  \"params\": {<br>    \"take_profit\": 0.24109461632480095,<br>    \"stop_loss\": 0.5986576133149534<br>  }<br>}",
          "{<br>  \"number\": 42,<br>  \"values\": [<br>    7.789999999999981,<br>    0.5500370584979594<br>  ],<br>  \"params\": {<br>    \"take_profit\": 0.3192342804675916,<br>    \"stop_loss\": 0.4714731772115439<br>  }<br>}",
          "{<br>  \"number\": 43,<br>  \"values\": [<br>    7.5000000000000036,<br>    0.5466020921858977<br>  ],<br>  \"params\": {<br>    \"take_profit\": 0.26420820939153805,<br>    \"stop_loss\": 0.567752123063268<br>  }<br>}",
          "{<br>  \"number\": 44,<br>  \"values\": [<br>    4.449999999999985,<br>    0.47557067732967123<br>  ],<br>  \"params\": {<br>    \"take_profit\": 0.4377134234845338,<br>    \"stop_loss\": 0.05885338206175306<br>  }<br>}",
          "{<br>  \"number\": 45,<br>  \"values\": [<br>    -1.9600000000000142,<br>    0.40667217069005557<br>  ],<br>  \"params\": {<br>    \"take_profit\": 0.21629404345677794,<br>    \"stop_loss\": 0.10524996834805475<br>  }<br>}",
          "{<br>  \"number\": 46,<br>  \"values\": [<br>    5.5899999999999785,<br>    0.5116461087395514<br>  ],<br>  \"params\": {<br>    \"take_profit\": 0.3322178556912239,<br>    \"stop_loss\": 0.3026282171902923<br>  }<br>}",
          "{<br>  \"number\": 47,<br>  \"values\": [<br>    4.609999999999991,<br>    0.5197439267249939<br>  ],<br>  \"params\": {<br>    \"take_profit\": 0.1767617408006273,<br>    \"stop_loss\": 0.4766703276283116<br>  }<br>}",
          "{<br>  \"number\": 48,<br>  \"values\": [<br>    2.949999999999943,<br>    0.5449972915058918<br>  ],<br>  \"params\": {<br>    \"take_profit\": 0.45880943341647096,<br>    \"stop_loss\": 0.17870943141629086<br>  }<br>}",
          "{<br>  \"number\": 49,<br>  \"values\": [<br>    1.139999999999949,<br>    0.48077477861791174<br>  ],<br>  \"params\": {<br>    \"take_profit\": 0.34123110924521016,<br>    \"stop_loss\": 0.18912276793899518<br>  }<br>}",
          "{<br>  \"number\": 50,<br>  \"values\": [<br>    6.7699999999999925,<br>    0.6063126695480123<br>  ],<br>  \"params\": {<br>    \"take_profit\": 0.594017701942241,<br>    \"stop_loss\": 0.2503021455237313<br>  }<br>}",
          "{<br>  \"number\": 51,<br>  \"values\": [<br>    3.3599999999999803,<br>    0.4679432145923594<br>  ],<br>  \"params\": {<br>    \"take_profit\": 0.19144124872340545,<br>    \"stop_loss\": 0.3026282171902923<br>  }<br>}",
          "{<br>  \"number\": 52,<br>  \"values\": [<br>    3.0199999999999934,<br>    0.4741178937530749<br>  ],<br>  \"params\": {<br>    \"take_profit\": 0.12682584633069968,<br>    \"stop_loss\": 0.35227252417034044<br>  }<br>}",
          "{<br>  \"number\": 53,<br>  \"values\": [<br>    3.449999999999973,<br>    0.4984219147307116<br>  ],<br>  \"params\": {<br>    \"take_profit\": 0.4615971659777948,<br>    \"stop_loss\": 0.09218586045190838<br>  }<br>}",
          "{<br>  \"number\": 55,<br>  \"values\": [<br>    0.40999999999999237,<br>    0.44253351690041137<br>  ],<br>  \"params\": {<br>    \"take_profit\": 0.34123110924521016,<br>    \"stop_loss\": 0.09565103907125089<br>  }<br>}",
          "{<br>  \"number\": 56,<br>  \"values\": [<br>    -1.5000000000000249,<br>    0.431303940212671<br>  ],<br>  \"params\": {<br>    \"take_profit\": 0.21722644762704812,<br>    \"stop_loss\": 0.16544474656661257<br>  }<br>}",
          "{<br>  \"number\": 57,<br>  \"values\": [<br>    -1.1300000000000483,<br>    0.3785409516519472<br>  ],<br>  \"params\": {<br>    \"take_profit\": 0.17058230310106232,<br>    \"stop_loss\": 0.09805796371146802<br>  }<br>}",
          "{<br>  \"number\": 58,<br>  \"values\": [<br>    5.909999999999972,<br>    0.6225568317555608<br>  ],<br>  \"params\": {<br>    \"take_profit\": 0.46235892503362885,<br>    \"stop_loss\": 0.34609525212815995<br>  }<br>}",
          "{<br>  \"number\": 59,<br>  \"values\": [<br>    3.4800000000000213,<br>    0.5221192438524916<br>  ],<br>  \"params\": {<br>    \"take_profit\": 0.24109461632480095,<br>    \"stop_loss\": 0.40455288995287697<br>  }<br>}",
          "{<br>  \"number\": 60,<br>  \"values\": [<br>    6.569999999999958,<br>    0.6865897189565762<br>  ],<br>  \"params\": {<br>    \"take_profit\": 0.4689002421683636,<br>    \"stop_loss\": 0.5322787247195802<br>  }<br>}",
          "{<br>  \"number\": 61,<br>  \"values\": [<br>    5.729999999999997,<br>    0.6521386411310368<br>  ],<br>  \"params\": {<br>    \"take_profit\": 0.5970949258125836,<br>    \"stop_loss\": 0.3260690436028919<br>  }<br>}",
          "{<br>  \"number\": 62,<br>  \"values\": [<br>    6.529999999999955,<br>    0.6726339739620321<br>  ],<br>  \"params\": {<br>    \"take_profit\": 0.4775252329494681,<br>    \"stop_loss\": 0.4613853670997484<br>  }<br>}",
          "{<br>  \"number\": 63,<br>  \"values\": [<br>    1.739999999999982,<br>    0.47035132271739877<br>  ],<br>  \"params\": {<br>    \"take_profit\": 0.08875632949080547,<br>    \"stop_loss\": 0.41254554790994874<br>  }<br>}",
          "{<br>  \"number\": 64,<br>  \"values\": [<br>    4.789999999999999,<br>    0.5256007654242967<br>  ],<br>  \"params\": {<br>    \"take_profit\": 0.18544316440929137,<br>    \"stop_loss\": 0.5226160531745677<br>  }<br>}",
          "{<br>  \"number\": 65,<br>  \"values\": [<br>    6.399999999999999,<br>    0.6564193548049594<br>  ],<br>  \"params\": {<br>    \"take_profit\": 0.5927730019308612,<br>    \"stop_loss\": 0.3331966687967501<br>  }<br>}",
          "{<br>  \"number\": 66,<br>  \"values\": [<br>    7.479999999999993,<br>    0.5477864058546899<br>  ],<br>  \"params\": {<br>    \"take_profit\": 0.3046618797061607,<br>    \"stop_loss\": 0.4714992726763563<br>  }<br>}",
          "{<br>  \"number\": 67,<br>  \"values\": [<br>    3.5999999999999837,<br>    0.44874733821351914<br>  ],<br>  \"params\": {<br>    \"take_profit\": 0.12437212591274273,<br>    \"stop_loss\": 0.3025945850030997<br>  }<br>}",
          "{<br>  \"number\": 68,<br>  \"values\": [<br>    6.06000000000002,<br>    0.5441463944122714<br>  ],<br>  \"params\": {<br>    \"take_profit\": 0.21629404345677794,<br>    \"stop_loss\": 0.5353688803031675<br>  }<br>}",
          "{<br>  \"number\": 69,<br>  \"values\": [<br>    -0.42000000000004,<br>    0.37498551772589145<br>  ],<br>  \"params\": {<br>    \"take_profit\": 0.07928661700863204,<br>    \"stop_loss\": 0.15847025586927907<br>  }<br>}",
          "{<br>  \"number\": 70,<br>  \"values\": [<br>    3.9699999999999864,<br>    0.45695510974092285<br>  ],<br>  \"params\": {<br>    \"take_profit\": 0.17805305841186686,<br>    \"stop_loss\": 0.3053271723007889<br>  }<br>}",
          "{<br>  \"number\": 71,<br>  \"values\": [<br>    7.619999999999976,<br>    0.5626557028947632<br>  ],<br>  \"params\": {<br>    \"take_profit\": 0.4049942292595097,<br>    \"stop_loss\": 0.3551358153211372<br>  }<br>}",
          "{<br>  \"number\": 72,<br>  \"values\": [<br>    -0.6400000000000514,<br>    0.3991075057061403<br>  ],<br>  \"params\": {<br>    \"take_profit\": 0.15532629544967783,<br>    \"stop_loss\": 0.1689059599866649<br>  }<br>}",
          "{<br>  \"number\": 73,<br>  \"values\": [<br>    8.919999999999973,<br>    0.5792145793131324<br>  ],<br>  \"params\": {<br>    \"take_profit\": 0.41889084018018036,<br>    \"stop_loss\": 0.35853413327895484<br>  }<br>}",
          "{<br>  \"number\": 74,<br>  \"values\": [<br>    6.349999999999966,<br>    0.5384934063858158<br>  ],<br>  \"params\": {<br>    \"take_profit\": 0.41244813710444966,<br>    \"stop_loss\": 0.23269129713319103<br>  }<br>}",
          "{<br>  \"number\": 75,<br>  \"values\": [<br>    5.049999999999969,<br>    0.5209500456183339<br>  ],<br>  \"params\": {<br>    \"take_profit\": 0.40533662477878935,<br>    \"stop_loss\": 0.2332999423328943<br>  }<br>}",
          "{<br>  \"number\": 76,<br>  \"values\": [<br>    3.629999999999991,<br>    0.48036058454961894<br>  ],<br>  \"params\": {<br>    \"take_profit\": 0.15532629544967783,<br>    \"stop_loss\": 0.3737847689063924<br>  }<br>}",
          "{<br>  \"number\": 77,<br>  \"values\": [<br>    8.049999999999986,<br>    0.5714620331971638<br>  ],<br>  \"params\": {<br>    \"take_profit\": 0.33644182803793315,<br>    \"stop_loss\": 0.47989751952175047<br>  }<br>}",
          "{<br>  \"number\": 78,<br>  \"values\": [<br>    7.189999999999996,<br>    0.6969350106213854<br>  ],<br>  \"params\": {<br>    \"take_profit\": 0.4388427132661888,<br>    \"stop_loss\": 0.5942203730598987<br>  }<br>}",
          "{<br>  \"number\": 79,<br>  \"values\": [<br>    1.589999999999962,<br>    0.4863278686727202<br>  ],<br>  \"params\": {<br>    \"take_profit\": 0.053392947693110926,<br>    \"stop_loss\": 0.5561192967867635<br>  }<br>}",
          "{<br>  \"number\": 80,<br>  \"values\": [<br>    1.2300000000000058,<br>    0.42689036667589536<br>  ],<br>  \"params\": {<br>    \"take_profit\": 0.37027401443441904,<br>    \"stop_loss\": 0.05152728984202651<br>  }<br>}",
          "{<br>  \"number\": 82,<br>  \"values\": [<br>    0.309999999999909,<br>    0.3453409936799688<br>  ],<br>  \"params\": {<br>    \"take_profit\": 0.0595366319200447,<br>    \"stop_loss\": 0.07514395964517706<br>  }<br>}",
          "{<br>  \"number\": 83,<br>  \"values\": [<br>    2.049999999999978,<br>    0.48011378508125996<br>  ],<br>  \"params\": {<br>    \"take_profit\": 0.06594641763620393,<br>    \"stop_loss\": 0.485516170416043<br>  }<br>}",
          "{<br>  \"number\": 84,<br>  \"values\": [<br>    -0.5599999999999923,<br>    0.4508007142303757<br>  ],<br>  \"params\": {<br>    \"take_profit\": 0.3515714987530641,<br>    \"stop_loss\": 0.12631660912834602<br>  }<br>}",
          "{<br>  \"number\": 85,<br>  \"values\": [<br>    9.209999999999976,<br>    0.6438489923031092<br>  ],<br>  \"params\": {<br>    \"take_profit\": 0.4377134234845338,<br>    \"stop_loss\": 0.4613853670997484<br>  }<br>}",
          "{<br>  \"number\": 86,<br>  \"values\": [<br>    -2.0199999999999942,<br>    0.42142418764912815<br>  ],<br>  \"params\": {<br>    \"take_profit\": 0.28476758918176504,<br>    \"stop_loss\": 0.11829945399293398<br>  }<br>}",
          "{<br>  \"number\": 87,<br>  \"values\": [<br>    6.089999999999968,<br>    0.7147369806094632<br>  ],<br>  \"params\": {<br>    \"take_profit\": 0.5899602018099971,<br>    \"stop_loss\": 0.4770673875040109<br>  }<br>}",
          "{<br>  \"number\": 88,<br>  \"values\": [<br>    3.5700000000000105,<br>    0.5067319104624584<br>  ],<br>  \"params\": {<br>    \"take_profit\": 0.2405223440022396,<br>    \"stop_loss\": 0.35378574883577957<br>  }<br>}",
          "{<br>  \"number\": 89,<br>  \"values\": [<br>    1.93999999999996,<br>    0.5679093818093166<br>  ],<br>  \"params\": {<br>    \"take_profit\": 0.5365494621611177,<br>    \"stop_loss\": 0.20888889478504613<br>  }<br>}",
          "{<br>  \"number\": 90,<br>  \"values\": [<br>    1.9699999999999815,<br>    0.5439607986101678<br>  ],<br>  \"params\": {<br>    \"take_profit\": 0.5640701744487276,<br>    \"stop_loss\": 0.16690076842251408<br>  }<br>}",
          "{<br>  \"number\": 91,<br>  \"values\": [<br>    4.959999999999965,<br>    0.5201873547075326<br>  ],<br>  \"params\": {<br>    \"take_profit\": 0.39266633853285565,<br>    \"stop_loss\": 0.22654781702060695<br>  }<br>}",
          "{<br>  \"number\": 92,<br>  \"values\": [<br>    2.159999999999986,<br>    0.4945255863507522<br>  ],<br>  \"params\": {<br>    \"take_profit\": 0.06109586616842523,<br>    \"stop_loss\": 0.5639242097575835<br>  }<br>}",
          "{<br>  \"number\": 93,<br>  \"values\": [<br>    7.769999999999985,<br>    0.6019075639388859<br>  ],<br>  \"params\": {<br>    \"take_profit\": 0.331992189602339,<br>    \"stop_loss\": 0.585055210168876<br>  }<br>}",
          "{<br>  \"number\": 94,<br>  \"values\": [<br>    6.219999999999985,<br>    0.6660364778626989<br>  ],<br>  \"params\": {<br>    \"take_profit\": 0.5879330748054001,<br>    \"stop_loss\": 0.37905965636385397<br>  }<br>}",
          "{<br>  \"number\": 95,<br>  \"values\": [<br>    6.939999999999987,<br>    0.7437722925809395<br>  ],<br>  \"params\": {<br>    \"take_profit\": 0.5832464005753383,<br>    \"stop_loss\": 0.5617773236961255<br>  }<br>}",
          "{<br>  \"number\": 96,<br>  \"values\": [<br>    -0.010000000000021991,<br>    0.4669881084737834<br>  ],<br>  \"params\": {<br>    \"take_profit\": 0.33644182803793315,<br>    \"stop_loss\": 0.16690076842251408<br>  }<br>}",
          "{<br>  \"number\": 97,<br>  \"values\": [<br>    8.52999999999998,<br>    0.6641472044631906<br>  ],<br>  \"params\": {<br>    \"take_profit\": 0.4388427132661888,<br>    \"stop_loss\": 0.547536770458639<br>  }<br>}",
          "{<br>  \"number\": 98,<br>  \"values\": [<br>    6.259999999999977,<br>    0.7151922603197677<br>  ],<br>  \"params\": {<br>    \"take_profit\": 0.5930113743456349,<br>    \"stop_loss\": 0.4714731772115439<br>  }<br>}",
          "{<br>  \"number\": 99,<br>  \"values\": [<br>    5.789999999999992,<br>    0.5266822872412161<br>  ],<br>  \"params\": {<br>    \"take_profit\": 0.32268430986155655,<br>    \"stop_loss\": 0.3528403544045596<br>  }<br>}",
          "{<br>  \"number\": 100,<br>  \"values\": [<br>    4.4699999999999775,<br>    0.5004939903485359<br>  ],<br>  \"params\": {<br>    \"take_profit\": 0.14749574843279173,<br>    \"stop_loss\": 0.4431687082790919<br>  }<br>}",
          "{<br>  \"number\": 101,<br>  \"values\": [<br>    3.3400000000000025,<br>    0.509729197563083<br>  ],<br>  \"params\": {<br>    \"take_profit\": 0.12437212591274273,<br>    \"stop_loss\": 0.49334998155522575<br>  }<br>}",
          "{<br>  \"number\": 102,<br>  \"values\": [<br>    5.229999999999974,<br>    0.7094108823902746<br>  ],<br>  \"params\": {<br>    \"take_profit\": 0.48883161134639236,<br>    \"stop_loss\": 0.5674706760059371<br>  }<br>}",
          "{<br>  \"number\": 103,<br>  \"values\": [<br>    0.6200000000000001,<br>    0.43521040746451817<br>  ],<br>  \"params\": {<br>    \"take_profit\": 0.37027401443441904,<br>    \"stop_loss\": 0.08565939805852818<br>  }<br>}",
          "{<br>  \"number\": 104,<br>  \"values\": [<br>    0.40999999999999237,<br>    0.44253351690041137<br>  ],<br>  \"params\": {<br>    \"take_profit\": 0.34123110924521016,<br>    \"stop_loss\": 0.09565103907125089<br>  }<br>}",
          "{<br>  \"number\": 105,<br>  \"values\": [<br>    8.929999999999968,<br>    0.5870223064227758<br>  ],<br>  \"params\": {<br>    \"take_profit\": 0.37085426773928404,<br>    \"stop_loss\": 0.5369060645414534<br>  }<br>}",
          "{<br>  \"number\": 106,<br>  \"values\": [<br>    3.9999999999999876,<br>    0.4725222024772062<br>  ],<br>  \"params\": {<br>    \"take_profit\": 0.15532629544967783,<br>    \"stop_loss\": 0.34768162576392914<br>  }<br>}",
          "{<br>  \"number\": 107,<br>  \"values\": [<br>    1.2699999999999692,<br>    0.48026616034766234<br>  ],<br>  \"params\": {<br>    \"take_profit\": 0.06109586616842523,<br>    \"stop_loss\": 0.45477496090350455<br>  }<br>}",
          "{<br>  \"number\": 108,<br>  \"values\": [<br>    -1.1100000000000483,<br>    0.3905804811661667<br>  ],<br>  \"params\": {<br>    \"take_profit\": 0.10838326092768136,<br>    \"stop_loss\": 0.1689059599866649<br>  }<br>}",
          "{<br>  \"number\": 109,<br>  \"values\": [<br>    5.96999999999997,<br>    0.7042613029269191<br>  ],<br>  \"params\": {<br>    \"take_profit\": 0.47605777773860997,<br>    \"stop_loss\": 0.576484288968423<br>  }<br>}",
          "{<br>  \"number\": 110,<br>  \"values\": [<br>    3.629999999999991,<br>    0.48036058454961894<br>  ],<br>  \"params\": {<br>    \"take_profit\": 0.15532629544967783,<br>    \"stop_loss\": 0.3737847689063924<br>  }<br>}",
          "{<br>  \"number\": 111,<br>  \"values\": [<br>    5.959999999999962,<br>    0.6906063539344784<br>  ],<br>  \"params\": {<br>    \"take_profit\": 0.5129944978593847,<br>    \"stop_loss\": 0.4852825323992618<br>  }<br>}",
          "{<br>  \"number\": 112,<br>  \"values\": [<br>    4.069999999999978,<br>    0.4983789456509713<br>  ],<br>  \"params\": {<br>    \"take_profit\": 0.33893472016312254,<br>    \"stop_loss\": 0.24084717847197612<br>  }<br>}",
          "{<br>  \"number\": 113,<br>  \"values\": [<br>    7.6,<br>    0.6394190642551492<br>  ],<br>  \"params\": {<br>    \"take_profit\": 0.4049942292595097,<br>    \"stop_loss\": 0.5782342559019737<br>  }<br>}",
          "{<br>  \"number\": 114,<br>  \"values\": [<br>    3.279999999999964,<br>    0.5151458855962182<br>  ],<br>  \"params\": {<br>    \"take_profit\": 0.41494272163006507,<br>    \"stop_loss\": 0.1689059599866649<br>  }<br>}",
          "{<br>  \"number\": 115,<br>  \"values\": [<br>    3.38999999999999,<br>    0.48648446619301977<br>  ],<br>  \"params\": {<br>    \"take_profit\": 0.49744413205817534,<br>    \"stop_loss\": 0.05975361533952985<br>  }<br>}",
          "{<br>  \"number\": 116,<br>  \"values\": [<br>    -0.5500000000000425,<br>    0.4466748278544831<br>  ],<br>  \"params\": {<br>    \"take_profit\": 0.2080413338379899,<br>    \"stop_loss\": 0.20373806461345012<br>  }<br>}",
          "{<br>  \"number\": 117,<br>  \"values\": [<br>    8.189999999999976,<br>    0.5597608698408264<br>  ],<br>  \"params\": {<br>    \"take_profit\": 0.4193862236915465,<br>    \"stop_loss\": 0.3083485444990677<br>  }<br>}",
          "{<br>  \"number\": 118,<br>  \"values\": [<br>    1.8199999999999827,<br>    0.4653341796605213<br>  ],<br>  \"params\": {<br>    \"take_profit\": 0.40533662477878935,<br>    \"stop_loss\": 0.09805796371146802<br>  }<br>}",
          "{<br>  \"number\": 119,<br>  \"values\": [<br>    6.579999999999984,<br>    0.6605241023942651<br>  ],<br>  \"params\": {<br>    \"take_profit\": 0.5807236667347038,<br>    \"stop_loss\": 0.35227252417034044<br>  }<br>}",
          "{<br>  \"number\": 120,<br>  \"values\": [<br>    5.049999999999969,<br>    0.5209500456183339<br>  ],<br>  \"params\": {<br>    \"take_profit\": 0.40533662477878935,<br>    \"stop_loss\": 0.2332999423328943<br>  }<br>}",
          "{<br>  \"number\": 121,<br>  \"values\": [<br>    5.459999999999972,<br>    0.5838012066434896<br>  ],<br>  \"params\": {<br>    \"take_profit\": 0.5268756957838568,<br>    \"stop_loss\": 0.22654781702060695<br>  }<br>}",
          "{<br>  \"number\": 122,<br>  \"values\": [<br>    1.989999999999986,<br>    0.5075894942482571<br>  ],<br>  \"params\": {<br>    \"take_profit\": 0.41244813710444966,<br>    \"stop_loss\": 0.14206464207930858<br>  }<br>}",
          "{<br>  \"number\": 123,<br>  \"values\": [<br>    1.9399999999999689,<br>    0.4348202826423773<br>  ],<br>  \"params\": {<br>    \"take_profit\": 0.08875632949080547,<br>    \"stop_loss\": 0.31063850675492655<br>  }<br>}",
          "{<br>  \"number\": 124,<br>  \"values\": [<br>    7.479999999999993,<br>    0.5477864058546899<br>  ],<br>  \"params\": {<br>    \"take_profit\": 0.3046618797061607,<br>    \"stop_loss\": 0.4714992726763563<br>  }<br>}",
          "{<br>  \"number\": 125,<br>  \"values\": [<br>    -0.5599999999999923,<br>    0.4508007142303757<br>  ],<br>  \"params\": {<br>    \"take_profit\": 0.34123110924521016,<br>    \"stop_loss\": 0.1254568654942535<br>  }<br>}",
          "{<br>  \"number\": 126,<br>  \"values\": [<br>    7.029999999999973,<br>    0.5366364890302899<br>  ],<br>  \"params\": {<br>    \"take_profit\": 0.3726092806040369,<br>    \"stop_loss\": 0.3551358153211372<br>  }<br>}",
          "{<br>  \"number\": 127,<br>  \"values\": [<br>    6.679999999999996,<br>    0.5420866763623196<br>  ],<br>  \"params\": {<br>    \"take_profit\": 0.26420820939153805,<br>    \"stop_loss\": 0.4766703276283116<br>  }<br>}",
          "{<br>  \"number\": 128,<br>  \"values\": [<br>    5.099999999999994,<br>    0.5256259760197045<br>  ],<br>  \"params\": {<br>    \"take_profit\": 0.17805305841186686,<br>    \"stop_loss\": 0.5304113232844587<br>  }<br>}",
          "{<br>  \"number\": 129,<br>  \"values\": [<br>    4.41,<br>    0.6597735751018657<br>  ],<br>  \"params\": {<br>    \"take_profit\": 0.5305779120851668,<br>    \"stop_loss\": 0.3905498740858087<br>  }<br>}",
          "{<br>  \"number\": 130,<br>  \"values\": [<br>    6.409999999999966,<br>    0.7071963183060546<br>  ],<br>  \"params\": {<br>    \"take_profit\": 0.5875751074908843,<br>    \"stop_loss\": 0.44584706863991097<br>  }<br>}",
          "{<br>  \"number\": 131,<br>  \"values\": [<br>    0.2799999999999461,<br>    0.40472411196430214<br>  ],<br>  \"params\": {<br>    \"take_profit\": 0.11997065403121249,<br>    \"stop_loss\": 0.20373641222031869<br>  }<br>}",
          "{<br>  \"number\": 132,<br>  \"values\": [<br>    5.299999999999997,<br>    0.5110256549301566<br>  ],<br>  \"params\": {<br>    \"take_profit\": 0.3046618797061607,<br>    \"stop_loss\": 0.36957997493472405<br>  }<br>}",
          "{<br>  \"number\": 133,<br>  \"values\": [<br>    5.490000000000016,<br>    0.5426699836943746<br>  ],<br>  \"params\": {<br>    \"take_profit\": 0.22442777398816444,<br>    \"stop_loss\": 0.4714992726763563<br>  }<br>}",
          "{<br>  \"number\": 134,<br>  \"values\": [<br>    3.629999999999991,<br>    0.48036058454961894<br>  ],<br>  \"params\": {<br>    \"take_profit\": 0.15532629544967783,<br>    \"stop_loss\": 0.3737847689063924<br>  }<br>}",
          "{<br>  \"number\": 135,<br>  \"values\": [<br>    7.729999999999983,<br>    0.548524447023982<br>  ],<br>  \"params\": {<br>    \"take_profit\": 0.3515714987530641,<br>    \"stop_loss\": 0.41254554790994874<br>  }<br>}",
          "{<br>  \"number\": 136,<br>  \"values\": [<br>    3.5500000000000105,<br>    0.5136836239906977<br>  ],<br>  \"params\": {<br>    \"take_profit\": 0.12562772687422358,<br>    \"stop_loss\": 0.5377361564305431<br>  }<br>}",
          "{<br>  \"number\": 137,<br>  \"values\": [<br>    6.489999999999963,<br>    0.6738716890138933<br>  ],<br>  \"params\": {<br>    \"take_profit\": 0.4490403569712692,<br>    \"stop_loss\": 0.5226160531745677<br>  }<br>}",
          "{<br>  \"number\": 138,<br>  \"values\": [<br>    7.529999999999973,<br>    0.5619690145669362<br>  ],<br>  \"params\": {<br>    \"take_profit\": 0.39266633853285565,<br>    \"stop_loss\": 0.3528403544045596<br>  }<br>}",
          "{<br>  \"number\": 139,<br>  \"values\": [<br>    4.2699999999999845,<br>    0.4694401583628492<br>  ],<br>  \"params\": {<br>    \"take_profit\": 0.15532629544967783,<br>    \"stop_loss\": 0.3265770655408753<br>  }<br>}",
          "{<br>  \"number\": 141,<br>  \"values\": [<br>    2.259999999999986,<br>    0.4805351265397599<br>  ],<br>  \"params\": {<br>    \"take_profit\": 0.08755945070889459,<br>    \"stop_loss\": 0.47989751952175047<br>  }<br>}",
          "{<br>  \"number\": 142,<br>  \"values\": [<br>    4.010000000000001,<br>    0.47978614532523184<br>  ],<br>  \"params\": {<br>    \"take_profit\": 0.2359862894369339,<br>    \"stop_loss\": 0.30814304343611104<br>  }<br>}",
          "{<br>  \"number\": 143,<br>  \"values\": [<br>    -2.090000000000032,<br>    0.37753585589005756<br>  ],<br>  \"params\": {<br>    \"take_profit\": 0.11893738952979167,<br>    \"stop_loss\": 0.12631660912834602<br>  }<br>}",
          "{<br>  \"number\": 144,<br>  \"values\": [<br>    2.9299999999999735,<br>    0.5275913381766514<br>  ],<br>  \"params\": {<br>    \"take_profit\": 0.4388427132661888,<br>    \"stop_loss\": 0.1573896782443731<br>  }<br>}",
          "{<br>  \"number\": 145,<br>  \"values\": [<br>    7.479999999999993,<br>    0.5477864058546899<br>  ],<br>  \"params\": {<br>    \"take_profit\": 0.3046618797061607,<br>    \"stop_loss\": 0.4714992726763563<br>  }<br>}",
          "{<br>  \"number\": 146,<br>  \"values\": [<br>    2.39999999999995,<br>    0.4715710325648992<br>  ],<br>  \"params\": {<br>    \"take_profit\": 0.0595366319200447,<br>    \"stop_loss\": 0.5233352191132552<br>  }<br>}",
          "{<br>  \"number\": 147,<br>  \"values\": [<br>    -0.020000000000047535,<br>    0.45823152858227495<br>  ],<br>  \"params\": {<br>    \"take_profit\": 0.3199034797738727,<br>    \"stop_loss\": 0.18638205096201382<br>  }<br>}",
          "{<br>  \"number\": 148,<br>  \"values\": [<br>    -2.1400000000000454,<br>    0.3926167655813515<br>  ],<br>  \"params\": {<br>    \"take_profit\": 0.17260745355468038,<br>    \"stop_loss\": 0.13681743990029394<br>  }<br>}",
          "{<br>  \"number\": 149,<br>  \"values\": [<br>    4.4800000000000075,<br>    0.5085599910166059<br>  ],<br>  \"params\": {<br>    \"take_profit\": 0.5844843491361422,<br>    \"stop_loss\": 0.05881500969702432<br>  }<br>}",
          "{<br>  \"number\": 150,<br>  \"values\": [<br>    0.309999999999909,<br>    0.3453409936799688<br>  ],<br>  \"params\": {<br>    \"take_profit\": 0.0595366319200447,<br>    \"stop_loss\": 0.07514395964517706<br>  }<br>}",
          "{<br>  \"number\": 151,<br>  \"values\": [<br>    5.8199999999999825,<br>    0.5229666351775383<br>  ],<br>  \"params\": {<br>    \"take_profit\": 0.33883125598324193,<br>    \"stop_loss\": 0.3265770655408753<br>  }<br>}",
          "{<br>  \"number\": 153,<br>  \"values\": [<br>    1.9399999999999689,<br>    0.4348202826423773<br>  ],<br>  \"params\": {<br>    \"take_profit\": 0.08875632949080547,<br>    \"stop_loss\": 0.31063850675492655<br>  }<br>}",
          "{<br>  \"number\": 154,<br>  \"values\": [<br>    3.699999999999995,<br>    0.48336892902000866<br>  ],<br>  \"params\": {<br>    \"take_profit\": 0.14716195580030333,<br>    \"stop_loss\": 0.40158912840069394<br>  }<br>}",
          "{<br>  \"number\": 155,<br>  \"values\": [<br>    5.959999999999962,<br>    0.6906063539344784<br>  ],<br>  \"params\": {<br>    \"take_profit\": 0.5105462753957023,<br>    \"stop_loss\": 0.4766703276283116<br>  }<br>}",
          "{<br>  \"number\": 156,<br>  \"values\": [<br>    -0.6700000000000141,<br>    0.417029097256309<br>  ],<br>  \"params\": {<br>    \"take_profit\": 0.31226248005294754,<br>    \"stop_loss\": 0.09565103907125089<br>  }<br>}",
          "{<br>  \"number\": 157,<br>  \"values\": [<br>    7.909999999999965,<br>    0.6161632381882863<br>  ],<br>  \"params\": {<br>    \"take_profit\": 0.3726092806040369,<br>    \"stop_loss\": 0.5872631095203508<br>  }<br>}",
          "{<br>  \"number\": 158,<br>  \"values\": [<br>    5.8199999999999825,<br>    0.5229666351775383<br>  ],<br>  \"params\": {<br>    \"take_profit\": 0.3376277658272184,<br>    \"stop_loss\": 0.3265770655408753<br>  }<br>}",
          "{<br>  \"number\": 159,<br>  \"values\": [<br>    5.789999999999992,<br>    0.5266822872412161<br>  ],<br>  \"params\": {<br>    \"take_profit\": 0.32268430986155655,<br>    \"stop_loss\": 0.3528403544045596<br>  }<br>}",
          "{<br>  \"number\": 160,<br>  \"values\": [<br>    -1.570000000000046,<br>    0.38311402293656244<br>  ],<br>  \"params\": {<br>    \"take_profit\": 0.18942825736496038,<br>    \"stop_loss\": 0.09437797836085968<br>  }<br>}",
          "{<br>  \"number\": 161,<br>  \"values\": [<br>    1.4799999999999507,<br>    0.42694353856683015<br>  ],<br>  \"params\": {<br>    \"take_profit\": 0.09213137643214683,<br>    \"stop_loss\": 0.2517836637117139<br>  }<br>}",
          "{<br>  \"number\": 163,<br>  \"values\": [<br>    7.719999999999992,<br>    0.5479382229516031<br>  ],<br>  \"params\": {<br>    \"take_profit\": 0.41889084018018036,<br>    \"stop_loss\": 0.2776809362529668<br>  }<br>}",
          "{<br>  \"number\": 164,<br>  \"values\": [<br>    8.84999999999997,<br>    0.5884904475909273<br>  ],<br>  \"params\": {<br>    \"take_profit\": 0.37027401443441904,<br>    \"stop_loss\": 0.5508622214263461<br>  }<br>}",
          "{<br>  \"number\": 165,<br>  \"values\": [<br>    1.0799999999999552,<br>    0.44778223015289653<br>  ],<br>  \"params\": {<br>    \"take_profit\": 0.06551688349859834,<br>    \"stop_loss\": 0.3265770655408753<br>  }<br>}",
          "{<br>  \"number\": 166,<br>  \"values\": [<br>    7.479999999999993,<br>    0.5477864058546899<br>  ],<br>  \"params\": {<br>    \"take_profit\": 0.3046618797061607,<br>    \"stop_loss\": 0.47989751952175047<br>  }<br>}",
          "{<br>  \"number\": 167,<br>  \"values\": [<br>    8.929999999999968,<br>    0.5870223064227758<br>  ],<br>  \"params\": {<br>    \"take_profit\": 0.37027401443441904,<br>    \"stop_loss\": 0.5372208293404493<br>  }<br>}",
          "{<br>  \"number\": 168,<br>  \"values\": [<br>    3.039999999999995,<br>    0.47370233624966296<br>  ],<br>  \"params\": {<br>    \"take_profit\": 0.26420820939153805,<br>    \"stop_loss\": 0.2563476101703586<br>  }<br>}",
          "{<br>  \"number\": 169,<br>  \"values\": [<br>    2.0499999999999803,<br>    0.46101043877766984<br>  ],<br>  \"params\": {<br>    \"take_profit\": 0.2238721469219921,<br>    \"stop_loss\": 0.23269129713319103<br>  }<br>}",
          "{<br>  \"number\": 171,<br>  \"values\": [<br>    8.539999999999985,<br>    0.5765406636124195<br>  ],<br>  \"params\": {<br>    \"take_profit\": 0.4004834849679575,<br>    \"stop_loss\": 0.41254554790994874<br>  }<br>}",
          "{<br>  \"number\": 172,<br>  \"values\": [<br>    8.649999999999988,<br>    0.5524348730980996<br>  ],<br>  \"params\": {<br>    \"take_profit\": 0.3118031495741312,<br>    \"stop_loss\": 0.5423212697820018<br>  }<br>}",
          "{<br>  \"number\": 173,<br>  \"values\": [<br>    -0.4800000000000466,<br>    0.36538792171243567<br>  ],<br>  \"params\": {<br>    \"take_profit\": 0.17805305841186686,<br>    \"stop_loss\": 0.07514395964517706<br>  }<br>}",
          "{<br>  \"number\": 174,<br>  \"values\": [<br>    4.5699999999999825,<br>    0.4485190702761521<br>  ],<br>  \"params\": {<br>    \"take_profit\": 0.15532629544967783,<br>    \"stop_loss\": 0.30580647115772946<br>  }<br>}",
          "{<br>  \"number\": 175,<br>  \"values\": [<br>    4.4699999999999775,<br>    0.5004939903485359<br>  ],<br>  \"params\": {<br>    \"take_profit\": 0.14749574843279173,<br>    \"stop_loss\": 0.4431687082790919<br>  }<br>}",
          "{<br>  \"number\": 176,<br>  \"values\": [<br>    3.5999999999999837,<br>    0.44874733821351914<br>  ],<br>  \"params\": {<br>    \"take_profit\": 0.11980121255209804,<br>    \"stop_loss\": 0.3080033578014778<br>  }<br>}",
          "{<br>  \"number\": 177,<br>  \"values\": [<br>    9.309999999999963,<br>    0.6381631856644456<br>  ],<br>  \"params\": {<br>    \"take_profit\": 0.4330364260875638,<br>    \"stop_loss\": 0.4431687082790919<br>  }<br>}",
          "{<br>  \"number\": 178,<br>  \"values\": [<br>    -1.3699999999999886,<br>    0.43854377245512<br>  ],<br>  \"params\": {<br>    \"take_profit\": 0.32268430986155655,<br>    \"stop_loss\": 0.12557695846198802<br>  }<br>}",
          "{<br>  \"number\": 180,<br>  \"values\": [<br>    6.189999999999966,<br>    0.6930559033780033<br>  ],<br>  \"params\": {<br>    \"take_profit\": 0.5229393571224463,<br>    \"stop_loss\": 0.4714992726763563<br>  }<br>}",
          "{<br>  \"number\": 181,<br>  \"values\": [<br>    4.139999999999983,<br>    0.6289513980516386<br>  ],<br>  \"params\": {<br>    \"take_profit\": 0.5310124855278281,<br>    \"stop_loss\": 0.3025945850030997<br>  }<br>}",
          "{<br>  \"number\": 182,<br>  \"values\": [<br>    5.7699999999999925,<br>    0.5998367672763506<br>  ],<br>  \"params\": {<br>    \"take_profit\": 0.5194140617556572,<br>    \"stop_loss\": 0.26581263068838124<br>  }<br>}",
          "{<br>  \"number\": 183,<br>  \"values\": [<br>    6.420000000000002,<br>    0.5172961498664638<br>  ],<br>  \"params\": {<br>    \"take_profit\": 0.26420820939153805,<br>    \"stop_loss\": 0.4250026356435156<br>  }<br>}",
          "{<br>  \"number\": 184,<br>  \"values\": [<br>    4.2699999999999845,<br>    0.4694401583628492<br>  ],<br>  \"params\": {<br>    \"take_profit\": 0.15532629544967783,<br>    \"stop_loss\": 0.3265770655408753<br>  }<br>}",
          "{<br>  \"number\": 185,<br>  \"values\": [<br>    3.8500000000000036,<br>    0.4680968345737438<br>  ],<br>  \"params\": {<br>    \"take_profit\": 0.24651512718545382,<br>    \"stop_loss\": 0.2665791402748821<br>  }<br>}",
          "{<br>  \"number\": 186,<br>  \"values\": [<br>    6.9399999999999835,<br>    0.5516458019878563<br>  ],<br>  \"params\": {<br>    \"take_profit\": 0.37085426773928404,<br>    \"stop_loss\": 0.40339515907882945<br>  }<br>}",
          "{<br>  \"number\": 187,<br>  \"values\": [<br>    4.640000000000001,<br>    0.5409514909449425<br>  ],<br>  \"params\": {<br>    \"take_profit\": 0.21746801106030206,<br>    \"stop_loss\": 0.4431687082790919<br>  }<br>}",
          "{<br>  \"number\": 188,<br>  \"values\": [<br>    -2.090000000000032,<br>    0.37753585589005756<br>  ],<br>  \"params\": {<br>    \"take_profit\": 0.11893738952979167,<br>    \"stop_loss\": 0.12631660912834602<br>  }<br>}",
          "{<br>  \"number\": 189,<br>  \"values\": [<br>    3.3399999999999497,<br>    0.5451840389592529<br>  ],<br>  \"params\": {<br>    \"take_profit\": 0.4377134234845338,<br>    \"stop_loss\": 0.2037011760030818<br>  }<br>}",
          "{<br>  \"number\": 190,<br>  \"values\": [<br>    8.879999999999999,<br>    0.5767027825093065<br>  ],<br>  \"params\": {<br>    \"take_profit\": 0.335589419299287,<br>    \"stop_loss\": 0.567752123063268<br>  }<br>}",
          "{<br>  \"number\": 191,<br>  \"values\": [<br>    3.6899999999999826,<br>    0.49499260896182024<br>  ],<br>  \"params\": {<br>    \"take_profit\": 0.32268430986155655,<br>    \"stop_loss\": 0.2498014652672499<br>  }<br>}",
          "{<br>  \"number\": 192,<br>  \"values\": [<br>    9.209999999999976,<br>    0.6438489923031092<br>  ],<br>  \"params\": {<br>    \"take_profit\": 0.4377134234845338,<br>    \"stop_loss\": 0.4613853670997484<br>  }<br>}",
          "{<br>  \"number\": 193,<br>  \"values\": [<br>    4.629999999999985,<br>    0.49352407365676554<br>  ],<br>  \"params\": {<br>    \"take_profit\": 0.3008081233229447,<br>    \"stop_loss\": 0.3026282171902923<br>  }<br>}",
          "{<br>  \"number\": 195,<br>  \"values\": [<br>    -0.8500000000000187,<br>    0.3920324199381328<br>  ],<br>  \"params\": {<br>    \"take_profit\": 0.25674176617016703,<br>    \"stop_loss\": 0.07514395964517706<br>  }<br>}",
          "{<br>  \"number\": 197,<br>  \"values\": [<br>    7.619999999999976,<br>    0.5626557028947632<br>  ],<br>  \"params\": {<br>    \"take_profit\": 0.4006886540006692,<br>    \"stop_loss\": 0.3528403544045596<br>  }<br>}",
          "{<br>  \"number\": 198,<br>  \"values\": [<br>    7.339999999999993,<br>    0.5469530032646341<br>  ],<br>  \"params\": {<br>    \"take_profit\": 0.2882938259974903,<br>    \"stop_loss\": 0.48353449041391056<br>  }<br>}",
          "{<br>  \"number\": 199,<br>  \"values\": [<br>    3.8599999999999888,<br>    0.47791077480810773<br>  ],<br>  \"params\": {<br>    \"take_profit\": 0.4561716291348539,<br>    \"stop_loss\": 0.059790272253240226<br>  }<br>}",
          "{<br>  \"number\": 200,<br>  \"values\": [<br>    8.069999999999958,<br>    0.5785477577307082<br>  ],<br>  \"params\": {<br>    \"take_profit\": 0.37027401443441904,<br>    \"stop_loss\": 0.4592973374327473<br>  }<br>}",
          "{<br>  \"number\": 201,<br>  \"values\": [<br>    6.519999999999971,<br>    0.5193321952028793<br>  ],<br>  \"params\": {<br>    \"take_profit\": 0.37027401443441904,<br>    \"stop_loss\": 0.3026282171902923<br>  }<br>}",
          "{<br>  \"number\": 202,<br>  \"values\": [<br>    3.019999999999999,<br>    0.4735810836898332<br>  ],<br>  \"params\": {<br>    \"take_profit\": 0.25289224093219864,<br>    \"stop_loss\": 0.2582630770184258<br>  }<br>}",
          "{<br>  \"number\": 203,<br>  \"values\": [<br>    2.559999999999987,<br>    0.5040649160765645<br>  ],<br>  \"params\": {<br>    \"take_profit\": 0.1029442096532408,<br>    \"stop_loss\": 0.4714992726763563<br>  }<br>}",
          "{<br>  \"number\": 204,<br>  \"values\": [<br>    7.789999999999981,<br>    0.5500370584979594<br>  ],<br>  \"params\": {<br>    \"take_profit\": 0.3192342804675916,<br>    \"stop_loss\": 0.4714731772115439<br>  }<br>}",
          "{<br>  \"number\": 205,<br>  \"values\": [<br>    5.489999999999988,<br>    0.5074851431498208<br>  ],<br>  \"params\": {<br>    \"take_profit\": 0.15810313826523636,<br>    \"stop_loss\": 0.5056360312048226<br>  }<br>}",
          "{<br>  \"number\": 206,<br>  \"values\": [<br>    7.029999999999973,<br>    0.5366364890302899<br>  ],<br>  \"params\": {<br>    \"take_profit\": 0.37130609954160365,<br>    \"stop_loss\": 0.3551358153211372<br>  }<br>}",
          "{<br>  \"number\": 207,<br>  \"values\": [<br>    2.1899999999999826,<br>    0.49286136891711296<br>  ],<br>  \"params\": {<br>    \"take_profit\": 0.09419921517949252,<br>    \"stop_loss\": 0.5450083783390466<br>  }<br>}",
          "{<br>  \"number\": 208,<br>  \"values\": [<br>    0.049999999999942146,<br>    0.40334299819954395<br>  ],<br>  \"params\": {<br>    \"take_profit\": 0.10692894086145091,<br>    \"stop_loss\": 0.20373641222031869<br>  }<br>}",
          "{<br>  \"number\": 210,<br>  \"values\": [<br>    2.239999999999978,<br>    0.46820359085320007<br>  ],<br>  \"params\": {<br>    \"take_profit\": 0.10031970000183371,<br>    \"stop_loss\": 0.35603876062825873<br>  }<br>}",
          "{<br>  \"number\": 211,<br>  \"values\": [<br>    7.029999999999973,<br>    0.5366364890302899<br>  ],<br>  \"params\": {<br>    \"take_profit\": 0.36361457185921053,<br>    \"stop_loss\": 0.3551358153211372<br>  }<br>}",
          "{<br>  \"number\": 212,<br>  \"values\": [<br>    6.1699999999999875,<br>    0.6710937136204876<br>  ],<br>  \"params\": {<br>    \"take_profit\": 0.5644757173400994,<br>    \"stop_loss\": 0.41254554790994874<br>  }<br>}",
          "{<br>  \"number\": 213,<br>  \"values\": [<br>    0.09999999999999815,<br>    0.4519136880035372<br>  ],<br>  \"params\": {<br>    \"take_profit\": 0.38845468491642443,<br>    \"stop_loss\": 0.10458751124507185<br>  }<br>}",
          "{<br>  \"number\": 214,<br>  \"values\": [<br>    5.669999999999952,<br>    0.5722702773742467<br>  ],<br>  \"params\": {<br>    \"take_profit\": 0.4640530503411183,<br>    \"stop_loss\": 0.23269129713319103<br>  }<br>}",
          "{<br>  \"number\": 216,<br>  \"values\": [<br>    2.5099999999999616,<br>    0.5112618239099664<br>  ],<br>  \"params\": {<br>    \"take_profit\": 0.3981032722831322,<br>    \"stop_loss\": 0.21768724937566913<br>  }<br>}",
          "{<br>  \"number\": 217,<br>  \"values\": [<br>    2.7299999999999605,<br>    0.511220574030735<br>  ],<br>  \"params\": {<br>    \"take_profit\": 0.4004834849679575,<br>    \"stop_loss\": 0.20177407872159753<br>  }<br>}",
          "{<br>  \"number\": 218,<br>  \"values\": [<br>    5.489999999999988,<br>    0.5074851431498208<br>  ],<br>  \"params\": {<br>    \"take_profit\": 0.15532629544967783,<br>    \"stop_loss\": 0.47355460110094616<br>  }<br>}",
          "{<br>  \"number\": 219,<br>  \"values\": [<br>    2.37,<br>    0.4467697642211503<br>  ],<br>  \"params\": {<br>    \"take_profit\": 0.39203218645094673,<br>    \"stop_loss\": 0.050034235568856146<br>  }<br>}",
          "{<br>  \"number\": 220,<br>  \"values\": [<br>    4.489999999999977,<br>    0.6244452939644278<br>  ],<br>  \"params\": {<br>    \"take_profit\": 0.5047769954037227,<br>    \"stop_loss\": 0.31063850675492655<br>  }<br>}",
          "{<br>  \"number\": 221,<br>  \"values\": [<br>    -1.5500000000000578,<br>    0.36532617764091313<br>  ],<br>  \"params\": {<br>    \"take_profit\": 0.07928661700863204,<br>    \"stop_loss\": 0.11632303906484755<br>  }<br>}",
          "{<br>  \"number\": 222,<br>  \"values\": [<br>    2.239999999999978,<br>    0.46820359085320007<br>  ],<br>  \"params\": {<br>    \"take_profit\": 0.1006078273144902,<br>    \"stop_loss\": 0.35227252417034044<br>  }<br>}",
          "{<br>  \"number\": 223,<br>  \"values\": [<br>    1.8699999999999632,<br>    0.4736114068578607<br>  ],<br>  \"params\": {<br>    \"take_profit\": 0.0595366319200447,<br>    \"stop_loss\": 0.5021537283597226<br>  }<br>}",
          "{<br>  \"number\": 225,<br>  \"values\": [<br>    6.529999999999994,<br>    0.5274407959380536<br>  ],<br>  \"params\": {<br>    \"take_profit\": 0.3192342804675916,<br>    \"stop_loss\": 0.41254554790994874<br>  }<br>}",
          "{<br>  \"number\": 226,<br>  \"values\": [<br>    8.189999999999966,<br>    0.584740529707447<br>  ],<br>  \"params\": {<br>    \"take_profit\": 0.37027401443441904,<br>    \"stop_loss\": 0.4714992726763563<br>  }<br>}",
          "{<br>  \"number\": 227,<br>  \"values\": [<br>    4.5699999999999825,<br>    0.4485190702761521<br>  ],<br>  \"params\": {<br>    \"take_profit\": 0.15532629544967783,<br>    \"stop_loss\": 0.3026282171902923<br>  }<br>}",
          "{<br>  \"number\": 228,<br>  \"values\": [<br>    7.789999999999981,<br>    0.5500370584979594<br>  ],<br>  \"params\": {<br>    \"take_profit\": 0.31535576919890557,<br>    \"stop_loss\": 0.4714992726763563<br>  }<br>}",
          "{<br>  \"number\": 229,<br>  \"values\": [<br>    -0.2099999999999999,<br>    0.3990844688899705<br>  ],<br>  \"params\": {<br>    \"take_profit\": 0.3046618797061607,<br>    \"stop_loss\": 0.06302745552319339<br>  }<br>}",
          "{<br>  \"number\": 230,<br>  \"values\": [<br>    1.089999999999995,<br>    0.42992772144956254<br>  ],<br>  \"params\": {<br>    \"take_profit\": 0.37027401443441904,<br>    \"stop_loss\": 0.0782065595513962<br>  }<br>}",
          "{<br>  \"number\": 231,<br>  \"values\": [<br>    2.329999999999994,<br>    0.44755854848386883<br>  ],<br>  \"params\": {<br>    \"take_profit\": 0.40010682704755013,<br>    \"stop_loss\": 0.06906531266687606<br>  }<br>}",
          "{<br>  \"number\": 232,<br>  \"values\": [<br>    9.169999999999963,<br>    0.6198994613596706<br>  ],<br>  \"params\": {<br>    \"take_profit\": 0.4129565441875569,<br>    \"stop_loss\": 0.44781027653105765<br>  }<br>}",
          "{<br>  \"number\": 233,<br>  \"values\": [<br>    6.679999999999996,<br>    0.5420866763623196<br>  ],<br>  \"params\": {<br>    \"take_profit\": 0.26420820939153805,<br>    \"stop_loss\": 0.4766703276283116<br>  }<br>}",
          "{<br>  \"number\": 234,<br>  \"values\": [<br>    -1.0699999999999832,<br>    0.44524124408246196<br>  ],<br>  \"params\": {<br>    \"take_profit\": 0.335589419299287,<br>    \"stop_loss\": 0.12312160163287675<br>  }<br>}",
          "{<br>  \"number\": 235,<br>  \"values\": [<br>    5.159999999999997,<br>    0.5100901767956205<br>  ],<br>  \"params\": {<br>    \"take_profit\": 0.28415324256254004,<br>    \"stop_loss\": 0.35853413327895484<br>  }<br>}",
          "{<br>  \"number\": 236,<br>  \"values\": [<br>    5.499999999999947,<br>    0.6812796066433789<br>  ],<br>  \"params\": {<br>    \"take_profit\": 0.4841280058554661,<br>    \"stop_loss\": 0.4760954631677856<br>  }<br>}",
          "{<br>  \"number\": 237,<br>  \"values\": [<br>    3.5799999999999836,<br>    0.47025209000387325<br>  ],<br>  \"params\": {<br>    \"take_profit\": 0.4193862236915465,<br>    \"stop_loss\": 0.07577329555284704<br>  }<br>}",
          "{<br>  \"number\": 238,<br>  \"values\": [<br>    2.1799999999999877,<br>    0.4803656008354054<br>  ],<br>  \"params\": {<br>    \"take_profit\": 0.07928661700863204,<br>    \"stop_loss\": 0.4955961905809677<br>  }<br>}",
          "{<br>  \"number\": 239,<br>  \"values\": [<br>    7.029999999999973,<br>    0.5366364890302899<br>  ],<br>  \"params\": {<br>    \"take_profit\": 0.3757037840068873,<br>    \"stop_loss\": 0.35308406529672687<br>  }<br>}",
          "{<br>  \"number\": 240,<br>  \"values\": [<br>    4.8700000000000125,<br>    0.5259747761922308<br>  ],<br>  \"params\": {<br>    \"take_profit\": 0.16019361082715627,<br>    \"stop_loss\": 0.567752123063268<br>  }<br>}",
          "{<br>  \"number\": 241,<br>  \"values\": [<br>    5.61999999999998,<br>    0.5102706753972844<br>  ],<br>  \"params\": {<br>    \"take_profit\": 0.3192342804675916,<br>    \"stop_loss\": 0.34468889389289353<br>  }<br>}",
          "{<br>  \"number\": 242,<br>  \"values\": [<br>    3.3400000000000025,<br>    0.509729197563083<br>  ],<br>  \"params\": {<br>    \"take_profit\": 0.12236610772586463,<br>    \"stop_loss\": 0.5056360312048226<br>  }<br>}",
          "{<br>  \"number\": 243,<br>  \"values\": [<br>    0.6200000000000001,<br>    0.43521040746451817<br>  ],<br>  \"params\": {<br>    \"take_profit\": 0.37027401443441904,<br>    \"stop_loss\": 0.08395302319013684<br>  }<br>}",
          "{<br>  \"number\": 244,<br>  \"values\": [<br>    1.5199999999999991,<br>    0.5428602410143848<br>  ],<br>  \"params\": {<br>    \"take_profit\": 0.5368595545837354,<br>    \"stop_loss\": 0.15184586330418937<br>  }<br>}",
          "{<br>  \"number\": 245,<br>  \"values\": [<br>    3.3899999999999957,<br>    0.4830281111809425<br>  ],<br>  \"params\": {<br>    \"take_profit\": 0.17805305841186686,<br>    \"stop_loss\": 0.35853413327895484<br>  }<br>}",
          "{<br>  \"number\": 246,<br>  \"values\": [<br>    5.85999999999996,<br>    0.6736962938660869<br>  ],<br>  \"params\": {<br>    \"take_profit\": 0.46844911803775513,<br>    \"stop_loss\": 0.4969339224170344<br>  }<br>}",
          "{<br>  \"number\": 247,<br>  \"values\": [<br>    7.729999999999983,<br>    0.548524447023982<br>  ],<br>  \"params\": {<br>    \"take_profit\": 0.3515714987530641,<br>    \"stop_loss\": 0.41254554790994874<br>  }<br>}",
          "{<br>  \"number\": 248,<br>  \"values\": [<br>    -0.3399999999999935,<br>    0.45302336897725903<br>  ],<br>  \"params\": {<br>    \"take_profit\": 0.3605548187477155,<br>    \"stop_loss\": 0.11541073883182262<br>  }<br>}",
          "{<br>  \"number\": 249,<br>  \"values\": [<br>    -0.3100000000000671,<br>    0.34695643712547974<br>  ],<br>  \"params\": {<br>    \"take_profit\": 0.08875632949080547,<br>    \"stop_loss\": 0.07514395964517706<br>  }<br>}",
          "{<br>  \"number\": 250,<br>  \"values\": [<br>    7.729999999999983,<br>    0.548524447023982<br>  ],<br>  \"params\": {<br>    \"take_profit\": 0.3515714987530641,<br>    \"stop_loss\": 0.41254554790994874<br>  }<br>}",
          "{<br>  \"number\": 251,<br>  \"values\": [<br>    8.159999999999979,<br>    0.6221699762042051<br>  ],<br>  \"params\": {<br>    \"take_profit\": 0.39203218645094673,<br>    \"stop_loss\": 0.5349177715800677<br>  }<br>}",
          "{<br>  \"number\": 252,<br>  \"values\": [<br>    6.869999999999987,<br>    0.6035942835809481<br>  ],<br>  \"params\": {<br>    \"take_profit\": 0.3835557255263644,<br>    \"stop_loss\": 0.5349177715800677<br>  }<br>}",
          "{<br>  \"number\": 253,<br>  \"values\": [<br>    6.420000000000002,<br>    0.5172961498664638<br>  ],<br>  \"params\": {<br>    \"take_profit\": 0.26420820939153805,<br>    \"stop_loss\": 0.4250026356435156<br>  }<br>}",
          "{<br>  \"number\": 254,<br>  \"values\": [<br>    -0.4700000000000233,<br>    0.3897391129682589<br>  ],<br>  \"params\": {<br>    \"take_profit\": 0.23248217013404965,<br>    \"stop_loss\": 0.07514395964517706<br>  }<br>}",
          "{<br>  \"number\": 255,<br>  \"values\": [<br>    7.029999999999973,<br>    0.5366364890302899<br>  ],<br>  \"params\": {<br>    \"take_profit\": 0.3726092806040369,<br>    \"stop_loss\": 0.3551358153211372<br>  }<br>}",
          "{<br>  \"number\": 256,<br>  \"values\": [<br>    0.6900000000000137,<br>    0.42123685632958907<br>  ],<br>  \"params\": {<br>    \"take_profit\": 0.335589419299287,<br>    \"stop_loss\": 0.05148904759415297<br>  }<br>}",
          "{<br>  \"number\": 257,<br>  \"values\": [<br>    7.299999999999995,<br>    0.6800722411315974<br>  ],<br>  \"params\": {<br>    \"take_profit\": 0.4193862236915465,<br>    \"stop_loss\": 0.591482308360695<br>  }<br>}",
          "{<br>  \"number\": 258,<br>  \"values\": [<br>    4.359999999999982,<br>    0.47589427189733136<br>  ],<br>  \"params\": {<br>    \"take_profit\": 0.4330364260875638,<br>    \"stop_loss\": 0.06906531266687606<br>  }<br>}",
          "{<br>  \"number\": 259,<br>  \"values\": [<br>    4.059999999999992,<br>    0.4990175380454475<br>  ],<br>  \"params\": {<br>    \"take_profit\": 0.26420820939153805,<br>    \"stop_loss\": 0.32170532673666596<br>  }<br>}",
          "{<br>  \"number\": 260,<br>  \"values\": [<br>    6.220000000000006,<br>    0.5250869222632197<br>  ],<br>  \"params\": {<br>    \"take_profit\": 0.3046618797061607,<br>    \"stop_loss\": 0.41291926719943<br>  }<br>}",
          "{<br>  \"number\": 261,<br>  \"values\": [<br>    7.419999999999998,<br>    0.5439693240421241<br>  ],<br>  \"params\": {<br>    \"take_profit\": 0.2761527601271156,<br>    \"stop_loss\": 0.5369060645414534<br>  }<br>}",
          "{<br>  \"number\": 262,<br>  \"values\": [<br>    4.5699999999999825,<br>    0.4485190702761521<br>  ],<br>  \"params\": {<br>    \"take_profit\": 0.15532629544967783,<br>    \"stop_loss\": 0.30580647115772946<br>  }<br>}",
          "{<br>  \"number\": 263,<br>  \"values\": [<br>    -1.8799999999999937,<br>    0.42271100479261076<br>  ],<br>  \"params\": {<br>    \"take_profit\": 0.30586803091518805,<br>    \"stop_loss\": 0.12453860399943706<br>  }<br>}",
          "{<br>  \"number\": 264,<br>  \"values\": [<br>    7.669999999999991,<br>    0.5686495485495983<br>  ],<br>  \"params\": {<br>    \"take_profit\": 0.3240937119738674,<br>    \"stop_loss\": 0.4854551596851675<br>  }<br>}",
          "{<br>  \"number\": 265,<br>  \"values\": [<br>    5.909999999999966,<br>    0.7034494423759521<br>  ],<br>  \"params\": {<br>    \"take_profit\": 0.5726085931705933,<br>    \"stop_loss\": 0.45298829664016926<br>  }<br>}",
          "{<br>  \"number\": 266,<br>  \"values\": [<br>    3.219999999999939,<br>    0.5526112286271485<br>  ],<br>  \"params\": {<br>    \"take_profit\": 0.44776356933961625,<br>    \"stop_loss\": 0.21050747057644714<br>  }<br>}",
          "{<br>  \"number\": 267,<br>  \"values\": [<br>    7.599999999999987,<br>    0.5475526438531012<br>  ],<br>  \"params\": {<br>    \"take_profit\": 0.3436384513348371,<br>    \"stop_loss\": 0.41218749413818806<br>  }<br>}",
          "{<br>  \"number\": 268,<br>  \"values\": [<br>    3.1099999999999888,<br>    0.4759319777209294<br>  ],<br>  \"params\": {<br>    \"take_profit\": 0.4185711446201751,<br>    \"stop_loss\": 0.08559602146923523<br>  }<br>}",
          "{<br>  \"number\": 269,<br>  \"values\": [<br>    8.189999999999976,<br>    0.5597608698408264<br>  ],<br>  \"params\": {<br>    \"take_profit\": 0.4183199711436316,<br>    \"stop_loss\": 0.3026282171902923<br>  }<br>}",
          "{<br>  \"number\": 270,<br>  \"values\": [<br>    -0.2600000000000073,<br>    0.40165347925899475<br>  ],<br>  \"params\": {<br>    \"take_profit\": 0.30254727418686617,<br>    \"stop_loss\": 0.07514395964517706<br>  }<br>}",
          "{<br>  \"number\": 271,<br>  \"values\": [<br>    4.2799999999999905,<br>    0.4812925871947802<br>  ],<br>  \"params\": {<br>    \"take_profit\": 0.2528018514104881,<br>    \"stop_loss\": 0.29196935511856725<br>  }<br>}",
          "{<br>  \"number\": 272,<br>  \"values\": [<br>    -0.5800000000000634,<br>    0.41081670596245035<br>  ],<br>  \"params\": {<br>    \"take_profit\": 0.17547629387204478,<br>    \"stop_loss\": 0.18322345987713395<br>  }<br>}",
          "{<br>  \"number\": 273,<br>  \"values\": [<br>    8.559999999999974,<br>    0.5847121076982148<br>  ],<br>  \"params\": {<br>    \"take_profit\": 0.41244813710444966,<br>    \"stop_loss\": 0.37262864008549756<br>  }<br>}",
          "{<br>  \"number\": 274,<br>  \"values\": [<br>    5.729999999999958,<br>    0.680813749087623<br>  ],<br>  \"params\": {<br>    \"take_profit\": 0.46005929120526734,<br>    \"stop_loss\": 0.5200048174050171<br>  }<br>}",
          "{<br>  \"number\": 275,<br>  \"values\": [<br>    1.4899999999999576,<br>    0.4832167786981528<br>  ],<br>  \"params\": {<br>    \"take_profit\": 0.3757037840068873,<br>    \"stop_loss\": 0.1765647942323028<br>  }<br>}",
          "{<br>  \"number\": 276,<br>  \"values\": [<br>    5.109999999999999,<br>    0.534432267821554<br>  ],<br>  \"params\": {<br>    \"take_profit\": 0.15532629544967783,<br>    \"stop_loss\": 0.5809528458396126<br>  }<br>}",
          "{<br>  \"number\": 277,<br>  \"values\": [<br>    8.129999999999978,<br>    0.5915190519173185<br>  ],<br>  \"params\": {<br>    \"take_profit\": 0.4319172072196862,<br>    \"stop_loss\": 0.3204136053331906<br>  }<br>}",
          "{<br>  \"number\": 279,<br>  \"values\": [<br>    1.2300000000000058,<br>    0.42689036667589536<br>  ],<br>  \"params\": {<br>    \"take_profit\": 0.37027401443441904,<br>    \"stop_loss\": 0.05152728984202651<br>  }<br>}",
          "{<br>  \"number\": 280,<br>  \"values\": [<br>    7.699999999999992,<br>    0.551519406748875<br>  ],<br>  \"params\": {<br>    \"take_profit\": 0.3192342804675916,<br>    \"stop_loss\": 0.4923872342951537<br>  }<br>}",
          "{<br>  \"number\": 281,<br>  \"values\": [<br>    2.4199999999999973,<br>    0.44726488409354226<br>  ],<br>  \"params\": {<br>    \"take_profit\": 0.40476737855915246,<br>    \"stop_loss\": 0.050496350793387844<br>  }<br>}",
          "{<br>  \"number\": 282,<br>  \"values\": [<br>    6.570000000000011,<br>    0.5434623438497851<br>  ],<br>  \"params\": {<br>    \"take_profit\": 0.2528018514104881,<br>    \"stop_loss\": 0.5024264586362647<br>  }<br>}",
          "{<br>  \"number\": 283,<br>  \"values\": [<br>    8.179999999999957,<br>    0.5769403447334244<br>  ],<br>  \"params\": {<br>    \"take_profit\": 0.37085426773928404,<br>    \"stop_loss\": 0.4431687082790919<br>  }<br>}",
          "{<br>  \"number\": 284,<br>  \"values\": [<br>    0.6200000000000001,<br>    0.43521040746451817<br>  ],<br>  \"params\": {<br>    \"take_profit\": 0.37027401443441904,<br>    \"stop_loss\": 0.0824048358785615<br>  }<br>}",
          "{<br>  \"number\": 285,<br>  \"values\": [<br>    0.029999999999936133,<br>    0.4040059039647229<br>  ],<br>  \"params\": {<br>    \"take_profit\": 0.15532629544967783,<br>    \"stop_loss\": 0.17637263616792964<br>  }<br>}",
          "{<br>  \"number\": 286,<br>  \"values\": [<br>    7.089999999999996,<br>    0.5434840411815778<br>  ],<br>  \"params\": {<br>    \"take_profit\": 0.3322178556912239,<br>    \"stop_loss\": 0.41254554790994874<br>  }<br>}",
          "{<br>  \"number\": 287,<br>  \"values\": [<br>    4.580000000000002,<br>    0.5006000362375684<br>  ],<br>  \"params\": {<br>    \"take_profit\": 0.2528018514104881,<br>    \"stop_loss\": 0.33638339337335976<br>  }<br>}",
          "{<br>  \"number\": 288,<br>  \"values\": [<br>    -0.3399999999999935,<br>    0.45302336897725903<br>  ],<br>  \"params\": {<br>    \"take_profit\": 0.37027401443441904,<br>    \"stop_loss\": 0.12444430950548734<br>  }<br>}",
          "{<br>  \"number\": 289,<br>  \"values\": [<br>    1.1699999999999913,<br>    0.47091236781502854<br>  ],<br>  \"params\": {<br>    \"take_profit\": 0.39810537557119935,<br>    \"stop_loss\": 0.10136889916981537<br>  }<br>}",
          "{<br>  \"number\": 290,<br>  \"values\": [<br>    -0.2900000000000424,<br>    0.3530630087249946<br>  ],<br>  \"params\": {<br>    \"take_profit\": 0.14561763456926557,<br>    \"stop_loss\": 0.05152728984202651<br>  }<br>}",
          "{<br>  \"number\": 291,<br>  \"values\": [<br>    6.1699999999999875,<br>    0.5297290349836667<br>  ],<br>  \"params\": {<br>    \"take_profit\": 0.3322178556912239,<br>    \"stop_loss\": 0.3553081648336843<br>  }<br>}",
          "{<br>  \"number\": 292,<br>  \"values\": [<br>    1.1400000000000023,<br>    0.42716041576198377<br>  ],<br>  \"params\": {<br>    \"take_profit\": 0.37027401443441904,<br>    \"stop_loss\": 0.06906531266687606<br>  }<br>}",
          "{<br>  \"number\": 293,<br>  \"values\": [<br>    2.149999999999995,<br>    0.4932656898728967<br>  ],<br>  \"params\": {<br>    \"take_profit\": 0.41889084018018036,<br>    \"stop_loss\": 0.12742742558377063<br>  }<br>}",
          "{<br>  \"number\": 294,<br>  \"values\": [<br>    2.499999999999981,<br>    0.48353989376017253<br>  ],<br>  \"params\": {<br>    \"take_profit\": 0.08875632949080547,<br>    \"stop_loss\": 0.5369060645414534<br>  }<br>}",
          "{<br>  \"number\": 296,<br>  \"values\": [<br>    -0.9800000000000271,<br>    0.45477318609791756<br>  ],<br>  \"params\": {<br>    \"take_profit\": 0.27508204219039945,<br>    \"stop_loss\": 0.20275663098053437<br>  }<br>}",
          "{<br>  \"number\": 297,<br>  \"values\": [<br>    7.109999999999982,<br>    0.5734422926671785<br>  ],<br>  \"params\": {<br>    \"take_profit\": 0.43095652884706365,<br>    \"stop_loss\": 0.28362814854291873<br>  }<br>}",
          "{<br>  \"number\": 298,<br>  \"values\": [<br>    -0.3399999999999935,<br>    0.45302336897725903<br>  ],<br>  \"params\": {<br>    \"take_profit\": 0.37085426773928404,<br>    \"stop_loss\": 0.11241224038938878<br>  }<br>}",
          "{<br>  \"number\": 299,<br>  \"values\": [<br>    1.2899999999999712,<br>    0.4534234073858975<br>  ],<br>  \"params\": {<br>    \"take_profit\": 0.07913452665865418,<br>    \"stop_loss\": 0.3551358153211372<br>  }<br>}",
          "{<br>  \"number\": 300,<br>  \"values\": [<br>    1.9299999999999495,<br>    0.42948423720942513<br>  ],<br>  \"params\": {<br>    \"take_profit\": 0.0595366319200447,<br>    \"stop_loss\": 0.3026282171902923<br>  }<br>}",
          "{<br>  \"number\": 301,<br>  \"values\": [<br>    8.170000000000007,<br>    0.626172470419301<br>  ],<br>  \"params\": {<br>    \"take_profit\": 0.4067637632347794,<br>    \"stop_loss\": 0.567752123063268<br>  }<br>}",
          "{<br>  \"number\": 302,<br>  \"values\": [<br>    8.739999999999998,<br>    0.5551614874267249<br>  ],<br>  \"params\": {<br>    \"take_profit\": 0.3192342804675916,<br>    \"stop_loss\": 0.567752123063268<br>  }<br>}",
          "{<br>  \"number\": 303,<br>  \"values\": [<br>    8.889999999999976,<br>    0.6325984840784596<br>  ],<br>  \"params\": {<br>    \"take_profit\": 0.4124071538570677,<br>    \"stop_loss\": 0.5167829509278699<br>  }<br>}",
          "{<br>  \"number\": 304,<br>  \"values\": [<br>    7.419999999999998,<br>    0.5439693240421241<br>  ],<br>  \"params\": {<br>    \"take_profit\": 0.2761527601271156,<br>    \"stop_loss\": 0.5369060645414534<br>  }<br>}",
          "{<br>  \"number\": 305,<br>  \"values\": [<br>    3.870000000000004,<br>    0.5180750372156978<br>  ],<br>  \"params\": {<br>    \"take_profit\": 0.5853383622097318,<br>    \"stop_loss\": 0.08231450771085905<br>  }<br>}",
          "{<br>  \"number\": 306,<br>  \"values\": [<br>    5.729999999999983,<br>    0.6461967030737316<br>  ],<br>  \"params\": {<br>    \"take_profit\": 0.5422110983366373,<br>    \"stop_loss\": 0.35077735048898606<br>  }<br>}",
          "{<br>  \"number\": 307,<br>  \"values\": [<br>    5.909999999999972,<br>    0.6225568317555608<br>  ],<br>  \"params\": {<br>    \"take_profit\": 0.46397880515491746,<br>    \"stop_loss\": 0.34427717465085284<br>  }<br>}",
          "{<br>  \"number\": 308,<br>  \"values\": [<br>    3.529999999999964,<br>    0.49835390886469977<br>  ],<br>  \"params\": {<br>    \"take_profit\": 0.3508159799448897,<br>    \"stop_loss\": 0.2228112396938116<br>  }<br>}",
          "{<br>  \"number\": 309,<br>  \"values\": [<br>    2.2099999999999667,<br>    0.4822257221041026<br>  ],<br>  \"params\": {<br>    \"take_profit\": 0.0595366319200447,<br>    \"stop_loss\": 0.567752123063268<br>  }<br>}",
          "{<br>  \"number\": 310,<br>  \"values\": [<br>    7.849999999999959,<br>    0.576999277846508<br>  ],<br>  \"params\": {<br>    \"take_profit\": 0.3515714987530641,<br>    \"stop_loss\": 0.45043024685694594<br>  }<br>}",
          "{<br>  \"number\": 311,<br>  \"values\": [<br>    0.8999999999999484,<br>    0.44694089894594763<br>  ],<br>  \"params\": {<br>    \"take_profit\": 0.0595366319200447,<br>    \"stop_loss\": 0.3379557437695514<br>  }<br>}",
          "{<br>  \"number\": 312,<br>  \"values\": [<br>    0.5500000000000029,<br>    0.4242326728403045<br>  ],<br>  \"params\": {<br>    \"take_profit\": 0.3322178556912239,<br>    \"stop_loss\": 0.07514395964517706<br>  }<br>}",
          "{<br>  \"number\": 313,<br>  \"values\": [<br>    7.619999999999976,<br>    0.5626557028947632<br>  ],<br>  \"params\": {<br>    \"take_profit\": 0.40476737855915246,<br>    \"stop_loss\": 0.3669140958840604<br>  }<br>}",
          "{<br>  \"number\": 314,<br>  \"values\": [<br>    7.789999999999981,<br>    0.5500370584979594<br>  ],<br>  \"params\": {<br>    \"take_profit\": 0.31535576919890557,<br>    \"stop_loss\": 0.4714992726763563<br>  }<br>}",
          "{<br>  \"number\": 315,<br>  \"values\": [<br>    8.709999999999997,<br>    0.5719670968239664<br>  ],<br>  \"params\": {<br>    \"take_profit\": 0.3363043758372195,<br>    \"stop_loss\": 0.5207594264918661<br>  }<br>}",
          "{<br>  \"number\": 316,<br>  \"values\": [<br>    -0.920000000000047,<br>    0.4435265407167571<br>  ],<br>  \"params\": {<br>    \"take_profit\": 0.2606406681852866,<br>    \"stop_loss\": 0.1797728159350493<br>  }<br>}",
          "{<br>  \"number\": 317,<br>  \"values\": [<br>    6.319999999999997,<br>    0.6587764050983478<br>  ],<br>  \"params\": {<br>    \"take_profit\": 0.521226148799554,<br>    \"stop_loss\": 0.41218749413818806<br>  }<br>}",
          "{<br>  \"number\": 318,<br>  \"values\": [<br>    7.88999999999999,<br>    0.5740259337905861<br>  ],<br>  \"params\": {<br>    \"take_profit\": 0.3322178556912239,<br>    \"stop_loss\": 0.5103275854116632<br>  }<br>}",
          "{<br>  \"number\": 319,<br>  \"values\": [<br>    8.499999999999975,<br>    0.5860013981828972<br>  ],<br>  \"params\": {<br>    \"take_profit\": 0.3436384513348371,<br>    \"stop_loss\": 0.5589324443862457<br>  }<br>}",
          "{<br>  \"number\": 320,<br>  \"values\": [<br>    2.3699999999999672,<br>    0.4774664304188001<br>  ],<br>  \"params\": {<br>    \"take_profit\": 0.31535576919890557,<br>    \"stop_loss\": 0.2238511885574811<br>  }<br>}",
          "{<br>  \"number\": 321,<br>  \"values\": [<br>    5.210000000000008,<br>    0.5267178501236123<br>  ],<br>  \"params\": {<br>    \"take_profit\": 0.3005697866026233,<br>    \"stop_loss\": 0.4086263004693778<br>  }<br>}",
          "{<br>  \"number\": 322,<br>  \"values\": [<br>    8.159999999999979,<br>    0.6221699762042051<br>  ],<br>  \"params\": {<br>    \"take_profit\": 0.3914681063838624,<br>    \"stop_loss\": 0.5300687496768383<br>  }<br>}",
          "{<br>  \"number\": 323,<br>  \"values\": [<br>    2.979999999999979,<br>    0.4398771311353514<br>  ],<br>  \"params\": {<br>    \"take_profit\": 0.12398470408402705,<br>    \"stop_loss\": 0.27282141727409803<br>  }<br>}",
          "{<br>  \"number\": 324,<br>  \"values\": [<br>    6.529999999999994,<br>    0.5274407959380536<br>  ],<br>  \"params\": {<br>    \"take_profit\": 0.3192342804675916,<br>    \"stop_loss\": 0.41254554790994874<br>  }<br>}",
          "{<br>  \"number\": 325,<br>  \"values\": [<br>    7.749999999999979,<br>    0.5479491780677915<br>  ],<br>  \"params\": {<br>    \"take_profit\": 0.31535576919890557,<br>    \"stop_loss\": 0.4633784636085092<br>  }<br>}",
          "{<br>  \"number\": 326,<br>  \"values\": [<br>    3.3599999999999803,<br>    0.4679432145923594<br>  ],<br>  \"params\": {<br>    \"take_profit\": 0.19068748782364964,<br>    \"stop_loss\": 0.3026282171902923<br>  }<br>}",
          "{<br>  \"number\": 327,<br>  \"values\": [<br>    4.110000000000027,<br>    0.5188750727595509<br>  ],<br>  \"params\": {<br>    \"take_profit\": 0.21284310201320433,<br>    \"stop_loss\": 0.41218749413818806<br>  }<br>}",
          "{<br>  \"number\": 328,<br>  \"values\": [<br>    6.529999999999994,<br>    0.5274407959380536<br>  ],<br>  \"params\": {<br>    \"take_profit\": 0.3118031495741312,<br>    \"stop_loss\": 0.41254554790994874<br>  }<br>}",
          "{<br>  \"number\": 329,<br>  \"values\": [<br>    6.299999999999983,<br>    0.5422339508244519<br>  ],<br>  \"params\": {<br>    \"take_profit\": 0.3515714987530641,<br>    \"stop_loss\": 0.38165764248773604<br>  }<br>}",
          "{<br>  \"number\": 331,<br>  \"values\": [<br>    4.299999999999988,<br>    0.5252491076272752<br>  ],<br>  \"params\": {<br>    \"take_profit\": 0.1885785145963516,<br>    \"stop_loss\": 0.4714731772115439<br>  }<br>}",
          "{<br>  \"number\": 332,<br>  \"values\": [<br>    6.66,<br>    0.5419951826540846<br>  ],<br>  \"params\": {<br>    \"take_profit\": 0.2528018514104881,<br>    \"stop_loss\": 0.4714731772115439<br>  }<br>}",
          "{<br>  \"number\": 335,<br>  \"values\": [<br>    5.959999999999983,<br>    0.5817747588011064<br>  ],<br>  \"params\": {<br>    \"take_profit\": 0.45105388992930107,<br>    \"stop_loss\": 0.2778407664465276<br>  }<br>}",
          "{<br>  \"number\": 336,<br>  \"values\": [<br>    5.729999999999958,<br>    0.680813749087623<br>  ],<br>  \"params\": {<br>    \"take_profit\": 0.4673098554881284,<br>    \"stop_loss\": 0.5286803525502379<br>  }<br>}",
          "{<br>  \"number\": 337,<br>  \"values\": [<br>    2.979999999999979,<br>    0.4398771311353514<br>  ],<br>  \"params\": {<br>    \"take_profit\": 0.12330589778547371,<br>    \"stop_loss\": 0.2737778885616768<br>  }<br>}",
          "{<br>  \"number\": 338,<br>  \"values\": [<br>    7.719999999999992,<br>    0.5479382229516031<br>  ],<br>  \"params\": {<br>    \"take_profit\": 0.41889084018018036,<br>    \"stop_loss\": 0.2776809362529668<br>  }<br>}",
          "{<br>  \"number\": 339,<br>  \"values\": [<br>    7.839999999999971,<br>    0.5821921865423767<br>  ],<br>  \"params\": {<br>    \"take_profit\": 0.3457476765331706,<br>    \"stop_loss\": 0.4714992726763563<br>  }<br>}",
          "{<br>  \"number\": 340,<br>  \"values\": [<br>    3.3899999999999957,<br>    0.4830281111809425<br>  ],<br>  \"params\": {<br>    \"take_profit\": 0.17233669136963364,<br>    \"stop_loss\": 0.352835132536806<br>  }<br>}",
          "{<br>  \"number\": 341,<br>  \"values\": [<br>    2.109999999999958,<br>    0.47661949742821<br>  ],<br>  \"params\": {<br>    \"take_profit\": 0.0595366319200447,<br>    \"stop_loss\": 0.5423212697820018<br>  }<br>}",
          "{<br>  \"number\": 342,<br>  \"values\": [<br>    3.3000000000000123,<br>    0.5366298516045636<br>  ],<br>  \"params\": {<br>    \"take_profit\": 0.11304339517992647,<br>    \"stop_loss\": 0.5818290581151617<br>  }<br>}",
          "{<br>  \"number\": 343,<br>  \"values\": [<br>    4.599999999999984,<br>    0.48402588228034704<br>  ],<br>  \"params\": {<br>    \"take_profit\": 0.3118031495741312,<br>    \"stop_loss\": 0.2654917737857971<br>  }<br>}",
          "{<br>  \"number\": 344,<br>  \"values\": [<br>    6.519999999999971,<br>    0.5193321952028793<br>  ],<br>  \"params\": {<br>    \"take_profit\": 0.37085426773928404,<br>    \"stop_loss\": 0.3065677364603154<br>  }<br>}",
          "{<br>  \"number\": 345,<br>  \"values\": [<br>    6.019999999999966,<br>    0.7019025092498714<br>  ],<br>  \"params\": {<br>    \"take_profit\": 0.5737606917755342,<br>    \"stop_loss\": 0.4433602437632948<br>  }<br>}",
          "{<br>  \"number\": 346,<br>  \"values\": [<br>    2.499999999999981,<br>    0.48353989376017253<br>  ],<br>  \"params\": {<br>    \"take_profit\": 0.08875632949080547,<br>    \"stop_loss\": 0.5369060645414534<br>  }<br>}",
          "{<br>  \"number\": 347,<br>  \"values\": [<br>    8.60999999999996,<br>    0.5908240356174431<br>  ],<br>  \"params\": {<br>    \"take_profit\": 0.40476737855915246,<br>    \"stop_loss\": 0.43824973456478217<br>  }<br>}",
          "{<br>  \"number\": 348,<br>  \"values\": [<br>    4.5,<br>    0.5047780673643624<br>  ],<br>  \"params\": {<br>    \"take_profit\": 0.26420820939153805,<br>    \"stop_loss\": 0.3611650022575098<br>  }<br>}",
          "{<br>  \"number\": 349,<br>  \"values\": [<br>    8.879999999999999,<br>    0.5767027825093065<br>  ],<br>  \"params\": {<br>    \"take_profit\": 0.335589419299287,<br>    \"stop_loss\": 0.567752123063268<br>  }<br>}",
          "{<br>  \"number\": 350,<br>  \"values\": [<br>    8.929999999999968,<br>    0.5870223064227758<br>  ],<br>  \"params\": {<br>    \"take_profit\": 0.37085426773928404,<br>    \"stop_loss\": 0.5369060645414534<br>  }<br>}",
          "{<br>  \"number\": 351,<br>  \"values\": [<br>    -2.100000000000021,<br>    0.41658113173722894<br>  ],<br>  \"params\": {<br>    \"take_profit\": 0.2471165150140428,<br>    \"stop_loss\": 0.1373674773310773<br>  }<br>}",
          "{<br>  \"number\": 352,<br>  \"values\": [<br>    6.029999999999955,<br>    0.6671454487437186<br>  ],<br>  \"params\": {<br>    \"take_profit\": 0.45440166588738684,<br>    \"stop_loss\": 0.4633784636085092<br>  }<br>}",
          "{<br>  \"number\": 353,<br>  \"values\": [<br>    -0.8300000000000227,<br>    0.3921821330514237<br>  ],<br>  \"params\": {<br>    \"take_profit\": 0.26420820939153805,<br>    \"stop_loss\": 0.07514395964517706<br>  }<br>}",
          "{<br>  \"number\": 354,<br>  \"values\": [<br>    6.1899999999999835,<br>    0.6551003136149738<br>  ],<br>  \"params\": {<br>    \"take_profit\": 0.5640665344282516,<br>    \"stop_loss\": 0.3551358153211372<br>  }<br>}",
          "{<br>  \"number\": 355,<br>  \"values\": [<br>    4.670000000000002,<br>    0.48113607685324583<br>  ],<br>  \"params\": {<br>    \"take_profit\": 0.13149970776465092,<br>    \"stop_loss\": 0.41218749413818806<br>  }<br>}",
          "{<br>  \"number\": 356,<br>  \"values\": [<br>    5.099999999999994,<br>    0.5256259760197045<br>  ],<br>  \"params\": {<br>    \"take_profit\": 0.1795505709196904,<br>    \"stop_loss\": 0.5369060645414534<br>  }<br>}",
          "{<br>  \"number\": 357,<br>  \"values\": [<br>    -0.020000000000012397,<br>    0.40424888132554454<br>  ],<br>  \"params\": {<br>    \"take_profit\": 0.3118031495741312,<br>    \"stop_loss\": 0.07439828844935541<br>  }<br>}",
          "{<br>  \"number\": 358,<br>  \"values\": [<br>    6.669999999999973,<br>    0.5420162705658229<br>  ],<br>  \"params\": {<br>    \"take_profit\": 0.37786289338169576,<br>    \"stop_loss\": 0.3717989146492053<br>  }<br>}",
          "{<br>  \"number\": 359,<br>  \"values\": [<br>    3.1599999999999593,<br>    0.5517518367809289<br>  ],<br>  \"params\": {<br>    \"take_profit\": 0.5415422512654203,<br>    \"stop_loss\": 0.18451949676316737<br>  }<br>}",
          "{<br>  \"number\": 360,<br>  \"values\": [<br>    3.9899999999999904,<br>    0.4749494781789643<br>  ],<br>  \"params\": {<br>    \"take_profit\": 0.15635221511028574,<br>    \"stop_loss\": 0.36835977882698895<br>  }<br>}",
          "{<br>  \"number\": 362,<br>  \"values\": [<br>    8.529999999999998,<br>    0.5715449974411286<br>  ],<br>  \"params\": {<br>    \"take_profit\": 0.32290557572903805,<br>    \"stop_loss\": 0.5349177715800677<br>  }<br>}",
          "{<br>  \"number\": 363,<br>  \"values\": [<br>    5.519999999999996,<br>    0.5291155593215601<br>  ],<br>  \"params\": {<br>    \"take_profit\": 0.3192342804675916,<br>    \"stop_loss\": 0.4051642643367995<br>  }<br>}",
          "{<br>  \"number\": 364,<br>  \"values\": [<br>    3.9699999999999878,<br>    0.48537780865170865<br>  ],<br>  \"params\": {<br>    \"take_profit\": 0.3046618797061607,<br>    \"stop_loss\": 0.2852376685718818<br>  }<br>}",
          "{<br>  \"number\": 365,<br>  \"values\": [<br>    8.929999999999968,<br>    0.5870223064227758<br>  ],<br>  \"params\": {<br>    \"take_profit\": 0.37085426773928404,<br>    \"stop_loss\": 0.5369060645414534<br>  }<br>}",
          "{<br>  \"number\": 366,<br>  \"values\": [<br>    5.430000000000014,<br>    0.5191724086276638<br>  ],<br>  \"params\": {<br>    \"take_profit\": 0.2784596796147333,<br>    \"stop_loss\": 0.41218749413818806<br>  }<br>}",
          "{<br>  \"number\": 367,<br>  \"values\": [<br>    6.319999999999997,<br>    0.6587764050983478<br>  ],<br>  \"params\": {<br>    \"take_profit\": 0.5299008852588377,<br>    \"stop_loss\": 0.41254554790994874<br>  }<br>}",
          "{<br>  \"number\": 368,<br>  \"values\": [<br>    6.869999999999985,<br>    0.6778316909445138<br>  ],<br>  \"params\": {<br>    \"take_profit\": 0.564188282189534,<br>    \"stop_loss\": 0.4258628191838329<br>  }<br>}",
          "{<br>  \"number\": 369,<br>  \"values\": [<br>    7.580000000000002,<br>    0.5700797439842002<br>  ],<br>  \"params\": {<br>    \"take_profit\": 0.3283345625078577,<br>    \"stop_loss\": 0.49436367494333217<br>  }<br>}",
          "{<br>  \"number\": 370,<br>  \"values\": [<br>    7.059999999999967,<br>    0.5495080110713253<br>  ],<br>  \"params\": {<br>    \"take_profit\": 0.3170149434566924,<br>    \"stop_loss\": 0.449752049153916<br>  }<br>}",
          "{<br>  \"number\": 371,<br>  \"values\": [<br>    2.1299999999999724,<br>    0.4752053351386301<br>  ],<br>  \"params\": {<br>    \"take_profit\": 0.30439065920302155,<br>    \"stop_loss\": 0.2346101675416154<br>  }<br>}",
          "{<br>  \"number\": 373,<br>  \"values\": [<br>    7.749999999999979,<br>    0.5479491780677915<br>  ],<br>  \"params\": {<br>    \"take_profit\": 0.31535576919890557,<br>    \"stop_loss\": 0.4633784636085092<br>  }<br>}",
          "{<br>  \"number\": 374,<br>  \"values\": [<br>    3.009999999999966,<br>    0.43004418798037725<br>  ],<br>  \"params\": {<br>    \"take_profit\": 0.09041858608301288,<br>    \"stop_loss\": 0.29129255144850197<br>  }<br>}",
          "{<br>  \"number\": 375,<br>  \"values\": [<br>    8.699999999999953,<br>    0.5621040546791435<br>  ],<br>  \"params\": {<br>    \"take_profit\": 0.35035071491358166,<br>    \"stop_loss\": 0.43824973456478217<br>  }<br>}",
          "{<br>  \"number\": 376,<br>  \"values\": [<br>    2.149999999999995,<br>    0.4932656898728967<br>  ],<br>  \"params\": {<br>    \"take_profit\": 0.4193862236915465,<br>    \"stop_loss\": 0.11265012168490261<br>  }<br>}",
          "{<br>  \"number\": 377,<br>  \"values\": [<br>    2.559999999999987,<br>    0.5040649160765645<br>  ],<br>  \"params\": {<br>    \"take_profit\": 0.10834022263404222,<br>    \"stop_loss\": 0.5030982984018977<br>  }<br>}",
          "{<br>  \"number\": 378,<br>  \"values\": [<br>    3.039999999999999,<br>    0.5109951076086733<br>  ],<br>  \"params\": {<br>    \"take_profit\": 0.10031970000183371,<br>    \"stop_loss\": 0.567752123063268<br>  }<br>}",
          "{<br>  \"number\": 379,<br>  \"values\": [<br>    3.470000000000008,<br>    0.46569586377603145<br>  ],<br>  \"params\": {<br>    \"take_profit\": 0.2106786967601541,<br>    \"stop_loss\": 0.2776809362529668<br>  }<br>}",
          "{<br>  \"number\": 380,<br>  \"values\": [<br>    8.179999999999957,<br>    0.5769403447334244<br>  ],<br>  \"params\": {<br>    \"take_profit\": 0.3739325988609158,<br>    \"stop_loss\": 0.44380841465905474<br>  }<br>}",
          "{<br>  \"number\": 381,<br>  \"values\": [<br>    6.1899999999999835,<br>    0.6551003136149738<br>  ],<br>  \"params\": {<br>    \"take_profit\": 0.5654061019307476,<br>    \"stop_loss\": 0.35853413327895484<br>  }<br>}",
          "{<br>  \"number\": 382,<br>  \"values\": [<br>    3.809999999999991,<br>    0.48690112171976113<br>  ],<br>  \"params\": {<br>    \"take_profit\": 0.25476048819443775,<br>    \"stop_loss\": 0.3026282171902923<br>  }<br>}",
          "{<br>  \"number\": 385,<br>  \"values\": [<br>    7.9499999999999815,<br>    0.5501061091467967<br>  ],<br>  \"params\": {<br>    \"take_profit\": 0.37027401443441904,<br>    \"stop_loss\": 0.41254554790994874<br>  }<br>}",
          "{<br>  \"number\": 386,<br>  \"values\": [<br>    7.619999999999976,<br>    0.5626557028947632<br>  ],<br>  \"params\": {<br>    \"take_profit\": 0.4090034683262582,<br>    \"stop_loss\": 0.35853413327895484<br>  }<br>}",
          "{<br>  \"number\": 387,<br>  \"values\": [<br>    6.73,<br>    0.6755710768799629<br>  ],<br>  \"params\": {<br>    \"take_profit\": 0.5994958252647802,<br>    \"stop_loss\": 0.41254554790994874<br>  }<br>}",
          "{<br>  \"number\": 388,<br>  \"values\": [<br>    3.019999999999973,<br>    0.4935612063352356<br>  ],<br>  \"params\": {<br>    \"take_profit\": 0.3322178556912239,<br>    \"stop_loss\": 0.22234287162233085<br>  }<br>}",
          "{<br>  \"number\": 389,<br>  \"values\": [<br>    -1.8400000000000643,<br>    0.3657994620911148<br>  ],<br>  \"params\": {<br>    \"take_profit\": 0.08018494292106737,<br>    \"stop_loss\": 0.12392005891012559<br>  }<br>}",
          "{<br>  \"number\": 390,<br>  \"values\": [<br>    3.9800000000000173,<br>    0.5182185723261311<br>  ],<br>  \"params\": {<br>    \"take_profit\": 0.20452262140467065,<br>    \"stop_loss\": 0.41254554790994874<br>  }<br>}",
          "{<br>  \"number\": 391,<br>  \"values\": [<br>    7.629999999999985,<br>    0.5812414794082738<br>  ],<br>  \"params\": {<br>    \"take_profit\": 0.3118031495741312,<br>    \"stop_loss\": 0.5831110813287853<br>  }<br>}",
          "{<br>  \"number\": 392,<br>  \"values\": [<br>    6.420000000000002,<br>    0.5172961498664638<br>  ],<br>  \"params\": {<br>    \"take_profit\": 0.26420820939153805,<br>    \"stop_loss\": 0.4250026356435156<br>  }<br>}",
          "{<br>  \"number\": 394,<br>  \"values\": [<br>    -0.3000000000000338,<br>    0.3963960028658621<br>  ],<br>  \"params\": {<br>    \"take_profit\": 0.15532629544967783,<br>    \"stop_loss\": 0.1501104343626235<br>  }<br>}",
          "{<br>  \"number\": 395,<br>  \"values\": [<br>    6.519999999999971,<br>    0.5193321952028793<br>  ],<br>  \"params\": {<br>    \"take_profit\": 0.37027401443441904,<br>    \"stop_loss\": 0.3026282171902923<br>  }<br>}",
          "{<br>  \"number\": 396,<br>  \"values\": [<br>    7.409999999999993,<br>    0.5439246862132775<br>  ],<br>  \"params\": {<br>    \"take_profit\": 0.2618110033142434,<br>    \"stop_loss\": 0.5349177715800677<br>  }<br>}",
          "{<br>  \"number\": 397,<br>  \"values\": [<br>    7.789999999999981,<br>    0.5500370584979594<br>  ],<br>  \"params\": {<br>    \"take_profit\": 0.31535576919890557,<br>    \"stop_loss\": 0.4714992726763563<br>  }<br>}",
          "{<br>  \"number\": 398,<br>  \"values\": [<br>    2.3699999999999672,<br>    0.4774664304188001<br>  ],<br>  \"params\": {<br>    \"take_profit\": 0.31911559281647706,<br>    \"stop_loss\": 0.23735099876271154<br>  }<br>}",
          "{<br>  \"number\": 399,<br>  \"values\": [<br>    -1.6399999999999988,<br>    0.4253127393765584<br>  ],<br>  \"params\": {<br>    \"take_profit\": 0.31947578031392315,<br>    \"stop_loss\": 0.11884089588143659<br>  }<br>}",
          "{<br>  \"number\": 400,<br>  \"values\": [<br>    6.679999999999996,<br>    0.5420866763623196<br>  ],<br>  \"params\": {<br>    \"take_profit\": 0.2664889420588713,<br>    \"stop_loss\": 0.4714731772115439<br>  }<br>}",
          "{<br>  \"number\": 401,<br>  \"values\": [<br>    4.980000000000011,<br>    0.5169982903726775<br>  ],<br>  \"params\": {<br>    \"take_profit\": 0.2004325065629296,<br>    \"stop_loss\": 0.4250026356435156<br>  }<br>}",
          "{<br>  \"number\": 402,<br>  \"values\": [<br>    8.579999999999973,<br>    0.5845376762392608<br>  ],<br>  \"params\": {<br>    \"take_profit\": 0.3484531416688259,<br>    \"stop_loss\": 0.5372208293404493<br>  }<br>}",
          "{<br>  \"number\": 404,<br>  \"values\": [<br>    4.959999999999983,<br>    0.4869009652035734<br>  ],<br>  \"params\": {<br>    \"take_profit\": 0.28400575592318683,<br>    \"stop_loss\": 0.29129255144850197<br>  }<br>}",
          "{<br>  \"number\": 405,<br>  \"values\": [<br>    5.599999999999955,<br>    0.6726971807527129<br>  ],<br>  \"params\": {<br>    \"take_profit\": 0.45818183181634725,<br>    \"stop_loss\": 0.5129414943811624<br>  }<br>}",
          "{<br>  \"number\": 406,<br>  \"values\": [<br>    6.61999999999998,<br>    0.7369432599993881<br>  ],<br>  \"params\": {<br>    \"take_profit\": 0.5541436494690412,<br>    \"stop_loss\": 0.5369060645414534<br>  }<br>}",
          "{<br>  \"number\": 408,<br>  \"values\": [<br>    5.460000000000004,<br>    0.5737058255683969<br>  ],<br>  \"params\": {<br>    \"take_profit\": 0.24871594216230702,<br>    \"stop_loss\": 0.5899443434072893<br>  }<br>}",
          "{<br>  \"number\": 409,<br>  \"values\": [<br>    2.1899999999999826,<br>    0.49286136891711296<br>  ],<br>  \"params\": {<br>    \"take_profit\": 0.09041858608301288,<br>    \"stop_loss\": 0.5349177715800677<br>  }<br>}",
          "{<br>  \"number\": 410,<br>  \"values\": [<br>    7.699999999999992,<br>    0.551519406748875<br>  ],<br>  \"params\": {<br>    \"take_profit\": 0.3192342804675916,<br>    \"stop_loss\": 0.5058767546610163<br>  }<br>}",
          "{<br>  \"number\": 412,<br>  \"values\": [<br>    7.390000000000004,<br>    0.5492647517422244<br>  ],<br>  \"params\": {<br>    \"take_profit\": 0.3039315069644288,<br>    \"stop_loss\": 0.49402216301505963<br>  }<br>}",
          "{<br>  \"number\": 413,<br>  \"values\": [<br>    7.059999999999967,<br>    0.5495080110713253<br>  ],<br>  \"params\": {<br>    \"take_profit\": 0.31535576919890557,<br>    \"stop_loss\": 0.44582304131431244<br>  }<br>}",
          "{<br>  \"number\": 414,<br>  \"values\": [<br>    6.1699999999999875,<br>    0.5297290349836667<br>  ],<br>  \"params\": {<br>    \"take_profit\": 0.335589419299287,<br>    \"stop_loss\": 0.35853413327895484<br>  }<br>}",
          "{<br>  \"number\": 415,<br>  \"values\": [<br>    6.5499999999999865,<br>    0.7382311708800657<br>  ],<br>  \"params\": {<br>    \"take_profit\": 0.5668701327055262,<br>    \"stop_loss\": 0.567752123063268<br>  }<br>}",
          "{<br>  \"number\": 416,<br>  \"values\": [<br>    4.159999999999953,<br>    0.533814575662531<br>  ],<br>  \"params\": {<br>    \"take_profit\": 0.4278186130091556,<br>    \"stop_loss\": 0.21616056219909968<br>  }<br>}",
          "{<br>  \"number\": 417,<br>  \"values\": [<br>    2.789999999999975,<br>    0.5045189651090215<br>  ],<br>  \"params\": {<br>    \"take_profit\": 0.4877184534210366,<br>    \"stop_loss\": 0.09711851642132704<br>  }<br>}",
          "{<br>  \"number\": 418,<br>  \"values\": [<br>    5.609999999999985,<br>    0.5134879361769494<br>  ],<br>  \"params\": {<br>    \"take_profit\": 0.31535576919890557,<br>    \"stop_loss\": 0.3669756960137202<br>  }<br>}",
          "{<br>  \"number\": 419,<br>  \"values\": [<br>    0.02999999999999675,<br>    0.4507486365296438<br>  ],<br>  \"params\": {<br>    \"take_profit\": 0.37085426773928404,<br>    \"stop_loss\": 0.10329883659674977<br>  }<br>}",
          "{<br>  \"number\": 420,<br>  \"values\": [<br>    5.420000000000009,<br>    0.5191212393947655<br>  ],<br>  \"params\": {<br>    \"take_profit\": 0.2618110033142434,<br>    \"stop_loss\": 0.4185260197460414<br>  }<br>}",
          "{<br>  \"number\": 422,<br>  \"values\": [<br>    1.4999999999999627,<br>    0.4900657667929<br>  ],<br>  \"params\": {<br>    \"take_profit\": 0.37027401443441904,<br>    \"stop_loss\": 0.20133340428033986<br>  }<br>}",
          "{<br>  \"number\": 423,<br>  \"values\": [<br>    1.5700000000000043,<br>    0.5181234242061477<br>  ],<br>  \"params\": {<br>    \"take_profit\": 0.07727654720018284,<br>    \"stop_loss\": 0.5915314782831304<br>  }<br>}",
          "{<br>  \"number\": 424,<br>  \"values\": [<br>    8.609999999999998,<br>    0.6513569653150606<br>  ],<br>  \"params\": {<br>    \"take_profit\": 0.41889084018018036,<br>    \"stop_loss\": 0.5654762176507381<br>  }<br>}",
          "{<br>  \"number\": 425,<br>  \"values\": [<br>    5.489999999999988,<br>    0.5074851431498208<br>  ],<br>  \"params\": {<br>    \"take_profit\": 0.15532629544967783,<br>    \"stop_loss\": 0.4902810693751475<br>  }<br>}",
          "{<br>  \"number\": 426,<br>  \"values\": [<br>    4.06999999999997,<br>    0.5176567010203944<br>  ],<br>  \"params\": {<br>    \"take_profit\": 0.19859601403959615,<br>    \"stop_loss\": 0.4332985635041994<br>  }<br>}",
          "{<br>  \"number\": 427,<br>  \"values\": [<br>    -0.010000000000021991,<br>    0.4669881084737834<br>  ],<br>  \"params\": {<br>    \"take_profit\": 0.33432273996500833,<br>    \"stop_loss\": 0.16730925363802107<br>  }<br>}",
          "{<br>  \"number\": 428,<br>  \"values\": [<br>    8.879999999999999,<br>    0.5767027825093065<br>  ],<br>  \"params\": {<br>    \"take_profit\": 0.335589419299287,<br>    \"stop_loss\": 0.567752123063268<br>  }<br>}",
          "{<br>  \"number\": 429,<br>  \"values\": [<br>    6.220000000000006,<br>    0.5250869222632197<br>  ],<br>  \"params\": {<br>    \"take_profit\": 0.3046618797061607,<br>    \"stop_loss\": 0.41254554790994874<br>  }<br>}",
          "{<br>  \"number\": 430,<br>  \"values\": [<br>    5.279999999999964,<br>    0.7035385134513225<br>  ],<br>  \"params\": {<br>    \"take_profit\": 0.49552597829155925,<br>    \"stop_loss\": 0.5349177715800677<br>  }<br>}",
          "{<br>  \"number\": 431,<br>  \"values\": [<br>    4.93999999999998,<br>    0.6366832324331606<br>  ],<br>  \"params\": {<br>    \"take_profit\": 0.5719326247301906,<br>    \"stop_loss\": 0.3026282171902923<br>  }<br>}",
          "{<br>  \"number\": 432,<br>  \"values\": [<br>    8.069999999999958,<br>    0.5785477577307082<br>  ],<br>  \"params\": {<br>    \"take_profit\": 0.37085426773928404,<br>    \"stop_loss\": 0.4531411076159884<br>  }<br>}",
          "{<br>  \"number\": 433,<br>  \"values\": [<br>    2.4199999999999826,<br>    0.4833771876998535<br>  ],<br>  \"params\": {<br>    \"take_profit\": 0.07027666199650646,<br>    \"stop_loss\": 0.5369060645414534<br>  }<br>}",
          "{<br>  \"number\": 434,<br>  \"values\": [<br>    5.239999999999984,<br>    0.5035554732268073<br>  ],<br>  \"params\": {<br>    \"take_profit\": 0.3491367688106505,<br>    \"stop_loss\": 0.2589727795282329<br>  }<br>}",
          "{<br>  \"number\": 436,<br>  \"values\": [<br>    3.5500000000000105,<br>    0.5136836239906977<br>  ],<br>  \"params\": {<br>    \"take_profit\": 0.12187065871750477,<br>    \"stop_loss\": 0.5369060645414534<br>  }<br>}",
          "{<br>  \"number\": 437,<br>  \"values\": [<br>    7.199999999999978,<br>    0.5325688966036501<br>  ],<br>  \"params\": {<br>    \"take_profit\": 0.37027401443441904,<br>    \"stop_loss\": 0.33563619175419673<br>  }<br>}",
          "{<br>  \"number\": 439,<br>  \"values\": [<br>    6.0499999999999865,<br>    0.5069104832941058<br>  ],<br>  \"params\": {<br>    \"take_profit\": 0.37027401443441904,<br>    \"stop_loss\": 0.26743814250966713<br>  }<br>}",
          "{<br>  \"number\": 440,<br>  \"values\": [<br>    0.43999999999994044,<br>    0.41504060609656196<br>  ],<br>  \"params\": {<br>    \"take_profit\": 0.15532629544967783,<br>    \"stop_loss\": 0.20349333054317287<br>  }<br>}",
          "{<br>  \"number\": 441,<br>  \"values\": [<br>    4.2799999999999905,<br>    0.4812925871947802<br>  ],<br>  \"params\": {<br>    \"take_profit\": 0.2528018514104881,<br>    \"stop_loss\": 0.29129255144850197<br>  }<br>}",
          "{<br>  \"number\": 442,<br>  \"values\": [<br>    3.1199999999999606,<br>    0.5728712246220788<br>  ],<br>  \"params\": {<br>    \"take_profit\": 0.5874963938965386,<br>    \"stop_loss\": 0.20415950754219547<br>  }<br>}",
          "{<br>  \"number\": 444,<br>  \"values\": [<br>    4.010000000000001,<br>    0.47978614532523184<br>  ],<br>  \"params\": {<br>    \"take_profit\": 0.2314528416418803,<br>    \"stop_loss\": 0.3026282171902923<br>  }<br>}",
          "{<br>  \"number\": 445,<br>  \"values\": [<br>    2.0899999999999763,<br>    0.46762869368304283<br>  ],<br>  \"params\": {<br>    \"take_profit\": 0.06995093882158698,<br>    \"stop_loss\": 0.4250026356435156<br>  }<br>}",
          "{<br>  \"number\": 446,<br>  \"values\": [<br>    5.13999999999999,<br>    0.5015346599404977<br>  ],<br>  \"params\": {<br>    \"take_profit\": 0.1461234770200528,<br>    \"stop_loss\": 0.4714992726763563<br>  }<br>}",
          "{<br>  \"number\": 447,<br>  \"values\": [<br>    7.419999999999998,<br>    0.5439693240421241<br>  ],<br>  \"params\": {<br>    \"take_profit\": 0.2703140024295009,<br>    \"stop_loss\": 0.5349177715800677<br>  }<br>}",
          "{<br>  \"number\": 448,<br>  \"values\": [<br>    8.159999999999979,<br>    0.6221699762042051<br>  ],<br>  \"params\": {<br>    \"take_profit\": 0.39788929197510264,<br>    \"stop_loss\": 0.5369060645414534<br>  }<br>}",
          "{<br>  \"number\": 449,<br>  \"values\": [<br>    2.219999999999986,<br>    0.46788156902121886<br>  ],<br>  \"params\": {<br>    \"take_profit\": 0.07147113464227041,<br>    \"stop_loss\": 0.4234704987991215<br>  }<br>}",
          "{<br>  \"number\": 450,<br>  \"values\": [<br>    1.6199999999999672,<br>    0.4892530402715614<br>  ],<br>  \"params\": {<br>    \"take_profit\": 0.37789617693978,<br>    \"stop_loss\": 0.19310671812163688<br>  }<br>}",
          "{<br>  \"number\": 451,<br>  \"values\": [<br>    8.789999999999988,<br>    0.5734807330928685<br>  ],<br>  \"params\": {<br>    \"take_profit\": 0.335589419299287,<br>    \"stop_loss\": 0.5349177715800677<br>  }<br>}",
          "{<br>  \"number\": 453,<br>  \"values\": [<br>    -0.6999999999999929,<br>    0.44300182537315846<br>  ],<br>  \"params\": {<br>    \"take_profit\": 0.3322178556912239,<br>    \"stop_loss\": 0.1052527538461541<br>  }<br>}",
          "{<br>  \"number\": 454,<br>  \"values\": [<br>    3.1699999999999906,<br>    0.4785889690650794<br>  ],<br>  \"params\": {<br>    \"take_profit\": 0.26420820939153805,<br>    \"stop_loss\": 0.28881200759765785<br>  }<br>}",
          "{<br>  \"number\": 455,<br>  \"values\": [<br>    6.159999999999975,<br>    0.7199582642951722<br>  ],<br>  \"params\": {<br>    \"take_profit\": 0.5387524469150771,<br>    \"stop_loss\": 0.5443132715820067<br>  }<br>}",
          "{<br>  \"number\": 456,<br>  \"values\": [<br>    -1.1800000000000674,<br>    0.36283598522397215<br>  ],<br>  \"params\": {<br>    \"take_profit\": 0.07956702183920271,<br>    \"stop_loss\": 0.1080721439783732<br>  }<br>}",
          "{<br>  \"number\": 457,<br>  \"values\": [<br>    2.0499999999999803,<br>    0.46101043877766984<br>  ],<br>  \"params\": {<br>    \"take_profit\": 0.22944913224895924,<br>    \"stop_loss\": 0.2228112396938116<br>  }<br>}",
          "{<br>  \"number\": 458,<br>  \"values\": [<br>    7.4800000000000075,<br>    0.5465156851128834<br>  ],<br>  \"params\": {<br>    \"take_profit\": 0.2528018514104881,<br>    \"stop_loss\": 0.567752123063268<br>  }<br>}",
          "{<br>  \"number\": 459,<br>  \"values\": [<br>    0.029999999999936133,<br>    0.4040059039647229<br>  ],<br>  \"params\": {<br>    \"take_profit\": 0.15635221511028574,<br>    \"stop_loss\": 0.1764666706253183<br>  }<br>}",
          "{<br>  \"number\": 460,<br>  \"values\": [<br>    4.369999999999974,<br>    0.511111559679559<br>  ],<br>  \"params\": {<br>    \"take_profit\": 0.1802514032503441,<br>    \"stop_loss\": 0.43824973456478217<br>  }<br>}",
          "{<br>  \"number\": 461,<br>  \"values\": [<br>    6.61999999999998,<br>    0.7369432599993881<br>  ],<br>  \"params\": {<br>    \"take_profit\": 0.5752265056563729,<br>    \"stop_loss\": 0.5415269357670659<br>  }<br>}",
          "{<br>  \"number\": 462,<br>  \"values\": [<br>    8.299999999999983,<br>    0.5507142836555289<br>  ],<br>  \"params\": {<br>    \"take_profit\": 0.3430983563905199,<br>    \"stop_loss\": 0.4250026356435156<br>  }<br>}",
          "{<br>  \"number\": 463,<br>  \"values\": [<br>    -0.9800000000000548,<br>    0.40659192158920976<br>  ],<br>  \"params\": {<br>    \"take_profit\": 0.16599202648487926,<br>    \"stop_loss\": 0.175258234178148<br>  }<br>}",
          "{<br>  \"number\": 465,<br>  \"values\": [<br>    -1.3500000000000978,<br>    0.3662897188653471<br>  ],<br>  \"params\": {<br>    \"take_profit\": 0.051682346562062456,<br>    \"stop_loss\": 0.13290700296764763<br>  }<br>}",
          "{<br>  \"number\": 466,<br>  \"values\": [<br>    4.569999999999992,<br>    0.522540392909699<br>  ],<br>  \"params\": {<br>    \"take_profit\": 0.16315902927577125,<br>    \"stop_loss\": 0.5349177715800677<br>  }<br>}",
          "{<br>  \"number\": 467,<br>  \"values\": [<br>    1.3499999999999592,<br>    0.4636084322338914<br>  ],<br>  \"params\": {<br>    \"take_profit\": 0.0595366319200447,<br>    \"stop_loss\": 0.4135210568658058<br>  }<br>}",
          "{<br>  \"number\": 468,<br>  \"values\": [<br>    5.699999999999996,<br>    0.5115503802492403<br>  ],<br>  \"params\": {<br>    \"take_profit\": 0.15532629544967783,<br>    \"stop_loss\": 0.5349177715800677<br>  }<br>}",
          "{<br>  \"number\": 470,<br>  \"values\": [<br>    6.709999999999968,<br>    0.7208786579867765<br>  ],<br>  \"params\": {<br>    \"take_profit\": 0.5474048755956343,<br>    \"stop_loss\": 0.5369060645414534<br>  }<br>}",
          "{<br>  \"number\": 471,<br>  \"values\": [<br>    9.299999999999976,<br>    0.6541994120666111<br>  ],<br>  \"params\": {<br>    \"take_profit\": 0.42477134448096265,<br>    \"stop_loss\": 0.5349177715800677<br>  }<br>}",
          "{<br>  \"number\": 472,<br>  \"values\": [<br>    -0.19000000000003503,<br>    0.4626382706836239<br>  ],<br>  \"params\": {<br>    \"take_profit\": 0.3039315069644288,<br>    \"stop_loss\": 0.20543583836577933<br>  }<br>}",
          "{<br>  \"number\": 473,<br>  \"values\": [<br>    1.799999999999966,<br>    0.4594552586132712<br>  ],<br>  \"params\": {<br>    \"take_profit\": 0.20230457723797396,<br>    \"stop_loss\": 0.2381012609389297<br>  }<br>}",
          "{<br>  \"number\": 474,<br>  \"values\": [<br>    5.279999999999964,<br>    0.7035385134513225<br>  ],<br>  \"params\": {<br>    \"take_profit\": 0.49668242331625195,<br>    \"stop_loss\": 0.5349177715800677<br>  }<br>}",
          "{<br>  \"number\": 476,<br>  \"values\": [<br>    8.929999999999968,<br>    0.5870223064227758<br>  ],<br>  \"params\": {<br>    \"take_profit\": 0.37027401443441904,<br>    \"stop_loss\": 0.5372208293404493<br>  }<br>}",
          "{<br>  \"number\": 478,<br>  \"values\": [<br>    8.929999999999968,<br>    0.5870223064227758<br>  ],<br>  \"params\": {<br>    \"take_profit\": 0.3666194620239973,<br>    \"stop_loss\": 0.5369060645414534<br>  }<br>}",
          "{<br>  \"number\": 479,<br>  \"values\": [<br>    7.9499999999999815,<br>    0.5501061091467967<br>  ],<br>  \"params\": {<br>    \"take_profit\": 0.37027401443441904,<br>    \"stop_loss\": 0.41254554790994874<br>  }<br>}",
          "{<br>  \"number\": 481,<br>  \"values\": [<br>    7.510000000000009,<br>    0.5466465946505872<br>  ],<br>  \"params\": {<br>    \"take_profit\": 0.2703140024295009,<br>    \"stop_loss\": 0.567752123063268<br>  }<br>}",
          "{<br>  \"number\": 482,<br>  \"values\": [<br>    6.069999999999972,<br>    0.6227928187626042<br>  ],<br>  \"params\": {<br>    \"take_profit\": 0.453780289267266,<br>    \"stop_loss\": 0.35300394910571503<br>  }<br>}",
          "{<br>  \"number\": 483,<br>  \"values\": [<br>    6.4800000000000075,<br>    0.5462933473372816<br>  ],<br>  \"params\": {<br>    \"take_profit\": 0.24323030232262216,<br>    \"stop_loss\": 0.5369060645414534<br>  }<br>}",
          "{<br>  \"number\": 484,<br>  \"values\": [<br>    7.9499999999999815,<br>    0.5501061091467967<br>  ],<br>  \"params\": {<br>    \"take_profit\": 0.37027401443441904,<br>    \"stop_loss\": 0.41254554790994874<br>  }<br>}",
          "{<br>  \"number\": 485,<br>  \"values\": [<br>    5.849999999999987,<br>    0.5430873013164571<br>  ],<br>  \"params\": {<br>    \"take_profit\": 0.2703140024295009,<br>    \"stop_loss\": 0.45119211249299135<br>  }<br>}",
          "{<br>  \"number\": 486,<br>  \"values\": [<br>    5.989999999999984,<br>    0.5921540361118585<br>  ],<br>  \"params\": {<br>    \"take_profit\": 0.5036140631884812,<br>    \"stop_loss\": 0.25760257173708784<br>  }<br>}",
          "{<br>  \"number\": 487,<br>  \"values\": [<br>    1.139999999999949,<br>    0.48077477861791174<br>  ],<br>  \"params\": {<br>    \"take_profit\": 0.34357574396944707,<br>    \"stop_loss\": 0.1842809123024413<br>  }<br>}",
          "{<br>  \"number\": 488,<br>  \"values\": [<br>    1.089999999999995,<br>    0.42992772144956254<br>  ],<br>  \"params\": {<br>    \"take_profit\": 0.37085426773928404,<br>    \"stop_loss\": 0.07791839253490676<br>  }<br>}",
          "{<br>  \"number\": 489,<br>  \"values\": [<br>    5.009999999999955,<br>    0.5786967520630925<br>  ],<br>  \"params\": {<br>    \"take_profit\": 0.4850744056694937,<br>    \"stop_loss\": 0.2228112396938116<br>  }<br>}",
          "{<br>  \"number\": 490,<br>  \"values\": [<br>    6.329999999999991,<br>    0.5295296206635284<br>  ],<br>  \"params\": {<br>    \"take_profit\": 0.3913891393394308,<br>    \"stop_loss\": 0.27853016915107337<br>  }<br>}",
          "{<br>  \"number\": 491,<br>  \"values\": [<br>    7.719999999999992,<br>    0.5479382229516031<br>  ],<br>  \"params\": {<br>    \"take_profit\": 0.41889084018018036,<br>    \"stop_loss\": 0.2776809362529668<br>  }<br>}",
          "{<br>  \"number\": 492,<br>  \"values\": [<br>    -1.0000000000000528,<br>    0.372393025038<br>  ],<br>  \"params\": {<br>    \"take_profit\": 0.15532629544967783,<br>    \"stop_loss\": 0.09580670802830822<br>  }<br>}",
          "{<br>  \"number\": 494,<br>  \"values\": [<br>    -0.5400000000000267,<br>    0.3894034973498595<br>  ],<br>  \"params\": {<br>    \"take_profit\": 0.11744401707025871,<br>    \"stop_loss\": 0.15289761495019039<br>  }<br>}",
          "{<br>  \"number\": 496,<br>  \"values\": [<br>    5.239999999999984,<br>    0.5035554732268073<br>  ],<br>  \"params\": {<br>    \"take_profit\": 0.3440721918189747,<br>    \"stop_loss\": 0.2507888933922507<br>  }<br>}",
          "{<br>  \"number\": 497,<br>  \"values\": [<br>    1.9200000000000133,<br>    0.5235182287726188<br>  ],<br>  \"params\": {<br>    \"take_profit\": 0.5439414299466343,<br>    \"stop_loss\": 0.1164270475939357<br>  }<br>}",
          "{<br>  \"number\": 498,<br>  \"values\": [<br>    1.3999999999999788,<br>    0.48054308953480324<br>  ],<br>  \"params\": {<br>    \"take_profit\": 0.07267861657874725,<br>    \"stop_loss\": 0.4554235325018315<br>  }<br>}",
          "{<br>  \"number\": 499,<br>  \"values\": [<br>    8.189999999999976,<br>    0.5597608698408264<br>  ],<br>  \"params\": {<br>    \"take_profit\": 0.4182172937132253,<br>    \"stop_loss\": 0.3063032657103378<br>  }<br>}",
          "{<br>  \"number\": 500,<br>  \"values\": [<br>    2.6399999999999775,<br>    0.4900975191033848<br>  ],<br>  \"params\": {<br>    \"take_profit\": 0.32986304788345927,<br>    \"stop_loss\": 0.22234287162233085<br>  }<br>}",
          "{<br>  \"number\": 502,<br>  \"values\": [<br>    6.220000000000006,<br>    0.5250869222632197<br>  ],<br>  \"params\": {<br>    \"take_profit\": 0.3039315069644288,<br>    \"stop_loss\": 0.41254554790994874<br>  }<br>}",
          "{<br>  \"number\": 503,<br>  \"values\": [<br>    1.6199999999999672,<br>    0.4892530402715614<br>  ],<br>  \"params\": {<br>    \"take_profit\": 0.3666194620239973,<br>    \"stop_loss\": 0.19686911952604985<br>  }<br>}",
          "{<br>  \"number\": 504,<br>  \"values\": [<br>    1.9099999999999615,<br>    0.4613992687926976<br>  ],<br>  \"params\": {<br>    \"take_profit\": 0.0595366319200447,<br>    \"stop_loss\": 0.4250026356435156<br>  }<br>}",
          "{<br>  \"number\": 505,<br>  \"values\": [<br>    9.269999999999994,<br>    0.6587216125644021<br>  ],<br>  \"params\": {<br>    \"take_profit\": 0.4264621059985647,<br>    \"stop_loss\": 0.567752123063268<br>  }<br>}",
          "{<br>  \"number\": 506,<br>  \"values\": [<br>    -0.2100000000000508,<br>    0.4222492540208287<br>  ],<br>  \"params\": {<br>    \"take_profit\": 0.17027587678788014,<br>    \"stop_loss\": 0.21642466644046626<br>  }<br>}",
          "{<br>  \"number\": 507,<br>  \"values\": [<br>    7.399999999999984,<br>    0.5520049779658747<br>  ],<br>  \"params\": {<br>    \"take_profit\": 0.41889084018018036,<br>    \"stop_loss\": 0.2865906215851876<br>  }<br>}",
          "{<br>  \"number\": 508,<br>  \"values\": [<br>    2.3999999999999484,<br>    0.42401082372866417<br>  ],<br>  \"params\": {<br>    \"take_profit\": 0.05392827887993837,<br>    \"stop_loss\": 0.29129255144850197<br>  }<br>}",
          "{<br>  \"number\": 509,<br>  \"values\": [<br>    10.499999999999979,<br>    0.5995514993520614<br>  ],<br>  \"params\": {<br>    \"take_profit\": 0.4239912318267485,<br>    \"stop_loss\": 0.41218749413818806<br>  }<br>}",
          "{<br>  \"number\": 510,<br>  \"values\": [<br>    0.539999999999949,<br>    0.4519635512238725<br>  ],<br>  \"params\": {<br>    \"take_profit\": 0.0595366319200447,<br>    \"stop_loss\": 0.37631007001214245<br>  }<br>}",
          "{<br>  \"number\": 511,<br>  \"values\": [<br>    7.989999999999974,<br>    0.5619170317299104<br>  ],<br>  \"params\": {<br>    \"take_profit\": 0.41539992463926473,<br>    \"stop_loss\": 0.31029490757796907<br>  }<br>}",
          "{<br>  \"number\": 512,<br>  \"values\": [<br>    7.4800000000000075,<br>    0.5465156851128834<br>  ],<br>  \"params\": {<br>    \"take_profit\": 0.251589132682438,<br>    \"stop_loss\": 0.567752123063268<br>  }<br>}",
          "{<br>  \"number\": 513,<br>  \"values\": [<br>    4.700000000000003,<br>    0.532627032317696<br>  ],<br>  \"params\": {<br>    \"take_profit\": 0.180381038720768,<br>    \"stop_loss\": 0.5349177715800677<br>  }<br>}",
          "{<br>  \"number\": 514,<br>  \"values\": [<br>    -0.3800000000000061,<br>    0.45928253201583413<br>  ],<br>  \"params\": {<br>    \"take_profit\": 0.37085426773928404,<br>    \"stop_loss\": 0.1365100302921046<br>  }<br>}",
          "{<br>  \"number\": 515,<br>  \"values\": [<br>    2.1999999999999718,<br>    0.4619362803414856<br>  ],<br>  \"params\": {<br>    \"take_profit\": 0.24792435292493215,<br>    \"stop_loss\": 0.2228112396938116<br>  }<br>}",
          "{<br>  \"number\": 516,<br>  \"values\": [<br>    6.0599999999999845,<br>    0.7698348360138583<br>  ],<br>  \"params\": {<br>    \"take_profit\": 0.5928879637290073,<br>    \"stop_loss\": 0.5829305826292092<br>  }<br>}",
          "{<br>  \"number\": 517,<br>  \"values\": [<br>    5.889999999999976,<br>    0.7674526852291962<br>  ],<br>  \"params\": {<br>    \"take_profit\": 0.5834654416473689,<br>    \"stop_loss\": 0.588693677766387<br>  }<br>}",
          "{<br>  \"number\": 518,<br>  \"values\": [<br>    5.739999999999988,<br>    0.6474085645886379<br>  ],<br>  \"params\": {<br>    \"take_profit\": 0.495673903126895,<br>    \"stop_loss\": 0.4143482171443965<br>  }<br>}",
          "{<br>  \"number\": 519,<br>  \"values\": [<br>    5.369999999999994,<br>    0.6608546161192351<br>  ],<br>  \"params\": {<br>    \"take_profit\": 0.5352780587978863,<br>    \"stop_loss\": 0.41218749413818806<br>  }<br>}",
          "{<br>  \"number\": 520,<br>  \"values\": [<br>    7.389999999999985,<br>    0.6931162662638406<br>  ],<br>  \"params\": {<br>    \"take_profit\": 0.4343655087239622,<br>    \"stop_loss\": 0.588096998570272<br>  }<br>}",
          "{<br>  \"number\": 521,<br>  \"values\": [<br>    6.6099999999999675,<br>    0.5793940113257212<br>  ],<br>  \"params\": {<br>    \"take_profit\": 0.46940417642235266,<br>    \"stop_loss\": 0.25760257173708784<br>  }<br>}",
          "{<br>  \"number\": 523,<br>  \"values\": [<br>    6.219999999999974,<br>    0.626200293747112<br>  ],<br>  \"params\": {<br>    \"take_profit\": 0.470942123874118,<br>    \"stop_loss\": 0.34691644633018803<br>  }<br>}",
          "{<br>  \"number\": 524,<br>  \"values\": [<br>    -2.0199999999999942,<br>    0.42142418764912815<br>  ],<br>  \"params\": {<br>    \"take_profit\": 0.28400575592318683,<br>    \"stop_loss\": 0.12265563406458166<br>  }<br>}",
          "{<br>  \"number\": 525,<br>  \"values\": [<br>    6.66,<br>    0.5419951826540846<br>  ],<br>  \"params\": {<br>    \"take_profit\": 0.2528018514104881,<br>    \"stop_loss\": 0.4723836320409271<br>  }<br>}",
          "{<br>  \"number\": 526,<br>  \"values\": [<br>    9.909999999999958,<br>    0.606884068144997<br>  ],<br>  \"params\": {<br>    \"take_profit\": 0.41889084018018036,<br>    \"stop_loss\": 0.43091824443493765<br>  }<br>}",
          "{<br>  \"number\": 527,<br>  \"values\": [<br>    6.1600000000000215,<br>    0.5471595131871928<br>  ],<br>  \"params\": {<br>    \"take_profit\": 0.2008117307767538,<br>    \"stop_loss\": 0.567752123063268<br>  }<br>}",
          "{<br>  \"number\": 529,<br>  \"values\": [<br>    5.729999999999997,<br>    0.6521386411310368<br>  ],<br>  \"params\": {<br>    \"take_profit\": 0.5968657879308503,<br>    \"stop_loss\": 0.3286936045839725<br>  }<br>}",
          "{<br>  \"number\": 530,<br>  \"values\": [<br>    5.629999999999978,<br>    0.6228013023359518<br>  ],<br>  \"params\": {<br>    \"take_profit\": 0.5291347600428554,<br>    \"stop_loss\": 0.29129255144850197<br>  }<br>}",
          "{<br>  \"number\": 532,<br>  \"values\": [<br>    4.2699999999999845,<br>    0.4694401583628492<br>  ],<br>  \"params\": {<br>    \"take_profit\": 0.15532629544967783,<br>    \"stop_loss\": 0.32674133443895337<br>  }<br>}",
          "{<br>  \"number\": 533,<br>  \"values\": [<br>    7.719999999999992,<br>    0.5479382229516031<br>  ],<br>  \"params\": {<br>    \"take_profit\": 0.41539992463926473,<br>    \"stop_loss\": 0.2732714331891309<br>  }<br>}",
          "{<br>  \"number\": 535,<br>  \"values\": [<br>    8.789999999999988,<br>    0.5734807330928685<br>  ],<br>  \"params\": {<br>    \"take_profit\": 0.3383493207317936,<br>    \"stop_loss\": 0.5369060645414534<br>  }<br>}",
          "{<br>  \"number\": 536,<br>  \"values\": [<br>    6.16999999999998,<br>    0.6387402865698784<br>  ],<br>  \"params\": {<br>    \"take_profit\": 0.46152984795236135,<br>    \"stop_loss\": 0.41254554790994874<br>  }<br>}",
          "{<br>  \"number\": 537,<br>  \"values\": [<br>    6.220000000000006,<br>    0.5250869222632197<br>  ],<br>  \"params\": {<br>    \"take_profit\": 0.3018572374235954,<br>    \"stop_loss\": 0.41218749413818806<br>  }<br>}",
          "{<br>  \"number\": 538,<br>  \"values\": [<br>    5.729999999999983,<br>    0.5251109802463739<br>  ],<br>  \"params\": {<br>    \"take_profit\": 0.3848837201260345,<br>    \"stop_loss\": 0.30020786121574633<br>  }<br>}",
          "{<br>  \"number\": 540,<br>  \"values\": [<br>    3.019999999999999,<br>    0.4735810836898332<br>  ],<br>  \"params\": {<br>    \"take_profit\": 0.2505855214057242,<br>    \"stop_loss\": 0.25760257173708784<br>  }<br>}",
          "{<br>  \"number\": 541,<br>  \"values\": [<br>    1.4999999999999507,<br>    0.4680374522178297<br>  ],<br>  \"params\": {<br>    \"take_profit\": 0.0595366319200447,<br>    \"stop_loss\": 0.43326480209693996<br>  }<br>}",
          "{<br>  \"number\": 542,<br>  \"values\": [<br>    1.089999999999995,<br>    0.42992772144956254<br>  ],<br>  \"params\": {<br>    \"take_profit\": 0.37027401443441904,<br>    \"stop_loss\": 0.07100194235572947<br>  }<br>}",
          "{<br>  \"number\": 543,<br>  \"values\": [<br>    7.179999999999989,<br>    0.7437104727008492<br>  ],<br>  \"params\": {<br>    \"take_profit\": 0.5929043132964936,<br>    \"stop_loss\": 0.5369060645414534<br>  }<br>}",
          "{<br>  \"number\": 544,<br>  \"values\": [<br>    8.44999999999997,<br>    0.6043534370904803<br>  ],<br>  \"params\": {<br>    \"take_profit\": 0.37085426773928404,<br>    \"stop_loss\": 0.5710207197187162<br>  }<br>}",
          "{<br>  \"number\": 546,<br>  \"values\": [<br>    8.429999999999968,<br>    0.6346140661018053<br>  ],<br>  \"params\": {<br>    \"take_profit\": 0.4491864139920696,<br>    \"stop_loss\": 0.4277808555930925<br>  }<br>}",
          "{<br>  \"number\": 547,<br>  \"values\": [<br>    2.849999999999965,<br>    0.5103782089013563<br>  ],<br>  \"params\": {<br>    \"take_profit\": 0.40997941039795066,<br>    \"stop_loss\": 0.19614261563046176<br>  }<br>}",
          "{<br>  \"number\": 548,<br>  \"values\": [<br>    5.099999999999994,<br>    0.5256259760197045<br>  ],<br>  \"params\": {<br>    \"take_profit\": 0.17763522267688553,<br>    \"stop_loss\": 0.5369060645414534<br>  }<br>}",
          "{<br>  \"number\": 549,<br>  \"values\": [<br>    4.630000000000013,<br>    0.5435067646803697<br>  ],<br>  \"params\": {<br>    \"take_profit\": 0.19487286776997215,<br>    \"stop_loss\": 0.567752123063268<br>  }<br>}",
          "{<br>  \"number\": 550,<br>  \"values\": [<br>    -0.4000000000000079,<br>    0.4003799213206045<br>  ],<br>  \"params\": {<br>    \"take_profit\": 0.28400575592318683,<br>    \"stop_loss\": 0.07966777754668612<br>  }<br>}",
          "{<br>  \"number\": 551,<br>  \"values\": [<br>    1.1999999999999535,<br>    0.47247755253936335<br>  ],<br>  \"params\": {<br>    \"take_profit\": 0.0595366319200447,<br>    \"stop_loss\": 0.44010536743060613<br>  }<br>}",
          "{<br>  \"number\": 552,<br>  \"values\": [<br>    2.109999999999958,<br>    0.47661949742821<br>  ],<br>  \"params\": {<br>    \"take_profit\": 0.05392827887993837,<br>    \"stop_loss\": 0.5349177715800677<br>  }<br>}",
          "{<br>  \"number\": 553,<br>  \"values\": [<br>    0.11999999999999836,<br>    0.4014130202877035<br>  ],<br>  \"params\": {<br>    \"take_profit\": 0.3122333288434313,<br>    \"stop_loss\": 0.05286499173453086<br>  }<br>}",
          "{<br>  \"number\": 554,<br>  \"values\": [<br>    8.63999999999998,<br>    0.6469523879623985<br>  ],<br>  \"params\": {<br>    \"take_profit\": 0.410399452851436,<br>    \"stop_loss\": 0.5369060645414534<br>  }<br>}",
          "{<br>  \"number\": 555,<br>  \"values\": [<br>    4.93999999999998,<br>    0.6366832324331606<br>  ],<br>  \"params\": {<br>    \"take_profit\": 0.5732459137456206,<br>    \"stop_loss\": 0.3026282171902923<br>  }<br>}",
          "{<br>  \"number\": 557,<br>  \"values\": [<br>    8.659999999999975,<br>    0.5539800639766034<br>  ],<br>  \"params\": {<br>    \"take_profit\": 0.4193862236915465,<br>    \"stop_loss\": 0.29129255144850197<br>  }<br>}",
          "{<br>  \"number\": 558,<br>  \"values\": [<br>    5.939999999999987,<br>    0.6397011613853781<br>  ],<br>  \"params\": {<br>    \"take_profit\": 0.5025293260935499,<br>    \"stop_loss\": 0.3669657435483972<br>  }<br>}",
          "{<br>  \"number\": 559,<br>  \"values\": [<br>    6.519999999999971,<br>    0.5193321952028793<br>  ],<br>  \"params\": {<br>    \"take_profit\": 0.37027401443441904,<br>    \"stop_loss\": 0.3026282171902923<br>  }<br>}",
          "{<br>  \"number\": 560,<br>  \"values\": [<br>    -0.5000000000000027,<br>    0.4662404437982689<br>  ],<br>  \"params\": {<br>    \"take_profit\": 0.37085426773928404,<br>    \"stop_loss\": 0.1470611081211389<br>  }<br>}",
          "{<br>  \"number\": 561,<br>  \"values\": [<br>    -0.8500000000000005,<br>    0.3924203921137035<br>  ],<br>  \"params\": {<br>    \"take_profit\": 0.2742453839446867,<br>    \"stop_loss\": 0.06944219304486213<br>  }<br>}",
          "{<br>  \"number\": 562,<br>  \"values\": [<br>    1.9299999999999757,<br>    0.4602323378026902<br>  ],<br>  \"params\": {<br>    \"take_profit\": 0.21944624281914438,<br>    \"stop_loss\": 0.22463516339198453<br>  }<br>}",
          "{<br>  \"number\": 563,<br>  \"values\": [<br>    -0.30000000000004357,<br>    0.35673883954322044<br>  ],<br>  \"params\": {<br>    \"take_profit\": 0.15097201899157653,<br>    \"stop_loss\": 0.06155251694129482<br>  }<br>}",
          "{<br>  \"number\": 564,<br>  \"values\": [<br>    8.709999999999969,<br>    0.5854861482996389<br>  ],<br>  \"params\": {<br>    \"take_profit\": 0.35251836999980996,<br>    \"stop_loss\": 0.5349177715800677<br>  }<br>}",
          "{<br>  \"number\": 565,<br>  \"values\": [<br>    4.910000000000011,<br>    0.5381952392538933<br>  ],<br>  \"params\": {<br>    \"take_profit\": 0.15635221511028574,<br>    \"stop_loss\": 0.5984325089139217<br>  }<br>}",
          "{<br>  \"number\": 566,<br>  \"values\": [<br>    4.180000000000006,<br>    0.5252007498011899<br>  ],<br>  \"params\": {<br>    \"take_profit\": 0.2881063160536011,<br>    \"stop_loss\": 0.39698860472045056<br>  }<br>}",
          "{<br>  \"number\": 567,<br>  \"values\": [<br>    6.570000000000011,<br>    0.5434623438497851<br>  ],<br>  \"params\": {<br>    \"take_profit\": 0.2526648380378168,<br>    \"stop_loss\": 0.5092134862245657<br>  }<br>}",
          "{<br>  \"number\": 568,<br>  \"values\": [<br>    7.5099999999999945,<br>    0.5999341688100206<br>  ],<br>  \"params\": {<br>    \"take_profit\": 0.32315565061419055,<br>    \"stop_loss\": 0.5889338243191403<br>  }<br>}",
          "{<br>  \"number\": 569,<br>  \"values\": [<br>    8.63999999999998,<br>    0.6469523879623985<br>  ],<br>  \"params\": {<br>    \"take_profit\": 0.4193862236915465,<br>    \"stop_loss\": 0.5307356458138389<br>  }<br>}",
          "{<br>  \"number\": 570,<br>  \"values\": [<br>    8.929999999999968,<br>    0.5870223064227758<br>  ],<br>  \"params\": {<br>    \"take_profit\": 0.37027401443441904,<br>    \"stop_loss\": 0.5369060645414534<br>  }<br>}",
          "{<br>  \"number\": 571,<br>  \"values\": [<br>    1.1399999999999695,<br>    0.4603851821622516<br>  ],<br>  \"params\": {<br>    \"take_profit\": 0.09041858608301288,<br>    \"stop_loss\": 0.3897971634556314<br>  }<br>}",
          "{<br>  \"number\": 572,<br>  \"values\": [<br>    8.929999999999968,<br>    0.5870223064227758<br>  ],<br>  \"params\": {<br>    \"take_profit\": 0.3666194620239973,<br>    \"stop_loss\": 0.5369060645414534<br>  }<br>}",
          "{<br>  \"number\": 573,<br>  \"values\": [<br>    3.14000000000001,<br>    0.46554294818962383<br>  ],<br>  \"params\": {<br>    \"take_profit\": 0.22630760172614528,<br>    \"stop_loss\": 0.25760257173708784<br>  }<br>}",
          "{<br>  \"number\": 577,<br>  \"values\": [<br>    -0.4100000000000339,<br>    0.4542432064319393<br>  ],<br>  \"params\": {<br>    \"take_profit\": 0.2528018514104881,<br>    \"stop_loss\": 0.19916147232558346<br>  }<br>}",
          "{<br>  \"number\": 578,<br>  \"values\": [<br>    -0.3100000000000671,<br>    0.34695643712547974<br>  ],<br>  \"params\": {<br>    \"take_profit\": 0.0864395601263424,<br>    \"stop_loss\": 0.07321930378938664<br>  }<br>}",
          "{<br>  \"number\": 580,<br>  \"values\": [<br>    3.500000000000003,<br>    0.47466122333669797<br>  ],<br>  \"params\": {<br>    \"take_profit\": 0.2761527601271156,<br>    \"stop_loss\": 0.2622335931332519<br>  }<br>}",
          "{<br>  \"number\": 581,<br>  \"values\": [<br>    0.539999999999949,<br>    0.4519635512238725<br>  ],<br>  \"params\": {<br>    \"take_profit\": 0.05392827887993837,<br>    \"stop_loss\": 0.374640070255753<br>  }<br>}",
          "{<br>  \"number\": 582,<br>  \"values\": [<br>    2.659999999999994,<br>    0.47923783459702746<br>  ],<br>  \"params\": {<br>    \"take_profit\": 0.1279404733356139,<br>    \"stop_loss\": 0.3823362786823037<br>  }<br>}",
          "{<br>  \"number\": 584,<br>  \"values\": [<br>    3.5100000000000042,<br>    0.513591548801764<br>  ],<br>  \"params\": {<br>    \"take_profit\": 0.11246218553840226,<br>    \"stop_loss\": 0.5322134186042405<br>  }<br>}",
          "{<br>  \"number\": 585,<br>  \"values\": [<br>    5.239999999999984,<br>    0.5035554732268073<br>  ],<br>  \"params\": {<br>    \"take_profit\": 0.34554782848940085,<br>    \"stop_loss\": 0.25760257173708784<br>  }<br>}",
          "{<br>  \"number\": 587,<br>  \"values\": [<br>    7.499999999999984,<br>    0.676149523337231<br>  ],<br>  \"params\": {<br>    \"take_profit\": 0.41101869033207705,<br>    \"stop_loss\": 0.5832410975809195<br>  }<br>}",
          "{<br>  \"number\": 588,<br>  \"values\": [<br>    4.569999999999992,<br>    0.522540392909699<br>  ],<br>  \"params\": {<br>    \"take_profit\": 0.16117123037412098,<br>    \"stop_loss\": 0.5369060645414534<br>  }<br>}",
          "{<br>  \"number\": 589,<br>  \"values\": [<br>    7.479999999999993,<br>    0.5477864058546899<br>  ],<br>  \"params\": {<br>    \"take_profit\": 0.3046618797061607,<br>    \"stop_loss\": 0.4710857145413829<br>  }<br>}",
          "{<br>  \"number\": 590,<br>  \"values\": [<br>    2.559999999999987,<br>    0.5040649160765645<br>  ],<br>  \"params\": {<br>    \"take_profit\": 0.10031970000183371,<br>    \"stop_loss\": 0.49983854009073936<br>  }<br>}",
          "{<br>  \"number\": 591,<br>  \"values\": [<br>    4.629999999999985,<br>    0.49352407365676554<br>  ],<br>  \"params\": {<br>    \"take_profit\": 0.3046618797061607,<br>    \"stop_loss\": 0.3033196717866294<br>  }<br>}",
          "{<br>  \"number\": 592,<br>  \"values\": [<br>    8.43000000000001,<br>    0.5529706727634947<br>  ],<br>  \"params\": {<br>    \"take_profit\": 0.3067418590421396,<br>    \"stop_loss\": 0.567752123063268<br>  }<br>}",
          "{<br>  \"number\": 594,<br>  \"values\": [<br>    4.790000000000006,<br>    0.5183746306012839<br>  ],<br>  \"params\": {<br>    \"take_profit\": 0.3046618797061607,<br>    \"stop_loss\": 0.3845337887187567<br>  }<br>}",
          "{<br>  \"number\": 595,<br>  \"values\": [<br>    7.409999999999993,<br>    0.5439246862132775<br>  ],<br>  \"params\": {<br>    \"take_profit\": 0.2684094356221424,<br>    \"stop_loss\": 0.5372208293404493<br>  }<br>}",
          "{<br>  \"number\": 596,<br>  \"values\": [<br>    2.4199999999999906,<br>    0.49943052465378185<br>  ],<br>  \"params\": {<br>    \"take_profit\": 0.1965496460923299,<br>    \"stop_loss\": 0.37931687871370806<br>  }<br>}",
          "{<br>  \"number\": 597,<br>  \"values\": [<br>    6.809999999999974,<br>    0.5349820860539668<br>  ],<br>  \"params\": {<br>    \"take_profit\": 0.3552102244383641,<br>    \"stop_loss\": 0.3607896762224062<br>  }<br>}",
          "{<br>  \"number\": 599,<br>  \"values\": [<br>    -0.1900000000000019,<br>    0.4485371146403341<br>  ],<br>  \"params\": {<br>    \"take_profit\": 0.3588957779703448,<br>    \"stop_loss\": 0.10579119228440254<br>  }<br>}",
          "{<br>  \"number\": 600,<br>  \"values\": [<br>    6.61999999999998,<br>    0.7369432599993881<br>  ],<br>  \"params\": {<br>    \"take_profit\": 0.5605656824870775,<br>    \"stop_loss\": 0.5369060645414534<br>  }<br>}",
          "{<br>  \"number\": 601,<br>  \"values\": [<br>    6.300000000000015,<br>    0.545323084432884<br>  ],<br>  \"params\": {<br>    \"take_profit\": 0.2301881373999613,<br>    \"stop_loss\": 0.5349177715800677<br>  }<br>}",
          "{<br>  \"number\": 602,<br>  \"values\": [<br>    6.420000000000002,<br>    0.5172961498664638<br>  ],<br>  \"params\": {<br>    \"take_profit\": 0.26420820939153805,<br>    \"stop_loss\": 0.4250026356435156<br>  }<br>}",
          "{<br>  \"number\": 603,<br>  \"values\": [<br>    6.80999999999996,<br>    0.6153714542182356<br>  ],<br>  \"params\": {<br>    \"take_profit\": 0.44708930938463115,<br>    \"stop_loss\": 0.3613513546947347<br>  }<br>}",
          "{<br>  \"number\": 604,<br>  \"values\": [<br>    -0.15000000000006053,<br>    0.40048415583356617<br>  ],<br>  \"params\": {<br>    \"take_profit\": 0.13138358969635155,<br>    \"stop_loss\": 0.18923577006845432<br>  }<br>}",
          "{<br>  \"number\": 605,<br>  \"values\": [<br>    6.609999999999978,<br>    0.546360035871172<br>  ],<br>  \"params\": {<br>    \"take_profit\": 0.28400575592318683,<br>    \"stop_loss\": 0.4448691966533077<br>  }<br>}",
          "{<br>  \"number\": 606,<br>  \"values\": [<br>    8.63999999999998,<br>    0.6469523879623985<br>  ],<br>  \"params\": {<br>    \"take_profit\": 0.4193862236915465,<br>    \"stop_loss\": 0.5404170168614147<br>  }<br>}",
          "{<br>  \"number\": 607,<br>  \"values\": [<br>    -2.090000000000032,<br>    0.37753585589005756<br>  ],<br>  \"params\": {<br>    \"take_profit\": 0.13138358969635155,<br>    \"stop_loss\": 0.11184673008752061<br>  }<br>}",
          "{<br>  \"number\": 608,<br>  \"values\": [<br>    -1.290000000000017,<br>    0.42786188527596225<br>  ],<br>  \"params\": {<br>    \"take_profit\": 0.2061165647873751,<br>    \"stop_loss\": 0.1526477930019265<br>  }<br>}",
          "{<br>  \"number\": 609,<br>  \"values\": [<br>    8.529999999999998,<br>    0.5715449974411286<br>  ],<br>  \"params\": {<br>    \"take_profit\": 0.3249019300302035,<br>    \"stop_loss\": 0.5369060645414534<br>  }<br>}",
          "{<br>  \"number\": 610,<br>  \"values\": [<br>    2.2700000000000076,<br>    0.5183312059370282<br>  ],<br>  \"params\": {<br>    \"take_profit\": 0.5289436492744354,<br>    \"stop_loss\": 0.12404733999224737<br>  }<br>}",
          "{<br>  \"number\": 611,<br>  \"values\": [<br>    6.059999999999974,<br>    0.7144707289085246<br>  ],<br>  \"params\": {<br>    \"take_profit\": 0.5282078735864453,<br>    \"stop_loss\": 0.5349177715800677<br>  }<br>}",
          "{<br>  \"number\": 612,<br>  \"values\": [<br>    8.649999999999977,<br>    0.5532192653510501<br>  ],<br>  \"params\": {<br>    \"take_profit\": 0.37085426773928404,<br>    \"stop_loss\": 0.4234704987991215<br>  }<br>}",
          "{<br>  \"number\": 613,<br>  \"values\": [<br>    -0.3399999999999935,<br>    0.45302336897725903<br>  ],<br>  \"params\": {<br>    \"take_profit\": 0.37085426773928404,<br>    \"stop_loss\": 0.11783903484917556<br>  }<br>}",
          "{<br>  \"number\": 614,<br>  \"values\": [<br>    4.200000000000006,<br>    0.49942632378816615<br>  ],<br>  \"params\": {<br>    \"take_profit\": 0.5473435689326609,<br>    \"stop_loss\": 0.060234597780879945<br>  }<br>}",
          "{<br>  \"number\": 615,<br>  \"values\": [<br>    2.7299999999999605,<br>    0.511220574030735<br>  ],<br>  \"params\": {<br>    \"take_profit\": 0.40181313837253535,<br>    \"stop_loss\": 0.20322082527862612<br>  }<br>}",
          "{<br>  \"number\": 616,<br>  \"values\": [<br>    9.049999999999972,<br>    0.6300518176612889<br>  ],<br>  \"params\": {<br>    \"take_profit\": 0.41889084018018036,<br>    \"stop_loss\": 0.47334559393754083<br>  }<br>}",
          "{<br>  \"number\": 617,<br>  \"values\": [<br>    2.1899999999999826,<br>    0.49286136891711296<br>  ],<br>  \"params\": {<br>    \"take_profit\": 0.09516734088006035,<br>    \"stop_loss\": 0.5372208293404493<br>  }<br>}",
          "{<br>  \"number\": 618,<br>  \"values\": [<br>    1.3699999999999672,<br>    0.4909145492559799<br>  ],<br>  \"params\": {<br>    \"take_profit\": 0.3666194620239973,<br>    \"stop_loss\": 0.21829105527911152<br>  }<br>}",
          "{<br>  \"number\": 619,<br>  \"values\": [<br>    -0.9800000000000271,<br>    0.45477318609791756<br>  ],<br>  \"params\": {<br>    \"take_profit\": 0.2761527601271156,<br>    \"stop_loss\": 0.20926650050709505<br>  }<br>}",
          "{<br>  \"number\": 620,<br>  \"values\": [<br>    3.35,<br>    0.4910447900422773<br>  ],<br>  \"params\": {<br>    \"take_profit\": 0.12394562111265842,<br>    \"stop_loss\": 0.4182980432738491<br>  }<br>}",
          "{<br>  \"number\": 622,<br>  \"values\": [<br>    2.289999999999973,<br>    0.4831363158220817<br>  ],<br>  \"params\": {<br>    \"take_profit\": 0.06066665129892106,<br>    \"stop_loss\": 0.5349177715800677<br>  }<br>}",
          "{<br>  \"number\": 623,<br>  \"values\": [<br>    6.249999999999986,<br>    0.6891968614946775<br>  ],<br>  \"params\": {<br>    \"take_profit\": 0.44706152855776377,<br>    \"stop_loss\": 0.5649507194195433<br>  }<br>}",
          "{<br>  \"number\": 624,<br>  \"values\": [<br>    3.81999999999997,<br>    0.500838356115939<br>  ],<br>  \"params\": {<br>    \"take_profit\": 0.37027401443441904,<br>    \"stop_loss\": 0.239815747464096<br>  }<br>}",
          "{<br>  \"number\": 625,<br>  \"values\": [<br>    4.039999999999996,<br>    0.49890867030111935<br>  ],<br>  \"params\": {<br>    \"take_profit\": 0.2529238916703658,<br>    \"stop_loss\": 0.32886387073468765<br>  }<br>}",
          "{<br>  \"number\": 626,<br>  \"values\": [<br>    5.400000000000013,<br>    0.5190212905236803<br>  ],<br>  \"params\": {<br>    \"take_profit\": 0.2528018514104881,<br>    \"stop_loss\": 0.41254554790994874<br>  }<br>}",
          "{<br>  \"number\": 628,<br>  \"values\": [<br>    2.229999999999995,<br>    0.5255212696697283<br>  ],<br>  \"params\": {<br>    \"take_profit\": 0.5254974352013294,<br>    \"stop_loss\": 0.1311395259229865<br>  }<br>}",
          "{<br>  \"number\": 629,<br>  \"values\": [<br>    8.879999999999999,<br>    0.5767027825093065<br>  ],<br>  \"params\": {<br>    \"take_profit\": 0.335589419299287,<br>    \"stop_loss\": 0.567752123063268<br>  }<br>}",
          "{<br>  \"number\": 630,<br>  \"values\": [<br>    2.159999999999986,<br>    0.4945255863507522<br>  ],<br>  \"params\": {<br>    \"take_profit\": 0.06461836060188123,<br>    \"stop_loss\": 0.5696628430735706<br>  }<br>}",
          "{<br>  \"number\": 631,<br>  \"values\": [<br>    6.590000000000007,<br>    0.5435542475190795<br>  ],<br>  \"params\": {<br>    \"take_profit\": 0.2603266253130681,<br>    \"stop_loss\": 0.4969626214630824<br>  }<br>}",
          "{<br>  \"number\": 632,<br>  \"values\": [<br>    7.409999999999993,<br>    0.5439246862132775<br>  ],<br>  \"params\": {<br>    \"take_profit\": 0.2618110033142434,<br>    \"stop_loss\": 0.5349177715800677<br>  }<br>}",
          "{<br>  \"number\": 633,<br>  \"values\": [<br>    -0.21000000000004013,<br>    0.35647248503330775<br>  ],<br>  \"params\": {<br>    \"take_profit\": 0.15532629544967783,<br>    \"stop_loss\": 0.05873951823447722<br>  }<br>}",
          "{<br>  \"number\": 635,<br>  \"values\": [<br>    6.569999999999958,<br>    0.6865897189565762<br>  ],<br>  \"params\": {<br>    \"take_profit\": 0.4635763375746858,<br>    \"stop_loss\": 0.5349177715800677<br>  }<br>}",
          "{<br>  \"number\": 636,<br>  \"values\": [<br>    6.100000000000026,<br>    0.5461454623980657<br>  ],<br>  \"params\": {<br>    \"take_profit\": 0.22614975285705563,<br>    \"stop_loss\": 0.5503040743730622<br>  }<br>}",
          "{<br>  \"number\": 637,<br>  \"values\": [<br>    9.069999999999979,<br>    0.5937478102883597<br>  ],<br>  \"params\": {<br>    \"take_profit\": 0.42545111034469985,<br>    \"stop_loss\": 0.38096367706144424<br>  }<br>}",
          "{<br>  \"number\": 639,<br>  \"values\": [<br>    5.369999999999983,<br>    0.651527078819646<br>  ],<br>  \"params\": {<br>    \"take_profit\": 0.5468498926050982,<br>    \"stop_loss\": 0.37503207108048997<br>  }<br>}",
          "{<br>  \"number\": 640,<br>  \"values\": [<br>    3.3899999999999406,<br>    0.5517868601046395<br>  ],<br>  \"params\": {<br>    \"take_profit\": 0.4724927876706159,<br>    \"stop_loss\": 0.18186888607388774<br>  }<br>}",
          "{<br>  \"number\": 641,<br>  \"values\": [<br>    8.929999999999968,<br>    0.5870223064227758<br>  ],<br>  \"params\": {<br>    \"take_profit\": 0.37027401443441904,<br>    \"stop_loss\": 0.5372208293404493<br>  }<br>}",
          "{<br>  \"number\": 642,<br>  \"values\": [<br>    7.719999999999992,<br>    0.5479382229516031<br>  ],<br>  \"params\": {<br>    \"take_profit\": 0.4193862236915465,<br>    \"stop_loss\": 0.273412173204446<br>  }<br>}",
          "{<br>  \"number\": 643,<br>  \"values\": [<br>    8.099999999999977,<br>    0.5861954271102473<br>  ],<br>  \"params\": {<br>    \"take_profit\": 0.37085426773928404,<br>    \"stop_loss\": 0.5014202706545443<br>  }<br>}",
          "{<br>  \"number\": 644,<br>  \"values\": [<br>    5.82999999999997,<br>    0.7119599468154018<br>  ],<br>  \"params\": {<br>    \"take_profit\": 0.5178495515259102,<br>    \"stop_loss\": 0.5369060645414534<br>  }<br>}",
          "{<br>  \"number\": 645,<br>  \"values\": [<br>    5.659999999999986,<br>    0.5966288910211844<br>  ],<br>  \"params\": {<br>    \"take_profit\": 0.5330524788743768,<br>    \"stop_loss\": 0.25433863590304795<br>  }<br>}",
          "{<br>  \"number\": 646,<br>  \"values\": [<br>    2.109999999999958,<br>    0.47661949742821<br>  ],<br>  \"params\": {<br>    \"take_profit\": 0.0595366319200447,<br>    \"stop_loss\": 0.5372208293404493<br>  }<br>}",
          "{<br>  \"number\": 649,<br>  \"values\": [<br>    7.699999999999992,<br>    0.551519406748875<br>  ],<br>  \"params\": {<br>    \"take_profit\": 0.31535144648245117,<br>    \"stop_loss\": 0.5044561969556406<br>  }<br>}",
          "{<br>  \"number\": 650,<br>  \"values\": [<br>    4.879999999999971,<br>    0.6260492142793411<br>  ],<br>  \"params\": {<br>    \"take_profit\": 0.4812658523202356,<br>    \"stop_loss\": 0.32326601276010675<br>  }<br>}",
          "{<br>  \"number\": 651,<br>  \"values\": [<br>    3.100000000000026,<br>    0.5198831543068042<br>  ],<br>  \"params\": {<br>    \"take_profit\": 0.21881685090611186,<br>    \"stop_loss\": 0.40422914558338524<br>  }<br>}",
          "{<br>  \"number\": 652,<br>  \"values\": [<br>    8.409999999999982,<br>    0.5866521816393612<br>  ],<br>  \"params\": {<br>    \"take_profit\": 0.4193862236915465,<br>    \"stop_loss\": 0.3820495307051589<br>  }<br>}",
          "{<br>  \"number\": 654,<br>  \"values\": [<br>    7.9499999999999815,<br>    0.5501061091467967<br>  ],<br>  \"params\": {<br>    \"take_profit\": 0.37085426773928404,<br>    \"stop_loss\": 0.41254554790994874<br>  }<br>}",
          "{<br>  \"number\": 655,<br>  \"values\": [<br>    1.9799999999999667,<br>    0.47702860765053373<br>  ],<br>  \"params\": {<br>    \"take_profit\": 0.09168158500185986,<br>    \"stop_loss\": 0.43824973456478217<br>  }<br>}",
          "{<br>  \"number\": 656,<br>  \"values\": [<br>    4.729999999999993,<br>    0.49892095118482316<br>  ],<br>  \"params\": {<br>    \"take_profit\": 0.335589419299287,<br>    \"stop_loss\": 0.25760257173708784<br>  }<br>}",
          "{<br>  \"number\": 657,<br>  \"values\": [<br>    3.279999999999964,<br>    0.5151458855962182<br>  ],<br>  \"params\": {<br>    \"take_profit\": 0.41539992463926473,<br>    \"stop_loss\": 0.16038030816680365<br>  }<br>}",
          "{<br>  \"number\": 658,<br>  \"values\": [<br>    5.709999999999987,<br>    0.6619152477658878<br>  ],<br>  \"params\": {<br>    \"take_profit\": 0.548815304990232,<br>    \"stop_loss\": 0.40111128799356016<br>  }<br>}",
          "{<br>  \"number\": 659,<br>  \"values\": [<br>    9.019999999999978,<br>    0.5906202937259662<br>  ],<br>  \"params\": {<br>    \"take_profit\": 0.37298374367090403,<br>    \"stop_loss\": 0.5606858681417133<br>  }<br>}",
          "{<br>  \"number\": 660,<br>  \"values\": [<br>    -0.010000000000021991,<br>    0.4669881084737834<br>  ],<br>  \"params\": {<br>    \"take_profit\": 0.335589419299287,<br>    \"stop_loss\": 0.16187336886816053<br>  }<br>}",
          "{<br>  \"number\": 661,<br>  \"values\": [<br>    7.179999999999989,<br>    0.7437104727008492<br>  ],<br>  \"params\": {<br>    \"take_profit\": 0.5922063757152386,<br>    \"stop_loss\": 0.5372208293404493<br>  }<br>}",
          "{<br>  \"number\": 662,<br>  \"values\": [<br>    6.420000000000002,<br>    0.5172961498664638<br>  ],<br>  \"params\": {<br>    \"take_profit\": 0.2684094356221424,<br>    \"stop_loss\": 0.4250026356435156<br>  }<br>}",
          "{<br>  \"number\": 663,<br>  \"values\": [<br>    2.289999999999973,<br>    0.4831363158220817<br>  ],<br>  \"params\": {<br>    \"take_profit\": 0.06752834016586017,<br>    \"stop_loss\": 0.5349177715800677<br>  }<br>}",
          "{<br>  \"number\": 664,<br>  \"values\": [<br>    6.179999999999982,<br>    0.642397346139689<br>  ],<br>  \"params\": {<br>    \"take_profit\": 0.5151184154602049,<br>    \"stop_loss\": 0.352611817595274<br>  }<br>}",
          "{<br>  \"number\": 665,<br>  \"values\": [<br>    3.3599999999999803,<br>    0.4679432145923594<br>  ],<br>  \"params\": {<br>    \"take_profit\": 0.19764107466648778,<br>    \"stop_loss\": 0.3026282171902923<br>  }<br>}",
          "{<br>  \"number\": 666,<br>  \"values\": [<br>    6.16999999999998,<br>    0.6387402865698784<br>  ],<br>  \"params\": {<br>    \"take_profit\": 0.46143603757141616,<br>    \"stop_loss\": 0.40653427106414836<br>  }<br>}",
          "{<br>  \"number\": 668,<br>  \"values\": [<br>    6.1699999999999875,<br>    0.5297290349836667<br>  ],<br>  \"params\": {<br>    \"take_profit\": 0.335589419299287,<br>    \"stop_loss\": 0.35364792379093546<br>  }<br>}",
          "{<br>  \"number\": 669,<br>  \"values\": [<br>    3.4599999999999542,<br>    0.5443628336695009<br>  ],<br>  \"params\": {<br>    \"take_profit\": 0.43982448524208234,<br>    \"stop_loss\": 0.19466866678061262<br>  }<br>}",
          "{<br>  \"number\": 670,<br>  \"values\": [<br>    6.089999999999993,<br>    0.6563871709825759<br>  ],<br>  \"params\": {<br>    \"take_profit\": 0.5168285136805119,<br>    \"stop_loss\": 0.41218749413818806<br>  }<br>}",
          "{<br>  \"number\": 671,<br>  \"values\": [<br>    7.749999999999979,<br>    0.5479491780677915<br>  ],<br>  \"params\": {<br>    \"take_profit\": 0.31216017464024554,<br>    \"stop_loss\": 0.4688255570682349<br>  }<br>}",
          "{<br>  \"number\": 672,<br>  \"values\": [<br>    3.14000000000001,<br>    0.46554294818962383<br>  ],<br>  \"params\": {<br>    \"take_profit\": 0.22615933668981342,<br>    \"stop_loss\": 0.25760257173708784<br>  }<br>}",
          "{<br>  \"number\": 673,<br>  \"values\": [<br>    5.729999999999983,<br>    0.5251109802463739<br>  ],<br>  \"params\": {<br>    \"take_profit\": 0.384530487187213,<br>    \"stop_loss\": 0.3026282171902923<br>  }<br>}",
          "{<br>  \"number\": 674,<br>  \"values\": [<br>    6.1699999999999875,<br>    0.5297290349836667<br>  ],<br>  \"params\": {<br>    \"take_profit\": 0.33977508478999885,<br>    \"stop_loss\": 0.35845275373369867<br>  }<br>}",
          "{<br>  \"number\": 675,<br>  \"values\": [<br>    2.109999999999958,<br>    0.47661949742821<br>  ],<br>  \"params\": {<br>    \"take_profit\": 0.0595366319200447,<br>    \"stop_loss\": 0.5369060645414534<br>  }<br>}",
          "{<br>  \"number\": 676,<br>  \"values\": [<br>    7.909999999999965,<br>    0.6161632381882863<br>  ],<br>  \"params\": {<br>    \"take_profit\": 0.3623665244812856,<br>    \"stop_loss\": 0.5884366683232801<br>  }<br>}",
          "{<br>  \"number\": 677,<br>  \"values\": [<br>    6.61999999999998,<br>    0.7369432599993881<br>  ],<br>  \"params\": {<br>    \"take_profit\": 0.5779201286382207,<br>    \"stop_loss\": 0.5349177715800677<br>  }<br>}",
          "{<br>  \"number\": 678,<br>  \"values\": [<br>    7.169999999999973,<br>    0.5674768482795869<br>  ],<br>  \"params\": {<br>    \"take_profit\": 0.3920267293359263,<br>    \"stop_loss\": 0.3716006121212815<br>  }<br>}",
          "{<br>  \"number\": 679,<br>  \"values\": [<br>    1.3499999999999592,<br>    0.4636084322338914<br>  ],<br>  \"params\": {<br>    \"take_profit\": 0.0595366319200447,<br>    \"stop_loss\": 0.4178694934936736<br>  }<br>}",
          "{<br>  \"number\": 680,<br>  \"values\": [<br>    8.659999999999975,<br>    0.5539800639766034<br>  ],<br>  \"params\": {<br>    \"take_profit\": 0.4193862236915465,<br>    \"stop_loss\": 0.29129255144850197<br>  }<br>}",
          "{<br>  \"number\": 681,<br>  \"values\": [<br>    6.689999999999976,<br>    0.5277920244681025<br>  ],<br>  \"params\": {<br>    \"take_profit\": 0.26420820939153805,<br>    \"stop_loss\": 0.43824973456478217<br>  }<br>}",
          "{<br>  \"number\": 682,<br>  \"values\": [<br>    7.9499999999999815,<br>    0.5501061091467967<br>  ],<br>  \"params\": {<br>    \"take_profit\": 0.37027401443441904,<br>    \"stop_loss\": 0.4131145669700361<br>  }<br>}",
          "{<br>  \"number\": 683,<br>  \"values\": [<br>    6.869999999999985,<br>    0.6778316909445138<br>  ],<br>  \"params\": {<br>    \"take_profit\": 0.5548275191675023,<br>    \"stop_loss\": 0.4217414538539946<br>  }<br>}",
          "{<br>  \"number\": 685,<br>  \"values\": [<br>    2.1899999999999826,<br>    0.49286136891711296<br>  ],<br>  \"params\": {<br>    \"take_profit\": 0.09348257086936215,<br>    \"stop_loss\": 0.5349177715800677<br>  }<br>}",
          "{<br>  \"number\": 686,<br>  \"values\": [<br>    5.5299999999999905,<br>    0.5059443928930262<br>  ],<br>  \"params\": {<br>    \"take_profit\": 0.37085426773928404,<br>    \"stop_loss\": 0.25574574904614966<br>  }<br>}",
          "{<br>  \"number\": 688,<br>  \"values\": [<br>    4.929999999999982,<br>    0.5039846106088245<br>  ],<br>  \"params\": {<br>    \"take_profit\": 0.33770787188418844,<br>    \"stop_loss\": 0.28399481939646354<br>  }<br>}",
          "{<br>  \"number\": 689,<br>  \"values\": [<br>    4.870000000000012,<br>    0.5044159834650368<br>  ],<br>  \"params\": {<br>    \"take_profit\": 0.13138358969635155,<br>    \"stop_loss\": 0.5349177715800677<br>  }<br>}",
          "{<br>  \"number\": 690,<br>  \"values\": [<br>    3.5799999999999836,<br>    0.47025209000387325<br>  ],<br>  \"params\": {<br>    \"take_profit\": 0.41889084018018036,<br>    \"stop_loss\": 0.071808420063793<br>  }<br>}",
          "{<br>  \"number\": 691,<br>  \"values\": [<br>    6.059999999999974,<br>    0.7144707289085246<br>  ],<br>  \"params\": {<br>    \"take_profit\": 0.5252796793662285,<br>    \"stop_loss\": 0.5369060645414534<br>  }<br>}",
          "{<br>  \"number\": 692,<br>  \"values\": [<br>    6.869999999999985,<br>    0.6778316909445138<br>  ],<br>  \"params\": {<br>    \"take_profit\": 0.576445629997837,<br>    \"stop_loss\": 0.4234704987991215<br>  }<br>}",
          "{<br>  \"number\": 693,<br>  \"values\": [<br>    -2.450000000000009,<br>    0.41293505255413426<br>  ],<br>  \"params\": {<br>    \"take_profit\": 0.2618110033142434,<br>    \"stop_loss\": 0.1145792113186995<br>  }<br>}",
          "{<br>  \"number\": 694,<br>  \"values\": [<br>    3.0799999999999934,<br>    0.4883770272773339<br>  ],<br>  \"params\": {<br>    \"take_profit\": 0.18848253411693067,<br>    \"stop_loss\": 0.35853413327895484<br>  }<br>}",
          "{<br>  \"number\": 695,<br>  \"values\": [<br>    0.09999999999999815,<br>    0.4519136880035372<br>  ],<br>  \"params\": {<br>    \"take_profit\": 0.3825303865133478,<br>    \"stop_loss\": 0.10779214092651679<br>  }<br>}",
          "{<br>  \"number\": 696,<br>  \"values\": [<br>    3.019999999999973,<br>    0.4935612063352356<br>  ],<br>  \"params\": {<br>    \"take_profit\": 0.335589419299287,<br>    \"stop_loss\": 0.22464183326595055<br>  }<br>}",
          "{<br>  \"number\": 697,<br>  \"values\": [<br>    4.48,<br>    0.47421702052108416<br>  ],<br>  \"params\": {<br>    \"take_profit\": 0.23210045268955654,<br>    \"stop_loss\": 0.29859349885281383<br>  }<br>}",
          "{<br>  \"number\": 698,<br>  \"values\": [<br>    3.8399999999999923,<br>    0.48059319769793374<br>  ],<br>  \"params\": {<br>    \"take_profit\": 0.3039315069644288,<br>    \"stop_loss\": 0.25574574904614966<br>  }<br>}",
          "{<br>  \"number\": 700,<br>  \"values\": [<br>    7.9499999999999815,<br>    0.5501061091467967<br>  ],<br>  \"params\": {<br>    \"take_profit\": 0.36625415566420566,<br>    \"stop_loss\": 0.41846363149133425<br>  }<br>}",
          "{<br>  \"number\": 701,<br>  \"values\": [<br>    6.599999999999984,<br>    0.6093261600713471<br>  ],<br>  \"params\": {<br>    \"take_profit\": 0.5848758100112328,<br>    \"stop_loss\": 0.25760257173708784<br>  }<br>}",
          "{<br>  \"number\": 702,<br>  \"values\": [<br>    5.729999999999983,<br>    0.6461967030737316<br>  ],<br>  \"params\": {<br>    \"take_profit\": 0.5449036864848212,<br>    \"stop_loss\": 0.35009332324172104<br>  }<br>}",
          "{<br>  \"number\": 703,<br>  \"values\": [<br>    4.910000000000011,<br>    0.5381952392538933<br>  ],<br>  \"params\": {<br>    \"take_profit\": 0.15635221511028574,<br>    \"stop_loss\": 0.5998043145006321<br>  }<br>}",
          "{<br>  \"number\": 704,<br>  \"values\": [<br>    -1.1100000000000483,<br>    0.3905804811661667<br>  ],<br>  \"params\": {<br>    \"take_profit\": 0.10493503097358492,<br>    \"stop_loss\": 0.16306382239882597<br>  }<br>}",
          "{<br>  \"number\": 706,<br>  \"values\": [<br>    -0.8500000000000187,<br>    0.3920324199381328<br>  ],<br>  \"params\": {<br>    \"take_profit\": 0.2528018514104881,<br>    \"stop_loss\": 0.07013663525106414<br>  }<br>}",
          "{<br>  \"number\": 707,<br>  \"values\": [<br>    6.61999999999998,<br>    0.7369432599993881<br>  ],<br>  \"params\": {<br>    \"take_profit\": 0.5794852158235616,<br>    \"stop_loss\": 0.5372208293404493<br>  }<br>}",
          "{<br>  \"number\": 708,<br>  \"values\": [<br>    8.849999999999973,<br>    0.5670901423492309<br>  ],<br>  \"params\": {<br>    \"take_profit\": 0.42806112792762335,<br>    \"stop_loss\": 0.30147422638586535<br>  }<br>}",
          "{<br>  \"number\": 709,<br>  \"values\": [<br>    -2.0900000000000096,<br>    0.41075217525827196<br>  ],<br>  \"params\": {<br>    \"take_profit\": 0.23384970144508022,<br>    \"stop_loss\": 0.11004282179068361<br>  }<br>}",
          "{<br>  \"number\": 710,<br>  \"values\": [<br>    4.069999999999997,<br>    0.49907315406436975<br>  ],<br>  \"params\": {<br>    \"take_profit\": 0.2761527601271156,<br>    \"stop_loss\": 0.3207411041128822<br>  }<br>}",
          "{<br>  \"number\": 711,<br>  \"values\": [<br>    -0.3000000000000338,<br>    0.3963960028658621<br>  ],<br>  \"params\": {<br>    \"take_profit\": 0.15532629544967783,<br>    \"stop_loss\": 0.15159348565639524<br>  }<br>}",
          "{<br>  \"number\": 712,<br>  \"values\": [<br>    6.419999999999977,<br>    0.6530220896975911<br>  ],<br>  \"params\": {<br>    \"take_profit\": 0.48431851954058797,<br>    \"stop_loss\": 0.4234704987991215<br>  }<br>}",
          "{<br>  \"number\": 713,<br>  \"values\": [<br>    8.059999999999967,<br>    0.5572079082627848<br>  ],<br>  \"params\": {<br>    \"take_profit\": 0.33774427737501417,<br>    \"stop_loss\": 0.4340026135392788<br>  }<br>}",
          "{<br>  \"number\": 715,<br>  \"values\": [<br>    6.420000000000002,<br>    0.5172961498664638<br>  ],<br>  \"params\": {<br>    \"take_profit\": 0.2684094356221424,<br>    \"stop_loss\": 0.4234704987991215<br>  }<br>}",
          "{<br>  \"number\": 716,<br>  \"values\": [<br>    -0.16000000000008407,<br>    0.3909421310087522<br>  ],<br>  \"params\": {<br>    \"take_profit\": 0.0595366319200447,<br>    \"stop_loss\": 0.20359778386210214<br>  }<br>}",
          "{<br>  \"number\": 718,<br>  \"values\": [<br>    5.93000000000001,<br>    0.5435618020540555<br>  ],<br>  \"params\": {<br>    \"take_profit\": 0.20137594161807676,<br>    \"stop_loss\": 0.5426216162920726<br>  }<br>}",
          "{<br>  \"number\": 720,<br>  \"values\": [<br>    1.839999999999966,<br>    0.4679908327105711<br>  ],<br>  \"params\": {<br>    \"take_profit\": 0.2684094356221424,<br>    \"stop_loss\": 0.22234287162233085<br>  }<br>}",
          "{<br>  \"number\": 721,<br>  \"values\": [<br>    6.6999999999999815,<br>    0.5278395939037501<br>  ],<br>  \"params\": {<br>    \"take_profit\": 0.2707966097582291,<br>    \"stop_loss\": 0.4380442806979731<br>  }<br>}",
          "{<br>  \"number\": 722,<br>  \"values\": [<br>    7.709999999999976,<br>    0.6201956934910562<br>  ],<br>  \"params\": {<br>    \"take_profit\": 0.37298374367090403,<br>    \"stop_loss\": 0.599487426826717<br>  }<br>}",
          "{<br>  \"number\": 723,<br>  \"values\": [<br>    8.299999999999983,<br>    0.5507142836555289<br>  ],<br>  \"params\": {<br>    \"take_profit\": 0.3430681130223757,<br>    \"stop_loss\": 0.4234704987991215<br>  }<br>}",
          "{<br>  \"number\": 724,<br>  \"values\": [<br>    4.490000000000023,<br>    0.5210445796029979<br>  ],<br>  \"params\": {<br>    \"take_profit\": 0.24342935884705225,<br>    \"stop_loss\": 0.41254554790994874<br>  }<br>}",
          "{<br>  \"number\": 725,<br>  \"values\": [<br>    8.929999999999968,<br>    0.5870223064227758<br>  ],<br>  \"params\": {<br>    \"take_profit\": 0.37027401443441904,<br>    \"stop_loss\": 0.5349177715800677<br>  }<br>}",
          "{<br>  \"number\": 726,<br>  \"values\": [<br>    7.419999999999998,<br>    0.5439693240421241<br>  ],<br>  \"params\": {<br>    \"take_profit\": 0.2707966097582291,<br>    \"stop_loss\": 0.5369060645414534<br>  }<br>}",
          "{<br>  \"number\": 727,<br>  \"values\": [<br>    3.7199999999999944,<br>    0.46690755687466295<br>  ],<br>  \"params\": {<br>    \"take_profit\": 0.4193862236915465,<br>    \"stop_loss\": 0.05003463474490219<br>  }<br>}",
          "{<br>  \"number\": 728,<br>  \"values\": [<br>    7.419999999999998,<br>    0.5439693240421241<br>  ],<br>  \"params\": {<br>    \"take_profit\": 0.2761527601271156,<br>    \"stop_loss\": 0.5372208293404493<br>  }<br>}",
          "{<br>  \"number\": 729,<br>  \"values\": [<br>    8.889999999999976,<br>    0.6325984840784596<br>  ],<br>  \"params\": {<br>    \"take_profit\": 0.4193862236915465,<br>    \"stop_loss\": 0.5183376437351984<br>  }<br>}",
          "{<br>  \"number\": 730,<br>  \"values\": [<br>    2.949999999999943,<br>    0.5449972915058918<br>  ],<br>  \"params\": {<br>    \"take_profit\": 0.4524546986146137,<br>    \"stop_loss\": 0.17321741556762832<br>  }<br>}",
          "{<br>  \"number\": 731,<br>  \"values\": [<br>    6.059999999999974,<br>    0.7144707289085246<br>  ],<br>  \"params\": {<br>    \"take_profit\": 0.522108034902575,<br>    \"stop_loss\": 0.5463582052321264<br>  }<br>}",
          "{<br>  \"number\": 732,<br>  \"values\": [<br>    -2.6800000000000033,<br>    0.428167100692828<br>  ],<br>  \"params\": {<br>    \"take_profit\": 0.2761527601271156,<br>    \"stop_loss\": 0.14179451576423857<br>  }<br>}",
          "{<br>  \"number\": 733,<br>  \"values\": [<br>    -0.33000000000003443,<br>    0.35287433121106293<br>  ],<br>  \"params\": {<br>    \"take_profit\": 0.13138358969635155,<br>    \"stop_loss\": 0.05286499173453086<br>  }<br>}",
          "{<br>  \"number\": 734,<br>  \"values\": [<br>    5.449999999999967,<br>    0.6383091581258599<br>  ],<br>  \"params\": {<br>    \"take_profit\": 0.481102442714283,<br>    \"stop_loss\": 0.37772850956987747<br>  }<br>}",
          "{<br>  \"number\": 735,<br>  \"values\": [<br>    5.489999999999988,<br>    0.5074851431498208<br>  ],<br>  \"params\": {<br>    \"take_profit\": 0.15532629544967783,<br>    \"stop_loss\": 0.47423239264107614<br>  }<br>}",
          "{<br>  \"number\": 736,<br>  \"values\": [<br>    3.899999999999962,<br>    0.5308312877346932<br>  ],<br>  \"params\": {<br>    \"take_profit\": 0.41532940700577964,<br>    \"stop_loss\": 0.2139599589339884<br>  }<br>}",
          "{<br>  \"number\": 738,<br>  \"values\": [<br>    -2.450000000000009,<br>    0.41293505255413426<br>  ],<br>  \"params\": {<br>    \"take_profit\": 0.26420820939153805,<br>    \"stop_loss\": 0.11499467380184535<br>  }<br>}",
          "{<br>  \"number\": 739,<br>  \"values\": [<br>    0.6200000000000001,<br>    0.43521040746451817<br>  ],<br>  \"params\": {<br>    \"take_profit\": 0.37085426773928404,<br>    \"stop_loss\": 0.08029777354164121<br>  }<br>}",
          "{<br>  \"number\": 740,<br>  \"values\": [<br>    1.8500000000000076,<br>    0.5486742580110043<br>  ],<br>  \"params\": {<br>    \"take_profit\": 0.585327790730859,<br>    \"stop_loss\": 0.1443564013743747<br>  }<br>}",
          "{<br>  \"number\": 741,<br>  \"values\": [<br>    4.5699999999999825,<br>    0.4485190702761521<br>  ],<br>  \"params\": {<br>    \"take_profit\": 0.15532629544967783,<br>    \"stop_loss\": 0.30617500794670716<br>  }<br>}",
          "{<br>  \"number\": 742,<br>  \"values\": [<br>    8.429999999999978,<br>    0.5516685961698382<br>  ],<br>  \"params\": {<br>    \"take_profit\": 0.35632482743364463,<br>    \"stop_loss\": 0.4246731753040279<br>  }<br>}",
          "{<br>  \"number\": 743,<br>  \"values\": [<br>    7.859999999999989,<br>    0.5612970992657261<br>  ],<br>  \"params\": {<br>    \"take_profit\": 0.38176330844660405,<br>    \"stop_loss\": 0.4250026356435156<br>  }<br>}",
          "{<br>  \"number\": 745,<br>  \"values\": [<br>    7.9499999999999815,<br>    0.5501061091467967<br>  ],<br>  \"params\": {<br>    \"take_profit\": 0.37027401443441904,<br>    \"stop_loss\": 0.41254554790994874<br>  }<br>}",
          "{<br>  \"number\": 746,<br>  \"values\": [<br>    3.5799999999999836,<br>    0.47025209000387325<br>  ],<br>  \"params\": {<br>    \"take_profit\": 0.4193862236915465,<br>    \"stop_loss\": 0.0734573903136435<br>  }<br>}",
          "{<br>  \"number\": 748,<br>  \"values\": [<br>    2.9499999999999367,<br>    0.5580797378148458<br>  ],<br>  \"params\": {<br>    \"take_profit\": 0.46613106300166596,<br>    \"stop_loss\": 0.205097190190919<br>  }<br>}",
          "{<br>  \"number\": 750,<br>  \"values\": [<br>    6.37999999999996,<br>    0.6846004327945711<br>  ],<br>  \"params\": {<br>    \"take_profit\": 0.45072199585801354,<br>    \"stop_loss\": 0.5369060645414534<br>  }<br>}",
          "{<br>  \"number\": 751,<br>  \"values\": [<br>    -0.3400000000000407,<br>    0.45412951542489016<br>  ],<br>  \"params\": {<br>    \"take_profit\": 0.28209275220886737,<br>    \"stop_loss\": 0.1758991244819781<br>  }<br>}",
          "{<br>  \"number\": 752,<br>  \"values\": [<br>    2.1299999999999724,<br>    0.4752053351386301<br>  ],<br>  \"params\": {<br>    \"take_profit\": 0.3039315069644288,<br>    \"stop_loss\": 0.22234287162233085<br>  }<br>}",
          "{<br>  \"number\": 755,<br>  \"values\": [<br>    -0.6900000000000119,<br>    0.3894806989360962<br>  ],<br>  \"params\": {<br>    \"take_profit\": 0.26289975593087966,<br>    \"stop_loss\": 0.05286499173453086<br>  }<br>}",
          "{<br>  \"number\": 756,<br>  \"values\": [<br>    3.5999999999999837,<br>    0.44874733821351914<br>  ],<br>  \"params\": {<br>    \"take_profit\": 0.11335173124652059,<br>    \"stop_loss\": 0.3026282171902923<br>  }<br>}",
          "{<br>  \"number\": 759,<br>  \"values\": [<br>    3.9699999999999878,<br>    0.48537780865170865<br>  ],<br>  \"params\": {<br>    \"take_profit\": 0.3039315069644288,<br>    \"stop_loss\": 0.28944605423613107<br>  }<br>}",
          "{<br>  \"number\": 760,<br>  \"values\": [<br>    4.059999999999992,<br>    0.4990175380454475<br>  ],<br>  \"params\": {<br>    \"take_profit\": 0.2684094356221424,<br>    \"stop_loss\": 0.3210803034049985<br>  }<br>}",
          "{<br>  \"number\": 761,<br>  \"values\": [<br>    6.1899999999999835,<br>    0.6551003136149738<br>  ],<br>  \"params\": {<br>    \"take_profit\": 0.5681256771652116,<br>    \"stop_loss\": 0.36659394752703206<br>  }<br>}",
          "{<br>  \"number\": 762,<br>  \"values\": [<br>    5.180000000000025,<br>    0.5071184920933286<br>  ],<br>  \"params\": {<br>    \"take_profit\": 0.13138358969635155,<br>    \"stop_loss\": 0.5600058470746194<br>  }<br>}",
          "{<br>  \"number\": 763,<br>  \"values\": [<br>    5.430000000000014,<br>    0.5191724086276638<br>  ],<br>  \"params\": {<br>    \"take_profit\": 0.2733893323427551,<br>    \"stop_loss\": 0.41254554790994874<br>  }<br>}",
          "{<br>  \"number\": 764,<br>  \"values\": [<br>    2.410000000000006,<br>    0.49762959674946894<br>  ],<br>  \"params\": {<br>    \"take_profit\": 0.17416044593546104,<br>    \"stop_loss\": 0.39181932440462125<br>  }<br>}",
          "{<br>  \"number\": 765,<br>  \"values\": [<br>    3.039999999999995,<br>    0.47370233624966296<br>  ],<br>  \"params\": {<br>    \"take_profit\": 0.2684094356221424,<br>    \"stop_loss\": 0.25760257173708784<br>  }<br>}",
          "{<br>  \"number\": 766,<br>  \"values\": [<br>    -1.1099999999999959,<br>    0.4514207227243323<br>  ],<br>  \"params\": {<br>    \"take_profit\": 0.3322178556912239,<br>    \"stop_loss\": 0.13223391981881472<br>  }<br>}",
          "{<br>  \"number\": 767,<br>  \"values\": [<br>    6.8400000000000105,<br>    0.6069278797741668<br>  ],<br>  \"params\": {<br>    \"take_profit\": 0.3888330862351529,<br>    \"stop_loss\": 0.5606858681417133<br>  }<br>}",
          "{<br>  \"number\": 768,<br>  \"values\": [<br>    7.179999999999982,<br>    0.6478057205191945<br>  ],<br>  \"params\": {<br>    \"take_profit\": 0.472809508101528,<br>    \"stop_loss\": 0.4234704987991215<br>  }<br>}",
          "{<br>  \"number\": 769,<br>  \"values\": [<br>    7.909999999999965,<br>    0.6161632381882863<br>  ],<br>  \"params\": {<br>    \"take_profit\": 0.3735008636585295,<br>    \"stop_loss\": 0.585253216130435<br>  }<br>}",
          "{<br>  \"number\": 770,<br>  \"values\": [<br>    2.729999999999989,<br>    0.5080091579692305<br>  ],<br>  \"params\": {<br>    \"take_profit\": 0.10031970000183371,<br>    \"stop_loss\": 0.5339032618021267<br>  }<br>}",
          "{<br>  \"number\": 771,<br>  \"values\": [<br>    6.400000000000006,<br>    0.5172010140060528<br>  ],<br>  \"params\": {<br>    \"take_profit\": 0.2528018514104881,<br>    \"stop_loss\": 0.4234704987991215<br>  }<br>}",
          "{<br>  \"number\": 772,<br>  \"values\": [<br>    8.579999999999973,<br>    0.5845376762392608<br>  ],<br>  \"params\": {<br>    \"take_profit\": 0.34508152431961386,<br>    \"stop_loss\": 0.5349177715800677<br>  }<br>}",
          "{<br>  \"number\": 773,<br>  \"values\": [<br>    2.3899999999999775,<br>    0.4702165004083073<br>  ],<br>  \"params\": {<br>    \"take_profit\": 0.0988582759660846,<br>    \"stop_loss\": 0.4250026356435156<br>  }<br>}",
          "{<br>  \"number\": 774,<br>  \"values\": [<br>    8.879999999999999,<br>    0.5767027825093065<br>  ],<br>  \"params\": {<br>    \"take_profit\": 0.3322178556912239,<br>    \"stop_loss\": 0.5606858681417133<br>  }<br>}",
          "{<br>  \"number\": 777,<br>  \"values\": [<br>    5.659999999999986,<br>    0.5966288910211844<br>  ],<br>  \"params\": {<br>    \"take_profit\": 0.5324990122434141,<br>    \"stop_loss\": 0.25760257173708784<br>  }<br>}",
          "{<br>  \"number\": 778,<br>  \"values\": [<br>    7.499999999999984,<br>    0.676149523337231<br>  ],<br>  \"params\": {<br>    \"take_profit\": 0.4193862236915465,<br>    \"stop_loss\": 0.5804256353788482<br>  }<br>}",
          "{<br>  \"number\": 779,<br>  \"values\": [<br>    5.749999999999972,<br>    0.5768126982729221<br>  ],<br>  \"params\": {<br>    \"take_profit\": 0.5475850192894276,<br>    \"stop_loss\": 0.23913270459446628<br>  }<br>}",
          "{<br>  \"number\": 780,<br>  \"values\": [<br>    8.529999999999998,<br>    0.5715449974411286<br>  ],<br>  \"params\": {<br>    \"take_profit\": 0.32537123833868614,<br>    \"stop_loss\": 0.5372208293404493<br>  }<br>}",
          "{<br>  \"number\": 782,<br>  \"values\": [<br>    0.6000000000000103,<br>    0.4214969048898913<br>  ],<br>  \"params\": {<br>    \"take_profit\": 0.33557230243829644,<br>    \"stop_loss\": 0.06245054913093921<br>  }<br>}",
          "{<br>  \"number\": 783,<br>  \"values\": [<br>    8.549999999999983,<br>    0.6049595027768383<br>  ],<br>  \"params\": {<br>    \"take_profit\": 0.4394615221148431,<br>    \"stop_loss\": 0.386681111508233<br>  }<br>}",
          "{<br>  \"number\": 784,<br>  \"values\": [<br>    2.729999999999989,<br>    0.5080091579692305<br>  ],<br>  \"params\": {<br>    \"take_profit\": 0.10340605706584854,<br>    \"stop_loss\": 0.5386256926614519<br>  }<br>}",
          "{<br>  \"number\": 785,<br>  \"values\": [<br>    5.519999999999957,<br>    0.6814626270722663<br>  ],<br>  \"params\": {<br>    \"take_profit\": 0.49274083511759226,<br>    \"stop_loss\": 0.47658785539765697<br>  }<br>}",
          "{<br>  \"number\": 786,<br>  \"values\": [<br>    8.919999999999973,<br>    0.5792145793131324<br>  ],<br>  \"params\": {<br>    \"take_profit\": 0.41539992463926473,<br>    \"stop_loss\": 0.35227252417034044<br>  }<br>}",
          "{<br>  \"number\": 787,<br>  \"values\": [<br>    1.2899999999999712,<br>    0.4534234073858975<br>  ],<br>  \"params\": {<br>    \"take_profit\": 0.07821999695742973,<br>    \"stop_loss\": 0.35227252417034044<br>  }<br>}",
          "{<br>  \"number\": 788,<br>  \"values\": [<br>    7.409999999999993,<br>    0.5439246862132775<br>  ],<br>  \"params\": {<br>    \"take_profit\": 0.2618110033142434,<br>    \"stop_loss\": 0.5349177715800677<br>  }<br>}",
          "{<br>  \"number\": 789,<br>  \"values\": [<br>    1.799999999999966,<br>    0.4594552586132712<br>  ],<br>  \"params\": {<br>    \"take_profit\": 0.20547806532917928,<br>    \"stop_loss\": 0.2392711797015849<br>  }<br>}",
          "{<br>  \"number\": 790,<br>  \"values\": [<br>    2.0899999999999763,<br>    0.46762869368304283<br>  ],<br>  \"params\": {<br>    \"take_profit\": 0.06032629667682013,<br>    \"stop_loss\": 0.42718311028329875<br>  }<br>}",
          "{<br>  \"number\": 791,<br>  \"values\": [<br>    -1.1100000000000225,<br>    0.4555874300972156<br>  ],<br>  \"params\": {<br>    \"take_profit\": 0.2726901967937567,<br>    \"stop_loss\": 0.21996293447973575<br>  }<br>}",
          "{<br>  \"number\": 792,<br>  \"values\": [<br>    7.229999999999965,<br>    0.5720935357856799<br>  ],<br>  \"params\": {<br>    \"take_profit\": 0.38493470812078173,<br>    \"stop_loss\": 0.43824973456478217<br>  }<br>}",
          "{<br>  \"number\": 793,<br>  \"values\": [<br>    5.429999999999991,<br>    0.7116886059664029<br>  ],<br>  \"params\": {<br>    \"take_profit\": 0.5070443459665294,<br>    \"stop_loss\": 0.5606858681417133<br>  }<br>}",
          "{<br>  \"number\": 794,<br>  \"values\": [<br>    4.2300000000000315,<br>    0.5195398109151805<br>  ],<br>  \"params\": {<br>    \"take_profit\": 0.22493057050255072,<br>    \"stop_loss\": 0.41254554790994874<br>  }<br>}",
          "{<br>  \"number\": 795,<br>  \"values\": [<br>    3.269999999999995,<br>    0.510708484225206<br>  ],<br>  \"params\": {<br>    \"take_profit\": 0.11899440213864856,<br>    \"stop_loss\": 0.5105681668014611<br>  }<br>}",
          "{<br>  \"number\": 796,<br>  \"values\": [<br>    1.9099999999999615,<br>    0.4613992687926976<br>  ],<br>  \"params\": {<br>    \"take_profit\": 0.05024039691099534,<br>    \"stop_loss\": 0.42718311028329875<br>  }<br>}",
          "{<br>  \"number\": 797,<br>  \"values\": [<br>    3.0200000000000053,<br>    0.4647880157125473<br>  ],<br>  \"params\": {<br>    \"take_profit\": 0.21616030809237652,<br>    \"stop_loss\": 0.25760257173708784<br>  }<br>}",
          "{<br>  \"number\": 798,<br>  \"values\": [<br>    1.9299999999999495,<br>    0.42948423720942513<br>  ],<br>  \"params\": {<br>    \"take_profit\": 0.0538742789399659,<br>    \"stop_loss\": 0.3026282171902923<br>  }<br>}",
          "{<br>  \"number\": 799,<br>  \"values\": [<br>    1.9899999999999718,<br>    0.47411265428895294<br>  ],<br>  \"params\": {<br>    \"take_profit\": 0.2956322685532977,<br>    \"stop_loss\": 0.2273195118269682<br>  }<br>}",
          "{<br>  \"number\": 800,<br>  \"values\": [<br>    4.909999999999997,<br>    0.5445910841070477<br>  ],<br>  \"params\": {<br>    \"take_profit\": 0.2482369349192563,<br>    \"stop_loss\": 0.4572530290224011<br>  }<br>}",
          "{<br>  \"number\": 803,<br>  \"values\": [<br>    7.419999999999998,<br>    0.5439693240421241<br>  ],<br>  \"params\": {<br>    \"take_profit\": 0.2703140024295009,<br>    \"stop_loss\": 0.5349177715800677<br>  }<br>}",
          "{<br>  \"number\": 804,<br>  \"values\": [<br>    6.570000000000011,<br>    0.5434623438497851<br>  ],<br>  \"params\": {<br>    \"take_profit\": 0.2528018514104881,<br>    \"stop_loss\": 0.5066332015853294<br>  }<br>}",
          "{<br>  \"number\": 805,<br>  \"values\": [<br>    3.4099999999999877,<br>    0.49640457575899444<br>  ],<br>  \"params\": {<br>    \"take_profit\": 0.11220837985153742,<br>    \"stop_loss\": 0.43824973456478217<br>  }<br>}",
          "{<br>  \"number\": 806,<br>  \"values\": [<br>    -0.5900000000000136,<br>    0.38883409788580847<br>  ],<br>  \"params\": {<br>    \"take_profit\": 0.22986175522955482,<br>    \"stop_loss\": 0.07780284376248899<br>  }<br>}",
          "{<br>  \"number\": 807,<br>  \"values\": [<br>    -1.2800000000000118,<br>    0.4329652229654485<br>  ],<br>  \"params\": {<br>    \"take_profit\": 0.2618110033142434,<br>    \"stop_loss\": 0.15902560383523381<br>  }<br>}",
          "{<br>  \"number\": 808,<br>  \"values\": [<br>    7.719999999999992,<br>    0.5479382229516031<br>  ],<br>  \"params\": {<br>    \"take_profit\": 0.4193862236915465,<br>    \"stop_loss\": 0.2611287676051632<br>  }<br>}",
          "{<br>  \"number\": 809,<br>  \"values\": [<br>    0.06999999999995012,<br>    0.45924761311876494<br>  ],<br>  \"params\": {<br>    \"take_profit\": 0.0595366319200447,<br>    \"stop_loss\": 0.3968526343370133<br>  }<br>}",
          "{<br>  \"number\": 810,<br>  \"values\": [<br>    6.66999999999998,<br>    0.527699361972335<br>  ],<br>  \"params\": {<br>    \"take_profit\": 0.2528018514104881,<br>    \"stop_loss\": 0.43824973456478217<br>  }<br>}",
          "{<br>  \"number\": 811,<br>  \"values\": [<br>    3.500000000000011,<br>    0.5197338256061944<br>  ],<br>  \"params\": {<br>    \"take_profit\": 0.2528018514104881,<br>    \"stop_loss\": 0.39424097049444284<br>  }<br>}",
          "{<br>  \"number\": 812,<br>  \"values\": [<br>    5.93000000000001,<br>    0.5435618020540555<br>  ],<br>  \"params\": {<br>    \"take_profit\": 0.2002410701817972,<br>    \"stop_loss\": 0.5349177715800677<br>  }<br>}",
          "{<br>  \"number\": 813,<br>  \"values\": [<br>    6.420000000000002,<br>    0.5172961498664638<br>  ],<br>  \"params\": {<br>    \"take_profit\": 0.2684094356221424,<br>    \"stop_loss\": 0.4252805368786734<br>  }<br>}",
          "{<br>  \"number\": 814,<br>  \"values\": [<br>    6.010000000000005,<br>    0.5143526503177455<br>  ],<br>  \"params\": {<br>    \"take_profit\": 0.15635221511028574,<br>    \"stop_loss\": 0.5687539975374362<br>  }<br>}",
          "{<br>  \"number\": 815,<br>  \"values\": [<br>    2.499999999999981,<br>    0.48353989376017253<br>  ],<br>  \"params\": {<br>    \"take_profit\": 0.08479379351163474,<br>    \"stop_loss\": 0.5349177715800677<br>  }<br>}",
          "{<br>  \"number\": 816,<br>  \"values\": [<br>    2.3699999999999735,<br>    0.5032104743579121<br>  ],<br>  \"params\": {<br>    \"take_profit\": 0.42477134448096265,<br>    \"stop_loss\": 0.13821500396692432<br>  }<br>}",
          "{<br>  \"number\": 817,<br>  \"values\": [<br>    4.149999999999995,<br>    0.48034551020638294<br>  ],<br>  \"params\": {<br>    \"take_profit\": 0.2817165903404797,<br>    \"stop_loss\": 0.2643739665746482<br>  }<br>}",
          "{<br>  \"number\": 819,<br>  \"values\": [<br>    8.63999999999998,<br>    0.6469523879623985<br>  ],<br>  \"params\": {<br>    \"take_profit\": 0.41320337203017377,<br>    \"stop_loss\": 0.5349177715800677<br>  }<br>}",
          "{<br>  \"number\": 820,<br>  \"values\": [<br>    -1.74000000000007,<br>    0.3687033231526026<br>  ],<br>  \"params\": {<br>    \"take_profit\": 0.06647001175872501,<br>    \"stop_loss\": 0.14902363160871226<br>  }<br>}",
          "{<br>  \"number\": 822,<br>  \"values\": [<br>    6.119999999999958,<br>    0.5929850773325224<br>  ],<br>  \"params\": {<br>    \"take_profit\": 0.44525112542309403,<br>    \"stop_loss\": 0.2960758345440405<br>  }<br>}",
          "{<br>  \"number\": 823,<br>  \"values\": [<br>    9.509999999999973,<br>    0.6449318848488379<br>  ],<br>  \"params\": {<br>    \"take_profit\": 0.42477134448096265,<br>    \"stop_loss\": 0.5295914426798152<br>  }<br>}",
          "{<br>  \"number\": 824,<br>  \"values\": [<br>    7.339999999999993,<br>    0.5469530032646341<br>  ],<br>  \"params\": {<br>    \"take_profit\": 0.28400575592318683,<br>    \"stop_loss\": 0.47500883139370564<br>  }<br>}",
          "{<br>  \"number\": 826,<br>  \"values\": [<br>    -0.400000000000043,<br>    0.4544527745135228<br>  ],<br>  \"params\": {<br>    \"take_profit\": 0.28400575592318683,<br>    \"stop_loss\": 0.1834458384414132<br>  }<br>}",
          "{<br>  \"number\": 828,<br>  \"values\": [<br>    7.190000000000001,<br>    0.5420434200618024<br>  ],<br>  \"params\": {<br>    \"take_profit\": 0.2528018514104881,<br>    \"stop_loss\": 0.526010877410777<br>  }<br>}",
          "{<br>  \"number\": 829,<br>  \"values\": [<br>    7.179999999999989,<br>    0.7437104727008492<br>  ],<br>  \"params\": {<br>    \"take_profit\": 0.5928378066638786,<br>    \"stop_loss\": 0.5409881618787791<br>  }<br>}",
          "{<br>  \"number\": 830,<br>  \"values\": [<br>    5.27,<br>    0.5069572022027307<br>  ],<br>  \"params\": {<br>    \"take_profit\": 0.14252205007295113,<br>    \"stop_loss\": 0.5536622242519604<br>  }<br>}",
          "{<br>  \"number\": 831,<br>  \"values\": [<br>    -0.11999999999999647,<br>    0.39883669681817985<br>  ],<br>  \"params\": {<br>    \"take_profit\": 0.3039315069644288,<br>    \"stop_loss\": 0.050915304656289885<br>  }<br>}",
          "{<br>  \"number\": 833,<br>  \"values\": [<br>    5.019999999999996,<br>    0.526958501423236<br>  ],<br>  \"params\": {<br>    \"take_profit\": 0.17807986411324583,<br>    \"stop_loss\": 0.557168868616451<br>  }<br>}",
          "{<br>  \"number\": 834,<br>  \"values\": [<br>    5.310000000000002,<br>    0.4952992618171459<br>  ],<br>  \"params\": {<br>    \"take_profit\": 0.17079042692084578,<br>    \"stop_loss\": 0.4234704987991215<br>  }<br>}",
          "{<br>  \"number\": 835,<br>  \"values\": [<br>    9.549999999999972,<br>    0.6396415584017142<br>  ],<br>  \"params\": {<br>    \"take_profit\": 0.42616469551592684,<br>    \"stop_loss\": 0.5175713488652334<br>  }<br>}",
          "{<br>  \"number\": 836,<br>  \"values\": [<br>    -0.7000000000000055,<br>    0.4433868373178892<br>  ],<br>  \"params\": {<br>    \"take_profit\": 0.29192946489513516,<br>    \"stop_loss\": 0.1543956861795082<br>  }<br>}",
          "{<br>  \"number\": 837,<br>  \"values\": [<br>    -0.3000000000000338,<br>    0.3963960028658621<br>  ],<br>  \"params\": {<br>    \"take_profit\": 0.15635221511028574,<br>    \"stop_loss\": 0.15723370126954228<br>  }<br>}",
          "{<br>  \"number\": 838,<br>  \"values\": [<br>    2.3999999999999484,<br>    0.42401082372866417<br>  ],<br>  \"params\": {<br>    \"take_profit\": 0.05087164914898474,<br>    \"stop_loss\": 0.29129255144850197<br>  }<br>}",
          "{<br>  \"number\": 839,<br>  \"values\": [<br>    7.409999999999993,<br>    0.5439246862132775<br>  ],<br>  \"params\": {<br>    \"take_profit\": 0.2684094356221424,<br>    \"stop_loss\": 0.5372208293404493<br>  }<br>}",
          "{<br>  \"number\": 841,<br>  \"values\": [<br>    6.749999999999979,<br>    0.5472165703399067<br>  ],<br>  \"params\": {<br>    \"take_profit\": 0.3046618797061607,<br>    \"stop_loss\": 0.4480060621145778<br>  }<br>}",
          "{<br>  \"number\": 842,<br>  \"values\": [<br>    0.02999999999999675,<br>    0.4507486365296438<br>  ],<br>  \"params\": {<br>    \"take_profit\": 0.3688693474054423,<br>    \"stop_loss\": 0.10601881454034903<br>  }<br>}",
          "{<br>  \"number\": 843,<br>  \"values\": [<br>    9.059999999999963,<br>    0.621480433306106<br>  ],<br>  \"params\": {<br>    \"take_profit\": 0.41539992463926473,<br>    \"stop_loss\": 0.4576625069787842<br>  }<br>}",
          "{<br>  \"number\": 844,<br>  \"values\": [<br>    6.349999999999966,<br>    0.5384934063858158<br>  ],<br>  \"params\": {<br>    \"take_profit\": 0.4193862236915465,<br>    \"stop_loss\": 0.22055854900357325<br>  }<br>}",
          "{<br>  \"number\": 846,<br>  \"values\": [<br>    8.919999999999973,<br>    0.5792145793131324<br>  ],<br>  \"params\": {<br>    \"take_profit\": 0.41539992463926473,<br>    \"stop_loss\": 0.35227252417034044<br>  }<br>}",
          "{<br>  \"number\": 847,<br>  \"values\": [<br>    3.81999999999997,<br>    0.500838356115939<br>  ],<br>  \"params\": {<br>    \"take_profit\": 0.37027401443441904,<br>    \"stop_loss\": 0.2228112396938116<br>  }<br>}",
          "{<br>  \"number\": 848,<br>  \"values\": [<br>    6.669999999999973,<br>    0.5420162705658229<br>  ],<br>  \"params\": {<br>    \"take_profit\": 0.3666194620239973,<br>    \"stop_loss\": 0.37873974755905954<br>  }<br>}",
          "{<br>  \"number\": 850,<br>  \"values\": [<br>    6.349999999999966,<br>    0.5384934063858158<br>  ],<br>  \"params\": {<br>    \"take_profit\": 0.4193862236915465,<br>    \"stop_loss\": 0.23481036202295913<br>  }<br>}",
          "{<br>  \"number\": 851,<br>  \"values\": [<br>    5.459999999999972,<br>    0.5838012066434896<br>  ],<br>  \"params\": {<br>    \"take_profit\": 0.5291592337650988,<br>    \"stop_loss\": 0.2279018238328298<br>  }<br>}",
          "{<br>  \"number\": 852,<br>  \"values\": [<br>    8.59999999999998,<br>    0.6015365510276345<br>  ],<br>  \"params\": {<br>    \"take_profit\": 0.42283535922109694,<br>    \"stop_loss\": 0.39625108249489976<br>  }<br>}",
          "{<br>  \"number\": 853,<br>  \"values\": [<br>    2.1299999999999724,<br>    0.4752053351386301<br>  ],<br>  \"params\": {<br>    \"take_profit\": 0.30013855249917315,<br>    \"stop_loss\": 0.23411575629752096<br>  }<br>}",
          "{<br>  \"number\": 854,<br>  \"values\": [<br>    6.519999999999971,<br>    0.5193321952028793<br>  ],<br>  \"params\": {<br>    \"take_profit\": 0.3666194620239973,<br>    \"stop_loss\": 0.30995449671812453<br>  }<br>}",
          "{<br>  \"number\": 856,<br>  \"values\": [<br>    2.8799999999999435,<br>    0.554952677513108<br>  ],<br>  \"params\": {<br>    \"take_profit\": 0.45130359721623176,<br>    \"stop_loss\": 0.19626964226288585<br>  }<br>}",
          "{<br>  \"number\": 857,<br>  \"values\": [<br>    3.3400000000000185,<br>    0.5367229563628859<br>  ],<br>  \"params\": {<br>    \"take_profit\": 0.12070809891045928,<br>    \"stop_loss\": 0.5853984914174624<br>  }<br>}",
          "{<br>  \"number\": 858,<br>  \"values\": [<br>    4.240000000000005,<br>    0.47284835962543487<br>  ],<br>  \"params\": {<br>    \"take_profit\": 0.2176350276649373,<br>    \"stop_loss\": 0.29129255144850197<br>  }<br>}",
          "{<br>  \"number\": 859,<br>  \"values\": [<br>    6.419999999999977,<br>    0.5945929229657796<br>  ],<br>  \"params\": {<br>    \"take_profit\": 0.38112077915828435,<br>    \"stop_loss\": 0.4889990910483422<br>  }<br>}",
          "{<br>  \"number\": 860,<br>  \"values\": [<br>    1.839999999999966,<br>    0.4679908327105711<br>  ],<br>  \"params\": {<br>    \"take_profit\": 0.2684094356221424,<br>    \"stop_loss\": 0.2228112396938116<br>  }<br>}",
          "{<br>  \"number\": 862,<br>  \"values\": [<br>    2.7099999999999747,<br>    0.47824751452594033<br>  ],<br>  \"params\": {<br>    \"take_profit\": 0.07193439448832219,<br>    \"stop_loss\": 0.5277578428623528<br>  }<br>}",
          "{<br>  \"number\": 863,<br>  \"values\": [<br>    7.419999999999998,<br>    0.5439693240421241<br>  ],<br>  \"params\": {<br>    \"take_profit\": 0.2703140024295009,<br>    \"stop_loss\": 0.5349177715800677<br>  }<br>}",
          "{<br>  \"number\": 864,<br>  \"values\": [<br>    1.3399999999999803,<br>    0.4681069247196859<br>  ],<br>  \"params\": {<br>    \"take_profit\": 0.2707966097582291,<br>    \"stop_loss\": 0.23732324978969815<br>  }<br>}",
          "{<br>  \"number\": 865,<br>  \"values\": [<br>    6.420000000000002,<br>    0.5172961498664638<br>  ],<br>  \"params\": {<br>    \"take_profit\": 0.2692034252469135,<br>    \"stop_loss\": 0.4234704987991215<br>  }<br>}",
          "{<br>  \"number\": 867,<br>  \"values\": [<br>    2.229999999999969,<br>    0.4426194264436952<br>  ],<br>  \"params\": {<br>    \"take_profit\": 0.18999111898832038,<br>    \"stop_loss\": 0.24309681818590156<br>  }<br>}",
          "{<br>  \"number\": 869,<br>  \"values\": [<br>    8.649999999999977,<br>    0.5532192653510501<br>  ],<br>  \"params\": {<br>    \"take_profit\": 0.36677158499149476,<br>    \"stop_loss\": 0.42718311028329875<br>  }<br>}",
          "{<br>  \"number\": 870,<br>  \"values\": [<br>    6.61999999999998,<br>    0.7369432599993881<br>  ],<br>  \"params\": {<br>    \"take_profit\": 0.5593369719234248,<br>    \"stop_loss\": 0.5349177715800677<br>  }<br>}",
          "{<br>  \"number\": 871,<br>  \"values\": [<br>    -0.020000000000055015,<br>    0.3941780027321416<br>  ],<br>  \"params\": {<br>    \"take_profit\": 0.07090707035730336,<br>    \"stop_loss\": 0.21361450664358872<br>  }<br>}",
          "{<br>  \"number\": 872,<br>  \"values\": [<br>    6.61999999999998,<br>    0.7369432599993881<br>  ],<br>  \"params\": {<br>    \"take_profit\": 0.5704949972962081,<br>    \"stop_loss\": 0.5349177715800677<br>  }<br>}",
          "{<br>  \"number\": 873,<br>  \"values\": [<br>    8.789999999999988,<br>    0.5734807330928685<br>  ],<br>  \"params\": {<br>    \"take_profit\": 0.33638804999079613,<br>    \"stop_loss\": 0.5349177715800677<br>  }<br>}",
          "{<br>  \"number\": 875,<br>  \"values\": [<br>    2.4199999999999906,<br>    0.49943052465378185<br>  ],<br>  \"params\": {<br>    \"take_profit\": 0.1976981587911819,<br>    \"stop_loss\": 0.3741599991221209<br>  }<br>}",
          "{<br>  \"number\": 876,<br>  \"values\": [<br>    -0.04999999999999982,<br>    0.46057434985775114<br>  ],<br>  \"params\": {<br>    \"take_profit\": 0.32537123833868614,<br>    \"stop_loss\": 0.15480226769697097<br>  }<br>}",
          "{<br>  \"number\": 877,<br>  \"values\": [<br>    1.739999999999982,<br>    0.47035132271739877<br>  ],<br>  \"params\": {<br>    \"take_profit\": 0.08479379351163474,<br>    \"stop_loss\": 0.4183161165910885<br>  }<br>}",
          "{<br>  \"number\": 878,<br>  \"values\": [<br>    6.7499999999999964,<br>    0.6591615026505129<br>  ],<br>  \"params\": {<br>    \"take_profit\": 0.5904368108781056,<br>    \"stop_loss\": 0.3689005510988569<br>  }<br>}",
          "{<br>  \"number\": 879,<br>  \"values\": [<br>    -2.05000000000004,<br>    0.37773618381877533<br>  ],<br>  \"params\": {<br>    \"take_profit\": 0.1440426709767898,<br>    \"stop_loss\": 0.11646442341438923<br>  }<br>}",
          "{<br>  \"number\": 881,<br>  \"values\": [<br>    -0.6300000000000328,<br>    0.45570425612190557<br>  ],<br>  \"params\": {<br>    \"take_profit\": 0.2528018514104881,<br>    \"stop_loss\": 0.21526003586367343<br>  }<br>}",
          "{<br>  \"number\": 882,<br>  \"values\": [<br>    7.8699999999999655,<br>    0.6038695561009505<br>  ],<br>  \"params\": {<br>    \"take_profit\": 0.40500277159504,<br>    \"stop_loss\": 0.4478389637357441<br>  }<br>}",
          "{<br>  \"number\": 883,<br>  \"values\": [<br>    8.409999999999986,<br>    0.6139601902162851<br>  ],<br>  \"params\": {<br>    \"take_profit\": 0.4004803396644741,<br>    \"stop_loss\": 0.5207879909754949<br>  }<br>}",
          "{<br>  \"number\": 884,<br>  \"values\": [<br>    7.00999999999998,<br>    0.7424809037870467<br>  ],<br>  \"params\": {<br>    \"take_profit\": 0.5801180593864717,<br>    \"stop_loss\": 0.5349177715800677<br>  }<br>}",
          "{<br>  \"number\": 885,<br>  \"values\": [<br>    -1.0600000000000085,<br>    0.3937361521848701<br>  ],<br>  \"params\": {<br>    \"take_profit\": 0.2215793449982263,<br>    \"stop_loss\": 0.08044963583479153<br>  }<br>}",
          "{<br>  \"number\": 886,<br>  \"values\": [<br>    3.81999999999997,<br>    0.500838356115939<br>  ],<br>  \"params\": {<br>    \"take_profit\": 0.3666194620239973,<br>    \"stop_loss\": 0.22703085582081567<br>  }<br>}",
          "{<br>  \"number\": 887,<br>  \"values\": [<br>    8.70999999999999,<br>    0.5749281024975021<br>  ],<br>  \"params\": {<br>    \"take_profit\": 0.3322178556912239,<br>    \"stop_loss\": 0.5593717636897132<br>  }<br>}",
          "{<br>  \"number\": 888,<br>  \"values\": [<br>    1.010000000000007,<br>    0.42467905985018406<br>  ],<br>  \"params\": {<br>    \"take_profit\": 0.3434735316286918,<br>    \"stop_loss\": 0.05286499173453086<br>  }<br>}",
          "{<br>  \"number\": 889,<br>  \"values\": [<br>    3.1199999999999797,<br>    0.48484981060424776<br>  ],<br>  \"params\": {<br>    \"take_profit\": 0.4193862236915465,<br>    \"stop_loss\": 0.09680608883666107<br>  }<br>}",
          "{<br>  \"number\": 890,<br>  \"values\": [<br>    7.629999999999988,<br>    0.5661164048359293<br>  ],<br>  \"params\": {<br>    \"take_profit\": 0.32537123833868614,<br>    \"stop_loss\": 0.4657439484465329<br>  }<br>}",
          "{<br>  \"number\": 891,<br>  \"values\": [<br>    3.4800000000000026,<br>    0.5124199471834583<br>  ],<br>  \"params\": {<br>    \"take_profit\": 0.5619453506827091,<br>    \"stop_loss\": 0.08006004884998061<br>  }<br>}",
          "{<br>  \"number\": 892,<br>  \"values\": [<br>    2.1299999999999724,<br>    0.4752053351386301<br>  ],<br>  \"params\": {<br>    \"take_profit\": 0.3091525649255428,<br>    \"stop_loss\": 0.23732324978969815<br>  }<br>}",
          "{<br>  \"number\": 893,<br>  \"values\": [<br>    7.720000000000002,<br>    0.5661821820848079<br>  ],<br>  \"params\": {<br>    \"take_profit\": 0.28400575592318683,<br>    \"stop_loss\": 0.5792234289399628<br>  }<br>}",
          "{<br>  \"number\": 894,<br>  \"values\": [<br>    6.349999999999966,<br>    0.5384934063858158<br>  ],<br>  \"params\": {<br>    \"take_profit\": 0.4193862236915465,<br>    \"stop_loss\": 0.23732324978969815<br>  }<br>}",
          "{<br>  \"number\": 895,<br>  \"values\": [<br>    7.9499999999999815,<br>    0.5501061091467967<br>  ],<br>  \"params\": {<br>    \"take_profit\": 0.37837947190872045,<br>    \"stop_loss\": 0.4194128146076094<br>  }<br>}",
          "{<br>  \"number\": 896,<br>  \"values\": [<br>    5.409999999999956,<br>    0.6824939197866732<br>  ],<br>  \"params\": {<br>    \"take_profit\": 0.4898224321937315,<br>    \"stop_loss\": 0.49453274619879156<br>  }<br>}",
          "{<br>  \"number\": 897,<br>  \"values\": [<br>    5.169999999999991,<br>    0.5069189622849356<br>  ],<br>  \"params\": {<br>    \"take_profit\": 0.2804179738080875,<br>    \"stop_loss\": 0.3446655280784847<br>  }<br>}",
          "{<br>  \"number\": 898,<br>  \"values\": [<br>    8.889999999999976,<br>    0.6325984840784596<br>  ],<br>  \"params\": {<br>    \"take_profit\": 0.41979610207049245,<br>    \"stop_loss\": 0.517980612225431<br>  }<br>}",
          "{<br>  \"number\": 899,<br>  \"values\": [<br>    8.449999999999982,<br>    0.5758850670346274<br>  ],<br>  \"params\": {<br>    \"take_profit\": 0.39559542205161125,<br>    \"stop_loss\": 0.41254554790994874<br>  }<br>}",
          "{<br>  \"number\": 900,<br>  \"values\": [<br>    -0.6900000000000119,<br>    0.3894806989360962<br>  ],<br>  \"params\": {<br>    \"take_profit\": 0.2658007141840854,<br>    \"stop_loss\": 0.05286499173453086<br>  }<br>}",
          "{<br>  \"number\": 901,<br>  \"values\": [<br>    3.910000000000003,<br>    0.4885510502340643<br>  ],<br>  \"params\": {<br>    \"take_profit\": 0.12708535319934772,<br>    \"stop_loss\": 0.4250026356435156<br>  }<br>}",
          "{<br>  \"number\": 905,<br>  \"values\": [<br>    6.7899999999999885,<br>    0.6623774115477612<br>  ],<br>  \"params\": {<br>    \"take_profit\": 0.5130100559949762,<br>    \"stop_loss\": 0.4249713441618625<br>  }<br>}",
          "{<br>  \"number\": 906,<br>  \"values\": [<br>    7.409999999999993,<br>    0.5439246862132775<br>  ],<br>  \"params\": {<br>    \"take_profit\": 0.2618110033142434,<br>    \"stop_loss\": 0.5349177715800677<br>  }<br>}",
          "{<br>  \"number\": 907,<br>  \"values\": [<br>    6.349999999999966,<br>    0.5384934063858158<br>  ],<br>  \"params\": {<br>    \"take_profit\": 0.4193862236915465,<br>    \"stop_loss\": 0.23732324978969815<br>  }<br>}",
          "{<br>  \"number\": 908,<br>  \"values\": [<br>    6.25999999999997,<br>    0.6247562106632023<br>  ],<br>  \"params\": {<br>    \"take_profit\": 0.4638267640219826,<br>    \"stop_loss\": 0.36448099924503363<br>  }<br>}",
          "{<br>  \"number\": 909,<br>  \"values\": [<br>    5.490000000000016,<br>    0.5197210806640667<br>  ],<br>  \"params\": {<br>    \"take_profit\": 0.2430636550208381,<br>    \"stop_loss\": 0.4250026356435156<br>  }<br>}",
          "{<br>  \"number\": 910,<br>  \"values\": [<br>    -0.5000000000000027,<br>    0.4662404437982689<br>  ],<br>  \"params\": {<br>    \"take_profit\": 0.3666194620239973,<br>    \"stop_loss\": 0.1465227391244235<br>  }<br>}",
          "{<br>  \"number\": 912,<br>  \"values\": [<br>    8.929999999999968,<br>    0.5870223064227758<br>  ],<br>  \"params\": {<br>    \"take_profit\": 0.37714521438351606,<br>    \"stop_loss\": 0.5349177715800677<br>  }<br>}",
          "{<br>  \"number\": 913,<br>  \"values\": [<br>    3.9899999999999904,<br>    0.4749494781789643<br>  ],<br>  \"params\": {<br>    \"take_profit\": 0.15635221511028574,<br>    \"stop_loss\": 0.3578387822830585<br>  }<br>}",
          "{<br>  \"number\": 914,<br>  \"values\": [<br>    3.829999999999987,<br>    0.4870141132785997<br>  ],<br>  \"params\": {<br>    \"take_profit\": 0.2681070771040011,<br>    \"stop_loss\": 0.3026282171902923<br>  }<br>}",
          "{<br>  \"number\": 915,<br>  \"values\": [<br>    4.959999999999983,<br>    0.4869009652035734<br>  ],<br>  \"params\": {<br>    \"take_profit\": 0.2843362741225337,<br>    \"stop_loss\": 0.29129255144850197<br>  }<br>}",
          "{<br>  \"number\": 916,<br>  \"values\": [<br>    4.659999999999975,<br>    0.5826560235922235<br>  ],<br>  \"params\": {<br>    \"take_profit\": 0.5388164586436414,<br>    \"stop_loss\": 0.22663739483724937<br>  }<br>}",
          "{<br>  \"number\": 917,<br>  \"values\": [<br>    4.650000000000006,<br>    0.5174303288067326<br>  ],<br>  \"params\": {<br>    \"take_profit\": 0.2896527684391219,<br>    \"stop_loss\": 0.38596233258728496<br>  }<br>}",
          "{<br>  \"number\": 918,<br>  \"values\": [<br>    1.509999999999978,<br>    0.4791349471473091<br>  ],<br>  \"params\": {<br>    \"take_profit\": 0.07893949433514075,<br>    \"stop_loss\": 0.4409905236964839<br>  }<br>}",
          "{<br>  \"number\": 919,<br>  \"values\": [<br>    8.829999999999984,<br>    0.5939418003661826<br>  ],<br>  \"params\": {<br>    \"take_profit\": 0.41539992463926473,<br>    \"stop_loss\": 0.40083287314270877<br>  }<br>}",
          "{<br>  \"number\": 920,<br>  \"values\": [<br>    9.909999999999958,<br>    0.606884068144997<br>  ],<br>  \"params\": {<br>    \"take_profit\": 0.4193862236915465,<br>    \"stop_loss\": 0.43824973456478217<br>  }<br>}",
          "{<br>  \"number\": 921,<br>  \"values\": [<br>    6.669999999999973,<br>    0.5420162705658229<br>  ],<br>  \"params\": {<br>    \"take_profit\": 0.370256740072037,<br>    \"stop_loss\": 0.3736817867819406<br>  }<br>}",
          "{<br>  \"number\": 922,<br>  \"values\": [<br>    0.8099999999999308,<br>    0.4211371455856101<br>  ],<br>  \"params\": {<br>    \"take_profit\": 0.0595366319200447,<br>    \"stop_loss\": 0.25679247000220823<br>  }<br>}",
          "{<br>  \"number\": 924,<br>  \"values\": [<br>    -2.5199999999999942,<br>    0.4159819957569686<br>  ],<br>  \"params\": {<br>    \"take_profit\": 0.2703140024295009,<br>    \"stop_loss\": 0.12030866121888818<br>  }<br>}",
          "{<br>  \"number\": 925,<br>  \"values\": [<br>    5.699999999999996,<br>    0.5115503802492403<br>  ],<br>  \"params\": {<br>    \"take_profit\": 0.15532629544967783,<br>    \"stop_loss\": 0.5349177715800677<br>  }<br>}",
          "{<br>  \"number\": 927,<br>  \"values\": [<br>    1.6599999999999837,<br>    0.4701686953383054<br>  ],<br>  \"params\": {<br>    \"take_profit\": 0.07347883079143958,<br>    \"stop_loss\": 0.41254554790994874<br>  }<br>}",
          "{<br>  \"number\": 928,<br>  \"values\": [<br>    8.159999999999979,<br>    0.6221699762042051<br>  ],<br>  \"params\": {<br>    \"take_profit\": 0.39180268659945694,<br>    \"stop_loss\": 0.5349177715800677<br>  }<br>}",
          "{<br>  \"number\": 929,<br>  \"values\": [<br>    5.869999999999973,<br>    0.6918602998844582<br>  ],<br>  \"params\": {<br>    \"take_profit\": 0.515388724851597,<br>    \"stop_loss\": 0.4909666675456422<br>  }<br>}",
          "{<br>  \"number\": 930,<br>  \"values\": [<br>    7.0199999999999925,<br>    0.6647500489652058<br>  ],<br>  \"params\": {<br>    \"take_profit\": 0.5275387932437132,<br>    \"stop_loss\": 0.4234704987991215<br>  }<br>}",
          "{<br>  \"number\": 933,<br>  \"values\": [<br>    3.8399999999999923,<br>    0.48059319769793374<br>  ],<br>  \"params\": {<br>    \"take_profit\": 0.301876344515467,<br>    \"stop_loss\": 0.25760257173708784<br>  }<br>}",
          "{<br>  \"number\": 937,<br>  \"values\": [<br>    5.209999999999983,<br>    0.5084858624146474<br>  ],<br>  \"params\": {<br>    \"take_profit\": 0.3260141556656956,<br>    \"stop_loss\": 0.3017915069135645<br>  }<br>}",
          "{<br>  \"number\": 938,<br>  \"values\": [<br>    3.899999999999962,<br>    0.5308312877346932<br>  ],<br>  \"params\": {<br>    \"take_profit\": 0.4193862236915465,<br>    \"stop_loss\": 0.21954469124578996<br>  }<br>}",
          "{<br>  \"number\": 940,<br>  \"values\": [<br>    4.959999999999983,<br>    0.4869009652035734<br>  ],<br>  \"params\": {<br>    \"take_profit\": 0.28400575592318683,<br>    \"stop_loss\": 0.29129255144850197<br>  }<br>}",
          "{<br>  \"number\": 941,<br>  \"values\": [<br>    9.509999999999973,<br>    0.6449318848488379<br>  ],<br>  \"params\": {<br>    \"take_profit\": 0.42477134448096265,<br>    \"stop_loss\": 0.5229170937065689<br>  }<br>}",
          "{<br>  \"number\": 942,<br>  \"values\": [<br>    5.239999999999984,<br>    0.5035554732268073<br>  ],<br>  \"params\": {<br>    \"take_profit\": 0.35692177448901397,<br>    \"stop_loss\": 0.2520719724490672<br>  }<br>}",
          "{<br>  \"number\": 943,<br>  \"values\": [<br>    -1.6900000000000146,<br>    0.43905407749360925<br>  ],<br>  \"params\": {<br>    \"take_profit\": 0.2761527601271156,<br>    \"stop_loss\": 0.16037654434490953<br>  }<br>}",
          "{<br>  \"number\": 944,<br>  \"values\": [<br>    8.069999999999958,<br>    0.5785477577307082<br>  ],<br>  \"params\": {<br>    \"take_profit\": 0.36453047990587,<br>    \"stop_loss\": 0.4583843405119412<br>  }<br>}",
          "{<br>  \"number\": 945,<br>  \"values\": [<br>    7.719999999999992,<br>    0.5479382229516031<br>  ],<br>  \"params\": {<br>    \"take_profit\": 0.4193862236915465,<br>    \"stop_loss\": 0.26450213229493325<br>  }<br>}",
          "{<br>  \"number\": 946,<br>  \"values\": [<br>    9.059999999999963,<br>    0.621480433306106<br>  ],<br>  \"params\": {<br>    \"take_profit\": 0.4199818400707031,<br>    \"stop_loss\": 0.45896179348384925<br>  }<br>}",
          "{<br>  \"number\": 949,<br>  \"values\": [<br>    9.299999999999976,<br>    0.6541994120666111<br>  ],<br>  \"params\": {<br>    \"take_profit\": 0.42663054787966076,<br>    \"stop_loss\": 0.5349177715800677<br>  }<br>}",
          "{<br>  \"number\": 950,<br>  \"values\": [<br>    2.6099999999999706,<br>    0.42737452394144543<br>  ],<br>  \"params\": {<br>    \"take_profit\": 0.08479379351163474,<br>    \"stop_loss\": 0.29129255144850197<br>  }<br>}",
          "{<br>  \"number\": 952,<br>  \"values\": [<br>    3.0500000000000003,<br>    0.47376420557206395<br>  ],<br>  \"params\": {<br>    \"take_profit\": 0.27536135454761507,<br>    \"stop_loss\": 0.25574574904614966<br>  }<br>}",
          "{<br>  \"number\": 953,<br>  \"values\": [<br>    0.02999999999999675,<br>    0.4507486365296438<br>  ],<br>  \"params\": {<br>    \"take_profit\": 0.3666194620239973,<br>    \"stop_loss\": 0.10724547273763532<br>  }<br>}",
          "{<br>  \"number\": 954,<br>  \"values\": [<br>    -2.1700000000000403,<br>    0.3893332036833031<br>  ],<br>  \"params\": {<br>    \"take_profit\": 0.1861666599651855,<br>    \"stop_loss\": 0.10162447755994905<br>  }<br>}",
          "{<br>  \"number\": 955,<br>  \"values\": [<br>    1.779999999999958,<br>    0.43095139067369925<br>  ],<br>  \"params\": {<br>    \"take_profit\": 0.1603520706715647,<br>    \"stop_loss\": 0.23732324978969815<br>  }<br>}",
          "{<br>  \"number\": 956,<br>  \"values\": [<br>    4.859999999999989,<br>    0.5053174042246575<br>  ],<br>  \"params\": {<br>    \"take_profit\": 0.3078660168262989,<br>    \"stop_loss\": 0.3222416345937975<br>  }<br>}",
          "{<br>  \"number\": 957,<br>  \"values\": [<br>    5.189999999999962,<br>    0.5808086673296133<br>  ],<br>  \"params\": {<br>    \"take_profit\": 0.503057001246137,<br>    \"stop_loss\": 0.23732324978969815<br>  }<br>}",
          "{<br>  \"number\": 958,<br>  \"values\": [<br>    5.969999999999981,<br>    0.5862115298731612<br>  ],<br>  \"params\": {<br>    \"take_profit\": 0.4984460666286589,<br>    \"stop_loss\": 0.25574574904614966<br>  }<br>}",
          "{<br>  \"number\": 960,<br>  \"values\": [<br>    4.910000000000011,<br>    0.5381952392538933<br>  ],<br>  \"params\": {<br>    \"take_profit\": 0.1505534871210789,<br>    \"stop_loss\": 0.5956489956746637<br>  }<br>}",
          "{<br>  \"number\": 961,<br>  \"values\": [<br>    4.48,<br>    0.47421702052108416<br>  ],<br>  \"params\": {<br>    \"take_profit\": 0.23431848563738827,<br>    \"stop_loss\": 0.2991931878009897<br>  }<br>}",
          "{<br>  \"number\": 962,<br>  \"values\": [<br>    7.729999999999983,<br>    0.548524447023982<br>  ],<br>  \"params\": {<br>    \"take_profit\": 0.35083604401566054,<br>    \"stop_loss\": 0.41254554790994874<br>  }<br>}",
          "{<br>  \"number\": 963,<br>  \"values\": [<br>    -0.35000000000005116,<br>    0.35905582142517245<br>  ],<br>  \"params\": {<br>    \"take_profit\": 0.1592520005431407,<br>    \"stop_loss\": 0.07088347948068337<br>  }<br>}",
          "{<br>  \"number\": 964,<br>  \"values\": [<br>    5.849999999999998,<br>    0.6537421311593486<br>  ],<br>  \"params\": {<br>    \"take_profit\": 0.5021387232483483,<br>    \"stop_loss\": 0.41254554790994874<br>  }<br>}",
          "{<br>  \"number\": 965,<br>  \"values\": [<br>    6.869999999999985,<br>    0.6778316909445138<br>  ],<br>  \"params\": {<br>    \"take_profit\": 0.5719741206926807,<br>    \"stop_loss\": 0.4234704987991215<br>  }<br>}",
          "{<br>  \"number\": 966,<br>  \"values\": [<br>    4.939999999999982,<br>    0.7152363014727154<br>  ],<br>  \"params\": {<br>    \"take_profit\": 0.44486848454425143,<br>    \"stop_loss\": 0.5937614150596295<br>  }<br>}",
          "{<br>  \"number\": 967,<br>  \"values\": [<br>    8.959999999999983,<br>    0.6314773859906613<br>  ],<br>  \"params\": {<br>    \"take_profit\": 0.41539992463926473,<br>    \"stop_loss\": 0.5026090877474579<br>  }<br>}",
          "{<br>  \"number\": 968,<br>  \"values\": [<br>    -0.3800000000000061,<br>    0.45928253201583413<br>  ],<br>  \"params\": {<br>    \"take_profit\": 0.3788258725085614,<br>    \"stop_loss\": 0.13169111528752492<br>  }<br>}",
          "{<br>  \"number\": 969,<br>  \"values\": [<br>    1.3499999999999592,<br>    0.4636084322338914<br>  ],<br>  \"params\": {<br>    \"take_profit\": 0.052349906807558716,<br>    \"stop_loss\": 0.41254554790994874<br>  }<br>}",
          "{<br>  \"number\": 970,<br>  \"values\": [<br>    4.659999999999975,<br>    0.5826560235922235<br>  ],<br>  \"params\": {<br>    \"take_profit\": 0.5329273415418554,<br>    \"stop_loss\": 0.23732324978969815<br>  }<br>}",
          "{<br>  \"number\": 972,<br>  \"values\": [<br>    6.349999999999966,<br>    0.5384934063858158<br>  ],<br>  \"params\": {<br>    \"take_profit\": 0.41207475740947186,<br>    \"stop_loss\": 0.2224392774033721<br>  }<br>}",
          "{<br>  \"number\": 973,<br>  \"values\": [<br>    -0.33000000000003443,<br>    0.35287433121106293<br>  ],<br>  \"params\": {<br>    \"take_profit\": 0.10127042432493341,<br>    \"stop_loss\": 0.05849119278671498<br>  }<br>}",
          "{<br>  \"number\": 975,<br>  \"values\": [<br>    1.1400000000000023,<br>    0.42716041576198377<br>  ],<br>  \"params\": {<br>    \"take_profit\": 0.3666194620239973,<br>    \"stop_loss\": 0.06578369031296406<br>  }<br>}",
          "{<br>  \"number\": 976,<br>  \"values\": [<br>    6.300000000000015,<br>    0.545323084432884<br>  ],<br>  \"params\": {<br>    \"take_profit\": 0.23871570689181354,<br>    \"stop_loss\": 0.5349177715800677<br>  }<br>}",
          "{<br>  \"number\": 977,<br>  \"values\": [<br>    5.429999999999996,<br>    0.6464270131704555<br>  ],<br>  \"params\": {<br>    \"take_profit\": 0.5073189457888814,<br>    \"stop_loss\": 0.38945344241060487<br>  }<br>}",
          "{<br>  \"number\": 978,<br>  \"values\": [<br>    1.0799999999999552,<br>    0.4240957913578523<br>  ],<br>  \"params\": {<br>    \"take_profit\": 0.08479379351163474,<br>    \"stop_loss\": 0.25574574904614966<br>  }<br>}",
          "{<br>  \"number\": 979,<br>  \"values\": [<br>    5.839999999999986,<br>    0.652362552119819<br>  ],<br>  \"params\": {<br>    \"take_profit\": 0.5668897191190082,<br>    \"stop_loss\": 0.34555445143910923<br>  }<br>}",
          "{<br>  \"number\": 980,<br>  \"values\": [<br>    0.8099999999999308,<br>    0.4211371455856101<br>  ],<br>  \"params\": {<br>    \"take_profit\": 0.0595366319200447,<br>    \"stop_loss\": 0.25574574904614966<br>  }<br>}",
          "{<br>  \"number\": 981,<br>  \"values\": [<br>    2.4199999999999906,<br>    0.49943052465378185<br>  ],<br>  \"params\": {<br>    \"take_profit\": 0.19447884158687678,<br>    \"stop_loss\": 0.373265014277942<br>  }<br>}",
          "{<br>  \"number\": 983,<br>  \"values\": [<br>    3.35,<br>    0.4910447900422773<br>  ],<br>  \"params\": {<br>    \"take_profit\": 0.12397384190526135,<br>    \"stop_loss\": 0.41254554790994874<br>  }<br>}",
          "{<br>  \"number\": 984,<br>  \"values\": [<br>    8.699999999999987,<br>    0.6720433769161531<br>  ],<br>  \"params\": {<br>    \"take_profit\": 0.4262947218185719,<br>    \"stop_loss\": 0.5742850422706178<br>  }<br>}",
          "{<br>  \"number\": 985,<br>  \"values\": [<br>    0.7099999999999467,<br>    0.410450956454387<br>  ],<br>  \"params\": {<br>    \"take_profit\": 0.13138358969635155,<br>    \"stop_loss\": 0.20652752349049674<br>  }<br>}",
          "{<br>  \"number\": 986,<br>  \"values\": [<br>    2.7799999999999763,<br>    0.4940070075957612<br>  ],<br>  \"params\": {<br>    \"take_profit\": 0.4262947218185719,<br>    \"stop_loss\": 0.10927019904777424<br>  }<br>}",
          "{<br>  \"number\": 989,<br>  \"values\": [<br>    2.149999999999995,<br>    0.4932656898728967<br>  ],<br>  \"params\": {<br>    \"take_profit\": 0.4193862236915465,<br>    \"stop_loss\": 0.11985378478422784<br>  }<br>}",
          "{<br>  \"number\": 991,<br>  \"values\": [<br>    2.789999999999975,<br>    0.5045189651090215<br>  ],<br>  \"params\": {<br>    \"take_profit\": 0.48430296012166907,<br>    \"stop_loss\": 0.09298081459682067<br>  }<br>}",
          "{<br>  \"number\": 992,<br>  \"values\": [<br>    6.349999999999966,<br>    0.5384934063858158<br>  ],<br>  \"params\": {<br>    \"take_profit\": 0.4193862236915465,<br>    \"stop_loss\": 0.23732324978969815<br>  }<br>}",
          "{<br>  \"number\": 993,<br>  \"values\": [<br>    5.700000000000003,<br>    0.5419343481329343<br>  ],<br>  \"params\": {<br>    \"take_profit\": 0.32537123833868614,<br>    \"stop_loss\": 0.4019421812586334<br>  }<br>}",
          "{<br>  \"number\": 995,<br>  \"values\": [<br>    5.429999999999966,<br>    0.6826772020319728<br>  ],<br>  \"params\": {<br>    \"take_profit\": 0.49994529816476496,<br>    \"stop_loss\": 0.5079199963787265<br>  }<br>}",
          "{<br>  \"number\": 996,<br>  \"values\": [<br>    4.790000000000013,<br>    0.5057037021567078<br>  ],<br>  \"params\": {<br>    \"take_profit\": 0.13138358969635155,<br>    \"stop_loss\": 0.5564151074816335<br>  }<br>}",
          "{<br>  \"number\": 997,<br>  \"values\": [<br>    4.209999999999999,<br>    0.5265609680060727<br>  ],<br>  \"params\": {<br>    \"take_profit\": 0.18145409503957366,<br>    \"stop_loss\": 0.5070130941730017<br>  }<br>}",
          "{<br>  \"number\": 998,<br>  \"values\": [<br>    5.719999999999985,<br>    0.5092765163454378<br>  ],<br>  \"params\": {<br>    \"take_profit\": 0.3842960566912375,<br>    \"stop_loss\": 0.2549150223919173<br>  }<br>}",
          "{<br>  \"number\": 999,<br>  \"values\": [<br>    4.919999999999984,<br>    0.633067926845137<br>  ],<br>  \"params\": {<br>    \"take_profit\": 0.5026710825292224,<br>    \"stop_loss\": 0.3283615891138402<br>  }<br>}"
         ],
         "type": "scatter",
         "x": [
          6.529999999999955,
          5.489999999999988,
          2.589999999999956,
          2.049999999999978,
          1.2300000000000058,
          2.5199999999999854,
          8.049999999999986,
          -1.3000000000000078,
          2.3699999999999934,
          7.959999999999958,
          4.0199999999999525,
          -1.74000000000007,
          5.89999999999997,
          2.069999999999974,
          6.1699999999999875,
          1.9699999999999815,
          5.959999999999972,
          -0.7200000000000537,
          7.059999999999993,
          6.1699999999999875,
          1.9099999999999815,
          7.00999999999998,
          6.7699999999999925,
          -0.5599999999999923,
          4.679999999999978,
          5.489999999999984,
          -1.5299999999999976,
          7.8699999999999655,
          5.629999999999978,
          3.5399999999999547,
          7.789999999999981,
          -1.0699999999999832,
          5.330000000000006,
          4.010000000000001,
          8.919999999999973,
          6.579999999999984,
          8.549999999999983,
          4.2899999999999485,
          4.959999999999965,
          3.4999999999999933,
          5.909999999999972,
          5.260000000000016,
          7.789999999999981,
          7.5000000000000036,
          4.449999999999985,
          -1.9600000000000142,
          5.5899999999999785,
          4.609999999999991,
          2.949999999999943,
          1.139999999999949,
          6.7699999999999925,
          3.3599999999999803,
          3.0199999999999934,
          3.449999999999973,
          0.40999999999999237,
          -1.5000000000000249,
          -1.1300000000000483,
          5.909999999999972,
          3.4800000000000213,
          6.569999999999958,
          5.729999999999997,
          6.529999999999955,
          1.739999999999982,
          4.789999999999999,
          6.399999999999999,
          7.479999999999993,
          3.5999999999999837,
          6.06000000000002,
          -0.42000000000004,
          3.9699999999999864,
          7.619999999999976,
          -0.6400000000000514,
          8.919999999999973,
          6.349999999999966,
          5.049999999999969,
          3.629999999999991,
          8.049999999999986,
          7.189999999999996,
          1.589999999999962,
          1.2300000000000058,
          0.309999999999909,
          2.049999999999978,
          -0.5599999999999923,
          9.209999999999976,
          -2.0199999999999942,
          6.089999999999968,
          3.5700000000000105,
          1.93999999999996,
          1.9699999999999815,
          4.959999999999965,
          2.159999999999986,
          7.769999999999985,
          6.219999999999985,
          6.939999999999987,
          -0.010000000000021991,
          8.52999999999998,
          6.259999999999977,
          5.789999999999992,
          4.4699999999999775,
          3.3400000000000025,
          5.229999999999974,
          0.6200000000000001,
          0.40999999999999237,
          8.929999999999968,
          3.9999999999999876,
          1.2699999999999692,
          -1.1100000000000483,
          5.96999999999997,
          3.629999999999991,
          5.959999999999962,
          4.069999999999978,
          7.6,
          3.279999999999964,
          3.38999999999999,
          -0.5500000000000425,
          8.189999999999976,
          1.8199999999999827,
          6.579999999999984,
          5.049999999999969,
          5.459999999999972,
          1.989999999999986,
          1.9399999999999689,
          7.479999999999993,
          -0.5599999999999923,
          7.029999999999973,
          6.679999999999996,
          5.099999999999994,
          4.41,
          6.409999999999966,
          0.2799999999999461,
          5.299999999999997,
          5.490000000000016,
          3.629999999999991,
          7.729999999999983,
          3.5500000000000105,
          6.489999999999963,
          7.529999999999973,
          4.2699999999999845,
          2.259999999999986,
          4.010000000000001,
          -2.090000000000032,
          2.9299999999999735,
          7.479999999999993,
          2.39999999999995,
          -0.020000000000047535,
          -2.1400000000000454,
          4.4800000000000075,
          0.309999999999909,
          5.8199999999999825,
          1.9399999999999689,
          3.699999999999995,
          5.959999999999962,
          -0.6700000000000141,
          7.909999999999965,
          5.8199999999999825,
          5.789999999999992,
          -1.570000000000046,
          1.4799999999999507,
          7.719999999999992,
          8.84999999999997,
          1.0799999999999552,
          7.479999999999993,
          8.929999999999968,
          3.039999999999995,
          2.0499999999999803,
          8.539999999999985,
          8.649999999999988,
          -0.4800000000000466,
          4.5699999999999825,
          4.4699999999999775,
          3.5999999999999837,
          9.309999999999963,
          -1.3699999999999886,
          6.189999999999966,
          4.139999999999983,
          5.7699999999999925,
          6.420000000000002,
          4.2699999999999845,
          3.8500000000000036,
          6.9399999999999835,
          4.640000000000001,
          -2.090000000000032,
          3.3399999999999497,
          8.879999999999999,
          3.6899999999999826,
          9.209999999999976,
          4.629999999999985,
          -0.8500000000000187,
          7.619999999999976,
          7.339999999999993,
          3.8599999999999888,
          8.069999999999958,
          6.519999999999971,
          3.019999999999999,
          2.559999999999987,
          7.789999999999981,
          5.489999999999988,
          7.029999999999973,
          2.1899999999999826,
          0.049999999999942146,
          2.239999999999978,
          7.029999999999973,
          6.1699999999999875,
          0.09999999999999815,
          5.669999999999952,
          2.5099999999999616,
          2.7299999999999605,
          5.489999999999988,
          2.37,
          4.489999999999977,
          -1.5500000000000578,
          2.239999999999978,
          1.8699999999999632,
          6.529999999999994,
          8.189999999999966,
          4.5699999999999825,
          7.789999999999981,
          -0.2099999999999999,
          1.089999999999995,
          2.329999999999994,
          9.169999999999963,
          6.679999999999996,
          -1.0699999999999832,
          5.159999999999997,
          5.499999999999947,
          3.5799999999999836,
          2.1799999999999877,
          7.029999999999973,
          4.8700000000000125,
          5.61999999999998,
          3.3400000000000025,
          0.6200000000000001,
          1.5199999999999991,
          3.3899999999999957,
          5.85999999999996,
          7.729999999999983,
          -0.3399999999999935,
          -0.3100000000000671,
          7.729999999999983,
          8.159999999999979,
          6.869999999999987,
          6.420000000000002,
          -0.4700000000000233,
          7.029999999999973,
          0.6900000000000137,
          7.299999999999995,
          4.359999999999982,
          4.059999999999992,
          6.220000000000006,
          7.419999999999998,
          4.5699999999999825,
          -1.8799999999999937,
          7.669999999999991,
          5.909999999999966,
          3.219999999999939,
          7.599999999999987,
          3.1099999999999888,
          8.189999999999976,
          -0.2600000000000073,
          4.2799999999999905,
          -0.5800000000000634,
          8.559999999999974,
          5.729999999999958,
          1.4899999999999576,
          5.109999999999999,
          8.129999999999978,
          1.2300000000000058,
          7.699999999999992,
          2.4199999999999973,
          6.570000000000011,
          8.179999999999957,
          0.6200000000000001,
          0.029999999999936133,
          7.089999999999996,
          4.580000000000002,
          -0.3399999999999935,
          1.1699999999999913,
          -0.2900000000000424,
          6.1699999999999875,
          1.1400000000000023,
          2.149999999999995,
          2.499999999999981,
          -0.9800000000000271,
          7.109999999999982,
          -0.3399999999999935,
          1.2899999999999712,
          1.9299999999999495,
          8.170000000000007,
          8.739999999999998,
          8.889999999999976,
          7.419999999999998,
          3.870000000000004,
          5.729999999999983,
          5.909999999999972,
          3.529999999999964,
          2.2099999999999667,
          7.849999999999959,
          0.8999999999999484,
          0.5500000000000029,
          7.619999999999976,
          7.789999999999981,
          8.709999999999997,
          -0.920000000000047,
          6.319999999999997,
          7.88999999999999,
          8.499999999999975,
          2.3699999999999672,
          5.210000000000008,
          8.159999999999979,
          2.979999999999979,
          6.529999999999994,
          7.749999999999979,
          3.3599999999999803,
          4.110000000000027,
          6.529999999999994,
          6.299999999999983,
          4.299999999999988,
          6.66,
          5.959999999999983,
          5.729999999999958,
          2.979999999999979,
          7.719999999999992,
          7.839999999999971,
          3.3899999999999957,
          2.109999999999958,
          3.3000000000000123,
          4.599999999999984,
          6.519999999999971,
          6.019999999999966,
          2.499999999999981,
          8.60999999999996,
          4.5,
          8.879999999999999,
          8.929999999999968,
          -2.100000000000021,
          6.029999999999955,
          -0.8300000000000227,
          6.1899999999999835,
          4.670000000000002,
          5.099999999999994,
          -0.020000000000012397,
          6.669999999999973,
          3.1599999999999593,
          3.9899999999999904,
          8.529999999999998,
          5.519999999999996,
          3.9699999999999878,
          8.929999999999968,
          5.430000000000014,
          6.319999999999997,
          6.869999999999985,
          7.580000000000002,
          7.059999999999967,
          2.1299999999999724,
          7.749999999999979,
          3.009999999999966,
          8.699999999999953,
          2.149999999999995,
          2.559999999999987,
          3.039999999999999,
          3.470000000000008,
          8.179999999999957,
          6.1899999999999835,
          3.809999999999991,
          7.9499999999999815,
          7.619999999999976,
          6.73,
          3.019999999999973,
          -1.8400000000000643,
          3.9800000000000173,
          7.629999999999985,
          6.420000000000002,
          -0.3000000000000338,
          6.519999999999971,
          7.409999999999993,
          7.789999999999981,
          2.3699999999999672,
          -1.6399999999999988,
          6.679999999999996,
          4.980000000000011,
          8.579999999999973,
          4.959999999999983,
          5.599999999999955,
          6.61999999999998,
          5.460000000000004,
          2.1899999999999826,
          7.699999999999992,
          7.390000000000004,
          7.059999999999967,
          6.1699999999999875,
          6.5499999999999865,
          4.159999999999953,
          2.789999999999975,
          5.609999999999985,
          0.02999999999999675,
          5.420000000000009,
          1.4999999999999627,
          1.5700000000000043,
          8.609999999999998,
          5.489999999999988,
          4.06999999999997,
          -0.010000000000021991,
          8.879999999999999,
          6.220000000000006,
          5.279999999999964,
          4.93999999999998,
          8.069999999999958,
          2.4199999999999826,
          5.239999999999984,
          3.5500000000000105,
          7.199999999999978,
          6.0499999999999865,
          0.43999999999994044,
          4.2799999999999905,
          3.1199999999999606,
          4.010000000000001,
          2.0899999999999763,
          5.13999999999999,
          7.419999999999998,
          8.159999999999979,
          2.219999999999986,
          1.6199999999999672,
          8.789999999999988,
          -0.6999999999999929,
          3.1699999999999906,
          6.159999999999975,
          -1.1800000000000674,
          2.0499999999999803,
          7.4800000000000075,
          0.029999999999936133,
          4.369999999999974,
          6.61999999999998,
          8.299999999999983,
          -0.9800000000000548,
          -1.3500000000000978,
          4.569999999999992,
          1.3499999999999592,
          5.699999999999996,
          6.709999999999968,
          9.299999999999976,
          -0.19000000000003503,
          1.799999999999966,
          5.279999999999964,
          8.929999999999968,
          8.929999999999968,
          7.9499999999999815,
          7.510000000000009,
          6.069999999999972,
          6.4800000000000075,
          7.9499999999999815,
          5.849999999999987,
          5.989999999999984,
          1.139999999999949,
          1.089999999999995,
          5.009999999999955,
          6.329999999999991,
          7.719999999999992,
          -1.0000000000000528,
          -0.5400000000000267,
          5.239999999999984,
          1.9200000000000133,
          1.3999999999999788,
          8.189999999999976,
          2.6399999999999775,
          6.220000000000006,
          1.6199999999999672,
          1.9099999999999615,
          9.269999999999994,
          -0.2100000000000508,
          7.399999999999984,
          2.3999999999999484,
          10.499999999999979,
          0.539999999999949,
          7.989999999999974,
          7.4800000000000075,
          4.700000000000003,
          -0.3800000000000061,
          2.1999999999999718,
          6.0599999999999845,
          5.889999999999976,
          5.739999999999988,
          5.369999999999994,
          7.389999999999985,
          6.6099999999999675,
          6.219999999999974,
          -2.0199999999999942,
          6.66,
          9.909999999999958,
          6.1600000000000215,
          5.729999999999997,
          5.629999999999978,
          4.2699999999999845,
          7.719999999999992,
          8.789999999999988,
          6.16999999999998,
          6.220000000000006,
          5.729999999999983,
          3.019999999999999,
          1.4999999999999507,
          1.089999999999995,
          7.179999999999989,
          8.44999999999997,
          8.429999999999968,
          2.849999999999965,
          5.099999999999994,
          4.630000000000013,
          -0.4000000000000079,
          1.1999999999999535,
          2.109999999999958,
          0.11999999999999836,
          8.63999999999998,
          4.93999999999998,
          8.659999999999975,
          5.939999999999987,
          6.519999999999971,
          -0.5000000000000027,
          -0.8500000000000005,
          1.9299999999999757,
          -0.30000000000004357,
          8.709999999999969,
          4.910000000000011,
          4.180000000000006,
          6.570000000000011,
          7.5099999999999945,
          8.63999999999998,
          8.929999999999968,
          1.1399999999999695,
          8.929999999999968,
          3.14000000000001,
          -0.4100000000000339,
          -0.3100000000000671,
          3.500000000000003,
          0.539999999999949,
          2.659999999999994,
          3.5100000000000042,
          5.239999999999984,
          7.499999999999984,
          4.569999999999992,
          7.479999999999993,
          2.559999999999987,
          4.629999999999985,
          8.43000000000001,
          4.790000000000006,
          7.409999999999993,
          2.4199999999999906,
          6.809999999999974,
          -0.1900000000000019,
          6.61999999999998,
          6.300000000000015,
          6.420000000000002,
          6.80999999999996,
          -0.15000000000006053,
          6.609999999999978,
          8.63999999999998,
          -2.090000000000032,
          -1.290000000000017,
          8.529999999999998,
          2.2700000000000076,
          6.059999999999974,
          8.649999999999977,
          -0.3399999999999935,
          4.200000000000006,
          2.7299999999999605,
          9.049999999999972,
          2.1899999999999826,
          1.3699999999999672,
          -0.9800000000000271,
          3.35,
          2.289999999999973,
          6.249999999999986,
          3.81999999999997,
          4.039999999999996,
          5.400000000000013,
          2.229999999999995,
          8.879999999999999,
          2.159999999999986,
          6.590000000000007,
          7.409999999999993,
          -0.21000000000004013,
          6.569999999999958,
          6.100000000000026,
          9.069999999999979,
          5.369999999999983,
          3.3899999999999406,
          8.929999999999968,
          7.719999999999992,
          8.099999999999977,
          5.82999999999997,
          5.659999999999986,
          2.109999999999958,
          7.699999999999992,
          4.879999999999971,
          3.100000000000026,
          8.409999999999982,
          7.9499999999999815,
          1.9799999999999667,
          4.729999999999993,
          3.279999999999964,
          5.709999999999987,
          9.019999999999978,
          -0.010000000000021991,
          7.179999999999989,
          6.420000000000002,
          2.289999999999973,
          6.179999999999982,
          3.3599999999999803,
          6.16999999999998,
          6.1699999999999875,
          3.4599999999999542,
          6.089999999999993,
          7.749999999999979,
          3.14000000000001,
          5.729999999999983,
          6.1699999999999875,
          2.109999999999958,
          7.909999999999965,
          6.61999999999998,
          7.169999999999973,
          1.3499999999999592,
          8.659999999999975,
          6.689999999999976,
          7.9499999999999815,
          6.869999999999985,
          2.1899999999999826,
          5.5299999999999905,
          4.929999999999982,
          4.870000000000012,
          3.5799999999999836,
          6.059999999999974,
          6.869999999999985,
          -2.450000000000009,
          3.0799999999999934,
          0.09999999999999815,
          3.019999999999973,
          4.48,
          3.8399999999999923,
          7.9499999999999815,
          6.599999999999984,
          5.729999999999983,
          4.910000000000011,
          -1.1100000000000483,
          -0.8500000000000187,
          6.61999999999998,
          8.849999999999973,
          -2.0900000000000096,
          4.069999999999997,
          -0.3000000000000338,
          6.419999999999977,
          8.059999999999967,
          6.420000000000002,
          -0.16000000000008407,
          5.93000000000001,
          1.839999999999966,
          6.6999999999999815,
          7.709999999999976,
          8.299999999999983,
          4.490000000000023,
          8.929999999999968,
          7.419999999999998,
          3.7199999999999944,
          7.419999999999998,
          8.889999999999976,
          2.949999999999943,
          6.059999999999974,
          -2.6800000000000033,
          -0.33000000000003443,
          5.449999999999967,
          5.489999999999988,
          3.899999999999962,
          -2.450000000000009,
          0.6200000000000001,
          1.8500000000000076,
          4.5699999999999825,
          8.429999999999978,
          7.859999999999989,
          7.9499999999999815,
          3.5799999999999836,
          2.9499999999999367,
          6.37999999999996,
          -0.3400000000000407,
          2.1299999999999724,
          -0.6900000000000119,
          3.5999999999999837,
          3.9699999999999878,
          4.059999999999992,
          6.1899999999999835,
          5.180000000000025,
          5.430000000000014,
          2.410000000000006,
          3.039999999999995,
          -1.1099999999999959,
          6.8400000000000105,
          7.179999999999982,
          7.909999999999965,
          2.729999999999989,
          6.400000000000006,
          8.579999999999973,
          2.3899999999999775,
          8.879999999999999,
          5.659999999999986,
          7.499999999999984,
          5.749999999999972,
          8.529999999999998,
          0.6000000000000103,
          8.549999999999983,
          2.729999999999989,
          5.519999999999957,
          8.919999999999973,
          1.2899999999999712,
          7.409999999999993,
          1.799999999999966,
          2.0899999999999763,
          -1.1100000000000225,
          7.229999999999965,
          5.429999999999991,
          4.2300000000000315,
          3.269999999999995,
          1.9099999999999615,
          3.0200000000000053,
          1.9299999999999495,
          1.9899999999999718,
          4.909999999999997,
          7.419999999999998,
          6.570000000000011,
          3.4099999999999877,
          -0.5900000000000136,
          -1.2800000000000118,
          7.719999999999992,
          0.06999999999995012,
          6.66999999999998,
          3.500000000000011,
          5.93000000000001,
          6.420000000000002,
          6.010000000000005,
          2.499999999999981,
          2.3699999999999735,
          4.149999999999995,
          8.63999999999998,
          -1.74000000000007,
          6.119999999999958,
          9.509999999999973,
          7.339999999999993,
          -0.400000000000043,
          7.190000000000001,
          7.179999999999989,
          5.27,
          -0.11999999999999647,
          5.019999999999996,
          5.310000000000002,
          9.549999999999972,
          -0.7000000000000055,
          -0.3000000000000338,
          2.3999999999999484,
          7.409999999999993,
          6.749999999999979,
          0.02999999999999675,
          9.059999999999963,
          6.349999999999966,
          8.919999999999973,
          3.81999999999997,
          6.669999999999973,
          6.349999999999966,
          5.459999999999972,
          8.59999999999998,
          2.1299999999999724,
          6.519999999999971,
          2.8799999999999435,
          3.3400000000000185,
          4.240000000000005,
          6.419999999999977,
          1.839999999999966,
          2.7099999999999747,
          7.419999999999998,
          1.3399999999999803,
          6.420000000000002,
          2.229999999999969,
          8.649999999999977,
          6.61999999999998,
          -0.020000000000055015,
          6.61999999999998,
          8.789999999999988,
          2.4199999999999906,
          -0.04999999999999982,
          1.739999999999982,
          6.7499999999999964,
          -2.05000000000004,
          -0.6300000000000328,
          7.8699999999999655,
          8.409999999999986,
          7.00999999999998,
          -1.0600000000000085,
          3.81999999999997,
          8.70999999999999,
          1.010000000000007,
          3.1199999999999797,
          7.629999999999988,
          3.4800000000000026,
          2.1299999999999724,
          7.720000000000002,
          6.349999999999966,
          7.9499999999999815,
          5.409999999999956,
          5.169999999999991,
          8.889999999999976,
          8.449999999999982,
          -0.6900000000000119,
          3.910000000000003,
          6.7899999999999885,
          7.409999999999993,
          6.349999999999966,
          6.25999999999997,
          5.490000000000016,
          -0.5000000000000027,
          8.929999999999968,
          3.9899999999999904,
          3.829999999999987,
          4.959999999999983,
          4.659999999999975,
          4.650000000000006,
          1.509999999999978,
          8.829999999999984,
          9.909999999999958,
          6.669999999999973,
          0.8099999999999308,
          -2.5199999999999942,
          5.699999999999996,
          1.6599999999999837,
          8.159999999999979,
          5.869999999999973,
          7.0199999999999925,
          3.8399999999999923,
          5.209999999999983,
          3.899999999999962,
          4.959999999999983,
          9.509999999999973,
          5.239999999999984,
          -1.6900000000000146,
          8.069999999999958,
          7.719999999999992,
          9.059999999999963,
          9.299999999999976,
          2.6099999999999706,
          3.0500000000000003,
          0.02999999999999675,
          -2.1700000000000403,
          1.779999999999958,
          4.859999999999989,
          5.189999999999962,
          5.969999999999981,
          4.910000000000011,
          4.48,
          7.729999999999983,
          -0.35000000000005116,
          5.849999999999998,
          6.869999999999985,
          4.939999999999982,
          8.959999999999983,
          -0.3800000000000061,
          1.3499999999999592,
          4.659999999999975,
          6.349999999999966,
          -0.33000000000003443,
          1.1400000000000023,
          6.300000000000015,
          5.429999999999996,
          1.0799999999999552,
          5.839999999999986,
          0.8099999999999308,
          2.4199999999999906,
          3.35,
          8.699999999999987,
          0.7099999999999467,
          2.7799999999999763,
          2.149999999999995,
          2.789999999999975,
          6.349999999999966,
          5.700000000000003,
          5.429999999999966,
          4.790000000000013,
          4.209999999999999,
          5.719999999999985,
          4.919999999999984
         ],
         "y": [
          0.6726339739620321,
          0.5074851431498208,
          0.5301247809245179,
          0.48011378508125996,
          0.42689036667589536,
          0.4908878362402094,
          0.5714620331971638,
          0.4328157735129957,
          0.4949342836481579,
          0.5753954313519679,
          0.5234585029237416,
          0.3687033231526026,
          0.6297352203416822,
          0.48192228912612917,
          0.6710937136204876,
          0.5439607986101678,
          0.5866996470824387,
          0.39541344924168886,
          0.6508191632629956,
          0.6710937136204876,
          0.4904081298764319,
          0.7424809037870467,
          0.6063126695480123,
          0.4508007142303757,
          0.5056009637666541,
          0.5905540384381078,
          0.4511714407018229,
          0.6038695561009505,
          0.6891427828454191,
          0.5181975892423646,
          0.5500370584979594,
          0.44524124408246196,
          0.5288050238386593,
          0.47978614532523184,
          0.5792145793131324,
          0.6605241023942651,
          0.6049595027768383,
          0.5329126107384932,
          0.5201873547075326,
          0.5098184869947305,
          0.6225568317555608,
          0.5775713807426511,
          0.5500370584979594,
          0.5466020921858977,
          0.47557067732967123,
          0.40667217069005557,
          0.5116461087395514,
          0.5197439267249939,
          0.5449972915058918,
          0.48077477861791174,
          0.6063126695480123,
          0.4679432145923594,
          0.4741178937530749,
          0.4984219147307116,
          0.44253351690041137,
          0.431303940212671,
          0.3785409516519472,
          0.6225568317555608,
          0.5221192438524916,
          0.6865897189565762,
          0.6521386411310368,
          0.6726339739620321,
          0.47035132271739877,
          0.5256007654242967,
          0.6564193548049594,
          0.5477864058546899,
          0.44874733821351914,
          0.5441463944122714,
          0.37498551772589145,
          0.45695510974092285,
          0.5626557028947632,
          0.3991075057061403,
          0.5792145793131324,
          0.5384934063858158,
          0.5209500456183339,
          0.48036058454961894,
          0.5714620331971638,
          0.6969350106213854,
          0.4863278686727202,
          0.42689036667589536,
          0.3453409936799688,
          0.48011378508125996,
          0.4508007142303757,
          0.6438489923031092,
          0.42142418764912815,
          0.7147369806094632,
          0.5067319104624584,
          0.5679093818093166,
          0.5439607986101678,
          0.5201873547075326,
          0.4945255863507522,
          0.6019075639388859,
          0.6660364778626989,
          0.7437722925809395,
          0.4669881084737834,
          0.6641472044631906,
          0.7151922603197677,
          0.5266822872412161,
          0.5004939903485359,
          0.509729197563083,
          0.7094108823902746,
          0.43521040746451817,
          0.44253351690041137,
          0.5870223064227758,
          0.4725222024772062,
          0.48026616034766234,
          0.3905804811661667,
          0.7042613029269191,
          0.48036058454961894,
          0.6906063539344784,
          0.4983789456509713,
          0.6394190642551492,
          0.5151458855962182,
          0.48648446619301977,
          0.4466748278544831,
          0.5597608698408264,
          0.4653341796605213,
          0.6605241023942651,
          0.5209500456183339,
          0.5838012066434896,
          0.5075894942482571,
          0.4348202826423773,
          0.5477864058546899,
          0.4508007142303757,
          0.5366364890302899,
          0.5420866763623196,
          0.5256259760197045,
          0.6597735751018657,
          0.7071963183060546,
          0.40472411196430214,
          0.5110256549301566,
          0.5426699836943746,
          0.48036058454961894,
          0.548524447023982,
          0.5136836239906977,
          0.6738716890138933,
          0.5619690145669362,
          0.4694401583628492,
          0.4805351265397599,
          0.47978614532523184,
          0.37753585589005756,
          0.5275913381766514,
          0.5477864058546899,
          0.4715710325648992,
          0.45823152858227495,
          0.3926167655813515,
          0.5085599910166059,
          0.3453409936799688,
          0.5229666351775383,
          0.4348202826423773,
          0.48336892902000866,
          0.6906063539344784,
          0.417029097256309,
          0.6161632381882863,
          0.5229666351775383,
          0.5266822872412161,
          0.38311402293656244,
          0.42694353856683015,
          0.5479382229516031,
          0.5884904475909273,
          0.44778223015289653,
          0.5477864058546899,
          0.5870223064227758,
          0.47370233624966296,
          0.46101043877766984,
          0.5765406636124195,
          0.5524348730980996,
          0.36538792171243567,
          0.4485190702761521,
          0.5004939903485359,
          0.44874733821351914,
          0.6381631856644456,
          0.43854377245512,
          0.6930559033780033,
          0.6289513980516386,
          0.5998367672763506,
          0.5172961498664638,
          0.4694401583628492,
          0.4680968345737438,
          0.5516458019878563,
          0.5409514909449425,
          0.37753585589005756,
          0.5451840389592529,
          0.5767027825093065,
          0.49499260896182024,
          0.6438489923031092,
          0.49352407365676554,
          0.3920324199381328,
          0.5626557028947632,
          0.5469530032646341,
          0.47791077480810773,
          0.5785477577307082,
          0.5193321952028793,
          0.4735810836898332,
          0.5040649160765645,
          0.5500370584979594,
          0.5074851431498208,
          0.5366364890302899,
          0.49286136891711296,
          0.40334299819954395,
          0.46820359085320007,
          0.5366364890302899,
          0.6710937136204876,
          0.4519136880035372,
          0.5722702773742467,
          0.5112618239099664,
          0.511220574030735,
          0.5074851431498208,
          0.4467697642211503,
          0.6244452939644278,
          0.36532617764091313,
          0.46820359085320007,
          0.4736114068578607,
          0.5274407959380536,
          0.584740529707447,
          0.4485190702761521,
          0.5500370584979594,
          0.3990844688899705,
          0.42992772144956254,
          0.44755854848386883,
          0.6198994613596706,
          0.5420866763623196,
          0.44524124408246196,
          0.5100901767956205,
          0.6812796066433789,
          0.47025209000387325,
          0.4803656008354054,
          0.5366364890302899,
          0.5259747761922308,
          0.5102706753972844,
          0.509729197563083,
          0.43521040746451817,
          0.5428602410143848,
          0.4830281111809425,
          0.6736962938660869,
          0.548524447023982,
          0.45302336897725903,
          0.34695643712547974,
          0.548524447023982,
          0.6221699762042051,
          0.6035942835809481,
          0.5172961498664638,
          0.3897391129682589,
          0.5366364890302899,
          0.42123685632958907,
          0.6800722411315974,
          0.47589427189733136,
          0.4990175380454475,
          0.5250869222632197,
          0.5439693240421241,
          0.4485190702761521,
          0.42271100479261076,
          0.5686495485495983,
          0.7034494423759521,
          0.5526112286271485,
          0.5475526438531012,
          0.4759319777209294,
          0.5597608698408264,
          0.40165347925899475,
          0.4812925871947802,
          0.41081670596245035,
          0.5847121076982148,
          0.680813749087623,
          0.4832167786981528,
          0.534432267821554,
          0.5915190519173185,
          0.42689036667589536,
          0.551519406748875,
          0.44726488409354226,
          0.5434623438497851,
          0.5769403447334244,
          0.43521040746451817,
          0.4040059039647229,
          0.5434840411815778,
          0.5006000362375684,
          0.45302336897725903,
          0.47091236781502854,
          0.3530630087249946,
          0.5297290349836667,
          0.42716041576198377,
          0.4932656898728967,
          0.48353989376017253,
          0.45477318609791756,
          0.5734422926671785,
          0.45302336897725903,
          0.4534234073858975,
          0.42948423720942513,
          0.626172470419301,
          0.5551614874267249,
          0.6325984840784596,
          0.5439693240421241,
          0.5180750372156978,
          0.6461967030737316,
          0.6225568317555608,
          0.49835390886469977,
          0.4822257221041026,
          0.576999277846508,
          0.44694089894594763,
          0.4242326728403045,
          0.5626557028947632,
          0.5500370584979594,
          0.5719670968239664,
          0.4435265407167571,
          0.6587764050983478,
          0.5740259337905861,
          0.5860013981828972,
          0.4774664304188001,
          0.5267178501236123,
          0.6221699762042051,
          0.4398771311353514,
          0.5274407959380536,
          0.5479491780677915,
          0.4679432145923594,
          0.5188750727595509,
          0.5274407959380536,
          0.5422339508244519,
          0.5252491076272752,
          0.5419951826540846,
          0.5817747588011064,
          0.680813749087623,
          0.4398771311353514,
          0.5479382229516031,
          0.5821921865423767,
          0.4830281111809425,
          0.47661949742821,
          0.5366298516045636,
          0.48402588228034704,
          0.5193321952028793,
          0.7019025092498714,
          0.48353989376017253,
          0.5908240356174431,
          0.5047780673643624,
          0.5767027825093065,
          0.5870223064227758,
          0.41658113173722894,
          0.6671454487437186,
          0.3921821330514237,
          0.6551003136149738,
          0.48113607685324583,
          0.5256259760197045,
          0.40424888132554454,
          0.5420162705658229,
          0.5517518367809289,
          0.4749494781789643,
          0.5715449974411286,
          0.5291155593215601,
          0.48537780865170865,
          0.5870223064227758,
          0.5191724086276638,
          0.6587764050983478,
          0.6778316909445138,
          0.5700797439842002,
          0.5495080110713253,
          0.4752053351386301,
          0.5479491780677915,
          0.43004418798037725,
          0.5621040546791435,
          0.4932656898728967,
          0.5040649160765645,
          0.5109951076086733,
          0.46569586377603145,
          0.5769403447334244,
          0.6551003136149738,
          0.48690112171976113,
          0.5501061091467967,
          0.5626557028947632,
          0.6755710768799629,
          0.4935612063352356,
          0.3657994620911148,
          0.5182185723261311,
          0.5812414794082738,
          0.5172961498664638,
          0.3963960028658621,
          0.5193321952028793,
          0.5439246862132775,
          0.5500370584979594,
          0.4774664304188001,
          0.4253127393765584,
          0.5420866763623196,
          0.5169982903726775,
          0.5845376762392608,
          0.4869009652035734,
          0.6726971807527129,
          0.7369432599993881,
          0.5737058255683969,
          0.49286136891711296,
          0.551519406748875,
          0.5492647517422244,
          0.5495080110713253,
          0.5297290349836667,
          0.7382311708800657,
          0.533814575662531,
          0.5045189651090215,
          0.5134879361769494,
          0.4507486365296438,
          0.5191212393947655,
          0.4900657667929,
          0.5181234242061477,
          0.6513569653150606,
          0.5074851431498208,
          0.5176567010203944,
          0.4669881084737834,
          0.5767027825093065,
          0.5250869222632197,
          0.7035385134513225,
          0.6366832324331606,
          0.5785477577307082,
          0.4833771876998535,
          0.5035554732268073,
          0.5136836239906977,
          0.5325688966036501,
          0.5069104832941058,
          0.41504060609656196,
          0.4812925871947802,
          0.5728712246220788,
          0.47978614532523184,
          0.46762869368304283,
          0.5015346599404977,
          0.5439693240421241,
          0.6221699762042051,
          0.46788156902121886,
          0.4892530402715614,
          0.5734807330928685,
          0.44300182537315846,
          0.4785889690650794,
          0.7199582642951722,
          0.36283598522397215,
          0.46101043877766984,
          0.5465156851128834,
          0.4040059039647229,
          0.511111559679559,
          0.7369432599993881,
          0.5507142836555289,
          0.40659192158920976,
          0.3662897188653471,
          0.522540392909699,
          0.4636084322338914,
          0.5115503802492403,
          0.7208786579867765,
          0.6541994120666111,
          0.4626382706836239,
          0.4594552586132712,
          0.7035385134513225,
          0.5870223064227758,
          0.5870223064227758,
          0.5501061091467967,
          0.5466465946505872,
          0.6227928187626042,
          0.5462933473372816,
          0.5501061091467967,
          0.5430873013164571,
          0.5921540361118585,
          0.48077477861791174,
          0.42992772144956254,
          0.5786967520630925,
          0.5295296206635284,
          0.5479382229516031,
          0.372393025038,
          0.3894034973498595,
          0.5035554732268073,
          0.5235182287726188,
          0.48054308953480324,
          0.5597608698408264,
          0.4900975191033848,
          0.5250869222632197,
          0.4892530402715614,
          0.4613992687926976,
          0.6587216125644021,
          0.4222492540208287,
          0.5520049779658747,
          0.42401082372866417,
          0.5995514993520614,
          0.4519635512238725,
          0.5619170317299104,
          0.5465156851128834,
          0.532627032317696,
          0.45928253201583413,
          0.4619362803414856,
          0.7698348360138583,
          0.7674526852291962,
          0.6474085645886379,
          0.6608546161192351,
          0.6931162662638406,
          0.5793940113257212,
          0.626200293747112,
          0.42142418764912815,
          0.5419951826540846,
          0.606884068144997,
          0.5471595131871928,
          0.6521386411310368,
          0.6228013023359518,
          0.4694401583628492,
          0.5479382229516031,
          0.5734807330928685,
          0.6387402865698784,
          0.5250869222632197,
          0.5251109802463739,
          0.4735810836898332,
          0.4680374522178297,
          0.42992772144956254,
          0.7437104727008492,
          0.6043534370904803,
          0.6346140661018053,
          0.5103782089013563,
          0.5256259760197045,
          0.5435067646803697,
          0.4003799213206045,
          0.47247755253936335,
          0.47661949742821,
          0.4014130202877035,
          0.6469523879623985,
          0.6366832324331606,
          0.5539800639766034,
          0.6397011613853781,
          0.5193321952028793,
          0.4662404437982689,
          0.3924203921137035,
          0.4602323378026902,
          0.35673883954322044,
          0.5854861482996389,
          0.5381952392538933,
          0.5252007498011899,
          0.5434623438497851,
          0.5999341688100206,
          0.6469523879623985,
          0.5870223064227758,
          0.4603851821622516,
          0.5870223064227758,
          0.46554294818962383,
          0.4542432064319393,
          0.34695643712547974,
          0.47466122333669797,
          0.4519635512238725,
          0.47923783459702746,
          0.513591548801764,
          0.5035554732268073,
          0.676149523337231,
          0.522540392909699,
          0.5477864058546899,
          0.5040649160765645,
          0.49352407365676554,
          0.5529706727634947,
          0.5183746306012839,
          0.5439246862132775,
          0.49943052465378185,
          0.5349820860539668,
          0.4485371146403341,
          0.7369432599993881,
          0.545323084432884,
          0.5172961498664638,
          0.6153714542182356,
          0.40048415583356617,
          0.546360035871172,
          0.6469523879623985,
          0.37753585589005756,
          0.42786188527596225,
          0.5715449974411286,
          0.5183312059370282,
          0.7144707289085246,
          0.5532192653510501,
          0.45302336897725903,
          0.49942632378816615,
          0.511220574030735,
          0.6300518176612889,
          0.49286136891711296,
          0.4909145492559799,
          0.45477318609791756,
          0.4910447900422773,
          0.4831363158220817,
          0.6891968614946775,
          0.500838356115939,
          0.49890867030111935,
          0.5190212905236803,
          0.5255212696697283,
          0.5767027825093065,
          0.4945255863507522,
          0.5435542475190795,
          0.5439246862132775,
          0.35647248503330775,
          0.6865897189565762,
          0.5461454623980657,
          0.5937478102883597,
          0.651527078819646,
          0.5517868601046395,
          0.5870223064227758,
          0.5479382229516031,
          0.5861954271102473,
          0.7119599468154018,
          0.5966288910211844,
          0.47661949742821,
          0.551519406748875,
          0.6260492142793411,
          0.5198831543068042,
          0.5866521816393612,
          0.5501061091467967,
          0.47702860765053373,
          0.49892095118482316,
          0.5151458855962182,
          0.6619152477658878,
          0.5906202937259662,
          0.4669881084737834,
          0.7437104727008492,
          0.5172961498664638,
          0.4831363158220817,
          0.642397346139689,
          0.4679432145923594,
          0.6387402865698784,
          0.5297290349836667,
          0.5443628336695009,
          0.6563871709825759,
          0.5479491780677915,
          0.46554294818962383,
          0.5251109802463739,
          0.5297290349836667,
          0.47661949742821,
          0.6161632381882863,
          0.7369432599993881,
          0.5674768482795869,
          0.4636084322338914,
          0.5539800639766034,
          0.5277920244681025,
          0.5501061091467967,
          0.6778316909445138,
          0.49286136891711296,
          0.5059443928930262,
          0.5039846106088245,
          0.5044159834650368,
          0.47025209000387325,
          0.7144707289085246,
          0.6778316909445138,
          0.41293505255413426,
          0.4883770272773339,
          0.4519136880035372,
          0.4935612063352356,
          0.47421702052108416,
          0.48059319769793374,
          0.5501061091467967,
          0.6093261600713471,
          0.6461967030737316,
          0.5381952392538933,
          0.3905804811661667,
          0.3920324199381328,
          0.7369432599993881,
          0.5670901423492309,
          0.41075217525827196,
          0.49907315406436975,
          0.3963960028658621,
          0.6530220896975911,
          0.5572079082627848,
          0.5172961498664638,
          0.3909421310087522,
          0.5435618020540555,
          0.4679908327105711,
          0.5278395939037501,
          0.6201956934910562,
          0.5507142836555289,
          0.5210445796029979,
          0.5870223064227758,
          0.5439693240421241,
          0.46690755687466295,
          0.5439693240421241,
          0.6325984840784596,
          0.5449972915058918,
          0.7144707289085246,
          0.428167100692828,
          0.35287433121106293,
          0.6383091581258599,
          0.5074851431498208,
          0.5308312877346932,
          0.41293505255413426,
          0.43521040746451817,
          0.5486742580110043,
          0.4485190702761521,
          0.5516685961698382,
          0.5612970992657261,
          0.5501061091467967,
          0.47025209000387325,
          0.5580797378148458,
          0.6846004327945711,
          0.45412951542489016,
          0.4752053351386301,
          0.3894806989360962,
          0.44874733821351914,
          0.48537780865170865,
          0.4990175380454475,
          0.6551003136149738,
          0.5071184920933286,
          0.5191724086276638,
          0.49762959674946894,
          0.47370233624966296,
          0.4514207227243323,
          0.6069278797741668,
          0.6478057205191945,
          0.6161632381882863,
          0.5080091579692305,
          0.5172010140060528,
          0.5845376762392608,
          0.4702165004083073,
          0.5767027825093065,
          0.5966288910211844,
          0.676149523337231,
          0.5768126982729221,
          0.5715449974411286,
          0.4214969048898913,
          0.6049595027768383,
          0.5080091579692305,
          0.6814626270722663,
          0.5792145793131324,
          0.4534234073858975,
          0.5439246862132775,
          0.4594552586132712,
          0.46762869368304283,
          0.4555874300972156,
          0.5720935357856799,
          0.7116886059664029,
          0.5195398109151805,
          0.510708484225206,
          0.4613992687926976,
          0.4647880157125473,
          0.42948423720942513,
          0.47411265428895294,
          0.5445910841070477,
          0.5439693240421241,
          0.5434623438497851,
          0.49640457575899444,
          0.38883409788580847,
          0.4329652229654485,
          0.5479382229516031,
          0.45924761311876494,
          0.527699361972335,
          0.5197338256061944,
          0.5435618020540555,
          0.5172961498664638,
          0.5143526503177455,
          0.48353989376017253,
          0.5032104743579121,
          0.48034551020638294,
          0.6469523879623985,
          0.3687033231526026,
          0.5929850773325224,
          0.6449318848488379,
          0.5469530032646341,
          0.4544527745135228,
          0.5420434200618024,
          0.7437104727008492,
          0.5069572022027307,
          0.39883669681817985,
          0.526958501423236,
          0.4952992618171459,
          0.6396415584017142,
          0.4433868373178892,
          0.3963960028658621,
          0.42401082372866417,
          0.5439246862132775,
          0.5472165703399067,
          0.4507486365296438,
          0.621480433306106,
          0.5384934063858158,
          0.5792145793131324,
          0.500838356115939,
          0.5420162705658229,
          0.5384934063858158,
          0.5838012066434896,
          0.6015365510276345,
          0.4752053351386301,
          0.5193321952028793,
          0.554952677513108,
          0.5367229563628859,
          0.47284835962543487,
          0.5945929229657796,
          0.4679908327105711,
          0.47824751452594033,
          0.5439693240421241,
          0.4681069247196859,
          0.5172961498664638,
          0.4426194264436952,
          0.5532192653510501,
          0.7369432599993881,
          0.3941780027321416,
          0.7369432599993881,
          0.5734807330928685,
          0.49943052465378185,
          0.46057434985775114,
          0.47035132271739877,
          0.6591615026505129,
          0.37773618381877533,
          0.45570425612190557,
          0.6038695561009505,
          0.6139601902162851,
          0.7424809037870467,
          0.3937361521848701,
          0.500838356115939,
          0.5749281024975021,
          0.42467905985018406,
          0.48484981060424776,
          0.5661164048359293,
          0.5124199471834583,
          0.4752053351386301,
          0.5661821820848079,
          0.5384934063858158,
          0.5501061091467967,
          0.6824939197866732,
          0.5069189622849356,
          0.6325984840784596,
          0.5758850670346274,
          0.3894806989360962,
          0.4885510502340643,
          0.6623774115477612,
          0.5439246862132775,
          0.5384934063858158,
          0.6247562106632023,
          0.5197210806640667,
          0.4662404437982689,
          0.5870223064227758,
          0.4749494781789643,
          0.4870141132785997,
          0.4869009652035734,
          0.5826560235922235,
          0.5174303288067326,
          0.4791349471473091,
          0.5939418003661826,
          0.606884068144997,
          0.5420162705658229,
          0.4211371455856101,
          0.4159819957569686,
          0.5115503802492403,
          0.4701686953383054,
          0.6221699762042051,
          0.6918602998844582,
          0.6647500489652058,
          0.48059319769793374,
          0.5084858624146474,
          0.5308312877346932,
          0.4869009652035734,
          0.6449318848488379,
          0.5035554732268073,
          0.43905407749360925,
          0.5785477577307082,
          0.5479382229516031,
          0.621480433306106,
          0.6541994120666111,
          0.42737452394144543,
          0.47376420557206395,
          0.4507486365296438,
          0.3893332036833031,
          0.43095139067369925,
          0.5053174042246575,
          0.5808086673296133,
          0.5862115298731612,
          0.5381952392538933,
          0.47421702052108416,
          0.548524447023982,
          0.35905582142517245,
          0.6537421311593486,
          0.6778316909445138,
          0.7152363014727154,
          0.6314773859906613,
          0.45928253201583413,
          0.4636084322338914,
          0.5826560235922235,
          0.5384934063858158,
          0.35287433121106293,
          0.42716041576198377,
          0.545323084432884,
          0.6464270131704555,
          0.4240957913578523,
          0.652362552119819,
          0.4211371455856101,
          0.49943052465378185,
          0.4910447900422773,
          0.6720433769161531,
          0.410450956454387,
          0.4940070075957612,
          0.4932656898728967,
          0.5045189651090215,
          0.5384934063858158,
          0.5419343481329343,
          0.6826772020319728,
          0.5057037021567078,
          0.5265609680060727,
          0.5092765163454378,
          0.633067926845137
         ]
        },
        {
         "hovertemplate": "%{text}<extra>Best Trial</extra>",
         "marker": {
          "color": [
           54,
           81,
           140,
           152,
           162,
           170,
           179,
           194,
           196,
           209,
           215,
           224,
           278,
           295,
           330,
           333,
           334,
           361,
           372,
           383,
           384,
           393,
           403,
           407,
           411,
           421,
           435,
           438,
           443,
           452,
           464,
           469,
           475,
           477,
           480,
           493,
           495,
           501,
           522,
           528,
           531,
           534,
           539,
           545,
           556,
           574,
           575,
           576,
           579,
           583,
           586,
           593,
           598,
           621,
           627,
           634,
           638,
           647,
           648,
           653,
           667,
           684,
           687,
           699,
           705,
           714,
           717,
           719,
           737,
           744,
           747,
           749,
           753,
           754,
           757,
           758,
           775,
           776,
           781,
           801,
           802,
           818,
           821,
           825,
           827,
           832,
           840,
           845,
           849,
           855,
           861,
           866,
           868,
           874,
           880,
           902,
           903,
           904,
           911,
           923,
           926,
           931,
           932,
           934,
           935,
           936,
           939,
           947,
           948,
           951,
           959,
           971,
           974,
           982,
           987,
           988,
           990,
           994
          ],
          "colorbar": {
           "title": {
            "text": "Best Trial"
           },
           "x": 1.1,
           "xpad": 40
          },
          "colorscale": [
           [
            0,
            "rgb(255,245,240)"
           ],
           [
            0.125,
            "rgb(254,224,210)"
           ],
           [
            0.25,
            "rgb(252,187,161)"
           ],
           [
            0.375,
            "rgb(252,146,114)"
           ],
           [
            0.5,
            "rgb(251,106,74)"
           ],
           [
            0.625,
            "rgb(239,59,44)"
           ],
           [
            0.75,
            "rgb(203,24,29)"
           ],
           [
            0.875,
            "rgb(165,15,21)"
           ],
           [
            1,
            "rgb(103,0,13)"
           ]
          ],
          "line": {
           "color": "Grey",
           "width": 0.5
          }
         },
         "mode": "markers",
         "showlegend": false,
         "text": [
          "{<br>  \"number\": 54,<br>  \"values\": [<br>    8.34,<br>    0.5502561699354089<br>  ],<br>  \"params\": {<br>    \"take_profit\": 0.30439065920302155,<br>    \"stop_loss\": 0.5304113232844587<br>  }<br>}",
          "{<br>  \"number\": 81,<br>  \"values\": [<br>    7.389999999999997,<br>    0.5438379486076034<br>  ],<br>  \"params\": {<br>    \"take_profit\": 0.2528018514104881,<br>    \"stop_loss\": 0.5349177715800677<br>  }<br>}",
          "{<br>  \"number\": 140,<br>  \"values\": [<br>    5.559999999999974,<br>    0.49333133405392976<br>  ],<br>  \"params\": {<br>    \"take_profit\": 0.15532629544967783,<br>    \"stop_loss\": 0.43824973456478217<br>  }<br>}",
          "{<br>  \"number\": 152,<br>  \"values\": [<br>    5.059999999999992,<br>    0.4869723313665133<br>  ],<br>  \"params\": {<br>    \"take_profit\": 0.15532629544967783,<br>    \"stop_loss\": 0.41218749413818806<br>  }<br>}",
          "{<br>  \"number\": 162,<br>  \"values\": [<br>    9.839999999999982,<br>    0.5926793343745277<br>  ],<br>  \"params\": {<br>    \"take_profit\": 0.4193862236915465,<br>    \"stop_loss\": 0.41254554790994874<br>  }<br>}",
          "{<br>  \"number\": 170,<br>  \"values\": [<br>    2.1299999999999546,<br>    0.4143353224766091<br>  ],<br>  \"params\": {<br>    \"take_profit\": 0.10031970000183371,<br>    \"stop_loss\": 0.2228112396938116<br>  }<br>}",
          "{<br>  \"number\": 179,<br>  \"values\": [<br>    8.34,<br>    0.5502561699354089<br>  ],<br>  \"params\": {<br>    \"take_profit\": 0.3046618797061607,<br>    \"stop_loss\": 0.5369060645414534<br>  }<br>}",
          "{<br>  \"number\": 194,<br>  \"values\": [<br>    7.389999999999997,<br>    0.5438379486076034<br>  ],<br>  \"params\": {<br>    \"take_profit\": 0.2528018514104881,<br>    \"stop_loss\": 0.5349177715800677<br>  }<br>}",
          "{<br>  \"number\": 196,<br>  \"values\": [<br>    8.34,<br>    0.5502561699354089<br>  ],<br>  \"params\": {<br>    \"take_profit\": 0.3046618797061607,<br>    \"stop_loss\": 0.5349177715800677<br>  }<br>}",
          "{<br>  \"number\": 209,<br>  \"values\": [<br>    7.389999999999997,<br>    0.5438379486076034<br>  ],<br>  \"params\": {<br>    \"take_profit\": 0.2528018514104881,<br>    \"stop_loss\": 0.5423212697820018<br>  }<br>}",
          "{<br>  \"number\": 215,<br>  \"values\": [<br>    8.34,<br>    0.5502561699354089<br>  ],<br>  \"params\": {<br>    \"take_profit\": 0.3046618797061607,<br>    \"stop_loss\": 0.5369060645414534<br>  }<br>}",
          "{<br>  \"number\": 224,<br>  \"values\": [<br>    6.059999999999977,<br>    0.5060598488763149<br>  ],<br>  \"params\": {<br>    \"take_profit\": 0.3322178556912239,<br>    \"stop_loss\": 0.29129255144850197<br>  }<br>}",
          "{<br>  \"number\": 278,<br>  \"values\": [<br>    4.9199999999999875,<br>    0.4373138172950719<br>  ],<br>  \"params\": {<br>    \"take_profit\": 0.13138358969635155,<br>    \"stop_loss\": 0.3026282171902923<br>  }<br>}",
          "{<br>  \"number\": 295,<br>  \"values\": [<br>    0.579999999999925,<br>    0.39619674155432916<br>  ],<br>  \"params\": {<br>    \"take_profit\": 0.0595366319200447,<br>    \"stop_loss\": 0.22234287162233085<br>  }<br>}",
          "{<br>  \"number\": 330,<br>  \"values\": [<br>    5.059999999999992,<br>    0.4869723313665133<br>  ],<br>  \"params\": {<br>    \"take_profit\": 0.15532629544967783,<br>    \"stop_loss\": 0.41218749413818806<br>  }<br>}",
          "{<br>  \"number\": 333,<br>  \"values\": [<br>    5.559999999999974,<br>    0.49333133405392976<br>  ],<br>  \"params\": {<br>    \"take_profit\": 0.15635221511028574,<br>    \"stop_loss\": 0.43824973456478217<br>  }<br>}",
          "{<br>  \"number\": 334,<br>  \"values\": [<br>    9.839999999999982,<br>    0.5926793343745277<br>  ],<br>  \"params\": {<br>    \"take_profit\": 0.4193862236915465,<br>    \"stop_loss\": 0.41254554790994874<br>  }<br>}",
          "{<br>  \"number\": 361,<br>  \"values\": [<br>    7.219999999999999,<br>    0.5231284694561709<br>  ],<br>  \"params\": {<br>    \"take_profit\": 0.3039315069644288,<br>    \"stop_loss\": 0.4234704987991215<br>  }<br>}",
          "{<br>  \"number\": 372,<br>  \"values\": [<br>    8.839999999999975,<br>    0.5515893628309656<br>  ],<br>  \"params\": {<br>    \"take_profit\": 0.42477134448096265,<br>    \"stop_loss\": 0.25760257173708784<br>  }<br>}",
          "{<br>  \"number\": 383,<br>  \"values\": [<br>    0.579999999999925,<br>    0.39619674155432916<br>  ],<br>  \"params\": {<br>    \"take_profit\": 0.0595366319200447,<br>    \"stop_loss\": 0.22234287162233085<br>  }<br>}",
          "{<br>  \"number\": 384,<br>  \"values\": [<br>    5.559999999999974,<br>    0.49333133405392976<br>  ],<br>  \"params\": {<br>    \"take_profit\": 0.15532629544967783,<br>    \"stop_loss\": 0.43824973456478217<br>  }<br>}",
          "{<br>  \"number\": 393,<br>  \"values\": [<br>    8.34,<br>    0.5502561699354089<br>  ],<br>  \"params\": {<br>    \"take_profit\": 0.3046618797061607,<br>    \"stop_loss\": 0.5349177715800677<br>  }<br>}",
          "{<br>  \"number\": 403,<br>  \"values\": [<br>    0.579999999999925,<br>    0.39619674155432916<br>  ],<br>  \"params\": {<br>    \"take_profit\": 0.0595366319200447,<br>    \"stop_loss\": 0.22234287162233085<br>  }<br>}",
          "{<br>  \"number\": 407,<br>  \"values\": [<br>    8.34,<br>    0.5502561699354089<br>  ],<br>  \"params\": {<br>    \"take_profit\": 0.3046618797061607,<br>    \"stop_loss\": 0.5349177715800677<br>  }<br>}",
          "{<br>  \"number\": 411,<br>  \"values\": [<br>    9.839999999999982,<br>    0.5926793343745277<br>  ],<br>  \"params\": {<br>    \"take_profit\": 0.4193862236915465,<br>    \"stop_loss\": 0.41254554790994874<br>  }<br>}",
          "{<br>  \"number\": 421,<br>  \"values\": [<br>    8.34,<br>    0.5502561699354089<br>  ],<br>  \"params\": {<br>    \"take_profit\": 0.3046618797061607,<br>    \"stop_loss\": 0.5349177715800677<br>  }<br>}",
          "{<br>  \"number\": 435,<br>  \"values\": [<br>    8.839999999999975,<br>    0.5515893628309656<br>  ],<br>  \"params\": {<br>    \"take_profit\": 0.42545111034469985,<br>    \"stop_loss\": 0.25760257173708784<br>  }<br>}",
          "{<br>  \"number\": 438,<br>  \"values\": [<br>    8.34,<br>    0.5502561699354089<br>  ],<br>  \"params\": {<br>    \"take_profit\": 0.3046618797061607,<br>    \"stop_loss\": 0.5369060645414534<br>  }<br>}",
          "{<br>  \"number\": 443,<br>  \"values\": [<br>    5.059999999999992,<br>    0.4869723313665133<br>  ],<br>  \"params\": {<br>    \"take_profit\": 0.15532629544967783,<br>    \"stop_loss\": 0.41218749413818806<br>  }<br>}",
          "{<br>  \"number\": 452,<br>  \"values\": [<br>    6.059999999999977,<br>    0.5060598488763149<br>  ],<br>  \"params\": {<br>    \"take_profit\": 0.3322178556912239,<br>    \"stop_loss\": 0.29129255144850197<br>  }<br>}",
          "{<br>  \"number\": 464,<br>  \"values\": [<br>    5.059999999999992,<br>    0.4869723313665133<br>  ],<br>  \"params\": {<br>    \"take_profit\": 0.15532629544967783,<br>    \"stop_loss\": 0.41254554790994874<br>  }<br>}",
          "{<br>  \"number\": 469,<br>  \"values\": [<br>    0.579999999999925,<br>    0.39619674155432916<br>  ],<br>  \"params\": {<br>    \"take_profit\": 0.0595366319200447,<br>    \"stop_loss\": 0.22234287162233085<br>  }<br>}",
          "{<br>  \"number\": 475,<br>  \"values\": [<br>    8.179999999999978,<br>    0.5441984884879929<br>  ],<br>  \"params\": {<br>    \"take_profit\": 0.41889084018018036,<br>    \"stop_loss\": 0.25760257173708784<br>  }<br>}",
          "{<br>  \"number\": 477,<br>  \"values\": [<br>    0.4299999999999198,<br>    0.3421673713257881<br>  ],<br>  \"params\": {<br>    \"take_profit\": 0.0595366319200447,<br>    \"stop_loss\": 0.05286499173453086<br>  }<br>}",
          "{<br>  \"number\": 480,<br>  \"values\": [<br>    5.059999999999992,<br>    0.4869723313665133<br>  ],<br>  \"params\": {<br>    \"take_profit\": 0.15532629544967783,<br>    \"stop_loss\": 0.41218749413818806<br>  }<br>}",
          "{<br>  \"number\": 493,<br>  \"values\": [<br>    10.539999999999981,<br>    0.5961558731025934<br>  ],<br>  \"params\": {<br>    \"take_profit\": 0.4193862236915465,<br>    \"stop_loss\": 0.4234704987991215<br>  }<br>}",
          "{<br>  \"number\": 495,<br>  \"values\": [<br>    8.34,<br>    0.5502561699354089<br>  ],<br>  \"params\": {<br>    \"take_profit\": 0.3018572374235954,<br>    \"stop_loss\": 0.5369060645414534<br>  }<br>}",
          "{<br>  \"number\": 501,<br>  \"values\": [<br>    5.059999999999992,<br>    0.4869723313665133<br>  ],<br>  \"params\": {<br>    \"take_profit\": 0.15532629544967783,<br>    \"stop_loss\": 0.41218749413818806<br>  }<br>}",
          "{<br>  \"number\": 522,<br>  \"values\": [<br>    6.059999999999977,<br>    0.5060598488763149<br>  ],<br>  \"params\": {<br>    \"take_profit\": 0.3335223475467165,<br>    \"stop_loss\": 0.29859349885281383<br>  }<br>}",
          "{<br>  \"number\": 528,<br>  \"values\": [<br>    0.579999999999925,<br>    0.39619674155432916<br>  ],<br>  \"params\": {<br>    \"take_profit\": 0.0595366319200447,<br>    \"stop_loss\": 0.22234287162233085<br>  }<br>}",
          "{<br>  \"number\": 531,<br>  \"values\": [<br>    5.559999999999974,<br>    0.49333133405392976<br>  ],<br>  \"params\": {<br>    \"take_profit\": 0.15635221511028574,<br>    \"stop_loss\": 0.43824973456478217<br>  }<br>}",
          "{<br>  \"number\": 534,<br>  \"values\": [<br>    8.34,<br>    0.5502561699354089<br>  ],<br>  \"params\": {<br>    \"take_profit\": 0.3046618797061607,<br>    \"stop_loss\": 0.5349177715800677<br>  }<br>}",
          "{<br>  \"number\": 539,<br>  \"values\": [<br>    7.219999999999999,<br>    0.5231284694561709<br>  ],<br>  \"params\": {<br>    \"take_profit\": 0.30244684131197064,<br>    \"stop_loss\": 0.4234704987991215<br>  }<br>}",
          "{<br>  \"number\": 545,<br>  \"values\": [<br>    8.34,<br>    0.5502561699354089<br>  ],<br>  \"params\": {<br>    \"take_profit\": 0.3046618797061607,<br>    \"stop_loss\": 0.5369060645414534<br>  }<br>}",
          "{<br>  \"number\": 556,<br>  \"values\": [<br>    8.34,<br>    0.5502561699354089<br>  ],<br>  \"params\": {<br>    \"take_profit\": 0.3046618797061607,<br>    \"stop_loss\": 0.5369060645414534<br>  }<br>}",
          "{<br>  \"number\": 574,<br>  \"values\": [<br>    7.219999999999999,<br>    0.5231284694561709<br>  ],<br>  \"params\": {<br>    \"take_profit\": 0.3039315069644288,<br>    \"stop_loss\": 0.4234704987991215<br>  }<br>}",
          "{<br>  \"number\": 575,<br>  \"values\": [<br>    3.1499999999999666,<br>    0.4239149828758257<br>  ],<br>  \"params\": {<br>    \"take_profit\": 0.13138358969635155,<br>    \"stop_loss\": 0.24429633598756528<br>  }<br>}",
          "{<br>  \"number\": 576,<br>  \"values\": [<br>    8.34,<br>    0.5502561699354089<br>  ],<br>  \"params\": {<br>    \"take_profit\": 0.3046618797061607,<br>    \"stop_loss\": 0.5349177715800677<br>  }<br>}",
          "{<br>  \"number\": 579,<br>  \"values\": [<br>    8.839999999999975,<br>    0.5515893628309656<br>  ],<br>  \"params\": {<br>    \"take_profit\": 0.42477134448096265,<br>    \"stop_loss\": 0.2560007631902935<br>  }<br>}",
          "{<br>  \"number\": 583,<br>  \"values\": [<br>    7.219999999999999,<br>    0.5231284694561709<br>  ],<br>  \"params\": {<br>    \"take_profit\": 0.30244684131197064,<br>    \"stop_loss\": 0.4234704987991215<br>  }<br>}",
          "{<br>  \"number\": 586,<br>  \"values\": [<br>    9.839999999999982,<br>    0.5926793343745277<br>  ],<br>  \"params\": {<br>    \"take_profit\": 0.4193862236915465,<br>    \"stop_loss\": 0.41254554790994874<br>  }<br>}",
          "{<br>  \"number\": 593,<br>  \"values\": [<br>    8.34,<br>    0.5502561699354089<br>  ],<br>  \"params\": {<br>    \"take_profit\": 0.3039315069644288,<br>    \"stop_loss\": 0.5349177715800677<br>  }<br>}",
          "{<br>  \"number\": 598,<br>  \"values\": [<br>    8.34,<br>    0.5502561699354089<br>  ],<br>  \"params\": {<br>    \"take_profit\": 0.3046618797061607,<br>    \"stop_loss\": 0.5369060645414534<br>  }<br>}",
          "{<br>  \"number\": 621,<br>  \"values\": [<br>    0.579999999999925,<br>    0.39619674155432916<br>  ],<br>  \"params\": {<br>    \"take_profit\": 0.0595366319200447,<br>    \"stop_loss\": 0.22234287162233085<br>  }<br>}",
          "{<br>  \"number\": 627,<br>  \"values\": [<br>    5.059999999999992,<br>    0.4869723313665133<br>  ],<br>  \"params\": {<br>    \"take_profit\": 0.1592520005431407,<br>    \"stop_loss\": 0.41254554790994874<br>  }<br>}",
          "{<br>  \"number\": 634,<br>  \"values\": [<br>    8.839999999999975,<br>    0.5515893628309656<br>  ],<br>  \"params\": {<br>    \"take_profit\": 0.42477134448096265,<br>    \"stop_loss\": 0.25760257173708784<br>  }<br>}",
          "{<br>  \"number\": 638,<br>  \"values\": [<br>    8.179999999999978,<br>    0.5441984884879929<br>  ],<br>  \"params\": {<br>    \"take_profit\": 0.4193862236915465,<br>    \"stop_loss\": 0.25574574904614966<br>  }<br>}",
          "{<br>  \"number\": 647,<br>  \"values\": [<br>    0.8999999999999466,<br>    0.39885710814265407<br>  ],<br>  \"params\": {<br>    \"take_profit\": 0.08479379351163474,<br>    \"stop_loss\": 0.23732324978969815<br>  }<br>}",
          "{<br>  \"number\": 648,<br>  \"values\": [<br>    7.219999999999999,<br>    0.5231284694561709<br>  ],<br>  \"params\": {<br>    \"take_profit\": 0.30244684131197064,<br>    \"stop_loss\": 0.4234704987991215<br>  }<br>}",
          "{<br>  \"number\": 653,<br>  \"values\": [<br>    6.059999999999977,<br>    0.5060598488763149<br>  ],<br>  \"params\": {<br>    \"take_profit\": 0.3322178556912239,<br>    \"stop_loss\": 0.29129255144850197<br>  }<br>}",
          "{<br>  \"number\": 667,<br>  \"values\": [<br>    7.220000000000002,<br>    0.5421760690982197<br>  ],<br>  \"params\": {<br>    \"take_profit\": 0.2707966097582291,<br>    \"stop_loss\": 0.5277578428623528<br>  }<br>}",
          "{<br>  \"number\": 684,<br>  \"values\": [<br>    8.839999999999975,<br>    0.5515893628309656<br>  ],<br>  \"params\": {<br>    \"take_profit\": 0.42477134448096265,<br>    \"stop_loss\": 0.25760257173708784<br>  }<br>}",
          "{<br>  \"number\": 687,<br>  \"values\": [<br>    8.839999999999975,<br>    0.5515893628309656<br>  ],<br>  \"params\": {<br>    \"take_profit\": 0.42806112792762335,<br>    \"stop_loss\": 0.25760257173708784<br>  }<br>}",
          "{<br>  \"number\": 699,<br>  \"values\": [<br>    7.219999999999999,<br>    0.5231284694561709<br>  ],<br>  \"params\": {<br>    \"take_profit\": 0.3039315069644288,<br>    \"stop_loss\": 0.4234704987991215<br>  }<br>}",
          "{<br>  \"number\": 705,<br>  \"values\": [<br>    7.389999999999997,<br>    0.5438379486076034<br>  ],<br>  \"params\": {<br>    \"take_profit\": 0.2528018514104881,<br>    \"stop_loss\": 0.5349177715800677<br>  }<br>}",
          "{<br>  \"number\": 714,<br>  \"values\": [<br>    8.179999999999978,<br>    0.5441984884879929<br>  ],<br>  \"params\": {<br>    \"take_profit\": 0.4193862236915465,<br>    \"stop_loss\": 0.25574574904614966<br>  }<br>}",
          "{<br>  \"number\": 717,<br>  \"values\": [<br>    0.8999999999999466,<br>    0.39885710814265407<br>  ],<br>  \"params\": {<br>    \"take_profit\": 0.08479379351163474,<br>    \"stop_loss\": 0.23732324978969815<br>  }<br>}",
          "{<br>  \"number\": 719,<br>  \"values\": [<br>    8.34,<br>    0.5502561699354089<br>  ],<br>  \"params\": {<br>    \"take_profit\": 0.3039315069644288,<br>    \"stop_loss\": 0.5349177715800677<br>  }<br>}",
          "{<br>  \"number\": 737,<br>  \"values\": [<br>    5.679999999999982,<br>    0.502918626869445<br>  ],<br>  \"params\": {<br>    \"take_profit\": 0.32537123833868614,<br>    \"stop_loss\": 0.29129255144850197<br>  }<br>}",
          "{<br>  \"number\": 744,<br>  \"values\": [<br>    5.059999999999992,<br>    0.4869723313665133<br>  ],<br>  \"params\": {<br>    \"take_profit\": 0.1592520005431407,<br>    \"stop_loss\": 0.41254554790994874<br>  }<br>}",
          "{<br>  \"number\": 747,<br>  \"values\": [<br>    8.919999999999952,<br>    0.5636311982171307<br>  ],<br>  \"params\": {<br>    \"take_profit\": 0.3666194620239973,<br>    \"stop_loss\": 0.433907960374479<br>  }<br>}",
          "{<br>  \"number\": 749,<br>  \"values\": [<br>    7.219999999999999,<br>    0.5231284694561709<br>  ],<br>  \"params\": {<br>    \"take_profit\": 0.3039315069644288,<br>    \"stop_loss\": 0.42718311028329875<br>  }<br>}",
          "{<br>  \"number\": 753,<br>  \"values\": [<br>    9.57999999999997,<br>    0.5862981569891625<br>  ],<br>  \"params\": {<br>    \"take_profit\": 0.4262947218185719,<br>    \"stop_loss\": 0.35853413327895484<br>  }<br>}",
          "{<br>  \"number\": 754,<br>  \"values\": [<br>    8.919999999999952,<br>    0.5636311982171307<br>  ],<br>  \"params\": {<br>    \"take_profit\": 0.3666194620239973,<br>    \"stop_loss\": 0.433907960374479<br>  }<br>}",
          "{<br>  \"number\": 757,<br>  \"values\": [<br>    7.389999999999997,<br>    0.5438379486076034<br>  ],<br>  \"params\": {<br>    \"take_profit\": 0.2528018514104881,<br>    \"stop_loss\": 0.5349177715800677<br>  }<br>}",
          "{<br>  \"number\": 758,<br>  \"values\": [<br>    5.559999999999974,<br>    0.49333133405392976<br>  ],<br>  \"params\": {<br>    \"take_profit\": 0.15635221511028574,<br>    \"stop_loss\": 0.43824973456478217<br>  }<br>}",
          "{<br>  \"number\": 775,<br>  \"values\": [<br>    0.579999999999925,<br>    0.39619674155432916<br>  ],<br>  \"params\": {<br>    \"take_profit\": 0.0595366319200447,<br>    \"stop_loss\": 0.23732324978969815<br>  }<br>}",
          "{<br>  \"number\": 776,<br>  \"values\": [<br>    0.579999999999925,<br>    0.39619674155432916<br>  ],<br>  \"params\": {<br>    \"take_profit\": 0.0595366319200447,<br>    \"stop_loss\": 0.22904819369272045<br>  }<br>}",
          "{<br>  \"number\": 781,<br>  \"values\": [<br>    0.579999999999925,<br>    0.39619674155432916<br>  ],<br>  \"params\": {<br>    \"take_profit\": 0.0595366319200447,<br>    \"stop_loss\": 0.22234287162233085<br>  }<br>}",
          "{<br>  \"number\": 801,<br>  \"values\": [<br>    0.579999999999925,<br>    0.39619674155432916<br>  ],<br>  \"params\": {<br>    \"take_profit\": 0.0595366319200447,<br>    \"stop_loss\": 0.23732324978969815<br>  }<br>}",
          "{<br>  \"number\": 802,<br>  \"values\": [<br>    7.389999999999997,<br>    0.5438379486076034<br>  ],<br>  \"params\": {<br>    \"take_profit\": 0.2528018514104881,<br>    \"stop_loss\": 0.5349177715800677<br>  }<br>}",
          "{<br>  \"number\": 818,<br>  \"values\": [<br>    0.579999999999925,<br>    0.39619674155432916<br>  ],<br>  \"params\": {<br>    \"take_profit\": 0.0595366319200447,<br>    \"stop_loss\": 0.23732324978969815<br>  }<br>}",
          "{<br>  \"number\": 821,<br>  \"values\": [<br>    7.219999999999999,<br>    0.5231284694561709<br>  ],<br>  \"params\": {<br>    \"take_profit\": 0.3039315069644288,<br>    \"stop_loss\": 0.42718311028329875<br>  }<br>}",
          "{<br>  \"number\": 825,<br>  \"values\": [<br>    6.98999999999997,<br>    0.5136998317566166<br>  ],<br>  \"params\": {<br>    \"take_profit\": 0.37837947190872045,<br>    \"stop_loss\": 0.29883191163474915<br>  }<br>}",
          "{<br>  \"number\": 827,<br>  \"values\": [<br>    10.539999999999981,<br>    0.5961558731025934<br>  ],<br>  \"params\": {<br>    \"take_profit\": 0.41539992463926473,<br>    \"stop_loss\": 0.4250026356435156<br>  }<br>}",
          "{<br>  \"number\": 832,<br>  \"values\": [<br>    6.059999999999977,<br>    0.5060598488763149<br>  ],<br>  \"params\": {<br>    \"take_profit\": 0.3322178556912239,<br>    \"stop_loss\": 0.29129255144850197<br>  }<br>}",
          "{<br>  \"number\": 840,<br>  \"values\": [<br>    10.679999999999982,<br>    0.6150631173834141<br>  ],<br>  \"params\": {<br>    \"take_profit\": 0.43445111787243207,<br>    \"stop_loss\": 0.4234704987991215<br>  }<br>}",
          "{<br>  \"number\": 845,<br>  \"values\": [<br>    9.089999999999982,<br>    0.5742030930834443<br>  ],<br>  \"params\": {<br>    \"take_profit\": 0.41539992463926473,<br>    \"stop_loss\": 0.3317475026057835<br>  }<br>}",
          "{<br>  \"number\": 849,<br>  \"values\": [<br>    7.389999999999997,<br>    0.5438379486076034<br>  ],<br>  \"params\": {<br>    \"take_profit\": 0.2528018514104881,<br>    \"stop_loss\": 0.5349177715800677<br>  }<br>}",
          "{<br>  \"number\": 855,<br>  \"values\": [<br>    0.4299999999999198,<br>    0.3421673713257881<br>  ],<br>  \"params\": {<br>    \"take_profit\": 0.0595366319200447,<br>    \"stop_loss\": 0.05286499173453086<br>  }<br>}",
          "{<br>  \"number\": 861,<br>  \"values\": [<br>    9.839999999999982,<br>    0.5926793343745277<br>  ],<br>  \"params\": {<br>    \"take_profit\": 0.4193862236915465,<br>    \"stop_loss\": 0.41254554790994874<br>  }<br>}",
          "{<br>  \"number\": 866,<br>  \"values\": [<br>    10.539999999999981,<br>    0.5961558731025934<br>  ],<br>  \"params\": {<br>    \"take_profit\": 0.4193862236915465,<br>    \"stop_loss\": 0.4234704987991215<br>  }<br>}",
          "{<br>  \"number\": 868,<br>  \"values\": [<br>    8.34,<br>    0.5502561699354089<br>  ],<br>  \"params\": {<br>    \"take_profit\": 0.3039315069644288,<br>    \"stop_loss\": 0.5349177715800677<br>  }<br>}",
          "{<br>  \"number\": 874,<br>  \"values\": [<br>    7.219999999999999,<br>    0.5231284694561709<br>  ],<br>  \"params\": {<br>    \"take_profit\": 0.3039315069644288,<br>    \"stop_loss\": 0.4234704987991215<br>  }<br>}",
          "{<br>  \"number\": 880,<br>  \"values\": [<br>    9.089999999999982,<br>    0.5742030930834443<br>  ],<br>  \"params\": {<br>    \"take_profit\": 0.4193862236915465,<br>    \"stop_loss\": 0.3317475026057835<br>  }<br>}",
          "{<br>  \"number\": 902,<br>  \"values\": [<br>    9.839999999999982,<br>    0.5926793343745277<br>  ],<br>  \"params\": {<br>    \"take_profit\": 0.4193862236915465,<br>    \"stop_loss\": 0.41254554790994874<br>  }<br>}",
          "{<br>  \"number\": 903,<br>  \"values\": [<br>    7.219999999999999,<br>    0.5231284694561709<br>  ],<br>  \"params\": {<br>    \"take_profit\": 0.3039315069644288,<br>    \"stop_loss\": 0.4234704987991215<br>  }<br>}",
          "{<br>  \"number\": 904,<br>  \"values\": [<br>    8.919999999999952,<br>    0.5636311982171307<br>  ],<br>  \"params\": {<br>    \"take_profit\": 0.3666194620239973,<br>    \"stop_loss\": 0.433907960374479<br>  }<br>}",
          "{<br>  \"number\": 911,<br>  \"values\": [<br>    7.5199999999999605,<br>    0.5439039437253603<br>  ],<br>  \"params\": {<br>    \"take_profit\": 0.4193862236915465,<br>    \"stop_loss\": 0.24429633598756528<br>  }<br>}",
          "{<br>  \"number\": 923,<br>  \"values\": [<br>    8.919999999999952,<br>    0.5636311982171307<br>  ],<br>  \"params\": {<br>    \"take_profit\": 0.3666194620239973,<br>    \"stop_loss\": 0.433907960374479<br>  }<br>}",
          "{<br>  \"number\": 926,<br>  \"values\": [<br>    8.2,<br>    0.5494596455804591<br>  ],<br>  \"params\": {<br>    \"take_profit\": 0.29714740025572073,<br>    \"stop_loss\": 0.5349177715800677<br>  }<br>}",
          "{<br>  \"number\": 931,<br>  \"values\": [<br>    0.8999999999999466,<br>    0.39885710814265407<br>  ],<br>  \"params\": {<br>    \"take_profit\": 0.08479379351163474,<br>    \"stop_loss\": 0.23732324978969815<br>  }<br>}",
          "{<br>  \"number\": 932,<br>  \"values\": [<br>    8.919999999999952,<br>    0.5636311982171307<br>  ],<br>  \"params\": {<br>    \"take_profit\": 0.3666194620239973,<br>    \"stop_loss\": 0.433907960374479<br>  }<br>}",
          "{<br>  \"number\": 934,<br>  \"values\": [<br>    7.409999999999997,<br>    0.5438381131672675<br>  ],<br>  \"params\": {<br>    \"take_profit\": 0.32830197129167893,<br>    \"stop_loss\": 0.4234704987991215<br>  }<br>}",
          "{<br>  \"number\": 935,<br>  \"values\": [<br>    6.059999999999977,<br>    0.5060598488763149<br>  ],<br>  \"params\": {<br>    \"take_profit\": 0.3322178556912239,<br>    \"stop_loss\": 0.29129255144850197<br>  }<br>}",
          "{<br>  \"number\": 936,<br>  \"values\": [<br>    7.219999999999999,<br>    0.5231284694561709<br>  ],<br>  \"params\": {<br>    \"take_profit\": 0.3039315069644288,<br>    \"stop_loss\": 0.4234704987991215<br>  }<br>}",
          "{<br>  \"number\": 939,<br>  \"values\": [<br>    6.98999999999997,<br>    0.5136998317566166<br>  ],<br>  \"params\": {<br>    \"take_profit\": 0.3788258725085614,<br>    \"stop_loss\": 0.29883191163474915<br>  }<br>}",
          "{<br>  \"number\": 947,<br>  \"values\": [<br>    8.839999999999975,<br>    0.5515893628309656<br>  ],<br>  \"params\": {<br>    \"take_profit\": 0.42477134448096265,<br>    \"stop_loss\": 0.25760257173708784<br>  }<br>}",
          "{<br>  \"number\": 948,<br>  \"values\": [<br>    8.34,<br>    0.5502561699354089<br>  ],<br>  \"params\": {<br>    \"take_profit\": 0.3039315069644288,<br>    \"stop_loss\": 0.5476648965357894<br>  }<br>}",
          "{<br>  \"number\": 951,<br>  \"values\": [<br>    8.2,<br>    0.5494596455804591<br>  ],<br>  \"params\": {<br>    \"take_profit\": 0.29714740025572073,<br>    \"stop_loss\": 0.5349177715800677<br>  }<br>}",
          "{<br>  \"number\": 959,<br>  \"values\": [<br>    8.839999999999975,<br>    0.5515893628309656<br>  ],<br>  \"params\": {<br>    \"take_profit\": 0.42477134448096265,<br>    \"stop_loss\": 0.25760257173708784<br>  }<br>}",
          "{<br>  \"number\": 971,<br>  \"values\": [<br>    7.219999999999999,<br>    0.5231284694561709<br>  ],<br>  \"params\": {<br>    \"take_profit\": 0.3039315069644288,<br>    \"stop_loss\": 0.4234704987991215<br>  }<br>}",
          "{<br>  \"number\": 974,<br>  \"values\": [<br>    0.579999999999925,<br>    0.39619674155432916<br>  ],<br>  \"params\": {<br>    \"take_profit\": 0.0595366319200447,<br>    \"stop_loss\": 0.23732324978969815<br>  }<br>}",
          "{<br>  \"number\": 982,<br>  \"values\": [<br>    7.5199999999999605,<br>    0.5439039437253603<br>  ],<br>  \"params\": {<br>    \"take_profit\": 0.4193862236915465,<br>    \"stop_loss\": 0.24604518515908314<br>  }<br>}",
          "{<br>  \"number\": 987,<br>  \"values\": [<br>    5.099999999999984,<br>    0.487871275383484<br>  ],<br>  \"params\": {<br>    \"take_profit\": 0.3039315069644288,<br>    \"stop_loss\": 0.2936116595911836<br>  }<br>}",
          "{<br>  \"number\": 988,<br>  \"values\": [<br>    10.679999999999982,<br>    0.6150631173834141<br>  ],<br>  \"params\": {<br>    \"take_profit\": 0.43445111787243207,<br>    \"stop_loss\": 0.4234704987991215<br>  }<br>}",
          "{<br>  \"number\": 990,<br>  \"values\": [<br>    5.559999999999974,<br>    0.49333133405392976<br>  ],<br>  \"params\": {<br>    \"take_profit\": 0.15026904913374683,<br>    \"stop_loss\": 0.43824973456478217<br>  }<br>}",
          "{<br>  \"number\": 994,<br>  \"values\": [<br>    5.039999999999981,<br>    0.4426306074722805<br>  ],<br>  \"params\": {<br>    \"take_profit\": 0.15040135515958597,<br>    \"stop_loss\": 0.29129255144850197<br>  }<br>}"
         ],
         "type": "scatter",
         "x": [
          8.34,
          7.389999999999997,
          5.559999999999974,
          5.059999999999992,
          9.839999999999982,
          2.1299999999999546,
          8.34,
          7.389999999999997,
          8.34,
          7.389999999999997,
          8.34,
          6.059999999999977,
          4.9199999999999875,
          0.579999999999925,
          5.059999999999992,
          5.559999999999974,
          9.839999999999982,
          7.219999999999999,
          8.839999999999975,
          0.579999999999925,
          5.559999999999974,
          8.34,
          0.579999999999925,
          8.34,
          9.839999999999982,
          8.34,
          8.839999999999975,
          8.34,
          5.059999999999992,
          6.059999999999977,
          5.059999999999992,
          0.579999999999925,
          8.179999999999978,
          0.4299999999999198,
          5.059999999999992,
          10.539999999999981,
          8.34,
          5.059999999999992,
          6.059999999999977,
          0.579999999999925,
          5.559999999999974,
          8.34,
          7.219999999999999,
          8.34,
          8.34,
          7.219999999999999,
          3.1499999999999666,
          8.34,
          8.839999999999975,
          7.219999999999999,
          9.839999999999982,
          8.34,
          8.34,
          0.579999999999925,
          5.059999999999992,
          8.839999999999975,
          8.179999999999978,
          0.8999999999999466,
          7.219999999999999,
          6.059999999999977,
          7.220000000000002,
          8.839999999999975,
          8.839999999999975,
          7.219999999999999,
          7.389999999999997,
          8.179999999999978,
          0.8999999999999466,
          8.34,
          5.679999999999982,
          5.059999999999992,
          8.919999999999952,
          7.219999999999999,
          9.57999999999997,
          8.919999999999952,
          7.389999999999997,
          5.559999999999974,
          0.579999999999925,
          0.579999999999925,
          0.579999999999925,
          0.579999999999925,
          7.389999999999997,
          0.579999999999925,
          7.219999999999999,
          6.98999999999997,
          10.539999999999981,
          6.059999999999977,
          10.679999999999982,
          9.089999999999982,
          7.389999999999997,
          0.4299999999999198,
          9.839999999999982,
          10.539999999999981,
          8.34,
          7.219999999999999,
          9.089999999999982,
          9.839999999999982,
          7.219999999999999,
          8.919999999999952,
          7.5199999999999605,
          8.919999999999952,
          8.2,
          0.8999999999999466,
          8.919999999999952,
          7.409999999999997,
          6.059999999999977,
          7.219999999999999,
          6.98999999999997,
          8.839999999999975,
          8.34,
          8.2,
          8.839999999999975,
          7.219999999999999,
          0.579999999999925,
          7.5199999999999605,
          5.099999999999984,
          10.679999999999982,
          5.559999999999974,
          5.039999999999981
         ],
         "y": [
          0.5502561699354089,
          0.5438379486076034,
          0.49333133405392976,
          0.4869723313665133,
          0.5926793343745277,
          0.4143353224766091,
          0.5502561699354089,
          0.5438379486076034,
          0.5502561699354089,
          0.5438379486076034,
          0.5502561699354089,
          0.5060598488763149,
          0.4373138172950719,
          0.39619674155432916,
          0.4869723313665133,
          0.49333133405392976,
          0.5926793343745277,
          0.5231284694561709,
          0.5515893628309656,
          0.39619674155432916,
          0.49333133405392976,
          0.5502561699354089,
          0.39619674155432916,
          0.5502561699354089,
          0.5926793343745277,
          0.5502561699354089,
          0.5515893628309656,
          0.5502561699354089,
          0.4869723313665133,
          0.5060598488763149,
          0.4869723313665133,
          0.39619674155432916,
          0.5441984884879929,
          0.3421673713257881,
          0.4869723313665133,
          0.5961558731025934,
          0.5502561699354089,
          0.4869723313665133,
          0.5060598488763149,
          0.39619674155432916,
          0.49333133405392976,
          0.5502561699354089,
          0.5231284694561709,
          0.5502561699354089,
          0.5502561699354089,
          0.5231284694561709,
          0.4239149828758257,
          0.5502561699354089,
          0.5515893628309656,
          0.5231284694561709,
          0.5926793343745277,
          0.5502561699354089,
          0.5502561699354089,
          0.39619674155432916,
          0.4869723313665133,
          0.5515893628309656,
          0.5441984884879929,
          0.39885710814265407,
          0.5231284694561709,
          0.5060598488763149,
          0.5421760690982197,
          0.5515893628309656,
          0.5515893628309656,
          0.5231284694561709,
          0.5438379486076034,
          0.5441984884879929,
          0.39885710814265407,
          0.5502561699354089,
          0.502918626869445,
          0.4869723313665133,
          0.5636311982171307,
          0.5231284694561709,
          0.5862981569891625,
          0.5636311982171307,
          0.5438379486076034,
          0.49333133405392976,
          0.39619674155432916,
          0.39619674155432916,
          0.39619674155432916,
          0.39619674155432916,
          0.5438379486076034,
          0.39619674155432916,
          0.5231284694561709,
          0.5136998317566166,
          0.5961558731025934,
          0.5060598488763149,
          0.6150631173834141,
          0.5742030930834443,
          0.5438379486076034,
          0.3421673713257881,
          0.5926793343745277,
          0.5961558731025934,
          0.5502561699354089,
          0.5231284694561709,
          0.5742030930834443,
          0.5926793343745277,
          0.5231284694561709,
          0.5636311982171307,
          0.5439039437253603,
          0.5636311982171307,
          0.5494596455804591,
          0.39885710814265407,
          0.5636311982171307,
          0.5438381131672675,
          0.5060598488763149,
          0.5231284694561709,
          0.5136998317566166,
          0.5515893628309656,
          0.5502561699354089,
          0.5494596455804591,
          0.5515893628309656,
          0.5231284694561709,
          0.39619674155432916,
          0.5439039437253603,
          0.487871275383484,
          0.6150631173834141,
          0.49333133405392976,
          0.4426306074722805
         ]
        }
       ],
       "layout": {
        "template": {
         "data": {
          "bar": [
           {
            "error_x": {
             "color": "#2a3f5f"
            },
            "error_y": {
             "color": "#2a3f5f"
            },
            "marker": {
             "line": {
              "color": "#E5ECF6",
              "width": 0.5
             },
             "pattern": {
              "fillmode": "overlay",
              "size": 10,
              "solidity": 0.2
             }
            },
            "type": "bar"
           }
          ],
          "barpolar": [
           {
            "marker": {
             "line": {
              "color": "#E5ECF6",
              "width": 0.5
             },
             "pattern": {
              "fillmode": "overlay",
              "size": 10,
              "solidity": 0.2
             }
            },
            "type": "barpolar"
           }
          ],
          "carpet": [
           {
            "aaxis": {
             "endlinecolor": "#2a3f5f",
             "gridcolor": "white",
             "linecolor": "white",
             "minorgridcolor": "white",
             "startlinecolor": "#2a3f5f"
            },
            "baxis": {
             "endlinecolor": "#2a3f5f",
             "gridcolor": "white",
             "linecolor": "white",
             "minorgridcolor": "white",
             "startlinecolor": "#2a3f5f"
            },
            "type": "carpet"
           }
          ],
          "choropleth": [
           {
            "colorbar": {
             "outlinewidth": 0,
             "ticks": ""
            },
            "type": "choropleth"
           }
          ],
          "contour": [
           {
            "colorbar": {
             "outlinewidth": 0,
             "ticks": ""
            },
            "colorscale": [
             [
              0,
              "#0d0887"
             ],
             [
              0.1111111111111111,
              "#46039f"
             ],
             [
              0.2222222222222222,
              "#7201a8"
             ],
             [
              0.3333333333333333,
              "#9c179e"
             ],
             [
              0.4444444444444444,
              "#bd3786"
             ],
             [
              0.5555555555555556,
              "#d8576b"
             ],
             [
              0.6666666666666666,
              "#ed7953"
             ],
             [
              0.7777777777777778,
              "#fb9f3a"
             ],
             [
              0.8888888888888888,
              "#fdca26"
             ],
             [
              1,
              "#f0f921"
             ]
            ],
            "type": "contour"
           }
          ],
          "contourcarpet": [
           {
            "colorbar": {
             "outlinewidth": 0,
             "ticks": ""
            },
            "type": "contourcarpet"
           }
          ],
          "heatmap": [
           {
            "colorbar": {
             "outlinewidth": 0,
             "ticks": ""
            },
            "colorscale": [
             [
              0,
              "#0d0887"
             ],
             [
              0.1111111111111111,
              "#46039f"
             ],
             [
              0.2222222222222222,
              "#7201a8"
             ],
             [
              0.3333333333333333,
              "#9c179e"
             ],
             [
              0.4444444444444444,
              "#bd3786"
             ],
             [
              0.5555555555555556,
              "#d8576b"
             ],
             [
              0.6666666666666666,
              "#ed7953"
             ],
             [
              0.7777777777777778,
              "#fb9f3a"
             ],
             [
              0.8888888888888888,
              "#fdca26"
             ],
             [
              1,
              "#f0f921"
             ]
            ],
            "type": "heatmap"
           }
          ],
          "heatmapgl": [
           {
            "colorbar": {
             "outlinewidth": 0,
             "ticks": ""
            },
            "colorscale": [
             [
              0,
              "#0d0887"
             ],
             [
              0.1111111111111111,
              "#46039f"
             ],
             [
              0.2222222222222222,
              "#7201a8"
             ],
             [
              0.3333333333333333,
              "#9c179e"
             ],
             [
              0.4444444444444444,
              "#bd3786"
             ],
             [
              0.5555555555555556,
              "#d8576b"
             ],
             [
              0.6666666666666666,
              "#ed7953"
             ],
             [
              0.7777777777777778,
              "#fb9f3a"
             ],
             [
              0.8888888888888888,
              "#fdca26"
             ],
             [
              1,
              "#f0f921"
             ]
            ],
            "type": "heatmapgl"
           }
          ],
          "histogram": [
           {
            "marker": {
             "pattern": {
              "fillmode": "overlay",
              "size": 10,
              "solidity": 0.2
             }
            },
            "type": "histogram"
           }
          ],
          "histogram2d": [
           {
            "colorbar": {
             "outlinewidth": 0,
             "ticks": ""
            },
            "colorscale": [
             [
              0,
              "#0d0887"
             ],
             [
              0.1111111111111111,
              "#46039f"
             ],
             [
              0.2222222222222222,
              "#7201a8"
             ],
             [
              0.3333333333333333,
              "#9c179e"
             ],
             [
              0.4444444444444444,
              "#bd3786"
             ],
             [
              0.5555555555555556,
              "#d8576b"
             ],
             [
              0.6666666666666666,
              "#ed7953"
             ],
             [
              0.7777777777777778,
              "#fb9f3a"
             ],
             [
              0.8888888888888888,
              "#fdca26"
             ],
             [
              1,
              "#f0f921"
             ]
            ],
            "type": "histogram2d"
           }
          ],
          "histogram2dcontour": [
           {
            "colorbar": {
             "outlinewidth": 0,
             "ticks": ""
            },
            "colorscale": [
             [
              0,
              "#0d0887"
             ],
             [
              0.1111111111111111,
              "#46039f"
             ],
             [
              0.2222222222222222,
              "#7201a8"
             ],
             [
              0.3333333333333333,
              "#9c179e"
             ],
             [
              0.4444444444444444,
              "#bd3786"
             ],
             [
              0.5555555555555556,
              "#d8576b"
             ],
             [
              0.6666666666666666,
              "#ed7953"
             ],
             [
              0.7777777777777778,
              "#fb9f3a"
             ],
             [
              0.8888888888888888,
              "#fdca26"
             ],
             [
              1,
              "#f0f921"
             ]
            ],
            "type": "histogram2dcontour"
           }
          ],
          "mesh3d": [
           {
            "colorbar": {
             "outlinewidth": 0,
             "ticks": ""
            },
            "type": "mesh3d"
           }
          ],
          "parcoords": [
           {
            "line": {
             "colorbar": {
              "outlinewidth": 0,
              "ticks": ""
             }
            },
            "type": "parcoords"
           }
          ],
          "pie": [
           {
            "automargin": true,
            "type": "pie"
           }
          ],
          "scatter": [
           {
            "fillpattern": {
             "fillmode": "overlay",
             "size": 10,
             "solidity": 0.2
            },
            "type": "scatter"
           }
          ],
          "scatter3d": [
           {
            "line": {
             "colorbar": {
              "outlinewidth": 0,
              "ticks": ""
             }
            },
            "marker": {
             "colorbar": {
              "outlinewidth": 0,
              "ticks": ""
             }
            },
            "type": "scatter3d"
           }
          ],
          "scattercarpet": [
           {
            "marker": {
             "colorbar": {
              "outlinewidth": 0,
              "ticks": ""
             }
            },
            "type": "scattercarpet"
           }
          ],
          "scattergeo": [
           {
            "marker": {
             "colorbar": {
              "outlinewidth": 0,
              "ticks": ""
             }
            },
            "type": "scattergeo"
           }
          ],
          "scattergl": [
           {
            "marker": {
             "colorbar": {
              "outlinewidth": 0,
              "ticks": ""
             }
            },
            "type": "scattergl"
           }
          ],
          "scattermapbox": [
           {
            "marker": {
             "colorbar": {
              "outlinewidth": 0,
              "ticks": ""
             }
            },
            "type": "scattermapbox"
           }
          ],
          "scatterpolar": [
           {
            "marker": {
             "colorbar": {
              "outlinewidth": 0,
              "ticks": ""
             }
            },
            "type": "scatterpolar"
           }
          ],
          "scatterpolargl": [
           {
            "marker": {
             "colorbar": {
              "outlinewidth": 0,
              "ticks": ""
             }
            },
            "type": "scatterpolargl"
           }
          ],
          "scatterternary": [
           {
            "marker": {
             "colorbar": {
              "outlinewidth": 0,
              "ticks": ""
             }
            },
            "type": "scatterternary"
           }
          ],
          "surface": [
           {
            "colorbar": {
             "outlinewidth": 0,
             "ticks": ""
            },
            "colorscale": [
             [
              0,
              "#0d0887"
             ],
             [
              0.1111111111111111,
              "#46039f"
             ],
             [
              0.2222222222222222,
              "#7201a8"
             ],
             [
              0.3333333333333333,
              "#9c179e"
             ],
             [
              0.4444444444444444,
              "#bd3786"
             ],
             [
              0.5555555555555556,
              "#d8576b"
             ],
             [
              0.6666666666666666,
              "#ed7953"
             ],
             [
              0.7777777777777778,
              "#fb9f3a"
             ],
             [
              0.8888888888888888,
              "#fdca26"
             ],
             [
              1,
              "#f0f921"
             ]
            ],
            "type": "surface"
           }
          ],
          "table": [
           {
            "cells": {
             "fill": {
              "color": "#EBF0F8"
             },
             "line": {
              "color": "white"
             }
            },
            "header": {
             "fill": {
              "color": "#C8D4E3"
             },
             "line": {
              "color": "white"
             }
            },
            "type": "table"
           }
          ]
         },
         "layout": {
          "annotationdefaults": {
           "arrowcolor": "#2a3f5f",
           "arrowhead": 0,
           "arrowwidth": 1
          },
          "autotypenumbers": "strict",
          "coloraxis": {
           "colorbar": {
            "outlinewidth": 0,
            "ticks": ""
           }
          },
          "colorscale": {
           "diverging": [
            [
             0,
             "#8e0152"
            ],
            [
             0.1,
             "#c51b7d"
            ],
            [
             0.2,
             "#de77ae"
            ],
            [
             0.3,
             "#f1b6da"
            ],
            [
             0.4,
             "#fde0ef"
            ],
            [
             0.5,
             "#f7f7f7"
            ],
            [
             0.6,
             "#e6f5d0"
            ],
            [
             0.7,
             "#b8e186"
            ],
            [
             0.8,
             "#7fbc41"
            ],
            [
             0.9,
             "#4d9221"
            ],
            [
             1,
             "#276419"
            ]
           ],
           "sequential": [
            [
             0,
             "#0d0887"
            ],
            [
             0.1111111111111111,
             "#46039f"
            ],
            [
             0.2222222222222222,
             "#7201a8"
            ],
            [
             0.3333333333333333,
             "#9c179e"
            ],
            [
             0.4444444444444444,
             "#bd3786"
            ],
            [
             0.5555555555555556,
             "#d8576b"
            ],
            [
             0.6666666666666666,
             "#ed7953"
            ],
            [
             0.7777777777777778,
             "#fb9f3a"
            ],
            [
             0.8888888888888888,
             "#fdca26"
            ],
            [
             1,
             "#f0f921"
            ]
           ],
           "sequentialminus": [
            [
             0,
             "#0d0887"
            ],
            [
             0.1111111111111111,
             "#46039f"
            ],
            [
             0.2222222222222222,
             "#7201a8"
            ],
            [
             0.3333333333333333,
             "#9c179e"
            ],
            [
             0.4444444444444444,
             "#bd3786"
            ],
            [
             0.5555555555555556,
             "#d8576b"
            ],
            [
             0.6666666666666666,
             "#ed7953"
            ],
            [
             0.7777777777777778,
             "#fb9f3a"
            ],
            [
             0.8888888888888888,
             "#fdca26"
            ],
            [
             1,
             "#f0f921"
            ]
           ]
          },
          "colorway": [
           "#636efa",
           "#EF553B",
           "#00cc96",
           "#ab63fa",
           "#FFA15A",
           "#19d3f3",
           "#FF6692",
           "#B6E880",
           "#FF97FF",
           "#FECB52"
          ],
          "font": {
           "color": "#2a3f5f"
          },
          "geo": {
           "bgcolor": "white",
           "lakecolor": "white",
           "landcolor": "#E5ECF6",
           "showlakes": true,
           "showland": true,
           "subunitcolor": "white"
          },
          "hoverlabel": {
           "align": "left"
          },
          "hovermode": "closest",
          "mapbox": {
           "style": "light"
          },
          "paper_bgcolor": "white",
          "plot_bgcolor": "#E5ECF6",
          "polar": {
           "angularaxis": {
            "gridcolor": "white",
            "linecolor": "white",
            "ticks": ""
           },
           "bgcolor": "#E5ECF6",
           "radialaxis": {
            "gridcolor": "white",
            "linecolor": "white",
            "ticks": ""
           }
          },
          "scene": {
           "xaxis": {
            "backgroundcolor": "#E5ECF6",
            "gridcolor": "white",
            "gridwidth": 2,
            "linecolor": "white",
            "showbackground": true,
            "ticks": "",
            "zerolinecolor": "white"
           },
           "yaxis": {
            "backgroundcolor": "#E5ECF6",
            "gridcolor": "white",
            "gridwidth": 2,
            "linecolor": "white",
            "showbackground": true,
            "ticks": "",
            "zerolinecolor": "white"
           },
           "zaxis": {
            "backgroundcolor": "#E5ECF6",
            "gridcolor": "white",
            "gridwidth": 2,
            "linecolor": "white",
            "showbackground": true,
            "ticks": "",
            "zerolinecolor": "white"
           }
          },
          "shapedefaults": {
           "line": {
            "color": "#2a3f5f"
           }
          },
          "ternary": {
           "aaxis": {
            "gridcolor": "white",
            "linecolor": "white",
            "ticks": ""
           },
           "baxis": {
            "gridcolor": "white",
            "linecolor": "white",
            "ticks": ""
           },
           "bgcolor": "#E5ECF6",
           "caxis": {
            "gridcolor": "white",
            "linecolor": "white",
            "ticks": ""
           }
          },
          "title": {
           "x": 0.05
          },
          "xaxis": {
           "automargin": true,
           "gridcolor": "white",
           "linecolor": "white",
           "ticks": "",
           "title": {
            "standoff": 15
           },
           "zerolinecolor": "white",
           "zerolinewidth": 2
          },
          "yaxis": {
           "automargin": true,
           "gridcolor": "white",
           "linecolor": "white",
           "ticks": "",
           "title": {
            "standoff": 15
           },
           "zerolinecolor": "white",
           "zerolinewidth": 2
          }
         }
        },
        "title": {
         "text": "Pareto-front Plot"
        },
        "xaxis": {
         "title": {
          "text": "trades_pnl_total"
         }
        },
        "yaxis": {
         "title": {
          "text": "trades_pnl_std"
         }
        }
       }
      },
      "text/html": [
       "<div>                            <div id=\"010c457a-8d68-4f21-9418-74530a65b62b\" class=\"plotly-graph-div\" style=\"height:525px; width:100%;\"></div>            <script type=\"text/javascript\">                require([\"plotly\"], function(Plotly) {                    window.PLOTLYENV=window.PLOTLYENV || {};                                    if (document.getElementById(\"010c457a-8d68-4f21-9418-74530a65b62b\")) {                    Plotly.newPlot(                        \"010c457a-8d68-4f21-9418-74530a65b62b\",                        [{\"hovertemplate\":\"%{text}<extra>Trial</extra>\",\"marker\":{\"color\":[0,1,2,3,4,5,6,7,8,9,10,11,12,13,14,15,16,17,18,19,20,21,22,23,24,25,26,27,28,29,30,31,32,33,34,35,36,37,38,39,40,41,42,43,44,45,46,47,48,49,50,51,52,53,55,56,57,58,59,60,61,62,63,64,65,66,67,68,69,70,71,72,73,74,75,76,77,78,79,80,82,83,84,85,86,87,88,89,90,91,92,93,94,95,96,97,98,99,100,101,102,103,104,105,106,107,108,109,110,111,112,113,114,115,116,117,118,119,120,121,122,123,124,125,126,127,128,129,130,131,132,133,134,135,136,137,138,139,141,142,143,144,145,146,147,148,149,150,151,153,154,155,156,157,158,159,160,161,163,164,165,166,167,168,169,171,172,173,174,175,176,177,178,180,181,182,183,184,185,186,187,188,189,190,191,192,193,195,197,198,199,200,201,202,203,204,205,206,207,208,210,211,212,213,214,216,217,218,219,220,221,222,223,225,226,227,228,229,230,231,232,233,234,235,236,237,238,239,240,241,242,243,244,245,246,247,248,249,250,251,252,253,254,255,256,257,258,259,260,261,262,263,264,265,266,267,268,269,270,271,272,273,274,275,276,277,279,280,281,282,283,284,285,286,287,288,289,290,291,292,293,294,296,297,298,299,300,301,302,303,304,305,306,307,308,309,310,311,312,313,314,315,316,317,318,319,320,321,322,323,324,325,326,327,328,329,331,332,335,336,337,338,339,340,341,342,343,344,345,346,347,348,349,350,351,352,353,354,355,356,357,358,359,360,362,363,364,365,366,367,368,369,370,371,373,374,375,376,377,378,379,380,381,382,385,386,387,388,389,390,391,392,394,395,396,397,398,399,400,401,402,404,405,406,408,409,410,412,413,414,415,416,417,418,419,420,422,423,424,425,426,427,428,429,430,431,432,433,434,436,437,439,440,441,442,444,445,446,447,448,449,450,451,453,454,455,456,457,458,459,460,461,462,463,465,466,467,468,470,471,472,473,474,476,478,479,481,482,483,484,485,486,487,488,489,490,491,492,494,496,497,498,499,500,502,503,504,505,506,507,508,509,510,511,512,513,514,515,516,517,518,519,520,521,523,524,525,526,527,529,530,532,533,535,536,537,538,540,541,542,543,544,546,547,548,549,550,551,552,553,554,555,557,558,559,560,561,562,563,564,565,566,567,568,569,570,571,572,573,577,578,580,581,582,584,585,587,588,589,590,591,592,594,595,596,597,599,600,601,602,603,604,605,606,607,608,609,610,611,612,613,614,615,616,617,618,619,620,622,623,624,625,626,628,629,630,631,632,633,635,636,637,639,640,641,642,643,644,645,646,649,650,651,652,654,655,656,657,658,659,660,661,662,663,664,665,666,668,669,670,671,672,673,674,675,676,677,678,679,680,681,682,683,685,686,688,689,690,691,692,693,694,695,696,697,698,700,701,702,703,704,706,707,708,709,710,711,712,713,715,716,718,720,721,722,723,724,725,726,727,728,729,730,731,732,733,734,735,736,738,739,740,741,742,743,745,746,748,750,751,752,755,756,759,760,761,762,763,764,765,766,767,768,769,770,771,772,773,774,777,778,779,780,782,783,784,785,786,787,788,789,790,791,792,793,794,795,796,797,798,799,800,803,804,805,806,807,808,809,810,811,812,813,814,815,816,817,819,820,822,823,824,826,828,829,830,831,833,834,835,836,837,838,839,841,842,843,844,846,847,848,850,851,852,853,854,856,857,858,859,860,862,863,864,865,867,869,870,871,872,873,875,876,877,878,879,881,882,883,884,885,886,887,888,889,890,891,892,893,894,895,896,897,898,899,900,901,905,906,907,908,909,910,912,913,914,915,916,917,918,919,920,921,922,924,925,927,928,929,930,933,937,938,940,941,942,943,944,945,946,949,950,952,953,954,955,956,957,958,960,961,962,963,964,965,966,967,968,969,970,972,973,975,976,977,978,979,980,981,983,984,985,986,989,991,992,993,995,996,997,998,999],\"colorbar\":{\"title\":{\"text\":\"Trial\"}},\"colorscale\":[[0.0,\"rgb(247,251,255)\"],[0.125,\"rgb(222,235,247)\"],[0.25,\"rgb(198,219,239)\"],[0.375,\"rgb(158,202,225)\"],[0.5,\"rgb(107,174,214)\"],[0.625,\"rgb(66,146,198)\"],[0.75,\"rgb(33,113,181)\"],[0.875,\"rgb(8,81,156)\"],[1.0,\"rgb(8,48,107)\"]],\"line\":{\"color\":\"Grey\",\"width\":0.5}},\"mode\":\"markers\",\"showlegend\":false,\"text\":[\"{<br>  \\\"number\\\": 0,<br>  \\\"values\\\": [<br>    6.529999999999955,<br>    0.6726339739620321<br>  ],<br>  \\\"params\\\": {<br>    \\\"take_profit\\\": 0.4775252329494681,<br>    \\\"stop_loss\\\": 0.4613853670997484<br>  }<br>}\",\"{<br>  \\\"number\\\": 1,<br>  \\\"values\\\": [<br>    5.489999999999988,<br>    0.5074851431498208<br>  ],<br>  \\\"params\\\": {<br>    \\\"take_profit\\\": 0.15532629544967783,<br>    \\\"stop_loss\\\": 0.5056360312048226<br>  }<br>}\",\"{<br>  \\\"number\\\": 2,<br>  \\\"values\\\": [<br>    2.589999999999956,<br>    0.5301247809245179<br>  ],<br>  \\\"params\\\": {<br>    \\\"take_profit\\\": 0.44099643008558714,<br>    \\\"stop_loss\\\": 0.1689059599866649<br>  }<br>}\",\"{<br>  \\\"number\\\": 3,<br>  \\\"values\\\": [<br>    2.049999999999978,<br>    0.48011378508125996<br>  ],<br>  \\\"params\\\": {<br>    \\\"take_profit\\\": 0.0605225990862062,<br>    \\\"stop_loss\\\": 0.4710360719507461<br>  }<br>}\",\"{<br>  \\\"number\\\": 4,<br>  \\\"values\\\": [<br>    1.2300000000000058,<br>    0.42689036667589536<br>  ],<br>  \\\"params\\\": {<br>    \\\"take_profit\\\": 0.37027401443441904,<br>    \\\"stop_loss\\\": 0.05152728984202651<br>  }<br>}\",\"{<br>  \\\"number\\\": 5,<br>  \\\"values\\\": [<br>    2.5199999999999854,<br>    0.4908878362402094<br>  ],<br>  \\\"params\\\": {<br>    \\\"take_profit\\\": 0.41408465601986955,<br>    \\\"stop_loss\\\": 0.10429431645390597<br>  }<br>}\",\"{<br>  \\\"number\\\": 6,<br>  \\\"values\\\": [<br>    8.049999999999986,<br>    0.5714620331971638<br>  ],<br>  \\\"params\\\": {<br>    \\\"take_profit\\\": 0.33644182803793315,<br>    \\\"stop_loss\\\": 0.47989751952175047<br>  }<br>}\",\"{<br>  \\\"number\\\": 7,<br>  \\\"values\\\": [<br>    -1.3000000000000078,<br>    0.4328157735129957<br>  ],<br>  \\\"params\\\": {<br>    \\\"take_profit\\\": 0.252243099239756,<br>    \\\"stop_loss\\\": 0.1570115290370207<br>  }<br>}\",\"{<br>  \\\"number\\\": 8,<br>  \\\"values\\\": [<br>    2.3699999999999934,<br>    0.4949342836481579<br>  ],<br>  \\\"params\\\": {<br>    \\\"take_profit\\\": 0.08875632949080547,<br>    \\\"stop_loss\\\": 0.560983260063591<br>  }<br>}\",\"{<br>  \\\"number\\\": 9,<br>  \\\"values\\\": [<br>    7.959999999999958,<br>    0.5753954313519679<br>  ],<br>  \\\"params\\\": {<br>    \\\"take_profit\\\": 0.357892843289387,<br>    \\\"stop_loss\\\": 0.44390070702532886<br>  }<br>}\",\"{<br>  \\\"number\\\": 10,<br>  \\\"values\\\": [<br>    4.0199999999999525,<br>    0.5234585029237416<br>  ],<br>  \\\"params\\\": {<br>    \\\"take_profit\\\": 0.4193862236915465,<br>    \\\"stop_loss\\\": 0.17092900603686773<br>  }<br>}\",\"{<br>  \\\"number\\\": 11,<br>  \\\"values\\\": [<br>    -1.74000000000007,<br>    0.3687033231526026<br>  ],<br>  \\\"params\\\": {<br>    \\\"take_profit\\\": 0.06109586616842523,<br>    \\\"stop_loss\\\": 0.14069022204218407<br>  }<br>}\",\"{<br>  \\\"number\\\": 12,<br>  \\\"values\\\": [<br>    5.89999999999997,<br>    0.6297352203416822<br>  ],<br>  \\\"params\\\": {<br>    \\\"take_profit\\\": 0.4689002421683636,<br>    \\\"stop_loss\\\": 0.3735163661761238<br>  }<br>}\",\"{<br>  \\\"number\\\": 13,<br>  \\\"values\\\": [<br>    2.069999999999974,<br>    0.48192228912612917<br>  ],<br>  \\\"params\\\": {<br>    \\\"take_profit\\\": 0.0724824534225797,<br>    \\\"stop_loss\\\": 0.5106436733802883<br>  }<br>}\",\"{<br>  \\\"number\\\": 14,<br>  \\\"values\\\": [<br>    6.1699999999999875,<br>    0.6710937136204876<br>  ],<br>  \\\"params\\\": {<br>    \\\"take_profit\\\": 0.5788517455340759,<br>    \\\"stop_loss\\\": 0.405152218787056<br>  }<br>}\",\"{<br>  \\\"number\\\": 15,<br>  \\\"values\\\": [<br>    1.9699999999999815,<br>    0.5439607986101678<br>  ],<br>  \\\"params\\\": {<br>    \\\"take_profit\\\": 0.5604598013777263,<br>    \\\"stop_loss\\\": 0.16415850390894657<br>  }<br>}\",\"{<br>  \\\"number\\\": 16,<br>  \\\"values\\\": [<br>    5.959999999999972,<br>    0.5866996470824387<br>  ],<br>  \\\"params\\\": {<br>    \\\"take_profit\\\": 0.5537663678603938,<br>    \\\"stop_loss\\\": 0.22593977655362418<br>  }<br>}\",\"{<br>  \\\"number\\\": 17,<br>  \\\"values\\\": [<br>    -0.7200000000000537,<br>    0.39541344924168886<br>  ],<br>  \\\"params\\\": {<br>    \\\"take_profit\\\": 0.14749574843279173,<br>    \\\"stop_loss\\\": 0.1668029960155013<br>  }<br>}\",\"{<br>  \\\"number\\\": 18,<br>  \\\"values\\\": [<br>    7.059999999999993,<br>    0.6508191632629956<br>  ],<br>  \\\"params\\\": {<br>    \\\"take_profit\\\": 0.4049942292595097,<br>    \\\"stop_loss\\\": 0.5811211071826761<br>  }<br>}\",\"{<br>  \\\"number\\\": 19,<br>  \\\"values\\\": [<br>    6.1699999999999875,<br>    0.6710937136204876<br>  ],<br>  \\\"params\\\": {<br>    \\\"take_profit\\\": 0.5640701744487276,<br>    \\\"stop_loss\\\": 0.4003972209845802<br>  }<br>}\",\"{<br>  \\\"number\\\": 20,<br>  \\\"values\\\": [<br>    1.9099999999999815,<br>    0.4904081298764319<br>  ],<br>  \\\"params\\\": {<br>    \\\"take_profit\\\": 0.099835210505473,<br>    \\\"stop_loss\\\": 0.4992348893507475<br>  }<br>}\",\"{<br>  \\\"number\\\": 21,<br>  \\\"values\\\": [<br>    7.00999999999998,<br>    0.7424809037870467<br>  ],<br>  \\\"params\\\": {<br>    \\\"take_profit\\\": 0.5879330748054001,<br>    \\\"stop_loss\\\": 0.5561192967867635<br>  }<br>}\",\"{<br>  \\\"number\\\": 22,<br>  \\\"values\\\": [<br>    6.7699999999999925,<br>    0.6063126695480123<br>  ],<br>  \\\"params\\\": {<br>    \\\"take_profit\\\": 0.594017701942241,<br>    \\\"stop_loss\\\": 0.2503021455237313<br>  }<br>}\",\"{<br>  \\\"number\\\": 23,<br>  \\\"values\\\": [<br>    -0.5599999999999923,<br>    0.4508007142303757<br>  ],<br>  \\\"params\\\": {<br>    \\\"take_profit\\\": 0.3515714987530641,<br>    \\\"stop_loss\\\": 0.12631660912834602<br>  }<br>}\",\"{<br>  \\\"number\\\": 24,<br>  \\\"values\\\": [<br>    4.679999999999978,<br>    0.5056009637666541<br>  ],<br>  \\\"params\\\": {<br>    \\\"take_profit\\\": 0.17805305841186686,<br>    \\\"stop_loss\\\": 0.43088772369640266<br>  }<br>}\",\"{<br>  \\\"number\\\": 25,<br>  \\\"values\\\": [<br>    5.489999999999984,<br>    0.5905540384381078<br>  ],<br>  \\\"params\\\": {<br>    \\\"take_profit\\\": 0.4817631375085813,<br>    \\\"stop_loss\\\": 0.26859060538941404<br>  }<br>}\",\"{<br>  \\\"number\\\": 26,<br>  \\\"values\\\": [<br>    -1.5299999999999976,<br>    0.4511714407018229<br>  ],<br>  \\\"params\\\": {<br>    \\\"take_profit\\\": 0.32275643065793486,<br>    \\\"stop_loss\\\": 0.14098317530027277<br>  }<br>}\",\"{<br>  \\\"number\\\": 27,<br>  \\\"values\\\": [<br>    7.8699999999999655,<br>    0.6038695561009505<br>  ],<br>  \\\"params\\\": {<br>    \\\"take_profit\\\": 0.40533662477878935,<br>    \\\"stop_loss\\\": 0.44584706863991097<br>  }<br>}\",\"{<br>  \\\"number\\\": 28,<br>  \\\"values\\\": [<br>    5.629999999999978,<br>    0.6891427828454191<br>  ],<br>  \\\"params\\\": {<br>    \\\"take_profit\\\": 0.5074348864957708,<br>    \\\"stop_loss\\\": 0.4978168269866857<br>  }<br>}\",\"{<br>  \\\"number\\\": 29,<br>  \\\"values\\\": [<br>    3.5399999999999547,<br>    0.5181975892423646<br>  ],<br>  \\\"params\\\": {<br>    \\\"take_profit\\\": 0.4283228461698405,<br>    \\\"stop_loss\\\": 0.16690076842251408<br>  }<br>}\",\"{<br>  \\\"number\\\": 30,<br>  \\\"values\\\": [<br>    7.789999999999981,<br>    0.5500370584979594<br>  ],<br>  \\\"params\\\": {<br>    \\\"take_profit\\\": 0.31535576919890557,<br>    \\\"stop_loss\\\": 0.4714992726763563<br>  }<br>}\",\"{<br>  \\\"number\\\": 31,<br>  \\\"values\\\": [<br>    -1.0699999999999832,<br>    0.44524124408246196<br>  ],<br>  \\\"params\\\": {<br>    \\\"take_profit\\\": 0.33541630904760644,<br>    \\\"stop_loss\\\": 0.12327235644981895<br>  }<br>}\",\"{<br>  \\\"number\\\": 32,<br>  \\\"values\\\": [<br>    5.330000000000006,<br>    0.5288050238386593<br>  ],<br>  \\\"params\\\": {<br>    \\\"take_profit\\\": 0.17058230310106232,<br>    \\\"stop_loss\\\": 0.5639242097575835<br>  }<br>}\",\"{<br>  \\\"number\\\": 33,<br>  \\\"values\\\": [<br>    4.010000000000001,<br>    0.47978614532523184<br>  ],<br>  \\\"params\\\": {<br>    \\\"take_profit\\\": 0.23231734960175443,<br>    \\\"stop_loss\\\": 0.3080033578014778<br>  }<br>}\",\"{<br>  \\\"number\\\": 34,<br>  \\\"values\\\": [<br>    8.919999999999973,<br>    0.5792145793131324<br>  ],<br>  \\\"params\\\": {<br>    \\\"take_profit\\\": 0.41539992463926473,<br>    \\\"stop_loss\\\": 0.35227252417034044<br>  }<br>}\",\"{<br>  \\\"number\\\": 35,<br>  \\\"values\\\": [<br>    6.579999999999984,<br>    0.6605241023942651<br>  ],<br>  \\\"params\\\": {<br>    \\\"take_profit\\\": 0.5832464005753383,<br>    \\\"stop_loss\\\": 0.3528403544045596<br>  }<br>}\",\"{<br>  \\\"number\\\": 36,<br>  \\\"values\\\": [<br>    8.549999999999983,<br>    0.6049595027768383<br>  ],<br>  \\\"params\\\": {<br>    \\\"take_profit\\\": 0.4388427132661888,<br>    \\\"stop_loss\\\": 0.38897421142007527<br>  }<br>}\",\"{<br>  \\\"number\\\": 37,<br>  \\\"values\\\": [<br>    4.2899999999999485,<br>    0.5329126107384932<br>  ],<br>  \\\"params\\\": {<br>    \\\"take_profit\\\": 0.426293494501658,<br>    \\\"stop_loss\\\": 0.20709791328523375<br>  }<br>}\",\"{<br>  \\\"number\\\": 38,<br>  \\\"values\\\": [<br>    4.959999999999965,<br>    0.5201873547075326<br>  ],<br>  \\\"params\\\": {<br>    \\\"take_profit\\\": 0.39266633853285565,<br>    \\\"stop_loss\\\": 0.22654781702060695<br>  }<br>}\",\"{<br>  \\\"number\\\": 39,<br>  \\\"values\\\": [<br>    3.4999999999999933,<br>    0.5098184869947305<br>  ],<br>  \\\"params\\\": {<br>    \\\"take_profit\\\": 0.5927730019308612,<br>    \\\"stop_loss\\\": 0.0764159639592498<br>  }<br>}\",\"{<br>  \\\"number\\\": 40,<br>  \\\"values\\\": [<br>    5.909999999999972,<br>    0.6225568317555608<br>  ],<br>  \\\"params\\\": {<br>    \\\"take_profit\\\": 0.46235892503362885,<br>    \\\"stop_loss\\\": 0.34609525212815995<br>  }<br>}\",\"{<br>  \\\"number\\\": 41,<br>  \\\"values\\\": [<br>    5.260000000000016,<br>    0.5775713807426511<br>  ],<br>  \\\"params\\\": {<br>    \\\"take_profit\\\": 0.24109461632480095,<br>    \\\"stop_loss\\\": 0.5986576133149534<br>  }<br>}\",\"{<br>  \\\"number\\\": 42,<br>  \\\"values\\\": [<br>    7.789999999999981,<br>    0.5500370584979594<br>  ],<br>  \\\"params\\\": {<br>    \\\"take_profit\\\": 0.3192342804675916,<br>    \\\"stop_loss\\\": 0.4714731772115439<br>  }<br>}\",\"{<br>  \\\"number\\\": 43,<br>  \\\"values\\\": [<br>    7.5000000000000036,<br>    0.5466020921858977<br>  ],<br>  \\\"params\\\": {<br>    \\\"take_profit\\\": 0.26420820939153805,<br>    \\\"stop_loss\\\": 0.567752123063268<br>  }<br>}\",\"{<br>  \\\"number\\\": 44,<br>  \\\"values\\\": [<br>    4.449999999999985,<br>    0.47557067732967123<br>  ],<br>  \\\"params\\\": {<br>    \\\"take_profit\\\": 0.4377134234845338,<br>    \\\"stop_loss\\\": 0.05885338206175306<br>  }<br>}\",\"{<br>  \\\"number\\\": 45,<br>  \\\"values\\\": [<br>    -1.9600000000000142,<br>    0.40667217069005557<br>  ],<br>  \\\"params\\\": {<br>    \\\"take_profit\\\": 0.21629404345677794,<br>    \\\"stop_loss\\\": 0.10524996834805475<br>  }<br>}\",\"{<br>  \\\"number\\\": 46,<br>  \\\"values\\\": [<br>    5.5899999999999785,<br>    0.5116461087395514<br>  ],<br>  \\\"params\\\": {<br>    \\\"take_profit\\\": 0.3322178556912239,<br>    \\\"stop_loss\\\": 0.3026282171902923<br>  }<br>}\",\"{<br>  \\\"number\\\": 47,<br>  \\\"values\\\": [<br>    4.609999999999991,<br>    0.5197439267249939<br>  ],<br>  \\\"params\\\": {<br>    \\\"take_profit\\\": 0.1767617408006273,<br>    \\\"stop_loss\\\": 0.4766703276283116<br>  }<br>}\",\"{<br>  \\\"number\\\": 48,<br>  \\\"values\\\": [<br>    2.949999999999943,<br>    0.5449972915058918<br>  ],<br>  \\\"params\\\": {<br>    \\\"take_profit\\\": 0.45880943341647096,<br>    \\\"stop_loss\\\": 0.17870943141629086<br>  }<br>}\",\"{<br>  \\\"number\\\": 49,<br>  \\\"values\\\": [<br>    1.139999999999949,<br>    0.48077477861791174<br>  ],<br>  \\\"params\\\": {<br>    \\\"take_profit\\\": 0.34123110924521016,<br>    \\\"stop_loss\\\": 0.18912276793899518<br>  }<br>}\",\"{<br>  \\\"number\\\": 50,<br>  \\\"values\\\": [<br>    6.7699999999999925,<br>    0.6063126695480123<br>  ],<br>  \\\"params\\\": {<br>    \\\"take_profit\\\": 0.594017701942241,<br>    \\\"stop_loss\\\": 0.2503021455237313<br>  }<br>}\",\"{<br>  \\\"number\\\": 51,<br>  \\\"values\\\": [<br>    3.3599999999999803,<br>    0.4679432145923594<br>  ],<br>  \\\"params\\\": {<br>    \\\"take_profit\\\": 0.19144124872340545,<br>    \\\"stop_loss\\\": 0.3026282171902923<br>  }<br>}\",\"{<br>  \\\"number\\\": 52,<br>  \\\"values\\\": [<br>    3.0199999999999934,<br>    0.4741178937530749<br>  ],<br>  \\\"params\\\": {<br>    \\\"take_profit\\\": 0.12682584633069968,<br>    \\\"stop_loss\\\": 0.35227252417034044<br>  }<br>}\",\"{<br>  \\\"number\\\": 53,<br>  \\\"values\\\": [<br>    3.449999999999973,<br>    0.4984219147307116<br>  ],<br>  \\\"params\\\": {<br>    \\\"take_profit\\\": 0.4615971659777948,<br>    \\\"stop_loss\\\": 0.09218586045190838<br>  }<br>}\",\"{<br>  \\\"number\\\": 55,<br>  \\\"values\\\": [<br>    0.40999999999999237,<br>    0.44253351690041137<br>  ],<br>  \\\"params\\\": {<br>    \\\"take_profit\\\": 0.34123110924521016,<br>    \\\"stop_loss\\\": 0.09565103907125089<br>  }<br>}\",\"{<br>  \\\"number\\\": 56,<br>  \\\"values\\\": [<br>    -1.5000000000000249,<br>    0.431303940212671<br>  ],<br>  \\\"params\\\": {<br>    \\\"take_profit\\\": 0.21722644762704812,<br>    \\\"stop_loss\\\": 0.16544474656661257<br>  }<br>}\",\"{<br>  \\\"number\\\": 57,<br>  \\\"values\\\": [<br>    -1.1300000000000483,<br>    0.3785409516519472<br>  ],<br>  \\\"params\\\": {<br>    \\\"take_profit\\\": 0.17058230310106232,<br>    \\\"stop_loss\\\": 0.09805796371146802<br>  }<br>}\",\"{<br>  \\\"number\\\": 58,<br>  \\\"values\\\": [<br>    5.909999999999972,<br>    0.6225568317555608<br>  ],<br>  \\\"params\\\": {<br>    \\\"take_profit\\\": 0.46235892503362885,<br>    \\\"stop_loss\\\": 0.34609525212815995<br>  }<br>}\",\"{<br>  \\\"number\\\": 59,<br>  \\\"values\\\": [<br>    3.4800000000000213,<br>    0.5221192438524916<br>  ],<br>  \\\"params\\\": {<br>    \\\"take_profit\\\": 0.24109461632480095,<br>    \\\"stop_loss\\\": 0.40455288995287697<br>  }<br>}\",\"{<br>  \\\"number\\\": 60,<br>  \\\"values\\\": [<br>    6.569999999999958,<br>    0.6865897189565762<br>  ],<br>  \\\"params\\\": {<br>    \\\"take_profit\\\": 0.4689002421683636,<br>    \\\"stop_loss\\\": 0.5322787247195802<br>  }<br>}\",\"{<br>  \\\"number\\\": 61,<br>  \\\"values\\\": [<br>    5.729999999999997,<br>    0.6521386411310368<br>  ],<br>  \\\"params\\\": {<br>    \\\"take_profit\\\": 0.5970949258125836,<br>    \\\"stop_loss\\\": 0.3260690436028919<br>  }<br>}\",\"{<br>  \\\"number\\\": 62,<br>  \\\"values\\\": [<br>    6.529999999999955,<br>    0.6726339739620321<br>  ],<br>  \\\"params\\\": {<br>    \\\"take_profit\\\": 0.4775252329494681,<br>    \\\"stop_loss\\\": 0.4613853670997484<br>  }<br>}\",\"{<br>  \\\"number\\\": 63,<br>  \\\"values\\\": [<br>    1.739999999999982,<br>    0.47035132271739877<br>  ],<br>  \\\"params\\\": {<br>    \\\"take_profit\\\": 0.08875632949080547,<br>    \\\"stop_loss\\\": 0.41254554790994874<br>  }<br>}\",\"{<br>  \\\"number\\\": 64,<br>  \\\"values\\\": [<br>    4.789999999999999,<br>    0.5256007654242967<br>  ],<br>  \\\"params\\\": {<br>    \\\"take_profit\\\": 0.18544316440929137,<br>    \\\"stop_loss\\\": 0.5226160531745677<br>  }<br>}\",\"{<br>  \\\"number\\\": 65,<br>  \\\"values\\\": [<br>    6.399999999999999,<br>    0.6564193548049594<br>  ],<br>  \\\"params\\\": {<br>    \\\"take_profit\\\": 0.5927730019308612,<br>    \\\"stop_loss\\\": 0.3331966687967501<br>  }<br>}\",\"{<br>  \\\"number\\\": 66,<br>  \\\"values\\\": [<br>    7.479999999999993,<br>    0.5477864058546899<br>  ],<br>  \\\"params\\\": {<br>    \\\"take_profit\\\": 0.3046618797061607,<br>    \\\"stop_loss\\\": 0.4714992726763563<br>  }<br>}\",\"{<br>  \\\"number\\\": 67,<br>  \\\"values\\\": [<br>    3.5999999999999837,<br>    0.44874733821351914<br>  ],<br>  \\\"params\\\": {<br>    \\\"take_profit\\\": 0.12437212591274273,<br>    \\\"stop_loss\\\": 0.3025945850030997<br>  }<br>}\",\"{<br>  \\\"number\\\": 68,<br>  \\\"values\\\": [<br>    6.06000000000002,<br>    0.5441463944122714<br>  ],<br>  \\\"params\\\": {<br>    \\\"take_profit\\\": 0.21629404345677794,<br>    \\\"stop_loss\\\": 0.5353688803031675<br>  }<br>}\",\"{<br>  \\\"number\\\": 69,<br>  \\\"values\\\": [<br>    -0.42000000000004,<br>    0.37498551772589145<br>  ],<br>  \\\"params\\\": {<br>    \\\"take_profit\\\": 0.07928661700863204,<br>    \\\"stop_loss\\\": 0.15847025586927907<br>  }<br>}\",\"{<br>  \\\"number\\\": 70,<br>  \\\"values\\\": [<br>    3.9699999999999864,<br>    0.45695510974092285<br>  ],<br>  \\\"params\\\": {<br>    \\\"take_profit\\\": 0.17805305841186686,<br>    \\\"stop_loss\\\": 0.3053271723007889<br>  }<br>}\",\"{<br>  \\\"number\\\": 71,<br>  \\\"values\\\": [<br>    7.619999999999976,<br>    0.5626557028947632<br>  ],<br>  \\\"params\\\": {<br>    \\\"take_profit\\\": 0.4049942292595097,<br>    \\\"stop_loss\\\": 0.3551358153211372<br>  }<br>}\",\"{<br>  \\\"number\\\": 72,<br>  \\\"values\\\": [<br>    -0.6400000000000514,<br>    0.3991075057061403<br>  ],<br>  \\\"params\\\": {<br>    \\\"take_profit\\\": 0.15532629544967783,<br>    \\\"stop_loss\\\": 0.1689059599866649<br>  }<br>}\",\"{<br>  \\\"number\\\": 73,<br>  \\\"values\\\": [<br>    8.919999999999973,<br>    0.5792145793131324<br>  ],<br>  \\\"params\\\": {<br>    \\\"take_profit\\\": 0.41889084018018036,<br>    \\\"stop_loss\\\": 0.35853413327895484<br>  }<br>}\",\"{<br>  \\\"number\\\": 74,<br>  \\\"values\\\": [<br>    6.349999999999966,<br>    0.5384934063858158<br>  ],<br>  \\\"params\\\": {<br>    \\\"take_profit\\\": 0.41244813710444966,<br>    \\\"stop_loss\\\": 0.23269129713319103<br>  }<br>}\",\"{<br>  \\\"number\\\": 75,<br>  \\\"values\\\": [<br>    5.049999999999969,<br>    0.5209500456183339<br>  ],<br>  \\\"params\\\": {<br>    \\\"take_profit\\\": 0.40533662477878935,<br>    \\\"stop_loss\\\": 0.2332999423328943<br>  }<br>}\",\"{<br>  \\\"number\\\": 76,<br>  \\\"values\\\": [<br>    3.629999999999991,<br>    0.48036058454961894<br>  ],<br>  \\\"params\\\": {<br>    \\\"take_profit\\\": 0.15532629544967783,<br>    \\\"stop_loss\\\": 0.3737847689063924<br>  }<br>}\",\"{<br>  \\\"number\\\": 77,<br>  \\\"values\\\": [<br>    8.049999999999986,<br>    0.5714620331971638<br>  ],<br>  \\\"params\\\": {<br>    \\\"take_profit\\\": 0.33644182803793315,<br>    \\\"stop_loss\\\": 0.47989751952175047<br>  }<br>}\",\"{<br>  \\\"number\\\": 78,<br>  \\\"values\\\": [<br>    7.189999999999996,<br>    0.6969350106213854<br>  ],<br>  \\\"params\\\": {<br>    \\\"take_profit\\\": 0.4388427132661888,<br>    \\\"stop_loss\\\": 0.5942203730598987<br>  }<br>}\",\"{<br>  \\\"number\\\": 79,<br>  \\\"values\\\": [<br>    1.589999999999962,<br>    0.4863278686727202<br>  ],<br>  \\\"params\\\": {<br>    \\\"take_profit\\\": 0.053392947693110926,<br>    \\\"stop_loss\\\": 0.5561192967867635<br>  }<br>}\",\"{<br>  \\\"number\\\": 80,<br>  \\\"values\\\": [<br>    1.2300000000000058,<br>    0.42689036667589536<br>  ],<br>  \\\"params\\\": {<br>    \\\"take_profit\\\": 0.37027401443441904,<br>    \\\"stop_loss\\\": 0.05152728984202651<br>  }<br>}\",\"{<br>  \\\"number\\\": 82,<br>  \\\"values\\\": [<br>    0.309999999999909,<br>    0.3453409936799688<br>  ],<br>  \\\"params\\\": {<br>    \\\"take_profit\\\": 0.0595366319200447,<br>    \\\"stop_loss\\\": 0.07514395964517706<br>  }<br>}\",\"{<br>  \\\"number\\\": 83,<br>  \\\"values\\\": [<br>    2.049999999999978,<br>    0.48011378508125996<br>  ],<br>  \\\"params\\\": {<br>    \\\"take_profit\\\": 0.06594641763620393,<br>    \\\"stop_loss\\\": 0.485516170416043<br>  }<br>}\",\"{<br>  \\\"number\\\": 84,<br>  \\\"values\\\": [<br>    -0.5599999999999923,<br>    0.4508007142303757<br>  ],<br>  \\\"params\\\": {<br>    \\\"take_profit\\\": 0.3515714987530641,<br>    \\\"stop_loss\\\": 0.12631660912834602<br>  }<br>}\",\"{<br>  \\\"number\\\": 85,<br>  \\\"values\\\": [<br>    9.209999999999976,<br>    0.6438489923031092<br>  ],<br>  \\\"params\\\": {<br>    \\\"take_profit\\\": 0.4377134234845338,<br>    \\\"stop_loss\\\": 0.4613853670997484<br>  }<br>}\",\"{<br>  \\\"number\\\": 86,<br>  \\\"values\\\": [<br>    -2.0199999999999942,<br>    0.42142418764912815<br>  ],<br>  \\\"params\\\": {<br>    \\\"take_profit\\\": 0.28476758918176504,<br>    \\\"stop_loss\\\": 0.11829945399293398<br>  }<br>}\",\"{<br>  \\\"number\\\": 87,<br>  \\\"values\\\": [<br>    6.089999999999968,<br>    0.7147369806094632<br>  ],<br>  \\\"params\\\": {<br>    \\\"take_profit\\\": 0.5899602018099971,<br>    \\\"stop_loss\\\": 0.4770673875040109<br>  }<br>}\",\"{<br>  \\\"number\\\": 88,<br>  \\\"values\\\": [<br>    3.5700000000000105,<br>    0.5067319104624584<br>  ],<br>  \\\"params\\\": {<br>    \\\"take_profit\\\": 0.2405223440022396,<br>    \\\"stop_loss\\\": 0.35378574883577957<br>  }<br>}\",\"{<br>  \\\"number\\\": 89,<br>  \\\"values\\\": [<br>    1.93999999999996,<br>    0.5679093818093166<br>  ],<br>  \\\"params\\\": {<br>    \\\"take_profit\\\": 0.5365494621611177,<br>    \\\"stop_loss\\\": 0.20888889478504613<br>  }<br>}\",\"{<br>  \\\"number\\\": 90,<br>  \\\"values\\\": [<br>    1.9699999999999815,<br>    0.5439607986101678<br>  ],<br>  \\\"params\\\": {<br>    \\\"take_profit\\\": 0.5640701744487276,<br>    \\\"stop_loss\\\": 0.16690076842251408<br>  }<br>}\",\"{<br>  \\\"number\\\": 91,<br>  \\\"values\\\": [<br>    4.959999999999965,<br>    0.5201873547075326<br>  ],<br>  \\\"params\\\": {<br>    \\\"take_profit\\\": 0.39266633853285565,<br>    \\\"stop_loss\\\": 0.22654781702060695<br>  }<br>}\",\"{<br>  \\\"number\\\": 92,<br>  \\\"values\\\": [<br>    2.159999999999986,<br>    0.4945255863507522<br>  ],<br>  \\\"params\\\": {<br>    \\\"take_profit\\\": 0.06109586616842523,<br>    \\\"stop_loss\\\": 0.5639242097575835<br>  }<br>}\",\"{<br>  \\\"number\\\": 93,<br>  \\\"values\\\": [<br>    7.769999999999985,<br>    0.6019075639388859<br>  ],<br>  \\\"params\\\": {<br>    \\\"take_profit\\\": 0.331992189602339,<br>    \\\"stop_loss\\\": 0.585055210168876<br>  }<br>}\",\"{<br>  \\\"number\\\": 94,<br>  \\\"values\\\": [<br>    6.219999999999985,<br>    0.6660364778626989<br>  ],<br>  \\\"params\\\": {<br>    \\\"take_profit\\\": 0.5879330748054001,<br>    \\\"stop_loss\\\": 0.37905965636385397<br>  }<br>}\",\"{<br>  \\\"number\\\": 95,<br>  \\\"values\\\": [<br>    6.939999999999987,<br>    0.7437722925809395<br>  ],<br>  \\\"params\\\": {<br>    \\\"take_profit\\\": 0.5832464005753383,<br>    \\\"stop_loss\\\": 0.5617773236961255<br>  }<br>}\",\"{<br>  \\\"number\\\": 96,<br>  \\\"values\\\": [<br>    -0.010000000000021991,<br>    0.4669881084737834<br>  ],<br>  \\\"params\\\": {<br>    \\\"take_profit\\\": 0.33644182803793315,<br>    \\\"stop_loss\\\": 0.16690076842251408<br>  }<br>}\",\"{<br>  \\\"number\\\": 97,<br>  \\\"values\\\": [<br>    8.52999999999998,<br>    0.6641472044631906<br>  ],<br>  \\\"params\\\": {<br>    \\\"take_profit\\\": 0.4388427132661888,<br>    \\\"stop_loss\\\": 0.547536770458639<br>  }<br>}\",\"{<br>  \\\"number\\\": 98,<br>  \\\"values\\\": [<br>    6.259999999999977,<br>    0.7151922603197677<br>  ],<br>  \\\"params\\\": {<br>    \\\"take_profit\\\": 0.5930113743456349,<br>    \\\"stop_loss\\\": 0.4714731772115439<br>  }<br>}\",\"{<br>  \\\"number\\\": 99,<br>  \\\"values\\\": [<br>    5.789999999999992,<br>    0.5266822872412161<br>  ],<br>  \\\"params\\\": {<br>    \\\"take_profit\\\": 0.32268430986155655,<br>    \\\"stop_loss\\\": 0.3528403544045596<br>  }<br>}\",\"{<br>  \\\"number\\\": 100,<br>  \\\"values\\\": [<br>    4.4699999999999775,<br>    0.5004939903485359<br>  ],<br>  \\\"params\\\": {<br>    \\\"take_profit\\\": 0.14749574843279173,<br>    \\\"stop_loss\\\": 0.4431687082790919<br>  }<br>}\",\"{<br>  \\\"number\\\": 101,<br>  \\\"values\\\": [<br>    3.3400000000000025,<br>    0.509729197563083<br>  ],<br>  \\\"params\\\": {<br>    \\\"take_profit\\\": 0.12437212591274273,<br>    \\\"stop_loss\\\": 0.49334998155522575<br>  }<br>}\",\"{<br>  \\\"number\\\": 102,<br>  \\\"values\\\": [<br>    5.229999999999974,<br>    0.7094108823902746<br>  ],<br>  \\\"params\\\": {<br>    \\\"take_profit\\\": 0.48883161134639236,<br>    \\\"stop_loss\\\": 0.5674706760059371<br>  }<br>}\",\"{<br>  \\\"number\\\": 103,<br>  \\\"values\\\": [<br>    0.6200000000000001,<br>    0.43521040746451817<br>  ],<br>  \\\"params\\\": {<br>    \\\"take_profit\\\": 0.37027401443441904,<br>    \\\"stop_loss\\\": 0.08565939805852818<br>  }<br>}\",\"{<br>  \\\"number\\\": 104,<br>  \\\"values\\\": [<br>    0.40999999999999237,<br>    0.44253351690041137<br>  ],<br>  \\\"params\\\": {<br>    \\\"take_profit\\\": 0.34123110924521016,<br>    \\\"stop_loss\\\": 0.09565103907125089<br>  }<br>}\",\"{<br>  \\\"number\\\": 105,<br>  \\\"values\\\": [<br>    8.929999999999968,<br>    0.5870223064227758<br>  ],<br>  \\\"params\\\": {<br>    \\\"take_profit\\\": 0.37085426773928404,<br>    \\\"stop_loss\\\": 0.5369060645414534<br>  }<br>}\",\"{<br>  \\\"number\\\": 106,<br>  \\\"values\\\": [<br>    3.9999999999999876,<br>    0.4725222024772062<br>  ],<br>  \\\"params\\\": {<br>    \\\"take_profit\\\": 0.15532629544967783,<br>    \\\"stop_loss\\\": 0.34768162576392914<br>  }<br>}\",\"{<br>  \\\"number\\\": 107,<br>  \\\"values\\\": [<br>    1.2699999999999692,<br>    0.48026616034766234<br>  ],<br>  \\\"params\\\": {<br>    \\\"take_profit\\\": 0.06109586616842523,<br>    \\\"stop_loss\\\": 0.45477496090350455<br>  }<br>}\",\"{<br>  \\\"number\\\": 108,<br>  \\\"values\\\": [<br>    -1.1100000000000483,<br>    0.3905804811661667<br>  ],<br>  \\\"params\\\": {<br>    \\\"take_profit\\\": 0.10838326092768136,<br>    \\\"stop_loss\\\": 0.1689059599866649<br>  }<br>}\",\"{<br>  \\\"number\\\": 109,<br>  \\\"values\\\": [<br>    5.96999999999997,<br>    0.7042613029269191<br>  ],<br>  \\\"params\\\": {<br>    \\\"take_profit\\\": 0.47605777773860997,<br>    \\\"stop_loss\\\": 0.576484288968423<br>  }<br>}\",\"{<br>  \\\"number\\\": 110,<br>  \\\"values\\\": [<br>    3.629999999999991,<br>    0.48036058454961894<br>  ],<br>  \\\"params\\\": {<br>    \\\"take_profit\\\": 0.15532629544967783,<br>    \\\"stop_loss\\\": 0.3737847689063924<br>  }<br>}\",\"{<br>  \\\"number\\\": 111,<br>  \\\"values\\\": [<br>    5.959999999999962,<br>    0.6906063539344784<br>  ],<br>  \\\"params\\\": {<br>    \\\"take_profit\\\": 0.5129944978593847,<br>    \\\"stop_loss\\\": 0.4852825323992618<br>  }<br>}\",\"{<br>  \\\"number\\\": 112,<br>  \\\"values\\\": [<br>    4.069999999999978,<br>    0.4983789456509713<br>  ],<br>  \\\"params\\\": {<br>    \\\"take_profit\\\": 0.33893472016312254,<br>    \\\"stop_loss\\\": 0.24084717847197612<br>  }<br>}\",\"{<br>  \\\"number\\\": 113,<br>  \\\"values\\\": [<br>    7.6,<br>    0.6394190642551492<br>  ],<br>  \\\"params\\\": {<br>    \\\"take_profit\\\": 0.4049942292595097,<br>    \\\"stop_loss\\\": 0.5782342559019737<br>  }<br>}\",\"{<br>  \\\"number\\\": 114,<br>  \\\"values\\\": [<br>    3.279999999999964,<br>    0.5151458855962182<br>  ],<br>  \\\"params\\\": {<br>    \\\"take_profit\\\": 0.41494272163006507,<br>    \\\"stop_loss\\\": 0.1689059599866649<br>  }<br>}\",\"{<br>  \\\"number\\\": 115,<br>  \\\"values\\\": [<br>    3.38999999999999,<br>    0.48648446619301977<br>  ],<br>  \\\"params\\\": {<br>    \\\"take_profit\\\": 0.49744413205817534,<br>    \\\"stop_loss\\\": 0.05975361533952985<br>  }<br>}\",\"{<br>  \\\"number\\\": 116,<br>  \\\"values\\\": [<br>    -0.5500000000000425,<br>    0.4466748278544831<br>  ],<br>  \\\"params\\\": {<br>    \\\"take_profit\\\": 0.2080413338379899,<br>    \\\"stop_loss\\\": 0.20373806461345012<br>  }<br>}\",\"{<br>  \\\"number\\\": 117,<br>  \\\"values\\\": [<br>    8.189999999999976,<br>    0.5597608698408264<br>  ],<br>  \\\"params\\\": {<br>    \\\"take_profit\\\": 0.4193862236915465,<br>    \\\"stop_loss\\\": 0.3083485444990677<br>  }<br>}\",\"{<br>  \\\"number\\\": 118,<br>  \\\"values\\\": [<br>    1.8199999999999827,<br>    0.4653341796605213<br>  ],<br>  \\\"params\\\": {<br>    \\\"take_profit\\\": 0.40533662477878935,<br>    \\\"stop_loss\\\": 0.09805796371146802<br>  }<br>}\",\"{<br>  \\\"number\\\": 119,<br>  \\\"values\\\": [<br>    6.579999999999984,<br>    0.6605241023942651<br>  ],<br>  \\\"params\\\": {<br>    \\\"take_profit\\\": 0.5807236667347038,<br>    \\\"stop_loss\\\": 0.35227252417034044<br>  }<br>}\",\"{<br>  \\\"number\\\": 120,<br>  \\\"values\\\": [<br>    5.049999999999969,<br>    0.5209500456183339<br>  ],<br>  \\\"params\\\": {<br>    \\\"take_profit\\\": 0.40533662477878935,<br>    \\\"stop_loss\\\": 0.2332999423328943<br>  }<br>}\",\"{<br>  \\\"number\\\": 121,<br>  \\\"values\\\": [<br>    5.459999999999972,<br>    0.5838012066434896<br>  ],<br>  \\\"params\\\": {<br>    \\\"take_profit\\\": 0.5268756957838568,<br>    \\\"stop_loss\\\": 0.22654781702060695<br>  }<br>}\",\"{<br>  \\\"number\\\": 122,<br>  \\\"values\\\": [<br>    1.989999999999986,<br>    0.5075894942482571<br>  ],<br>  \\\"params\\\": {<br>    \\\"take_profit\\\": 0.41244813710444966,<br>    \\\"stop_loss\\\": 0.14206464207930858<br>  }<br>}\",\"{<br>  \\\"number\\\": 123,<br>  \\\"values\\\": [<br>    1.9399999999999689,<br>    0.4348202826423773<br>  ],<br>  \\\"params\\\": {<br>    \\\"take_profit\\\": 0.08875632949080547,<br>    \\\"stop_loss\\\": 0.31063850675492655<br>  }<br>}\",\"{<br>  \\\"number\\\": 124,<br>  \\\"values\\\": [<br>    7.479999999999993,<br>    0.5477864058546899<br>  ],<br>  \\\"params\\\": {<br>    \\\"take_profit\\\": 0.3046618797061607,<br>    \\\"stop_loss\\\": 0.4714992726763563<br>  }<br>}\",\"{<br>  \\\"number\\\": 125,<br>  \\\"values\\\": [<br>    -0.5599999999999923,<br>    0.4508007142303757<br>  ],<br>  \\\"params\\\": {<br>    \\\"take_profit\\\": 0.34123110924521016,<br>    \\\"stop_loss\\\": 0.1254568654942535<br>  }<br>}\",\"{<br>  \\\"number\\\": 126,<br>  \\\"values\\\": [<br>    7.029999999999973,<br>    0.5366364890302899<br>  ],<br>  \\\"params\\\": {<br>    \\\"take_profit\\\": 0.3726092806040369,<br>    \\\"stop_loss\\\": 0.3551358153211372<br>  }<br>}\",\"{<br>  \\\"number\\\": 127,<br>  \\\"values\\\": [<br>    6.679999999999996,<br>    0.5420866763623196<br>  ],<br>  \\\"params\\\": {<br>    \\\"take_profit\\\": 0.26420820939153805,<br>    \\\"stop_loss\\\": 0.4766703276283116<br>  }<br>}\",\"{<br>  \\\"number\\\": 128,<br>  \\\"values\\\": [<br>    5.099999999999994,<br>    0.5256259760197045<br>  ],<br>  \\\"params\\\": {<br>    \\\"take_profit\\\": 0.17805305841186686,<br>    \\\"stop_loss\\\": 0.5304113232844587<br>  }<br>}\",\"{<br>  \\\"number\\\": 129,<br>  \\\"values\\\": [<br>    4.41,<br>    0.6597735751018657<br>  ],<br>  \\\"params\\\": {<br>    \\\"take_profit\\\": 0.5305779120851668,<br>    \\\"stop_loss\\\": 0.3905498740858087<br>  }<br>}\",\"{<br>  \\\"number\\\": 130,<br>  \\\"values\\\": [<br>    6.409999999999966,<br>    0.7071963183060546<br>  ],<br>  \\\"params\\\": {<br>    \\\"take_profit\\\": 0.5875751074908843,<br>    \\\"stop_loss\\\": 0.44584706863991097<br>  }<br>}\",\"{<br>  \\\"number\\\": 131,<br>  \\\"values\\\": [<br>    0.2799999999999461,<br>    0.40472411196430214<br>  ],<br>  \\\"params\\\": {<br>    \\\"take_profit\\\": 0.11997065403121249,<br>    \\\"stop_loss\\\": 0.20373641222031869<br>  }<br>}\",\"{<br>  \\\"number\\\": 132,<br>  \\\"values\\\": [<br>    5.299999999999997,<br>    0.5110256549301566<br>  ],<br>  \\\"params\\\": {<br>    \\\"take_profit\\\": 0.3046618797061607,<br>    \\\"stop_loss\\\": 0.36957997493472405<br>  }<br>}\",\"{<br>  \\\"number\\\": 133,<br>  \\\"values\\\": [<br>    5.490000000000016,<br>    0.5426699836943746<br>  ],<br>  \\\"params\\\": {<br>    \\\"take_profit\\\": 0.22442777398816444,<br>    \\\"stop_loss\\\": 0.4714992726763563<br>  }<br>}\",\"{<br>  \\\"number\\\": 134,<br>  \\\"values\\\": [<br>    3.629999999999991,<br>    0.48036058454961894<br>  ],<br>  \\\"params\\\": {<br>    \\\"take_profit\\\": 0.15532629544967783,<br>    \\\"stop_loss\\\": 0.3737847689063924<br>  }<br>}\",\"{<br>  \\\"number\\\": 135,<br>  \\\"values\\\": [<br>    7.729999999999983,<br>    0.548524447023982<br>  ],<br>  \\\"params\\\": {<br>    \\\"take_profit\\\": 0.3515714987530641,<br>    \\\"stop_loss\\\": 0.41254554790994874<br>  }<br>}\",\"{<br>  \\\"number\\\": 136,<br>  \\\"values\\\": [<br>    3.5500000000000105,<br>    0.5136836239906977<br>  ],<br>  \\\"params\\\": {<br>    \\\"take_profit\\\": 0.12562772687422358,<br>    \\\"stop_loss\\\": 0.5377361564305431<br>  }<br>}\",\"{<br>  \\\"number\\\": 137,<br>  \\\"values\\\": [<br>    6.489999999999963,<br>    0.6738716890138933<br>  ],<br>  \\\"params\\\": {<br>    \\\"take_profit\\\": 0.4490403569712692,<br>    \\\"stop_loss\\\": 0.5226160531745677<br>  }<br>}\",\"{<br>  \\\"number\\\": 138,<br>  \\\"values\\\": [<br>    7.529999999999973,<br>    0.5619690145669362<br>  ],<br>  \\\"params\\\": {<br>    \\\"take_profit\\\": 0.39266633853285565,<br>    \\\"stop_loss\\\": 0.3528403544045596<br>  }<br>}\",\"{<br>  \\\"number\\\": 139,<br>  \\\"values\\\": [<br>    4.2699999999999845,<br>    0.4694401583628492<br>  ],<br>  \\\"params\\\": {<br>    \\\"take_profit\\\": 0.15532629544967783,<br>    \\\"stop_loss\\\": 0.3265770655408753<br>  }<br>}\",\"{<br>  \\\"number\\\": 141,<br>  \\\"values\\\": [<br>    2.259999999999986,<br>    0.4805351265397599<br>  ],<br>  \\\"params\\\": {<br>    \\\"take_profit\\\": 0.08755945070889459,<br>    \\\"stop_loss\\\": 0.47989751952175047<br>  }<br>}\",\"{<br>  \\\"number\\\": 142,<br>  \\\"values\\\": [<br>    4.010000000000001,<br>    0.47978614532523184<br>  ],<br>  \\\"params\\\": {<br>    \\\"take_profit\\\": 0.2359862894369339,<br>    \\\"stop_loss\\\": 0.30814304343611104<br>  }<br>}\",\"{<br>  \\\"number\\\": 143,<br>  \\\"values\\\": [<br>    -2.090000000000032,<br>    0.37753585589005756<br>  ],<br>  \\\"params\\\": {<br>    \\\"take_profit\\\": 0.11893738952979167,<br>    \\\"stop_loss\\\": 0.12631660912834602<br>  }<br>}\",\"{<br>  \\\"number\\\": 144,<br>  \\\"values\\\": [<br>    2.9299999999999735,<br>    0.5275913381766514<br>  ],<br>  \\\"params\\\": {<br>    \\\"take_profit\\\": 0.4388427132661888,<br>    \\\"stop_loss\\\": 0.1573896782443731<br>  }<br>}\",\"{<br>  \\\"number\\\": 145,<br>  \\\"values\\\": [<br>    7.479999999999993,<br>    0.5477864058546899<br>  ],<br>  \\\"params\\\": {<br>    \\\"take_profit\\\": 0.3046618797061607,<br>    \\\"stop_loss\\\": 0.4714992726763563<br>  }<br>}\",\"{<br>  \\\"number\\\": 146,<br>  \\\"values\\\": [<br>    2.39999999999995,<br>    0.4715710325648992<br>  ],<br>  \\\"params\\\": {<br>    \\\"take_profit\\\": 0.0595366319200447,<br>    \\\"stop_loss\\\": 0.5233352191132552<br>  }<br>}\",\"{<br>  \\\"number\\\": 147,<br>  \\\"values\\\": [<br>    -0.020000000000047535,<br>    0.45823152858227495<br>  ],<br>  \\\"params\\\": {<br>    \\\"take_profit\\\": 0.3199034797738727,<br>    \\\"stop_loss\\\": 0.18638205096201382<br>  }<br>}\",\"{<br>  \\\"number\\\": 148,<br>  \\\"values\\\": [<br>    -2.1400000000000454,<br>    0.3926167655813515<br>  ],<br>  \\\"params\\\": {<br>    \\\"take_profit\\\": 0.17260745355468038,<br>    \\\"stop_loss\\\": 0.13681743990029394<br>  }<br>}\",\"{<br>  \\\"number\\\": 149,<br>  \\\"values\\\": [<br>    4.4800000000000075,<br>    0.5085599910166059<br>  ],<br>  \\\"params\\\": {<br>    \\\"take_profit\\\": 0.5844843491361422,<br>    \\\"stop_loss\\\": 0.05881500969702432<br>  }<br>}\",\"{<br>  \\\"number\\\": 150,<br>  \\\"values\\\": [<br>    0.309999999999909,<br>    0.3453409936799688<br>  ],<br>  \\\"params\\\": {<br>    \\\"take_profit\\\": 0.0595366319200447,<br>    \\\"stop_loss\\\": 0.07514395964517706<br>  }<br>}\",\"{<br>  \\\"number\\\": 151,<br>  \\\"values\\\": [<br>    5.8199999999999825,<br>    0.5229666351775383<br>  ],<br>  \\\"params\\\": {<br>    \\\"take_profit\\\": 0.33883125598324193,<br>    \\\"stop_loss\\\": 0.3265770655408753<br>  }<br>}\",\"{<br>  \\\"number\\\": 153,<br>  \\\"values\\\": [<br>    1.9399999999999689,<br>    0.4348202826423773<br>  ],<br>  \\\"params\\\": {<br>    \\\"take_profit\\\": 0.08875632949080547,<br>    \\\"stop_loss\\\": 0.31063850675492655<br>  }<br>}\",\"{<br>  \\\"number\\\": 154,<br>  \\\"values\\\": [<br>    3.699999999999995,<br>    0.48336892902000866<br>  ],<br>  \\\"params\\\": {<br>    \\\"take_profit\\\": 0.14716195580030333,<br>    \\\"stop_loss\\\": 0.40158912840069394<br>  }<br>}\",\"{<br>  \\\"number\\\": 155,<br>  \\\"values\\\": [<br>    5.959999999999962,<br>    0.6906063539344784<br>  ],<br>  \\\"params\\\": {<br>    \\\"take_profit\\\": 0.5105462753957023,<br>    \\\"stop_loss\\\": 0.4766703276283116<br>  }<br>}\",\"{<br>  \\\"number\\\": 156,<br>  \\\"values\\\": [<br>    -0.6700000000000141,<br>    0.417029097256309<br>  ],<br>  \\\"params\\\": {<br>    \\\"take_profit\\\": 0.31226248005294754,<br>    \\\"stop_loss\\\": 0.09565103907125089<br>  }<br>}\",\"{<br>  \\\"number\\\": 157,<br>  \\\"values\\\": [<br>    7.909999999999965,<br>    0.6161632381882863<br>  ],<br>  \\\"params\\\": {<br>    \\\"take_profit\\\": 0.3726092806040369,<br>    \\\"stop_loss\\\": 0.5872631095203508<br>  }<br>}\",\"{<br>  \\\"number\\\": 158,<br>  \\\"values\\\": [<br>    5.8199999999999825,<br>    0.5229666351775383<br>  ],<br>  \\\"params\\\": {<br>    \\\"take_profit\\\": 0.3376277658272184,<br>    \\\"stop_loss\\\": 0.3265770655408753<br>  }<br>}\",\"{<br>  \\\"number\\\": 159,<br>  \\\"values\\\": [<br>    5.789999999999992,<br>    0.5266822872412161<br>  ],<br>  \\\"params\\\": {<br>    \\\"take_profit\\\": 0.32268430986155655,<br>    \\\"stop_loss\\\": 0.3528403544045596<br>  }<br>}\",\"{<br>  \\\"number\\\": 160,<br>  \\\"values\\\": [<br>    -1.570000000000046,<br>    0.38311402293656244<br>  ],<br>  \\\"params\\\": {<br>    \\\"take_profit\\\": 0.18942825736496038,<br>    \\\"stop_loss\\\": 0.09437797836085968<br>  }<br>}\",\"{<br>  \\\"number\\\": 161,<br>  \\\"values\\\": [<br>    1.4799999999999507,<br>    0.42694353856683015<br>  ],<br>  \\\"params\\\": {<br>    \\\"take_profit\\\": 0.09213137643214683,<br>    \\\"stop_loss\\\": 0.2517836637117139<br>  }<br>}\",\"{<br>  \\\"number\\\": 163,<br>  \\\"values\\\": [<br>    7.719999999999992,<br>    0.5479382229516031<br>  ],<br>  \\\"params\\\": {<br>    \\\"take_profit\\\": 0.41889084018018036,<br>    \\\"stop_loss\\\": 0.2776809362529668<br>  }<br>}\",\"{<br>  \\\"number\\\": 164,<br>  \\\"values\\\": [<br>    8.84999999999997,<br>    0.5884904475909273<br>  ],<br>  \\\"params\\\": {<br>    \\\"take_profit\\\": 0.37027401443441904,<br>    \\\"stop_loss\\\": 0.5508622214263461<br>  }<br>}\",\"{<br>  \\\"number\\\": 165,<br>  \\\"values\\\": [<br>    1.0799999999999552,<br>    0.44778223015289653<br>  ],<br>  \\\"params\\\": {<br>    \\\"take_profit\\\": 0.06551688349859834,<br>    \\\"stop_loss\\\": 0.3265770655408753<br>  }<br>}\",\"{<br>  \\\"number\\\": 166,<br>  \\\"values\\\": [<br>    7.479999999999993,<br>    0.5477864058546899<br>  ],<br>  \\\"params\\\": {<br>    \\\"take_profit\\\": 0.3046618797061607,<br>    \\\"stop_loss\\\": 0.47989751952175047<br>  }<br>}\",\"{<br>  \\\"number\\\": 167,<br>  \\\"values\\\": [<br>    8.929999999999968,<br>    0.5870223064227758<br>  ],<br>  \\\"params\\\": {<br>    \\\"take_profit\\\": 0.37027401443441904,<br>    \\\"stop_loss\\\": 0.5372208293404493<br>  }<br>}\",\"{<br>  \\\"number\\\": 168,<br>  \\\"values\\\": [<br>    3.039999999999995,<br>    0.47370233624966296<br>  ],<br>  \\\"params\\\": {<br>    \\\"take_profit\\\": 0.26420820939153805,<br>    \\\"stop_loss\\\": 0.2563476101703586<br>  }<br>}\",\"{<br>  \\\"number\\\": 169,<br>  \\\"values\\\": [<br>    2.0499999999999803,<br>    0.46101043877766984<br>  ],<br>  \\\"params\\\": {<br>    \\\"take_profit\\\": 0.2238721469219921,<br>    \\\"stop_loss\\\": 0.23269129713319103<br>  }<br>}\",\"{<br>  \\\"number\\\": 171,<br>  \\\"values\\\": [<br>    8.539999999999985,<br>    0.5765406636124195<br>  ],<br>  \\\"params\\\": {<br>    \\\"take_profit\\\": 0.4004834849679575,<br>    \\\"stop_loss\\\": 0.41254554790994874<br>  }<br>}\",\"{<br>  \\\"number\\\": 172,<br>  \\\"values\\\": [<br>    8.649999999999988,<br>    0.5524348730980996<br>  ],<br>  \\\"params\\\": {<br>    \\\"take_profit\\\": 0.3118031495741312,<br>    \\\"stop_loss\\\": 0.5423212697820018<br>  }<br>}\",\"{<br>  \\\"number\\\": 173,<br>  \\\"values\\\": [<br>    -0.4800000000000466,<br>    0.36538792171243567<br>  ],<br>  \\\"params\\\": {<br>    \\\"take_profit\\\": 0.17805305841186686,<br>    \\\"stop_loss\\\": 0.07514395964517706<br>  }<br>}\",\"{<br>  \\\"number\\\": 174,<br>  \\\"values\\\": [<br>    4.5699999999999825,<br>    0.4485190702761521<br>  ],<br>  \\\"params\\\": {<br>    \\\"take_profit\\\": 0.15532629544967783,<br>    \\\"stop_loss\\\": 0.30580647115772946<br>  }<br>}\",\"{<br>  \\\"number\\\": 175,<br>  \\\"values\\\": [<br>    4.4699999999999775,<br>    0.5004939903485359<br>  ],<br>  \\\"params\\\": {<br>    \\\"take_profit\\\": 0.14749574843279173,<br>    \\\"stop_loss\\\": 0.4431687082790919<br>  }<br>}\",\"{<br>  \\\"number\\\": 176,<br>  \\\"values\\\": [<br>    3.5999999999999837,<br>    0.44874733821351914<br>  ],<br>  \\\"params\\\": {<br>    \\\"take_profit\\\": 0.11980121255209804,<br>    \\\"stop_loss\\\": 0.3080033578014778<br>  }<br>}\",\"{<br>  \\\"number\\\": 177,<br>  \\\"values\\\": [<br>    9.309999999999963,<br>    0.6381631856644456<br>  ],<br>  \\\"params\\\": {<br>    \\\"take_profit\\\": 0.4330364260875638,<br>    \\\"stop_loss\\\": 0.4431687082790919<br>  }<br>}\",\"{<br>  \\\"number\\\": 178,<br>  \\\"values\\\": [<br>    -1.3699999999999886,<br>    0.43854377245512<br>  ],<br>  \\\"params\\\": {<br>    \\\"take_profit\\\": 0.32268430986155655,<br>    \\\"stop_loss\\\": 0.12557695846198802<br>  }<br>}\",\"{<br>  \\\"number\\\": 180,<br>  \\\"values\\\": [<br>    6.189999999999966,<br>    0.6930559033780033<br>  ],<br>  \\\"params\\\": {<br>    \\\"take_profit\\\": 0.5229393571224463,<br>    \\\"stop_loss\\\": 0.4714992726763563<br>  }<br>}\",\"{<br>  \\\"number\\\": 181,<br>  \\\"values\\\": [<br>    4.139999999999983,<br>    0.6289513980516386<br>  ],<br>  \\\"params\\\": {<br>    \\\"take_profit\\\": 0.5310124855278281,<br>    \\\"stop_loss\\\": 0.3025945850030997<br>  }<br>}\",\"{<br>  \\\"number\\\": 182,<br>  \\\"values\\\": [<br>    5.7699999999999925,<br>    0.5998367672763506<br>  ],<br>  \\\"params\\\": {<br>    \\\"take_profit\\\": 0.5194140617556572,<br>    \\\"stop_loss\\\": 0.26581263068838124<br>  }<br>}\",\"{<br>  \\\"number\\\": 183,<br>  \\\"values\\\": [<br>    6.420000000000002,<br>    0.5172961498664638<br>  ],<br>  \\\"params\\\": {<br>    \\\"take_profit\\\": 0.26420820939153805,<br>    \\\"stop_loss\\\": 0.4250026356435156<br>  }<br>}\",\"{<br>  \\\"number\\\": 184,<br>  \\\"values\\\": [<br>    4.2699999999999845,<br>    0.4694401583628492<br>  ],<br>  \\\"params\\\": {<br>    \\\"take_profit\\\": 0.15532629544967783,<br>    \\\"stop_loss\\\": 0.3265770655408753<br>  }<br>}\",\"{<br>  \\\"number\\\": 185,<br>  \\\"values\\\": [<br>    3.8500000000000036,<br>    0.4680968345737438<br>  ],<br>  \\\"params\\\": {<br>    \\\"take_profit\\\": 0.24651512718545382,<br>    \\\"stop_loss\\\": 0.2665791402748821<br>  }<br>}\",\"{<br>  \\\"number\\\": 186,<br>  \\\"values\\\": [<br>    6.9399999999999835,<br>    0.5516458019878563<br>  ],<br>  \\\"params\\\": {<br>    \\\"take_profit\\\": 0.37085426773928404,<br>    \\\"stop_loss\\\": 0.40339515907882945<br>  }<br>}\",\"{<br>  \\\"number\\\": 187,<br>  \\\"values\\\": [<br>    4.640000000000001,<br>    0.5409514909449425<br>  ],<br>  \\\"params\\\": {<br>    \\\"take_profit\\\": 0.21746801106030206,<br>    \\\"stop_loss\\\": 0.4431687082790919<br>  }<br>}\",\"{<br>  \\\"number\\\": 188,<br>  \\\"values\\\": [<br>    -2.090000000000032,<br>    0.37753585589005756<br>  ],<br>  \\\"params\\\": {<br>    \\\"take_profit\\\": 0.11893738952979167,<br>    \\\"stop_loss\\\": 0.12631660912834602<br>  }<br>}\",\"{<br>  \\\"number\\\": 189,<br>  \\\"values\\\": [<br>    3.3399999999999497,<br>    0.5451840389592529<br>  ],<br>  \\\"params\\\": {<br>    \\\"take_profit\\\": 0.4377134234845338,<br>    \\\"stop_loss\\\": 0.2037011760030818<br>  }<br>}\",\"{<br>  \\\"number\\\": 190,<br>  \\\"values\\\": [<br>    8.879999999999999,<br>    0.5767027825093065<br>  ],<br>  \\\"params\\\": {<br>    \\\"take_profit\\\": 0.335589419299287,<br>    \\\"stop_loss\\\": 0.567752123063268<br>  }<br>}\",\"{<br>  \\\"number\\\": 191,<br>  \\\"values\\\": [<br>    3.6899999999999826,<br>    0.49499260896182024<br>  ],<br>  \\\"params\\\": {<br>    \\\"take_profit\\\": 0.32268430986155655,<br>    \\\"stop_loss\\\": 0.2498014652672499<br>  }<br>}\",\"{<br>  \\\"number\\\": 192,<br>  \\\"values\\\": [<br>    9.209999999999976,<br>    0.6438489923031092<br>  ],<br>  \\\"params\\\": {<br>    \\\"take_profit\\\": 0.4377134234845338,<br>    \\\"stop_loss\\\": 0.4613853670997484<br>  }<br>}\",\"{<br>  \\\"number\\\": 193,<br>  \\\"values\\\": [<br>    4.629999999999985,<br>    0.49352407365676554<br>  ],<br>  \\\"params\\\": {<br>    \\\"take_profit\\\": 0.3008081233229447,<br>    \\\"stop_loss\\\": 0.3026282171902923<br>  }<br>}\",\"{<br>  \\\"number\\\": 195,<br>  \\\"values\\\": [<br>    -0.8500000000000187,<br>    0.3920324199381328<br>  ],<br>  \\\"params\\\": {<br>    \\\"take_profit\\\": 0.25674176617016703,<br>    \\\"stop_loss\\\": 0.07514395964517706<br>  }<br>}\",\"{<br>  \\\"number\\\": 197,<br>  \\\"values\\\": [<br>    7.619999999999976,<br>    0.5626557028947632<br>  ],<br>  \\\"params\\\": {<br>    \\\"take_profit\\\": 0.4006886540006692,<br>    \\\"stop_loss\\\": 0.3528403544045596<br>  }<br>}\",\"{<br>  \\\"number\\\": 198,<br>  \\\"values\\\": [<br>    7.339999999999993,<br>    0.5469530032646341<br>  ],<br>  \\\"params\\\": {<br>    \\\"take_profit\\\": 0.2882938259974903,<br>    \\\"stop_loss\\\": 0.48353449041391056<br>  }<br>}\",\"{<br>  \\\"number\\\": 199,<br>  \\\"values\\\": [<br>    3.8599999999999888,<br>    0.47791077480810773<br>  ],<br>  \\\"params\\\": {<br>    \\\"take_profit\\\": 0.4561716291348539,<br>    \\\"stop_loss\\\": 0.059790272253240226<br>  }<br>}\",\"{<br>  \\\"number\\\": 200,<br>  \\\"values\\\": [<br>    8.069999999999958,<br>    0.5785477577307082<br>  ],<br>  \\\"params\\\": {<br>    \\\"take_profit\\\": 0.37027401443441904,<br>    \\\"stop_loss\\\": 0.4592973374327473<br>  }<br>}\",\"{<br>  \\\"number\\\": 201,<br>  \\\"values\\\": [<br>    6.519999999999971,<br>    0.5193321952028793<br>  ],<br>  \\\"params\\\": {<br>    \\\"take_profit\\\": 0.37027401443441904,<br>    \\\"stop_loss\\\": 0.3026282171902923<br>  }<br>}\",\"{<br>  \\\"number\\\": 202,<br>  \\\"values\\\": [<br>    3.019999999999999,<br>    0.4735810836898332<br>  ],<br>  \\\"params\\\": {<br>    \\\"take_profit\\\": 0.25289224093219864,<br>    \\\"stop_loss\\\": 0.2582630770184258<br>  }<br>}\",\"{<br>  \\\"number\\\": 203,<br>  \\\"values\\\": [<br>    2.559999999999987,<br>    0.5040649160765645<br>  ],<br>  \\\"params\\\": {<br>    \\\"take_profit\\\": 0.1029442096532408,<br>    \\\"stop_loss\\\": 0.4714992726763563<br>  }<br>}\",\"{<br>  \\\"number\\\": 204,<br>  \\\"values\\\": [<br>    7.789999999999981,<br>    0.5500370584979594<br>  ],<br>  \\\"params\\\": {<br>    \\\"take_profit\\\": 0.3192342804675916,<br>    \\\"stop_loss\\\": 0.4714731772115439<br>  }<br>}\",\"{<br>  \\\"number\\\": 205,<br>  \\\"values\\\": [<br>    5.489999999999988,<br>    0.5074851431498208<br>  ],<br>  \\\"params\\\": {<br>    \\\"take_profit\\\": 0.15810313826523636,<br>    \\\"stop_loss\\\": 0.5056360312048226<br>  }<br>}\",\"{<br>  \\\"number\\\": 206,<br>  \\\"values\\\": [<br>    7.029999999999973,<br>    0.5366364890302899<br>  ],<br>  \\\"params\\\": {<br>    \\\"take_profit\\\": 0.37130609954160365,<br>    \\\"stop_loss\\\": 0.3551358153211372<br>  }<br>}\",\"{<br>  \\\"number\\\": 207,<br>  \\\"values\\\": [<br>    2.1899999999999826,<br>    0.49286136891711296<br>  ],<br>  \\\"params\\\": {<br>    \\\"take_profit\\\": 0.09419921517949252,<br>    \\\"stop_loss\\\": 0.5450083783390466<br>  }<br>}\",\"{<br>  \\\"number\\\": 208,<br>  \\\"values\\\": [<br>    0.049999999999942146,<br>    0.40334299819954395<br>  ],<br>  \\\"params\\\": {<br>    \\\"take_profit\\\": 0.10692894086145091,<br>    \\\"stop_loss\\\": 0.20373641222031869<br>  }<br>}\",\"{<br>  \\\"number\\\": 210,<br>  \\\"values\\\": [<br>    2.239999999999978,<br>    0.46820359085320007<br>  ],<br>  \\\"params\\\": {<br>    \\\"take_profit\\\": 0.10031970000183371,<br>    \\\"stop_loss\\\": 0.35603876062825873<br>  }<br>}\",\"{<br>  \\\"number\\\": 211,<br>  \\\"values\\\": [<br>    7.029999999999973,<br>    0.5366364890302899<br>  ],<br>  \\\"params\\\": {<br>    \\\"take_profit\\\": 0.36361457185921053,<br>    \\\"stop_loss\\\": 0.3551358153211372<br>  }<br>}\",\"{<br>  \\\"number\\\": 212,<br>  \\\"values\\\": [<br>    6.1699999999999875,<br>    0.6710937136204876<br>  ],<br>  \\\"params\\\": {<br>    \\\"take_profit\\\": 0.5644757173400994,<br>    \\\"stop_loss\\\": 0.41254554790994874<br>  }<br>}\",\"{<br>  \\\"number\\\": 213,<br>  \\\"values\\\": [<br>    0.09999999999999815,<br>    0.4519136880035372<br>  ],<br>  \\\"params\\\": {<br>    \\\"take_profit\\\": 0.38845468491642443,<br>    \\\"stop_loss\\\": 0.10458751124507185<br>  }<br>}\",\"{<br>  \\\"number\\\": 214,<br>  \\\"values\\\": [<br>    5.669999999999952,<br>    0.5722702773742467<br>  ],<br>  \\\"params\\\": {<br>    \\\"take_profit\\\": 0.4640530503411183,<br>    \\\"stop_loss\\\": 0.23269129713319103<br>  }<br>}\",\"{<br>  \\\"number\\\": 216,<br>  \\\"values\\\": [<br>    2.5099999999999616,<br>    0.5112618239099664<br>  ],<br>  \\\"params\\\": {<br>    \\\"take_profit\\\": 0.3981032722831322,<br>    \\\"stop_loss\\\": 0.21768724937566913<br>  }<br>}\",\"{<br>  \\\"number\\\": 217,<br>  \\\"values\\\": [<br>    2.7299999999999605,<br>    0.511220574030735<br>  ],<br>  \\\"params\\\": {<br>    \\\"take_profit\\\": 0.4004834849679575,<br>    \\\"stop_loss\\\": 0.20177407872159753<br>  }<br>}\",\"{<br>  \\\"number\\\": 218,<br>  \\\"values\\\": [<br>    5.489999999999988,<br>    0.5074851431498208<br>  ],<br>  \\\"params\\\": {<br>    \\\"take_profit\\\": 0.15532629544967783,<br>    \\\"stop_loss\\\": 0.47355460110094616<br>  }<br>}\",\"{<br>  \\\"number\\\": 219,<br>  \\\"values\\\": [<br>    2.37,<br>    0.4467697642211503<br>  ],<br>  \\\"params\\\": {<br>    \\\"take_profit\\\": 0.39203218645094673,<br>    \\\"stop_loss\\\": 0.050034235568856146<br>  }<br>}\",\"{<br>  \\\"number\\\": 220,<br>  \\\"values\\\": [<br>    4.489999999999977,<br>    0.6244452939644278<br>  ],<br>  \\\"params\\\": {<br>    \\\"take_profit\\\": 0.5047769954037227,<br>    \\\"stop_loss\\\": 0.31063850675492655<br>  }<br>}\",\"{<br>  \\\"number\\\": 221,<br>  \\\"values\\\": [<br>    -1.5500000000000578,<br>    0.36532617764091313<br>  ],<br>  \\\"params\\\": {<br>    \\\"take_profit\\\": 0.07928661700863204,<br>    \\\"stop_loss\\\": 0.11632303906484755<br>  }<br>}\",\"{<br>  \\\"number\\\": 222,<br>  \\\"values\\\": [<br>    2.239999999999978,<br>    0.46820359085320007<br>  ],<br>  \\\"params\\\": {<br>    \\\"take_profit\\\": 0.1006078273144902,<br>    \\\"stop_loss\\\": 0.35227252417034044<br>  }<br>}\",\"{<br>  \\\"number\\\": 223,<br>  \\\"values\\\": [<br>    1.8699999999999632,<br>    0.4736114068578607<br>  ],<br>  \\\"params\\\": {<br>    \\\"take_profit\\\": 0.0595366319200447,<br>    \\\"stop_loss\\\": 0.5021537283597226<br>  }<br>}\",\"{<br>  \\\"number\\\": 225,<br>  \\\"values\\\": [<br>    6.529999999999994,<br>    0.5274407959380536<br>  ],<br>  \\\"params\\\": {<br>    \\\"take_profit\\\": 0.3192342804675916,<br>    \\\"stop_loss\\\": 0.41254554790994874<br>  }<br>}\",\"{<br>  \\\"number\\\": 226,<br>  \\\"values\\\": [<br>    8.189999999999966,<br>    0.584740529707447<br>  ],<br>  \\\"params\\\": {<br>    \\\"take_profit\\\": 0.37027401443441904,<br>    \\\"stop_loss\\\": 0.4714992726763563<br>  }<br>}\",\"{<br>  \\\"number\\\": 227,<br>  \\\"values\\\": [<br>    4.5699999999999825,<br>    0.4485190702761521<br>  ],<br>  \\\"params\\\": {<br>    \\\"take_profit\\\": 0.15532629544967783,<br>    \\\"stop_loss\\\": 0.3026282171902923<br>  }<br>}\",\"{<br>  \\\"number\\\": 228,<br>  \\\"values\\\": [<br>    7.789999999999981,<br>    0.5500370584979594<br>  ],<br>  \\\"params\\\": {<br>    \\\"take_profit\\\": 0.31535576919890557,<br>    \\\"stop_loss\\\": 0.4714992726763563<br>  }<br>}\",\"{<br>  \\\"number\\\": 229,<br>  \\\"values\\\": [<br>    -0.2099999999999999,<br>    0.3990844688899705<br>  ],<br>  \\\"params\\\": {<br>    \\\"take_profit\\\": 0.3046618797061607,<br>    \\\"stop_loss\\\": 0.06302745552319339<br>  }<br>}\",\"{<br>  \\\"number\\\": 230,<br>  \\\"values\\\": [<br>    1.089999999999995,<br>    0.42992772144956254<br>  ],<br>  \\\"params\\\": {<br>    \\\"take_profit\\\": 0.37027401443441904,<br>    \\\"stop_loss\\\": 0.0782065595513962<br>  }<br>}\",\"{<br>  \\\"number\\\": 231,<br>  \\\"values\\\": [<br>    2.329999999999994,<br>    0.44755854848386883<br>  ],<br>  \\\"params\\\": {<br>    \\\"take_profit\\\": 0.40010682704755013,<br>    \\\"stop_loss\\\": 0.06906531266687606<br>  }<br>}\",\"{<br>  \\\"number\\\": 232,<br>  \\\"values\\\": [<br>    9.169999999999963,<br>    0.6198994613596706<br>  ],<br>  \\\"params\\\": {<br>    \\\"take_profit\\\": 0.4129565441875569,<br>    \\\"stop_loss\\\": 0.44781027653105765<br>  }<br>}\",\"{<br>  \\\"number\\\": 233,<br>  \\\"values\\\": [<br>    6.679999999999996,<br>    0.5420866763623196<br>  ],<br>  \\\"params\\\": {<br>    \\\"take_profit\\\": 0.26420820939153805,<br>    \\\"stop_loss\\\": 0.4766703276283116<br>  }<br>}\",\"{<br>  \\\"number\\\": 234,<br>  \\\"values\\\": [<br>    -1.0699999999999832,<br>    0.44524124408246196<br>  ],<br>  \\\"params\\\": {<br>    \\\"take_profit\\\": 0.335589419299287,<br>    \\\"stop_loss\\\": 0.12312160163287675<br>  }<br>}\",\"{<br>  \\\"number\\\": 235,<br>  \\\"values\\\": [<br>    5.159999999999997,<br>    0.5100901767956205<br>  ],<br>  \\\"params\\\": {<br>    \\\"take_profit\\\": 0.28415324256254004,<br>    \\\"stop_loss\\\": 0.35853413327895484<br>  }<br>}\",\"{<br>  \\\"number\\\": 236,<br>  \\\"values\\\": [<br>    5.499999999999947,<br>    0.6812796066433789<br>  ],<br>  \\\"params\\\": {<br>    \\\"take_profit\\\": 0.4841280058554661,<br>    \\\"stop_loss\\\": 0.4760954631677856<br>  }<br>}\",\"{<br>  \\\"number\\\": 237,<br>  \\\"values\\\": [<br>    3.5799999999999836,<br>    0.47025209000387325<br>  ],<br>  \\\"params\\\": {<br>    \\\"take_profit\\\": 0.4193862236915465,<br>    \\\"stop_loss\\\": 0.07577329555284704<br>  }<br>}\",\"{<br>  \\\"number\\\": 238,<br>  \\\"values\\\": [<br>    2.1799999999999877,<br>    0.4803656008354054<br>  ],<br>  \\\"params\\\": {<br>    \\\"take_profit\\\": 0.07928661700863204,<br>    \\\"stop_loss\\\": 0.4955961905809677<br>  }<br>}\",\"{<br>  \\\"number\\\": 239,<br>  \\\"values\\\": [<br>    7.029999999999973,<br>    0.5366364890302899<br>  ],<br>  \\\"params\\\": {<br>    \\\"take_profit\\\": 0.3757037840068873,<br>    \\\"stop_loss\\\": 0.35308406529672687<br>  }<br>}\",\"{<br>  \\\"number\\\": 240,<br>  \\\"values\\\": [<br>    4.8700000000000125,<br>    0.5259747761922308<br>  ],<br>  \\\"params\\\": {<br>    \\\"take_profit\\\": 0.16019361082715627,<br>    \\\"stop_loss\\\": 0.567752123063268<br>  }<br>}\",\"{<br>  \\\"number\\\": 241,<br>  \\\"values\\\": [<br>    5.61999999999998,<br>    0.5102706753972844<br>  ],<br>  \\\"params\\\": {<br>    \\\"take_profit\\\": 0.3192342804675916,<br>    \\\"stop_loss\\\": 0.34468889389289353<br>  }<br>}\",\"{<br>  \\\"number\\\": 242,<br>  \\\"values\\\": [<br>    3.3400000000000025,<br>    0.509729197563083<br>  ],<br>  \\\"params\\\": {<br>    \\\"take_profit\\\": 0.12236610772586463,<br>    \\\"stop_loss\\\": 0.5056360312048226<br>  }<br>}\",\"{<br>  \\\"number\\\": 243,<br>  \\\"values\\\": [<br>    0.6200000000000001,<br>    0.43521040746451817<br>  ],<br>  \\\"params\\\": {<br>    \\\"take_profit\\\": 0.37027401443441904,<br>    \\\"stop_loss\\\": 0.08395302319013684<br>  }<br>}\",\"{<br>  \\\"number\\\": 244,<br>  \\\"values\\\": [<br>    1.5199999999999991,<br>    0.5428602410143848<br>  ],<br>  \\\"params\\\": {<br>    \\\"take_profit\\\": 0.5368595545837354,<br>    \\\"stop_loss\\\": 0.15184586330418937<br>  }<br>}\",\"{<br>  \\\"number\\\": 245,<br>  \\\"values\\\": [<br>    3.3899999999999957,<br>    0.4830281111809425<br>  ],<br>  \\\"params\\\": {<br>    \\\"take_profit\\\": 0.17805305841186686,<br>    \\\"stop_loss\\\": 0.35853413327895484<br>  }<br>}\",\"{<br>  \\\"number\\\": 246,<br>  \\\"values\\\": [<br>    5.85999999999996,<br>    0.6736962938660869<br>  ],<br>  \\\"params\\\": {<br>    \\\"take_profit\\\": 0.46844911803775513,<br>    \\\"stop_loss\\\": 0.4969339224170344<br>  }<br>}\",\"{<br>  \\\"number\\\": 247,<br>  \\\"values\\\": [<br>    7.729999999999983,<br>    0.548524447023982<br>  ],<br>  \\\"params\\\": {<br>    \\\"take_profit\\\": 0.3515714987530641,<br>    \\\"stop_loss\\\": 0.41254554790994874<br>  }<br>}\",\"{<br>  \\\"number\\\": 248,<br>  \\\"values\\\": [<br>    -0.3399999999999935,<br>    0.45302336897725903<br>  ],<br>  \\\"params\\\": {<br>    \\\"take_profit\\\": 0.3605548187477155,<br>    \\\"stop_loss\\\": 0.11541073883182262<br>  }<br>}\",\"{<br>  \\\"number\\\": 249,<br>  \\\"values\\\": [<br>    -0.3100000000000671,<br>    0.34695643712547974<br>  ],<br>  \\\"params\\\": {<br>    \\\"take_profit\\\": 0.08875632949080547,<br>    \\\"stop_loss\\\": 0.07514395964517706<br>  }<br>}\",\"{<br>  \\\"number\\\": 250,<br>  \\\"values\\\": [<br>    7.729999999999983,<br>    0.548524447023982<br>  ],<br>  \\\"params\\\": {<br>    \\\"take_profit\\\": 0.3515714987530641,<br>    \\\"stop_loss\\\": 0.41254554790994874<br>  }<br>}\",\"{<br>  \\\"number\\\": 251,<br>  \\\"values\\\": [<br>    8.159999999999979,<br>    0.6221699762042051<br>  ],<br>  \\\"params\\\": {<br>    \\\"take_profit\\\": 0.39203218645094673,<br>    \\\"stop_loss\\\": 0.5349177715800677<br>  }<br>}\",\"{<br>  \\\"number\\\": 252,<br>  \\\"values\\\": [<br>    6.869999999999987,<br>    0.6035942835809481<br>  ],<br>  \\\"params\\\": {<br>    \\\"take_profit\\\": 0.3835557255263644,<br>    \\\"stop_loss\\\": 0.5349177715800677<br>  }<br>}\",\"{<br>  \\\"number\\\": 253,<br>  \\\"values\\\": [<br>    6.420000000000002,<br>    0.5172961498664638<br>  ],<br>  \\\"params\\\": {<br>    \\\"take_profit\\\": 0.26420820939153805,<br>    \\\"stop_loss\\\": 0.4250026356435156<br>  }<br>}\",\"{<br>  \\\"number\\\": 254,<br>  \\\"values\\\": [<br>    -0.4700000000000233,<br>    0.3897391129682589<br>  ],<br>  \\\"params\\\": {<br>    \\\"take_profit\\\": 0.23248217013404965,<br>    \\\"stop_loss\\\": 0.07514395964517706<br>  }<br>}\",\"{<br>  \\\"number\\\": 255,<br>  \\\"values\\\": [<br>    7.029999999999973,<br>    0.5366364890302899<br>  ],<br>  \\\"params\\\": {<br>    \\\"take_profit\\\": 0.3726092806040369,<br>    \\\"stop_loss\\\": 0.3551358153211372<br>  }<br>}\",\"{<br>  \\\"number\\\": 256,<br>  \\\"values\\\": [<br>    0.6900000000000137,<br>    0.42123685632958907<br>  ],<br>  \\\"params\\\": {<br>    \\\"take_profit\\\": 0.335589419299287,<br>    \\\"stop_loss\\\": 0.05148904759415297<br>  }<br>}\",\"{<br>  \\\"number\\\": 257,<br>  \\\"values\\\": [<br>    7.299999999999995,<br>    0.6800722411315974<br>  ],<br>  \\\"params\\\": {<br>    \\\"take_profit\\\": 0.4193862236915465,<br>    \\\"stop_loss\\\": 0.591482308360695<br>  }<br>}\",\"{<br>  \\\"number\\\": 258,<br>  \\\"values\\\": [<br>    4.359999999999982,<br>    0.47589427189733136<br>  ],<br>  \\\"params\\\": {<br>    \\\"take_profit\\\": 0.4330364260875638,<br>    \\\"stop_loss\\\": 0.06906531266687606<br>  }<br>}\",\"{<br>  \\\"number\\\": 259,<br>  \\\"values\\\": [<br>    4.059999999999992,<br>    0.4990175380454475<br>  ],<br>  \\\"params\\\": {<br>    \\\"take_profit\\\": 0.26420820939153805,<br>    \\\"stop_loss\\\": 0.32170532673666596<br>  }<br>}\",\"{<br>  \\\"number\\\": 260,<br>  \\\"values\\\": [<br>    6.220000000000006,<br>    0.5250869222632197<br>  ],<br>  \\\"params\\\": {<br>    \\\"take_profit\\\": 0.3046618797061607,<br>    \\\"stop_loss\\\": 0.41291926719943<br>  }<br>}\",\"{<br>  \\\"number\\\": 261,<br>  \\\"values\\\": [<br>    7.419999999999998,<br>    0.5439693240421241<br>  ],<br>  \\\"params\\\": {<br>    \\\"take_profit\\\": 0.2761527601271156,<br>    \\\"stop_loss\\\": 0.5369060645414534<br>  }<br>}\",\"{<br>  \\\"number\\\": 262,<br>  \\\"values\\\": [<br>    4.5699999999999825,<br>    0.4485190702761521<br>  ],<br>  \\\"params\\\": {<br>    \\\"take_profit\\\": 0.15532629544967783,<br>    \\\"stop_loss\\\": 0.30580647115772946<br>  }<br>}\",\"{<br>  \\\"number\\\": 263,<br>  \\\"values\\\": [<br>    -1.8799999999999937,<br>    0.42271100479261076<br>  ],<br>  \\\"params\\\": {<br>    \\\"take_profit\\\": 0.30586803091518805,<br>    \\\"stop_loss\\\": 0.12453860399943706<br>  }<br>}\",\"{<br>  \\\"number\\\": 264,<br>  \\\"values\\\": [<br>    7.669999999999991,<br>    0.5686495485495983<br>  ],<br>  \\\"params\\\": {<br>    \\\"take_profit\\\": 0.3240937119738674,<br>    \\\"stop_loss\\\": 0.4854551596851675<br>  }<br>}\",\"{<br>  \\\"number\\\": 265,<br>  \\\"values\\\": [<br>    5.909999999999966,<br>    0.7034494423759521<br>  ],<br>  \\\"params\\\": {<br>    \\\"take_profit\\\": 0.5726085931705933,<br>    \\\"stop_loss\\\": 0.45298829664016926<br>  }<br>}\",\"{<br>  \\\"number\\\": 266,<br>  \\\"values\\\": [<br>    3.219999999999939,<br>    0.5526112286271485<br>  ],<br>  \\\"params\\\": {<br>    \\\"take_profit\\\": 0.44776356933961625,<br>    \\\"stop_loss\\\": 0.21050747057644714<br>  }<br>}\",\"{<br>  \\\"number\\\": 267,<br>  \\\"values\\\": [<br>    7.599999999999987,<br>    0.5475526438531012<br>  ],<br>  \\\"params\\\": {<br>    \\\"take_profit\\\": 0.3436384513348371,<br>    \\\"stop_loss\\\": 0.41218749413818806<br>  }<br>}\",\"{<br>  \\\"number\\\": 268,<br>  \\\"values\\\": [<br>    3.1099999999999888,<br>    0.4759319777209294<br>  ],<br>  \\\"params\\\": {<br>    \\\"take_profit\\\": 0.4185711446201751,<br>    \\\"stop_loss\\\": 0.08559602146923523<br>  }<br>}\",\"{<br>  \\\"number\\\": 269,<br>  \\\"values\\\": [<br>    8.189999999999976,<br>    0.5597608698408264<br>  ],<br>  \\\"params\\\": {<br>    \\\"take_profit\\\": 0.4183199711436316,<br>    \\\"stop_loss\\\": 0.3026282171902923<br>  }<br>}\",\"{<br>  \\\"number\\\": 270,<br>  \\\"values\\\": [<br>    -0.2600000000000073,<br>    0.40165347925899475<br>  ],<br>  \\\"params\\\": {<br>    \\\"take_profit\\\": 0.30254727418686617,<br>    \\\"stop_loss\\\": 0.07514395964517706<br>  }<br>}\",\"{<br>  \\\"number\\\": 271,<br>  \\\"values\\\": [<br>    4.2799999999999905,<br>    0.4812925871947802<br>  ],<br>  \\\"params\\\": {<br>    \\\"take_profit\\\": 0.2528018514104881,<br>    \\\"stop_loss\\\": 0.29196935511856725<br>  }<br>}\",\"{<br>  \\\"number\\\": 272,<br>  \\\"values\\\": [<br>    -0.5800000000000634,<br>    0.41081670596245035<br>  ],<br>  \\\"params\\\": {<br>    \\\"take_profit\\\": 0.17547629387204478,<br>    \\\"stop_loss\\\": 0.18322345987713395<br>  }<br>}\",\"{<br>  \\\"number\\\": 273,<br>  \\\"values\\\": [<br>    8.559999999999974,<br>    0.5847121076982148<br>  ],<br>  \\\"params\\\": {<br>    \\\"take_profit\\\": 0.41244813710444966,<br>    \\\"stop_loss\\\": 0.37262864008549756<br>  }<br>}\",\"{<br>  \\\"number\\\": 274,<br>  \\\"values\\\": [<br>    5.729999999999958,<br>    0.680813749087623<br>  ],<br>  \\\"params\\\": {<br>    \\\"take_profit\\\": 0.46005929120526734,<br>    \\\"stop_loss\\\": 0.5200048174050171<br>  }<br>}\",\"{<br>  \\\"number\\\": 275,<br>  \\\"values\\\": [<br>    1.4899999999999576,<br>    0.4832167786981528<br>  ],<br>  \\\"params\\\": {<br>    \\\"take_profit\\\": 0.3757037840068873,<br>    \\\"stop_loss\\\": 0.1765647942323028<br>  }<br>}\",\"{<br>  \\\"number\\\": 276,<br>  \\\"values\\\": [<br>    5.109999999999999,<br>    0.534432267821554<br>  ],<br>  \\\"params\\\": {<br>    \\\"take_profit\\\": 0.15532629544967783,<br>    \\\"stop_loss\\\": 0.5809528458396126<br>  }<br>}\",\"{<br>  \\\"number\\\": 277,<br>  \\\"values\\\": [<br>    8.129999999999978,<br>    0.5915190519173185<br>  ],<br>  \\\"params\\\": {<br>    \\\"take_profit\\\": 0.4319172072196862,<br>    \\\"stop_loss\\\": 0.3204136053331906<br>  }<br>}\",\"{<br>  \\\"number\\\": 279,<br>  \\\"values\\\": [<br>    1.2300000000000058,<br>    0.42689036667589536<br>  ],<br>  \\\"params\\\": {<br>    \\\"take_profit\\\": 0.37027401443441904,<br>    \\\"stop_loss\\\": 0.05152728984202651<br>  }<br>}\",\"{<br>  \\\"number\\\": 280,<br>  \\\"values\\\": [<br>    7.699999999999992,<br>    0.551519406748875<br>  ],<br>  \\\"params\\\": {<br>    \\\"take_profit\\\": 0.3192342804675916,<br>    \\\"stop_loss\\\": 0.4923872342951537<br>  }<br>}\",\"{<br>  \\\"number\\\": 281,<br>  \\\"values\\\": [<br>    2.4199999999999973,<br>    0.44726488409354226<br>  ],<br>  \\\"params\\\": {<br>    \\\"take_profit\\\": 0.40476737855915246,<br>    \\\"stop_loss\\\": 0.050496350793387844<br>  }<br>}\",\"{<br>  \\\"number\\\": 282,<br>  \\\"values\\\": [<br>    6.570000000000011,<br>    0.5434623438497851<br>  ],<br>  \\\"params\\\": {<br>    \\\"take_profit\\\": 0.2528018514104881,<br>    \\\"stop_loss\\\": 0.5024264586362647<br>  }<br>}\",\"{<br>  \\\"number\\\": 283,<br>  \\\"values\\\": [<br>    8.179999999999957,<br>    0.5769403447334244<br>  ],<br>  \\\"params\\\": {<br>    \\\"take_profit\\\": 0.37085426773928404,<br>    \\\"stop_loss\\\": 0.4431687082790919<br>  }<br>}\",\"{<br>  \\\"number\\\": 284,<br>  \\\"values\\\": [<br>    0.6200000000000001,<br>    0.43521040746451817<br>  ],<br>  \\\"params\\\": {<br>    \\\"take_profit\\\": 0.37027401443441904,<br>    \\\"stop_loss\\\": 0.0824048358785615<br>  }<br>}\",\"{<br>  \\\"number\\\": 285,<br>  \\\"values\\\": [<br>    0.029999999999936133,<br>    0.4040059039647229<br>  ],<br>  \\\"params\\\": {<br>    \\\"take_profit\\\": 0.15532629544967783,<br>    \\\"stop_loss\\\": 0.17637263616792964<br>  }<br>}\",\"{<br>  \\\"number\\\": 286,<br>  \\\"values\\\": [<br>    7.089999999999996,<br>    0.5434840411815778<br>  ],<br>  \\\"params\\\": {<br>    \\\"take_profit\\\": 0.3322178556912239,<br>    \\\"stop_loss\\\": 0.41254554790994874<br>  }<br>}\",\"{<br>  \\\"number\\\": 287,<br>  \\\"values\\\": [<br>    4.580000000000002,<br>    0.5006000362375684<br>  ],<br>  \\\"params\\\": {<br>    \\\"take_profit\\\": 0.2528018514104881,<br>    \\\"stop_loss\\\": 0.33638339337335976<br>  }<br>}\",\"{<br>  \\\"number\\\": 288,<br>  \\\"values\\\": [<br>    -0.3399999999999935,<br>    0.45302336897725903<br>  ],<br>  \\\"params\\\": {<br>    \\\"take_profit\\\": 0.37027401443441904,<br>    \\\"stop_loss\\\": 0.12444430950548734<br>  }<br>}\",\"{<br>  \\\"number\\\": 289,<br>  \\\"values\\\": [<br>    1.1699999999999913,<br>    0.47091236781502854<br>  ],<br>  \\\"params\\\": {<br>    \\\"take_profit\\\": 0.39810537557119935,<br>    \\\"stop_loss\\\": 0.10136889916981537<br>  }<br>}\",\"{<br>  \\\"number\\\": 290,<br>  \\\"values\\\": [<br>    -0.2900000000000424,<br>    0.3530630087249946<br>  ],<br>  \\\"params\\\": {<br>    \\\"take_profit\\\": 0.14561763456926557,<br>    \\\"stop_loss\\\": 0.05152728984202651<br>  }<br>}\",\"{<br>  \\\"number\\\": 291,<br>  \\\"values\\\": [<br>    6.1699999999999875,<br>    0.5297290349836667<br>  ],<br>  \\\"params\\\": {<br>    \\\"take_profit\\\": 0.3322178556912239,<br>    \\\"stop_loss\\\": 0.3553081648336843<br>  }<br>}\",\"{<br>  \\\"number\\\": 292,<br>  \\\"values\\\": [<br>    1.1400000000000023,<br>    0.42716041576198377<br>  ],<br>  \\\"params\\\": {<br>    \\\"take_profit\\\": 0.37027401443441904,<br>    \\\"stop_loss\\\": 0.06906531266687606<br>  }<br>}\",\"{<br>  \\\"number\\\": 293,<br>  \\\"values\\\": [<br>    2.149999999999995,<br>    0.4932656898728967<br>  ],<br>  \\\"params\\\": {<br>    \\\"take_profit\\\": 0.41889084018018036,<br>    \\\"stop_loss\\\": 0.12742742558377063<br>  }<br>}\",\"{<br>  \\\"number\\\": 294,<br>  \\\"values\\\": [<br>    2.499999999999981,<br>    0.48353989376017253<br>  ],<br>  \\\"params\\\": {<br>    \\\"take_profit\\\": 0.08875632949080547,<br>    \\\"stop_loss\\\": 0.5369060645414534<br>  }<br>}\",\"{<br>  \\\"number\\\": 296,<br>  \\\"values\\\": [<br>    -0.9800000000000271,<br>    0.45477318609791756<br>  ],<br>  \\\"params\\\": {<br>    \\\"take_profit\\\": 0.27508204219039945,<br>    \\\"stop_loss\\\": 0.20275663098053437<br>  }<br>}\",\"{<br>  \\\"number\\\": 297,<br>  \\\"values\\\": [<br>    7.109999999999982,<br>    0.5734422926671785<br>  ],<br>  \\\"params\\\": {<br>    \\\"take_profit\\\": 0.43095652884706365,<br>    \\\"stop_loss\\\": 0.28362814854291873<br>  }<br>}\",\"{<br>  \\\"number\\\": 298,<br>  \\\"values\\\": [<br>    -0.3399999999999935,<br>    0.45302336897725903<br>  ],<br>  \\\"params\\\": {<br>    \\\"take_profit\\\": 0.37085426773928404,<br>    \\\"stop_loss\\\": 0.11241224038938878<br>  }<br>}\",\"{<br>  \\\"number\\\": 299,<br>  \\\"values\\\": [<br>    1.2899999999999712,<br>    0.4534234073858975<br>  ],<br>  \\\"params\\\": {<br>    \\\"take_profit\\\": 0.07913452665865418,<br>    \\\"stop_loss\\\": 0.3551358153211372<br>  }<br>}\",\"{<br>  \\\"number\\\": 300,<br>  \\\"values\\\": [<br>    1.9299999999999495,<br>    0.42948423720942513<br>  ],<br>  \\\"params\\\": {<br>    \\\"take_profit\\\": 0.0595366319200447,<br>    \\\"stop_loss\\\": 0.3026282171902923<br>  }<br>}\",\"{<br>  \\\"number\\\": 301,<br>  \\\"values\\\": [<br>    8.170000000000007,<br>    0.626172470419301<br>  ],<br>  \\\"params\\\": {<br>    \\\"take_profit\\\": 0.4067637632347794,<br>    \\\"stop_loss\\\": 0.567752123063268<br>  }<br>}\",\"{<br>  \\\"number\\\": 302,<br>  \\\"values\\\": [<br>    8.739999999999998,<br>    0.5551614874267249<br>  ],<br>  \\\"params\\\": {<br>    \\\"take_profit\\\": 0.3192342804675916,<br>    \\\"stop_loss\\\": 0.567752123063268<br>  }<br>}\",\"{<br>  \\\"number\\\": 303,<br>  \\\"values\\\": [<br>    8.889999999999976,<br>    0.6325984840784596<br>  ],<br>  \\\"params\\\": {<br>    \\\"take_profit\\\": 0.4124071538570677,<br>    \\\"stop_loss\\\": 0.5167829509278699<br>  }<br>}\",\"{<br>  \\\"number\\\": 304,<br>  \\\"values\\\": [<br>    7.419999999999998,<br>    0.5439693240421241<br>  ],<br>  \\\"params\\\": {<br>    \\\"take_profit\\\": 0.2761527601271156,<br>    \\\"stop_loss\\\": 0.5369060645414534<br>  }<br>}\",\"{<br>  \\\"number\\\": 305,<br>  \\\"values\\\": [<br>    3.870000000000004,<br>    0.5180750372156978<br>  ],<br>  \\\"params\\\": {<br>    \\\"take_profit\\\": 0.5853383622097318,<br>    \\\"stop_loss\\\": 0.08231450771085905<br>  }<br>}\",\"{<br>  \\\"number\\\": 306,<br>  \\\"values\\\": [<br>    5.729999999999983,<br>    0.6461967030737316<br>  ],<br>  \\\"params\\\": {<br>    \\\"take_profit\\\": 0.5422110983366373,<br>    \\\"stop_loss\\\": 0.35077735048898606<br>  }<br>}\",\"{<br>  \\\"number\\\": 307,<br>  \\\"values\\\": [<br>    5.909999999999972,<br>    0.6225568317555608<br>  ],<br>  \\\"params\\\": {<br>    \\\"take_profit\\\": 0.46397880515491746,<br>    \\\"stop_loss\\\": 0.34427717465085284<br>  }<br>}\",\"{<br>  \\\"number\\\": 308,<br>  \\\"values\\\": [<br>    3.529999999999964,<br>    0.49835390886469977<br>  ],<br>  \\\"params\\\": {<br>    \\\"take_profit\\\": 0.3508159799448897,<br>    \\\"stop_loss\\\": 0.2228112396938116<br>  }<br>}\",\"{<br>  \\\"number\\\": 309,<br>  \\\"values\\\": [<br>    2.2099999999999667,<br>    0.4822257221041026<br>  ],<br>  \\\"params\\\": {<br>    \\\"take_profit\\\": 0.0595366319200447,<br>    \\\"stop_loss\\\": 0.567752123063268<br>  }<br>}\",\"{<br>  \\\"number\\\": 310,<br>  \\\"values\\\": [<br>    7.849999999999959,<br>    0.576999277846508<br>  ],<br>  \\\"params\\\": {<br>    \\\"take_profit\\\": 0.3515714987530641,<br>    \\\"stop_loss\\\": 0.45043024685694594<br>  }<br>}\",\"{<br>  \\\"number\\\": 311,<br>  \\\"values\\\": [<br>    0.8999999999999484,<br>    0.44694089894594763<br>  ],<br>  \\\"params\\\": {<br>    \\\"take_profit\\\": 0.0595366319200447,<br>    \\\"stop_loss\\\": 0.3379557437695514<br>  }<br>}\",\"{<br>  \\\"number\\\": 312,<br>  \\\"values\\\": [<br>    0.5500000000000029,<br>    0.4242326728403045<br>  ],<br>  \\\"params\\\": {<br>    \\\"take_profit\\\": 0.3322178556912239,<br>    \\\"stop_loss\\\": 0.07514395964517706<br>  }<br>}\",\"{<br>  \\\"number\\\": 313,<br>  \\\"values\\\": [<br>    7.619999999999976,<br>    0.5626557028947632<br>  ],<br>  \\\"params\\\": {<br>    \\\"take_profit\\\": 0.40476737855915246,<br>    \\\"stop_loss\\\": 0.3669140958840604<br>  }<br>}\",\"{<br>  \\\"number\\\": 314,<br>  \\\"values\\\": [<br>    7.789999999999981,<br>    0.5500370584979594<br>  ],<br>  \\\"params\\\": {<br>    \\\"take_profit\\\": 0.31535576919890557,<br>    \\\"stop_loss\\\": 0.4714992726763563<br>  }<br>}\",\"{<br>  \\\"number\\\": 315,<br>  \\\"values\\\": [<br>    8.709999999999997,<br>    0.5719670968239664<br>  ],<br>  \\\"params\\\": {<br>    \\\"take_profit\\\": 0.3363043758372195,<br>    \\\"stop_loss\\\": 0.5207594264918661<br>  }<br>}\",\"{<br>  \\\"number\\\": 316,<br>  \\\"values\\\": [<br>    -0.920000000000047,<br>    0.4435265407167571<br>  ],<br>  \\\"params\\\": {<br>    \\\"take_profit\\\": 0.2606406681852866,<br>    \\\"stop_loss\\\": 0.1797728159350493<br>  }<br>}\",\"{<br>  \\\"number\\\": 317,<br>  \\\"values\\\": [<br>    6.319999999999997,<br>    0.6587764050983478<br>  ],<br>  \\\"params\\\": {<br>    \\\"take_profit\\\": 0.521226148799554,<br>    \\\"stop_loss\\\": 0.41218749413818806<br>  }<br>}\",\"{<br>  \\\"number\\\": 318,<br>  \\\"values\\\": [<br>    7.88999999999999,<br>    0.5740259337905861<br>  ],<br>  \\\"params\\\": {<br>    \\\"take_profit\\\": 0.3322178556912239,<br>    \\\"stop_loss\\\": 0.5103275854116632<br>  }<br>}\",\"{<br>  \\\"number\\\": 319,<br>  \\\"values\\\": [<br>    8.499999999999975,<br>    0.5860013981828972<br>  ],<br>  \\\"params\\\": {<br>    \\\"take_profit\\\": 0.3436384513348371,<br>    \\\"stop_loss\\\": 0.5589324443862457<br>  }<br>}\",\"{<br>  \\\"number\\\": 320,<br>  \\\"values\\\": [<br>    2.3699999999999672,<br>    0.4774664304188001<br>  ],<br>  \\\"params\\\": {<br>    \\\"take_profit\\\": 0.31535576919890557,<br>    \\\"stop_loss\\\": 0.2238511885574811<br>  }<br>}\",\"{<br>  \\\"number\\\": 321,<br>  \\\"values\\\": [<br>    5.210000000000008,<br>    0.5267178501236123<br>  ],<br>  \\\"params\\\": {<br>    \\\"take_profit\\\": 0.3005697866026233,<br>    \\\"stop_loss\\\": 0.4086263004693778<br>  }<br>}\",\"{<br>  \\\"number\\\": 322,<br>  \\\"values\\\": [<br>    8.159999999999979,<br>    0.6221699762042051<br>  ],<br>  \\\"params\\\": {<br>    \\\"take_profit\\\": 0.3914681063838624,<br>    \\\"stop_loss\\\": 0.5300687496768383<br>  }<br>}\",\"{<br>  \\\"number\\\": 323,<br>  \\\"values\\\": [<br>    2.979999999999979,<br>    0.4398771311353514<br>  ],<br>  \\\"params\\\": {<br>    \\\"take_profit\\\": 0.12398470408402705,<br>    \\\"stop_loss\\\": 0.27282141727409803<br>  }<br>}\",\"{<br>  \\\"number\\\": 324,<br>  \\\"values\\\": [<br>    6.529999999999994,<br>    0.5274407959380536<br>  ],<br>  \\\"params\\\": {<br>    \\\"take_profit\\\": 0.3192342804675916,<br>    \\\"stop_loss\\\": 0.41254554790994874<br>  }<br>}\",\"{<br>  \\\"number\\\": 325,<br>  \\\"values\\\": [<br>    7.749999999999979,<br>    0.5479491780677915<br>  ],<br>  \\\"params\\\": {<br>    \\\"take_profit\\\": 0.31535576919890557,<br>    \\\"stop_loss\\\": 0.4633784636085092<br>  }<br>}\",\"{<br>  \\\"number\\\": 326,<br>  \\\"values\\\": [<br>    3.3599999999999803,<br>    0.4679432145923594<br>  ],<br>  \\\"params\\\": {<br>    \\\"take_profit\\\": 0.19068748782364964,<br>    \\\"stop_loss\\\": 0.3026282171902923<br>  }<br>}\",\"{<br>  \\\"number\\\": 327,<br>  \\\"values\\\": [<br>    4.110000000000027,<br>    0.5188750727595509<br>  ],<br>  \\\"params\\\": {<br>    \\\"take_profit\\\": 0.21284310201320433,<br>    \\\"stop_loss\\\": 0.41218749413818806<br>  }<br>}\",\"{<br>  \\\"number\\\": 328,<br>  \\\"values\\\": [<br>    6.529999999999994,<br>    0.5274407959380536<br>  ],<br>  \\\"params\\\": {<br>    \\\"take_profit\\\": 0.3118031495741312,<br>    \\\"stop_loss\\\": 0.41254554790994874<br>  }<br>}\",\"{<br>  \\\"number\\\": 329,<br>  \\\"values\\\": [<br>    6.299999999999983,<br>    0.5422339508244519<br>  ],<br>  \\\"params\\\": {<br>    \\\"take_profit\\\": 0.3515714987530641,<br>    \\\"stop_loss\\\": 0.38165764248773604<br>  }<br>}\",\"{<br>  \\\"number\\\": 331,<br>  \\\"values\\\": [<br>    4.299999999999988,<br>    0.5252491076272752<br>  ],<br>  \\\"params\\\": {<br>    \\\"take_profit\\\": 0.1885785145963516,<br>    \\\"stop_loss\\\": 0.4714731772115439<br>  }<br>}\",\"{<br>  \\\"number\\\": 332,<br>  \\\"values\\\": [<br>    6.66,<br>    0.5419951826540846<br>  ],<br>  \\\"params\\\": {<br>    \\\"take_profit\\\": 0.2528018514104881,<br>    \\\"stop_loss\\\": 0.4714731772115439<br>  }<br>}\",\"{<br>  \\\"number\\\": 335,<br>  \\\"values\\\": [<br>    5.959999999999983,<br>    0.5817747588011064<br>  ],<br>  \\\"params\\\": {<br>    \\\"take_profit\\\": 0.45105388992930107,<br>    \\\"stop_loss\\\": 0.2778407664465276<br>  }<br>}\",\"{<br>  \\\"number\\\": 336,<br>  \\\"values\\\": [<br>    5.729999999999958,<br>    0.680813749087623<br>  ],<br>  \\\"params\\\": {<br>    \\\"take_profit\\\": 0.4673098554881284,<br>    \\\"stop_loss\\\": 0.5286803525502379<br>  }<br>}\",\"{<br>  \\\"number\\\": 337,<br>  \\\"values\\\": [<br>    2.979999999999979,<br>    0.4398771311353514<br>  ],<br>  \\\"params\\\": {<br>    \\\"take_profit\\\": 0.12330589778547371,<br>    \\\"stop_loss\\\": 0.2737778885616768<br>  }<br>}\",\"{<br>  \\\"number\\\": 338,<br>  \\\"values\\\": [<br>    7.719999999999992,<br>    0.5479382229516031<br>  ],<br>  \\\"params\\\": {<br>    \\\"take_profit\\\": 0.41889084018018036,<br>    \\\"stop_loss\\\": 0.2776809362529668<br>  }<br>}\",\"{<br>  \\\"number\\\": 339,<br>  \\\"values\\\": [<br>    7.839999999999971,<br>    0.5821921865423767<br>  ],<br>  \\\"params\\\": {<br>    \\\"take_profit\\\": 0.3457476765331706,<br>    \\\"stop_loss\\\": 0.4714992726763563<br>  }<br>}\",\"{<br>  \\\"number\\\": 340,<br>  \\\"values\\\": [<br>    3.3899999999999957,<br>    0.4830281111809425<br>  ],<br>  \\\"params\\\": {<br>    \\\"take_profit\\\": 0.17233669136963364,<br>    \\\"stop_loss\\\": 0.352835132536806<br>  }<br>}\",\"{<br>  \\\"number\\\": 341,<br>  \\\"values\\\": [<br>    2.109999999999958,<br>    0.47661949742821<br>  ],<br>  \\\"params\\\": {<br>    \\\"take_profit\\\": 0.0595366319200447,<br>    \\\"stop_loss\\\": 0.5423212697820018<br>  }<br>}\",\"{<br>  \\\"number\\\": 342,<br>  \\\"values\\\": [<br>    3.3000000000000123,<br>    0.5366298516045636<br>  ],<br>  \\\"params\\\": {<br>    \\\"take_profit\\\": 0.11304339517992647,<br>    \\\"stop_loss\\\": 0.5818290581151617<br>  }<br>}\",\"{<br>  \\\"number\\\": 343,<br>  \\\"values\\\": [<br>    4.599999999999984,<br>    0.48402588228034704<br>  ],<br>  \\\"params\\\": {<br>    \\\"take_profit\\\": 0.3118031495741312,<br>    \\\"stop_loss\\\": 0.2654917737857971<br>  }<br>}\",\"{<br>  \\\"number\\\": 344,<br>  \\\"values\\\": [<br>    6.519999999999971,<br>    0.5193321952028793<br>  ],<br>  \\\"params\\\": {<br>    \\\"take_profit\\\": 0.37085426773928404,<br>    \\\"stop_loss\\\": 0.3065677364603154<br>  }<br>}\",\"{<br>  \\\"number\\\": 345,<br>  \\\"values\\\": [<br>    6.019999999999966,<br>    0.7019025092498714<br>  ],<br>  \\\"params\\\": {<br>    \\\"take_profit\\\": 0.5737606917755342,<br>    \\\"stop_loss\\\": 0.4433602437632948<br>  }<br>}\",\"{<br>  \\\"number\\\": 346,<br>  \\\"values\\\": [<br>    2.499999999999981,<br>    0.48353989376017253<br>  ],<br>  \\\"params\\\": {<br>    \\\"take_profit\\\": 0.08875632949080547,<br>    \\\"stop_loss\\\": 0.5369060645414534<br>  }<br>}\",\"{<br>  \\\"number\\\": 347,<br>  \\\"values\\\": [<br>    8.60999999999996,<br>    0.5908240356174431<br>  ],<br>  \\\"params\\\": {<br>    \\\"take_profit\\\": 0.40476737855915246,<br>    \\\"stop_loss\\\": 0.43824973456478217<br>  }<br>}\",\"{<br>  \\\"number\\\": 348,<br>  \\\"values\\\": [<br>    4.5,<br>    0.5047780673643624<br>  ],<br>  \\\"params\\\": {<br>    \\\"take_profit\\\": 0.26420820939153805,<br>    \\\"stop_loss\\\": 0.3611650022575098<br>  }<br>}\",\"{<br>  \\\"number\\\": 349,<br>  \\\"values\\\": [<br>    8.879999999999999,<br>    0.5767027825093065<br>  ],<br>  \\\"params\\\": {<br>    \\\"take_profit\\\": 0.335589419299287,<br>    \\\"stop_loss\\\": 0.567752123063268<br>  }<br>}\",\"{<br>  \\\"number\\\": 350,<br>  \\\"values\\\": [<br>    8.929999999999968,<br>    0.5870223064227758<br>  ],<br>  \\\"params\\\": {<br>    \\\"take_profit\\\": 0.37085426773928404,<br>    \\\"stop_loss\\\": 0.5369060645414534<br>  }<br>}\",\"{<br>  \\\"number\\\": 351,<br>  \\\"values\\\": [<br>    -2.100000000000021,<br>    0.41658113173722894<br>  ],<br>  \\\"params\\\": {<br>    \\\"take_profit\\\": 0.2471165150140428,<br>    \\\"stop_loss\\\": 0.1373674773310773<br>  }<br>}\",\"{<br>  \\\"number\\\": 352,<br>  \\\"values\\\": [<br>    6.029999999999955,<br>    0.6671454487437186<br>  ],<br>  \\\"params\\\": {<br>    \\\"take_profit\\\": 0.45440166588738684,<br>    \\\"stop_loss\\\": 0.4633784636085092<br>  }<br>}\",\"{<br>  \\\"number\\\": 353,<br>  \\\"values\\\": [<br>    -0.8300000000000227,<br>    0.3921821330514237<br>  ],<br>  \\\"params\\\": {<br>    \\\"take_profit\\\": 0.26420820939153805,<br>    \\\"stop_loss\\\": 0.07514395964517706<br>  }<br>}\",\"{<br>  \\\"number\\\": 354,<br>  \\\"values\\\": [<br>    6.1899999999999835,<br>    0.6551003136149738<br>  ],<br>  \\\"params\\\": {<br>    \\\"take_profit\\\": 0.5640665344282516,<br>    \\\"stop_loss\\\": 0.3551358153211372<br>  }<br>}\",\"{<br>  \\\"number\\\": 355,<br>  \\\"values\\\": [<br>    4.670000000000002,<br>    0.48113607685324583<br>  ],<br>  \\\"params\\\": {<br>    \\\"take_profit\\\": 0.13149970776465092,<br>    \\\"stop_loss\\\": 0.41218749413818806<br>  }<br>}\",\"{<br>  \\\"number\\\": 356,<br>  \\\"values\\\": [<br>    5.099999999999994,<br>    0.5256259760197045<br>  ],<br>  \\\"params\\\": {<br>    \\\"take_profit\\\": 0.1795505709196904,<br>    \\\"stop_loss\\\": 0.5369060645414534<br>  }<br>}\",\"{<br>  \\\"number\\\": 357,<br>  \\\"values\\\": [<br>    -0.020000000000012397,<br>    0.40424888132554454<br>  ],<br>  \\\"params\\\": {<br>    \\\"take_profit\\\": 0.3118031495741312,<br>    \\\"stop_loss\\\": 0.07439828844935541<br>  }<br>}\",\"{<br>  \\\"number\\\": 358,<br>  \\\"values\\\": [<br>    6.669999999999973,<br>    0.5420162705658229<br>  ],<br>  \\\"params\\\": {<br>    \\\"take_profit\\\": 0.37786289338169576,<br>    \\\"stop_loss\\\": 0.3717989146492053<br>  }<br>}\",\"{<br>  \\\"number\\\": 359,<br>  \\\"values\\\": [<br>    3.1599999999999593,<br>    0.5517518367809289<br>  ],<br>  \\\"params\\\": {<br>    \\\"take_profit\\\": 0.5415422512654203,<br>    \\\"stop_loss\\\": 0.18451949676316737<br>  }<br>}\",\"{<br>  \\\"number\\\": 360,<br>  \\\"values\\\": [<br>    3.9899999999999904,<br>    0.4749494781789643<br>  ],<br>  \\\"params\\\": {<br>    \\\"take_profit\\\": 0.15635221511028574,<br>    \\\"stop_loss\\\": 0.36835977882698895<br>  }<br>}\",\"{<br>  \\\"number\\\": 362,<br>  \\\"values\\\": [<br>    8.529999999999998,<br>    0.5715449974411286<br>  ],<br>  \\\"params\\\": {<br>    \\\"take_profit\\\": 0.32290557572903805,<br>    \\\"stop_loss\\\": 0.5349177715800677<br>  }<br>}\",\"{<br>  \\\"number\\\": 363,<br>  \\\"values\\\": [<br>    5.519999999999996,<br>    0.5291155593215601<br>  ],<br>  \\\"params\\\": {<br>    \\\"take_profit\\\": 0.3192342804675916,<br>    \\\"stop_loss\\\": 0.4051642643367995<br>  }<br>}\",\"{<br>  \\\"number\\\": 364,<br>  \\\"values\\\": [<br>    3.9699999999999878,<br>    0.48537780865170865<br>  ],<br>  \\\"params\\\": {<br>    \\\"take_profit\\\": 0.3046618797061607,<br>    \\\"stop_loss\\\": 0.2852376685718818<br>  }<br>}\",\"{<br>  \\\"number\\\": 365,<br>  \\\"values\\\": [<br>    8.929999999999968,<br>    0.5870223064227758<br>  ],<br>  \\\"params\\\": {<br>    \\\"take_profit\\\": 0.37085426773928404,<br>    \\\"stop_loss\\\": 0.5369060645414534<br>  }<br>}\",\"{<br>  \\\"number\\\": 366,<br>  \\\"values\\\": [<br>    5.430000000000014,<br>    0.5191724086276638<br>  ],<br>  \\\"params\\\": {<br>    \\\"take_profit\\\": 0.2784596796147333,<br>    \\\"stop_loss\\\": 0.41218749413818806<br>  }<br>}\",\"{<br>  \\\"number\\\": 367,<br>  \\\"values\\\": [<br>    6.319999999999997,<br>    0.6587764050983478<br>  ],<br>  \\\"params\\\": {<br>    \\\"take_profit\\\": 0.5299008852588377,<br>    \\\"stop_loss\\\": 0.41254554790994874<br>  }<br>}\",\"{<br>  \\\"number\\\": 368,<br>  \\\"values\\\": [<br>    6.869999999999985,<br>    0.6778316909445138<br>  ],<br>  \\\"params\\\": {<br>    \\\"take_profit\\\": 0.564188282189534,<br>    \\\"stop_loss\\\": 0.4258628191838329<br>  }<br>}\",\"{<br>  \\\"number\\\": 369,<br>  \\\"values\\\": [<br>    7.580000000000002,<br>    0.5700797439842002<br>  ],<br>  \\\"params\\\": {<br>    \\\"take_profit\\\": 0.3283345625078577,<br>    \\\"stop_loss\\\": 0.49436367494333217<br>  }<br>}\",\"{<br>  \\\"number\\\": 370,<br>  \\\"values\\\": [<br>    7.059999999999967,<br>    0.5495080110713253<br>  ],<br>  \\\"params\\\": {<br>    \\\"take_profit\\\": 0.3170149434566924,<br>    \\\"stop_loss\\\": 0.449752049153916<br>  }<br>}\",\"{<br>  \\\"number\\\": 371,<br>  \\\"values\\\": [<br>    2.1299999999999724,<br>    0.4752053351386301<br>  ],<br>  \\\"params\\\": {<br>    \\\"take_profit\\\": 0.30439065920302155,<br>    \\\"stop_loss\\\": 0.2346101675416154<br>  }<br>}\",\"{<br>  \\\"number\\\": 373,<br>  \\\"values\\\": [<br>    7.749999999999979,<br>    0.5479491780677915<br>  ],<br>  \\\"params\\\": {<br>    \\\"take_profit\\\": 0.31535576919890557,<br>    \\\"stop_loss\\\": 0.4633784636085092<br>  }<br>}\",\"{<br>  \\\"number\\\": 374,<br>  \\\"values\\\": [<br>    3.009999999999966,<br>    0.43004418798037725<br>  ],<br>  \\\"params\\\": {<br>    \\\"take_profit\\\": 0.09041858608301288,<br>    \\\"stop_loss\\\": 0.29129255144850197<br>  }<br>}\",\"{<br>  \\\"number\\\": 375,<br>  \\\"values\\\": [<br>    8.699999999999953,<br>    0.5621040546791435<br>  ],<br>  \\\"params\\\": {<br>    \\\"take_profit\\\": 0.35035071491358166,<br>    \\\"stop_loss\\\": 0.43824973456478217<br>  }<br>}\",\"{<br>  \\\"number\\\": 376,<br>  \\\"values\\\": [<br>    2.149999999999995,<br>    0.4932656898728967<br>  ],<br>  \\\"params\\\": {<br>    \\\"take_profit\\\": 0.4193862236915465,<br>    \\\"stop_loss\\\": 0.11265012168490261<br>  }<br>}\",\"{<br>  \\\"number\\\": 377,<br>  \\\"values\\\": [<br>    2.559999999999987,<br>    0.5040649160765645<br>  ],<br>  \\\"params\\\": {<br>    \\\"take_profit\\\": 0.10834022263404222,<br>    \\\"stop_loss\\\": 0.5030982984018977<br>  }<br>}\",\"{<br>  \\\"number\\\": 378,<br>  \\\"values\\\": [<br>    3.039999999999999,<br>    0.5109951076086733<br>  ],<br>  \\\"params\\\": {<br>    \\\"take_profit\\\": 0.10031970000183371,<br>    \\\"stop_loss\\\": 0.567752123063268<br>  }<br>}\",\"{<br>  \\\"number\\\": 379,<br>  \\\"values\\\": [<br>    3.470000000000008,<br>    0.46569586377603145<br>  ],<br>  \\\"params\\\": {<br>    \\\"take_profit\\\": 0.2106786967601541,<br>    \\\"stop_loss\\\": 0.2776809362529668<br>  }<br>}\",\"{<br>  \\\"number\\\": 380,<br>  \\\"values\\\": [<br>    8.179999999999957,<br>    0.5769403447334244<br>  ],<br>  \\\"params\\\": {<br>    \\\"take_profit\\\": 0.3739325988609158,<br>    \\\"stop_loss\\\": 0.44380841465905474<br>  }<br>}\",\"{<br>  \\\"number\\\": 381,<br>  \\\"values\\\": [<br>    6.1899999999999835,<br>    0.6551003136149738<br>  ],<br>  \\\"params\\\": {<br>    \\\"take_profit\\\": 0.5654061019307476,<br>    \\\"stop_loss\\\": 0.35853413327895484<br>  }<br>}\",\"{<br>  \\\"number\\\": 382,<br>  \\\"values\\\": [<br>    3.809999999999991,<br>    0.48690112171976113<br>  ],<br>  \\\"params\\\": {<br>    \\\"take_profit\\\": 0.25476048819443775,<br>    \\\"stop_loss\\\": 0.3026282171902923<br>  }<br>}\",\"{<br>  \\\"number\\\": 385,<br>  \\\"values\\\": [<br>    7.9499999999999815,<br>    0.5501061091467967<br>  ],<br>  \\\"params\\\": {<br>    \\\"take_profit\\\": 0.37027401443441904,<br>    \\\"stop_loss\\\": 0.41254554790994874<br>  }<br>}\",\"{<br>  \\\"number\\\": 386,<br>  \\\"values\\\": [<br>    7.619999999999976,<br>    0.5626557028947632<br>  ],<br>  \\\"params\\\": {<br>    \\\"take_profit\\\": 0.4090034683262582,<br>    \\\"stop_loss\\\": 0.35853413327895484<br>  }<br>}\",\"{<br>  \\\"number\\\": 387,<br>  \\\"values\\\": [<br>    6.73,<br>    0.6755710768799629<br>  ],<br>  \\\"params\\\": {<br>    \\\"take_profit\\\": 0.5994958252647802,<br>    \\\"stop_loss\\\": 0.41254554790994874<br>  }<br>}\",\"{<br>  \\\"number\\\": 388,<br>  \\\"values\\\": [<br>    3.019999999999973,<br>    0.4935612063352356<br>  ],<br>  \\\"params\\\": {<br>    \\\"take_profit\\\": 0.3322178556912239,<br>    \\\"stop_loss\\\": 0.22234287162233085<br>  }<br>}\",\"{<br>  \\\"number\\\": 389,<br>  \\\"values\\\": [<br>    -1.8400000000000643,<br>    0.3657994620911148<br>  ],<br>  \\\"params\\\": {<br>    \\\"take_profit\\\": 0.08018494292106737,<br>    \\\"stop_loss\\\": 0.12392005891012559<br>  }<br>}\",\"{<br>  \\\"number\\\": 390,<br>  \\\"values\\\": [<br>    3.9800000000000173,<br>    0.5182185723261311<br>  ],<br>  \\\"params\\\": {<br>    \\\"take_profit\\\": 0.20452262140467065,<br>    \\\"stop_loss\\\": 0.41254554790994874<br>  }<br>}\",\"{<br>  \\\"number\\\": 391,<br>  \\\"values\\\": [<br>    7.629999999999985,<br>    0.5812414794082738<br>  ],<br>  \\\"params\\\": {<br>    \\\"take_profit\\\": 0.3118031495741312,<br>    \\\"stop_loss\\\": 0.5831110813287853<br>  }<br>}\",\"{<br>  \\\"number\\\": 392,<br>  \\\"values\\\": [<br>    6.420000000000002,<br>    0.5172961498664638<br>  ],<br>  \\\"params\\\": {<br>    \\\"take_profit\\\": 0.26420820939153805,<br>    \\\"stop_loss\\\": 0.4250026356435156<br>  }<br>}\",\"{<br>  \\\"number\\\": 394,<br>  \\\"values\\\": [<br>    -0.3000000000000338,<br>    0.3963960028658621<br>  ],<br>  \\\"params\\\": {<br>    \\\"take_profit\\\": 0.15532629544967783,<br>    \\\"stop_loss\\\": 0.1501104343626235<br>  }<br>}\",\"{<br>  \\\"number\\\": 395,<br>  \\\"values\\\": [<br>    6.519999999999971,<br>    0.5193321952028793<br>  ],<br>  \\\"params\\\": {<br>    \\\"take_profit\\\": 0.37027401443441904,<br>    \\\"stop_loss\\\": 0.3026282171902923<br>  }<br>}\",\"{<br>  \\\"number\\\": 396,<br>  \\\"values\\\": [<br>    7.409999999999993,<br>    0.5439246862132775<br>  ],<br>  \\\"params\\\": {<br>    \\\"take_profit\\\": 0.2618110033142434,<br>    \\\"stop_loss\\\": 0.5349177715800677<br>  }<br>}\",\"{<br>  \\\"number\\\": 397,<br>  \\\"values\\\": [<br>    7.789999999999981,<br>    0.5500370584979594<br>  ],<br>  \\\"params\\\": {<br>    \\\"take_profit\\\": 0.31535576919890557,<br>    \\\"stop_loss\\\": 0.4714992726763563<br>  }<br>}\",\"{<br>  \\\"number\\\": 398,<br>  \\\"values\\\": [<br>    2.3699999999999672,<br>    0.4774664304188001<br>  ],<br>  \\\"params\\\": {<br>    \\\"take_profit\\\": 0.31911559281647706,<br>    \\\"stop_loss\\\": 0.23735099876271154<br>  }<br>}\",\"{<br>  \\\"number\\\": 399,<br>  \\\"values\\\": [<br>    -1.6399999999999988,<br>    0.4253127393765584<br>  ],<br>  \\\"params\\\": {<br>    \\\"take_profit\\\": 0.31947578031392315,<br>    \\\"stop_loss\\\": 0.11884089588143659<br>  }<br>}\",\"{<br>  \\\"number\\\": 400,<br>  \\\"values\\\": [<br>    6.679999999999996,<br>    0.5420866763623196<br>  ],<br>  \\\"params\\\": {<br>    \\\"take_profit\\\": 0.2664889420588713,<br>    \\\"stop_loss\\\": 0.4714731772115439<br>  }<br>}\",\"{<br>  \\\"number\\\": 401,<br>  \\\"values\\\": [<br>    4.980000000000011,<br>    0.5169982903726775<br>  ],<br>  \\\"params\\\": {<br>    \\\"take_profit\\\": 0.2004325065629296,<br>    \\\"stop_loss\\\": 0.4250026356435156<br>  }<br>}\",\"{<br>  \\\"number\\\": 402,<br>  \\\"values\\\": [<br>    8.579999999999973,<br>    0.5845376762392608<br>  ],<br>  \\\"params\\\": {<br>    \\\"take_profit\\\": 0.3484531416688259,<br>    \\\"stop_loss\\\": 0.5372208293404493<br>  }<br>}\",\"{<br>  \\\"number\\\": 404,<br>  \\\"values\\\": [<br>    4.959999999999983,<br>    0.4869009652035734<br>  ],<br>  \\\"params\\\": {<br>    \\\"take_profit\\\": 0.28400575592318683,<br>    \\\"stop_loss\\\": 0.29129255144850197<br>  }<br>}\",\"{<br>  \\\"number\\\": 405,<br>  \\\"values\\\": [<br>    5.599999999999955,<br>    0.6726971807527129<br>  ],<br>  \\\"params\\\": {<br>    \\\"take_profit\\\": 0.45818183181634725,<br>    \\\"stop_loss\\\": 0.5129414943811624<br>  }<br>}\",\"{<br>  \\\"number\\\": 406,<br>  \\\"values\\\": [<br>    6.61999999999998,<br>    0.7369432599993881<br>  ],<br>  \\\"params\\\": {<br>    \\\"take_profit\\\": 0.5541436494690412,<br>    \\\"stop_loss\\\": 0.5369060645414534<br>  }<br>}\",\"{<br>  \\\"number\\\": 408,<br>  \\\"values\\\": [<br>    5.460000000000004,<br>    0.5737058255683969<br>  ],<br>  \\\"params\\\": {<br>    \\\"take_profit\\\": 0.24871594216230702,<br>    \\\"stop_loss\\\": 0.5899443434072893<br>  }<br>}\",\"{<br>  \\\"number\\\": 409,<br>  \\\"values\\\": [<br>    2.1899999999999826,<br>    0.49286136891711296<br>  ],<br>  \\\"params\\\": {<br>    \\\"take_profit\\\": 0.09041858608301288,<br>    \\\"stop_loss\\\": 0.5349177715800677<br>  }<br>}\",\"{<br>  \\\"number\\\": 410,<br>  \\\"values\\\": [<br>    7.699999999999992,<br>    0.551519406748875<br>  ],<br>  \\\"params\\\": {<br>    \\\"take_profit\\\": 0.3192342804675916,<br>    \\\"stop_loss\\\": 0.5058767546610163<br>  }<br>}\",\"{<br>  \\\"number\\\": 412,<br>  \\\"values\\\": [<br>    7.390000000000004,<br>    0.5492647517422244<br>  ],<br>  \\\"params\\\": {<br>    \\\"take_profit\\\": 0.3039315069644288,<br>    \\\"stop_loss\\\": 0.49402216301505963<br>  }<br>}\",\"{<br>  \\\"number\\\": 413,<br>  \\\"values\\\": [<br>    7.059999999999967,<br>    0.5495080110713253<br>  ],<br>  \\\"params\\\": {<br>    \\\"take_profit\\\": 0.31535576919890557,<br>    \\\"stop_loss\\\": 0.44582304131431244<br>  }<br>}\",\"{<br>  \\\"number\\\": 414,<br>  \\\"values\\\": [<br>    6.1699999999999875,<br>    0.5297290349836667<br>  ],<br>  \\\"params\\\": {<br>    \\\"take_profit\\\": 0.335589419299287,<br>    \\\"stop_loss\\\": 0.35853413327895484<br>  }<br>}\",\"{<br>  \\\"number\\\": 415,<br>  \\\"values\\\": [<br>    6.5499999999999865,<br>    0.7382311708800657<br>  ],<br>  \\\"params\\\": {<br>    \\\"take_profit\\\": 0.5668701327055262,<br>    \\\"stop_loss\\\": 0.567752123063268<br>  }<br>}\",\"{<br>  \\\"number\\\": 416,<br>  \\\"values\\\": [<br>    4.159999999999953,<br>    0.533814575662531<br>  ],<br>  \\\"params\\\": {<br>    \\\"take_profit\\\": 0.4278186130091556,<br>    \\\"stop_loss\\\": 0.21616056219909968<br>  }<br>}\",\"{<br>  \\\"number\\\": 417,<br>  \\\"values\\\": [<br>    2.789999999999975,<br>    0.5045189651090215<br>  ],<br>  \\\"params\\\": {<br>    \\\"take_profit\\\": 0.4877184534210366,<br>    \\\"stop_loss\\\": 0.09711851642132704<br>  }<br>}\",\"{<br>  \\\"number\\\": 418,<br>  \\\"values\\\": [<br>    5.609999999999985,<br>    0.5134879361769494<br>  ],<br>  \\\"params\\\": {<br>    \\\"take_profit\\\": 0.31535576919890557,<br>    \\\"stop_loss\\\": 0.3669756960137202<br>  }<br>}\",\"{<br>  \\\"number\\\": 419,<br>  \\\"values\\\": [<br>    0.02999999999999675,<br>    0.4507486365296438<br>  ],<br>  \\\"params\\\": {<br>    \\\"take_profit\\\": 0.37085426773928404,<br>    \\\"stop_loss\\\": 0.10329883659674977<br>  }<br>}\",\"{<br>  \\\"number\\\": 420,<br>  \\\"values\\\": [<br>    5.420000000000009,<br>    0.5191212393947655<br>  ],<br>  \\\"params\\\": {<br>    \\\"take_profit\\\": 0.2618110033142434,<br>    \\\"stop_loss\\\": 0.4185260197460414<br>  }<br>}\",\"{<br>  \\\"number\\\": 422,<br>  \\\"values\\\": [<br>    1.4999999999999627,<br>    0.4900657667929<br>  ],<br>  \\\"params\\\": {<br>    \\\"take_profit\\\": 0.37027401443441904,<br>    \\\"stop_loss\\\": 0.20133340428033986<br>  }<br>}\",\"{<br>  \\\"number\\\": 423,<br>  \\\"values\\\": [<br>    1.5700000000000043,<br>    0.5181234242061477<br>  ],<br>  \\\"params\\\": {<br>    \\\"take_profit\\\": 0.07727654720018284,<br>    \\\"stop_loss\\\": 0.5915314782831304<br>  }<br>}\",\"{<br>  \\\"number\\\": 424,<br>  \\\"values\\\": [<br>    8.609999999999998,<br>    0.6513569653150606<br>  ],<br>  \\\"params\\\": {<br>    \\\"take_profit\\\": 0.41889084018018036,<br>    \\\"stop_loss\\\": 0.5654762176507381<br>  }<br>}\",\"{<br>  \\\"number\\\": 425,<br>  \\\"values\\\": [<br>    5.489999999999988,<br>    0.5074851431498208<br>  ],<br>  \\\"params\\\": {<br>    \\\"take_profit\\\": 0.15532629544967783,<br>    \\\"stop_loss\\\": 0.4902810693751475<br>  }<br>}\",\"{<br>  \\\"number\\\": 426,<br>  \\\"values\\\": [<br>    4.06999999999997,<br>    0.5176567010203944<br>  ],<br>  \\\"params\\\": {<br>    \\\"take_profit\\\": 0.19859601403959615,<br>    \\\"stop_loss\\\": 0.4332985635041994<br>  }<br>}\",\"{<br>  \\\"number\\\": 427,<br>  \\\"values\\\": [<br>    -0.010000000000021991,<br>    0.4669881084737834<br>  ],<br>  \\\"params\\\": {<br>    \\\"take_profit\\\": 0.33432273996500833,<br>    \\\"stop_loss\\\": 0.16730925363802107<br>  }<br>}\",\"{<br>  \\\"number\\\": 428,<br>  \\\"values\\\": [<br>    8.879999999999999,<br>    0.5767027825093065<br>  ],<br>  \\\"params\\\": {<br>    \\\"take_profit\\\": 0.335589419299287,<br>    \\\"stop_loss\\\": 0.567752123063268<br>  }<br>}\",\"{<br>  \\\"number\\\": 429,<br>  \\\"values\\\": [<br>    6.220000000000006,<br>    0.5250869222632197<br>  ],<br>  \\\"params\\\": {<br>    \\\"take_profit\\\": 0.3046618797061607,<br>    \\\"stop_loss\\\": 0.41254554790994874<br>  }<br>}\",\"{<br>  \\\"number\\\": 430,<br>  \\\"values\\\": [<br>    5.279999999999964,<br>    0.7035385134513225<br>  ],<br>  \\\"params\\\": {<br>    \\\"take_profit\\\": 0.49552597829155925,<br>    \\\"stop_loss\\\": 0.5349177715800677<br>  }<br>}\",\"{<br>  \\\"number\\\": 431,<br>  \\\"values\\\": [<br>    4.93999999999998,<br>    0.6366832324331606<br>  ],<br>  \\\"params\\\": {<br>    \\\"take_profit\\\": 0.5719326247301906,<br>    \\\"stop_loss\\\": 0.3026282171902923<br>  }<br>}\",\"{<br>  \\\"number\\\": 432,<br>  \\\"values\\\": [<br>    8.069999999999958,<br>    0.5785477577307082<br>  ],<br>  \\\"params\\\": {<br>    \\\"take_profit\\\": 0.37085426773928404,<br>    \\\"stop_loss\\\": 0.4531411076159884<br>  }<br>}\",\"{<br>  \\\"number\\\": 433,<br>  \\\"values\\\": [<br>    2.4199999999999826,<br>    0.4833771876998535<br>  ],<br>  \\\"params\\\": {<br>    \\\"take_profit\\\": 0.07027666199650646,<br>    \\\"stop_loss\\\": 0.5369060645414534<br>  }<br>}\",\"{<br>  \\\"number\\\": 434,<br>  \\\"values\\\": [<br>    5.239999999999984,<br>    0.5035554732268073<br>  ],<br>  \\\"params\\\": {<br>    \\\"take_profit\\\": 0.3491367688106505,<br>    \\\"stop_loss\\\": 0.2589727795282329<br>  }<br>}\",\"{<br>  \\\"number\\\": 436,<br>  \\\"values\\\": [<br>    3.5500000000000105,<br>    0.5136836239906977<br>  ],<br>  \\\"params\\\": {<br>    \\\"take_profit\\\": 0.12187065871750477,<br>    \\\"stop_loss\\\": 0.5369060645414534<br>  }<br>}\",\"{<br>  \\\"number\\\": 437,<br>  \\\"values\\\": [<br>    7.199999999999978,<br>    0.5325688966036501<br>  ],<br>  \\\"params\\\": {<br>    \\\"take_profit\\\": 0.37027401443441904,<br>    \\\"stop_loss\\\": 0.33563619175419673<br>  }<br>}\",\"{<br>  \\\"number\\\": 439,<br>  \\\"values\\\": [<br>    6.0499999999999865,<br>    0.5069104832941058<br>  ],<br>  \\\"params\\\": {<br>    \\\"take_profit\\\": 0.37027401443441904,<br>    \\\"stop_loss\\\": 0.26743814250966713<br>  }<br>}\",\"{<br>  \\\"number\\\": 440,<br>  \\\"values\\\": [<br>    0.43999999999994044,<br>    0.41504060609656196<br>  ],<br>  \\\"params\\\": {<br>    \\\"take_profit\\\": 0.15532629544967783,<br>    \\\"stop_loss\\\": 0.20349333054317287<br>  }<br>}\",\"{<br>  \\\"number\\\": 441,<br>  \\\"values\\\": [<br>    4.2799999999999905,<br>    0.4812925871947802<br>  ],<br>  \\\"params\\\": {<br>    \\\"take_profit\\\": 0.2528018514104881,<br>    \\\"stop_loss\\\": 0.29129255144850197<br>  }<br>}\",\"{<br>  \\\"number\\\": 442,<br>  \\\"values\\\": [<br>    3.1199999999999606,<br>    0.5728712246220788<br>  ],<br>  \\\"params\\\": {<br>    \\\"take_profit\\\": 0.5874963938965386,<br>    \\\"stop_loss\\\": 0.20415950754219547<br>  }<br>}\",\"{<br>  \\\"number\\\": 444,<br>  \\\"values\\\": [<br>    4.010000000000001,<br>    0.47978614532523184<br>  ],<br>  \\\"params\\\": {<br>    \\\"take_profit\\\": 0.2314528416418803,<br>    \\\"stop_loss\\\": 0.3026282171902923<br>  }<br>}\",\"{<br>  \\\"number\\\": 445,<br>  \\\"values\\\": [<br>    2.0899999999999763,<br>    0.46762869368304283<br>  ],<br>  \\\"params\\\": {<br>    \\\"take_profit\\\": 0.06995093882158698,<br>    \\\"stop_loss\\\": 0.4250026356435156<br>  }<br>}\",\"{<br>  \\\"number\\\": 446,<br>  \\\"values\\\": [<br>    5.13999999999999,<br>    0.5015346599404977<br>  ],<br>  \\\"params\\\": {<br>    \\\"take_profit\\\": 0.1461234770200528,<br>    \\\"stop_loss\\\": 0.4714992726763563<br>  }<br>}\",\"{<br>  \\\"number\\\": 447,<br>  \\\"values\\\": [<br>    7.419999999999998,<br>    0.5439693240421241<br>  ],<br>  \\\"params\\\": {<br>    \\\"take_profit\\\": 0.2703140024295009,<br>    \\\"stop_loss\\\": 0.5349177715800677<br>  }<br>}\",\"{<br>  \\\"number\\\": 448,<br>  \\\"values\\\": [<br>    8.159999999999979,<br>    0.6221699762042051<br>  ],<br>  \\\"params\\\": {<br>    \\\"take_profit\\\": 0.39788929197510264,<br>    \\\"stop_loss\\\": 0.5369060645414534<br>  }<br>}\",\"{<br>  \\\"number\\\": 449,<br>  \\\"values\\\": [<br>    2.219999999999986,<br>    0.46788156902121886<br>  ],<br>  \\\"params\\\": {<br>    \\\"take_profit\\\": 0.07147113464227041,<br>    \\\"stop_loss\\\": 0.4234704987991215<br>  }<br>}\",\"{<br>  \\\"number\\\": 450,<br>  \\\"values\\\": [<br>    1.6199999999999672,<br>    0.4892530402715614<br>  ],<br>  \\\"params\\\": {<br>    \\\"take_profit\\\": 0.37789617693978,<br>    \\\"stop_loss\\\": 0.19310671812163688<br>  }<br>}\",\"{<br>  \\\"number\\\": 451,<br>  \\\"values\\\": [<br>    8.789999999999988,<br>    0.5734807330928685<br>  ],<br>  \\\"params\\\": {<br>    \\\"take_profit\\\": 0.335589419299287,<br>    \\\"stop_loss\\\": 0.5349177715800677<br>  }<br>}\",\"{<br>  \\\"number\\\": 453,<br>  \\\"values\\\": [<br>    -0.6999999999999929,<br>    0.44300182537315846<br>  ],<br>  \\\"params\\\": {<br>    \\\"take_profit\\\": 0.3322178556912239,<br>    \\\"stop_loss\\\": 0.1052527538461541<br>  }<br>}\",\"{<br>  \\\"number\\\": 454,<br>  \\\"values\\\": [<br>    3.1699999999999906,<br>    0.4785889690650794<br>  ],<br>  \\\"params\\\": {<br>    \\\"take_profit\\\": 0.26420820939153805,<br>    \\\"stop_loss\\\": 0.28881200759765785<br>  }<br>}\",\"{<br>  \\\"number\\\": 455,<br>  \\\"values\\\": [<br>    6.159999999999975,<br>    0.7199582642951722<br>  ],<br>  \\\"params\\\": {<br>    \\\"take_profit\\\": 0.5387524469150771,<br>    \\\"stop_loss\\\": 0.5443132715820067<br>  }<br>}\",\"{<br>  \\\"number\\\": 456,<br>  \\\"values\\\": [<br>    -1.1800000000000674,<br>    0.36283598522397215<br>  ],<br>  \\\"params\\\": {<br>    \\\"take_profit\\\": 0.07956702183920271,<br>    \\\"stop_loss\\\": 0.1080721439783732<br>  }<br>}\",\"{<br>  \\\"number\\\": 457,<br>  \\\"values\\\": [<br>    2.0499999999999803,<br>    0.46101043877766984<br>  ],<br>  \\\"params\\\": {<br>    \\\"take_profit\\\": 0.22944913224895924,<br>    \\\"stop_loss\\\": 0.2228112396938116<br>  }<br>}\",\"{<br>  \\\"number\\\": 458,<br>  \\\"values\\\": [<br>    7.4800000000000075,<br>    0.5465156851128834<br>  ],<br>  \\\"params\\\": {<br>    \\\"take_profit\\\": 0.2528018514104881,<br>    \\\"stop_loss\\\": 0.567752123063268<br>  }<br>}\",\"{<br>  \\\"number\\\": 459,<br>  \\\"values\\\": [<br>    0.029999999999936133,<br>    0.4040059039647229<br>  ],<br>  \\\"params\\\": {<br>    \\\"take_profit\\\": 0.15635221511028574,<br>    \\\"stop_loss\\\": 0.1764666706253183<br>  }<br>}\",\"{<br>  \\\"number\\\": 460,<br>  \\\"values\\\": [<br>    4.369999999999974,<br>    0.511111559679559<br>  ],<br>  \\\"params\\\": {<br>    \\\"take_profit\\\": 0.1802514032503441,<br>    \\\"stop_loss\\\": 0.43824973456478217<br>  }<br>}\",\"{<br>  \\\"number\\\": 461,<br>  \\\"values\\\": [<br>    6.61999999999998,<br>    0.7369432599993881<br>  ],<br>  \\\"params\\\": {<br>    \\\"take_profit\\\": 0.5752265056563729,<br>    \\\"stop_loss\\\": 0.5415269357670659<br>  }<br>}\",\"{<br>  \\\"number\\\": 462,<br>  \\\"values\\\": [<br>    8.299999999999983,<br>    0.5507142836555289<br>  ],<br>  \\\"params\\\": {<br>    \\\"take_profit\\\": 0.3430983563905199,<br>    \\\"stop_loss\\\": 0.4250026356435156<br>  }<br>}\",\"{<br>  \\\"number\\\": 463,<br>  \\\"values\\\": [<br>    -0.9800000000000548,<br>    0.40659192158920976<br>  ],<br>  \\\"params\\\": {<br>    \\\"take_profit\\\": 0.16599202648487926,<br>    \\\"stop_loss\\\": 0.175258234178148<br>  }<br>}\",\"{<br>  \\\"number\\\": 465,<br>  \\\"values\\\": [<br>    -1.3500000000000978,<br>    0.3662897188653471<br>  ],<br>  \\\"params\\\": {<br>    \\\"take_profit\\\": 0.051682346562062456,<br>    \\\"stop_loss\\\": 0.13290700296764763<br>  }<br>}\",\"{<br>  \\\"number\\\": 466,<br>  \\\"values\\\": [<br>    4.569999999999992,<br>    0.522540392909699<br>  ],<br>  \\\"params\\\": {<br>    \\\"take_profit\\\": 0.16315902927577125,<br>    \\\"stop_loss\\\": 0.5349177715800677<br>  }<br>}\",\"{<br>  \\\"number\\\": 467,<br>  \\\"values\\\": [<br>    1.3499999999999592,<br>    0.4636084322338914<br>  ],<br>  \\\"params\\\": {<br>    \\\"take_profit\\\": 0.0595366319200447,<br>    \\\"stop_loss\\\": 0.4135210568658058<br>  }<br>}\",\"{<br>  \\\"number\\\": 468,<br>  \\\"values\\\": [<br>    5.699999999999996,<br>    0.5115503802492403<br>  ],<br>  \\\"params\\\": {<br>    \\\"take_profit\\\": 0.15532629544967783,<br>    \\\"stop_loss\\\": 0.5349177715800677<br>  }<br>}\",\"{<br>  \\\"number\\\": 470,<br>  \\\"values\\\": [<br>    6.709999999999968,<br>    0.7208786579867765<br>  ],<br>  \\\"params\\\": {<br>    \\\"take_profit\\\": 0.5474048755956343,<br>    \\\"stop_loss\\\": 0.5369060645414534<br>  }<br>}\",\"{<br>  \\\"number\\\": 471,<br>  \\\"values\\\": [<br>    9.299999999999976,<br>    0.6541994120666111<br>  ],<br>  \\\"params\\\": {<br>    \\\"take_profit\\\": 0.42477134448096265,<br>    \\\"stop_loss\\\": 0.5349177715800677<br>  }<br>}\",\"{<br>  \\\"number\\\": 472,<br>  \\\"values\\\": [<br>    -0.19000000000003503,<br>    0.4626382706836239<br>  ],<br>  \\\"params\\\": {<br>    \\\"take_profit\\\": 0.3039315069644288,<br>    \\\"stop_loss\\\": 0.20543583836577933<br>  }<br>}\",\"{<br>  \\\"number\\\": 473,<br>  \\\"values\\\": [<br>    1.799999999999966,<br>    0.4594552586132712<br>  ],<br>  \\\"params\\\": {<br>    \\\"take_profit\\\": 0.20230457723797396,<br>    \\\"stop_loss\\\": 0.2381012609389297<br>  }<br>}\",\"{<br>  \\\"number\\\": 474,<br>  \\\"values\\\": [<br>    5.279999999999964,<br>    0.7035385134513225<br>  ],<br>  \\\"params\\\": {<br>    \\\"take_profit\\\": 0.49668242331625195,<br>    \\\"stop_loss\\\": 0.5349177715800677<br>  }<br>}\",\"{<br>  \\\"number\\\": 476,<br>  \\\"values\\\": [<br>    8.929999999999968,<br>    0.5870223064227758<br>  ],<br>  \\\"params\\\": {<br>    \\\"take_profit\\\": 0.37027401443441904,<br>    \\\"stop_loss\\\": 0.5372208293404493<br>  }<br>}\",\"{<br>  \\\"number\\\": 478,<br>  \\\"values\\\": [<br>    8.929999999999968,<br>    0.5870223064227758<br>  ],<br>  \\\"params\\\": {<br>    \\\"take_profit\\\": 0.3666194620239973,<br>    \\\"stop_loss\\\": 0.5369060645414534<br>  }<br>}\",\"{<br>  \\\"number\\\": 479,<br>  \\\"values\\\": [<br>    7.9499999999999815,<br>    0.5501061091467967<br>  ],<br>  \\\"params\\\": {<br>    \\\"take_profit\\\": 0.37027401443441904,<br>    \\\"stop_loss\\\": 0.41254554790994874<br>  }<br>}\",\"{<br>  \\\"number\\\": 481,<br>  \\\"values\\\": [<br>    7.510000000000009,<br>    0.5466465946505872<br>  ],<br>  \\\"params\\\": {<br>    \\\"take_profit\\\": 0.2703140024295009,<br>    \\\"stop_loss\\\": 0.567752123063268<br>  }<br>}\",\"{<br>  \\\"number\\\": 482,<br>  \\\"values\\\": [<br>    6.069999999999972,<br>    0.6227928187626042<br>  ],<br>  \\\"params\\\": {<br>    \\\"take_profit\\\": 0.453780289267266,<br>    \\\"stop_loss\\\": 0.35300394910571503<br>  }<br>}\",\"{<br>  \\\"number\\\": 483,<br>  \\\"values\\\": [<br>    6.4800000000000075,<br>    0.5462933473372816<br>  ],<br>  \\\"params\\\": {<br>    \\\"take_profit\\\": 0.24323030232262216,<br>    \\\"stop_loss\\\": 0.5369060645414534<br>  }<br>}\",\"{<br>  \\\"number\\\": 484,<br>  \\\"values\\\": [<br>    7.9499999999999815,<br>    0.5501061091467967<br>  ],<br>  \\\"params\\\": {<br>    \\\"take_profit\\\": 0.37027401443441904,<br>    \\\"stop_loss\\\": 0.41254554790994874<br>  }<br>}\",\"{<br>  \\\"number\\\": 485,<br>  \\\"values\\\": [<br>    5.849999999999987,<br>    0.5430873013164571<br>  ],<br>  \\\"params\\\": {<br>    \\\"take_profit\\\": 0.2703140024295009,<br>    \\\"stop_loss\\\": 0.45119211249299135<br>  }<br>}\",\"{<br>  \\\"number\\\": 486,<br>  \\\"values\\\": [<br>    5.989999999999984,<br>    0.5921540361118585<br>  ],<br>  \\\"params\\\": {<br>    \\\"take_profit\\\": 0.5036140631884812,<br>    \\\"stop_loss\\\": 0.25760257173708784<br>  }<br>}\",\"{<br>  \\\"number\\\": 487,<br>  \\\"values\\\": [<br>    1.139999999999949,<br>    0.48077477861791174<br>  ],<br>  \\\"params\\\": {<br>    \\\"take_profit\\\": 0.34357574396944707,<br>    \\\"stop_loss\\\": 0.1842809123024413<br>  }<br>}\",\"{<br>  \\\"number\\\": 488,<br>  \\\"values\\\": [<br>    1.089999999999995,<br>    0.42992772144956254<br>  ],<br>  \\\"params\\\": {<br>    \\\"take_profit\\\": 0.37085426773928404,<br>    \\\"stop_loss\\\": 0.07791839253490676<br>  }<br>}\",\"{<br>  \\\"number\\\": 489,<br>  \\\"values\\\": [<br>    5.009999999999955,<br>    0.5786967520630925<br>  ],<br>  \\\"params\\\": {<br>    \\\"take_profit\\\": 0.4850744056694937,<br>    \\\"stop_loss\\\": 0.2228112396938116<br>  }<br>}\",\"{<br>  \\\"number\\\": 490,<br>  \\\"values\\\": [<br>    6.329999999999991,<br>    0.5295296206635284<br>  ],<br>  \\\"params\\\": {<br>    \\\"take_profit\\\": 0.3913891393394308,<br>    \\\"stop_loss\\\": 0.27853016915107337<br>  }<br>}\",\"{<br>  \\\"number\\\": 491,<br>  \\\"values\\\": [<br>    7.719999999999992,<br>    0.5479382229516031<br>  ],<br>  \\\"params\\\": {<br>    \\\"take_profit\\\": 0.41889084018018036,<br>    \\\"stop_loss\\\": 0.2776809362529668<br>  }<br>}\",\"{<br>  \\\"number\\\": 492,<br>  \\\"values\\\": [<br>    -1.0000000000000528,<br>    0.372393025038<br>  ],<br>  \\\"params\\\": {<br>    \\\"take_profit\\\": 0.15532629544967783,<br>    \\\"stop_loss\\\": 0.09580670802830822<br>  }<br>}\",\"{<br>  \\\"number\\\": 494,<br>  \\\"values\\\": [<br>    -0.5400000000000267,<br>    0.3894034973498595<br>  ],<br>  \\\"params\\\": {<br>    \\\"take_profit\\\": 0.11744401707025871,<br>    \\\"stop_loss\\\": 0.15289761495019039<br>  }<br>}\",\"{<br>  \\\"number\\\": 496,<br>  \\\"values\\\": [<br>    5.239999999999984,<br>    0.5035554732268073<br>  ],<br>  \\\"params\\\": {<br>    \\\"take_profit\\\": 0.3440721918189747,<br>    \\\"stop_loss\\\": 0.2507888933922507<br>  }<br>}\",\"{<br>  \\\"number\\\": 497,<br>  \\\"values\\\": [<br>    1.9200000000000133,<br>    0.5235182287726188<br>  ],<br>  \\\"params\\\": {<br>    \\\"take_profit\\\": 0.5439414299466343,<br>    \\\"stop_loss\\\": 0.1164270475939357<br>  }<br>}\",\"{<br>  \\\"number\\\": 498,<br>  \\\"values\\\": [<br>    1.3999999999999788,<br>    0.48054308953480324<br>  ],<br>  \\\"params\\\": {<br>    \\\"take_profit\\\": 0.07267861657874725,<br>    \\\"stop_loss\\\": 0.4554235325018315<br>  }<br>}\",\"{<br>  \\\"number\\\": 499,<br>  \\\"values\\\": [<br>    8.189999999999976,<br>    0.5597608698408264<br>  ],<br>  \\\"params\\\": {<br>    \\\"take_profit\\\": 0.4182172937132253,<br>    \\\"stop_loss\\\": 0.3063032657103378<br>  }<br>}\",\"{<br>  \\\"number\\\": 500,<br>  \\\"values\\\": [<br>    2.6399999999999775,<br>    0.4900975191033848<br>  ],<br>  \\\"params\\\": {<br>    \\\"take_profit\\\": 0.32986304788345927,<br>    \\\"stop_loss\\\": 0.22234287162233085<br>  }<br>}\",\"{<br>  \\\"number\\\": 502,<br>  \\\"values\\\": [<br>    6.220000000000006,<br>    0.5250869222632197<br>  ],<br>  \\\"params\\\": {<br>    \\\"take_profit\\\": 0.3039315069644288,<br>    \\\"stop_loss\\\": 0.41254554790994874<br>  }<br>}\",\"{<br>  \\\"number\\\": 503,<br>  \\\"values\\\": [<br>    1.6199999999999672,<br>    0.4892530402715614<br>  ],<br>  \\\"params\\\": {<br>    \\\"take_profit\\\": 0.3666194620239973,<br>    \\\"stop_loss\\\": 0.19686911952604985<br>  }<br>}\",\"{<br>  \\\"number\\\": 504,<br>  \\\"values\\\": [<br>    1.9099999999999615,<br>    0.4613992687926976<br>  ],<br>  \\\"params\\\": {<br>    \\\"take_profit\\\": 0.0595366319200447,<br>    \\\"stop_loss\\\": 0.4250026356435156<br>  }<br>}\",\"{<br>  \\\"number\\\": 505,<br>  \\\"values\\\": [<br>    9.269999999999994,<br>    0.6587216125644021<br>  ],<br>  \\\"params\\\": {<br>    \\\"take_profit\\\": 0.4264621059985647,<br>    \\\"stop_loss\\\": 0.567752123063268<br>  }<br>}\",\"{<br>  \\\"number\\\": 506,<br>  \\\"values\\\": [<br>    -0.2100000000000508,<br>    0.4222492540208287<br>  ],<br>  \\\"params\\\": {<br>    \\\"take_profit\\\": 0.17027587678788014,<br>    \\\"stop_loss\\\": 0.21642466644046626<br>  }<br>}\",\"{<br>  \\\"number\\\": 507,<br>  \\\"values\\\": [<br>    7.399999999999984,<br>    0.5520049779658747<br>  ],<br>  \\\"params\\\": {<br>    \\\"take_profit\\\": 0.41889084018018036,<br>    \\\"stop_loss\\\": 0.2865906215851876<br>  }<br>}\",\"{<br>  \\\"number\\\": 508,<br>  \\\"values\\\": [<br>    2.3999999999999484,<br>    0.42401082372866417<br>  ],<br>  \\\"params\\\": {<br>    \\\"take_profit\\\": 0.05392827887993837,<br>    \\\"stop_loss\\\": 0.29129255144850197<br>  }<br>}\",\"{<br>  \\\"number\\\": 509,<br>  \\\"values\\\": [<br>    10.499999999999979,<br>    0.5995514993520614<br>  ],<br>  \\\"params\\\": {<br>    \\\"take_profit\\\": 0.4239912318267485,<br>    \\\"stop_loss\\\": 0.41218749413818806<br>  }<br>}\",\"{<br>  \\\"number\\\": 510,<br>  \\\"values\\\": [<br>    0.539999999999949,<br>    0.4519635512238725<br>  ],<br>  \\\"params\\\": {<br>    \\\"take_profit\\\": 0.0595366319200447,<br>    \\\"stop_loss\\\": 0.37631007001214245<br>  }<br>}\",\"{<br>  \\\"number\\\": 511,<br>  \\\"values\\\": [<br>    7.989999999999974,<br>    0.5619170317299104<br>  ],<br>  \\\"params\\\": {<br>    \\\"take_profit\\\": 0.41539992463926473,<br>    \\\"stop_loss\\\": 0.31029490757796907<br>  }<br>}\",\"{<br>  \\\"number\\\": 512,<br>  \\\"values\\\": [<br>    7.4800000000000075,<br>    0.5465156851128834<br>  ],<br>  \\\"params\\\": {<br>    \\\"take_profit\\\": 0.251589132682438,<br>    \\\"stop_loss\\\": 0.567752123063268<br>  }<br>}\",\"{<br>  \\\"number\\\": 513,<br>  \\\"values\\\": [<br>    4.700000000000003,<br>    0.532627032317696<br>  ],<br>  \\\"params\\\": {<br>    \\\"take_profit\\\": 0.180381038720768,<br>    \\\"stop_loss\\\": 0.5349177715800677<br>  }<br>}\",\"{<br>  \\\"number\\\": 514,<br>  \\\"values\\\": [<br>    -0.3800000000000061,<br>    0.45928253201583413<br>  ],<br>  \\\"params\\\": {<br>    \\\"take_profit\\\": 0.37085426773928404,<br>    \\\"stop_loss\\\": 0.1365100302921046<br>  }<br>}\",\"{<br>  \\\"number\\\": 515,<br>  \\\"values\\\": [<br>    2.1999999999999718,<br>    0.4619362803414856<br>  ],<br>  \\\"params\\\": {<br>    \\\"take_profit\\\": 0.24792435292493215,<br>    \\\"stop_loss\\\": 0.2228112396938116<br>  }<br>}\",\"{<br>  \\\"number\\\": 516,<br>  \\\"values\\\": [<br>    6.0599999999999845,<br>    0.7698348360138583<br>  ],<br>  \\\"params\\\": {<br>    \\\"take_profit\\\": 0.5928879637290073,<br>    \\\"stop_loss\\\": 0.5829305826292092<br>  }<br>}\",\"{<br>  \\\"number\\\": 517,<br>  \\\"values\\\": [<br>    5.889999999999976,<br>    0.7674526852291962<br>  ],<br>  \\\"params\\\": {<br>    \\\"take_profit\\\": 0.5834654416473689,<br>    \\\"stop_loss\\\": 0.588693677766387<br>  }<br>}\",\"{<br>  \\\"number\\\": 518,<br>  \\\"values\\\": [<br>    5.739999999999988,<br>    0.6474085645886379<br>  ],<br>  \\\"params\\\": {<br>    \\\"take_profit\\\": 0.495673903126895,<br>    \\\"stop_loss\\\": 0.4143482171443965<br>  }<br>}\",\"{<br>  \\\"number\\\": 519,<br>  \\\"values\\\": [<br>    5.369999999999994,<br>    0.6608546161192351<br>  ],<br>  \\\"params\\\": {<br>    \\\"take_profit\\\": 0.5352780587978863,<br>    \\\"stop_loss\\\": 0.41218749413818806<br>  }<br>}\",\"{<br>  \\\"number\\\": 520,<br>  \\\"values\\\": [<br>    7.389999999999985,<br>    0.6931162662638406<br>  ],<br>  \\\"params\\\": {<br>    \\\"take_profit\\\": 0.4343655087239622,<br>    \\\"stop_loss\\\": 0.588096998570272<br>  }<br>}\",\"{<br>  \\\"number\\\": 521,<br>  \\\"values\\\": [<br>    6.6099999999999675,<br>    0.5793940113257212<br>  ],<br>  \\\"params\\\": {<br>    \\\"take_profit\\\": 0.46940417642235266,<br>    \\\"stop_loss\\\": 0.25760257173708784<br>  }<br>}\",\"{<br>  \\\"number\\\": 523,<br>  \\\"values\\\": [<br>    6.219999999999974,<br>    0.626200293747112<br>  ],<br>  \\\"params\\\": {<br>    \\\"take_profit\\\": 0.470942123874118,<br>    \\\"stop_loss\\\": 0.34691644633018803<br>  }<br>}\",\"{<br>  \\\"number\\\": 524,<br>  \\\"values\\\": [<br>    -2.0199999999999942,<br>    0.42142418764912815<br>  ],<br>  \\\"params\\\": {<br>    \\\"take_profit\\\": 0.28400575592318683,<br>    \\\"stop_loss\\\": 0.12265563406458166<br>  }<br>}\",\"{<br>  \\\"number\\\": 525,<br>  \\\"values\\\": [<br>    6.66,<br>    0.5419951826540846<br>  ],<br>  \\\"params\\\": {<br>    \\\"take_profit\\\": 0.2528018514104881,<br>    \\\"stop_loss\\\": 0.4723836320409271<br>  }<br>}\",\"{<br>  \\\"number\\\": 526,<br>  \\\"values\\\": [<br>    9.909999999999958,<br>    0.606884068144997<br>  ],<br>  \\\"params\\\": {<br>    \\\"take_profit\\\": 0.41889084018018036,<br>    \\\"stop_loss\\\": 0.43091824443493765<br>  }<br>}\",\"{<br>  \\\"number\\\": 527,<br>  \\\"values\\\": [<br>    6.1600000000000215,<br>    0.5471595131871928<br>  ],<br>  \\\"params\\\": {<br>    \\\"take_profit\\\": 0.2008117307767538,<br>    \\\"stop_loss\\\": 0.567752123063268<br>  }<br>}\",\"{<br>  \\\"number\\\": 529,<br>  \\\"values\\\": [<br>    5.729999999999997,<br>    0.6521386411310368<br>  ],<br>  \\\"params\\\": {<br>    \\\"take_profit\\\": 0.5968657879308503,<br>    \\\"stop_loss\\\": 0.3286936045839725<br>  }<br>}\",\"{<br>  \\\"number\\\": 530,<br>  \\\"values\\\": [<br>    5.629999999999978,<br>    0.6228013023359518<br>  ],<br>  \\\"params\\\": {<br>    \\\"take_profit\\\": 0.5291347600428554,<br>    \\\"stop_loss\\\": 0.29129255144850197<br>  }<br>}\",\"{<br>  \\\"number\\\": 532,<br>  \\\"values\\\": [<br>    4.2699999999999845,<br>    0.4694401583628492<br>  ],<br>  \\\"params\\\": {<br>    \\\"take_profit\\\": 0.15532629544967783,<br>    \\\"stop_loss\\\": 0.32674133443895337<br>  }<br>}\",\"{<br>  \\\"number\\\": 533,<br>  \\\"values\\\": [<br>    7.719999999999992,<br>    0.5479382229516031<br>  ],<br>  \\\"params\\\": {<br>    \\\"take_profit\\\": 0.41539992463926473,<br>    \\\"stop_loss\\\": 0.2732714331891309<br>  }<br>}\",\"{<br>  \\\"number\\\": 535,<br>  \\\"values\\\": [<br>    8.789999999999988,<br>    0.5734807330928685<br>  ],<br>  \\\"params\\\": {<br>    \\\"take_profit\\\": 0.3383493207317936,<br>    \\\"stop_loss\\\": 0.5369060645414534<br>  }<br>}\",\"{<br>  \\\"number\\\": 536,<br>  \\\"values\\\": [<br>    6.16999999999998,<br>    0.6387402865698784<br>  ],<br>  \\\"params\\\": {<br>    \\\"take_profit\\\": 0.46152984795236135,<br>    \\\"stop_loss\\\": 0.41254554790994874<br>  }<br>}\",\"{<br>  \\\"number\\\": 537,<br>  \\\"values\\\": [<br>    6.220000000000006,<br>    0.5250869222632197<br>  ],<br>  \\\"params\\\": {<br>    \\\"take_profit\\\": 0.3018572374235954,<br>    \\\"stop_loss\\\": 0.41218749413818806<br>  }<br>}\",\"{<br>  \\\"number\\\": 538,<br>  \\\"values\\\": [<br>    5.729999999999983,<br>    0.5251109802463739<br>  ],<br>  \\\"params\\\": {<br>    \\\"take_profit\\\": 0.3848837201260345,<br>    \\\"stop_loss\\\": 0.30020786121574633<br>  }<br>}\",\"{<br>  \\\"number\\\": 540,<br>  \\\"values\\\": [<br>    3.019999999999999,<br>    0.4735810836898332<br>  ],<br>  \\\"params\\\": {<br>    \\\"take_profit\\\": 0.2505855214057242,<br>    \\\"stop_loss\\\": 0.25760257173708784<br>  }<br>}\",\"{<br>  \\\"number\\\": 541,<br>  \\\"values\\\": [<br>    1.4999999999999507,<br>    0.4680374522178297<br>  ],<br>  \\\"params\\\": {<br>    \\\"take_profit\\\": 0.0595366319200447,<br>    \\\"stop_loss\\\": 0.43326480209693996<br>  }<br>}\",\"{<br>  \\\"number\\\": 542,<br>  \\\"values\\\": [<br>    1.089999999999995,<br>    0.42992772144956254<br>  ],<br>  \\\"params\\\": {<br>    \\\"take_profit\\\": 0.37027401443441904,<br>    \\\"stop_loss\\\": 0.07100194235572947<br>  }<br>}\",\"{<br>  \\\"number\\\": 543,<br>  \\\"values\\\": [<br>    7.179999999999989,<br>    0.7437104727008492<br>  ],<br>  \\\"params\\\": {<br>    \\\"take_profit\\\": 0.5929043132964936,<br>    \\\"stop_loss\\\": 0.5369060645414534<br>  }<br>}\",\"{<br>  \\\"number\\\": 544,<br>  \\\"values\\\": [<br>    8.44999999999997,<br>    0.6043534370904803<br>  ],<br>  \\\"params\\\": {<br>    \\\"take_profit\\\": 0.37085426773928404,<br>    \\\"stop_loss\\\": 0.5710207197187162<br>  }<br>}\",\"{<br>  \\\"number\\\": 546,<br>  \\\"values\\\": [<br>    8.429999999999968,<br>    0.6346140661018053<br>  ],<br>  \\\"params\\\": {<br>    \\\"take_profit\\\": 0.4491864139920696,<br>    \\\"stop_loss\\\": 0.4277808555930925<br>  }<br>}\",\"{<br>  \\\"number\\\": 547,<br>  \\\"values\\\": [<br>    2.849999999999965,<br>    0.5103782089013563<br>  ],<br>  \\\"params\\\": {<br>    \\\"take_profit\\\": 0.40997941039795066,<br>    \\\"stop_loss\\\": 0.19614261563046176<br>  }<br>}\",\"{<br>  \\\"number\\\": 548,<br>  \\\"values\\\": [<br>    5.099999999999994,<br>    0.5256259760197045<br>  ],<br>  \\\"params\\\": {<br>    \\\"take_profit\\\": 0.17763522267688553,<br>    \\\"stop_loss\\\": 0.5369060645414534<br>  }<br>}\",\"{<br>  \\\"number\\\": 549,<br>  \\\"values\\\": [<br>    4.630000000000013,<br>    0.5435067646803697<br>  ],<br>  \\\"params\\\": {<br>    \\\"take_profit\\\": 0.19487286776997215,<br>    \\\"stop_loss\\\": 0.567752123063268<br>  }<br>}\",\"{<br>  \\\"number\\\": 550,<br>  \\\"values\\\": [<br>    -0.4000000000000079,<br>    0.4003799213206045<br>  ],<br>  \\\"params\\\": {<br>    \\\"take_profit\\\": 0.28400575592318683,<br>    \\\"stop_loss\\\": 0.07966777754668612<br>  }<br>}\",\"{<br>  \\\"number\\\": 551,<br>  \\\"values\\\": [<br>    1.1999999999999535,<br>    0.47247755253936335<br>  ],<br>  \\\"params\\\": {<br>    \\\"take_profit\\\": 0.0595366319200447,<br>    \\\"stop_loss\\\": 0.44010536743060613<br>  }<br>}\",\"{<br>  \\\"number\\\": 552,<br>  \\\"values\\\": [<br>    2.109999999999958,<br>    0.47661949742821<br>  ],<br>  \\\"params\\\": {<br>    \\\"take_profit\\\": 0.05392827887993837,<br>    \\\"stop_loss\\\": 0.5349177715800677<br>  }<br>}\",\"{<br>  \\\"number\\\": 553,<br>  \\\"values\\\": [<br>    0.11999999999999836,<br>    0.4014130202877035<br>  ],<br>  \\\"params\\\": {<br>    \\\"take_profit\\\": 0.3122333288434313,<br>    \\\"stop_loss\\\": 0.05286499173453086<br>  }<br>}\",\"{<br>  \\\"number\\\": 554,<br>  \\\"values\\\": [<br>    8.63999999999998,<br>    0.6469523879623985<br>  ],<br>  \\\"params\\\": {<br>    \\\"take_profit\\\": 0.410399452851436,<br>    \\\"stop_loss\\\": 0.5369060645414534<br>  }<br>}\",\"{<br>  \\\"number\\\": 555,<br>  \\\"values\\\": [<br>    4.93999999999998,<br>    0.6366832324331606<br>  ],<br>  \\\"params\\\": {<br>    \\\"take_profit\\\": 0.5732459137456206,<br>    \\\"stop_loss\\\": 0.3026282171902923<br>  }<br>}\",\"{<br>  \\\"number\\\": 557,<br>  \\\"values\\\": [<br>    8.659999999999975,<br>    0.5539800639766034<br>  ],<br>  \\\"params\\\": {<br>    \\\"take_profit\\\": 0.4193862236915465,<br>    \\\"stop_loss\\\": 0.29129255144850197<br>  }<br>}\",\"{<br>  \\\"number\\\": 558,<br>  \\\"values\\\": [<br>    5.939999999999987,<br>    0.6397011613853781<br>  ],<br>  \\\"params\\\": {<br>    \\\"take_profit\\\": 0.5025293260935499,<br>    \\\"stop_loss\\\": 0.3669657435483972<br>  }<br>}\",\"{<br>  \\\"number\\\": 559,<br>  \\\"values\\\": [<br>    6.519999999999971,<br>    0.5193321952028793<br>  ],<br>  \\\"params\\\": {<br>    \\\"take_profit\\\": 0.37027401443441904,<br>    \\\"stop_loss\\\": 0.3026282171902923<br>  }<br>}\",\"{<br>  \\\"number\\\": 560,<br>  \\\"values\\\": [<br>    -0.5000000000000027,<br>    0.4662404437982689<br>  ],<br>  \\\"params\\\": {<br>    \\\"take_profit\\\": 0.37085426773928404,<br>    \\\"stop_loss\\\": 0.1470611081211389<br>  }<br>}\",\"{<br>  \\\"number\\\": 561,<br>  \\\"values\\\": [<br>    -0.8500000000000005,<br>    0.3924203921137035<br>  ],<br>  \\\"params\\\": {<br>    \\\"take_profit\\\": 0.2742453839446867,<br>    \\\"stop_loss\\\": 0.06944219304486213<br>  }<br>}\",\"{<br>  \\\"number\\\": 562,<br>  \\\"values\\\": [<br>    1.9299999999999757,<br>    0.4602323378026902<br>  ],<br>  \\\"params\\\": {<br>    \\\"take_profit\\\": 0.21944624281914438,<br>    \\\"stop_loss\\\": 0.22463516339198453<br>  }<br>}\",\"{<br>  \\\"number\\\": 563,<br>  \\\"values\\\": [<br>    -0.30000000000004357,<br>    0.35673883954322044<br>  ],<br>  \\\"params\\\": {<br>    \\\"take_profit\\\": 0.15097201899157653,<br>    \\\"stop_loss\\\": 0.06155251694129482<br>  }<br>}\",\"{<br>  \\\"number\\\": 564,<br>  \\\"values\\\": [<br>    8.709999999999969,<br>    0.5854861482996389<br>  ],<br>  \\\"params\\\": {<br>    \\\"take_profit\\\": 0.35251836999980996,<br>    \\\"stop_loss\\\": 0.5349177715800677<br>  }<br>}\",\"{<br>  \\\"number\\\": 565,<br>  \\\"values\\\": [<br>    4.910000000000011,<br>    0.5381952392538933<br>  ],<br>  \\\"params\\\": {<br>    \\\"take_profit\\\": 0.15635221511028574,<br>    \\\"stop_loss\\\": 0.5984325089139217<br>  }<br>}\",\"{<br>  \\\"number\\\": 566,<br>  \\\"values\\\": [<br>    4.180000000000006,<br>    0.5252007498011899<br>  ],<br>  \\\"params\\\": {<br>    \\\"take_profit\\\": 0.2881063160536011,<br>    \\\"stop_loss\\\": 0.39698860472045056<br>  }<br>}\",\"{<br>  \\\"number\\\": 567,<br>  \\\"values\\\": [<br>    6.570000000000011,<br>    0.5434623438497851<br>  ],<br>  \\\"params\\\": {<br>    \\\"take_profit\\\": 0.2526648380378168,<br>    \\\"stop_loss\\\": 0.5092134862245657<br>  }<br>}\",\"{<br>  \\\"number\\\": 568,<br>  \\\"values\\\": [<br>    7.5099999999999945,<br>    0.5999341688100206<br>  ],<br>  \\\"params\\\": {<br>    \\\"take_profit\\\": 0.32315565061419055,<br>    \\\"stop_loss\\\": 0.5889338243191403<br>  }<br>}\",\"{<br>  \\\"number\\\": 569,<br>  \\\"values\\\": [<br>    8.63999999999998,<br>    0.6469523879623985<br>  ],<br>  \\\"params\\\": {<br>    \\\"take_profit\\\": 0.4193862236915465,<br>    \\\"stop_loss\\\": 0.5307356458138389<br>  }<br>}\",\"{<br>  \\\"number\\\": 570,<br>  \\\"values\\\": [<br>    8.929999999999968,<br>    0.5870223064227758<br>  ],<br>  \\\"params\\\": {<br>    \\\"take_profit\\\": 0.37027401443441904,<br>    \\\"stop_loss\\\": 0.5369060645414534<br>  }<br>}\",\"{<br>  \\\"number\\\": 571,<br>  \\\"values\\\": [<br>    1.1399999999999695,<br>    0.4603851821622516<br>  ],<br>  \\\"params\\\": {<br>    \\\"take_profit\\\": 0.09041858608301288,<br>    \\\"stop_loss\\\": 0.3897971634556314<br>  }<br>}\",\"{<br>  \\\"number\\\": 572,<br>  \\\"values\\\": [<br>    8.929999999999968,<br>    0.5870223064227758<br>  ],<br>  \\\"params\\\": {<br>    \\\"take_profit\\\": 0.3666194620239973,<br>    \\\"stop_loss\\\": 0.5369060645414534<br>  }<br>}\",\"{<br>  \\\"number\\\": 573,<br>  \\\"values\\\": [<br>    3.14000000000001,<br>    0.46554294818962383<br>  ],<br>  \\\"params\\\": {<br>    \\\"take_profit\\\": 0.22630760172614528,<br>    \\\"stop_loss\\\": 0.25760257173708784<br>  }<br>}\",\"{<br>  \\\"number\\\": 577,<br>  \\\"values\\\": [<br>    -0.4100000000000339,<br>    0.4542432064319393<br>  ],<br>  \\\"params\\\": {<br>    \\\"take_profit\\\": 0.2528018514104881,<br>    \\\"stop_loss\\\": 0.19916147232558346<br>  }<br>}\",\"{<br>  \\\"number\\\": 578,<br>  \\\"values\\\": [<br>    -0.3100000000000671,<br>    0.34695643712547974<br>  ],<br>  \\\"params\\\": {<br>    \\\"take_profit\\\": 0.0864395601263424,<br>    \\\"stop_loss\\\": 0.07321930378938664<br>  }<br>}\",\"{<br>  \\\"number\\\": 580,<br>  \\\"values\\\": [<br>    3.500000000000003,<br>    0.47466122333669797<br>  ],<br>  \\\"params\\\": {<br>    \\\"take_profit\\\": 0.2761527601271156,<br>    \\\"stop_loss\\\": 0.2622335931332519<br>  }<br>}\",\"{<br>  \\\"number\\\": 581,<br>  \\\"values\\\": [<br>    0.539999999999949,<br>    0.4519635512238725<br>  ],<br>  \\\"params\\\": {<br>    \\\"take_profit\\\": 0.05392827887993837,<br>    \\\"stop_loss\\\": 0.374640070255753<br>  }<br>}\",\"{<br>  \\\"number\\\": 582,<br>  \\\"values\\\": [<br>    2.659999999999994,<br>    0.47923783459702746<br>  ],<br>  \\\"params\\\": {<br>    \\\"take_profit\\\": 0.1279404733356139,<br>    \\\"stop_loss\\\": 0.3823362786823037<br>  }<br>}\",\"{<br>  \\\"number\\\": 584,<br>  \\\"values\\\": [<br>    3.5100000000000042,<br>    0.513591548801764<br>  ],<br>  \\\"params\\\": {<br>    \\\"take_profit\\\": 0.11246218553840226,<br>    \\\"stop_loss\\\": 0.5322134186042405<br>  }<br>}\",\"{<br>  \\\"number\\\": 585,<br>  \\\"values\\\": [<br>    5.239999999999984,<br>    0.5035554732268073<br>  ],<br>  \\\"params\\\": {<br>    \\\"take_profit\\\": 0.34554782848940085,<br>    \\\"stop_loss\\\": 0.25760257173708784<br>  }<br>}\",\"{<br>  \\\"number\\\": 587,<br>  \\\"values\\\": [<br>    7.499999999999984,<br>    0.676149523337231<br>  ],<br>  \\\"params\\\": {<br>    \\\"take_profit\\\": 0.41101869033207705,<br>    \\\"stop_loss\\\": 0.5832410975809195<br>  }<br>}\",\"{<br>  \\\"number\\\": 588,<br>  \\\"values\\\": [<br>    4.569999999999992,<br>    0.522540392909699<br>  ],<br>  \\\"params\\\": {<br>    \\\"take_profit\\\": 0.16117123037412098,<br>    \\\"stop_loss\\\": 0.5369060645414534<br>  }<br>}\",\"{<br>  \\\"number\\\": 589,<br>  \\\"values\\\": [<br>    7.479999999999993,<br>    0.5477864058546899<br>  ],<br>  \\\"params\\\": {<br>    \\\"take_profit\\\": 0.3046618797061607,<br>    \\\"stop_loss\\\": 0.4710857145413829<br>  }<br>}\",\"{<br>  \\\"number\\\": 590,<br>  \\\"values\\\": [<br>    2.559999999999987,<br>    0.5040649160765645<br>  ],<br>  \\\"params\\\": {<br>    \\\"take_profit\\\": 0.10031970000183371,<br>    \\\"stop_loss\\\": 0.49983854009073936<br>  }<br>}\",\"{<br>  \\\"number\\\": 591,<br>  \\\"values\\\": [<br>    4.629999999999985,<br>    0.49352407365676554<br>  ],<br>  \\\"params\\\": {<br>    \\\"take_profit\\\": 0.3046618797061607,<br>    \\\"stop_loss\\\": 0.3033196717866294<br>  }<br>}\",\"{<br>  \\\"number\\\": 592,<br>  \\\"values\\\": [<br>    8.43000000000001,<br>    0.5529706727634947<br>  ],<br>  \\\"params\\\": {<br>    \\\"take_profit\\\": 0.3067418590421396,<br>    \\\"stop_loss\\\": 0.567752123063268<br>  }<br>}\",\"{<br>  \\\"number\\\": 594,<br>  \\\"values\\\": [<br>    4.790000000000006,<br>    0.5183746306012839<br>  ],<br>  \\\"params\\\": {<br>    \\\"take_profit\\\": 0.3046618797061607,<br>    \\\"stop_loss\\\": 0.3845337887187567<br>  }<br>}\",\"{<br>  \\\"number\\\": 595,<br>  \\\"values\\\": [<br>    7.409999999999993,<br>    0.5439246862132775<br>  ],<br>  \\\"params\\\": {<br>    \\\"take_profit\\\": 0.2684094356221424,<br>    \\\"stop_loss\\\": 0.5372208293404493<br>  }<br>}\",\"{<br>  \\\"number\\\": 596,<br>  \\\"values\\\": [<br>    2.4199999999999906,<br>    0.49943052465378185<br>  ],<br>  \\\"params\\\": {<br>    \\\"take_profit\\\": 0.1965496460923299,<br>    \\\"stop_loss\\\": 0.37931687871370806<br>  }<br>}\",\"{<br>  \\\"number\\\": 597,<br>  \\\"values\\\": [<br>    6.809999999999974,<br>    0.5349820860539668<br>  ],<br>  \\\"params\\\": {<br>    \\\"take_profit\\\": 0.3552102244383641,<br>    \\\"stop_loss\\\": 0.3607896762224062<br>  }<br>}\",\"{<br>  \\\"number\\\": 599,<br>  \\\"values\\\": [<br>    -0.1900000000000019,<br>    0.4485371146403341<br>  ],<br>  \\\"params\\\": {<br>    \\\"take_profit\\\": 0.3588957779703448,<br>    \\\"stop_loss\\\": 0.10579119228440254<br>  }<br>}\",\"{<br>  \\\"number\\\": 600,<br>  \\\"values\\\": [<br>    6.61999999999998,<br>    0.7369432599993881<br>  ],<br>  \\\"params\\\": {<br>    \\\"take_profit\\\": 0.5605656824870775,<br>    \\\"stop_loss\\\": 0.5369060645414534<br>  }<br>}\",\"{<br>  \\\"number\\\": 601,<br>  \\\"values\\\": [<br>    6.300000000000015,<br>    0.545323084432884<br>  ],<br>  \\\"params\\\": {<br>    \\\"take_profit\\\": 0.2301881373999613,<br>    \\\"stop_loss\\\": 0.5349177715800677<br>  }<br>}\",\"{<br>  \\\"number\\\": 602,<br>  \\\"values\\\": [<br>    6.420000000000002,<br>    0.5172961498664638<br>  ],<br>  \\\"params\\\": {<br>    \\\"take_profit\\\": 0.26420820939153805,<br>    \\\"stop_loss\\\": 0.4250026356435156<br>  }<br>}\",\"{<br>  \\\"number\\\": 603,<br>  \\\"values\\\": [<br>    6.80999999999996,<br>    0.6153714542182356<br>  ],<br>  \\\"params\\\": {<br>    \\\"take_profit\\\": 0.44708930938463115,<br>    \\\"stop_loss\\\": 0.3613513546947347<br>  }<br>}\",\"{<br>  \\\"number\\\": 604,<br>  \\\"values\\\": [<br>    -0.15000000000006053,<br>    0.40048415583356617<br>  ],<br>  \\\"params\\\": {<br>    \\\"take_profit\\\": 0.13138358969635155,<br>    \\\"stop_loss\\\": 0.18923577006845432<br>  }<br>}\",\"{<br>  \\\"number\\\": 605,<br>  \\\"values\\\": [<br>    6.609999999999978,<br>    0.546360035871172<br>  ],<br>  \\\"params\\\": {<br>    \\\"take_profit\\\": 0.28400575592318683,<br>    \\\"stop_loss\\\": 0.4448691966533077<br>  }<br>}\",\"{<br>  \\\"number\\\": 606,<br>  \\\"values\\\": [<br>    8.63999999999998,<br>    0.6469523879623985<br>  ],<br>  \\\"params\\\": {<br>    \\\"take_profit\\\": 0.4193862236915465,<br>    \\\"stop_loss\\\": 0.5404170168614147<br>  }<br>}\",\"{<br>  \\\"number\\\": 607,<br>  \\\"values\\\": [<br>    -2.090000000000032,<br>    0.37753585589005756<br>  ],<br>  \\\"params\\\": {<br>    \\\"take_profit\\\": 0.13138358969635155,<br>    \\\"stop_loss\\\": 0.11184673008752061<br>  }<br>}\",\"{<br>  \\\"number\\\": 608,<br>  \\\"values\\\": [<br>    -1.290000000000017,<br>    0.42786188527596225<br>  ],<br>  \\\"params\\\": {<br>    \\\"take_profit\\\": 0.2061165647873751,<br>    \\\"stop_loss\\\": 0.1526477930019265<br>  }<br>}\",\"{<br>  \\\"number\\\": 609,<br>  \\\"values\\\": [<br>    8.529999999999998,<br>    0.5715449974411286<br>  ],<br>  \\\"params\\\": {<br>    \\\"take_profit\\\": 0.3249019300302035,<br>    \\\"stop_loss\\\": 0.5369060645414534<br>  }<br>}\",\"{<br>  \\\"number\\\": 610,<br>  \\\"values\\\": [<br>    2.2700000000000076,<br>    0.5183312059370282<br>  ],<br>  \\\"params\\\": {<br>    \\\"take_profit\\\": 0.5289436492744354,<br>    \\\"stop_loss\\\": 0.12404733999224737<br>  }<br>}\",\"{<br>  \\\"number\\\": 611,<br>  \\\"values\\\": [<br>    6.059999999999974,<br>    0.7144707289085246<br>  ],<br>  \\\"params\\\": {<br>    \\\"take_profit\\\": 0.5282078735864453,<br>    \\\"stop_loss\\\": 0.5349177715800677<br>  }<br>}\",\"{<br>  \\\"number\\\": 612,<br>  \\\"values\\\": [<br>    8.649999999999977,<br>    0.5532192653510501<br>  ],<br>  \\\"params\\\": {<br>    \\\"take_profit\\\": 0.37085426773928404,<br>    \\\"stop_loss\\\": 0.4234704987991215<br>  }<br>}\",\"{<br>  \\\"number\\\": 613,<br>  \\\"values\\\": [<br>    -0.3399999999999935,<br>    0.45302336897725903<br>  ],<br>  \\\"params\\\": {<br>    \\\"take_profit\\\": 0.37085426773928404,<br>    \\\"stop_loss\\\": 0.11783903484917556<br>  }<br>}\",\"{<br>  \\\"number\\\": 614,<br>  \\\"values\\\": [<br>    4.200000000000006,<br>    0.49942632378816615<br>  ],<br>  \\\"params\\\": {<br>    \\\"take_profit\\\": 0.5473435689326609,<br>    \\\"stop_loss\\\": 0.060234597780879945<br>  }<br>}\",\"{<br>  \\\"number\\\": 615,<br>  \\\"values\\\": [<br>    2.7299999999999605,<br>    0.511220574030735<br>  ],<br>  \\\"params\\\": {<br>    \\\"take_profit\\\": 0.40181313837253535,<br>    \\\"stop_loss\\\": 0.20322082527862612<br>  }<br>}\",\"{<br>  \\\"number\\\": 616,<br>  \\\"values\\\": [<br>    9.049999999999972,<br>    0.6300518176612889<br>  ],<br>  \\\"params\\\": {<br>    \\\"take_profit\\\": 0.41889084018018036,<br>    \\\"stop_loss\\\": 0.47334559393754083<br>  }<br>}\",\"{<br>  \\\"number\\\": 617,<br>  \\\"values\\\": [<br>    2.1899999999999826,<br>    0.49286136891711296<br>  ],<br>  \\\"params\\\": {<br>    \\\"take_profit\\\": 0.09516734088006035,<br>    \\\"stop_loss\\\": 0.5372208293404493<br>  }<br>}\",\"{<br>  \\\"number\\\": 618,<br>  \\\"values\\\": [<br>    1.3699999999999672,<br>    0.4909145492559799<br>  ],<br>  \\\"params\\\": {<br>    \\\"take_profit\\\": 0.3666194620239973,<br>    \\\"stop_loss\\\": 0.21829105527911152<br>  }<br>}\",\"{<br>  \\\"number\\\": 619,<br>  \\\"values\\\": [<br>    -0.9800000000000271,<br>    0.45477318609791756<br>  ],<br>  \\\"params\\\": {<br>    \\\"take_profit\\\": 0.2761527601271156,<br>    \\\"stop_loss\\\": 0.20926650050709505<br>  }<br>}\",\"{<br>  \\\"number\\\": 620,<br>  \\\"values\\\": [<br>    3.35,<br>    0.4910447900422773<br>  ],<br>  \\\"params\\\": {<br>    \\\"take_profit\\\": 0.12394562111265842,<br>    \\\"stop_loss\\\": 0.4182980432738491<br>  }<br>}\",\"{<br>  \\\"number\\\": 622,<br>  \\\"values\\\": [<br>    2.289999999999973,<br>    0.4831363158220817<br>  ],<br>  \\\"params\\\": {<br>    \\\"take_profit\\\": 0.06066665129892106,<br>    \\\"stop_loss\\\": 0.5349177715800677<br>  }<br>}\",\"{<br>  \\\"number\\\": 623,<br>  \\\"values\\\": [<br>    6.249999999999986,<br>    0.6891968614946775<br>  ],<br>  \\\"params\\\": {<br>    \\\"take_profit\\\": 0.44706152855776377,<br>    \\\"stop_loss\\\": 0.5649507194195433<br>  }<br>}\",\"{<br>  \\\"number\\\": 624,<br>  \\\"values\\\": [<br>    3.81999999999997,<br>    0.500838356115939<br>  ],<br>  \\\"params\\\": {<br>    \\\"take_profit\\\": 0.37027401443441904,<br>    \\\"stop_loss\\\": 0.239815747464096<br>  }<br>}\",\"{<br>  \\\"number\\\": 625,<br>  \\\"values\\\": [<br>    4.039999999999996,<br>    0.49890867030111935<br>  ],<br>  \\\"params\\\": {<br>    \\\"take_profit\\\": 0.2529238916703658,<br>    \\\"stop_loss\\\": 0.32886387073468765<br>  }<br>}\",\"{<br>  \\\"number\\\": 626,<br>  \\\"values\\\": [<br>    5.400000000000013,<br>    0.5190212905236803<br>  ],<br>  \\\"params\\\": {<br>    \\\"take_profit\\\": 0.2528018514104881,<br>    \\\"stop_loss\\\": 0.41254554790994874<br>  }<br>}\",\"{<br>  \\\"number\\\": 628,<br>  \\\"values\\\": [<br>    2.229999999999995,<br>    0.5255212696697283<br>  ],<br>  \\\"params\\\": {<br>    \\\"take_profit\\\": 0.5254974352013294,<br>    \\\"stop_loss\\\": 0.1311395259229865<br>  }<br>}\",\"{<br>  \\\"number\\\": 629,<br>  \\\"values\\\": [<br>    8.879999999999999,<br>    0.5767027825093065<br>  ],<br>  \\\"params\\\": {<br>    \\\"take_profit\\\": 0.335589419299287,<br>    \\\"stop_loss\\\": 0.567752123063268<br>  }<br>}\",\"{<br>  \\\"number\\\": 630,<br>  \\\"values\\\": [<br>    2.159999999999986,<br>    0.4945255863507522<br>  ],<br>  \\\"params\\\": {<br>    \\\"take_profit\\\": 0.06461836060188123,<br>    \\\"stop_loss\\\": 0.5696628430735706<br>  }<br>}\",\"{<br>  \\\"number\\\": 631,<br>  \\\"values\\\": [<br>    6.590000000000007,<br>    0.5435542475190795<br>  ],<br>  \\\"params\\\": {<br>    \\\"take_profit\\\": 0.2603266253130681,<br>    \\\"stop_loss\\\": 0.4969626214630824<br>  }<br>}\",\"{<br>  \\\"number\\\": 632,<br>  \\\"values\\\": [<br>    7.409999999999993,<br>    0.5439246862132775<br>  ],<br>  \\\"params\\\": {<br>    \\\"take_profit\\\": 0.2618110033142434,<br>    \\\"stop_loss\\\": 0.5349177715800677<br>  }<br>}\",\"{<br>  \\\"number\\\": 633,<br>  \\\"values\\\": [<br>    -0.21000000000004013,<br>    0.35647248503330775<br>  ],<br>  \\\"params\\\": {<br>    \\\"take_profit\\\": 0.15532629544967783,<br>    \\\"stop_loss\\\": 0.05873951823447722<br>  }<br>}\",\"{<br>  \\\"number\\\": 635,<br>  \\\"values\\\": [<br>    6.569999999999958,<br>    0.6865897189565762<br>  ],<br>  \\\"params\\\": {<br>    \\\"take_profit\\\": 0.4635763375746858,<br>    \\\"stop_loss\\\": 0.5349177715800677<br>  }<br>}\",\"{<br>  \\\"number\\\": 636,<br>  \\\"values\\\": [<br>    6.100000000000026,<br>    0.5461454623980657<br>  ],<br>  \\\"params\\\": {<br>    \\\"take_profit\\\": 0.22614975285705563,<br>    \\\"stop_loss\\\": 0.5503040743730622<br>  }<br>}\",\"{<br>  \\\"number\\\": 637,<br>  \\\"values\\\": [<br>    9.069999999999979,<br>    0.5937478102883597<br>  ],<br>  \\\"params\\\": {<br>    \\\"take_profit\\\": 0.42545111034469985,<br>    \\\"stop_loss\\\": 0.38096367706144424<br>  }<br>}\",\"{<br>  \\\"number\\\": 639,<br>  \\\"values\\\": [<br>    5.369999999999983,<br>    0.651527078819646<br>  ],<br>  \\\"params\\\": {<br>    \\\"take_profit\\\": 0.5468498926050982,<br>    \\\"stop_loss\\\": 0.37503207108048997<br>  }<br>}\",\"{<br>  \\\"number\\\": 640,<br>  \\\"values\\\": [<br>    3.3899999999999406,<br>    0.5517868601046395<br>  ],<br>  \\\"params\\\": {<br>    \\\"take_profit\\\": 0.4724927876706159,<br>    \\\"stop_loss\\\": 0.18186888607388774<br>  }<br>}\",\"{<br>  \\\"number\\\": 641,<br>  \\\"values\\\": [<br>    8.929999999999968,<br>    0.5870223064227758<br>  ],<br>  \\\"params\\\": {<br>    \\\"take_profit\\\": 0.37027401443441904,<br>    \\\"stop_loss\\\": 0.5372208293404493<br>  }<br>}\",\"{<br>  \\\"number\\\": 642,<br>  \\\"values\\\": [<br>    7.719999999999992,<br>    0.5479382229516031<br>  ],<br>  \\\"params\\\": {<br>    \\\"take_profit\\\": 0.4193862236915465,<br>    \\\"stop_loss\\\": 0.273412173204446<br>  }<br>}\",\"{<br>  \\\"number\\\": 643,<br>  \\\"values\\\": [<br>    8.099999999999977,<br>    0.5861954271102473<br>  ],<br>  \\\"params\\\": {<br>    \\\"take_profit\\\": 0.37085426773928404,<br>    \\\"stop_loss\\\": 0.5014202706545443<br>  }<br>}\",\"{<br>  \\\"number\\\": 644,<br>  \\\"values\\\": [<br>    5.82999999999997,<br>    0.7119599468154018<br>  ],<br>  \\\"params\\\": {<br>    \\\"take_profit\\\": 0.5178495515259102,<br>    \\\"stop_loss\\\": 0.5369060645414534<br>  }<br>}\",\"{<br>  \\\"number\\\": 645,<br>  \\\"values\\\": [<br>    5.659999999999986,<br>    0.5966288910211844<br>  ],<br>  \\\"params\\\": {<br>    \\\"take_profit\\\": 0.5330524788743768,<br>    \\\"stop_loss\\\": 0.25433863590304795<br>  }<br>}\",\"{<br>  \\\"number\\\": 646,<br>  \\\"values\\\": [<br>    2.109999999999958,<br>    0.47661949742821<br>  ],<br>  \\\"params\\\": {<br>    \\\"take_profit\\\": 0.0595366319200447,<br>    \\\"stop_loss\\\": 0.5372208293404493<br>  }<br>}\",\"{<br>  \\\"number\\\": 649,<br>  \\\"values\\\": [<br>    7.699999999999992,<br>    0.551519406748875<br>  ],<br>  \\\"params\\\": {<br>    \\\"take_profit\\\": 0.31535144648245117,<br>    \\\"stop_loss\\\": 0.5044561969556406<br>  }<br>}\",\"{<br>  \\\"number\\\": 650,<br>  \\\"values\\\": [<br>    4.879999999999971,<br>    0.6260492142793411<br>  ],<br>  \\\"params\\\": {<br>    \\\"take_profit\\\": 0.4812658523202356,<br>    \\\"stop_loss\\\": 0.32326601276010675<br>  }<br>}\",\"{<br>  \\\"number\\\": 651,<br>  \\\"values\\\": [<br>    3.100000000000026,<br>    0.5198831543068042<br>  ],<br>  \\\"params\\\": {<br>    \\\"take_profit\\\": 0.21881685090611186,<br>    \\\"stop_loss\\\": 0.40422914558338524<br>  }<br>}\",\"{<br>  \\\"number\\\": 652,<br>  \\\"values\\\": [<br>    8.409999999999982,<br>    0.5866521816393612<br>  ],<br>  \\\"params\\\": {<br>    \\\"take_profit\\\": 0.4193862236915465,<br>    \\\"stop_loss\\\": 0.3820495307051589<br>  }<br>}\",\"{<br>  \\\"number\\\": 654,<br>  \\\"values\\\": [<br>    7.9499999999999815,<br>    0.5501061091467967<br>  ],<br>  \\\"params\\\": {<br>    \\\"take_profit\\\": 0.37085426773928404,<br>    \\\"stop_loss\\\": 0.41254554790994874<br>  }<br>}\",\"{<br>  \\\"number\\\": 655,<br>  \\\"values\\\": [<br>    1.9799999999999667,<br>    0.47702860765053373<br>  ],<br>  \\\"params\\\": {<br>    \\\"take_profit\\\": 0.09168158500185986,<br>    \\\"stop_loss\\\": 0.43824973456478217<br>  }<br>}\",\"{<br>  \\\"number\\\": 656,<br>  \\\"values\\\": [<br>    4.729999999999993,<br>    0.49892095118482316<br>  ],<br>  \\\"params\\\": {<br>    \\\"take_profit\\\": 0.335589419299287,<br>    \\\"stop_loss\\\": 0.25760257173708784<br>  }<br>}\",\"{<br>  \\\"number\\\": 657,<br>  \\\"values\\\": [<br>    3.279999999999964,<br>    0.5151458855962182<br>  ],<br>  \\\"params\\\": {<br>    \\\"take_profit\\\": 0.41539992463926473,<br>    \\\"stop_loss\\\": 0.16038030816680365<br>  }<br>}\",\"{<br>  \\\"number\\\": 658,<br>  \\\"values\\\": [<br>    5.709999999999987,<br>    0.6619152477658878<br>  ],<br>  \\\"params\\\": {<br>    \\\"take_profit\\\": 0.548815304990232,<br>    \\\"stop_loss\\\": 0.40111128799356016<br>  }<br>}\",\"{<br>  \\\"number\\\": 659,<br>  \\\"values\\\": [<br>    9.019999999999978,<br>    0.5906202937259662<br>  ],<br>  \\\"params\\\": {<br>    \\\"take_profit\\\": 0.37298374367090403,<br>    \\\"stop_loss\\\": 0.5606858681417133<br>  }<br>}\",\"{<br>  \\\"number\\\": 660,<br>  \\\"values\\\": [<br>    -0.010000000000021991,<br>    0.4669881084737834<br>  ],<br>  \\\"params\\\": {<br>    \\\"take_profit\\\": 0.335589419299287,<br>    \\\"stop_loss\\\": 0.16187336886816053<br>  }<br>}\",\"{<br>  \\\"number\\\": 661,<br>  \\\"values\\\": [<br>    7.179999999999989,<br>    0.7437104727008492<br>  ],<br>  \\\"params\\\": {<br>    \\\"take_profit\\\": 0.5922063757152386,<br>    \\\"stop_loss\\\": 0.5372208293404493<br>  }<br>}\",\"{<br>  \\\"number\\\": 662,<br>  \\\"values\\\": [<br>    6.420000000000002,<br>    0.5172961498664638<br>  ],<br>  \\\"params\\\": {<br>    \\\"take_profit\\\": 0.2684094356221424,<br>    \\\"stop_loss\\\": 0.4250026356435156<br>  }<br>}\",\"{<br>  \\\"number\\\": 663,<br>  \\\"values\\\": [<br>    2.289999999999973,<br>    0.4831363158220817<br>  ],<br>  \\\"params\\\": {<br>    \\\"take_profit\\\": 0.06752834016586017,<br>    \\\"stop_loss\\\": 0.5349177715800677<br>  }<br>}\",\"{<br>  \\\"number\\\": 664,<br>  \\\"values\\\": [<br>    6.179999999999982,<br>    0.642397346139689<br>  ],<br>  \\\"params\\\": {<br>    \\\"take_profit\\\": 0.5151184154602049,<br>    \\\"stop_loss\\\": 0.352611817595274<br>  }<br>}\",\"{<br>  \\\"number\\\": 665,<br>  \\\"values\\\": [<br>    3.3599999999999803,<br>    0.4679432145923594<br>  ],<br>  \\\"params\\\": {<br>    \\\"take_profit\\\": 0.19764107466648778,<br>    \\\"stop_loss\\\": 0.3026282171902923<br>  }<br>}\",\"{<br>  \\\"number\\\": 666,<br>  \\\"values\\\": [<br>    6.16999999999998,<br>    0.6387402865698784<br>  ],<br>  \\\"params\\\": {<br>    \\\"take_profit\\\": 0.46143603757141616,<br>    \\\"stop_loss\\\": 0.40653427106414836<br>  }<br>}\",\"{<br>  \\\"number\\\": 668,<br>  \\\"values\\\": [<br>    6.1699999999999875,<br>    0.5297290349836667<br>  ],<br>  \\\"params\\\": {<br>    \\\"take_profit\\\": 0.335589419299287,<br>    \\\"stop_loss\\\": 0.35364792379093546<br>  }<br>}\",\"{<br>  \\\"number\\\": 669,<br>  \\\"values\\\": [<br>    3.4599999999999542,<br>    0.5443628336695009<br>  ],<br>  \\\"params\\\": {<br>    \\\"take_profit\\\": 0.43982448524208234,<br>    \\\"stop_loss\\\": 0.19466866678061262<br>  }<br>}\",\"{<br>  \\\"number\\\": 670,<br>  \\\"values\\\": [<br>    6.089999999999993,<br>    0.6563871709825759<br>  ],<br>  \\\"params\\\": {<br>    \\\"take_profit\\\": 0.5168285136805119,<br>    \\\"stop_loss\\\": 0.41218749413818806<br>  }<br>}\",\"{<br>  \\\"number\\\": 671,<br>  \\\"values\\\": [<br>    7.749999999999979,<br>    0.5479491780677915<br>  ],<br>  \\\"params\\\": {<br>    \\\"take_profit\\\": 0.31216017464024554,<br>    \\\"stop_loss\\\": 0.4688255570682349<br>  }<br>}\",\"{<br>  \\\"number\\\": 672,<br>  \\\"values\\\": [<br>    3.14000000000001,<br>    0.46554294818962383<br>  ],<br>  \\\"params\\\": {<br>    \\\"take_profit\\\": 0.22615933668981342,<br>    \\\"stop_loss\\\": 0.25760257173708784<br>  }<br>}\",\"{<br>  \\\"number\\\": 673,<br>  \\\"values\\\": [<br>    5.729999999999983,<br>    0.5251109802463739<br>  ],<br>  \\\"params\\\": {<br>    \\\"take_profit\\\": 0.384530487187213,<br>    \\\"stop_loss\\\": 0.3026282171902923<br>  }<br>}\",\"{<br>  \\\"number\\\": 674,<br>  \\\"values\\\": [<br>    6.1699999999999875,<br>    0.5297290349836667<br>  ],<br>  \\\"params\\\": {<br>    \\\"take_profit\\\": 0.33977508478999885,<br>    \\\"stop_loss\\\": 0.35845275373369867<br>  }<br>}\",\"{<br>  \\\"number\\\": 675,<br>  \\\"values\\\": [<br>    2.109999999999958,<br>    0.47661949742821<br>  ],<br>  \\\"params\\\": {<br>    \\\"take_profit\\\": 0.0595366319200447,<br>    \\\"stop_loss\\\": 0.5369060645414534<br>  }<br>}\",\"{<br>  \\\"number\\\": 676,<br>  \\\"values\\\": [<br>    7.909999999999965,<br>    0.6161632381882863<br>  ],<br>  \\\"params\\\": {<br>    \\\"take_profit\\\": 0.3623665244812856,<br>    \\\"stop_loss\\\": 0.5884366683232801<br>  }<br>}\",\"{<br>  \\\"number\\\": 677,<br>  \\\"values\\\": [<br>    6.61999999999998,<br>    0.7369432599993881<br>  ],<br>  \\\"params\\\": {<br>    \\\"take_profit\\\": 0.5779201286382207,<br>    \\\"stop_loss\\\": 0.5349177715800677<br>  }<br>}\",\"{<br>  \\\"number\\\": 678,<br>  \\\"values\\\": [<br>    7.169999999999973,<br>    0.5674768482795869<br>  ],<br>  \\\"params\\\": {<br>    \\\"take_profit\\\": 0.3920267293359263,<br>    \\\"stop_loss\\\": 0.3716006121212815<br>  }<br>}\",\"{<br>  \\\"number\\\": 679,<br>  \\\"values\\\": [<br>    1.3499999999999592,<br>    0.4636084322338914<br>  ],<br>  \\\"params\\\": {<br>    \\\"take_profit\\\": 0.0595366319200447,<br>    \\\"stop_loss\\\": 0.4178694934936736<br>  }<br>}\",\"{<br>  \\\"number\\\": 680,<br>  \\\"values\\\": [<br>    8.659999999999975,<br>    0.5539800639766034<br>  ],<br>  \\\"params\\\": {<br>    \\\"take_profit\\\": 0.4193862236915465,<br>    \\\"stop_loss\\\": 0.29129255144850197<br>  }<br>}\",\"{<br>  \\\"number\\\": 681,<br>  \\\"values\\\": [<br>    6.689999999999976,<br>    0.5277920244681025<br>  ],<br>  \\\"params\\\": {<br>    \\\"take_profit\\\": 0.26420820939153805,<br>    \\\"stop_loss\\\": 0.43824973456478217<br>  }<br>}\",\"{<br>  \\\"number\\\": 682,<br>  \\\"values\\\": [<br>    7.9499999999999815,<br>    0.5501061091467967<br>  ],<br>  \\\"params\\\": {<br>    \\\"take_profit\\\": 0.37027401443441904,<br>    \\\"stop_loss\\\": 0.4131145669700361<br>  }<br>}\",\"{<br>  \\\"number\\\": 683,<br>  \\\"values\\\": [<br>    6.869999999999985,<br>    0.6778316909445138<br>  ],<br>  \\\"params\\\": {<br>    \\\"take_profit\\\": 0.5548275191675023,<br>    \\\"stop_loss\\\": 0.4217414538539946<br>  }<br>}\",\"{<br>  \\\"number\\\": 685,<br>  \\\"values\\\": [<br>    2.1899999999999826,<br>    0.49286136891711296<br>  ],<br>  \\\"params\\\": {<br>    \\\"take_profit\\\": 0.09348257086936215,<br>    \\\"stop_loss\\\": 0.5349177715800677<br>  }<br>}\",\"{<br>  \\\"number\\\": 686,<br>  \\\"values\\\": [<br>    5.5299999999999905,<br>    0.5059443928930262<br>  ],<br>  \\\"params\\\": {<br>    \\\"take_profit\\\": 0.37085426773928404,<br>    \\\"stop_loss\\\": 0.25574574904614966<br>  }<br>}\",\"{<br>  \\\"number\\\": 688,<br>  \\\"values\\\": [<br>    4.929999999999982,<br>    0.5039846106088245<br>  ],<br>  \\\"params\\\": {<br>    \\\"take_profit\\\": 0.33770787188418844,<br>    \\\"stop_loss\\\": 0.28399481939646354<br>  }<br>}\",\"{<br>  \\\"number\\\": 689,<br>  \\\"values\\\": [<br>    4.870000000000012,<br>    0.5044159834650368<br>  ],<br>  \\\"params\\\": {<br>    \\\"take_profit\\\": 0.13138358969635155,<br>    \\\"stop_loss\\\": 0.5349177715800677<br>  }<br>}\",\"{<br>  \\\"number\\\": 690,<br>  \\\"values\\\": [<br>    3.5799999999999836,<br>    0.47025209000387325<br>  ],<br>  \\\"params\\\": {<br>    \\\"take_profit\\\": 0.41889084018018036,<br>    \\\"stop_loss\\\": 0.071808420063793<br>  }<br>}\",\"{<br>  \\\"number\\\": 691,<br>  \\\"values\\\": [<br>    6.059999999999974,<br>    0.7144707289085246<br>  ],<br>  \\\"params\\\": {<br>    \\\"take_profit\\\": 0.5252796793662285,<br>    \\\"stop_loss\\\": 0.5369060645414534<br>  }<br>}\",\"{<br>  \\\"number\\\": 692,<br>  \\\"values\\\": [<br>    6.869999999999985,<br>    0.6778316909445138<br>  ],<br>  \\\"params\\\": {<br>    \\\"take_profit\\\": 0.576445629997837,<br>    \\\"stop_loss\\\": 0.4234704987991215<br>  }<br>}\",\"{<br>  \\\"number\\\": 693,<br>  \\\"values\\\": [<br>    -2.450000000000009,<br>    0.41293505255413426<br>  ],<br>  \\\"params\\\": {<br>    \\\"take_profit\\\": 0.2618110033142434,<br>    \\\"stop_loss\\\": 0.1145792113186995<br>  }<br>}\",\"{<br>  \\\"number\\\": 694,<br>  \\\"values\\\": [<br>    3.0799999999999934,<br>    0.4883770272773339<br>  ],<br>  \\\"params\\\": {<br>    \\\"take_profit\\\": 0.18848253411693067,<br>    \\\"stop_loss\\\": 0.35853413327895484<br>  }<br>}\",\"{<br>  \\\"number\\\": 695,<br>  \\\"values\\\": [<br>    0.09999999999999815,<br>    0.4519136880035372<br>  ],<br>  \\\"params\\\": {<br>    \\\"take_profit\\\": 0.3825303865133478,<br>    \\\"stop_loss\\\": 0.10779214092651679<br>  }<br>}\",\"{<br>  \\\"number\\\": 696,<br>  \\\"values\\\": [<br>    3.019999999999973,<br>    0.4935612063352356<br>  ],<br>  \\\"params\\\": {<br>    \\\"take_profit\\\": 0.335589419299287,<br>    \\\"stop_loss\\\": 0.22464183326595055<br>  }<br>}\",\"{<br>  \\\"number\\\": 697,<br>  \\\"values\\\": [<br>    4.48,<br>    0.47421702052108416<br>  ],<br>  \\\"params\\\": {<br>    \\\"take_profit\\\": 0.23210045268955654,<br>    \\\"stop_loss\\\": 0.29859349885281383<br>  }<br>}\",\"{<br>  \\\"number\\\": 698,<br>  \\\"values\\\": [<br>    3.8399999999999923,<br>    0.48059319769793374<br>  ],<br>  \\\"params\\\": {<br>    \\\"take_profit\\\": 0.3039315069644288,<br>    \\\"stop_loss\\\": 0.25574574904614966<br>  }<br>}\",\"{<br>  \\\"number\\\": 700,<br>  \\\"values\\\": [<br>    7.9499999999999815,<br>    0.5501061091467967<br>  ],<br>  \\\"params\\\": {<br>    \\\"take_profit\\\": 0.36625415566420566,<br>    \\\"stop_loss\\\": 0.41846363149133425<br>  }<br>}\",\"{<br>  \\\"number\\\": 701,<br>  \\\"values\\\": [<br>    6.599999999999984,<br>    0.6093261600713471<br>  ],<br>  \\\"params\\\": {<br>    \\\"take_profit\\\": 0.5848758100112328,<br>    \\\"stop_loss\\\": 0.25760257173708784<br>  }<br>}\",\"{<br>  \\\"number\\\": 702,<br>  \\\"values\\\": [<br>    5.729999999999983,<br>    0.6461967030737316<br>  ],<br>  \\\"params\\\": {<br>    \\\"take_profit\\\": 0.5449036864848212,<br>    \\\"stop_loss\\\": 0.35009332324172104<br>  }<br>}\",\"{<br>  \\\"number\\\": 703,<br>  \\\"values\\\": [<br>    4.910000000000011,<br>    0.5381952392538933<br>  ],<br>  \\\"params\\\": {<br>    \\\"take_profit\\\": 0.15635221511028574,<br>    \\\"stop_loss\\\": 0.5998043145006321<br>  }<br>}\",\"{<br>  \\\"number\\\": 704,<br>  \\\"values\\\": [<br>    -1.1100000000000483,<br>    0.3905804811661667<br>  ],<br>  \\\"params\\\": {<br>    \\\"take_profit\\\": 0.10493503097358492,<br>    \\\"stop_loss\\\": 0.16306382239882597<br>  }<br>}\",\"{<br>  \\\"number\\\": 706,<br>  \\\"values\\\": [<br>    -0.8500000000000187,<br>    0.3920324199381328<br>  ],<br>  \\\"params\\\": {<br>    \\\"take_profit\\\": 0.2528018514104881,<br>    \\\"stop_loss\\\": 0.07013663525106414<br>  }<br>}\",\"{<br>  \\\"number\\\": 707,<br>  \\\"values\\\": [<br>    6.61999999999998,<br>    0.7369432599993881<br>  ],<br>  \\\"params\\\": {<br>    \\\"take_profit\\\": 0.5794852158235616,<br>    \\\"stop_loss\\\": 0.5372208293404493<br>  }<br>}\",\"{<br>  \\\"number\\\": 708,<br>  \\\"values\\\": [<br>    8.849999999999973,<br>    0.5670901423492309<br>  ],<br>  \\\"params\\\": {<br>    \\\"take_profit\\\": 0.42806112792762335,<br>    \\\"stop_loss\\\": 0.30147422638586535<br>  }<br>}\",\"{<br>  \\\"number\\\": 709,<br>  \\\"values\\\": [<br>    -2.0900000000000096,<br>    0.41075217525827196<br>  ],<br>  \\\"params\\\": {<br>    \\\"take_profit\\\": 0.23384970144508022,<br>    \\\"stop_loss\\\": 0.11004282179068361<br>  }<br>}\",\"{<br>  \\\"number\\\": 710,<br>  \\\"values\\\": [<br>    4.069999999999997,<br>    0.49907315406436975<br>  ],<br>  \\\"params\\\": {<br>    \\\"take_profit\\\": 0.2761527601271156,<br>    \\\"stop_loss\\\": 0.3207411041128822<br>  }<br>}\",\"{<br>  \\\"number\\\": 711,<br>  \\\"values\\\": [<br>    -0.3000000000000338,<br>    0.3963960028658621<br>  ],<br>  \\\"params\\\": {<br>    \\\"take_profit\\\": 0.15532629544967783,<br>    \\\"stop_loss\\\": 0.15159348565639524<br>  }<br>}\",\"{<br>  \\\"number\\\": 712,<br>  \\\"values\\\": [<br>    6.419999999999977,<br>    0.6530220896975911<br>  ],<br>  \\\"params\\\": {<br>    \\\"take_profit\\\": 0.48431851954058797,<br>    \\\"stop_loss\\\": 0.4234704987991215<br>  }<br>}\",\"{<br>  \\\"number\\\": 713,<br>  \\\"values\\\": [<br>    8.059999999999967,<br>    0.5572079082627848<br>  ],<br>  \\\"params\\\": {<br>    \\\"take_profit\\\": 0.33774427737501417,<br>    \\\"stop_loss\\\": 0.4340026135392788<br>  }<br>}\",\"{<br>  \\\"number\\\": 715,<br>  \\\"values\\\": [<br>    6.420000000000002,<br>    0.5172961498664638<br>  ],<br>  \\\"params\\\": {<br>    \\\"take_profit\\\": 0.2684094356221424,<br>    \\\"stop_loss\\\": 0.4234704987991215<br>  }<br>}\",\"{<br>  \\\"number\\\": 716,<br>  \\\"values\\\": [<br>    -0.16000000000008407,<br>    0.3909421310087522<br>  ],<br>  \\\"params\\\": {<br>    \\\"take_profit\\\": 0.0595366319200447,<br>    \\\"stop_loss\\\": 0.20359778386210214<br>  }<br>}\",\"{<br>  \\\"number\\\": 718,<br>  \\\"values\\\": [<br>    5.93000000000001,<br>    0.5435618020540555<br>  ],<br>  \\\"params\\\": {<br>    \\\"take_profit\\\": 0.20137594161807676,<br>    \\\"stop_loss\\\": 0.5426216162920726<br>  }<br>}\",\"{<br>  \\\"number\\\": 720,<br>  \\\"values\\\": [<br>    1.839999999999966,<br>    0.4679908327105711<br>  ],<br>  \\\"params\\\": {<br>    \\\"take_profit\\\": 0.2684094356221424,<br>    \\\"stop_loss\\\": 0.22234287162233085<br>  }<br>}\",\"{<br>  \\\"number\\\": 721,<br>  \\\"values\\\": [<br>    6.6999999999999815,<br>    0.5278395939037501<br>  ],<br>  \\\"params\\\": {<br>    \\\"take_profit\\\": 0.2707966097582291,<br>    \\\"stop_loss\\\": 0.4380442806979731<br>  }<br>}\",\"{<br>  \\\"number\\\": 722,<br>  \\\"values\\\": [<br>    7.709999999999976,<br>    0.6201956934910562<br>  ],<br>  \\\"params\\\": {<br>    \\\"take_profit\\\": 0.37298374367090403,<br>    \\\"stop_loss\\\": 0.599487426826717<br>  }<br>}\",\"{<br>  \\\"number\\\": 723,<br>  \\\"values\\\": [<br>    8.299999999999983,<br>    0.5507142836555289<br>  ],<br>  \\\"params\\\": {<br>    \\\"take_profit\\\": 0.3430681130223757,<br>    \\\"stop_loss\\\": 0.4234704987991215<br>  }<br>}\",\"{<br>  \\\"number\\\": 724,<br>  \\\"values\\\": [<br>    4.490000000000023,<br>    0.5210445796029979<br>  ],<br>  \\\"params\\\": {<br>    \\\"take_profit\\\": 0.24342935884705225,<br>    \\\"stop_loss\\\": 0.41254554790994874<br>  }<br>}\",\"{<br>  \\\"number\\\": 725,<br>  \\\"values\\\": [<br>    8.929999999999968,<br>    0.5870223064227758<br>  ],<br>  \\\"params\\\": {<br>    \\\"take_profit\\\": 0.37027401443441904,<br>    \\\"stop_loss\\\": 0.5349177715800677<br>  }<br>}\",\"{<br>  \\\"number\\\": 726,<br>  \\\"values\\\": [<br>    7.419999999999998,<br>    0.5439693240421241<br>  ],<br>  \\\"params\\\": {<br>    \\\"take_profit\\\": 0.2707966097582291,<br>    \\\"stop_loss\\\": 0.5369060645414534<br>  }<br>}\",\"{<br>  \\\"number\\\": 727,<br>  \\\"values\\\": [<br>    3.7199999999999944,<br>    0.46690755687466295<br>  ],<br>  \\\"params\\\": {<br>    \\\"take_profit\\\": 0.4193862236915465,<br>    \\\"stop_loss\\\": 0.05003463474490219<br>  }<br>}\",\"{<br>  \\\"number\\\": 728,<br>  \\\"values\\\": [<br>    7.419999999999998,<br>    0.5439693240421241<br>  ],<br>  \\\"params\\\": {<br>    \\\"take_profit\\\": 0.2761527601271156,<br>    \\\"stop_loss\\\": 0.5372208293404493<br>  }<br>}\",\"{<br>  \\\"number\\\": 729,<br>  \\\"values\\\": [<br>    8.889999999999976,<br>    0.6325984840784596<br>  ],<br>  \\\"params\\\": {<br>    \\\"take_profit\\\": 0.4193862236915465,<br>    \\\"stop_loss\\\": 0.5183376437351984<br>  }<br>}\",\"{<br>  \\\"number\\\": 730,<br>  \\\"values\\\": [<br>    2.949999999999943,<br>    0.5449972915058918<br>  ],<br>  \\\"params\\\": {<br>    \\\"take_profit\\\": 0.4524546986146137,<br>    \\\"stop_loss\\\": 0.17321741556762832<br>  }<br>}\",\"{<br>  \\\"number\\\": 731,<br>  \\\"values\\\": [<br>    6.059999999999974,<br>    0.7144707289085246<br>  ],<br>  \\\"params\\\": {<br>    \\\"take_profit\\\": 0.522108034902575,<br>    \\\"stop_loss\\\": 0.5463582052321264<br>  }<br>}\",\"{<br>  \\\"number\\\": 732,<br>  \\\"values\\\": [<br>    -2.6800000000000033,<br>    0.428167100692828<br>  ],<br>  \\\"params\\\": {<br>    \\\"take_profit\\\": 0.2761527601271156,<br>    \\\"stop_loss\\\": 0.14179451576423857<br>  }<br>}\",\"{<br>  \\\"number\\\": 733,<br>  \\\"values\\\": [<br>    -0.33000000000003443,<br>    0.35287433121106293<br>  ],<br>  \\\"params\\\": {<br>    \\\"take_profit\\\": 0.13138358969635155,<br>    \\\"stop_loss\\\": 0.05286499173453086<br>  }<br>}\",\"{<br>  \\\"number\\\": 734,<br>  \\\"values\\\": [<br>    5.449999999999967,<br>    0.6383091581258599<br>  ],<br>  \\\"params\\\": {<br>    \\\"take_profit\\\": 0.481102442714283,<br>    \\\"stop_loss\\\": 0.37772850956987747<br>  }<br>}\",\"{<br>  \\\"number\\\": 735,<br>  \\\"values\\\": [<br>    5.489999999999988,<br>    0.5074851431498208<br>  ],<br>  \\\"params\\\": {<br>    \\\"take_profit\\\": 0.15532629544967783,<br>    \\\"stop_loss\\\": 0.47423239264107614<br>  }<br>}\",\"{<br>  \\\"number\\\": 736,<br>  \\\"values\\\": [<br>    3.899999999999962,<br>    0.5308312877346932<br>  ],<br>  \\\"params\\\": {<br>    \\\"take_profit\\\": 0.41532940700577964,<br>    \\\"stop_loss\\\": 0.2139599589339884<br>  }<br>}\",\"{<br>  \\\"number\\\": 738,<br>  \\\"values\\\": [<br>    -2.450000000000009,<br>    0.41293505255413426<br>  ],<br>  \\\"params\\\": {<br>    \\\"take_profit\\\": 0.26420820939153805,<br>    \\\"stop_loss\\\": 0.11499467380184535<br>  }<br>}\",\"{<br>  \\\"number\\\": 739,<br>  \\\"values\\\": [<br>    0.6200000000000001,<br>    0.43521040746451817<br>  ],<br>  \\\"params\\\": {<br>    \\\"take_profit\\\": 0.37085426773928404,<br>    \\\"stop_loss\\\": 0.08029777354164121<br>  }<br>}\",\"{<br>  \\\"number\\\": 740,<br>  \\\"values\\\": [<br>    1.8500000000000076,<br>    0.5486742580110043<br>  ],<br>  \\\"params\\\": {<br>    \\\"take_profit\\\": 0.585327790730859,<br>    \\\"stop_loss\\\": 0.1443564013743747<br>  }<br>}\",\"{<br>  \\\"number\\\": 741,<br>  \\\"values\\\": [<br>    4.5699999999999825,<br>    0.4485190702761521<br>  ],<br>  \\\"params\\\": {<br>    \\\"take_profit\\\": 0.15532629544967783,<br>    \\\"stop_loss\\\": 0.30617500794670716<br>  }<br>}\",\"{<br>  \\\"number\\\": 742,<br>  \\\"values\\\": [<br>    8.429999999999978,<br>    0.5516685961698382<br>  ],<br>  \\\"params\\\": {<br>    \\\"take_profit\\\": 0.35632482743364463,<br>    \\\"stop_loss\\\": 0.4246731753040279<br>  }<br>}\",\"{<br>  \\\"number\\\": 743,<br>  \\\"values\\\": [<br>    7.859999999999989,<br>    0.5612970992657261<br>  ],<br>  \\\"params\\\": {<br>    \\\"take_profit\\\": 0.38176330844660405,<br>    \\\"stop_loss\\\": 0.4250026356435156<br>  }<br>}\",\"{<br>  \\\"number\\\": 745,<br>  \\\"values\\\": [<br>    7.9499999999999815,<br>    0.5501061091467967<br>  ],<br>  \\\"params\\\": {<br>    \\\"take_profit\\\": 0.37027401443441904,<br>    \\\"stop_loss\\\": 0.41254554790994874<br>  }<br>}\",\"{<br>  \\\"number\\\": 746,<br>  \\\"values\\\": [<br>    3.5799999999999836,<br>    0.47025209000387325<br>  ],<br>  \\\"params\\\": {<br>    \\\"take_profit\\\": 0.4193862236915465,<br>    \\\"stop_loss\\\": 0.0734573903136435<br>  }<br>}\",\"{<br>  \\\"number\\\": 748,<br>  \\\"values\\\": [<br>    2.9499999999999367,<br>    0.5580797378148458<br>  ],<br>  \\\"params\\\": {<br>    \\\"take_profit\\\": 0.46613106300166596,<br>    \\\"stop_loss\\\": 0.205097190190919<br>  }<br>}\",\"{<br>  \\\"number\\\": 750,<br>  \\\"values\\\": [<br>    6.37999999999996,<br>    0.6846004327945711<br>  ],<br>  \\\"params\\\": {<br>    \\\"take_profit\\\": 0.45072199585801354,<br>    \\\"stop_loss\\\": 0.5369060645414534<br>  }<br>}\",\"{<br>  \\\"number\\\": 751,<br>  \\\"values\\\": [<br>    -0.3400000000000407,<br>    0.45412951542489016<br>  ],<br>  \\\"params\\\": {<br>    \\\"take_profit\\\": 0.28209275220886737,<br>    \\\"stop_loss\\\": 0.1758991244819781<br>  }<br>}\",\"{<br>  \\\"number\\\": 752,<br>  \\\"values\\\": [<br>    2.1299999999999724,<br>    0.4752053351386301<br>  ],<br>  \\\"params\\\": {<br>    \\\"take_profit\\\": 0.3039315069644288,<br>    \\\"stop_loss\\\": 0.22234287162233085<br>  }<br>}\",\"{<br>  \\\"number\\\": 755,<br>  \\\"values\\\": [<br>    -0.6900000000000119,<br>    0.3894806989360962<br>  ],<br>  \\\"params\\\": {<br>    \\\"take_profit\\\": 0.26289975593087966,<br>    \\\"stop_loss\\\": 0.05286499173453086<br>  }<br>}\",\"{<br>  \\\"number\\\": 756,<br>  \\\"values\\\": [<br>    3.5999999999999837,<br>    0.44874733821351914<br>  ],<br>  \\\"params\\\": {<br>    \\\"take_profit\\\": 0.11335173124652059,<br>    \\\"stop_loss\\\": 0.3026282171902923<br>  }<br>}\",\"{<br>  \\\"number\\\": 759,<br>  \\\"values\\\": [<br>    3.9699999999999878,<br>    0.48537780865170865<br>  ],<br>  \\\"params\\\": {<br>    \\\"take_profit\\\": 0.3039315069644288,<br>    \\\"stop_loss\\\": 0.28944605423613107<br>  }<br>}\",\"{<br>  \\\"number\\\": 760,<br>  \\\"values\\\": [<br>    4.059999999999992,<br>    0.4990175380454475<br>  ],<br>  \\\"params\\\": {<br>    \\\"take_profit\\\": 0.2684094356221424,<br>    \\\"stop_loss\\\": 0.3210803034049985<br>  }<br>}\",\"{<br>  \\\"number\\\": 761,<br>  \\\"values\\\": [<br>    6.1899999999999835,<br>    0.6551003136149738<br>  ],<br>  \\\"params\\\": {<br>    \\\"take_profit\\\": 0.5681256771652116,<br>    \\\"stop_loss\\\": 0.36659394752703206<br>  }<br>}\",\"{<br>  \\\"number\\\": 762,<br>  \\\"values\\\": [<br>    5.180000000000025,<br>    0.5071184920933286<br>  ],<br>  \\\"params\\\": {<br>    \\\"take_profit\\\": 0.13138358969635155,<br>    \\\"stop_loss\\\": 0.5600058470746194<br>  }<br>}\",\"{<br>  \\\"number\\\": 763,<br>  \\\"values\\\": [<br>    5.430000000000014,<br>    0.5191724086276638<br>  ],<br>  \\\"params\\\": {<br>    \\\"take_profit\\\": 0.2733893323427551,<br>    \\\"stop_loss\\\": 0.41254554790994874<br>  }<br>}\",\"{<br>  \\\"number\\\": 764,<br>  \\\"values\\\": [<br>    2.410000000000006,<br>    0.49762959674946894<br>  ],<br>  \\\"params\\\": {<br>    \\\"take_profit\\\": 0.17416044593546104,<br>    \\\"stop_loss\\\": 0.39181932440462125<br>  }<br>}\",\"{<br>  \\\"number\\\": 765,<br>  \\\"values\\\": [<br>    3.039999999999995,<br>    0.47370233624966296<br>  ],<br>  \\\"params\\\": {<br>    \\\"take_profit\\\": 0.2684094356221424,<br>    \\\"stop_loss\\\": 0.25760257173708784<br>  }<br>}\",\"{<br>  \\\"number\\\": 766,<br>  \\\"values\\\": [<br>    -1.1099999999999959,<br>    0.4514207227243323<br>  ],<br>  \\\"params\\\": {<br>    \\\"take_profit\\\": 0.3322178556912239,<br>    \\\"stop_loss\\\": 0.13223391981881472<br>  }<br>}\",\"{<br>  \\\"number\\\": 767,<br>  \\\"values\\\": [<br>    6.8400000000000105,<br>    0.6069278797741668<br>  ],<br>  \\\"params\\\": {<br>    \\\"take_profit\\\": 0.3888330862351529,<br>    \\\"stop_loss\\\": 0.5606858681417133<br>  }<br>}\",\"{<br>  \\\"number\\\": 768,<br>  \\\"values\\\": [<br>    7.179999999999982,<br>    0.6478057205191945<br>  ],<br>  \\\"params\\\": {<br>    \\\"take_profit\\\": 0.472809508101528,<br>    \\\"stop_loss\\\": 0.4234704987991215<br>  }<br>}\",\"{<br>  \\\"number\\\": 769,<br>  \\\"values\\\": [<br>    7.909999999999965,<br>    0.6161632381882863<br>  ],<br>  \\\"params\\\": {<br>    \\\"take_profit\\\": 0.3735008636585295,<br>    \\\"stop_loss\\\": 0.585253216130435<br>  }<br>}\",\"{<br>  \\\"number\\\": 770,<br>  \\\"values\\\": [<br>    2.729999999999989,<br>    0.5080091579692305<br>  ],<br>  \\\"params\\\": {<br>    \\\"take_profit\\\": 0.10031970000183371,<br>    \\\"stop_loss\\\": 0.5339032618021267<br>  }<br>}\",\"{<br>  \\\"number\\\": 771,<br>  \\\"values\\\": [<br>    6.400000000000006,<br>    0.5172010140060528<br>  ],<br>  \\\"params\\\": {<br>    \\\"take_profit\\\": 0.2528018514104881,<br>    \\\"stop_loss\\\": 0.4234704987991215<br>  }<br>}\",\"{<br>  \\\"number\\\": 772,<br>  \\\"values\\\": [<br>    8.579999999999973,<br>    0.5845376762392608<br>  ],<br>  \\\"params\\\": {<br>    \\\"take_profit\\\": 0.34508152431961386,<br>    \\\"stop_loss\\\": 0.5349177715800677<br>  }<br>}\",\"{<br>  \\\"number\\\": 773,<br>  \\\"values\\\": [<br>    2.3899999999999775,<br>    0.4702165004083073<br>  ],<br>  \\\"params\\\": {<br>    \\\"take_profit\\\": 0.0988582759660846,<br>    \\\"stop_loss\\\": 0.4250026356435156<br>  }<br>}\",\"{<br>  \\\"number\\\": 774,<br>  \\\"values\\\": [<br>    8.879999999999999,<br>    0.5767027825093065<br>  ],<br>  \\\"params\\\": {<br>    \\\"take_profit\\\": 0.3322178556912239,<br>    \\\"stop_loss\\\": 0.5606858681417133<br>  }<br>}\",\"{<br>  \\\"number\\\": 777,<br>  \\\"values\\\": [<br>    5.659999999999986,<br>    0.5966288910211844<br>  ],<br>  \\\"params\\\": {<br>    \\\"take_profit\\\": 0.5324990122434141,<br>    \\\"stop_loss\\\": 0.25760257173708784<br>  }<br>}\",\"{<br>  \\\"number\\\": 778,<br>  \\\"values\\\": [<br>    7.499999999999984,<br>    0.676149523337231<br>  ],<br>  \\\"params\\\": {<br>    \\\"take_profit\\\": 0.4193862236915465,<br>    \\\"stop_loss\\\": 0.5804256353788482<br>  }<br>}\",\"{<br>  \\\"number\\\": 779,<br>  \\\"values\\\": [<br>    5.749999999999972,<br>    0.5768126982729221<br>  ],<br>  \\\"params\\\": {<br>    \\\"take_profit\\\": 0.5475850192894276,<br>    \\\"stop_loss\\\": 0.23913270459446628<br>  }<br>}\",\"{<br>  \\\"number\\\": 780,<br>  \\\"values\\\": [<br>    8.529999999999998,<br>    0.5715449974411286<br>  ],<br>  \\\"params\\\": {<br>    \\\"take_profit\\\": 0.32537123833868614,<br>    \\\"stop_loss\\\": 0.5372208293404493<br>  }<br>}\",\"{<br>  \\\"number\\\": 782,<br>  \\\"values\\\": [<br>    0.6000000000000103,<br>    0.4214969048898913<br>  ],<br>  \\\"params\\\": {<br>    \\\"take_profit\\\": 0.33557230243829644,<br>    \\\"stop_loss\\\": 0.06245054913093921<br>  }<br>}\",\"{<br>  \\\"number\\\": 783,<br>  \\\"values\\\": [<br>    8.549999999999983,<br>    0.6049595027768383<br>  ],<br>  \\\"params\\\": {<br>    \\\"take_profit\\\": 0.4394615221148431,<br>    \\\"stop_loss\\\": 0.386681111508233<br>  }<br>}\",\"{<br>  \\\"number\\\": 784,<br>  \\\"values\\\": [<br>    2.729999999999989,<br>    0.5080091579692305<br>  ],<br>  \\\"params\\\": {<br>    \\\"take_profit\\\": 0.10340605706584854,<br>    \\\"stop_loss\\\": 0.5386256926614519<br>  }<br>}\",\"{<br>  \\\"number\\\": 785,<br>  \\\"values\\\": [<br>    5.519999999999957,<br>    0.6814626270722663<br>  ],<br>  \\\"params\\\": {<br>    \\\"take_profit\\\": 0.49274083511759226,<br>    \\\"stop_loss\\\": 0.47658785539765697<br>  }<br>}\",\"{<br>  \\\"number\\\": 786,<br>  \\\"values\\\": [<br>    8.919999999999973,<br>    0.5792145793131324<br>  ],<br>  \\\"params\\\": {<br>    \\\"take_profit\\\": 0.41539992463926473,<br>    \\\"stop_loss\\\": 0.35227252417034044<br>  }<br>}\",\"{<br>  \\\"number\\\": 787,<br>  \\\"values\\\": [<br>    1.2899999999999712,<br>    0.4534234073858975<br>  ],<br>  \\\"params\\\": {<br>    \\\"take_profit\\\": 0.07821999695742973,<br>    \\\"stop_loss\\\": 0.35227252417034044<br>  }<br>}\",\"{<br>  \\\"number\\\": 788,<br>  \\\"values\\\": [<br>    7.409999999999993,<br>    0.5439246862132775<br>  ],<br>  \\\"params\\\": {<br>    \\\"take_profit\\\": 0.2618110033142434,<br>    \\\"stop_loss\\\": 0.5349177715800677<br>  }<br>}\",\"{<br>  \\\"number\\\": 789,<br>  \\\"values\\\": [<br>    1.799999999999966,<br>    0.4594552586132712<br>  ],<br>  \\\"params\\\": {<br>    \\\"take_profit\\\": 0.20547806532917928,<br>    \\\"stop_loss\\\": 0.2392711797015849<br>  }<br>}\",\"{<br>  \\\"number\\\": 790,<br>  \\\"values\\\": [<br>    2.0899999999999763,<br>    0.46762869368304283<br>  ],<br>  \\\"params\\\": {<br>    \\\"take_profit\\\": 0.06032629667682013,<br>    \\\"stop_loss\\\": 0.42718311028329875<br>  }<br>}\",\"{<br>  \\\"number\\\": 791,<br>  \\\"values\\\": [<br>    -1.1100000000000225,<br>    0.4555874300972156<br>  ],<br>  \\\"params\\\": {<br>    \\\"take_profit\\\": 0.2726901967937567,<br>    \\\"stop_loss\\\": 0.21996293447973575<br>  }<br>}\",\"{<br>  \\\"number\\\": 792,<br>  \\\"values\\\": [<br>    7.229999999999965,<br>    0.5720935357856799<br>  ],<br>  \\\"params\\\": {<br>    \\\"take_profit\\\": 0.38493470812078173,<br>    \\\"stop_loss\\\": 0.43824973456478217<br>  }<br>}\",\"{<br>  \\\"number\\\": 793,<br>  \\\"values\\\": [<br>    5.429999999999991,<br>    0.7116886059664029<br>  ],<br>  \\\"params\\\": {<br>    \\\"take_profit\\\": 0.5070443459665294,<br>    \\\"stop_loss\\\": 0.5606858681417133<br>  }<br>}\",\"{<br>  \\\"number\\\": 794,<br>  \\\"values\\\": [<br>    4.2300000000000315,<br>    0.5195398109151805<br>  ],<br>  \\\"params\\\": {<br>    \\\"take_profit\\\": 0.22493057050255072,<br>    \\\"stop_loss\\\": 0.41254554790994874<br>  }<br>}\",\"{<br>  \\\"number\\\": 795,<br>  \\\"values\\\": [<br>    3.269999999999995,<br>    0.510708484225206<br>  ],<br>  \\\"params\\\": {<br>    \\\"take_profit\\\": 0.11899440213864856,<br>    \\\"stop_loss\\\": 0.5105681668014611<br>  }<br>}\",\"{<br>  \\\"number\\\": 796,<br>  \\\"values\\\": [<br>    1.9099999999999615,<br>    0.4613992687926976<br>  ],<br>  \\\"params\\\": {<br>    \\\"take_profit\\\": 0.05024039691099534,<br>    \\\"stop_loss\\\": 0.42718311028329875<br>  }<br>}\",\"{<br>  \\\"number\\\": 797,<br>  \\\"values\\\": [<br>    3.0200000000000053,<br>    0.4647880157125473<br>  ],<br>  \\\"params\\\": {<br>    \\\"take_profit\\\": 0.21616030809237652,<br>    \\\"stop_loss\\\": 0.25760257173708784<br>  }<br>}\",\"{<br>  \\\"number\\\": 798,<br>  \\\"values\\\": [<br>    1.9299999999999495,<br>    0.42948423720942513<br>  ],<br>  \\\"params\\\": {<br>    \\\"take_profit\\\": 0.0538742789399659,<br>    \\\"stop_loss\\\": 0.3026282171902923<br>  }<br>}\",\"{<br>  \\\"number\\\": 799,<br>  \\\"values\\\": [<br>    1.9899999999999718,<br>    0.47411265428895294<br>  ],<br>  \\\"params\\\": {<br>    \\\"take_profit\\\": 0.2956322685532977,<br>    \\\"stop_loss\\\": 0.2273195118269682<br>  }<br>}\",\"{<br>  \\\"number\\\": 800,<br>  \\\"values\\\": [<br>    4.909999999999997,<br>    0.5445910841070477<br>  ],<br>  \\\"params\\\": {<br>    \\\"take_profit\\\": 0.2482369349192563,<br>    \\\"stop_loss\\\": 0.4572530290224011<br>  }<br>}\",\"{<br>  \\\"number\\\": 803,<br>  \\\"values\\\": [<br>    7.419999999999998,<br>    0.5439693240421241<br>  ],<br>  \\\"params\\\": {<br>    \\\"take_profit\\\": 0.2703140024295009,<br>    \\\"stop_loss\\\": 0.5349177715800677<br>  }<br>}\",\"{<br>  \\\"number\\\": 804,<br>  \\\"values\\\": [<br>    6.570000000000011,<br>    0.5434623438497851<br>  ],<br>  \\\"params\\\": {<br>    \\\"take_profit\\\": 0.2528018514104881,<br>    \\\"stop_loss\\\": 0.5066332015853294<br>  }<br>}\",\"{<br>  \\\"number\\\": 805,<br>  \\\"values\\\": [<br>    3.4099999999999877,<br>    0.49640457575899444<br>  ],<br>  \\\"params\\\": {<br>    \\\"take_profit\\\": 0.11220837985153742,<br>    \\\"stop_loss\\\": 0.43824973456478217<br>  }<br>}\",\"{<br>  \\\"number\\\": 806,<br>  \\\"values\\\": [<br>    -0.5900000000000136,<br>    0.38883409788580847<br>  ],<br>  \\\"params\\\": {<br>    \\\"take_profit\\\": 0.22986175522955482,<br>    \\\"stop_loss\\\": 0.07780284376248899<br>  }<br>}\",\"{<br>  \\\"number\\\": 807,<br>  \\\"values\\\": [<br>    -1.2800000000000118,<br>    0.4329652229654485<br>  ],<br>  \\\"params\\\": {<br>    \\\"take_profit\\\": 0.2618110033142434,<br>    \\\"stop_loss\\\": 0.15902560383523381<br>  }<br>}\",\"{<br>  \\\"number\\\": 808,<br>  \\\"values\\\": [<br>    7.719999999999992,<br>    0.5479382229516031<br>  ],<br>  \\\"params\\\": {<br>    \\\"take_profit\\\": 0.4193862236915465,<br>    \\\"stop_loss\\\": 0.2611287676051632<br>  }<br>}\",\"{<br>  \\\"number\\\": 809,<br>  \\\"values\\\": [<br>    0.06999999999995012,<br>    0.45924761311876494<br>  ],<br>  \\\"params\\\": {<br>    \\\"take_profit\\\": 0.0595366319200447,<br>    \\\"stop_loss\\\": 0.3968526343370133<br>  }<br>}\",\"{<br>  \\\"number\\\": 810,<br>  \\\"values\\\": [<br>    6.66999999999998,<br>    0.527699361972335<br>  ],<br>  \\\"params\\\": {<br>    \\\"take_profit\\\": 0.2528018514104881,<br>    \\\"stop_loss\\\": 0.43824973456478217<br>  }<br>}\",\"{<br>  \\\"number\\\": 811,<br>  \\\"values\\\": [<br>    3.500000000000011,<br>    0.5197338256061944<br>  ],<br>  \\\"params\\\": {<br>    \\\"take_profit\\\": 0.2528018514104881,<br>    \\\"stop_loss\\\": 0.39424097049444284<br>  }<br>}\",\"{<br>  \\\"number\\\": 812,<br>  \\\"values\\\": [<br>    5.93000000000001,<br>    0.5435618020540555<br>  ],<br>  \\\"params\\\": {<br>    \\\"take_profit\\\": 0.2002410701817972,<br>    \\\"stop_loss\\\": 0.5349177715800677<br>  }<br>}\",\"{<br>  \\\"number\\\": 813,<br>  \\\"values\\\": [<br>    6.420000000000002,<br>    0.5172961498664638<br>  ],<br>  \\\"params\\\": {<br>    \\\"take_profit\\\": 0.2684094356221424,<br>    \\\"stop_loss\\\": 0.4252805368786734<br>  }<br>}\",\"{<br>  \\\"number\\\": 814,<br>  \\\"values\\\": [<br>    6.010000000000005,<br>    0.5143526503177455<br>  ],<br>  \\\"params\\\": {<br>    \\\"take_profit\\\": 0.15635221511028574,<br>    \\\"stop_loss\\\": 0.5687539975374362<br>  }<br>}\",\"{<br>  \\\"number\\\": 815,<br>  \\\"values\\\": [<br>    2.499999999999981,<br>    0.48353989376017253<br>  ],<br>  \\\"params\\\": {<br>    \\\"take_profit\\\": 0.08479379351163474,<br>    \\\"stop_loss\\\": 0.5349177715800677<br>  }<br>}\",\"{<br>  \\\"number\\\": 816,<br>  \\\"values\\\": [<br>    2.3699999999999735,<br>    0.5032104743579121<br>  ],<br>  \\\"params\\\": {<br>    \\\"take_profit\\\": 0.42477134448096265,<br>    \\\"stop_loss\\\": 0.13821500396692432<br>  }<br>}\",\"{<br>  \\\"number\\\": 817,<br>  \\\"values\\\": [<br>    4.149999999999995,<br>    0.48034551020638294<br>  ],<br>  \\\"params\\\": {<br>    \\\"take_profit\\\": 0.2817165903404797,<br>    \\\"stop_loss\\\": 0.2643739665746482<br>  }<br>}\",\"{<br>  \\\"number\\\": 819,<br>  \\\"values\\\": [<br>    8.63999999999998,<br>    0.6469523879623985<br>  ],<br>  \\\"params\\\": {<br>    \\\"take_profit\\\": 0.41320337203017377,<br>    \\\"stop_loss\\\": 0.5349177715800677<br>  }<br>}\",\"{<br>  \\\"number\\\": 820,<br>  \\\"values\\\": [<br>    -1.74000000000007,<br>    0.3687033231526026<br>  ],<br>  \\\"params\\\": {<br>    \\\"take_profit\\\": 0.06647001175872501,<br>    \\\"stop_loss\\\": 0.14902363160871226<br>  }<br>}\",\"{<br>  \\\"number\\\": 822,<br>  \\\"values\\\": [<br>    6.119999999999958,<br>    0.5929850773325224<br>  ],<br>  \\\"params\\\": {<br>    \\\"take_profit\\\": 0.44525112542309403,<br>    \\\"stop_loss\\\": 0.2960758345440405<br>  }<br>}\",\"{<br>  \\\"number\\\": 823,<br>  \\\"values\\\": [<br>    9.509999999999973,<br>    0.6449318848488379<br>  ],<br>  \\\"params\\\": {<br>    \\\"take_profit\\\": 0.42477134448096265,<br>    \\\"stop_loss\\\": 0.5295914426798152<br>  }<br>}\",\"{<br>  \\\"number\\\": 824,<br>  \\\"values\\\": [<br>    7.339999999999993,<br>    0.5469530032646341<br>  ],<br>  \\\"params\\\": {<br>    \\\"take_profit\\\": 0.28400575592318683,<br>    \\\"stop_loss\\\": 0.47500883139370564<br>  }<br>}\",\"{<br>  \\\"number\\\": 826,<br>  \\\"values\\\": [<br>    -0.400000000000043,<br>    0.4544527745135228<br>  ],<br>  \\\"params\\\": {<br>    \\\"take_profit\\\": 0.28400575592318683,<br>    \\\"stop_loss\\\": 0.1834458384414132<br>  }<br>}\",\"{<br>  \\\"number\\\": 828,<br>  \\\"values\\\": [<br>    7.190000000000001,<br>    0.5420434200618024<br>  ],<br>  \\\"params\\\": {<br>    \\\"take_profit\\\": 0.2528018514104881,<br>    \\\"stop_loss\\\": 0.526010877410777<br>  }<br>}\",\"{<br>  \\\"number\\\": 829,<br>  \\\"values\\\": [<br>    7.179999999999989,<br>    0.7437104727008492<br>  ],<br>  \\\"params\\\": {<br>    \\\"take_profit\\\": 0.5928378066638786,<br>    \\\"stop_loss\\\": 0.5409881618787791<br>  }<br>}\",\"{<br>  \\\"number\\\": 830,<br>  \\\"values\\\": [<br>    5.27,<br>    0.5069572022027307<br>  ],<br>  \\\"params\\\": {<br>    \\\"take_profit\\\": 0.14252205007295113,<br>    \\\"stop_loss\\\": 0.5536622242519604<br>  }<br>}\",\"{<br>  \\\"number\\\": 831,<br>  \\\"values\\\": [<br>    -0.11999999999999647,<br>    0.39883669681817985<br>  ],<br>  \\\"params\\\": {<br>    \\\"take_profit\\\": 0.3039315069644288,<br>    \\\"stop_loss\\\": 0.050915304656289885<br>  }<br>}\",\"{<br>  \\\"number\\\": 833,<br>  \\\"values\\\": [<br>    5.019999999999996,<br>    0.526958501423236<br>  ],<br>  \\\"params\\\": {<br>    \\\"take_profit\\\": 0.17807986411324583,<br>    \\\"stop_loss\\\": 0.557168868616451<br>  }<br>}\",\"{<br>  \\\"number\\\": 834,<br>  \\\"values\\\": [<br>    5.310000000000002,<br>    0.4952992618171459<br>  ],<br>  \\\"params\\\": {<br>    \\\"take_profit\\\": 0.17079042692084578,<br>    \\\"stop_loss\\\": 0.4234704987991215<br>  }<br>}\",\"{<br>  \\\"number\\\": 835,<br>  \\\"values\\\": [<br>    9.549999999999972,<br>    0.6396415584017142<br>  ],<br>  \\\"params\\\": {<br>    \\\"take_profit\\\": 0.42616469551592684,<br>    \\\"stop_loss\\\": 0.5175713488652334<br>  }<br>}\",\"{<br>  \\\"number\\\": 836,<br>  \\\"values\\\": [<br>    -0.7000000000000055,<br>    0.4433868373178892<br>  ],<br>  \\\"params\\\": {<br>    \\\"take_profit\\\": 0.29192946489513516,<br>    \\\"stop_loss\\\": 0.1543956861795082<br>  }<br>}\",\"{<br>  \\\"number\\\": 837,<br>  \\\"values\\\": [<br>    -0.3000000000000338,<br>    0.3963960028658621<br>  ],<br>  \\\"params\\\": {<br>    \\\"take_profit\\\": 0.15635221511028574,<br>    \\\"stop_loss\\\": 0.15723370126954228<br>  }<br>}\",\"{<br>  \\\"number\\\": 838,<br>  \\\"values\\\": [<br>    2.3999999999999484,<br>    0.42401082372866417<br>  ],<br>  \\\"params\\\": {<br>    \\\"take_profit\\\": 0.05087164914898474,<br>    \\\"stop_loss\\\": 0.29129255144850197<br>  }<br>}\",\"{<br>  \\\"number\\\": 839,<br>  \\\"values\\\": [<br>    7.409999999999993,<br>    0.5439246862132775<br>  ],<br>  \\\"params\\\": {<br>    \\\"take_profit\\\": 0.2684094356221424,<br>    \\\"stop_loss\\\": 0.5372208293404493<br>  }<br>}\",\"{<br>  \\\"number\\\": 841,<br>  \\\"values\\\": [<br>    6.749999999999979,<br>    0.5472165703399067<br>  ],<br>  \\\"params\\\": {<br>    \\\"take_profit\\\": 0.3046618797061607,<br>    \\\"stop_loss\\\": 0.4480060621145778<br>  }<br>}\",\"{<br>  \\\"number\\\": 842,<br>  \\\"values\\\": [<br>    0.02999999999999675,<br>    0.4507486365296438<br>  ],<br>  \\\"params\\\": {<br>    \\\"take_profit\\\": 0.3688693474054423,<br>    \\\"stop_loss\\\": 0.10601881454034903<br>  }<br>}\",\"{<br>  \\\"number\\\": 843,<br>  \\\"values\\\": [<br>    9.059999999999963,<br>    0.621480433306106<br>  ],<br>  \\\"params\\\": {<br>    \\\"take_profit\\\": 0.41539992463926473,<br>    \\\"stop_loss\\\": 0.4576625069787842<br>  }<br>}\",\"{<br>  \\\"number\\\": 844,<br>  \\\"values\\\": [<br>    6.349999999999966,<br>    0.5384934063858158<br>  ],<br>  \\\"params\\\": {<br>    \\\"take_profit\\\": 0.4193862236915465,<br>    \\\"stop_loss\\\": 0.22055854900357325<br>  }<br>}\",\"{<br>  \\\"number\\\": 846,<br>  \\\"values\\\": [<br>    8.919999999999973,<br>    0.5792145793131324<br>  ],<br>  \\\"params\\\": {<br>    \\\"take_profit\\\": 0.41539992463926473,<br>    \\\"stop_loss\\\": 0.35227252417034044<br>  }<br>}\",\"{<br>  \\\"number\\\": 847,<br>  \\\"values\\\": [<br>    3.81999999999997,<br>    0.500838356115939<br>  ],<br>  \\\"params\\\": {<br>    \\\"take_profit\\\": 0.37027401443441904,<br>    \\\"stop_loss\\\": 0.2228112396938116<br>  }<br>}\",\"{<br>  \\\"number\\\": 848,<br>  \\\"values\\\": [<br>    6.669999999999973,<br>    0.5420162705658229<br>  ],<br>  \\\"params\\\": {<br>    \\\"take_profit\\\": 0.3666194620239973,<br>    \\\"stop_loss\\\": 0.37873974755905954<br>  }<br>}\",\"{<br>  \\\"number\\\": 850,<br>  \\\"values\\\": [<br>    6.349999999999966,<br>    0.5384934063858158<br>  ],<br>  \\\"params\\\": {<br>    \\\"take_profit\\\": 0.4193862236915465,<br>    \\\"stop_loss\\\": 0.23481036202295913<br>  }<br>}\",\"{<br>  \\\"number\\\": 851,<br>  \\\"values\\\": [<br>    5.459999999999972,<br>    0.5838012066434896<br>  ],<br>  \\\"params\\\": {<br>    \\\"take_profit\\\": 0.5291592337650988,<br>    \\\"stop_loss\\\": 0.2279018238328298<br>  }<br>}\",\"{<br>  \\\"number\\\": 852,<br>  \\\"values\\\": [<br>    8.59999999999998,<br>    0.6015365510276345<br>  ],<br>  \\\"params\\\": {<br>    \\\"take_profit\\\": 0.42283535922109694,<br>    \\\"stop_loss\\\": 0.39625108249489976<br>  }<br>}\",\"{<br>  \\\"number\\\": 853,<br>  \\\"values\\\": [<br>    2.1299999999999724,<br>    0.4752053351386301<br>  ],<br>  \\\"params\\\": {<br>    \\\"take_profit\\\": 0.30013855249917315,<br>    \\\"stop_loss\\\": 0.23411575629752096<br>  }<br>}\",\"{<br>  \\\"number\\\": 854,<br>  \\\"values\\\": [<br>    6.519999999999971,<br>    0.5193321952028793<br>  ],<br>  \\\"params\\\": {<br>    \\\"take_profit\\\": 0.3666194620239973,<br>    \\\"stop_loss\\\": 0.30995449671812453<br>  }<br>}\",\"{<br>  \\\"number\\\": 856,<br>  \\\"values\\\": [<br>    2.8799999999999435,<br>    0.554952677513108<br>  ],<br>  \\\"params\\\": {<br>    \\\"take_profit\\\": 0.45130359721623176,<br>    \\\"stop_loss\\\": 0.19626964226288585<br>  }<br>}\",\"{<br>  \\\"number\\\": 857,<br>  \\\"values\\\": [<br>    3.3400000000000185,<br>    0.5367229563628859<br>  ],<br>  \\\"params\\\": {<br>    \\\"take_profit\\\": 0.12070809891045928,<br>    \\\"stop_loss\\\": 0.5853984914174624<br>  }<br>}\",\"{<br>  \\\"number\\\": 858,<br>  \\\"values\\\": [<br>    4.240000000000005,<br>    0.47284835962543487<br>  ],<br>  \\\"params\\\": {<br>    \\\"take_profit\\\": 0.2176350276649373,<br>    \\\"stop_loss\\\": 0.29129255144850197<br>  }<br>}\",\"{<br>  \\\"number\\\": 859,<br>  \\\"values\\\": [<br>    6.419999999999977,<br>    0.5945929229657796<br>  ],<br>  \\\"params\\\": {<br>    \\\"take_profit\\\": 0.38112077915828435,<br>    \\\"stop_loss\\\": 0.4889990910483422<br>  }<br>}\",\"{<br>  \\\"number\\\": 860,<br>  \\\"values\\\": [<br>    1.839999999999966,<br>    0.4679908327105711<br>  ],<br>  \\\"params\\\": {<br>    \\\"take_profit\\\": 0.2684094356221424,<br>    \\\"stop_loss\\\": 0.2228112396938116<br>  }<br>}\",\"{<br>  \\\"number\\\": 862,<br>  \\\"values\\\": [<br>    2.7099999999999747,<br>    0.47824751452594033<br>  ],<br>  \\\"params\\\": {<br>    \\\"take_profit\\\": 0.07193439448832219,<br>    \\\"stop_loss\\\": 0.5277578428623528<br>  }<br>}\",\"{<br>  \\\"number\\\": 863,<br>  \\\"values\\\": [<br>    7.419999999999998,<br>    0.5439693240421241<br>  ],<br>  \\\"params\\\": {<br>    \\\"take_profit\\\": 0.2703140024295009,<br>    \\\"stop_loss\\\": 0.5349177715800677<br>  }<br>}\",\"{<br>  \\\"number\\\": 864,<br>  \\\"values\\\": [<br>    1.3399999999999803,<br>    0.4681069247196859<br>  ],<br>  \\\"params\\\": {<br>    \\\"take_profit\\\": 0.2707966097582291,<br>    \\\"stop_loss\\\": 0.23732324978969815<br>  }<br>}\",\"{<br>  \\\"number\\\": 865,<br>  \\\"values\\\": [<br>    6.420000000000002,<br>    0.5172961498664638<br>  ],<br>  \\\"params\\\": {<br>    \\\"take_profit\\\": 0.2692034252469135,<br>    \\\"stop_loss\\\": 0.4234704987991215<br>  }<br>}\",\"{<br>  \\\"number\\\": 867,<br>  \\\"values\\\": [<br>    2.229999999999969,<br>    0.4426194264436952<br>  ],<br>  \\\"params\\\": {<br>    \\\"take_profit\\\": 0.18999111898832038,<br>    \\\"stop_loss\\\": 0.24309681818590156<br>  }<br>}\",\"{<br>  \\\"number\\\": 869,<br>  \\\"values\\\": [<br>    8.649999999999977,<br>    0.5532192653510501<br>  ],<br>  \\\"params\\\": {<br>    \\\"take_profit\\\": 0.36677158499149476,<br>    \\\"stop_loss\\\": 0.42718311028329875<br>  }<br>}\",\"{<br>  \\\"number\\\": 870,<br>  \\\"values\\\": [<br>    6.61999999999998,<br>    0.7369432599993881<br>  ],<br>  \\\"params\\\": {<br>    \\\"take_profit\\\": 0.5593369719234248,<br>    \\\"stop_loss\\\": 0.5349177715800677<br>  }<br>}\",\"{<br>  \\\"number\\\": 871,<br>  \\\"values\\\": [<br>    -0.020000000000055015,<br>    0.3941780027321416<br>  ],<br>  \\\"params\\\": {<br>    \\\"take_profit\\\": 0.07090707035730336,<br>    \\\"stop_loss\\\": 0.21361450664358872<br>  }<br>}\",\"{<br>  \\\"number\\\": 872,<br>  \\\"values\\\": [<br>    6.61999999999998,<br>    0.7369432599993881<br>  ],<br>  \\\"params\\\": {<br>    \\\"take_profit\\\": 0.5704949972962081,<br>    \\\"stop_loss\\\": 0.5349177715800677<br>  }<br>}\",\"{<br>  \\\"number\\\": 873,<br>  \\\"values\\\": [<br>    8.789999999999988,<br>    0.5734807330928685<br>  ],<br>  \\\"params\\\": {<br>    \\\"take_profit\\\": 0.33638804999079613,<br>    \\\"stop_loss\\\": 0.5349177715800677<br>  }<br>}\",\"{<br>  \\\"number\\\": 875,<br>  \\\"values\\\": [<br>    2.4199999999999906,<br>    0.49943052465378185<br>  ],<br>  \\\"params\\\": {<br>    \\\"take_profit\\\": 0.1976981587911819,<br>    \\\"stop_loss\\\": 0.3741599991221209<br>  }<br>}\",\"{<br>  \\\"number\\\": 876,<br>  \\\"values\\\": [<br>    -0.04999999999999982,<br>    0.46057434985775114<br>  ],<br>  \\\"params\\\": {<br>    \\\"take_profit\\\": 0.32537123833868614,<br>    \\\"stop_loss\\\": 0.15480226769697097<br>  }<br>}\",\"{<br>  \\\"number\\\": 877,<br>  \\\"values\\\": [<br>    1.739999999999982,<br>    0.47035132271739877<br>  ],<br>  \\\"params\\\": {<br>    \\\"take_profit\\\": 0.08479379351163474,<br>    \\\"stop_loss\\\": 0.4183161165910885<br>  }<br>}\",\"{<br>  \\\"number\\\": 878,<br>  \\\"values\\\": [<br>    6.7499999999999964,<br>    0.6591615026505129<br>  ],<br>  \\\"params\\\": {<br>    \\\"take_profit\\\": 0.5904368108781056,<br>    \\\"stop_loss\\\": 0.3689005510988569<br>  }<br>}\",\"{<br>  \\\"number\\\": 879,<br>  \\\"values\\\": [<br>    -2.05000000000004,<br>    0.37773618381877533<br>  ],<br>  \\\"params\\\": {<br>    \\\"take_profit\\\": 0.1440426709767898,<br>    \\\"stop_loss\\\": 0.11646442341438923<br>  }<br>}\",\"{<br>  \\\"number\\\": 881,<br>  \\\"values\\\": [<br>    -0.6300000000000328,<br>    0.45570425612190557<br>  ],<br>  \\\"params\\\": {<br>    \\\"take_profit\\\": 0.2528018514104881,<br>    \\\"stop_loss\\\": 0.21526003586367343<br>  }<br>}\",\"{<br>  \\\"number\\\": 882,<br>  \\\"values\\\": [<br>    7.8699999999999655,<br>    0.6038695561009505<br>  ],<br>  \\\"params\\\": {<br>    \\\"take_profit\\\": 0.40500277159504,<br>    \\\"stop_loss\\\": 0.4478389637357441<br>  }<br>}\",\"{<br>  \\\"number\\\": 883,<br>  \\\"values\\\": [<br>    8.409999999999986,<br>    0.6139601902162851<br>  ],<br>  \\\"params\\\": {<br>    \\\"take_profit\\\": 0.4004803396644741,<br>    \\\"stop_loss\\\": 0.5207879909754949<br>  }<br>}\",\"{<br>  \\\"number\\\": 884,<br>  \\\"values\\\": [<br>    7.00999999999998,<br>    0.7424809037870467<br>  ],<br>  \\\"params\\\": {<br>    \\\"take_profit\\\": 0.5801180593864717,<br>    \\\"stop_loss\\\": 0.5349177715800677<br>  }<br>}\",\"{<br>  \\\"number\\\": 885,<br>  \\\"values\\\": [<br>    -1.0600000000000085,<br>    0.3937361521848701<br>  ],<br>  \\\"params\\\": {<br>    \\\"take_profit\\\": 0.2215793449982263,<br>    \\\"stop_loss\\\": 0.08044963583479153<br>  }<br>}\",\"{<br>  \\\"number\\\": 886,<br>  \\\"values\\\": [<br>    3.81999999999997,<br>    0.500838356115939<br>  ],<br>  \\\"params\\\": {<br>    \\\"take_profit\\\": 0.3666194620239973,<br>    \\\"stop_loss\\\": 0.22703085582081567<br>  }<br>}\",\"{<br>  \\\"number\\\": 887,<br>  \\\"values\\\": [<br>    8.70999999999999,<br>    0.5749281024975021<br>  ],<br>  \\\"params\\\": {<br>    \\\"take_profit\\\": 0.3322178556912239,<br>    \\\"stop_loss\\\": 0.5593717636897132<br>  }<br>}\",\"{<br>  \\\"number\\\": 888,<br>  \\\"values\\\": [<br>    1.010000000000007,<br>    0.42467905985018406<br>  ],<br>  \\\"params\\\": {<br>    \\\"take_profit\\\": 0.3434735316286918,<br>    \\\"stop_loss\\\": 0.05286499173453086<br>  }<br>}\",\"{<br>  \\\"number\\\": 889,<br>  \\\"values\\\": [<br>    3.1199999999999797,<br>    0.48484981060424776<br>  ],<br>  \\\"params\\\": {<br>    \\\"take_profit\\\": 0.4193862236915465,<br>    \\\"stop_loss\\\": 0.09680608883666107<br>  }<br>}\",\"{<br>  \\\"number\\\": 890,<br>  \\\"values\\\": [<br>    7.629999999999988,<br>    0.5661164048359293<br>  ],<br>  \\\"params\\\": {<br>    \\\"take_profit\\\": 0.32537123833868614,<br>    \\\"stop_loss\\\": 0.4657439484465329<br>  }<br>}\",\"{<br>  \\\"number\\\": 891,<br>  \\\"values\\\": [<br>    3.4800000000000026,<br>    0.5124199471834583<br>  ],<br>  \\\"params\\\": {<br>    \\\"take_profit\\\": 0.5619453506827091,<br>    \\\"stop_loss\\\": 0.08006004884998061<br>  }<br>}\",\"{<br>  \\\"number\\\": 892,<br>  \\\"values\\\": [<br>    2.1299999999999724,<br>    0.4752053351386301<br>  ],<br>  \\\"params\\\": {<br>    \\\"take_profit\\\": 0.3091525649255428,<br>    \\\"stop_loss\\\": 0.23732324978969815<br>  }<br>}\",\"{<br>  \\\"number\\\": 893,<br>  \\\"values\\\": [<br>    7.720000000000002,<br>    0.5661821820848079<br>  ],<br>  \\\"params\\\": {<br>    \\\"take_profit\\\": 0.28400575592318683,<br>    \\\"stop_loss\\\": 0.5792234289399628<br>  }<br>}\",\"{<br>  \\\"number\\\": 894,<br>  \\\"values\\\": [<br>    6.349999999999966,<br>    0.5384934063858158<br>  ],<br>  \\\"params\\\": {<br>    \\\"take_profit\\\": 0.4193862236915465,<br>    \\\"stop_loss\\\": 0.23732324978969815<br>  }<br>}\",\"{<br>  \\\"number\\\": 895,<br>  \\\"values\\\": [<br>    7.9499999999999815,<br>    0.5501061091467967<br>  ],<br>  \\\"params\\\": {<br>    \\\"take_profit\\\": 0.37837947190872045,<br>    \\\"stop_loss\\\": 0.4194128146076094<br>  }<br>}\",\"{<br>  \\\"number\\\": 896,<br>  \\\"values\\\": [<br>    5.409999999999956,<br>    0.6824939197866732<br>  ],<br>  \\\"params\\\": {<br>    \\\"take_profit\\\": 0.4898224321937315,<br>    \\\"stop_loss\\\": 0.49453274619879156<br>  }<br>}\",\"{<br>  \\\"number\\\": 897,<br>  \\\"values\\\": [<br>    5.169999999999991,<br>    0.5069189622849356<br>  ],<br>  \\\"params\\\": {<br>    \\\"take_profit\\\": 0.2804179738080875,<br>    \\\"stop_loss\\\": 0.3446655280784847<br>  }<br>}\",\"{<br>  \\\"number\\\": 898,<br>  \\\"values\\\": [<br>    8.889999999999976,<br>    0.6325984840784596<br>  ],<br>  \\\"params\\\": {<br>    \\\"take_profit\\\": 0.41979610207049245,<br>    \\\"stop_loss\\\": 0.517980612225431<br>  }<br>}\",\"{<br>  \\\"number\\\": 899,<br>  \\\"values\\\": [<br>    8.449999999999982,<br>    0.5758850670346274<br>  ],<br>  \\\"params\\\": {<br>    \\\"take_profit\\\": 0.39559542205161125,<br>    \\\"stop_loss\\\": 0.41254554790994874<br>  }<br>}\",\"{<br>  \\\"number\\\": 900,<br>  \\\"values\\\": [<br>    -0.6900000000000119,<br>    0.3894806989360962<br>  ],<br>  \\\"params\\\": {<br>    \\\"take_profit\\\": 0.2658007141840854,<br>    \\\"stop_loss\\\": 0.05286499173453086<br>  }<br>}\",\"{<br>  \\\"number\\\": 901,<br>  \\\"values\\\": [<br>    3.910000000000003,<br>    0.4885510502340643<br>  ],<br>  \\\"params\\\": {<br>    \\\"take_profit\\\": 0.12708535319934772,<br>    \\\"stop_loss\\\": 0.4250026356435156<br>  }<br>}\",\"{<br>  \\\"number\\\": 905,<br>  \\\"values\\\": [<br>    6.7899999999999885,<br>    0.6623774115477612<br>  ],<br>  \\\"params\\\": {<br>    \\\"take_profit\\\": 0.5130100559949762,<br>    \\\"stop_loss\\\": 0.4249713441618625<br>  }<br>}\",\"{<br>  \\\"number\\\": 906,<br>  \\\"values\\\": [<br>    7.409999999999993,<br>    0.5439246862132775<br>  ],<br>  \\\"params\\\": {<br>    \\\"take_profit\\\": 0.2618110033142434,<br>    \\\"stop_loss\\\": 0.5349177715800677<br>  }<br>}\",\"{<br>  \\\"number\\\": 907,<br>  \\\"values\\\": [<br>    6.349999999999966,<br>    0.5384934063858158<br>  ],<br>  \\\"params\\\": {<br>    \\\"take_profit\\\": 0.4193862236915465,<br>    \\\"stop_loss\\\": 0.23732324978969815<br>  }<br>}\",\"{<br>  \\\"number\\\": 908,<br>  \\\"values\\\": [<br>    6.25999999999997,<br>    0.6247562106632023<br>  ],<br>  \\\"params\\\": {<br>    \\\"take_profit\\\": 0.4638267640219826,<br>    \\\"stop_loss\\\": 0.36448099924503363<br>  }<br>}\",\"{<br>  \\\"number\\\": 909,<br>  \\\"values\\\": [<br>    5.490000000000016,<br>    0.5197210806640667<br>  ],<br>  \\\"params\\\": {<br>    \\\"take_profit\\\": 0.2430636550208381,<br>    \\\"stop_loss\\\": 0.4250026356435156<br>  }<br>}\",\"{<br>  \\\"number\\\": 910,<br>  \\\"values\\\": [<br>    -0.5000000000000027,<br>    0.4662404437982689<br>  ],<br>  \\\"params\\\": {<br>    \\\"take_profit\\\": 0.3666194620239973,<br>    \\\"stop_loss\\\": 0.1465227391244235<br>  }<br>}\",\"{<br>  \\\"number\\\": 912,<br>  \\\"values\\\": [<br>    8.929999999999968,<br>    0.5870223064227758<br>  ],<br>  \\\"params\\\": {<br>    \\\"take_profit\\\": 0.37714521438351606,<br>    \\\"stop_loss\\\": 0.5349177715800677<br>  }<br>}\",\"{<br>  \\\"number\\\": 913,<br>  \\\"values\\\": [<br>    3.9899999999999904,<br>    0.4749494781789643<br>  ],<br>  \\\"params\\\": {<br>    \\\"take_profit\\\": 0.15635221511028574,<br>    \\\"stop_loss\\\": 0.3578387822830585<br>  }<br>}\",\"{<br>  \\\"number\\\": 914,<br>  \\\"values\\\": [<br>    3.829999999999987,<br>    0.4870141132785997<br>  ],<br>  \\\"params\\\": {<br>    \\\"take_profit\\\": 0.2681070771040011,<br>    \\\"stop_loss\\\": 0.3026282171902923<br>  }<br>}\",\"{<br>  \\\"number\\\": 915,<br>  \\\"values\\\": [<br>    4.959999999999983,<br>    0.4869009652035734<br>  ],<br>  \\\"params\\\": {<br>    \\\"take_profit\\\": 0.2843362741225337,<br>    \\\"stop_loss\\\": 0.29129255144850197<br>  }<br>}\",\"{<br>  \\\"number\\\": 916,<br>  \\\"values\\\": [<br>    4.659999999999975,<br>    0.5826560235922235<br>  ],<br>  \\\"params\\\": {<br>    \\\"take_profit\\\": 0.5388164586436414,<br>    \\\"stop_loss\\\": 0.22663739483724937<br>  }<br>}\",\"{<br>  \\\"number\\\": 917,<br>  \\\"values\\\": [<br>    4.650000000000006,<br>    0.5174303288067326<br>  ],<br>  \\\"params\\\": {<br>    \\\"take_profit\\\": 0.2896527684391219,<br>    \\\"stop_loss\\\": 0.38596233258728496<br>  }<br>}\",\"{<br>  \\\"number\\\": 918,<br>  \\\"values\\\": [<br>    1.509999999999978,<br>    0.4791349471473091<br>  ],<br>  \\\"params\\\": {<br>    \\\"take_profit\\\": 0.07893949433514075,<br>    \\\"stop_loss\\\": 0.4409905236964839<br>  }<br>}\",\"{<br>  \\\"number\\\": 919,<br>  \\\"values\\\": [<br>    8.829999999999984,<br>    0.5939418003661826<br>  ],<br>  \\\"params\\\": {<br>    \\\"take_profit\\\": 0.41539992463926473,<br>    \\\"stop_loss\\\": 0.40083287314270877<br>  }<br>}\",\"{<br>  \\\"number\\\": 920,<br>  \\\"values\\\": [<br>    9.909999999999958,<br>    0.606884068144997<br>  ],<br>  \\\"params\\\": {<br>    \\\"take_profit\\\": 0.4193862236915465,<br>    \\\"stop_loss\\\": 0.43824973456478217<br>  }<br>}\",\"{<br>  \\\"number\\\": 921,<br>  \\\"values\\\": [<br>    6.669999999999973,<br>    0.5420162705658229<br>  ],<br>  \\\"params\\\": {<br>    \\\"take_profit\\\": 0.370256740072037,<br>    \\\"stop_loss\\\": 0.3736817867819406<br>  }<br>}\",\"{<br>  \\\"number\\\": 922,<br>  \\\"values\\\": [<br>    0.8099999999999308,<br>    0.4211371455856101<br>  ],<br>  \\\"params\\\": {<br>    \\\"take_profit\\\": 0.0595366319200447,<br>    \\\"stop_loss\\\": 0.25679247000220823<br>  }<br>}\",\"{<br>  \\\"number\\\": 924,<br>  \\\"values\\\": [<br>    -2.5199999999999942,<br>    0.4159819957569686<br>  ],<br>  \\\"params\\\": {<br>    \\\"take_profit\\\": 0.2703140024295009,<br>    \\\"stop_loss\\\": 0.12030866121888818<br>  }<br>}\",\"{<br>  \\\"number\\\": 925,<br>  \\\"values\\\": [<br>    5.699999999999996,<br>    0.5115503802492403<br>  ],<br>  \\\"params\\\": {<br>    \\\"take_profit\\\": 0.15532629544967783,<br>    \\\"stop_loss\\\": 0.5349177715800677<br>  }<br>}\",\"{<br>  \\\"number\\\": 927,<br>  \\\"values\\\": [<br>    1.6599999999999837,<br>    0.4701686953383054<br>  ],<br>  \\\"params\\\": {<br>    \\\"take_profit\\\": 0.07347883079143958,<br>    \\\"stop_loss\\\": 0.41254554790994874<br>  }<br>}\",\"{<br>  \\\"number\\\": 928,<br>  \\\"values\\\": [<br>    8.159999999999979,<br>    0.6221699762042051<br>  ],<br>  \\\"params\\\": {<br>    \\\"take_profit\\\": 0.39180268659945694,<br>    \\\"stop_loss\\\": 0.5349177715800677<br>  }<br>}\",\"{<br>  \\\"number\\\": 929,<br>  \\\"values\\\": [<br>    5.869999999999973,<br>    0.6918602998844582<br>  ],<br>  \\\"params\\\": {<br>    \\\"take_profit\\\": 0.515388724851597,<br>    \\\"stop_loss\\\": 0.4909666675456422<br>  }<br>}\",\"{<br>  \\\"number\\\": 930,<br>  \\\"values\\\": [<br>    7.0199999999999925,<br>    0.6647500489652058<br>  ],<br>  \\\"params\\\": {<br>    \\\"take_profit\\\": 0.5275387932437132,<br>    \\\"stop_loss\\\": 0.4234704987991215<br>  }<br>}\",\"{<br>  \\\"number\\\": 933,<br>  \\\"values\\\": [<br>    3.8399999999999923,<br>    0.48059319769793374<br>  ],<br>  \\\"params\\\": {<br>    \\\"take_profit\\\": 0.301876344515467,<br>    \\\"stop_loss\\\": 0.25760257173708784<br>  }<br>}\",\"{<br>  \\\"number\\\": 937,<br>  \\\"values\\\": [<br>    5.209999999999983,<br>    0.5084858624146474<br>  ],<br>  \\\"params\\\": {<br>    \\\"take_profit\\\": 0.3260141556656956,<br>    \\\"stop_loss\\\": 0.3017915069135645<br>  }<br>}\",\"{<br>  \\\"number\\\": 938,<br>  \\\"values\\\": [<br>    3.899999999999962,<br>    0.5308312877346932<br>  ],<br>  \\\"params\\\": {<br>    \\\"take_profit\\\": 0.4193862236915465,<br>    \\\"stop_loss\\\": 0.21954469124578996<br>  }<br>}\",\"{<br>  \\\"number\\\": 940,<br>  \\\"values\\\": [<br>    4.959999999999983,<br>    0.4869009652035734<br>  ],<br>  \\\"params\\\": {<br>    \\\"take_profit\\\": 0.28400575592318683,<br>    \\\"stop_loss\\\": 0.29129255144850197<br>  }<br>}\",\"{<br>  \\\"number\\\": 941,<br>  \\\"values\\\": [<br>    9.509999999999973,<br>    0.6449318848488379<br>  ],<br>  \\\"params\\\": {<br>    \\\"take_profit\\\": 0.42477134448096265,<br>    \\\"stop_loss\\\": 0.5229170937065689<br>  }<br>}\",\"{<br>  \\\"number\\\": 942,<br>  \\\"values\\\": [<br>    5.239999999999984,<br>    0.5035554732268073<br>  ],<br>  \\\"params\\\": {<br>    \\\"take_profit\\\": 0.35692177448901397,<br>    \\\"stop_loss\\\": 0.2520719724490672<br>  }<br>}\",\"{<br>  \\\"number\\\": 943,<br>  \\\"values\\\": [<br>    -1.6900000000000146,<br>    0.43905407749360925<br>  ],<br>  \\\"params\\\": {<br>    \\\"take_profit\\\": 0.2761527601271156,<br>    \\\"stop_loss\\\": 0.16037654434490953<br>  }<br>}\",\"{<br>  \\\"number\\\": 944,<br>  \\\"values\\\": [<br>    8.069999999999958,<br>    0.5785477577307082<br>  ],<br>  \\\"params\\\": {<br>    \\\"take_profit\\\": 0.36453047990587,<br>    \\\"stop_loss\\\": 0.4583843405119412<br>  }<br>}\",\"{<br>  \\\"number\\\": 945,<br>  \\\"values\\\": [<br>    7.719999999999992,<br>    0.5479382229516031<br>  ],<br>  \\\"params\\\": {<br>    \\\"take_profit\\\": 0.4193862236915465,<br>    \\\"stop_loss\\\": 0.26450213229493325<br>  }<br>}\",\"{<br>  \\\"number\\\": 946,<br>  \\\"values\\\": [<br>    9.059999999999963,<br>    0.621480433306106<br>  ],<br>  \\\"params\\\": {<br>    \\\"take_profit\\\": 0.4199818400707031,<br>    \\\"stop_loss\\\": 0.45896179348384925<br>  }<br>}\",\"{<br>  \\\"number\\\": 949,<br>  \\\"values\\\": [<br>    9.299999999999976,<br>    0.6541994120666111<br>  ],<br>  \\\"params\\\": {<br>    \\\"take_profit\\\": 0.42663054787966076,<br>    \\\"stop_loss\\\": 0.5349177715800677<br>  }<br>}\",\"{<br>  \\\"number\\\": 950,<br>  \\\"values\\\": [<br>    2.6099999999999706,<br>    0.42737452394144543<br>  ],<br>  \\\"params\\\": {<br>    \\\"take_profit\\\": 0.08479379351163474,<br>    \\\"stop_loss\\\": 0.29129255144850197<br>  }<br>}\",\"{<br>  \\\"number\\\": 952,<br>  \\\"values\\\": [<br>    3.0500000000000003,<br>    0.47376420557206395<br>  ],<br>  \\\"params\\\": {<br>    \\\"take_profit\\\": 0.27536135454761507,<br>    \\\"stop_loss\\\": 0.25574574904614966<br>  }<br>}\",\"{<br>  \\\"number\\\": 953,<br>  \\\"values\\\": [<br>    0.02999999999999675,<br>    0.4507486365296438<br>  ],<br>  \\\"params\\\": {<br>    \\\"take_profit\\\": 0.3666194620239973,<br>    \\\"stop_loss\\\": 0.10724547273763532<br>  }<br>}\",\"{<br>  \\\"number\\\": 954,<br>  \\\"values\\\": [<br>    -2.1700000000000403,<br>    0.3893332036833031<br>  ],<br>  \\\"params\\\": {<br>    \\\"take_profit\\\": 0.1861666599651855,<br>    \\\"stop_loss\\\": 0.10162447755994905<br>  }<br>}\",\"{<br>  \\\"number\\\": 955,<br>  \\\"values\\\": [<br>    1.779999999999958,<br>    0.43095139067369925<br>  ],<br>  \\\"params\\\": {<br>    \\\"take_profit\\\": 0.1603520706715647,<br>    \\\"stop_loss\\\": 0.23732324978969815<br>  }<br>}\",\"{<br>  \\\"number\\\": 956,<br>  \\\"values\\\": [<br>    4.859999999999989,<br>    0.5053174042246575<br>  ],<br>  \\\"params\\\": {<br>    \\\"take_profit\\\": 0.3078660168262989,<br>    \\\"stop_loss\\\": 0.3222416345937975<br>  }<br>}\",\"{<br>  \\\"number\\\": 957,<br>  \\\"values\\\": [<br>    5.189999999999962,<br>    0.5808086673296133<br>  ],<br>  \\\"params\\\": {<br>    \\\"take_profit\\\": 0.503057001246137,<br>    \\\"stop_loss\\\": 0.23732324978969815<br>  }<br>}\",\"{<br>  \\\"number\\\": 958,<br>  \\\"values\\\": [<br>    5.969999999999981,<br>    0.5862115298731612<br>  ],<br>  \\\"params\\\": {<br>    \\\"take_profit\\\": 0.4984460666286589,<br>    \\\"stop_loss\\\": 0.25574574904614966<br>  }<br>}\",\"{<br>  \\\"number\\\": 960,<br>  \\\"values\\\": [<br>    4.910000000000011,<br>    0.5381952392538933<br>  ],<br>  \\\"params\\\": {<br>    \\\"take_profit\\\": 0.1505534871210789,<br>    \\\"stop_loss\\\": 0.5956489956746637<br>  }<br>}\",\"{<br>  \\\"number\\\": 961,<br>  \\\"values\\\": [<br>    4.48,<br>    0.47421702052108416<br>  ],<br>  \\\"params\\\": {<br>    \\\"take_profit\\\": 0.23431848563738827,<br>    \\\"stop_loss\\\": 0.2991931878009897<br>  }<br>}\",\"{<br>  \\\"number\\\": 962,<br>  \\\"values\\\": [<br>    7.729999999999983,<br>    0.548524447023982<br>  ],<br>  \\\"params\\\": {<br>    \\\"take_profit\\\": 0.35083604401566054,<br>    \\\"stop_loss\\\": 0.41254554790994874<br>  }<br>}\",\"{<br>  \\\"number\\\": 963,<br>  \\\"values\\\": [<br>    -0.35000000000005116,<br>    0.35905582142517245<br>  ],<br>  \\\"params\\\": {<br>    \\\"take_profit\\\": 0.1592520005431407,<br>    \\\"stop_loss\\\": 0.07088347948068337<br>  }<br>}\",\"{<br>  \\\"number\\\": 964,<br>  \\\"values\\\": [<br>    5.849999999999998,<br>    0.6537421311593486<br>  ],<br>  \\\"params\\\": {<br>    \\\"take_profit\\\": 0.5021387232483483,<br>    \\\"stop_loss\\\": 0.41254554790994874<br>  }<br>}\",\"{<br>  \\\"number\\\": 965,<br>  \\\"values\\\": [<br>    6.869999999999985,<br>    0.6778316909445138<br>  ],<br>  \\\"params\\\": {<br>    \\\"take_profit\\\": 0.5719741206926807,<br>    \\\"stop_loss\\\": 0.4234704987991215<br>  }<br>}\",\"{<br>  \\\"number\\\": 966,<br>  \\\"values\\\": [<br>    4.939999999999982,<br>    0.7152363014727154<br>  ],<br>  \\\"params\\\": {<br>    \\\"take_profit\\\": 0.44486848454425143,<br>    \\\"stop_loss\\\": 0.5937614150596295<br>  }<br>}\",\"{<br>  \\\"number\\\": 967,<br>  \\\"values\\\": [<br>    8.959999999999983,<br>    0.6314773859906613<br>  ],<br>  \\\"params\\\": {<br>    \\\"take_profit\\\": 0.41539992463926473,<br>    \\\"stop_loss\\\": 0.5026090877474579<br>  }<br>}\",\"{<br>  \\\"number\\\": 968,<br>  \\\"values\\\": [<br>    -0.3800000000000061,<br>    0.45928253201583413<br>  ],<br>  \\\"params\\\": {<br>    \\\"take_profit\\\": 0.3788258725085614,<br>    \\\"stop_loss\\\": 0.13169111528752492<br>  }<br>}\",\"{<br>  \\\"number\\\": 969,<br>  \\\"values\\\": [<br>    1.3499999999999592,<br>    0.4636084322338914<br>  ],<br>  \\\"params\\\": {<br>    \\\"take_profit\\\": 0.052349906807558716,<br>    \\\"stop_loss\\\": 0.41254554790994874<br>  }<br>}\",\"{<br>  \\\"number\\\": 970,<br>  \\\"values\\\": [<br>    4.659999999999975,<br>    0.5826560235922235<br>  ],<br>  \\\"params\\\": {<br>    \\\"take_profit\\\": 0.5329273415418554,<br>    \\\"stop_loss\\\": 0.23732324978969815<br>  }<br>}\",\"{<br>  \\\"number\\\": 972,<br>  \\\"values\\\": [<br>    6.349999999999966,<br>    0.5384934063858158<br>  ],<br>  \\\"params\\\": {<br>    \\\"take_profit\\\": 0.41207475740947186,<br>    \\\"stop_loss\\\": 0.2224392774033721<br>  }<br>}\",\"{<br>  \\\"number\\\": 973,<br>  \\\"values\\\": [<br>    -0.33000000000003443,<br>    0.35287433121106293<br>  ],<br>  \\\"params\\\": {<br>    \\\"take_profit\\\": 0.10127042432493341,<br>    \\\"stop_loss\\\": 0.05849119278671498<br>  }<br>}\",\"{<br>  \\\"number\\\": 975,<br>  \\\"values\\\": [<br>    1.1400000000000023,<br>    0.42716041576198377<br>  ],<br>  \\\"params\\\": {<br>    \\\"take_profit\\\": 0.3666194620239973,<br>    \\\"stop_loss\\\": 0.06578369031296406<br>  }<br>}\",\"{<br>  \\\"number\\\": 976,<br>  \\\"values\\\": [<br>    6.300000000000015,<br>    0.545323084432884<br>  ],<br>  \\\"params\\\": {<br>    \\\"take_profit\\\": 0.23871570689181354,<br>    \\\"stop_loss\\\": 0.5349177715800677<br>  }<br>}\",\"{<br>  \\\"number\\\": 977,<br>  \\\"values\\\": [<br>    5.429999999999996,<br>    0.6464270131704555<br>  ],<br>  \\\"params\\\": {<br>    \\\"take_profit\\\": 0.5073189457888814,<br>    \\\"stop_loss\\\": 0.38945344241060487<br>  }<br>}\",\"{<br>  \\\"number\\\": 978,<br>  \\\"values\\\": [<br>    1.0799999999999552,<br>    0.4240957913578523<br>  ],<br>  \\\"params\\\": {<br>    \\\"take_profit\\\": 0.08479379351163474,<br>    \\\"stop_loss\\\": 0.25574574904614966<br>  }<br>}\",\"{<br>  \\\"number\\\": 979,<br>  \\\"values\\\": [<br>    5.839999999999986,<br>    0.652362552119819<br>  ],<br>  \\\"params\\\": {<br>    \\\"take_profit\\\": 0.5668897191190082,<br>    \\\"stop_loss\\\": 0.34555445143910923<br>  }<br>}\",\"{<br>  \\\"number\\\": 980,<br>  \\\"values\\\": [<br>    0.8099999999999308,<br>    0.4211371455856101<br>  ],<br>  \\\"params\\\": {<br>    \\\"take_profit\\\": 0.0595366319200447,<br>    \\\"stop_loss\\\": 0.25574574904614966<br>  }<br>}\",\"{<br>  \\\"number\\\": 981,<br>  \\\"values\\\": [<br>    2.4199999999999906,<br>    0.49943052465378185<br>  ],<br>  \\\"params\\\": {<br>    \\\"take_profit\\\": 0.19447884158687678,<br>    \\\"stop_loss\\\": 0.373265014277942<br>  }<br>}\",\"{<br>  \\\"number\\\": 983,<br>  \\\"values\\\": [<br>    3.35,<br>    0.4910447900422773<br>  ],<br>  \\\"params\\\": {<br>    \\\"take_profit\\\": 0.12397384190526135,<br>    \\\"stop_loss\\\": 0.41254554790994874<br>  }<br>}\",\"{<br>  \\\"number\\\": 984,<br>  \\\"values\\\": [<br>    8.699999999999987,<br>    0.6720433769161531<br>  ],<br>  \\\"params\\\": {<br>    \\\"take_profit\\\": 0.4262947218185719,<br>    \\\"stop_loss\\\": 0.5742850422706178<br>  }<br>}\",\"{<br>  \\\"number\\\": 985,<br>  \\\"values\\\": [<br>    0.7099999999999467,<br>    0.410450956454387<br>  ],<br>  \\\"params\\\": {<br>    \\\"take_profit\\\": 0.13138358969635155,<br>    \\\"stop_loss\\\": 0.20652752349049674<br>  }<br>}\",\"{<br>  \\\"number\\\": 986,<br>  \\\"values\\\": [<br>    2.7799999999999763,<br>    0.4940070075957612<br>  ],<br>  \\\"params\\\": {<br>    \\\"take_profit\\\": 0.4262947218185719,<br>    \\\"stop_loss\\\": 0.10927019904777424<br>  }<br>}\",\"{<br>  \\\"number\\\": 989,<br>  \\\"values\\\": [<br>    2.149999999999995,<br>    0.4932656898728967<br>  ],<br>  \\\"params\\\": {<br>    \\\"take_profit\\\": 0.4193862236915465,<br>    \\\"stop_loss\\\": 0.11985378478422784<br>  }<br>}\",\"{<br>  \\\"number\\\": 991,<br>  \\\"values\\\": [<br>    2.789999999999975,<br>    0.5045189651090215<br>  ],<br>  \\\"params\\\": {<br>    \\\"take_profit\\\": 0.48430296012166907,<br>    \\\"stop_loss\\\": 0.09298081459682067<br>  }<br>}\",\"{<br>  \\\"number\\\": 992,<br>  \\\"values\\\": [<br>    6.349999999999966,<br>    0.5384934063858158<br>  ],<br>  \\\"params\\\": {<br>    \\\"take_profit\\\": 0.4193862236915465,<br>    \\\"stop_loss\\\": 0.23732324978969815<br>  }<br>}\",\"{<br>  \\\"number\\\": 993,<br>  \\\"values\\\": [<br>    5.700000000000003,<br>    0.5419343481329343<br>  ],<br>  \\\"params\\\": {<br>    \\\"take_profit\\\": 0.32537123833868614,<br>    \\\"stop_loss\\\": 0.4019421812586334<br>  }<br>}\",\"{<br>  \\\"number\\\": 995,<br>  \\\"values\\\": [<br>    5.429999999999966,<br>    0.6826772020319728<br>  ],<br>  \\\"params\\\": {<br>    \\\"take_profit\\\": 0.49994529816476496,<br>    \\\"stop_loss\\\": 0.5079199963787265<br>  }<br>}\",\"{<br>  \\\"number\\\": 996,<br>  \\\"values\\\": [<br>    4.790000000000013,<br>    0.5057037021567078<br>  ],<br>  \\\"params\\\": {<br>    \\\"take_profit\\\": 0.13138358969635155,<br>    \\\"stop_loss\\\": 0.5564151074816335<br>  }<br>}\",\"{<br>  \\\"number\\\": 997,<br>  \\\"values\\\": [<br>    4.209999999999999,<br>    0.5265609680060727<br>  ],<br>  \\\"params\\\": {<br>    \\\"take_profit\\\": 0.18145409503957366,<br>    \\\"stop_loss\\\": 0.5070130941730017<br>  }<br>}\",\"{<br>  \\\"number\\\": 998,<br>  \\\"values\\\": [<br>    5.719999999999985,<br>    0.5092765163454378<br>  ],<br>  \\\"params\\\": {<br>    \\\"take_profit\\\": 0.3842960566912375,<br>    \\\"stop_loss\\\": 0.2549150223919173<br>  }<br>}\",\"{<br>  \\\"number\\\": 999,<br>  \\\"values\\\": [<br>    4.919999999999984,<br>    0.633067926845137<br>  ],<br>  \\\"params\\\": {<br>    \\\"take_profit\\\": 0.5026710825292224,<br>    \\\"stop_loss\\\": 0.3283615891138402<br>  }<br>}\"],\"x\":[6.529999999999955,5.489999999999988,2.589999999999956,2.049999999999978,1.2300000000000058,2.5199999999999854,8.049999999999986,-1.3000000000000078,2.3699999999999934,7.959999999999958,4.0199999999999525,-1.74000000000007,5.89999999999997,2.069999999999974,6.1699999999999875,1.9699999999999815,5.959999999999972,-0.7200000000000537,7.059999999999993,6.1699999999999875,1.9099999999999815,7.00999999999998,6.7699999999999925,-0.5599999999999923,4.679999999999978,5.489999999999984,-1.5299999999999976,7.8699999999999655,5.629999999999978,3.5399999999999547,7.789999999999981,-1.0699999999999832,5.330000000000006,4.010000000000001,8.919999999999973,6.579999999999984,8.549999999999983,4.2899999999999485,4.959999999999965,3.4999999999999933,5.909999999999972,5.260000000000016,7.789999999999981,7.5000000000000036,4.449999999999985,-1.9600000000000142,5.5899999999999785,4.609999999999991,2.949999999999943,1.139999999999949,6.7699999999999925,3.3599999999999803,3.0199999999999934,3.449999999999973,0.40999999999999237,-1.5000000000000249,-1.1300000000000483,5.909999999999972,3.4800000000000213,6.569999999999958,5.729999999999997,6.529999999999955,1.739999999999982,4.789999999999999,6.399999999999999,7.479999999999993,3.5999999999999837,6.06000000000002,-0.42000000000004,3.9699999999999864,7.619999999999976,-0.6400000000000514,8.919999999999973,6.349999999999966,5.049999999999969,3.629999999999991,8.049999999999986,7.189999999999996,1.589999999999962,1.2300000000000058,0.309999999999909,2.049999999999978,-0.5599999999999923,9.209999999999976,-2.0199999999999942,6.089999999999968,3.5700000000000105,1.93999999999996,1.9699999999999815,4.959999999999965,2.159999999999986,7.769999999999985,6.219999999999985,6.939999999999987,-0.010000000000021991,8.52999999999998,6.259999999999977,5.789999999999992,4.4699999999999775,3.3400000000000025,5.229999999999974,0.6200000000000001,0.40999999999999237,8.929999999999968,3.9999999999999876,1.2699999999999692,-1.1100000000000483,5.96999999999997,3.629999999999991,5.959999999999962,4.069999999999978,7.6,3.279999999999964,3.38999999999999,-0.5500000000000425,8.189999999999976,1.8199999999999827,6.579999999999984,5.049999999999969,5.459999999999972,1.989999999999986,1.9399999999999689,7.479999999999993,-0.5599999999999923,7.029999999999973,6.679999999999996,5.099999999999994,4.41,6.409999999999966,0.2799999999999461,5.299999999999997,5.490000000000016,3.629999999999991,7.729999999999983,3.5500000000000105,6.489999999999963,7.529999999999973,4.2699999999999845,2.259999999999986,4.010000000000001,-2.090000000000032,2.9299999999999735,7.479999999999993,2.39999999999995,-0.020000000000047535,-2.1400000000000454,4.4800000000000075,0.309999999999909,5.8199999999999825,1.9399999999999689,3.699999999999995,5.959999999999962,-0.6700000000000141,7.909999999999965,5.8199999999999825,5.789999999999992,-1.570000000000046,1.4799999999999507,7.719999999999992,8.84999999999997,1.0799999999999552,7.479999999999993,8.929999999999968,3.039999999999995,2.0499999999999803,8.539999999999985,8.649999999999988,-0.4800000000000466,4.5699999999999825,4.4699999999999775,3.5999999999999837,9.309999999999963,-1.3699999999999886,6.189999999999966,4.139999999999983,5.7699999999999925,6.420000000000002,4.2699999999999845,3.8500000000000036,6.9399999999999835,4.640000000000001,-2.090000000000032,3.3399999999999497,8.879999999999999,3.6899999999999826,9.209999999999976,4.629999999999985,-0.8500000000000187,7.619999999999976,7.339999999999993,3.8599999999999888,8.069999999999958,6.519999999999971,3.019999999999999,2.559999999999987,7.789999999999981,5.489999999999988,7.029999999999973,2.1899999999999826,0.049999999999942146,2.239999999999978,7.029999999999973,6.1699999999999875,0.09999999999999815,5.669999999999952,2.5099999999999616,2.7299999999999605,5.489999999999988,2.37,4.489999999999977,-1.5500000000000578,2.239999999999978,1.8699999999999632,6.529999999999994,8.189999999999966,4.5699999999999825,7.789999999999981,-0.2099999999999999,1.089999999999995,2.329999999999994,9.169999999999963,6.679999999999996,-1.0699999999999832,5.159999999999997,5.499999999999947,3.5799999999999836,2.1799999999999877,7.029999999999973,4.8700000000000125,5.61999999999998,3.3400000000000025,0.6200000000000001,1.5199999999999991,3.3899999999999957,5.85999999999996,7.729999999999983,-0.3399999999999935,-0.3100000000000671,7.729999999999983,8.159999999999979,6.869999999999987,6.420000000000002,-0.4700000000000233,7.029999999999973,0.6900000000000137,7.299999999999995,4.359999999999982,4.059999999999992,6.220000000000006,7.419999999999998,4.5699999999999825,-1.8799999999999937,7.669999999999991,5.909999999999966,3.219999999999939,7.599999999999987,3.1099999999999888,8.189999999999976,-0.2600000000000073,4.2799999999999905,-0.5800000000000634,8.559999999999974,5.729999999999958,1.4899999999999576,5.109999999999999,8.129999999999978,1.2300000000000058,7.699999999999992,2.4199999999999973,6.570000000000011,8.179999999999957,0.6200000000000001,0.029999999999936133,7.089999999999996,4.580000000000002,-0.3399999999999935,1.1699999999999913,-0.2900000000000424,6.1699999999999875,1.1400000000000023,2.149999999999995,2.499999999999981,-0.9800000000000271,7.109999999999982,-0.3399999999999935,1.2899999999999712,1.9299999999999495,8.170000000000007,8.739999999999998,8.889999999999976,7.419999999999998,3.870000000000004,5.729999999999983,5.909999999999972,3.529999999999964,2.2099999999999667,7.849999999999959,0.8999999999999484,0.5500000000000029,7.619999999999976,7.789999999999981,8.709999999999997,-0.920000000000047,6.319999999999997,7.88999999999999,8.499999999999975,2.3699999999999672,5.210000000000008,8.159999999999979,2.979999999999979,6.529999999999994,7.749999999999979,3.3599999999999803,4.110000000000027,6.529999999999994,6.299999999999983,4.299999999999988,6.66,5.959999999999983,5.729999999999958,2.979999999999979,7.719999999999992,7.839999999999971,3.3899999999999957,2.109999999999958,3.3000000000000123,4.599999999999984,6.519999999999971,6.019999999999966,2.499999999999981,8.60999999999996,4.5,8.879999999999999,8.929999999999968,-2.100000000000021,6.029999999999955,-0.8300000000000227,6.1899999999999835,4.670000000000002,5.099999999999994,-0.020000000000012397,6.669999999999973,3.1599999999999593,3.9899999999999904,8.529999999999998,5.519999999999996,3.9699999999999878,8.929999999999968,5.430000000000014,6.319999999999997,6.869999999999985,7.580000000000002,7.059999999999967,2.1299999999999724,7.749999999999979,3.009999999999966,8.699999999999953,2.149999999999995,2.559999999999987,3.039999999999999,3.470000000000008,8.179999999999957,6.1899999999999835,3.809999999999991,7.9499999999999815,7.619999999999976,6.73,3.019999999999973,-1.8400000000000643,3.9800000000000173,7.629999999999985,6.420000000000002,-0.3000000000000338,6.519999999999971,7.409999999999993,7.789999999999981,2.3699999999999672,-1.6399999999999988,6.679999999999996,4.980000000000011,8.579999999999973,4.959999999999983,5.599999999999955,6.61999999999998,5.460000000000004,2.1899999999999826,7.699999999999992,7.390000000000004,7.059999999999967,6.1699999999999875,6.5499999999999865,4.159999999999953,2.789999999999975,5.609999999999985,0.02999999999999675,5.420000000000009,1.4999999999999627,1.5700000000000043,8.609999999999998,5.489999999999988,4.06999999999997,-0.010000000000021991,8.879999999999999,6.220000000000006,5.279999999999964,4.93999999999998,8.069999999999958,2.4199999999999826,5.239999999999984,3.5500000000000105,7.199999999999978,6.0499999999999865,0.43999999999994044,4.2799999999999905,3.1199999999999606,4.010000000000001,2.0899999999999763,5.13999999999999,7.419999999999998,8.159999999999979,2.219999999999986,1.6199999999999672,8.789999999999988,-0.6999999999999929,3.1699999999999906,6.159999999999975,-1.1800000000000674,2.0499999999999803,7.4800000000000075,0.029999999999936133,4.369999999999974,6.61999999999998,8.299999999999983,-0.9800000000000548,-1.3500000000000978,4.569999999999992,1.3499999999999592,5.699999999999996,6.709999999999968,9.299999999999976,-0.19000000000003503,1.799999999999966,5.279999999999964,8.929999999999968,8.929999999999968,7.9499999999999815,7.510000000000009,6.069999999999972,6.4800000000000075,7.9499999999999815,5.849999999999987,5.989999999999984,1.139999999999949,1.089999999999995,5.009999999999955,6.329999999999991,7.719999999999992,-1.0000000000000528,-0.5400000000000267,5.239999999999984,1.9200000000000133,1.3999999999999788,8.189999999999976,2.6399999999999775,6.220000000000006,1.6199999999999672,1.9099999999999615,9.269999999999994,-0.2100000000000508,7.399999999999984,2.3999999999999484,10.499999999999979,0.539999999999949,7.989999999999974,7.4800000000000075,4.700000000000003,-0.3800000000000061,2.1999999999999718,6.0599999999999845,5.889999999999976,5.739999999999988,5.369999999999994,7.389999999999985,6.6099999999999675,6.219999999999974,-2.0199999999999942,6.66,9.909999999999958,6.1600000000000215,5.729999999999997,5.629999999999978,4.2699999999999845,7.719999999999992,8.789999999999988,6.16999999999998,6.220000000000006,5.729999999999983,3.019999999999999,1.4999999999999507,1.089999999999995,7.179999999999989,8.44999999999997,8.429999999999968,2.849999999999965,5.099999999999994,4.630000000000013,-0.4000000000000079,1.1999999999999535,2.109999999999958,0.11999999999999836,8.63999999999998,4.93999999999998,8.659999999999975,5.939999999999987,6.519999999999971,-0.5000000000000027,-0.8500000000000005,1.9299999999999757,-0.30000000000004357,8.709999999999969,4.910000000000011,4.180000000000006,6.570000000000011,7.5099999999999945,8.63999999999998,8.929999999999968,1.1399999999999695,8.929999999999968,3.14000000000001,-0.4100000000000339,-0.3100000000000671,3.500000000000003,0.539999999999949,2.659999999999994,3.5100000000000042,5.239999999999984,7.499999999999984,4.569999999999992,7.479999999999993,2.559999999999987,4.629999999999985,8.43000000000001,4.790000000000006,7.409999999999993,2.4199999999999906,6.809999999999974,-0.1900000000000019,6.61999999999998,6.300000000000015,6.420000000000002,6.80999999999996,-0.15000000000006053,6.609999999999978,8.63999999999998,-2.090000000000032,-1.290000000000017,8.529999999999998,2.2700000000000076,6.059999999999974,8.649999999999977,-0.3399999999999935,4.200000000000006,2.7299999999999605,9.049999999999972,2.1899999999999826,1.3699999999999672,-0.9800000000000271,3.35,2.289999999999973,6.249999999999986,3.81999999999997,4.039999999999996,5.400000000000013,2.229999999999995,8.879999999999999,2.159999999999986,6.590000000000007,7.409999999999993,-0.21000000000004013,6.569999999999958,6.100000000000026,9.069999999999979,5.369999999999983,3.3899999999999406,8.929999999999968,7.719999999999992,8.099999999999977,5.82999999999997,5.659999999999986,2.109999999999958,7.699999999999992,4.879999999999971,3.100000000000026,8.409999999999982,7.9499999999999815,1.9799999999999667,4.729999999999993,3.279999999999964,5.709999999999987,9.019999999999978,-0.010000000000021991,7.179999999999989,6.420000000000002,2.289999999999973,6.179999999999982,3.3599999999999803,6.16999999999998,6.1699999999999875,3.4599999999999542,6.089999999999993,7.749999999999979,3.14000000000001,5.729999999999983,6.1699999999999875,2.109999999999958,7.909999999999965,6.61999999999998,7.169999999999973,1.3499999999999592,8.659999999999975,6.689999999999976,7.9499999999999815,6.869999999999985,2.1899999999999826,5.5299999999999905,4.929999999999982,4.870000000000012,3.5799999999999836,6.059999999999974,6.869999999999985,-2.450000000000009,3.0799999999999934,0.09999999999999815,3.019999999999973,4.48,3.8399999999999923,7.9499999999999815,6.599999999999984,5.729999999999983,4.910000000000011,-1.1100000000000483,-0.8500000000000187,6.61999999999998,8.849999999999973,-2.0900000000000096,4.069999999999997,-0.3000000000000338,6.419999999999977,8.059999999999967,6.420000000000002,-0.16000000000008407,5.93000000000001,1.839999999999966,6.6999999999999815,7.709999999999976,8.299999999999983,4.490000000000023,8.929999999999968,7.419999999999998,3.7199999999999944,7.419999999999998,8.889999999999976,2.949999999999943,6.059999999999974,-2.6800000000000033,-0.33000000000003443,5.449999999999967,5.489999999999988,3.899999999999962,-2.450000000000009,0.6200000000000001,1.8500000000000076,4.5699999999999825,8.429999999999978,7.859999999999989,7.9499999999999815,3.5799999999999836,2.9499999999999367,6.37999999999996,-0.3400000000000407,2.1299999999999724,-0.6900000000000119,3.5999999999999837,3.9699999999999878,4.059999999999992,6.1899999999999835,5.180000000000025,5.430000000000014,2.410000000000006,3.039999999999995,-1.1099999999999959,6.8400000000000105,7.179999999999982,7.909999999999965,2.729999999999989,6.400000000000006,8.579999999999973,2.3899999999999775,8.879999999999999,5.659999999999986,7.499999999999984,5.749999999999972,8.529999999999998,0.6000000000000103,8.549999999999983,2.729999999999989,5.519999999999957,8.919999999999973,1.2899999999999712,7.409999999999993,1.799999999999966,2.0899999999999763,-1.1100000000000225,7.229999999999965,5.429999999999991,4.2300000000000315,3.269999999999995,1.9099999999999615,3.0200000000000053,1.9299999999999495,1.9899999999999718,4.909999999999997,7.419999999999998,6.570000000000011,3.4099999999999877,-0.5900000000000136,-1.2800000000000118,7.719999999999992,0.06999999999995012,6.66999999999998,3.500000000000011,5.93000000000001,6.420000000000002,6.010000000000005,2.499999999999981,2.3699999999999735,4.149999999999995,8.63999999999998,-1.74000000000007,6.119999999999958,9.509999999999973,7.339999999999993,-0.400000000000043,7.190000000000001,7.179999999999989,5.27,-0.11999999999999647,5.019999999999996,5.310000000000002,9.549999999999972,-0.7000000000000055,-0.3000000000000338,2.3999999999999484,7.409999999999993,6.749999999999979,0.02999999999999675,9.059999999999963,6.349999999999966,8.919999999999973,3.81999999999997,6.669999999999973,6.349999999999966,5.459999999999972,8.59999999999998,2.1299999999999724,6.519999999999971,2.8799999999999435,3.3400000000000185,4.240000000000005,6.419999999999977,1.839999999999966,2.7099999999999747,7.419999999999998,1.3399999999999803,6.420000000000002,2.229999999999969,8.649999999999977,6.61999999999998,-0.020000000000055015,6.61999999999998,8.789999999999988,2.4199999999999906,-0.04999999999999982,1.739999999999982,6.7499999999999964,-2.05000000000004,-0.6300000000000328,7.8699999999999655,8.409999999999986,7.00999999999998,-1.0600000000000085,3.81999999999997,8.70999999999999,1.010000000000007,3.1199999999999797,7.629999999999988,3.4800000000000026,2.1299999999999724,7.720000000000002,6.349999999999966,7.9499999999999815,5.409999999999956,5.169999999999991,8.889999999999976,8.449999999999982,-0.6900000000000119,3.910000000000003,6.7899999999999885,7.409999999999993,6.349999999999966,6.25999999999997,5.490000000000016,-0.5000000000000027,8.929999999999968,3.9899999999999904,3.829999999999987,4.959999999999983,4.659999999999975,4.650000000000006,1.509999999999978,8.829999999999984,9.909999999999958,6.669999999999973,0.8099999999999308,-2.5199999999999942,5.699999999999996,1.6599999999999837,8.159999999999979,5.869999999999973,7.0199999999999925,3.8399999999999923,5.209999999999983,3.899999999999962,4.959999999999983,9.509999999999973,5.239999999999984,-1.6900000000000146,8.069999999999958,7.719999999999992,9.059999999999963,9.299999999999976,2.6099999999999706,3.0500000000000003,0.02999999999999675,-2.1700000000000403,1.779999999999958,4.859999999999989,5.189999999999962,5.969999999999981,4.910000000000011,4.48,7.729999999999983,-0.35000000000005116,5.849999999999998,6.869999999999985,4.939999999999982,8.959999999999983,-0.3800000000000061,1.3499999999999592,4.659999999999975,6.349999999999966,-0.33000000000003443,1.1400000000000023,6.300000000000015,5.429999999999996,1.0799999999999552,5.839999999999986,0.8099999999999308,2.4199999999999906,3.35,8.699999999999987,0.7099999999999467,2.7799999999999763,2.149999999999995,2.789999999999975,6.349999999999966,5.700000000000003,5.429999999999966,4.790000000000013,4.209999999999999,5.719999999999985,4.919999999999984],\"y\":[0.6726339739620321,0.5074851431498208,0.5301247809245179,0.48011378508125996,0.42689036667589536,0.4908878362402094,0.5714620331971638,0.4328157735129957,0.4949342836481579,0.5753954313519679,0.5234585029237416,0.3687033231526026,0.6297352203416822,0.48192228912612917,0.6710937136204876,0.5439607986101678,0.5866996470824387,0.39541344924168886,0.6508191632629956,0.6710937136204876,0.4904081298764319,0.7424809037870467,0.6063126695480123,0.4508007142303757,0.5056009637666541,0.5905540384381078,0.4511714407018229,0.6038695561009505,0.6891427828454191,0.5181975892423646,0.5500370584979594,0.44524124408246196,0.5288050238386593,0.47978614532523184,0.5792145793131324,0.6605241023942651,0.6049595027768383,0.5329126107384932,0.5201873547075326,0.5098184869947305,0.6225568317555608,0.5775713807426511,0.5500370584979594,0.5466020921858977,0.47557067732967123,0.40667217069005557,0.5116461087395514,0.5197439267249939,0.5449972915058918,0.48077477861791174,0.6063126695480123,0.4679432145923594,0.4741178937530749,0.4984219147307116,0.44253351690041137,0.431303940212671,0.3785409516519472,0.6225568317555608,0.5221192438524916,0.6865897189565762,0.6521386411310368,0.6726339739620321,0.47035132271739877,0.5256007654242967,0.6564193548049594,0.5477864058546899,0.44874733821351914,0.5441463944122714,0.37498551772589145,0.45695510974092285,0.5626557028947632,0.3991075057061403,0.5792145793131324,0.5384934063858158,0.5209500456183339,0.48036058454961894,0.5714620331971638,0.6969350106213854,0.4863278686727202,0.42689036667589536,0.3453409936799688,0.48011378508125996,0.4508007142303757,0.6438489923031092,0.42142418764912815,0.7147369806094632,0.5067319104624584,0.5679093818093166,0.5439607986101678,0.5201873547075326,0.4945255863507522,0.6019075639388859,0.6660364778626989,0.7437722925809395,0.4669881084737834,0.6641472044631906,0.7151922603197677,0.5266822872412161,0.5004939903485359,0.509729197563083,0.7094108823902746,0.43521040746451817,0.44253351690041137,0.5870223064227758,0.4725222024772062,0.48026616034766234,0.3905804811661667,0.7042613029269191,0.48036058454961894,0.6906063539344784,0.4983789456509713,0.6394190642551492,0.5151458855962182,0.48648446619301977,0.4466748278544831,0.5597608698408264,0.4653341796605213,0.6605241023942651,0.5209500456183339,0.5838012066434896,0.5075894942482571,0.4348202826423773,0.5477864058546899,0.4508007142303757,0.5366364890302899,0.5420866763623196,0.5256259760197045,0.6597735751018657,0.7071963183060546,0.40472411196430214,0.5110256549301566,0.5426699836943746,0.48036058454961894,0.548524447023982,0.5136836239906977,0.6738716890138933,0.5619690145669362,0.4694401583628492,0.4805351265397599,0.47978614532523184,0.37753585589005756,0.5275913381766514,0.5477864058546899,0.4715710325648992,0.45823152858227495,0.3926167655813515,0.5085599910166059,0.3453409936799688,0.5229666351775383,0.4348202826423773,0.48336892902000866,0.6906063539344784,0.417029097256309,0.6161632381882863,0.5229666351775383,0.5266822872412161,0.38311402293656244,0.42694353856683015,0.5479382229516031,0.5884904475909273,0.44778223015289653,0.5477864058546899,0.5870223064227758,0.47370233624966296,0.46101043877766984,0.5765406636124195,0.5524348730980996,0.36538792171243567,0.4485190702761521,0.5004939903485359,0.44874733821351914,0.6381631856644456,0.43854377245512,0.6930559033780033,0.6289513980516386,0.5998367672763506,0.5172961498664638,0.4694401583628492,0.4680968345737438,0.5516458019878563,0.5409514909449425,0.37753585589005756,0.5451840389592529,0.5767027825093065,0.49499260896182024,0.6438489923031092,0.49352407365676554,0.3920324199381328,0.5626557028947632,0.5469530032646341,0.47791077480810773,0.5785477577307082,0.5193321952028793,0.4735810836898332,0.5040649160765645,0.5500370584979594,0.5074851431498208,0.5366364890302899,0.49286136891711296,0.40334299819954395,0.46820359085320007,0.5366364890302899,0.6710937136204876,0.4519136880035372,0.5722702773742467,0.5112618239099664,0.511220574030735,0.5074851431498208,0.4467697642211503,0.6244452939644278,0.36532617764091313,0.46820359085320007,0.4736114068578607,0.5274407959380536,0.584740529707447,0.4485190702761521,0.5500370584979594,0.3990844688899705,0.42992772144956254,0.44755854848386883,0.6198994613596706,0.5420866763623196,0.44524124408246196,0.5100901767956205,0.6812796066433789,0.47025209000387325,0.4803656008354054,0.5366364890302899,0.5259747761922308,0.5102706753972844,0.509729197563083,0.43521040746451817,0.5428602410143848,0.4830281111809425,0.6736962938660869,0.548524447023982,0.45302336897725903,0.34695643712547974,0.548524447023982,0.6221699762042051,0.6035942835809481,0.5172961498664638,0.3897391129682589,0.5366364890302899,0.42123685632958907,0.6800722411315974,0.47589427189733136,0.4990175380454475,0.5250869222632197,0.5439693240421241,0.4485190702761521,0.42271100479261076,0.5686495485495983,0.7034494423759521,0.5526112286271485,0.5475526438531012,0.4759319777209294,0.5597608698408264,0.40165347925899475,0.4812925871947802,0.41081670596245035,0.5847121076982148,0.680813749087623,0.4832167786981528,0.534432267821554,0.5915190519173185,0.42689036667589536,0.551519406748875,0.44726488409354226,0.5434623438497851,0.5769403447334244,0.43521040746451817,0.4040059039647229,0.5434840411815778,0.5006000362375684,0.45302336897725903,0.47091236781502854,0.3530630087249946,0.5297290349836667,0.42716041576198377,0.4932656898728967,0.48353989376017253,0.45477318609791756,0.5734422926671785,0.45302336897725903,0.4534234073858975,0.42948423720942513,0.626172470419301,0.5551614874267249,0.6325984840784596,0.5439693240421241,0.5180750372156978,0.6461967030737316,0.6225568317555608,0.49835390886469977,0.4822257221041026,0.576999277846508,0.44694089894594763,0.4242326728403045,0.5626557028947632,0.5500370584979594,0.5719670968239664,0.4435265407167571,0.6587764050983478,0.5740259337905861,0.5860013981828972,0.4774664304188001,0.5267178501236123,0.6221699762042051,0.4398771311353514,0.5274407959380536,0.5479491780677915,0.4679432145923594,0.5188750727595509,0.5274407959380536,0.5422339508244519,0.5252491076272752,0.5419951826540846,0.5817747588011064,0.680813749087623,0.4398771311353514,0.5479382229516031,0.5821921865423767,0.4830281111809425,0.47661949742821,0.5366298516045636,0.48402588228034704,0.5193321952028793,0.7019025092498714,0.48353989376017253,0.5908240356174431,0.5047780673643624,0.5767027825093065,0.5870223064227758,0.41658113173722894,0.6671454487437186,0.3921821330514237,0.6551003136149738,0.48113607685324583,0.5256259760197045,0.40424888132554454,0.5420162705658229,0.5517518367809289,0.4749494781789643,0.5715449974411286,0.5291155593215601,0.48537780865170865,0.5870223064227758,0.5191724086276638,0.6587764050983478,0.6778316909445138,0.5700797439842002,0.5495080110713253,0.4752053351386301,0.5479491780677915,0.43004418798037725,0.5621040546791435,0.4932656898728967,0.5040649160765645,0.5109951076086733,0.46569586377603145,0.5769403447334244,0.6551003136149738,0.48690112171976113,0.5501061091467967,0.5626557028947632,0.6755710768799629,0.4935612063352356,0.3657994620911148,0.5182185723261311,0.5812414794082738,0.5172961498664638,0.3963960028658621,0.5193321952028793,0.5439246862132775,0.5500370584979594,0.4774664304188001,0.4253127393765584,0.5420866763623196,0.5169982903726775,0.5845376762392608,0.4869009652035734,0.6726971807527129,0.7369432599993881,0.5737058255683969,0.49286136891711296,0.551519406748875,0.5492647517422244,0.5495080110713253,0.5297290349836667,0.7382311708800657,0.533814575662531,0.5045189651090215,0.5134879361769494,0.4507486365296438,0.5191212393947655,0.4900657667929,0.5181234242061477,0.6513569653150606,0.5074851431498208,0.5176567010203944,0.4669881084737834,0.5767027825093065,0.5250869222632197,0.7035385134513225,0.6366832324331606,0.5785477577307082,0.4833771876998535,0.5035554732268073,0.5136836239906977,0.5325688966036501,0.5069104832941058,0.41504060609656196,0.4812925871947802,0.5728712246220788,0.47978614532523184,0.46762869368304283,0.5015346599404977,0.5439693240421241,0.6221699762042051,0.46788156902121886,0.4892530402715614,0.5734807330928685,0.44300182537315846,0.4785889690650794,0.7199582642951722,0.36283598522397215,0.46101043877766984,0.5465156851128834,0.4040059039647229,0.511111559679559,0.7369432599993881,0.5507142836555289,0.40659192158920976,0.3662897188653471,0.522540392909699,0.4636084322338914,0.5115503802492403,0.7208786579867765,0.6541994120666111,0.4626382706836239,0.4594552586132712,0.7035385134513225,0.5870223064227758,0.5870223064227758,0.5501061091467967,0.5466465946505872,0.6227928187626042,0.5462933473372816,0.5501061091467967,0.5430873013164571,0.5921540361118585,0.48077477861791174,0.42992772144956254,0.5786967520630925,0.5295296206635284,0.5479382229516031,0.372393025038,0.3894034973498595,0.5035554732268073,0.5235182287726188,0.48054308953480324,0.5597608698408264,0.4900975191033848,0.5250869222632197,0.4892530402715614,0.4613992687926976,0.6587216125644021,0.4222492540208287,0.5520049779658747,0.42401082372866417,0.5995514993520614,0.4519635512238725,0.5619170317299104,0.5465156851128834,0.532627032317696,0.45928253201583413,0.4619362803414856,0.7698348360138583,0.7674526852291962,0.6474085645886379,0.6608546161192351,0.6931162662638406,0.5793940113257212,0.626200293747112,0.42142418764912815,0.5419951826540846,0.606884068144997,0.5471595131871928,0.6521386411310368,0.6228013023359518,0.4694401583628492,0.5479382229516031,0.5734807330928685,0.6387402865698784,0.5250869222632197,0.5251109802463739,0.4735810836898332,0.4680374522178297,0.42992772144956254,0.7437104727008492,0.6043534370904803,0.6346140661018053,0.5103782089013563,0.5256259760197045,0.5435067646803697,0.4003799213206045,0.47247755253936335,0.47661949742821,0.4014130202877035,0.6469523879623985,0.6366832324331606,0.5539800639766034,0.6397011613853781,0.5193321952028793,0.4662404437982689,0.3924203921137035,0.4602323378026902,0.35673883954322044,0.5854861482996389,0.5381952392538933,0.5252007498011899,0.5434623438497851,0.5999341688100206,0.6469523879623985,0.5870223064227758,0.4603851821622516,0.5870223064227758,0.46554294818962383,0.4542432064319393,0.34695643712547974,0.47466122333669797,0.4519635512238725,0.47923783459702746,0.513591548801764,0.5035554732268073,0.676149523337231,0.522540392909699,0.5477864058546899,0.5040649160765645,0.49352407365676554,0.5529706727634947,0.5183746306012839,0.5439246862132775,0.49943052465378185,0.5349820860539668,0.4485371146403341,0.7369432599993881,0.545323084432884,0.5172961498664638,0.6153714542182356,0.40048415583356617,0.546360035871172,0.6469523879623985,0.37753585589005756,0.42786188527596225,0.5715449974411286,0.5183312059370282,0.7144707289085246,0.5532192653510501,0.45302336897725903,0.49942632378816615,0.511220574030735,0.6300518176612889,0.49286136891711296,0.4909145492559799,0.45477318609791756,0.4910447900422773,0.4831363158220817,0.6891968614946775,0.500838356115939,0.49890867030111935,0.5190212905236803,0.5255212696697283,0.5767027825093065,0.4945255863507522,0.5435542475190795,0.5439246862132775,0.35647248503330775,0.6865897189565762,0.5461454623980657,0.5937478102883597,0.651527078819646,0.5517868601046395,0.5870223064227758,0.5479382229516031,0.5861954271102473,0.7119599468154018,0.5966288910211844,0.47661949742821,0.551519406748875,0.6260492142793411,0.5198831543068042,0.5866521816393612,0.5501061091467967,0.47702860765053373,0.49892095118482316,0.5151458855962182,0.6619152477658878,0.5906202937259662,0.4669881084737834,0.7437104727008492,0.5172961498664638,0.4831363158220817,0.642397346139689,0.4679432145923594,0.6387402865698784,0.5297290349836667,0.5443628336695009,0.6563871709825759,0.5479491780677915,0.46554294818962383,0.5251109802463739,0.5297290349836667,0.47661949742821,0.6161632381882863,0.7369432599993881,0.5674768482795869,0.4636084322338914,0.5539800639766034,0.5277920244681025,0.5501061091467967,0.6778316909445138,0.49286136891711296,0.5059443928930262,0.5039846106088245,0.5044159834650368,0.47025209000387325,0.7144707289085246,0.6778316909445138,0.41293505255413426,0.4883770272773339,0.4519136880035372,0.4935612063352356,0.47421702052108416,0.48059319769793374,0.5501061091467967,0.6093261600713471,0.6461967030737316,0.5381952392538933,0.3905804811661667,0.3920324199381328,0.7369432599993881,0.5670901423492309,0.41075217525827196,0.49907315406436975,0.3963960028658621,0.6530220896975911,0.5572079082627848,0.5172961498664638,0.3909421310087522,0.5435618020540555,0.4679908327105711,0.5278395939037501,0.6201956934910562,0.5507142836555289,0.5210445796029979,0.5870223064227758,0.5439693240421241,0.46690755687466295,0.5439693240421241,0.6325984840784596,0.5449972915058918,0.7144707289085246,0.428167100692828,0.35287433121106293,0.6383091581258599,0.5074851431498208,0.5308312877346932,0.41293505255413426,0.43521040746451817,0.5486742580110043,0.4485190702761521,0.5516685961698382,0.5612970992657261,0.5501061091467967,0.47025209000387325,0.5580797378148458,0.6846004327945711,0.45412951542489016,0.4752053351386301,0.3894806989360962,0.44874733821351914,0.48537780865170865,0.4990175380454475,0.6551003136149738,0.5071184920933286,0.5191724086276638,0.49762959674946894,0.47370233624966296,0.4514207227243323,0.6069278797741668,0.6478057205191945,0.6161632381882863,0.5080091579692305,0.5172010140060528,0.5845376762392608,0.4702165004083073,0.5767027825093065,0.5966288910211844,0.676149523337231,0.5768126982729221,0.5715449974411286,0.4214969048898913,0.6049595027768383,0.5080091579692305,0.6814626270722663,0.5792145793131324,0.4534234073858975,0.5439246862132775,0.4594552586132712,0.46762869368304283,0.4555874300972156,0.5720935357856799,0.7116886059664029,0.5195398109151805,0.510708484225206,0.4613992687926976,0.4647880157125473,0.42948423720942513,0.47411265428895294,0.5445910841070477,0.5439693240421241,0.5434623438497851,0.49640457575899444,0.38883409788580847,0.4329652229654485,0.5479382229516031,0.45924761311876494,0.527699361972335,0.5197338256061944,0.5435618020540555,0.5172961498664638,0.5143526503177455,0.48353989376017253,0.5032104743579121,0.48034551020638294,0.6469523879623985,0.3687033231526026,0.5929850773325224,0.6449318848488379,0.5469530032646341,0.4544527745135228,0.5420434200618024,0.7437104727008492,0.5069572022027307,0.39883669681817985,0.526958501423236,0.4952992618171459,0.6396415584017142,0.4433868373178892,0.3963960028658621,0.42401082372866417,0.5439246862132775,0.5472165703399067,0.4507486365296438,0.621480433306106,0.5384934063858158,0.5792145793131324,0.500838356115939,0.5420162705658229,0.5384934063858158,0.5838012066434896,0.6015365510276345,0.4752053351386301,0.5193321952028793,0.554952677513108,0.5367229563628859,0.47284835962543487,0.5945929229657796,0.4679908327105711,0.47824751452594033,0.5439693240421241,0.4681069247196859,0.5172961498664638,0.4426194264436952,0.5532192653510501,0.7369432599993881,0.3941780027321416,0.7369432599993881,0.5734807330928685,0.49943052465378185,0.46057434985775114,0.47035132271739877,0.6591615026505129,0.37773618381877533,0.45570425612190557,0.6038695561009505,0.6139601902162851,0.7424809037870467,0.3937361521848701,0.500838356115939,0.5749281024975021,0.42467905985018406,0.48484981060424776,0.5661164048359293,0.5124199471834583,0.4752053351386301,0.5661821820848079,0.5384934063858158,0.5501061091467967,0.6824939197866732,0.5069189622849356,0.6325984840784596,0.5758850670346274,0.3894806989360962,0.4885510502340643,0.6623774115477612,0.5439246862132775,0.5384934063858158,0.6247562106632023,0.5197210806640667,0.4662404437982689,0.5870223064227758,0.4749494781789643,0.4870141132785997,0.4869009652035734,0.5826560235922235,0.5174303288067326,0.4791349471473091,0.5939418003661826,0.606884068144997,0.5420162705658229,0.4211371455856101,0.4159819957569686,0.5115503802492403,0.4701686953383054,0.6221699762042051,0.6918602998844582,0.6647500489652058,0.48059319769793374,0.5084858624146474,0.5308312877346932,0.4869009652035734,0.6449318848488379,0.5035554732268073,0.43905407749360925,0.5785477577307082,0.5479382229516031,0.621480433306106,0.6541994120666111,0.42737452394144543,0.47376420557206395,0.4507486365296438,0.3893332036833031,0.43095139067369925,0.5053174042246575,0.5808086673296133,0.5862115298731612,0.5381952392538933,0.47421702052108416,0.548524447023982,0.35905582142517245,0.6537421311593486,0.6778316909445138,0.7152363014727154,0.6314773859906613,0.45928253201583413,0.4636084322338914,0.5826560235922235,0.5384934063858158,0.35287433121106293,0.42716041576198377,0.545323084432884,0.6464270131704555,0.4240957913578523,0.652362552119819,0.4211371455856101,0.49943052465378185,0.4910447900422773,0.6720433769161531,0.410450956454387,0.4940070075957612,0.4932656898728967,0.5045189651090215,0.5384934063858158,0.5419343481329343,0.6826772020319728,0.5057037021567078,0.5265609680060727,0.5092765163454378,0.633067926845137],\"type\":\"scatter\"},{\"hovertemplate\":\"%{text}<extra>Best Trial</extra>\",\"marker\":{\"color\":[54,81,140,152,162,170,179,194,196,209,215,224,278,295,330,333,334,361,372,383,384,393,403,407,411,421,435,438,443,452,464,469,475,477,480,493,495,501,522,528,531,534,539,545,556,574,575,576,579,583,586,593,598,621,627,634,638,647,648,653,667,684,687,699,705,714,717,719,737,744,747,749,753,754,757,758,775,776,781,801,802,818,821,825,827,832,840,845,849,855,861,866,868,874,880,902,903,904,911,923,926,931,932,934,935,936,939,947,948,951,959,971,974,982,987,988,990,994],\"colorbar\":{\"title\":{\"text\":\"Best Trial\"},\"x\":1.1,\"xpad\":40},\"colorscale\":[[0.0,\"rgb(255,245,240)\"],[0.125,\"rgb(254,224,210)\"],[0.25,\"rgb(252,187,161)\"],[0.375,\"rgb(252,146,114)\"],[0.5,\"rgb(251,106,74)\"],[0.625,\"rgb(239,59,44)\"],[0.75,\"rgb(203,24,29)\"],[0.875,\"rgb(165,15,21)\"],[1.0,\"rgb(103,0,13)\"]],\"line\":{\"color\":\"Grey\",\"width\":0.5}},\"mode\":\"markers\",\"showlegend\":false,\"text\":[\"{<br>  \\\"number\\\": 54,<br>  \\\"values\\\": [<br>    8.34,<br>    0.5502561699354089<br>  ],<br>  \\\"params\\\": {<br>    \\\"take_profit\\\": 0.30439065920302155,<br>    \\\"stop_loss\\\": 0.5304113232844587<br>  }<br>}\",\"{<br>  \\\"number\\\": 81,<br>  \\\"values\\\": [<br>    7.389999999999997,<br>    0.5438379486076034<br>  ],<br>  \\\"params\\\": {<br>    \\\"take_profit\\\": 0.2528018514104881,<br>    \\\"stop_loss\\\": 0.5349177715800677<br>  }<br>}\",\"{<br>  \\\"number\\\": 140,<br>  \\\"values\\\": [<br>    5.559999999999974,<br>    0.49333133405392976<br>  ],<br>  \\\"params\\\": {<br>    \\\"take_profit\\\": 0.15532629544967783,<br>    \\\"stop_loss\\\": 0.43824973456478217<br>  }<br>}\",\"{<br>  \\\"number\\\": 152,<br>  \\\"values\\\": [<br>    5.059999999999992,<br>    0.4869723313665133<br>  ],<br>  \\\"params\\\": {<br>    \\\"take_profit\\\": 0.15532629544967783,<br>    \\\"stop_loss\\\": 0.41218749413818806<br>  }<br>}\",\"{<br>  \\\"number\\\": 162,<br>  \\\"values\\\": [<br>    9.839999999999982,<br>    0.5926793343745277<br>  ],<br>  \\\"params\\\": {<br>    \\\"take_profit\\\": 0.4193862236915465,<br>    \\\"stop_loss\\\": 0.41254554790994874<br>  }<br>}\",\"{<br>  \\\"number\\\": 170,<br>  \\\"values\\\": [<br>    2.1299999999999546,<br>    0.4143353224766091<br>  ],<br>  \\\"params\\\": {<br>    \\\"take_profit\\\": 0.10031970000183371,<br>    \\\"stop_loss\\\": 0.2228112396938116<br>  }<br>}\",\"{<br>  \\\"number\\\": 179,<br>  \\\"values\\\": [<br>    8.34,<br>    0.5502561699354089<br>  ],<br>  \\\"params\\\": {<br>    \\\"take_profit\\\": 0.3046618797061607,<br>    \\\"stop_loss\\\": 0.5369060645414534<br>  }<br>}\",\"{<br>  \\\"number\\\": 194,<br>  \\\"values\\\": [<br>    7.389999999999997,<br>    0.5438379486076034<br>  ],<br>  \\\"params\\\": {<br>    \\\"take_profit\\\": 0.2528018514104881,<br>    \\\"stop_loss\\\": 0.5349177715800677<br>  }<br>}\",\"{<br>  \\\"number\\\": 196,<br>  \\\"values\\\": [<br>    8.34,<br>    0.5502561699354089<br>  ],<br>  \\\"params\\\": {<br>    \\\"take_profit\\\": 0.3046618797061607,<br>    \\\"stop_loss\\\": 0.5349177715800677<br>  }<br>}\",\"{<br>  \\\"number\\\": 209,<br>  \\\"values\\\": [<br>    7.389999999999997,<br>    0.5438379486076034<br>  ],<br>  \\\"params\\\": {<br>    \\\"take_profit\\\": 0.2528018514104881,<br>    \\\"stop_loss\\\": 0.5423212697820018<br>  }<br>}\",\"{<br>  \\\"number\\\": 215,<br>  \\\"values\\\": [<br>    8.34,<br>    0.5502561699354089<br>  ],<br>  \\\"params\\\": {<br>    \\\"take_profit\\\": 0.3046618797061607,<br>    \\\"stop_loss\\\": 0.5369060645414534<br>  }<br>}\",\"{<br>  \\\"number\\\": 224,<br>  \\\"values\\\": [<br>    6.059999999999977,<br>    0.5060598488763149<br>  ],<br>  \\\"params\\\": {<br>    \\\"take_profit\\\": 0.3322178556912239,<br>    \\\"stop_loss\\\": 0.29129255144850197<br>  }<br>}\",\"{<br>  \\\"number\\\": 278,<br>  \\\"values\\\": [<br>    4.9199999999999875,<br>    0.4373138172950719<br>  ],<br>  \\\"params\\\": {<br>    \\\"take_profit\\\": 0.13138358969635155,<br>    \\\"stop_loss\\\": 0.3026282171902923<br>  }<br>}\",\"{<br>  \\\"number\\\": 295,<br>  \\\"values\\\": [<br>    0.579999999999925,<br>    0.39619674155432916<br>  ],<br>  \\\"params\\\": {<br>    \\\"take_profit\\\": 0.0595366319200447,<br>    \\\"stop_loss\\\": 0.22234287162233085<br>  }<br>}\",\"{<br>  \\\"number\\\": 330,<br>  \\\"values\\\": [<br>    5.059999999999992,<br>    0.4869723313665133<br>  ],<br>  \\\"params\\\": {<br>    \\\"take_profit\\\": 0.15532629544967783,<br>    \\\"stop_loss\\\": 0.41218749413818806<br>  }<br>}\",\"{<br>  \\\"number\\\": 333,<br>  \\\"values\\\": [<br>    5.559999999999974,<br>    0.49333133405392976<br>  ],<br>  \\\"params\\\": {<br>    \\\"take_profit\\\": 0.15635221511028574,<br>    \\\"stop_loss\\\": 0.43824973456478217<br>  }<br>}\",\"{<br>  \\\"number\\\": 334,<br>  \\\"values\\\": [<br>    9.839999999999982,<br>    0.5926793343745277<br>  ],<br>  \\\"params\\\": {<br>    \\\"take_profit\\\": 0.4193862236915465,<br>    \\\"stop_loss\\\": 0.41254554790994874<br>  }<br>}\",\"{<br>  \\\"number\\\": 361,<br>  \\\"values\\\": [<br>    7.219999999999999,<br>    0.5231284694561709<br>  ],<br>  \\\"params\\\": {<br>    \\\"take_profit\\\": 0.3039315069644288,<br>    \\\"stop_loss\\\": 0.4234704987991215<br>  }<br>}\",\"{<br>  \\\"number\\\": 372,<br>  \\\"values\\\": [<br>    8.839999999999975,<br>    0.5515893628309656<br>  ],<br>  \\\"params\\\": {<br>    \\\"take_profit\\\": 0.42477134448096265,<br>    \\\"stop_loss\\\": 0.25760257173708784<br>  }<br>}\",\"{<br>  \\\"number\\\": 383,<br>  \\\"values\\\": [<br>    0.579999999999925,<br>    0.39619674155432916<br>  ],<br>  \\\"params\\\": {<br>    \\\"take_profit\\\": 0.0595366319200447,<br>    \\\"stop_loss\\\": 0.22234287162233085<br>  }<br>}\",\"{<br>  \\\"number\\\": 384,<br>  \\\"values\\\": [<br>    5.559999999999974,<br>    0.49333133405392976<br>  ],<br>  \\\"params\\\": {<br>    \\\"take_profit\\\": 0.15532629544967783,<br>    \\\"stop_loss\\\": 0.43824973456478217<br>  }<br>}\",\"{<br>  \\\"number\\\": 393,<br>  \\\"values\\\": [<br>    8.34,<br>    0.5502561699354089<br>  ],<br>  \\\"params\\\": {<br>    \\\"take_profit\\\": 0.3046618797061607,<br>    \\\"stop_loss\\\": 0.5349177715800677<br>  }<br>}\",\"{<br>  \\\"number\\\": 403,<br>  \\\"values\\\": [<br>    0.579999999999925,<br>    0.39619674155432916<br>  ],<br>  \\\"params\\\": {<br>    \\\"take_profit\\\": 0.0595366319200447,<br>    \\\"stop_loss\\\": 0.22234287162233085<br>  }<br>}\",\"{<br>  \\\"number\\\": 407,<br>  \\\"values\\\": [<br>    8.34,<br>    0.5502561699354089<br>  ],<br>  \\\"params\\\": {<br>    \\\"take_profit\\\": 0.3046618797061607,<br>    \\\"stop_loss\\\": 0.5349177715800677<br>  }<br>}\",\"{<br>  \\\"number\\\": 411,<br>  \\\"values\\\": [<br>    9.839999999999982,<br>    0.5926793343745277<br>  ],<br>  \\\"params\\\": {<br>    \\\"take_profit\\\": 0.4193862236915465,<br>    \\\"stop_loss\\\": 0.41254554790994874<br>  }<br>}\",\"{<br>  \\\"number\\\": 421,<br>  \\\"values\\\": [<br>    8.34,<br>    0.5502561699354089<br>  ],<br>  \\\"params\\\": {<br>    \\\"take_profit\\\": 0.3046618797061607,<br>    \\\"stop_loss\\\": 0.5349177715800677<br>  }<br>}\",\"{<br>  \\\"number\\\": 435,<br>  \\\"values\\\": [<br>    8.839999999999975,<br>    0.5515893628309656<br>  ],<br>  \\\"params\\\": {<br>    \\\"take_profit\\\": 0.42545111034469985,<br>    \\\"stop_loss\\\": 0.25760257173708784<br>  }<br>}\",\"{<br>  \\\"number\\\": 438,<br>  \\\"values\\\": [<br>    8.34,<br>    0.5502561699354089<br>  ],<br>  \\\"params\\\": {<br>    \\\"take_profit\\\": 0.3046618797061607,<br>    \\\"stop_loss\\\": 0.5369060645414534<br>  }<br>}\",\"{<br>  \\\"number\\\": 443,<br>  \\\"values\\\": [<br>    5.059999999999992,<br>    0.4869723313665133<br>  ],<br>  \\\"params\\\": {<br>    \\\"take_profit\\\": 0.15532629544967783,<br>    \\\"stop_loss\\\": 0.41218749413818806<br>  }<br>}\",\"{<br>  \\\"number\\\": 452,<br>  \\\"values\\\": [<br>    6.059999999999977,<br>    0.5060598488763149<br>  ],<br>  \\\"params\\\": {<br>    \\\"take_profit\\\": 0.3322178556912239,<br>    \\\"stop_loss\\\": 0.29129255144850197<br>  }<br>}\",\"{<br>  \\\"number\\\": 464,<br>  \\\"values\\\": [<br>    5.059999999999992,<br>    0.4869723313665133<br>  ],<br>  \\\"params\\\": {<br>    \\\"take_profit\\\": 0.15532629544967783,<br>    \\\"stop_loss\\\": 0.41254554790994874<br>  }<br>}\",\"{<br>  \\\"number\\\": 469,<br>  \\\"values\\\": [<br>    0.579999999999925,<br>    0.39619674155432916<br>  ],<br>  \\\"params\\\": {<br>    \\\"take_profit\\\": 0.0595366319200447,<br>    \\\"stop_loss\\\": 0.22234287162233085<br>  }<br>}\",\"{<br>  \\\"number\\\": 475,<br>  \\\"values\\\": [<br>    8.179999999999978,<br>    0.5441984884879929<br>  ],<br>  \\\"params\\\": {<br>    \\\"take_profit\\\": 0.41889084018018036,<br>    \\\"stop_loss\\\": 0.25760257173708784<br>  }<br>}\",\"{<br>  \\\"number\\\": 477,<br>  \\\"values\\\": [<br>    0.4299999999999198,<br>    0.3421673713257881<br>  ],<br>  \\\"params\\\": {<br>    \\\"take_profit\\\": 0.0595366319200447,<br>    \\\"stop_loss\\\": 0.05286499173453086<br>  }<br>}\",\"{<br>  \\\"number\\\": 480,<br>  \\\"values\\\": [<br>    5.059999999999992,<br>    0.4869723313665133<br>  ],<br>  \\\"params\\\": {<br>    \\\"take_profit\\\": 0.15532629544967783,<br>    \\\"stop_loss\\\": 0.41218749413818806<br>  }<br>}\",\"{<br>  \\\"number\\\": 493,<br>  \\\"values\\\": [<br>    10.539999999999981,<br>    0.5961558731025934<br>  ],<br>  \\\"params\\\": {<br>    \\\"take_profit\\\": 0.4193862236915465,<br>    \\\"stop_loss\\\": 0.4234704987991215<br>  }<br>}\",\"{<br>  \\\"number\\\": 495,<br>  \\\"values\\\": [<br>    8.34,<br>    0.5502561699354089<br>  ],<br>  \\\"params\\\": {<br>    \\\"take_profit\\\": 0.3018572374235954,<br>    \\\"stop_loss\\\": 0.5369060645414534<br>  }<br>}\",\"{<br>  \\\"number\\\": 501,<br>  \\\"values\\\": [<br>    5.059999999999992,<br>    0.4869723313665133<br>  ],<br>  \\\"params\\\": {<br>    \\\"take_profit\\\": 0.15532629544967783,<br>    \\\"stop_loss\\\": 0.41218749413818806<br>  }<br>}\",\"{<br>  \\\"number\\\": 522,<br>  \\\"values\\\": [<br>    6.059999999999977,<br>    0.5060598488763149<br>  ],<br>  \\\"params\\\": {<br>    \\\"take_profit\\\": 0.3335223475467165,<br>    \\\"stop_loss\\\": 0.29859349885281383<br>  }<br>}\",\"{<br>  \\\"number\\\": 528,<br>  \\\"values\\\": [<br>    0.579999999999925,<br>    0.39619674155432916<br>  ],<br>  \\\"params\\\": {<br>    \\\"take_profit\\\": 0.0595366319200447,<br>    \\\"stop_loss\\\": 0.22234287162233085<br>  }<br>}\",\"{<br>  \\\"number\\\": 531,<br>  \\\"values\\\": [<br>    5.559999999999974,<br>    0.49333133405392976<br>  ],<br>  \\\"params\\\": {<br>    \\\"take_profit\\\": 0.15635221511028574,<br>    \\\"stop_loss\\\": 0.43824973456478217<br>  }<br>}\",\"{<br>  \\\"number\\\": 534,<br>  \\\"values\\\": [<br>    8.34,<br>    0.5502561699354089<br>  ],<br>  \\\"params\\\": {<br>    \\\"take_profit\\\": 0.3046618797061607,<br>    \\\"stop_loss\\\": 0.5349177715800677<br>  }<br>}\",\"{<br>  \\\"number\\\": 539,<br>  \\\"values\\\": [<br>    7.219999999999999,<br>    0.5231284694561709<br>  ],<br>  \\\"params\\\": {<br>    \\\"take_profit\\\": 0.30244684131197064,<br>    \\\"stop_loss\\\": 0.4234704987991215<br>  }<br>}\",\"{<br>  \\\"number\\\": 545,<br>  \\\"values\\\": [<br>    8.34,<br>    0.5502561699354089<br>  ],<br>  \\\"params\\\": {<br>    \\\"take_profit\\\": 0.3046618797061607,<br>    \\\"stop_loss\\\": 0.5369060645414534<br>  }<br>}\",\"{<br>  \\\"number\\\": 556,<br>  \\\"values\\\": [<br>    8.34,<br>    0.5502561699354089<br>  ],<br>  \\\"params\\\": {<br>    \\\"take_profit\\\": 0.3046618797061607,<br>    \\\"stop_loss\\\": 0.5369060645414534<br>  }<br>}\",\"{<br>  \\\"number\\\": 574,<br>  \\\"values\\\": [<br>    7.219999999999999,<br>    0.5231284694561709<br>  ],<br>  \\\"params\\\": {<br>    \\\"take_profit\\\": 0.3039315069644288,<br>    \\\"stop_loss\\\": 0.4234704987991215<br>  }<br>}\",\"{<br>  \\\"number\\\": 575,<br>  \\\"values\\\": [<br>    3.1499999999999666,<br>    0.4239149828758257<br>  ],<br>  \\\"params\\\": {<br>    \\\"take_profit\\\": 0.13138358969635155,<br>    \\\"stop_loss\\\": 0.24429633598756528<br>  }<br>}\",\"{<br>  \\\"number\\\": 576,<br>  \\\"values\\\": [<br>    8.34,<br>    0.5502561699354089<br>  ],<br>  \\\"params\\\": {<br>    \\\"take_profit\\\": 0.3046618797061607,<br>    \\\"stop_loss\\\": 0.5349177715800677<br>  }<br>}\",\"{<br>  \\\"number\\\": 579,<br>  \\\"values\\\": [<br>    8.839999999999975,<br>    0.5515893628309656<br>  ],<br>  \\\"params\\\": {<br>    \\\"take_profit\\\": 0.42477134448096265,<br>    \\\"stop_loss\\\": 0.2560007631902935<br>  }<br>}\",\"{<br>  \\\"number\\\": 583,<br>  \\\"values\\\": [<br>    7.219999999999999,<br>    0.5231284694561709<br>  ],<br>  \\\"params\\\": {<br>    \\\"take_profit\\\": 0.30244684131197064,<br>    \\\"stop_loss\\\": 0.4234704987991215<br>  }<br>}\",\"{<br>  \\\"number\\\": 586,<br>  \\\"values\\\": [<br>    9.839999999999982,<br>    0.5926793343745277<br>  ],<br>  \\\"params\\\": {<br>    \\\"take_profit\\\": 0.4193862236915465,<br>    \\\"stop_loss\\\": 0.41254554790994874<br>  }<br>}\",\"{<br>  \\\"number\\\": 593,<br>  \\\"values\\\": [<br>    8.34,<br>    0.5502561699354089<br>  ],<br>  \\\"params\\\": {<br>    \\\"take_profit\\\": 0.3039315069644288,<br>    \\\"stop_loss\\\": 0.5349177715800677<br>  }<br>}\",\"{<br>  \\\"number\\\": 598,<br>  \\\"values\\\": [<br>    8.34,<br>    0.5502561699354089<br>  ],<br>  \\\"params\\\": {<br>    \\\"take_profit\\\": 0.3046618797061607,<br>    \\\"stop_loss\\\": 0.5369060645414534<br>  }<br>}\",\"{<br>  \\\"number\\\": 621,<br>  \\\"values\\\": [<br>    0.579999999999925,<br>    0.39619674155432916<br>  ],<br>  \\\"params\\\": {<br>    \\\"take_profit\\\": 0.0595366319200447,<br>    \\\"stop_loss\\\": 0.22234287162233085<br>  }<br>}\",\"{<br>  \\\"number\\\": 627,<br>  \\\"values\\\": [<br>    5.059999999999992,<br>    0.4869723313665133<br>  ],<br>  \\\"params\\\": {<br>    \\\"take_profit\\\": 0.1592520005431407,<br>    \\\"stop_loss\\\": 0.41254554790994874<br>  }<br>}\",\"{<br>  \\\"number\\\": 634,<br>  \\\"values\\\": [<br>    8.839999999999975,<br>    0.5515893628309656<br>  ],<br>  \\\"params\\\": {<br>    \\\"take_profit\\\": 0.42477134448096265,<br>    \\\"stop_loss\\\": 0.25760257173708784<br>  }<br>}\",\"{<br>  \\\"number\\\": 638,<br>  \\\"values\\\": [<br>    8.179999999999978,<br>    0.5441984884879929<br>  ],<br>  \\\"params\\\": {<br>    \\\"take_profit\\\": 0.4193862236915465,<br>    \\\"stop_loss\\\": 0.25574574904614966<br>  }<br>}\",\"{<br>  \\\"number\\\": 647,<br>  \\\"values\\\": [<br>    0.8999999999999466,<br>    0.39885710814265407<br>  ],<br>  \\\"params\\\": {<br>    \\\"take_profit\\\": 0.08479379351163474,<br>    \\\"stop_loss\\\": 0.23732324978969815<br>  }<br>}\",\"{<br>  \\\"number\\\": 648,<br>  \\\"values\\\": [<br>    7.219999999999999,<br>    0.5231284694561709<br>  ],<br>  \\\"params\\\": {<br>    \\\"take_profit\\\": 0.30244684131197064,<br>    \\\"stop_loss\\\": 0.4234704987991215<br>  }<br>}\",\"{<br>  \\\"number\\\": 653,<br>  \\\"values\\\": [<br>    6.059999999999977,<br>    0.5060598488763149<br>  ],<br>  \\\"params\\\": {<br>    \\\"take_profit\\\": 0.3322178556912239,<br>    \\\"stop_loss\\\": 0.29129255144850197<br>  }<br>}\",\"{<br>  \\\"number\\\": 667,<br>  \\\"values\\\": [<br>    7.220000000000002,<br>    0.5421760690982197<br>  ],<br>  \\\"params\\\": {<br>    \\\"take_profit\\\": 0.2707966097582291,<br>    \\\"stop_loss\\\": 0.5277578428623528<br>  }<br>}\",\"{<br>  \\\"number\\\": 684,<br>  \\\"values\\\": [<br>    8.839999999999975,<br>    0.5515893628309656<br>  ],<br>  \\\"params\\\": {<br>    \\\"take_profit\\\": 0.42477134448096265,<br>    \\\"stop_loss\\\": 0.25760257173708784<br>  }<br>}\",\"{<br>  \\\"number\\\": 687,<br>  \\\"values\\\": [<br>    8.839999999999975,<br>    0.5515893628309656<br>  ],<br>  \\\"params\\\": {<br>    \\\"take_profit\\\": 0.42806112792762335,<br>    \\\"stop_loss\\\": 0.25760257173708784<br>  }<br>}\",\"{<br>  \\\"number\\\": 699,<br>  \\\"values\\\": [<br>    7.219999999999999,<br>    0.5231284694561709<br>  ],<br>  \\\"params\\\": {<br>    \\\"take_profit\\\": 0.3039315069644288,<br>    \\\"stop_loss\\\": 0.4234704987991215<br>  }<br>}\",\"{<br>  \\\"number\\\": 705,<br>  \\\"values\\\": [<br>    7.389999999999997,<br>    0.5438379486076034<br>  ],<br>  \\\"params\\\": {<br>    \\\"take_profit\\\": 0.2528018514104881,<br>    \\\"stop_loss\\\": 0.5349177715800677<br>  }<br>}\",\"{<br>  \\\"number\\\": 714,<br>  \\\"values\\\": [<br>    8.179999999999978,<br>    0.5441984884879929<br>  ],<br>  \\\"params\\\": {<br>    \\\"take_profit\\\": 0.4193862236915465,<br>    \\\"stop_loss\\\": 0.25574574904614966<br>  }<br>}\",\"{<br>  \\\"number\\\": 717,<br>  \\\"values\\\": [<br>    0.8999999999999466,<br>    0.39885710814265407<br>  ],<br>  \\\"params\\\": {<br>    \\\"take_profit\\\": 0.08479379351163474,<br>    \\\"stop_loss\\\": 0.23732324978969815<br>  }<br>}\",\"{<br>  \\\"number\\\": 719,<br>  \\\"values\\\": [<br>    8.34,<br>    0.5502561699354089<br>  ],<br>  \\\"params\\\": {<br>    \\\"take_profit\\\": 0.3039315069644288,<br>    \\\"stop_loss\\\": 0.5349177715800677<br>  }<br>}\",\"{<br>  \\\"number\\\": 737,<br>  \\\"values\\\": [<br>    5.679999999999982,<br>    0.502918626869445<br>  ],<br>  \\\"params\\\": {<br>    \\\"take_profit\\\": 0.32537123833868614,<br>    \\\"stop_loss\\\": 0.29129255144850197<br>  }<br>}\",\"{<br>  \\\"number\\\": 744,<br>  \\\"values\\\": [<br>    5.059999999999992,<br>    0.4869723313665133<br>  ],<br>  \\\"params\\\": {<br>    \\\"take_profit\\\": 0.1592520005431407,<br>    \\\"stop_loss\\\": 0.41254554790994874<br>  }<br>}\",\"{<br>  \\\"number\\\": 747,<br>  \\\"values\\\": [<br>    8.919999999999952,<br>    0.5636311982171307<br>  ],<br>  \\\"params\\\": {<br>    \\\"take_profit\\\": 0.3666194620239973,<br>    \\\"stop_loss\\\": 0.433907960374479<br>  }<br>}\",\"{<br>  \\\"number\\\": 749,<br>  \\\"values\\\": [<br>    7.219999999999999,<br>    0.5231284694561709<br>  ],<br>  \\\"params\\\": {<br>    \\\"take_profit\\\": 0.3039315069644288,<br>    \\\"stop_loss\\\": 0.42718311028329875<br>  }<br>}\",\"{<br>  \\\"number\\\": 753,<br>  \\\"values\\\": [<br>    9.57999999999997,<br>    0.5862981569891625<br>  ],<br>  \\\"params\\\": {<br>    \\\"take_profit\\\": 0.4262947218185719,<br>    \\\"stop_loss\\\": 0.35853413327895484<br>  }<br>}\",\"{<br>  \\\"number\\\": 754,<br>  \\\"values\\\": [<br>    8.919999999999952,<br>    0.5636311982171307<br>  ],<br>  \\\"params\\\": {<br>    \\\"take_profit\\\": 0.3666194620239973,<br>    \\\"stop_loss\\\": 0.433907960374479<br>  }<br>}\",\"{<br>  \\\"number\\\": 757,<br>  \\\"values\\\": [<br>    7.389999999999997,<br>    0.5438379486076034<br>  ],<br>  \\\"params\\\": {<br>    \\\"take_profit\\\": 0.2528018514104881,<br>    \\\"stop_loss\\\": 0.5349177715800677<br>  }<br>}\",\"{<br>  \\\"number\\\": 758,<br>  \\\"values\\\": [<br>    5.559999999999974,<br>    0.49333133405392976<br>  ],<br>  \\\"params\\\": {<br>    \\\"take_profit\\\": 0.15635221511028574,<br>    \\\"stop_loss\\\": 0.43824973456478217<br>  }<br>}\",\"{<br>  \\\"number\\\": 775,<br>  \\\"values\\\": [<br>    0.579999999999925,<br>    0.39619674155432916<br>  ],<br>  \\\"params\\\": {<br>    \\\"take_profit\\\": 0.0595366319200447,<br>    \\\"stop_loss\\\": 0.23732324978969815<br>  }<br>}\",\"{<br>  \\\"number\\\": 776,<br>  \\\"values\\\": [<br>    0.579999999999925,<br>    0.39619674155432916<br>  ],<br>  \\\"params\\\": {<br>    \\\"take_profit\\\": 0.0595366319200447,<br>    \\\"stop_loss\\\": 0.22904819369272045<br>  }<br>}\",\"{<br>  \\\"number\\\": 781,<br>  \\\"values\\\": [<br>    0.579999999999925,<br>    0.39619674155432916<br>  ],<br>  \\\"params\\\": {<br>    \\\"take_profit\\\": 0.0595366319200447,<br>    \\\"stop_loss\\\": 0.22234287162233085<br>  }<br>}\",\"{<br>  \\\"number\\\": 801,<br>  \\\"values\\\": [<br>    0.579999999999925,<br>    0.39619674155432916<br>  ],<br>  \\\"params\\\": {<br>    \\\"take_profit\\\": 0.0595366319200447,<br>    \\\"stop_loss\\\": 0.23732324978969815<br>  }<br>}\",\"{<br>  \\\"number\\\": 802,<br>  \\\"values\\\": [<br>    7.389999999999997,<br>    0.5438379486076034<br>  ],<br>  \\\"params\\\": {<br>    \\\"take_profit\\\": 0.2528018514104881,<br>    \\\"stop_loss\\\": 0.5349177715800677<br>  }<br>}\",\"{<br>  \\\"number\\\": 818,<br>  \\\"values\\\": [<br>    0.579999999999925,<br>    0.39619674155432916<br>  ],<br>  \\\"params\\\": {<br>    \\\"take_profit\\\": 0.0595366319200447,<br>    \\\"stop_loss\\\": 0.23732324978969815<br>  }<br>}\",\"{<br>  \\\"number\\\": 821,<br>  \\\"values\\\": [<br>    7.219999999999999,<br>    0.5231284694561709<br>  ],<br>  \\\"params\\\": {<br>    \\\"take_profit\\\": 0.3039315069644288,<br>    \\\"stop_loss\\\": 0.42718311028329875<br>  }<br>}\",\"{<br>  \\\"number\\\": 825,<br>  \\\"values\\\": [<br>    6.98999999999997,<br>    0.5136998317566166<br>  ],<br>  \\\"params\\\": {<br>    \\\"take_profit\\\": 0.37837947190872045,<br>    \\\"stop_loss\\\": 0.29883191163474915<br>  }<br>}\",\"{<br>  \\\"number\\\": 827,<br>  \\\"values\\\": [<br>    10.539999999999981,<br>    0.5961558731025934<br>  ],<br>  \\\"params\\\": {<br>    \\\"take_profit\\\": 0.41539992463926473,<br>    \\\"stop_loss\\\": 0.4250026356435156<br>  }<br>}\",\"{<br>  \\\"number\\\": 832,<br>  \\\"values\\\": [<br>    6.059999999999977,<br>    0.5060598488763149<br>  ],<br>  \\\"params\\\": {<br>    \\\"take_profit\\\": 0.3322178556912239,<br>    \\\"stop_loss\\\": 0.29129255144850197<br>  }<br>}\",\"{<br>  \\\"number\\\": 840,<br>  \\\"values\\\": [<br>    10.679999999999982,<br>    0.6150631173834141<br>  ],<br>  \\\"params\\\": {<br>    \\\"take_profit\\\": 0.43445111787243207,<br>    \\\"stop_loss\\\": 0.4234704987991215<br>  }<br>}\",\"{<br>  \\\"number\\\": 845,<br>  \\\"values\\\": [<br>    9.089999999999982,<br>    0.5742030930834443<br>  ],<br>  \\\"params\\\": {<br>    \\\"take_profit\\\": 0.41539992463926473,<br>    \\\"stop_loss\\\": 0.3317475026057835<br>  }<br>}\",\"{<br>  \\\"number\\\": 849,<br>  \\\"values\\\": [<br>    7.389999999999997,<br>    0.5438379486076034<br>  ],<br>  \\\"params\\\": {<br>    \\\"take_profit\\\": 0.2528018514104881,<br>    \\\"stop_loss\\\": 0.5349177715800677<br>  }<br>}\",\"{<br>  \\\"number\\\": 855,<br>  \\\"values\\\": [<br>    0.4299999999999198,<br>    0.3421673713257881<br>  ],<br>  \\\"params\\\": {<br>    \\\"take_profit\\\": 0.0595366319200447,<br>    \\\"stop_loss\\\": 0.05286499173453086<br>  }<br>}\",\"{<br>  \\\"number\\\": 861,<br>  \\\"values\\\": [<br>    9.839999999999982,<br>    0.5926793343745277<br>  ],<br>  \\\"params\\\": {<br>    \\\"take_profit\\\": 0.4193862236915465,<br>    \\\"stop_loss\\\": 0.41254554790994874<br>  }<br>}\",\"{<br>  \\\"number\\\": 866,<br>  \\\"values\\\": [<br>    10.539999999999981,<br>    0.5961558731025934<br>  ],<br>  \\\"params\\\": {<br>    \\\"take_profit\\\": 0.4193862236915465,<br>    \\\"stop_loss\\\": 0.4234704987991215<br>  }<br>}\",\"{<br>  \\\"number\\\": 868,<br>  \\\"values\\\": [<br>    8.34,<br>    0.5502561699354089<br>  ],<br>  \\\"params\\\": {<br>    \\\"take_profit\\\": 0.3039315069644288,<br>    \\\"stop_loss\\\": 0.5349177715800677<br>  }<br>}\",\"{<br>  \\\"number\\\": 874,<br>  \\\"values\\\": [<br>    7.219999999999999,<br>    0.5231284694561709<br>  ],<br>  \\\"params\\\": {<br>    \\\"take_profit\\\": 0.3039315069644288,<br>    \\\"stop_loss\\\": 0.4234704987991215<br>  }<br>}\",\"{<br>  \\\"number\\\": 880,<br>  \\\"values\\\": [<br>    9.089999999999982,<br>    0.5742030930834443<br>  ],<br>  \\\"params\\\": {<br>    \\\"take_profit\\\": 0.4193862236915465,<br>    \\\"stop_loss\\\": 0.3317475026057835<br>  }<br>}\",\"{<br>  \\\"number\\\": 902,<br>  \\\"values\\\": [<br>    9.839999999999982,<br>    0.5926793343745277<br>  ],<br>  \\\"params\\\": {<br>    \\\"take_profit\\\": 0.4193862236915465,<br>    \\\"stop_loss\\\": 0.41254554790994874<br>  }<br>}\",\"{<br>  \\\"number\\\": 903,<br>  \\\"values\\\": [<br>    7.219999999999999,<br>    0.5231284694561709<br>  ],<br>  \\\"params\\\": {<br>    \\\"take_profit\\\": 0.3039315069644288,<br>    \\\"stop_loss\\\": 0.4234704987991215<br>  }<br>}\",\"{<br>  \\\"number\\\": 904,<br>  \\\"values\\\": [<br>    8.919999999999952,<br>    0.5636311982171307<br>  ],<br>  \\\"params\\\": {<br>    \\\"take_profit\\\": 0.3666194620239973,<br>    \\\"stop_loss\\\": 0.433907960374479<br>  }<br>}\",\"{<br>  \\\"number\\\": 911,<br>  \\\"values\\\": [<br>    7.5199999999999605,<br>    0.5439039437253603<br>  ],<br>  \\\"params\\\": {<br>    \\\"take_profit\\\": 0.4193862236915465,<br>    \\\"stop_loss\\\": 0.24429633598756528<br>  }<br>}\",\"{<br>  \\\"number\\\": 923,<br>  \\\"values\\\": [<br>    8.919999999999952,<br>    0.5636311982171307<br>  ],<br>  \\\"params\\\": {<br>    \\\"take_profit\\\": 0.3666194620239973,<br>    \\\"stop_loss\\\": 0.433907960374479<br>  }<br>}\",\"{<br>  \\\"number\\\": 926,<br>  \\\"values\\\": [<br>    8.2,<br>    0.5494596455804591<br>  ],<br>  \\\"params\\\": {<br>    \\\"take_profit\\\": 0.29714740025572073,<br>    \\\"stop_loss\\\": 0.5349177715800677<br>  }<br>}\",\"{<br>  \\\"number\\\": 931,<br>  \\\"values\\\": [<br>    0.8999999999999466,<br>    0.39885710814265407<br>  ],<br>  \\\"params\\\": {<br>    \\\"take_profit\\\": 0.08479379351163474,<br>    \\\"stop_loss\\\": 0.23732324978969815<br>  }<br>}\",\"{<br>  \\\"number\\\": 932,<br>  \\\"values\\\": [<br>    8.919999999999952,<br>    0.5636311982171307<br>  ],<br>  \\\"params\\\": {<br>    \\\"take_profit\\\": 0.3666194620239973,<br>    \\\"stop_loss\\\": 0.433907960374479<br>  }<br>}\",\"{<br>  \\\"number\\\": 934,<br>  \\\"values\\\": [<br>    7.409999999999997,<br>    0.5438381131672675<br>  ],<br>  \\\"params\\\": {<br>    \\\"take_profit\\\": 0.32830197129167893,<br>    \\\"stop_loss\\\": 0.4234704987991215<br>  }<br>}\",\"{<br>  \\\"number\\\": 935,<br>  \\\"values\\\": [<br>    6.059999999999977,<br>    0.5060598488763149<br>  ],<br>  \\\"params\\\": {<br>    \\\"take_profit\\\": 0.3322178556912239,<br>    \\\"stop_loss\\\": 0.29129255144850197<br>  }<br>}\",\"{<br>  \\\"number\\\": 936,<br>  \\\"values\\\": [<br>    7.219999999999999,<br>    0.5231284694561709<br>  ],<br>  \\\"params\\\": {<br>    \\\"take_profit\\\": 0.3039315069644288,<br>    \\\"stop_loss\\\": 0.4234704987991215<br>  }<br>}\",\"{<br>  \\\"number\\\": 939,<br>  \\\"values\\\": [<br>    6.98999999999997,<br>    0.5136998317566166<br>  ],<br>  \\\"params\\\": {<br>    \\\"take_profit\\\": 0.3788258725085614,<br>    \\\"stop_loss\\\": 0.29883191163474915<br>  }<br>}\",\"{<br>  \\\"number\\\": 947,<br>  \\\"values\\\": [<br>    8.839999999999975,<br>    0.5515893628309656<br>  ],<br>  \\\"params\\\": {<br>    \\\"take_profit\\\": 0.42477134448096265,<br>    \\\"stop_loss\\\": 0.25760257173708784<br>  }<br>}\",\"{<br>  \\\"number\\\": 948,<br>  \\\"values\\\": [<br>    8.34,<br>    0.5502561699354089<br>  ],<br>  \\\"params\\\": {<br>    \\\"take_profit\\\": 0.3039315069644288,<br>    \\\"stop_loss\\\": 0.5476648965357894<br>  }<br>}\",\"{<br>  \\\"number\\\": 951,<br>  \\\"values\\\": [<br>    8.2,<br>    0.5494596455804591<br>  ],<br>  \\\"params\\\": {<br>    \\\"take_profit\\\": 0.29714740025572073,<br>    \\\"stop_loss\\\": 0.5349177715800677<br>  }<br>}\",\"{<br>  \\\"number\\\": 959,<br>  \\\"values\\\": [<br>    8.839999999999975,<br>    0.5515893628309656<br>  ],<br>  \\\"params\\\": {<br>    \\\"take_profit\\\": 0.42477134448096265,<br>    \\\"stop_loss\\\": 0.25760257173708784<br>  }<br>}\",\"{<br>  \\\"number\\\": 971,<br>  \\\"values\\\": [<br>    7.219999999999999,<br>    0.5231284694561709<br>  ],<br>  \\\"params\\\": {<br>    \\\"take_profit\\\": 0.3039315069644288,<br>    \\\"stop_loss\\\": 0.4234704987991215<br>  }<br>}\",\"{<br>  \\\"number\\\": 974,<br>  \\\"values\\\": [<br>    0.579999999999925,<br>    0.39619674155432916<br>  ],<br>  \\\"params\\\": {<br>    \\\"take_profit\\\": 0.0595366319200447,<br>    \\\"stop_loss\\\": 0.23732324978969815<br>  }<br>}\",\"{<br>  \\\"number\\\": 982,<br>  \\\"values\\\": [<br>    7.5199999999999605,<br>    0.5439039437253603<br>  ],<br>  \\\"params\\\": {<br>    \\\"take_profit\\\": 0.4193862236915465,<br>    \\\"stop_loss\\\": 0.24604518515908314<br>  }<br>}\",\"{<br>  \\\"number\\\": 987,<br>  \\\"values\\\": [<br>    5.099999999999984,<br>    0.487871275383484<br>  ],<br>  \\\"params\\\": {<br>    \\\"take_profit\\\": 0.3039315069644288,<br>    \\\"stop_loss\\\": 0.2936116595911836<br>  }<br>}\",\"{<br>  \\\"number\\\": 988,<br>  \\\"values\\\": [<br>    10.679999999999982,<br>    0.6150631173834141<br>  ],<br>  \\\"params\\\": {<br>    \\\"take_profit\\\": 0.43445111787243207,<br>    \\\"stop_loss\\\": 0.4234704987991215<br>  }<br>}\",\"{<br>  \\\"number\\\": 990,<br>  \\\"values\\\": [<br>    5.559999999999974,<br>    0.49333133405392976<br>  ],<br>  \\\"params\\\": {<br>    \\\"take_profit\\\": 0.15026904913374683,<br>    \\\"stop_loss\\\": 0.43824973456478217<br>  }<br>}\",\"{<br>  \\\"number\\\": 994,<br>  \\\"values\\\": [<br>    5.039999999999981,<br>    0.4426306074722805<br>  ],<br>  \\\"params\\\": {<br>    \\\"take_profit\\\": 0.15040135515958597,<br>    \\\"stop_loss\\\": 0.29129255144850197<br>  }<br>}\"],\"x\":[8.34,7.389999999999997,5.559999999999974,5.059999999999992,9.839999999999982,2.1299999999999546,8.34,7.389999999999997,8.34,7.389999999999997,8.34,6.059999999999977,4.9199999999999875,0.579999999999925,5.059999999999992,5.559999999999974,9.839999999999982,7.219999999999999,8.839999999999975,0.579999999999925,5.559999999999974,8.34,0.579999999999925,8.34,9.839999999999982,8.34,8.839999999999975,8.34,5.059999999999992,6.059999999999977,5.059999999999992,0.579999999999925,8.179999999999978,0.4299999999999198,5.059999999999992,10.539999999999981,8.34,5.059999999999992,6.059999999999977,0.579999999999925,5.559999999999974,8.34,7.219999999999999,8.34,8.34,7.219999999999999,3.1499999999999666,8.34,8.839999999999975,7.219999999999999,9.839999999999982,8.34,8.34,0.579999999999925,5.059999999999992,8.839999999999975,8.179999999999978,0.8999999999999466,7.219999999999999,6.059999999999977,7.220000000000002,8.839999999999975,8.839999999999975,7.219999999999999,7.389999999999997,8.179999999999978,0.8999999999999466,8.34,5.679999999999982,5.059999999999992,8.919999999999952,7.219999999999999,9.57999999999997,8.919999999999952,7.389999999999997,5.559999999999974,0.579999999999925,0.579999999999925,0.579999999999925,0.579999999999925,7.389999999999997,0.579999999999925,7.219999999999999,6.98999999999997,10.539999999999981,6.059999999999977,10.679999999999982,9.089999999999982,7.389999999999997,0.4299999999999198,9.839999999999982,10.539999999999981,8.34,7.219999999999999,9.089999999999982,9.839999999999982,7.219999999999999,8.919999999999952,7.5199999999999605,8.919999999999952,8.2,0.8999999999999466,8.919999999999952,7.409999999999997,6.059999999999977,7.219999999999999,6.98999999999997,8.839999999999975,8.34,8.2,8.839999999999975,7.219999999999999,0.579999999999925,7.5199999999999605,5.099999999999984,10.679999999999982,5.559999999999974,5.039999999999981],\"y\":[0.5502561699354089,0.5438379486076034,0.49333133405392976,0.4869723313665133,0.5926793343745277,0.4143353224766091,0.5502561699354089,0.5438379486076034,0.5502561699354089,0.5438379486076034,0.5502561699354089,0.5060598488763149,0.4373138172950719,0.39619674155432916,0.4869723313665133,0.49333133405392976,0.5926793343745277,0.5231284694561709,0.5515893628309656,0.39619674155432916,0.49333133405392976,0.5502561699354089,0.39619674155432916,0.5502561699354089,0.5926793343745277,0.5502561699354089,0.5515893628309656,0.5502561699354089,0.4869723313665133,0.5060598488763149,0.4869723313665133,0.39619674155432916,0.5441984884879929,0.3421673713257881,0.4869723313665133,0.5961558731025934,0.5502561699354089,0.4869723313665133,0.5060598488763149,0.39619674155432916,0.49333133405392976,0.5502561699354089,0.5231284694561709,0.5502561699354089,0.5502561699354089,0.5231284694561709,0.4239149828758257,0.5502561699354089,0.5515893628309656,0.5231284694561709,0.5926793343745277,0.5502561699354089,0.5502561699354089,0.39619674155432916,0.4869723313665133,0.5515893628309656,0.5441984884879929,0.39885710814265407,0.5231284694561709,0.5060598488763149,0.5421760690982197,0.5515893628309656,0.5515893628309656,0.5231284694561709,0.5438379486076034,0.5441984884879929,0.39885710814265407,0.5502561699354089,0.502918626869445,0.4869723313665133,0.5636311982171307,0.5231284694561709,0.5862981569891625,0.5636311982171307,0.5438379486076034,0.49333133405392976,0.39619674155432916,0.39619674155432916,0.39619674155432916,0.39619674155432916,0.5438379486076034,0.39619674155432916,0.5231284694561709,0.5136998317566166,0.5961558731025934,0.5060598488763149,0.6150631173834141,0.5742030930834443,0.5438379486076034,0.3421673713257881,0.5926793343745277,0.5961558731025934,0.5502561699354089,0.5231284694561709,0.5742030930834443,0.5926793343745277,0.5231284694561709,0.5636311982171307,0.5439039437253603,0.5636311982171307,0.5494596455804591,0.39885710814265407,0.5636311982171307,0.5438381131672675,0.5060598488763149,0.5231284694561709,0.5136998317566166,0.5515893628309656,0.5502561699354089,0.5494596455804591,0.5515893628309656,0.5231284694561709,0.39619674155432916,0.5439039437253603,0.487871275383484,0.6150631173834141,0.49333133405392976,0.4426306074722805],\"type\":\"scatter\"}],                        {\"title\":{\"text\":\"Pareto-front Plot\"},\"xaxis\":{\"title\":{\"text\":\"trades_pnl_total\"}},\"yaxis\":{\"title\":{\"text\":\"trades_pnl_std\"}},\"template\":{\"data\":{\"histogram2dcontour\":[{\"type\":\"histogram2dcontour\",\"colorbar\":{\"outlinewidth\":0,\"ticks\":\"\"},\"colorscale\":[[0.0,\"#0d0887\"],[0.1111111111111111,\"#46039f\"],[0.2222222222222222,\"#7201a8\"],[0.3333333333333333,\"#9c179e\"],[0.4444444444444444,\"#bd3786\"],[0.5555555555555556,\"#d8576b\"],[0.6666666666666666,\"#ed7953\"],[0.7777777777777778,\"#fb9f3a\"],[0.8888888888888888,\"#fdca26\"],[1.0,\"#f0f921\"]]}],\"choropleth\":[{\"type\":\"choropleth\",\"colorbar\":{\"outlinewidth\":0,\"ticks\":\"\"}}],\"histogram2d\":[{\"type\":\"histogram2d\",\"colorbar\":{\"outlinewidth\":0,\"ticks\":\"\"},\"colorscale\":[[0.0,\"#0d0887\"],[0.1111111111111111,\"#46039f\"],[0.2222222222222222,\"#7201a8\"],[0.3333333333333333,\"#9c179e\"],[0.4444444444444444,\"#bd3786\"],[0.5555555555555556,\"#d8576b\"],[0.6666666666666666,\"#ed7953\"],[0.7777777777777778,\"#fb9f3a\"],[0.8888888888888888,\"#fdca26\"],[1.0,\"#f0f921\"]]}],\"heatmap\":[{\"type\":\"heatmap\",\"colorbar\":{\"outlinewidth\":0,\"ticks\":\"\"},\"colorscale\":[[0.0,\"#0d0887\"],[0.1111111111111111,\"#46039f\"],[0.2222222222222222,\"#7201a8\"],[0.3333333333333333,\"#9c179e\"],[0.4444444444444444,\"#bd3786\"],[0.5555555555555556,\"#d8576b\"],[0.6666666666666666,\"#ed7953\"],[0.7777777777777778,\"#fb9f3a\"],[0.8888888888888888,\"#fdca26\"],[1.0,\"#f0f921\"]]}],\"heatmapgl\":[{\"type\":\"heatmapgl\",\"colorbar\":{\"outlinewidth\":0,\"ticks\":\"\"},\"colorscale\":[[0.0,\"#0d0887\"],[0.1111111111111111,\"#46039f\"],[0.2222222222222222,\"#7201a8\"],[0.3333333333333333,\"#9c179e\"],[0.4444444444444444,\"#bd3786\"],[0.5555555555555556,\"#d8576b\"],[0.6666666666666666,\"#ed7953\"],[0.7777777777777778,\"#fb9f3a\"],[0.8888888888888888,\"#fdca26\"],[1.0,\"#f0f921\"]]}],\"contourcarpet\":[{\"type\":\"contourcarpet\",\"colorbar\":{\"outlinewidth\":0,\"ticks\":\"\"}}],\"contour\":[{\"type\":\"contour\",\"colorbar\":{\"outlinewidth\":0,\"ticks\":\"\"},\"colorscale\":[[0.0,\"#0d0887\"],[0.1111111111111111,\"#46039f\"],[0.2222222222222222,\"#7201a8\"],[0.3333333333333333,\"#9c179e\"],[0.4444444444444444,\"#bd3786\"],[0.5555555555555556,\"#d8576b\"],[0.6666666666666666,\"#ed7953\"],[0.7777777777777778,\"#fb9f3a\"],[0.8888888888888888,\"#fdca26\"],[1.0,\"#f0f921\"]]}],\"surface\":[{\"type\":\"surface\",\"colorbar\":{\"outlinewidth\":0,\"ticks\":\"\"},\"colorscale\":[[0.0,\"#0d0887\"],[0.1111111111111111,\"#46039f\"],[0.2222222222222222,\"#7201a8\"],[0.3333333333333333,\"#9c179e\"],[0.4444444444444444,\"#bd3786\"],[0.5555555555555556,\"#d8576b\"],[0.6666666666666666,\"#ed7953\"],[0.7777777777777778,\"#fb9f3a\"],[0.8888888888888888,\"#fdca26\"],[1.0,\"#f0f921\"]]}],\"mesh3d\":[{\"type\":\"mesh3d\",\"colorbar\":{\"outlinewidth\":0,\"ticks\":\"\"}}],\"scatter\":[{\"fillpattern\":{\"fillmode\":\"overlay\",\"size\":10,\"solidity\":0.2},\"type\":\"scatter\"}],\"parcoords\":[{\"type\":\"parcoords\",\"line\":{\"colorbar\":{\"outlinewidth\":0,\"ticks\":\"\"}}}],\"scatterpolargl\":[{\"type\":\"scatterpolargl\",\"marker\":{\"colorbar\":{\"outlinewidth\":0,\"ticks\":\"\"}}}],\"bar\":[{\"error_x\":{\"color\":\"#2a3f5f\"},\"error_y\":{\"color\":\"#2a3f5f\"},\"marker\":{\"line\":{\"color\":\"#E5ECF6\",\"width\":0.5},\"pattern\":{\"fillmode\":\"overlay\",\"size\":10,\"solidity\":0.2}},\"type\":\"bar\"}],\"scattergeo\":[{\"type\":\"scattergeo\",\"marker\":{\"colorbar\":{\"outlinewidth\":0,\"ticks\":\"\"}}}],\"scatterpolar\":[{\"type\":\"scatterpolar\",\"marker\":{\"colorbar\":{\"outlinewidth\":0,\"ticks\":\"\"}}}],\"histogram\":[{\"marker\":{\"pattern\":{\"fillmode\":\"overlay\",\"size\":10,\"solidity\":0.2}},\"type\":\"histogram\"}],\"scattergl\":[{\"type\":\"scattergl\",\"marker\":{\"colorbar\":{\"outlinewidth\":0,\"ticks\":\"\"}}}],\"scatter3d\":[{\"type\":\"scatter3d\",\"line\":{\"colorbar\":{\"outlinewidth\":0,\"ticks\":\"\"}},\"marker\":{\"colorbar\":{\"outlinewidth\":0,\"ticks\":\"\"}}}],\"scattermapbox\":[{\"type\":\"scattermapbox\",\"marker\":{\"colorbar\":{\"outlinewidth\":0,\"ticks\":\"\"}}}],\"scatterternary\":[{\"type\":\"scatterternary\",\"marker\":{\"colorbar\":{\"outlinewidth\":0,\"ticks\":\"\"}}}],\"scattercarpet\":[{\"type\":\"scattercarpet\",\"marker\":{\"colorbar\":{\"outlinewidth\":0,\"ticks\":\"\"}}}],\"carpet\":[{\"aaxis\":{\"endlinecolor\":\"#2a3f5f\",\"gridcolor\":\"white\",\"linecolor\":\"white\",\"minorgridcolor\":\"white\",\"startlinecolor\":\"#2a3f5f\"},\"baxis\":{\"endlinecolor\":\"#2a3f5f\",\"gridcolor\":\"white\",\"linecolor\":\"white\",\"minorgridcolor\":\"white\",\"startlinecolor\":\"#2a3f5f\"},\"type\":\"carpet\"}],\"table\":[{\"cells\":{\"fill\":{\"color\":\"#EBF0F8\"},\"line\":{\"color\":\"white\"}},\"header\":{\"fill\":{\"color\":\"#C8D4E3\"},\"line\":{\"color\":\"white\"}},\"type\":\"table\"}],\"barpolar\":[{\"marker\":{\"line\":{\"color\":\"#E5ECF6\",\"width\":0.5},\"pattern\":{\"fillmode\":\"overlay\",\"size\":10,\"solidity\":0.2}},\"type\":\"barpolar\"}],\"pie\":[{\"automargin\":true,\"type\":\"pie\"}]},\"layout\":{\"autotypenumbers\":\"strict\",\"colorway\":[\"#636efa\",\"#EF553B\",\"#00cc96\",\"#ab63fa\",\"#FFA15A\",\"#19d3f3\",\"#FF6692\",\"#B6E880\",\"#FF97FF\",\"#FECB52\"],\"font\":{\"color\":\"#2a3f5f\"},\"hovermode\":\"closest\",\"hoverlabel\":{\"align\":\"left\"},\"paper_bgcolor\":\"white\",\"plot_bgcolor\":\"#E5ECF6\",\"polar\":{\"bgcolor\":\"#E5ECF6\",\"angularaxis\":{\"gridcolor\":\"white\",\"linecolor\":\"white\",\"ticks\":\"\"},\"radialaxis\":{\"gridcolor\":\"white\",\"linecolor\":\"white\",\"ticks\":\"\"}},\"ternary\":{\"bgcolor\":\"#E5ECF6\",\"aaxis\":{\"gridcolor\":\"white\",\"linecolor\":\"white\",\"ticks\":\"\"},\"baxis\":{\"gridcolor\":\"white\",\"linecolor\":\"white\",\"ticks\":\"\"},\"caxis\":{\"gridcolor\":\"white\",\"linecolor\":\"white\",\"ticks\":\"\"}},\"coloraxis\":{\"colorbar\":{\"outlinewidth\":0,\"ticks\":\"\"}},\"colorscale\":{\"sequential\":[[0.0,\"#0d0887\"],[0.1111111111111111,\"#46039f\"],[0.2222222222222222,\"#7201a8\"],[0.3333333333333333,\"#9c179e\"],[0.4444444444444444,\"#bd3786\"],[0.5555555555555556,\"#d8576b\"],[0.6666666666666666,\"#ed7953\"],[0.7777777777777778,\"#fb9f3a\"],[0.8888888888888888,\"#fdca26\"],[1.0,\"#f0f921\"]],\"sequentialminus\":[[0.0,\"#0d0887\"],[0.1111111111111111,\"#46039f\"],[0.2222222222222222,\"#7201a8\"],[0.3333333333333333,\"#9c179e\"],[0.4444444444444444,\"#bd3786\"],[0.5555555555555556,\"#d8576b\"],[0.6666666666666666,\"#ed7953\"],[0.7777777777777778,\"#fb9f3a\"],[0.8888888888888888,\"#fdca26\"],[1.0,\"#f0f921\"]],\"diverging\":[[0,\"#8e0152\"],[0.1,\"#c51b7d\"],[0.2,\"#de77ae\"],[0.3,\"#f1b6da\"],[0.4,\"#fde0ef\"],[0.5,\"#f7f7f7\"],[0.6,\"#e6f5d0\"],[0.7,\"#b8e186\"],[0.8,\"#7fbc41\"],[0.9,\"#4d9221\"],[1,\"#276419\"]]},\"xaxis\":{\"gridcolor\":\"white\",\"linecolor\":\"white\",\"ticks\":\"\",\"title\":{\"standoff\":15},\"zerolinecolor\":\"white\",\"automargin\":true,\"zerolinewidth\":2},\"yaxis\":{\"gridcolor\":\"white\",\"linecolor\":\"white\",\"ticks\":\"\",\"title\":{\"standoff\":15},\"zerolinecolor\":\"white\",\"automargin\":true,\"zerolinewidth\":2},\"scene\":{\"xaxis\":{\"backgroundcolor\":\"#E5ECF6\",\"gridcolor\":\"white\",\"linecolor\":\"white\",\"showbackground\":true,\"ticks\":\"\",\"zerolinecolor\":\"white\",\"gridwidth\":2},\"yaxis\":{\"backgroundcolor\":\"#E5ECF6\",\"gridcolor\":\"white\",\"linecolor\":\"white\",\"showbackground\":true,\"ticks\":\"\",\"zerolinecolor\":\"white\",\"gridwidth\":2},\"zaxis\":{\"backgroundcolor\":\"#E5ECF6\",\"gridcolor\":\"white\",\"linecolor\":\"white\",\"showbackground\":true,\"ticks\":\"\",\"zerolinecolor\":\"white\",\"gridwidth\":2}},\"shapedefaults\":{\"line\":{\"color\":\"#2a3f5f\"}},\"annotationdefaults\":{\"arrowcolor\":\"#2a3f5f\",\"arrowhead\":0,\"arrowwidth\":1},\"geo\":{\"bgcolor\":\"white\",\"landcolor\":\"#E5ECF6\",\"subunitcolor\":\"white\",\"showland\":true,\"showlakes\":true,\"lakecolor\":\"white\"},\"title\":{\"x\":0.05},\"mapbox\":{\"style\":\"light\"}}}},                        {\"responsive\": true}                    ).then(function(){\n",
       "                            \n",
       "var gd = document.getElementById('010c457a-8d68-4f21-9418-74530a65b62b');\n",
       "var x = new MutationObserver(function (mutations, observer) {{\n",
       "        var display = window.getComputedStyle(gd).display;\n",
       "        if (!display || display === 'none') {{\n",
       "            console.log([gd, 'removed!']);\n",
       "            Plotly.purge(gd);\n",
       "            observer.disconnect();\n",
       "        }}\n",
       "}});\n",
       "\n",
       "// Listen for the removal of the full notebook cells\n",
       "var notebookContainer = gd.closest('#notebook-container');\n",
       "if (notebookContainer) {{\n",
       "    x.observe(notebookContainer, {childList: true});\n",
       "}}\n",
       "\n",
       "// Listen for the clearing of the current output cell\n",
       "var outputEl = gd.closest('.output');\n",
       "if (outputEl) {{\n",
       "    x.observe(outputEl, {childList: true});\n",
       "}}\n",
       "\n",
       "                        })                };                });            </script>        </div>"
      ]
     },
     "metadata": {},
     "output_type": "display_data"
    }
   ],
   "source": [
    "from optuna.visualization import plot_parallel_coordinate\n",
    "\n",
    "optuna.visualization.plot_pareto_front(study, target_names=[\"trades_pnl_total\", \"trades_pnl_std\"])"
   ]
  },
  {
   "cell_type": "code",
   "execution_count": 80,
   "id": "36fe1a82",
   "metadata": {},
   "outputs": [
    {
     "data": {
      "application/vnd.plotly.v1+json": {
       "config": {
        "plotlyServerURL": "https://plot.ly"
       },
       "data": [
        {
         "cliponaxis": false,
         "hovertemplate": [
          "take_profit (FloatDistribution): 0.3308193069804269<extra></extra>",
          "stop_loss (FloatDistribution): 0.6691806930195732<extra></extra>"
         ],
         "marker": {
          "color": "rgb(66,146,198)"
         },
         "orientation": "h",
         "text": [
          "0.33",
          "0.67"
         ],
         "textposition": "outside",
         "type": "bar",
         "x": [
          0.3308193069804269,
          0.6691806930195732
         ],
         "y": [
          "take_profit",
          "stop_loss"
         ]
        }
       ],
       "layout": {
        "showlegend": false,
        "template": {
         "data": {
          "bar": [
           {
            "error_x": {
             "color": "#2a3f5f"
            },
            "error_y": {
             "color": "#2a3f5f"
            },
            "marker": {
             "line": {
              "color": "#E5ECF6",
              "width": 0.5
             },
             "pattern": {
              "fillmode": "overlay",
              "size": 10,
              "solidity": 0.2
             }
            },
            "type": "bar"
           }
          ],
          "barpolar": [
           {
            "marker": {
             "line": {
              "color": "#E5ECF6",
              "width": 0.5
             },
             "pattern": {
              "fillmode": "overlay",
              "size": 10,
              "solidity": 0.2
             }
            },
            "type": "barpolar"
           }
          ],
          "carpet": [
           {
            "aaxis": {
             "endlinecolor": "#2a3f5f",
             "gridcolor": "white",
             "linecolor": "white",
             "minorgridcolor": "white",
             "startlinecolor": "#2a3f5f"
            },
            "baxis": {
             "endlinecolor": "#2a3f5f",
             "gridcolor": "white",
             "linecolor": "white",
             "minorgridcolor": "white",
             "startlinecolor": "#2a3f5f"
            },
            "type": "carpet"
           }
          ],
          "choropleth": [
           {
            "colorbar": {
             "outlinewidth": 0,
             "ticks": ""
            },
            "type": "choropleth"
           }
          ],
          "contour": [
           {
            "colorbar": {
             "outlinewidth": 0,
             "ticks": ""
            },
            "colorscale": [
             [
              0,
              "#0d0887"
             ],
             [
              0.1111111111111111,
              "#46039f"
             ],
             [
              0.2222222222222222,
              "#7201a8"
             ],
             [
              0.3333333333333333,
              "#9c179e"
             ],
             [
              0.4444444444444444,
              "#bd3786"
             ],
             [
              0.5555555555555556,
              "#d8576b"
             ],
             [
              0.6666666666666666,
              "#ed7953"
             ],
             [
              0.7777777777777778,
              "#fb9f3a"
             ],
             [
              0.8888888888888888,
              "#fdca26"
             ],
             [
              1,
              "#f0f921"
             ]
            ],
            "type": "contour"
           }
          ],
          "contourcarpet": [
           {
            "colorbar": {
             "outlinewidth": 0,
             "ticks": ""
            },
            "type": "contourcarpet"
           }
          ],
          "heatmap": [
           {
            "colorbar": {
             "outlinewidth": 0,
             "ticks": ""
            },
            "colorscale": [
             [
              0,
              "#0d0887"
             ],
             [
              0.1111111111111111,
              "#46039f"
             ],
             [
              0.2222222222222222,
              "#7201a8"
             ],
             [
              0.3333333333333333,
              "#9c179e"
             ],
             [
              0.4444444444444444,
              "#bd3786"
             ],
             [
              0.5555555555555556,
              "#d8576b"
             ],
             [
              0.6666666666666666,
              "#ed7953"
             ],
             [
              0.7777777777777778,
              "#fb9f3a"
             ],
             [
              0.8888888888888888,
              "#fdca26"
             ],
             [
              1,
              "#f0f921"
             ]
            ],
            "type": "heatmap"
           }
          ],
          "heatmapgl": [
           {
            "colorbar": {
             "outlinewidth": 0,
             "ticks": ""
            },
            "colorscale": [
             [
              0,
              "#0d0887"
             ],
             [
              0.1111111111111111,
              "#46039f"
             ],
             [
              0.2222222222222222,
              "#7201a8"
             ],
             [
              0.3333333333333333,
              "#9c179e"
             ],
             [
              0.4444444444444444,
              "#bd3786"
             ],
             [
              0.5555555555555556,
              "#d8576b"
             ],
             [
              0.6666666666666666,
              "#ed7953"
             ],
             [
              0.7777777777777778,
              "#fb9f3a"
             ],
             [
              0.8888888888888888,
              "#fdca26"
             ],
             [
              1,
              "#f0f921"
             ]
            ],
            "type": "heatmapgl"
           }
          ],
          "histogram": [
           {
            "marker": {
             "pattern": {
              "fillmode": "overlay",
              "size": 10,
              "solidity": 0.2
             }
            },
            "type": "histogram"
           }
          ],
          "histogram2d": [
           {
            "colorbar": {
             "outlinewidth": 0,
             "ticks": ""
            },
            "colorscale": [
             [
              0,
              "#0d0887"
             ],
             [
              0.1111111111111111,
              "#46039f"
             ],
             [
              0.2222222222222222,
              "#7201a8"
             ],
             [
              0.3333333333333333,
              "#9c179e"
             ],
             [
              0.4444444444444444,
              "#bd3786"
             ],
             [
              0.5555555555555556,
              "#d8576b"
             ],
             [
              0.6666666666666666,
              "#ed7953"
             ],
             [
              0.7777777777777778,
              "#fb9f3a"
             ],
             [
              0.8888888888888888,
              "#fdca26"
             ],
             [
              1,
              "#f0f921"
             ]
            ],
            "type": "histogram2d"
           }
          ],
          "histogram2dcontour": [
           {
            "colorbar": {
             "outlinewidth": 0,
             "ticks": ""
            },
            "colorscale": [
             [
              0,
              "#0d0887"
             ],
             [
              0.1111111111111111,
              "#46039f"
             ],
             [
              0.2222222222222222,
              "#7201a8"
             ],
             [
              0.3333333333333333,
              "#9c179e"
             ],
             [
              0.4444444444444444,
              "#bd3786"
             ],
             [
              0.5555555555555556,
              "#d8576b"
             ],
             [
              0.6666666666666666,
              "#ed7953"
             ],
             [
              0.7777777777777778,
              "#fb9f3a"
             ],
             [
              0.8888888888888888,
              "#fdca26"
             ],
             [
              1,
              "#f0f921"
             ]
            ],
            "type": "histogram2dcontour"
           }
          ],
          "mesh3d": [
           {
            "colorbar": {
             "outlinewidth": 0,
             "ticks": ""
            },
            "type": "mesh3d"
           }
          ],
          "parcoords": [
           {
            "line": {
             "colorbar": {
              "outlinewidth": 0,
              "ticks": ""
             }
            },
            "type": "parcoords"
           }
          ],
          "pie": [
           {
            "automargin": true,
            "type": "pie"
           }
          ],
          "scatter": [
           {
            "fillpattern": {
             "fillmode": "overlay",
             "size": 10,
             "solidity": 0.2
            },
            "type": "scatter"
           }
          ],
          "scatter3d": [
           {
            "line": {
             "colorbar": {
              "outlinewidth": 0,
              "ticks": ""
             }
            },
            "marker": {
             "colorbar": {
              "outlinewidth": 0,
              "ticks": ""
             }
            },
            "type": "scatter3d"
           }
          ],
          "scattercarpet": [
           {
            "marker": {
             "colorbar": {
              "outlinewidth": 0,
              "ticks": ""
             }
            },
            "type": "scattercarpet"
           }
          ],
          "scattergeo": [
           {
            "marker": {
             "colorbar": {
              "outlinewidth": 0,
              "ticks": ""
             }
            },
            "type": "scattergeo"
           }
          ],
          "scattergl": [
           {
            "marker": {
             "colorbar": {
              "outlinewidth": 0,
              "ticks": ""
             }
            },
            "type": "scattergl"
           }
          ],
          "scattermapbox": [
           {
            "marker": {
             "colorbar": {
              "outlinewidth": 0,
              "ticks": ""
             }
            },
            "type": "scattermapbox"
           }
          ],
          "scatterpolar": [
           {
            "marker": {
             "colorbar": {
              "outlinewidth": 0,
              "ticks": ""
             }
            },
            "type": "scatterpolar"
           }
          ],
          "scatterpolargl": [
           {
            "marker": {
             "colorbar": {
              "outlinewidth": 0,
              "ticks": ""
             }
            },
            "type": "scatterpolargl"
           }
          ],
          "scatterternary": [
           {
            "marker": {
             "colorbar": {
              "outlinewidth": 0,
              "ticks": ""
             }
            },
            "type": "scatterternary"
           }
          ],
          "surface": [
           {
            "colorbar": {
             "outlinewidth": 0,
             "ticks": ""
            },
            "colorscale": [
             [
              0,
              "#0d0887"
             ],
             [
              0.1111111111111111,
              "#46039f"
             ],
             [
              0.2222222222222222,
              "#7201a8"
             ],
             [
              0.3333333333333333,
              "#9c179e"
             ],
             [
              0.4444444444444444,
              "#bd3786"
             ],
             [
              0.5555555555555556,
              "#d8576b"
             ],
             [
              0.6666666666666666,
              "#ed7953"
             ],
             [
              0.7777777777777778,
              "#fb9f3a"
             ],
             [
              0.8888888888888888,
              "#fdca26"
             ],
             [
              1,
              "#f0f921"
             ]
            ],
            "type": "surface"
           }
          ],
          "table": [
           {
            "cells": {
             "fill": {
              "color": "#EBF0F8"
             },
             "line": {
              "color": "white"
             }
            },
            "header": {
             "fill": {
              "color": "#C8D4E3"
             },
             "line": {
              "color": "white"
             }
            },
            "type": "table"
           }
          ]
         },
         "layout": {
          "annotationdefaults": {
           "arrowcolor": "#2a3f5f",
           "arrowhead": 0,
           "arrowwidth": 1
          },
          "autotypenumbers": "strict",
          "coloraxis": {
           "colorbar": {
            "outlinewidth": 0,
            "ticks": ""
           }
          },
          "colorscale": {
           "diverging": [
            [
             0,
             "#8e0152"
            ],
            [
             0.1,
             "#c51b7d"
            ],
            [
             0.2,
             "#de77ae"
            ],
            [
             0.3,
             "#f1b6da"
            ],
            [
             0.4,
             "#fde0ef"
            ],
            [
             0.5,
             "#f7f7f7"
            ],
            [
             0.6,
             "#e6f5d0"
            ],
            [
             0.7,
             "#b8e186"
            ],
            [
             0.8,
             "#7fbc41"
            ],
            [
             0.9,
             "#4d9221"
            ],
            [
             1,
             "#276419"
            ]
           ],
           "sequential": [
            [
             0,
             "#0d0887"
            ],
            [
             0.1111111111111111,
             "#46039f"
            ],
            [
             0.2222222222222222,
             "#7201a8"
            ],
            [
             0.3333333333333333,
             "#9c179e"
            ],
            [
             0.4444444444444444,
             "#bd3786"
            ],
            [
             0.5555555555555556,
             "#d8576b"
            ],
            [
             0.6666666666666666,
             "#ed7953"
            ],
            [
             0.7777777777777778,
             "#fb9f3a"
            ],
            [
             0.8888888888888888,
             "#fdca26"
            ],
            [
             1,
             "#f0f921"
            ]
           ],
           "sequentialminus": [
            [
             0,
             "#0d0887"
            ],
            [
             0.1111111111111111,
             "#46039f"
            ],
            [
             0.2222222222222222,
             "#7201a8"
            ],
            [
             0.3333333333333333,
             "#9c179e"
            ],
            [
             0.4444444444444444,
             "#bd3786"
            ],
            [
             0.5555555555555556,
             "#d8576b"
            ],
            [
             0.6666666666666666,
             "#ed7953"
            ],
            [
             0.7777777777777778,
             "#fb9f3a"
            ],
            [
             0.8888888888888888,
             "#fdca26"
            ],
            [
             1,
             "#f0f921"
            ]
           ]
          },
          "colorway": [
           "#636efa",
           "#EF553B",
           "#00cc96",
           "#ab63fa",
           "#FFA15A",
           "#19d3f3",
           "#FF6692",
           "#B6E880",
           "#FF97FF",
           "#FECB52"
          ],
          "font": {
           "color": "#2a3f5f"
          },
          "geo": {
           "bgcolor": "white",
           "lakecolor": "white",
           "landcolor": "#E5ECF6",
           "showlakes": true,
           "showland": true,
           "subunitcolor": "white"
          },
          "hoverlabel": {
           "align": "left"
          },
          "hovermode": "closest",
          "mapbox": {
           "style": "light"
          },
          "paper_bgcolor": "white",
          "plot_bgcolor": "#E5ECF6",
          "polar": {
           "angularaxis": {
            "gridcolor": "white",
            "linecolor": "white",
            "ticks": ""
           },
           "bgcolor": "#E5ECF6",
           "radialaxis": {
            "gridcolor": "white",
            "linecolor": "white",
            "ticks": ""
           }
          },
          "scene": {
           "xaxis": {
            "backgroundcolor": "#E5ECF6",
            "gridcolor": "white",
            "gridwidth": 2,
            "linecolor": "white",
            "showbackground": true,
            "ticks": "",
            "zerolinecolor": "white"
           },
           "yaxis": {
            "backgroundcolor": "#E5ECF6",
            "gridcolor": "white",
            "gridwidth": 2,
            "linecolor": "white",
            "showbackground": true,
            "ticks": "",
            "zerolinecolor": "white"
           },
           "zaxis": {
            "backgroundcolor": "#E5ECF6",
            "gridcolor": "white",
            "gridwidth": 2,
            "linecolor": "white",
            "showbackground": true,
            "ticks": "",
            "zerolinecolor": "white"
           }
          },
          "shapedefaults": {
           "line": {
            "color": "#2a3f5f"
           }
          },
          "ternary": {
           "aaxis": {
            "gridcolor": "white",
            "linecolor": "white",
            "ticks": ""
           },
           "baxis": {
            "gridcolor": "white",
            "linecolor": "white",
            "ticks": ""
           },
           "bgcolor": "#E5ECF6",
           "caxis": {
            "gridcolor": "white",
            "linecolor": "white",
            "ticks": ""
           }
          },
          "title": {
           "x": 0.05
          },
          "xaxis": {
           "automargin": true,
           "gridcolor": "white",
           "linecolor": "white",
           "ticks": "",
           "title": {
            "standoff": 15
           },
           "zerolinecolor": "white",
           "zerolinewidth": 2
          },
          "yaxis": {
           "automargin": true,
           "gridcolor": "white",
           "linecolor": "white",
           "ticks": "",
           "title": {
            "standoff": 15
           },
           "zerolinecolor": "white",
           "zerolinewidth": 2
          }
         }
        },
        "title": {
         "text": "Hyperparameter Importances"
        },
        "xaxis": {
         "title": {
          "text": "Importance for trades_pnl_total"
         }
        },
        "yaxis": {
         "title": {
          "text": "Hyperparameter"
         }
        }
       }
      },
      "text/html": [
       "<div>                            <div id=\"1092adc9-28d2-441d-8f0e-1e0cd81992e6\" class=\"plotly-graph-div\" style=\"height:525px; width:100%;\"></div>            <script type=\"text/javascript\">                require([\"plotly\"], function(Plotly) {                    window.PLOTLYENV=window.PLOTLYENV || {};                                    if (document.getElementById(\"1092adc9-28d2-441d-8f0e-1e0cd81992e6\")) {                    Plotly.newPlot(                        \"1092adc9-28d2-441d-8f0e-1e0cd81992e6\",                        [{\"cliponaxis\":false,\"hovertemplate\":[\"take_profit (FloatDistribution): 0.3308193069804269<extra></extra>\",\"stop_loss (FloatDistribution): 0.6691806930195732<extra></extra>\"],\"marker\":{\"color\":\"rgb(66,146,198)\"},\"orientation\":\"h\",\"text\":[\"0.33\",\"0.67\"],\"textposition\":\"outside\",\"x\":[0.3308193069804269,0.6691806930195732],\"y\":[\"take_profit\",\"stop_loss\"],\"type\":\"bar\"}],                        {\"showlegend\":false,\"title\":{\"text\":\"Hyperparameter Importances\"},\"xaxis\":{\"title\":{\"text\":\"Importance for trades_pnl_total\"}},\"yaxis\":{\"title\":{\"text\":\"Hyperparameter\"}},\"template\":{\"data\":{\"histogram2dcontour\":[{\"type\":\"histogram2dcontour\",\"colorbar\":{\"outlinewidth\":0,\"ticks\":\"\"},\"colorscale\":[[0.0,\"#0d0887\"],[0.1111111111111111,\"#46039f\"],[0.2222222222222222,\"#7201a8\"],[0.3333333333333333,\"#9c179e\"],[0.4444444444444444,\"#bd3786\"],[0.5555555555555556,\"#d8576b\"],[0.6666666666666666,\"#ed7953\"],[0.7777777777777778,\"#fb9f3a\"],[0.8888888888888888,\"#fdca26\"],[1.0,\"#f0f921\"]]}],\"choropleth\":[{\"type\":\"choropleth\",\"colorbar\":{\"outlinewidth\":0,\"ticks\":\"\"}}],\"histogram2d\":[{\"type\":\"histogram2d\",\"colorbar\":{\"outlinewidth\":0,\"ticks\":\"\"},\"colorscale\":[[0.0,\"#0d0887\"],[0.1111111111111111,\"#46039f\"],[0.2222222222222222,\"#7201a8\"],[0.3333333333333333,\"#9c179e\"],[0.4444444444444444,\"#bd3786\"],[0.5555555555555556,\"#d8576b\"],[0.6666666666666666,\"#ed7953\"],[0.7777777777777778,\"#fb9f3a\"],[0.8888888888888888,\"#fdca26\"],[1.0,\"#f0f921\"]]}],\"heatmap\":[{\"type\":\"heatmap\",\"colorbar\":{\"outlinewidth\":0,\"ticks\":\"\"},\"colorscale\":[[0.0,\"#0d0887\"],[0.1111111111111111,\"#46039f\"],[0.2222222222222222,\"#7201a8\"],[0.3333333333333333,\"#9c179e\"],[0.4444444444444444,\"#bd3786\"],[0.5555555555555556,\"#d8576b\"],[0.6666666666666666,\"#ed7953\"],[0.7777777777777778,\"#fb9f3a\"],[0.8888888888888888,\"#fdca26\"],[1.0,\"#f0f921\"]]}],\"heatmapgl\":[{\"type\":\"heatmapgl\",\"colorbar\":{\"outlinewidth\":0,\"ticks\":\"\"},\"colorscale\":[[0.0,\"#0d0887\"],[0.1111111111111111,\"#46039f\"],[0.2222222222222222,\"#7201a8\"],[0.3333333333333333,\"#9c179e\"],[0.4444444444444444,\"#bd3786\"],[0.5555555555555556,\"#d8576b\"],[0.6666666666666666,\"#ed7953\"],[0.7777777777777778,\"#fb9f3a\"],[0.8888888888888888,\"#fdca26\"],[1.0,\"#f0f921\"]]}],\"contourcarpet\":[{\"type\":\"contourcarpet\",\"colorbar\":{\"outlinewidth\":0,\"ticks\":\"\"}}],\"contour\":[{\"type\":\"contour\",\"colorbar\":{\"outlinewidth\":0,\"ticks\":\"\"},\"colorscale\":[[0.0,\"#0d0887\"],[0.1111111111111111,\"#46039f\"],[0.2222222222222222,\"#7201a8\"],[0.3333333333333333,\"#9c179e\"],[0.4444444444444444,\"#bd3786\"],[0.5555555555555556,\"#d8576b\"],[0.6666666666666666,\"#ed7953\"],[0.7777777777777778,\"#fb9f3a\"],[0.8888888888888888,\"#fdca26\"],[1.0,\"#f0f921\"]]}],\"surface\":[{\"type\":\"surface\",\"colorbar\":{\"outlinewidth\":0,\"ticks\":\"\"},\"colorscale\":[[0.0,\"#0d0887\"],[0.1111111111111111,\"#46039f\"],[0.2222222222222222,\"#7201a8\"],[0.3333333333333333,\"#9c179e\"],[0.4444444444444444,\"#bd3786\"],[0.5555555555555556,\"#d8576b\"],[0.6666666666666666,\"#ed7953\"],[0.7777777777777778,\"#fb9f3a\"],[0.8888888888888888,\"#fdca26\"],[1.0,\"#f0f921\"]]}],\"mesh3d\":[{\"type\":\"mesh3d\",\"colorbar\":{\"outlinewidth\":0,\"ticks\":\"\"}}],\"scatter\":[{\"fillpattern\":{\"fillmode\":\"overlay\",\"size\":10,\"solidity\":0.2},\"type\":\"scatter\"}],\"parcoords\":[{\"type\":\"parcoords\",\"line\":{\"colorbar\":{\"outlinewidth\":0,\"ticks\":\"\"}}}],\"scatterpolargl\":[{\"type\":\"scatterpolargl\",\"marker\":{\"colorbar\":{\"outlinewidth\":0,\"ticks\":\"\"}}}],\"bar\":[{\"error_x\":{\"color\":\"#2a3f5f\"},\"error_y\":{\"color\":\"#2a3f5f\"},\"marker\":{\"line\":{\"color\":\"#E5ECF6\",\"width\":0.5},\"pattern\":{\"fillmode\":\"overlay\",\"size\":10,\"solidity\":0.2}},\"type\":\"bar\"}],\"scattergeo\":[{\"type\":\"scattergeo\",\"marker\":{\"colorbar\":{\"outlinewidth\":0,\"ticks\":\"\"}}}],\"scatterpolar\":[{\"type\":\"scatterpolar\",\"marker\":{\"colorbar\":{\"outlinewidth\":0,\"ticks\":\"\"}}}],\"histogram\":[{\"marker\":{\"pattern\":{\"fillmode\":\"overlay\",\"size\":10,\"solidity\":0.2}},\"type\":\"histogram\"}],\"scattergl\":[{\"type\":\"scattergl\",\"marker\":{\"colorbar\":{\"outlinewidth\":0,\"ticks\":\"\"}}}],\"scatter3d\":[{\"type\":\"scatter3d\",\"line\":{\"colorbar\":{\"outlinewidth\":0,\"ticks\":\"\"}},\"marker\":{\"colorbar\":{\"outlinewidth\":0,\"ticks\":\"\"}}}],\"scattermapbox\":[{\"type\":\"scattermapbox\",\"marker\":{\"colorbar\":{\"outlinewidth\":0,\"ticks\":\"\"}}}],\"scatterternary\":[{\"type\":\"scatterternary\",\"marker\":{\"colorbar\":{\"outlinewidth\":0,\"ticks\":\"\"}}}],\"scattercarpet\":[{\"type\":\"scattercarpet\",\"marker\":{\"colorbar\":{\"outlinewidth\":0,\"ticks\":\"\"}}}],\"carpet\":[{\"aaxis\":{\"endlinecolor\":\"#2a3f5f\",\"gridcolor\":\"white\",\"linecolor\":\"white\",\"minorgridcolor\":\"white\",\"startlinecolor\":\"#2a3f5f\"},\"baxis\":{\"endlinecolor\":\"#2a3f5f\",\"gridcolor\":\"white\",\"linecolor\":\"white\",\"minorgridcolor\":\"white\",\"startlinecolor\":\"#2a3f5f\"},\"type\":\"carpet\"}],\"table\":[{\"cells\":{\"fill\":{\"color\":\"#EBF0F8\"},\"line\":{\"color\":\"white\"}},\"header\":{\"fill\":{\"color\":\"#C8D4E3\"},\"line\":{\"color\":\"white\"}},\"type\":\"table\"}],\"barpolar\":[{\"marker\":{\"line\":{\"color\":\"#E5ECF6\",\"width\":0.5},\"pattern\":{\"fillmode\":\"overlay\",\"size\":10,\"solidity\":0.2}},\"type\":\"barpolar\"}],\"pie\":[{\"automargin\":true,\"type\":\"pie\"}]},\"layout\":{\"autotypenumbers\":\"strict\",\"colorway\":[\"#636efa\",\"#EF553B\",\"#00cc96\",\"#ab63fa\",\"#FFA15A\",\"#19d3f3\",\"#FF6692\",\"#B6E880\",\"#FF97FF\",\"#FECB52\"],\"font\":{\"color\":\"#2a3f5f\"},\"hovermode\":\"closest\",\"hoverlabel\":{\"align\":\"left\"},\"paper_bgcolor\":\"white\",\"plot_bgcolor\":\"#E5ECF6\",\"polar\":{\"bgcolor\":\"#E5ECF6\",\"angularaxis\":{\"gridcolor\":\"white\",\"linecolor\":\"white\",\"ticks\":\"\"},\"radialaxis\":{\"gridcolor\":\"white\",\"linecolor\":\"white\",\"ticks\":\"\"}},\"ternary\":{\"bgcolor\":\"#E5ECF6\",\"aaxis\":{\"gridcolor\":\"white\",\"linecolor\":\"white\",\"ticks\":\"\"},\"baxis\":{\"gridcolor\":\"white\",\"linecolor\":\"white\",\"ticks\":\"\"},\"caxis\":{\"gridcolor\":\"white\",\"linecolor\":\"white\",\"ticks\":\"\"}},\"coloraxis\":{\"colorbar\":{\"outlinewidth\":0,\"ticks\":\"\"}},\"colorscale\":{\"sequential\":[[0.0,\"#0d0887\"],[0.1111111111111111,\"#46039f\"],[0.2222222222222222,\"#7201a8\"],[0.3333333333333333,\"#9c179e\"],[0.4444444444444444,\"#bd3786\"],[0.5555555555555556,\"#d8576b\"],[0.6666666666666666,\"#ed7953\"],[0.7777777777777778,\"#fb9f3a\"],[0.8888888888888888,\"#fdca26\"],[1.0,\"#f0f921\"]],\"sequentialminus\":[[0.0,\"#0d0887\"],[0.1111111111111111,\"#46039f\"],[0.2222222222222222,\"#7201a8\"],[0.3333333333333333,\"#9c179e\"],[0.4444444444444444,\"#bd3786\"],[0.5555555555555556,\"#d8576b\"],[0.6666666666666666,\"#ed7953\"],[0.7777777777777778,\"#fb9f3a\"],[0.8888888888888888,\"#fdca26\"],[1.0,\"#f0f921\"]],\"diverging\":[[0,\"#8e0152\"],[0.1,\"#c51b7d\"],[0.2,\"#de77ae\"],[0.3,\"#f1b6da\"],[0.4,\"#fde0ef\"],[0.5,\"#f7f7f7\"],[0.6,\"#e6f5d0\"],[0.7,\"#b8e186\"],[0.8,\"#7fbc41\"],[0.9,\"#4d9221\"],[1,\"#276419\"]]},\"xaxis\":{\"gridcolor\":\"white\",\"linecolor\":\"white\",\"ticks\":\"\",\"title\":{\"standoff\":15},\"zerolinecolor\":\"white\",\"automargin\":true,\"zerolinewidth\":2},\"yaxis\":{\"gridcolor\":\"white\",\"linecolor\":\"white\",\"ticks\":\"\",\"title\":{\"standoff\":15},\"zerolinecolor\":\"white\",\"automargin\":true,\"zerolinewidth\":2},\"scene\":{\"xaxis\":{\"backgroundcolor\":\"#E5ECF6\",\"gridcolor\":\"white\",\"linecolor\":\"white\",\"showbackground\":true,\"ticks\":\"\",\"zerolinecolor\":\"white\",\"gridwidth\":2},\"yaxis\":{\"backgroundcolor\":\"#E5ECF6\",\"gridcolor\":\"white\",\"linecolor\":\"white\",\"showbackground\":true,\"ticks\":\"\",\"zerolinecolor\":\"white\",\"gridwidth\":2},\"zaxis\":{\"backgroundcolor\":\"#E5ECF6\",\"gridcolor\":\"white\",\"linecolor\":\"white\",\"showbackground\":true,\"ticks\":\"\",\"zerolinecolor\":\"white\",\"gridwidth\":2}},\"shapedefaults\":{\"line\":{\"color\":\"#2a3f5f\"}},\"annotationdefaults\":{\"arrowcolor\":\"#2a3f5f\",\"arrowhead\":0,\"arrowwidth\":1},\"geo\":{\"bgcolor\":\"white\",\"landcolor\":\"#E5ECF6\",\"subunitcolor\":\"white\",\"showland\":true,\"showlakes\":true,\"lakecolor\":\"white\"},\"title\":{\"x\":0.05},\"mapbox\":{\"style\":\"light\"}}}},                        {\"responsive\": true}                    ).then(function(){\n",
       "                            \n",
       "var gd = document.getElementById('1092adc9-28d2-441d-8f0e-1e0cd81992e6');\n",
       "var x = new MutationObserver(function (mutations, observer) {{\n",
       "        var display = window.getComputedStyle(gd).display;\n",
       "        if (!display || display === 'none') {{\n",
       "            console.log([gd, 'removed!']);\n",
       "            Plotly.purge(gd);\n",
       "            observer.disconnect();\n",
       "        }}\n",
       "}});\n",
       "\n",
       "// Listen for the removal of the full notebook cells\n",
       "var notebookContainer = gd.closest('#notebook-container');\n",
       "if (notebookContainer) {{\n",
       "    x.observe(notebookContainer, {childList: true});\n",
       "}}\n",
       "\n",
       "// Listen for the clearing of the current output cell\n",
       "var outputEl = gd.closest('.output');\n",
       "if (outputEl) {{\n",
       "    x.observe(outputEl, {childList: true});\n",
       "}}\n",
       "\n",
       "                        })                };                });            </script>        </div>"
      ]
     },
     "metadata": {},
     "output_type": "display_data"
    }
   ],
   "source": [
    "optuna.visualization.plot_param_importances(\n",
    "    study, target=lambda t: t.values[0], target_name=\"trades_pnl_total\"\n",
    ")"
   ]
  },
  {
   "cell_type": "code",
   "execution_count": 81,
   "id": "60172f78",
   "metadata": {},
   "outputs": [
    {
     "data": {
      "application/vnd.plotly.v1+json": {
       "config": {
        "plotlyServerURL": "https://plot.ly"
       },
       "data": [
        {
         "cliponaxis": false,
         "hovertemplate": [
          "stop_loss (FloatDistribution): 0.42338727571408635<extra></extra>",
          "take_profit (FloatDistribution): 0.5766127242859136<extra></extra>"
         ],
         "marker": {
          "color": "rgb(66,146,198)"
         },
         "orientation": "h",
         "text": [
          "0.42",
          "0.58"
         ],
         "textposition": "outside",
         "type": "bar",
         "x": [
          0.42338727571408635,
          0.5766127242859136
         ],
         "y": [
          "stop_loss",
          "take_profit"
         ]
        }
       ],
       "layout": {
        "showlegend": false,
        "template": {
         "data": {
          "bar": [
           {
            "error_x": {
             "color": "#2a3f5f"
            },
            "error_y": {
             "color": "#2a3f5f"
            },
            "marker": {
             "line": {
              "color": "#E5ECF6",
              "width": 0.5
             },
             "pattern": {
              "fillmode": "overlay",
              "size": 10,
              "solidity": 0.2
             }
            },
            "type": "bar"
           }
          ],
          "barpolar": [
           {
            "marker": {
             "line": {
              "color": "#E5ECF6",
              "width": 0.5
             },
             "pattern": {
              "fillmode": "overlay",
              "size": 10,
              "solidity": 0.2
             }
            },
            "type": "barpolar"
           }
          ],
          "carpet": [
           {
            "aaxis": {
             "endlinecolor": "#2a3f5f",
             "gridcolor": "white",
             "linecolor": "white",
             "minorgridcolor": "white",
             "startlinecolor": "#2a3f5f"
            },
            "baxis": {
             "endlinecolor": "#2a3f5f",
             "gridcolor": "white",
             "linecolor": "white",
             "minorgridcolor": "white",
             "startlinecolor": "#2a3f5f"
            },
            "type": "carpet"
           }
          ],
          "choropleth": [
           {
            "colorbar": {
             "outlinewidth": 0,
             "ticks": ""
            },
            "type": "choropleth"
           }
          ],
          "contour": [
           {
            "colorbar": {
             "outlinewidth": 0,
             "ticks": ""
            },
            "colorscale": [
             [
              0,
              "#0d0887"
             ],
             [
              0.1111111111111111,
              "#46039f"
             ],
             [
              0.2222222222222222,
              "#7201a8"
             ],
             [
              0.3333333333333333,
              "#9c179e"
             ],
             [
              0.4444444444444444,
              "#bd3786"
             ],
             [
              0.5555555555555556,
              "#d8576b"
             ],
             [
              0.6666666666666666,
              "#ed7953"
             ],
             [
              0.7777777777777778,
              "#fb9f3a"
             ],
             [
              0.8888888888888888,
              "#fdca26"
             ],
             [
              1,
              "#f0f921"
             ]
            ],
            "type": "contour"
           }
          ],
          "contourcarpet": [
           {
            "colorbar": {
             "outlinewidth": 0,
             "ticks": ""
            },
            "type": "contourcarpet"
           }
          ],
          "heatmap": [
           {
            "colorbar": {
             "outlinewidth": 0,
             "ticks": ""
            },
            "colorscale": [
             [
              0,
              "#0d0887"
             ],
             [
              0.1111111111111111,
              "#46039f"
             ],
             [
              0.2222222222222222,
              "#7201a8"
             ],
             [
              0.3333333333333333,
              "#9c179e"
             ],
             [
              0.4444444444444444,
              "#bd3786"
             ],
             [
              0.5555555555555556,
              "#d8576b"
             ],
             [
              0.6666666666666666,
              "#ed7953"
             ],
             [
              0.7777777777777778,
              "#fb9f3a"
             ],
             [
              0.8888888888888888,
              "#fdca26"
             ],
             [
              1,
              "#f0f921"
             ]
            ],
            "type": "heatmap"
           }
          ],
          "heatmapgl": [
           {
            "colorbar": {
             "outlinewidth": 0,
             "ticks": ""
            },
            "colorscale": [
             [
              0,
              "#0d0887"
             ],
             [
              0.1111111111111111,
              "#46039f"
             ],
             [
              0.2222222222222222,
              "#7201a8"
             ],
             [
              0.3333333333333333,
              "#9c179e"
             ],
             [
              0.4444444444444444,
              "#bd3786"
             ],
             [
              0.5555555555555556,
              "#d8576b"
             ],
             [
              0.6666666666666666,
              "#ed7953"
             ],
             [
              0.7777777777777778,
              "#fb9f3a"
             ],
             [
              0.8888888888888888,
              "#fdca26"
             ],
             [
              1,
              "#f0f921"
             ]
            ],
            "type": "heatmapgl"
           }
          ],
          "histogram": [
           {
            "marker": {
             "pattern": {
              "fillmode": "overlay",
              "size": 10,
              "solidity": 0.2
             }
            },
            "type": "histogram"
           }
          ],
          "histogram2d": [
           {
            "colorbar": {
             "outlinewidth": 0,
             "ticks": ""
            },
            "colorscale": [
             [
              0,
              "#0d0887"
             ],
             [
              0.1111111111111111,
              "#46039f"
             ],
             [
              0.2222222222222222,
              "#7201a8"
             ],
             [
              0.3333333333333333,
              "#9c179e"
             ],
             [
              0.4444444444444444,
              "#bd3786"
             ],
             [
              0.5555555555555556,
              "#d8576b"
             ],
             [
              0.6666666666666666,
              "#ed7953"
             ],
             [
              0.7777777777777778,
              "#fb9f3a"
             ],
             [
              0.8888888888888888,
              "#fdca26"
             ],
             [
              1,
              "#f0f921"
             ]
            ],
            "type": "histogram2d"
           }
          ],
          "histogram2dcontour": [
           {
            "colorbar": {
             "outlinewidth": 0,
             "ticks": ""
            },
            "colorscale": [
             [
              0,
              "#0d0887"
             ],
             [
              0.1111111111111111,
              "#46039f"
             ],
             [
              0.2222222222222222,
              "#7201a8"
             ],
             [
              0.3333333333333333,
              "#9c179e"
             ],
             [
              0.4444444444444444,
              "#bd3786"
             ],
             [
              0.5555555555555556,
              "#d8576b"
             ],
             [
              0.6666666666666666,
              "#ed7953"
             ],
             [
              0.7777777777777778,
              "#fb9f3a"
             ],
             [
              0.8888888888888888,
              "#fdca26"
             ],
             [
              1,
              "#f0f921"
             ]
            ],
            "type": "histogram2dcontour"
           }
          ],
          "mesh3d": [
           {
            "colorbar": {
             "outlinewidth": 0,
             "ticks": ""
            },
            "type": "mesh3d"
           }
          ],
          "parcoords": [
           {
            "line": {
             "colorbar": {
              "outlinewidth": 0,
              "ticks": ""
             }
            },
            "type": "parcoords"
           }
          ],
          "pie": [
           {
            "automargin": true,
            "type": "pie"
           }
          ],
          "scatter": [
           {
            "fillpattern": {
             "fillmode": "overlay",
             "size": 10,
             "solidity": 0.2
            },
            "type": "scatter"
           }
          ],
          "scatter3d": [
           {
            "line": {
             "colorbar": {
              "outlinewidth": 0,
              "ticks": ""
             }
            },
            "marker": {
             "colorbar": {
              "outlinewidth": 0,
              "ticks": ""
             }
            },
            "type": "scatter3d"
           }
          ],
          "scattercarpet": [
           {
            "marker": {
             "colorbar": {
              "outlinewidth": 0,
              "ticks": ""
             }
            },
            "type": "scattercarpet"
           }
          ],
          "scattergeo": [
           {
            "marker": {
             "colorbar": {
              "outlinewidth": 0,
              "ticks": ""
             }
            },
            "type": "scattergeo"
           }
          ],
          "scattergl": [
           {
            "marker": {
             "colorbar": {
              "outlinewidth": 0,
              "ticks": ""
             }
            },
            "type": "scattergl"
           }
          ],
          "scattermapbox": [
           {
            "marker": {
             "colorbar": {
              "outlinewidth": 0,
              "ticks": ""
             }
            },
            "type": "scattermapbox"
           }
          ],
          "scatterpolar": [
           {
            "marker": {
             "colorbar": {
              "outlinewidth": 0,
              "ticks": ""
             }
            },
            "type": "scatterpolar"
           }
          ],
          "scatterpolargl": [
           {
            "marker": {
             "colorbar": {
              "outlinewidth": 0,
              "ticks": ""
             }
            },
            "type": "scatterpolargl"
           }
          ],
          "scatterternary": [
           {
            "marker": {
             "colorbar": {
              "outlinewidth": 0,
              "ticks": ""
             }
            },
            "type": "scatterternary"
           }
          ],
          "surface": [
           {
            "colorbar": {
             "outlinewidth": 0,
             "ticks": ""
            },
            "colorscale": [
             [
              0,
              "#0d0887"
             ],
             [
              0.1111111111111111,
              "#46039f"
             ],
             [
              0.2222222222222222,
              "#7201a8"
             ],
             [
              0.3333333333333333,
              "#9c179e"
             ],
             [
              0.4444444444444444,
              "#bd3786"
             ],
             [
              0.5555555555555556,
              "#d8576b"
             ],
             [
              0.6666666666666666,
              "#ed7953"
             ],
             [
              0.7777777777777778,
              "#fb9f3a"
             ],
             [
              0.8888888888888888,
              "#fdca26"
             ],
             [
              1,
              "#f0f921"
             ]
            ],
            "type": "surface"
           }
          ],
          "table": [
           {
            "cells": {
             "fill": {
              "color": "#EBF0F8"
             },
             "line": {
              "color": "white"
             }
            },
            "header": {
             "fill": {
              "color": "#C8D4E3"
             },
             "line": {
              "color": "white"
             }
            },
            "type": "table"
           }
          ]
         },
         "layout": {
          "annotationdefaults": {
           "arrowcolor": "#2a3f5f",
           "arrowhead": 0,
           "arrowwidth": 1
          },
          "autotypenumbers": "strict",
          "coloraxis": {
           "colorbar": {
            "outlinewidth": 0,
            "ticks": ""
           }
          },
          "colorscale": {
           "diverging": [
            [
             0,
             "#8e0152"
            ],
            [
             0.1,
             "#c51b7d"
            ],
            [
             0.2,
             "#de77ae"
            ],
            [
             0.3,
             "#f1b6da"
            ],
            [
             0.4,
             "#fde0ef"
            ],
            [
             0.5,
             "#f7f7f7"
            ],
            [
             0.6,
             "#e6f5d0"
            ],
            [
             0.7,
             "#b8e186"
            ],
            [
             0.8,
             "#7fbc41"
            ],
            [
             0.9,
             "#4d9221"
            ],
            [
             1,
             "#276419"
            ]
           ],
           "sequential": [
            [
             0,
             "#0d0887"
            ],
            [
             0.1111111111111111,
             "#46039f"
            ],
            [
             0.2222222222222222,
             "#7201a8"
            ],
            [
             0.3333333333333333,
             "#9c179e"
            ],
            [
             0.4444444444444444,
             "#bd3786"
            ],
            [
             0.5555555555555556,
             "#d8576b"
            ],
            [
             0.6666666666666666,
             "#ed7953"
            ],
            [
             0.7777777777777778,
             "#fb9f3a"
            ],
            [
             0.8888888888888888,
             "#fdca26"
            ],
            [
             1,
             "#f0f921"
            ]
           ],
           "sequentialminus": [
            [
             0,
             "#0d0887"
            ],
            [
             0.1111111111111111,
             "#46039f"
            ],
            [
             0.2222222222222222,
             "#7201a8"
            ],
            [
             0.3333333333333333,
             "#9c179e"
            ],
            [
             0.4444444444444444,
             "#bd3786"
            ],
            [
             0.5555555555555556,
             "#d8576b"
            ],
            [
             0.6666666666666666,
             "#ed7953"
            ],
            [
             0.7777777777777778,
             "#fb9f3a"
            ],
            [
             0.8888888888888888,
             "#fdca26"
            ],
            [
             1,
             "#f0f921"
            ]
           ]
          },
          "colorway": [
           "#636efa",
           "#EF553B",
           "#00cc96",
           "#ab63fa",
           "#FFA15A",
           "#19d3f3",
           "#FF6692",
           "#B6E880",
           "#FF97FF",
           "#FECB52"
          ],
          "font": {
           "color": "#2a3f5f"
          },
          "geo": {
           "bgcolor": "white",
           "lakecolor": "white",
           "landcolor": "#E5ECF6",
           "showlakes": true,
           "showland": true,
           "subunitcolor": "white"
          },
          "hoverlabel": {
           "align": "left"
          },
          "hovermode": "closest",
          "mapbox": {
           "style": "light"
          },
          "paper_bgcolor": "white",
          "plot_bgcolor": "#E5ECF6",
          "polar": {
           "angularaxis": {
            "gridcolor": "white",
            "linecolor": "white",
            "ticks": ""
           },
           "bgcolor": "#E5ECF6",
           "radialaxis": {
            "gridcolor": "white",
            "linecolor": "white",
            "ticks": ""
           }
          },
          "scene": {
           "xaxis": {
            "backgroundcolor": "#E5ECF6",
            "gridcolor": "white",
            "gridwidth": 2,
            "linecolor": "white",
            "showbackground": true,
            "ticks": "",
            "zerolinecolor": "white"
           },
           "yaxis": {
            "backgroundcolor": "#E5ECF6",
            "gridcolor": "white",
            "gridwidth": 2,
            "linecolor": "white",
            "showbackground": true,
            "ticks": "",
            "zerolinecolor": "white"
           },
           "zaxis": {
            "backgroundcolor": "#E5ECF6",
            "gridcolor": "white",
            "gridwidth": 2,
            "linecolor": "white",
            "showbackground": true,
            "ticks": "",
            "zerolinecolor": "white"
           }
          },
          "shapedefaults": {
           "line": {
            "color": "#2a3f5f"
           }
          },
          "ternary": {
           "aaxis": {
            "gridcolor": "white",
            "linecolor": "white",
            "ticks": ""
           },
           "baxis": {
            "gridcolor": "white",
            "linecolor": "white",
            "ticks": ""
           },
           "bgcolor": "#E5ECF6",
           "caxis": {
            "gridcolor": "white",
            "linecolor": "white",
            "ticks": ""
           }
          },
          "title": {
           "x": 0.05
          },
          "xaxis": {
           "automargin": true,
           "gridcolor": "white",
           "linecolor": "white",
           "ticks": "",
           "title": {
            "standoff": 15
           },
           "zerolinecolor": "white",
           "zerolinewidth": 2
          },
          "yaxis": {
           "automargin": true,
           "gridcolor": "white",
           "linecolor": "white",
           "ticks": "",
           "title": {
            "standoff": 15
           },
           "zerolinecolor": "white",
           "zerolinewidth": 2
          }
         }
        },
        "title": {
         "text": "Hyperparameter Importances"
        },
        "xaxis": {
         "title": {
          "text": "Importance for trades_pnl_std"
         }
        },
        "yaxis": {
         "title": {
          "text": "Hyperparameter"
         }
        }
       }
      },
      "text/html": [
       "<div>                            <div id=\"9ca0f95c-1b65-4bfd-893d-6db48e650b0d\" class=\"plotly-graph-div\" style=\"height:525px; width:100%;\"></div>            <script type=\"text/javascript\">                require([\"plotly\"], function(Plotly) {                    window.PLOTLYENV=window.PLOTLYENV || {};                                    if (document.getElementById(\"9ca0f95c-1b65-4bfd-893d-6db48e650b0d\")) {                    Plotly.newPlot(                        \"9ca0f95c-1b65-4bfd-893d-6db48e650b0d\",                        [{\"cliponaxis\":false,\"hovertemplate\":[\"stop_loss (FloatDistribution): 0.42338727571408635<extra></extra>\",\"take_profit (FloatDistribution): 0.5766127242859136<extra></extra>\"],\"marker\":{\"color\":\"rgb(66,146,198)\"},\"orientation\":\"h\",\"text\":[\"0.42\",\"0.58\"],\"textposition\":\"outside\",\"x\":[0.42338727571408635,0.5766127242859136],\"y\":[\"stop_loss\",\"take_profit\"],\"type\":\"bar\"}],                        {\"showlegend\":false,\"title\":{\"text\":\"Hyperparameter Importances\"},\"xaxis\":{\"title\":{\"text\":\"Importance for trades_pnl_std\"}},\"yaxis\":{\"title\":{\"text\":\"Hyperparameter\"}},\"template\":{\"data\":{\"histogram2dcontour\":[{\"type\":\"histogram2dcontour\",\"colorbar\":{\"outlinewidth\":0,\"ticks\":\"\"},\"colorscale\":[[0.0,\"#0d0887\"],[0.1111111111111111,\"#46039f\"],[0.2222222222222222,\"#7201a8\"],[0.3333333333333333,\"#9c179e\"],[0.4444444444444444,\"#bd3786\"],[0.5555555555555556,\"#d8576b\"],[0.6666666666666666,\"#ed7953\"],[0.7777777777777778,\"#fb9f3a\"],[0.8888888888888888,\"#fdca26\"],[1.0,\"#f0f921\"]]}],\"choropleth\":[{\"type\":\"choropleth\",\"colorbar\":{\"outlinewidth\":0,\"ticks\":\"\"}}],\"histogram2d\":[{\"type\":\"histogram2d\",\"colorbar\":{\"outlinewidth\":0,\"ticks\":\"\"},\"colorscale\":[[0.0,\"#0d0887\"],[0.1111111111111111,\"#46039f\"],[0.2222222222222222,\"#7201a8\"],[0.3333333333333333,\"#9c179e\"],[0.4444444444444444,\"#bd3786\"],[0.5555555555555556,\"#d8576b\"],[0.6666666666666666,\"#ed7953\"],[0.7777777777777778,\"#fb9f3a\"],[0.8888888888888888,\"#fdca26\"],[1.0,\"#f0f921\"]]}],\"heatmap\":[{\"type\":\"heatmap\",\"colorbar\":{\"outlinewidth\":0,\"ticks\":\"\"},\"colorscale\":[[0.0,\"#0d0887\"],[0.1111111111111111,\"#46039f\"],[0.2222222222222222,\"#7201a8\"],[0.3333333333333333,\"#9c179e\"],[0.4444444444444444,\"#bd3786\"],[0.5555555555555556,\"#d8576b\"],[0.6666666666666666,\"#ed7953\"],[0.7777777777777778,\"#fb9f3a\"],[0.8888888888888888,\"#fdca26\"],[1.0,\"#f0f921\"]]}],\"heatmapgl\":[{\"type\":\"heatmapgl\",\"colorbar\":{\"outlinewidth\":0,\"ticks\":\"\"},\"colorscale\":[[0.0,\"#0d0887\"],[0.1111111111111111,\"#46039f\"],[0.2222222222222222,\"#7201a8\"],[0.3333333333333333,\"#9c179e\"],[0.4444444444444444,\"#bd3786\"],[0.5555555555555556,\"#d8576b\"],[0.6666666666666666,\"#ed7953\"],[0.7777777777777778,\"#fb9f3a\"],[0.8888888888888888,\"#fdca26\"],[1.0,\"#f0f921\"]]}],\"contourcarpet\":[{\"type\":\"contourcarpet\",\"colorbar\":{\"outlinewidth\":0,\"ticks\":\"\"}}],\"contour\":[{\"type\":\"contour\",\"colorbar\":{\"outlinewidth\":0,\"ticks\":\"\"},\"colorscale\":[[0.0,\"#0d0887\"],[0.1111111111111111,\"#46039f\"],[0.2222222222222222,\"#7201a8\"],[0.3333333333333333,\"#9c179e\"],[0.4444444444444444,\"#bd3786\"],[0.5555555555555556,\"#d8576b\"],[0.6666666666666666,\"#ed7953\"],[0.7777777777777778,\"#fb9f3a\"],[0.8888888888888888,\"#fdca26\"],[1.0,\"#f0f921\"]]}],\"surface\":[{\"type\":\"surface\",\"colorbar\":{\"outlinewidth\":0,\"ticks\":\"\"},\"colorscale\":[[0.0,\"#0d0887\"],[0.1111111111111111,\"#46039f\"],[0.2222222222222222,\"#7201a8\"],[0.3333333333333333,\"#9c179e\"],[0.4444444444444444,\"#bd3786\"],[0.5555555555555556,\"#d8576b\"],[0.6666666666666666,\"#ed7953\"],[0.7777777777777778,\"#fb9f3a\"],[0.8888888888888888,\"#fdca26\"],[1.0,\"#f0f921\"]]}],\"mesh3d\":[{\"type\":\"mesh3d\",\"colorbar\":{\"outlinewidth\":0,\"ticks\":\"\"}}],\"scatter\":[{\"fillpattern\":{\"fillmode\":\"overlay\",\"size\":10,\"solidity\":0.2},\"type\":\"scatter\"}],\"parcoords\":[{\"type\":\"parcoords\",\"line\":{\"colorbar\":{\"outlinewidth\":0,\"ticks\":\"\"}}}],\"scatterpolargl\":[{\"type\":\"scatterpolargl\",\"marker\":{\"colorbar\":{\"outlinewidth\":0,\"ticks\":\"\"}}}],\"bar\":[{\"error_x\":{\"color\":\"#2a3f5f\"},\"error_y\":{\"color\":\"#2a3f5f\"},\"marker\":{\"line\":{\"color\":\"#E5ECF6\",\"width\":0.5},\"pattern\":{\"fillmode\":\"overlay\",\"size\":10,\"solidity\":0.2}},\"type\":\"bar\"}],\"scattergeo\":[{\"type\":\"scattergeo\",\"marker\":{\"colorbar\":{\"outlinewidth\":0,\"ticks\":\"\"}}}],\"scatterpolar\":[{\"type\":\"scatterpolar\",\"marker\":{\"colorbar\":{\"outlinewidth\":0,\"ticks\":\"\"}}}],\"histogram\":[{\"marker\":{\"pattern\":{\"fillmode\":\"overlay\",\"size\":10,\"solidity\":0.2}},\"type\":\"histogram\"}],\"scattergl\":[{\"type\":\"scattergl\",\"marker\":{\"colorbar\":{\"outlinewidth\":0,\"ticks\":\"\"}}}],\"scatter3d\":[{\"type\":\"scatter3d\",\"line\":{\"colorbar\":{\"outlinewidth\":0,\"ticks\":\"\"}},\"marker\":{\"colorbar\":{\"outlinewidth\":0,\"ticks\":\"\"}}}],\"scattermapbox\":[{\"type\":\"scattermapbox\",\"marker\":{\"colorbar\":{\"outlinewidth\":0,\"ticks\":\"\"}}}],\"scatterternary\":[{\"type\":\"scatterternary\",\"marker\":{\"colorbar\":{\"outlinewidth\":0,\"ticks\":\"\"}}}],\"scattercarpet\":[{\"type\":\"scattercarpet\",\"marker\":{\"colorbar\":{\"outlinewidth\":0,\"ticks\":\"\"}}}],\"carpet\":[{\"aaxis\":{\"endlinecolor\":\"#2a3f5f\",\"gridcolor\":\"white\",\"linecolor\":\"white\",\"minorgridcolor\":\"white\",\"startlinecolor\":\"#2a3f5f\"},\"baxis\":{\"endlinecolor\":\"#2a3f5f\",\"gridcolor\":\"white\",\"linecolor\":\"white\",\"minorgridcolor\":\"white\",\"startlinecolor\":\"#2a3f5f\"},\"type\":\"carpet\"}],\"table\":[{\"cells\":{\"fill\":{\"color\":\"#EBF0F8\"},\"line\":{\"color\":\"white\"}},\"header\":{\"fill\":{\"color\":\"#C8D4E3\"},\"line\":{\"color\":\"white\"}},\"type\":\"table\"}],\"barpolar\":[{\"marker\":{\"line\":{\"color\":\"#E5ECF6\",\"width\":0.5},\"pattern\":{\"fillmode\":\"overlay\",\"size\":10,\"solidity\":0.2}},\"type\":\"barpolar\"}],\"pie\":[{\"automargin\":true,\"type\":\"pie\"}]},\"layout\":{\"autotypenumbers\":\"strict\",\"colorway\":[\"#636efa\",\"#EF553B\",\"#00cc96\",\"#ab63fa\",\"#FFA15A\",\"#19d3f3\",\"#FF6692\",\"#B6E880\",\"#FF97FF\",\"#FECB52\"],\"font\":{\"color\":\"#2a3f5f\"},\"hovermode\":\"closest\",\"hoverlabel\":{\"align\":\"left\"},\"paper_bgcolor\":\"white\",\"plot_bgcolor\":\"#E5ECF6\",\"polar\":{\"bgcolor\":\"#E5ECF6\",\"angularaxis\":{\"gridcolor\":\"white\",\"linecolor\":\"white\",\"ticks\":\"\"},\"radialaxis\":{\"gridcolor\":\"white\",\"linecolor\":\"white\",\"ticks\":\"\"}},\"ternary\":{\"bgcolor\":\"#E5ECF6\",\"aaxis\":{\"gridcolor\":\"white\",\"linecolor\":\"white\",\"ticks\":\"\"},\"baxis\":{\"gridcolor\":\"white\",\"linecolor\":\"white\",\"ticks\":\"\"},\"caxis\":{\"gridcolor\":\"white\",\"linecolor\":\"white\",\"ticks\":\"\"}},\"coloraxis\":{\"colorbar\":{\"outlinewidth\":0,\"ticks\":\"\"}},\"colorscale\":{\"sequential\":[[0.0,\"#0d0887\"],[0.1111111111111111,\"#46039f\"],[0.2222222222222222,\"#7201a8\"],[0.3333333333333333,\"#9c179e\"],[0.4444444444444444,\"#bd3786\"],[0.5555555555555556,\"#d8576b\"],[0.6666666666666666,\"#ed7953\"],[0.7777777777777778,\"#fb9f3a\"],[0.8888888888888888,\"#fdca26\"],[1.0,\"#f0f921\"]],\"sequentialminus\":[[0.0,\"#0d0887\"],[0.1111111111111111,\"#46039f\"],[0.2222222222222222,\"#7201a8\"],[0.3333333333333333,\"#9c179e\"],[0.4444444444444444,\"#bd3786\"],[0.5555555555555556,\"#d8576b\"],[0.6666666666666666,\"#ed7953\"],[0.7777777777777778,\"#fb9f3a\"],[0.8888888888888888,\"#fdca26\"],[1.0,\"#f0f921\"]],\"diverging\":[[0,\"#8e0152\"],[0.1,\"#c51b7d\"],[0.2,\"#de77ae\"],[0.3,\"#f1b6da\"],[0.4,\"#fde0ef\"],[0.5,\"#f7f7f7\"],[0.6,\"#e6f5d0\"],[0.7,\"#b8e186\"],[0.8,\"#7fbc41\"],[0.9,\"#4d9221\"],[1,\"#276419\"]]},\"xaxis\":{\"gridcolor\":\"white\",\"linecolor\":\"white\",\"ticks\":\"\",\"title\":{\"standoff\":15},\"zerolinecolor\":\"white\",\"automargin\":true,\"zerolinewidth\":2},\"yaxis\":{\"gridcolor\":\"white\",\"linecolor\":\"white\",\"ticks\":\"\",\"title\":{\"standoff\":15},\"zerolinecolor\":\"white\",\"automargin\":true,\"zerolinewidth\":2},\"scene\":{\"xaxis\":{\"backgroundcolor\":\"#E5ECF6\",\"gridcolor\":\"white\",\"linecolor\":\"white\",\"showbackground\":true,\"ticks\":\"\",\"zerolinecolor\":\"white\",\"gridwidth\":2},\"yaxis\":{\"backgroundcolor\":\"#E5ECF6\",\"gridcolor\":\"white\",\"linecolor\":\"white\",\"showbackground\":true,\"ticks\":\"\",\"zerolinecolor\":\"white\",\"gridwidth\":2},\"zaxis\":{\"backgroundcolor\":\"#E5ECF6\",\"gridcolor\":\"white\",\"linecolor\":\"white\",\"showbackground\":true,\"ticks\":\"\",\"zerolinecolor\":\"white\",\"gridwidth\":2}},\"shapedefaults\":{\"line\":{\"color\":\"#2a3f5f\"}},\"annotationdefaults\":{\"arrowcolor\":\"#2a3f5f\",\"arrowhead\":0,\"arrowwidth\":1},\"geo\":{\"bgcolor\":\"white\",\"landcolor\":\"#E5ECF6\",\"subunitcolor\":\"white\",\"showland\":true,\"showlakes\":true,\"lakecolor\":\"white\"},\"title\":{\"x\":0.05},\"mapbox\":{\"style\":\"light\"}}}},                        {\"responsive\": true}                    ).then(function(){\n",
       "                            \n",
       "var gd = document.getElementById('9ca0f95c-1b65-4bfd-893d-6db48e650b0d');\n",
       "var x = new MutationObserver(function (mutations, observer) {{\n",
       "        var display = window.getComputedStyle(gd).display;\n",
       "        if (!display || display === 'none') {{\n",
       "            console.log([gd, 'removed!']);\n",
       "            Plotly.purge(gd);\n",
       "            observer.disconnect();\n",
       "        }}\n",
       "}});\n",
       "\n",
       "// Listen for the removal of the full notebook cells\n",
       "var notebookContainer = gd.closest('#notebook-container');\n",
       "if (notebookContainer) {{\n",
       "    x.observe(notebookContainer, {childList: true});\n",
       "}}\n",
       "\n",
       "// Listen for the clearing of the current output cell\n",
       "var outputEl = gd.closest('.output');\n",
       "if (outputEl) {{\n",
       "    x.observe(outputEl, {childList: true});\n",
       "}}\n",
       "\n",
       "                        })                };                });            </script>        </div>"
      ]
     },
     "metadata": {},
     "output_type": "display_data"
    }
   ],
   "source": [
    "optuna.visualization.plot_param_importances(\n",
    "    study, target=lambda t: t.values[1], target_name=\"trades_pnl_std\"\n",
    ")"
   ]
  },
  {
   "cell_type": "code",
   "execution_count": 159,
   "id": "81ccc511",
   "metadata": {},
   "outputs": [
    {
     "data": {
      "text/html": [
       "<div>\n",
       "<style scoped>\n",
       "    .dataframe tbody tr th:only-of-type {\n",
       "        vertical-align: middle;\n",
       "    }\n",
       "\n",
       "    .dataframe tbody tr th {\n",
       "        vertical-align: top;\n",
       "    }\n",
       "\n",
       "    .dataframe thead th {\n",
       "        text-align: right;\n",
       "    }\n",
       "</style>\n",
       "<table border=\"1\" class=\"dataframe\">\n",
       "  <thead>\n",
       "    <tr style=\"text-align: right;\">\n",
       "      <th></th>\n",
       "      <th>number</th>\n",
       "      <th>take_profit</th>\n",
       "      <th>stop_loss</th>\n",
       "      <th>value_0</th>\n",
       "      <th>value_1</th>\n",
       "      <th>value_loss_to_profit</th>\n",
       "    </tr>\n",
       "  </thead>\n",
       "  <tbody>\n",
       "    <tr>\n",
       "      <th>0</th>\n",
       "      <td>54</td>\n",
       "      <td>0.304391</td>\n",
       "      <td>0.530411</td>\n",
       "      <td>8.34</td>\n",
       "      <td>0.550256</td>\n",
       "      <td>1.742535</td>\n",
       "    </tr>\n",
       "    <tr>\n",
       "      <th>1</th>\n",
       "      <td>81</td>\n",
       "      <td>0.252802</td>\n",
       "      <td>0.534918</td>\n",
       "      <td>7.39</td>\n",
       "      <td>0.543838</td>\n",
       "      <td>2.115957</td>\n",
       "    </tr>\n",
       "    <tr>\n",
       "      <th>2</th>\n",
       "      <td>140</td>\n",
       "      <td>0.155326</td>\n",
       "      <td>0.438250</td>\n",
       "      <td>5.56</td>\n",
       "      <td>0.493331</td>\n",
       "      <td>2.821478</td>\n",
       "    </tr>\n",
       "    <tr>\n",
       "      <th>3</th>\n",
       "      <td>152</td>\n",
       "      <td>0.155326</td>\n",
       "      <td>0.412187</td>\n",
       "      <td>5.06</td>\n",
       "      <td>0.486972</td>\n",
       "      <td>2.653688</td>\n",
       "    </tr>\n",
       "    <tr>\n",
       "      <th>4</th>\n",
       "      <td>162</td>\n",
       "      <td>0.419386</td>\n",
       "      <td>0.412546</td>\n",
       "      <td>9.84</td>\n",
       "      <td>0.592679</td>\n",
       "      <td>0.983689</td>\n",
       "    </tr>\n",
       "    <tr>\n",
       "      <th>5</th>\n",
       "      <td>170</td>\n",
       "      <td>0.100320</td>\n",
       "      <td>0.222811</td>\n",
       "      <td>2.13</td>\n",
       "      <td>0.414335</td>\n",
       "      <td>2.221012</td>\n",
       "    </tr>\n",
       "    <tr>\n",
       "      <th>6</th>\n",
       "      <td>179</td>\n",
       "      <td>0.304662</td>\n",
       "      <td>0.536906</td>\n",
       "      <td>8.34</td>\n",
       "      <td>0.550256</td>\n",
       "      <td>1.762301</td>\n",
       "    </tr>\n",
       "    <tr>\n",
       "      <th>7</th>\n",
       "      <td>194</td>\n",
       "      <td>0.252802</td>\n",
       "      <td>0.534918</td>\n",
       "      <td>7.39</td>\n",
       "      <td>0.543838</td>\n",
       "      <td>2.115957</td>\n",
       "    </tr>\n",
       "    <tr>\n",
       "      <th>8</th>\n",
       "      <td>196</td>\n",
       "      <td>0.304662</td>\n",
       "      <td>0.534918</td>\n",
       "      <td>8.34</td>\n",
       "      <td>0.550256</td>\n",
       "      <td>1.755775</td>\n",
       "    </tr>\n",
       "    <tr>\n",
       "      <th>9</th>\n",
       "      <td>209</td>\n",
       "      <td>0.252802</td>\n",
       "      <td>0.542321</td>\n",
       "      <td>7.39</td>\n",
       "      <td>0.543838</td>\n",
       "      <td>2.145242</td>\n",
       "    </tr>\n",
       "    <tr>\n",
       "      <th>10</th>\n",
       "      <td>215</td>\n",
       "      <td>0.304662</td>\n",
       "      <td>0.536906</td>\n",
       "      <td>8.34</td>\n",
       "      <td>0.550256</td>\n",
       "      <td>1.762301</td>\n",
       "    </tr>\n",
       "    <tr>\n",
       "      <th>11</th>\n",
       "      <td>224</td>\n",
       "      <td>0.332218</td>\n",
       "      <td>0.291293</td>\n",
       "      <td>6.06</td>\n",
       "      <td>0.506060</td>\n",
       "      <td>0.876812</td>\n",
       "    </tr>\n",
       "    <tr>\n",
       "      <th>12</th>\n",
       "      <td>278</td>\n",
       "      <td>0.131384</td>\n",
       "      <td>0.302628</td>\n",
       "      <td>4.92</td>\n",
       "      <td>0.437314</td>\n",
       "      <td>2.303394</td>\n",
       "    </tr>\n",
       "    <tr>\n",
       "      <th>13</th>\n",
       "      <td>295</td>\n",
       "      <td>0.059537</td>\n",
       "      <td>0.222343</td>\n",
       "      <td>0.58</td>\n",
       "      <td>0.396197</td>\n",
       "      <td>3.734556</td>\n",
       "    </tr>\n",
       "    <tr>\n",
       "      <th>14</th>\n",
       "      <td>330</td>\n",
       "      <td>0.155326</td>\n",
       "      <td>0.412187</td>\n",
       "      <td>5.06</td>\n",
       "      <td>0.486972</td>\n",
       "      <td>2.653688</td>\n",
       "    </tr>\n",
       "    <tr>\n",
       "      <th>15</th>\n",
       "      <td>333</td>\n",
       "      <td>0.156352</td>\n",
       "      <td>0.438250</td>\n",
       "      <td>5.56</td>\n",
       "      <td>0.493331</td>\n",
       "      <td>2.802965</td>\n",
       "    </tr>\n",
       "    <tr>\n",
       "      <th>16</th>\n",
       "      <td>334</td>\n",
       "      <td>0.419386</td>\n",
       "      <td>0.412546</td>\n",
       "      <td>9.84</td>\n",
       "      <td>0.592679</td>\n",
       "      <td>0.983689</td>\n",
       "    </tr>\n",
       "    <tr>\n",
       "      <th>17</th>\n",
       "      <td>361</td>\n",
       "      <td>0.303932</td>\n",
       "      <td>0.423470</td>\n",
       "      <td>7.22</td>\n",
       "      <td>0.523128</td>\n",
       "      <td>1.393309</td>\n",
       "    </tr>\n",
       "    <tr>\n",
       "      <th>18</th>\n",
       "      <td>372</td>\n",
       "      <td>0.424771</td>\n",
       "      <td>0.257603</td>\n",
       "      <td>8.84</td>\n",
       "      <td>0.551589</td>\n",
       "      <td>0.606450</td>\n",
       "    </tr>\n",
       "    <tr>\n",
       "      <th>19</th>\n",
       "      <td>383</td>\n",
       "      <td>0.059537</td>\n",
       "      <td>0.222343</td>\n",
       "      <td>0.58</td>\n",
       "      <td>0.396197</td>\n",
       "      <td>3.734556</td>\n",
       "    </tr>\n",
       "  </tbody>\n",
       "</table>\n",
       "</div>"
      ],
      "text/plain": [
       "    number  take_profit  stop_loss  value_0   value_1  value_loss_to_profit\n",
       "0       54     0.304391   0.530411     8.34  0.550256              1.742535\n",
       "1       81     0.252802   0.534918     7.39  0.543838              2.115957\n",
       "2      140     0.155326   0.438250     5.56  0.493331              2.821478\n",
       "3      152     0.155326   0.412187     5.06  0.486972              2.653688\n",
       "4      162     0.419386   0.412546     9.84  0.592679              0.983689\n",
       "5      170     0.100320   0.222811     2.13  0.414335              2.221012\n",
       "6      179     0.304662   0.536906     8.34  0.550256              1.762301\n",
       "7      194     0.252802   0.534918     7.39  0.543838              2.115957\n",
       "8      196     0.304662   0.534918     8.34  0.550256              1.755775\n",
       "9      209     0.252802   0.542321     7.39  0.543838              2.145242\n",
       "10     215     0.304662   0.536906     8.34  0.550256              1.762301\n",
       "11     224     0.332218   0.291293     6.06  0.506060              0.876812\n",
       "12     278     0.131384   0.302628     4.92  0.437314              2.303394\n",
       "13     295     0.059537   0.222343     0.58  0.396197              3.734556\n",
       "14     330     0.155326   0.412187     5.06  0.486972              2.653688\n",
       "15     333     0.156352   0.438250     5.56  0.493331              2.802965\n",
       "16     334     0.419386   0.412546     9.84  0.592679              0.983689\n",
       "17     361     0.303932   0.423470     7.22  0.523128              1.393309\n",
       "18     372     0.424771   0.257603     8.84  0.551589              0.606450\n",
       "19     383     0.059537   0.222343     0.58  0.396197              3.734556"
      ]
     },
     "execution_count": 159,
     "metadata": {},
     "output_type": "execute_result"
    }
   ],
   "source": [
    "rows = []\n",
    "\n",
    "# print(study.best_trials[0])\n",
    "\n",
    "for x in study.best_trials:\n",
    "    row = []\n",
    "    row.append(x.number)\n",
    "    for _, v in x.params.items():\n",
    "        row.append(v)\n",
    "    for v in x.values:\n",
    "        row.append(v)\n",
    "    rows.append(row)\n",
    "\n",
    "headers = ['number']\n",
    "for k, _ in study.best_trials[0].params.items():\n",
    "    headers.append(k)\n",
    "\n",
    "for i, v in enumerate(study.best_trials[0].values):\n",
    "    headers.append(f\"value_{i}\")\n",
    "\n",
    "params_df = pd.DataFrame(rows, columns=headers)\n",
    "# params_df['value_2'] = np.log(params_df['value_0']/2)\n",
    "# params_df['value_3'] = params_df['value_1'] / params_df['value_2'] \n",
    "params_df.sort_values(['number'], ascending=False)[0:50]\n",
    "params_df['value_loss_to_profit'] = params_df['stop_loss'] / params_df['take_profit']\n",
    "# params_df.head(20).value_loss_to_profit.hist(bins=20)\n",
    "\n",
    "params_df.head(20)"
   ]
  },
  {
   "cell_type": "code",
   "execution_count": 160,
   "id": "86dc705b",
   "metadata": {},
   "outputs": [
    {
     "data": {
      "text/plain": [
       "{'trade_pnl': array([ 0.81,  0.54,  0.75,  0.66,  0.41, -0.94,  0.32,  0.5 ,  0.43,\n",
       "        -1.18,  0.49,  0.9 ,  0.6 , -0.7 , -0.58,  0.44,  0.36,  0.32,\n",
       "        -0.74,  0.43,  0.82,  0.59, -0.76,  0.48,  0.31, -0.7 ,  0.32,\n",
       "         0.4 ,  0.42, -0.51,  0.62, -0.56,  0.38, -0.52,  0.34,  0.3 ,\n",
       "         0.31,  0.6 ,  0.52,  0.51, -0.55, -0.84,  0.42, -0.86, -0.73,\n",
       "         0.53,  0.39,  0.36, -0.57, -0.63,  0.46,  0.36,  0.33,  0.54,\n",
       "         0.44,  0.34,  0.33,  0.41,  0.35, -0.53,  0.33, -0.61,  0.39,\n",
       "        -0.88, -0.52,  0.31, -0.59,  0.34, -0.56,  0.41,  0.45]),\n",
       " 'trade_pnl_total': 7.310000000000006,\n",
       " 'trades_winning_percent': 0.6901408450704225,\n",
       " 'trades_loosing_percent': 0.3098591549295775,\n",
       " 'trades_pnl_median': 0.35000000000000453,\n",
       " 'trades_pnl_mean': 0.10295774647887332,\n",
       " 'trades_pnl_std': 0.5487794250603515,\n",
       " 'trade_time_diff': array([ 35.05      , 287.33333333, 119.        , 515.25      ,\n",
       "        512.3       ,  49.33333333, 159.56666667,  49.66666667,\n",
       "          8.3       , 116.41666667, 308.16666667,  28.18333333,\n",
       "         11.18333333, 233.13333333,  68.58333333, 525.53333333,\n",
       "         17.78333333,  13.33333333, 192.86666667, 552.66666667,\n",
       "          8.51666667,  30.7       ,  16.7       ,  91.06666667,\n",
       "          8.15      ,  15.23333333,   3.31666667,  30.63333333,\n",
       "         82.26666667, 279.15      , 101.58333333,  90.01666667,\n",
       "         51.2       ,  29.73333333,  58.03333333,  20.58333333,\n",
       "         93.31666667, 103.2       ,  13.45      ,   7.83333333,\n",
       "         22.35      ,  41.53333333,  33.55      , 175.6       ,\n",
       "         54.28333333,  97.45      ,  51.65      ,  47.63333333,\n",
       "        242.95      ,  16.93333333,  16.2       ,  22.03333333,\n",
       "         16.56666667,  14.21666667,  55.7       ,  39.78333333,\n",
       "         89.21666667,  98.2       ,   9.91666667,  51.03333333,\n",
       "         19.75      ,  49.25      ,  24.85      ,  70.05      ,\n",
       "         18.66666667,   7.95      ,  51.45      ,  18.76666667,\n",
       "         40.25      ,  10.01666667,  25.46666667]),\n",
       " 'trade_time_geomean': 45.12016862201345}"
      ]
     },
     "execution_count": 160,
     "metadata": {},
     "output_type": "execute_result"
    }
   ],
   "source": [
    "run_simulation(\n",
    "    df=df, \n",
    "    take_profit=0.30,\n",
    "    stop_loss=0.50,\n",
    ")"
   ]
  }
 ],
 "metadata": {
  "kernelspec": {
   "display_name": "forecaster",
   "language": "python",
   "name": "forecaster"
  },
  "language_info": {
   "codemirror_mode": {
    "name": "ipython",
    "version": 3
   },
   "file_extension": ".py",
   "mimetype": "text/x-python",
   "name": "python",
   "nbconvert_exporter": "python",
   "pygments_lexer": "ipython3",
   "version": "3.9.7"
  }
 },
 "nbformat": 4,
 "nbformat_minor": 5
}
